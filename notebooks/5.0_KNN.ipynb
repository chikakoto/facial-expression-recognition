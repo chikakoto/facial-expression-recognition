{
 "cells": [
  {
   "cell_type": "code",
   "execution_count": 1,
   "id": "3d05c734",
   "metadata": {},
   "outputs": [],
   "source": [
    "import math\n",
    "import numpy as np\n",
    "import pandas as pd\n",
    "import seaborn as sns\n",
    "import matplotlib.pyplot as plt\n",
    "from numpy import interp\n",
    "\n",
    "from sklearn.model_selection import train_test_split\n",
    "from sklearn.pipeline import make_pipeline\n",
    "from sklearn.preprocessing import MinMaxScaler\n",
    "from sklearn.model_selection import GridSearchCV\n",
    "from sklearn.neighbors import KNeighborsClassifier as KNN\n",
    "\n",
    "from sklearn.metrics import confusion_matrix\n",
    "from sklearn.model_selection import learning_curve\n",
    "from sklearn.model_selection import validation_curve\n",
    "from sklearn.model_selection import cross_val_score, StratifiedKFold\n",
    "from sklearn.metrics import confusion_matrix, ConfusionMatrixDisplay\n",
    "from sklearn.metrics import precision_score, recall_score, f1_score, accuracy_score, classification_report\n",
    "from sklearn.metrics import roc_curve, auc\n",
    "\n",
    "from sklearn.dummy import DummyClassifier"
   ]
  },
  {
   "cell_type": "markdown",
   "id": "4d5ec9ba",
   "metadata": {},
   "source": [
    "# Load data"
   ]
  },
  {
   "cell_type": "code",
   "execution_count": 2,
   "id": "0cb35c1b",
   "metadata": {},
   "outputs": [],
   "source": [
    "emotion_labels = {0:'angry', 1:'disgust', 2:'fear', 3:'happy', 4:'sad', 5:'surprise', 6:'neutral'}\n",
    "target_labels = [val for key, val in emotion_labels.items()]\n",
    "targets = [key for key, val in emotion_labels.items()]"
   ]
  },
  {
   "cell_type": "code",
   "execution_count": 3,
   "id": "53e05b0d",
   "metadata": {},
   "outputs": [],
   "source": [
    "def load_data(df, data_type):\n",
    "    \"\"\"Load data from DataFrame and return data to list \n",
    "    \"\"\"\n",
    "    image_data = []\n",
    "    image_scaled = []\n",
    "    \n",
    "    for index, row in df.iterrows():\n",
    "        if data_type == 1:\n",
    "            field = row.pca\n",
    "        elif data_type == 2:\n",
    "            field = row.histogram\n",
    "        elif data_type == 3:\n",
    "            field = row.hog\n",
    "        elif data_type == 4:\n",
    "            field = row.lda\n",
    "        else:\n",
    "            field = row.pixels\n",
    "        image = np.fromstring(field, sep=' ')\n",
    "        image_data.append(image)\n",
    "        if data_type == 0:\n",
    "            scale = image / 255.0\n",
    "            image_scaled.append(scale)\n",
    "        \n",
    "    return image_data, image_scaled"
   ]
  },
  {
   "cell_type": "markdown",
   "id": "6d7bab95",
   "metadata": {},
   "source": [
    "# Grid Search with PCA data"
   ]
  },
  {
   "cell_type": "markdown",
   "id": "580cbd6c",
   "metadata": {},
   "source": [
    "Find out the good tuning for hyper parameter with PCA data because it takes long time to get result with original data."
   ]
  },
  {
   "cell_type": "code",
   "execution_count": 4,
   "id": "91d89dae",
   "metadata": {},
   "outputs": [
    {
     "data": {
      "text/html": [
       "<div>\n",
       "<style scoped>\n",
       "    .dataframe tbody tr th:only-of-type {\n",
       "        vertical-align: middle;\n",
       "    }\n",
       "\n",
       "    .dataframe tbody tr th {\n",
       "        vertical-align: top;\n",
       "    }\n",
       "\n",
       "    .dataframe thead th {\n",
       "        text-align: right;\n",
       "    }\n",
       "</style>\n",
       "<table border=\"1\" class=\"dataframe\">\n",
       "  <thead>\n",
       "    <tr style=\"text-align: right;\">\n",
       "      <th></th>\n",
       "      <th>usage</th>\n",
       "      <th>emotion</th>\n",
       "      <th>pca</th>\n",
       "    </tr>\n",
       "  </thead>\n",
       "  <tbody>\n",
       "    <tr>\n",
       "      <th>0</th>\n",
       "      <td>train</td>\n",
       "      <td>3</td>\n",
       "      <td>-0.4589713258466278 0.962093546388383 -0.55788...</td>\n",
       "    </tr>\n",
       "    <tr>\n",
       "      <th>1</th>\n",
       "      <td>train</td>\n",
       "      <td>3</td>\n",
       "      <td>0.49198604184990685 -1.0021801630235339 0.2740...</td>\n",
       "    </tr>\n",
       "    <tr>\n",
       "      <th>2</th>\n",
       "      <td>train</td>\n",
       "      <td>3</td>\n",
       "      <td>-0.9419501076570959 1.4385249489843621 0.29373...</td>\n",
       "    </tr>\n",
       "    <tr>\n",
       "      <th>3</th>\n",
       "      <td>train</td>\n",
       "      <td>3</td>\n",
       "      <td>-1.2800578618783192 0.23932335345423272 0.4704...</td>\n",
       "    </tr>\n",
       "    <tr>\n",
       "      <th>4</th>\n",
       "      <td>train</td>\n",
       "      <td>3</td>\n",
       "      <td>0.10681625087574084 -0.7089926999517396 0.3826...</td>\n",
       "    </tr>\n",
       "  </tbody>\n",
       "</table>\n",
       "</div>"
      ],
      "text/plain": [
       "   usage  emotion                                                pca\n",
       "0  train        3  -0.4589713258466278 0.962093546388383 -0.55788...\n",
       "1  train        3  0.49198604184990685 -1.0021801630235339 0.2740...\n",
       "2  train        3  -0.9419501076570959 1.4385249489843621 0.29373...\n",
       "3  train        3  -1.2800578618783192 0.23932335345423272 0.4704...\n",
       "4  train        3  0.10681625087574084 -0.7089926999517396 0.3826..."
      ]
     },
     "execution_count": 4,
     "metadata": {},
     "output_type": "execute_result"
    }
   ],
   "source": [
    "df = pd.read_csv('data/pca/fer_pca.csv')\n",
    "df.head()"
   ]
  },
  {
   "cell_type": "code",
   "execution_count": 5,
   "id": "dca26356",
   "metadata": {},
   "outputs": [],
   "source": [
    "df_train = df[df['usage']=='train']\n",
    "df_test = df[df['usage']=='test']\n",
    "train_data, train_scaled = load_data(df_train, 1)\n",
    "train_target = list(df_train.emotion)\n",
    "test_data, test_scaled = load_data(df_test, 1)\n",
    "test_target = list(df_test.emotion)"
   ]
  },
  {
   "cell_type": "code",
   "execution_count": 6,
   "id": "a0866018",
   "metadata": {},
   "outputs": [],
   "source": [
    "X_train = np.array(train_data)\n",
    "y_train = np.array(train_target)\n",
    "X_test = np.array(test_data)\n",
    "y_test = np.array(test_target)"
   ]
  },
  {
   "cell_type": "code",
   "execution_count": 7,
   "id": "5954d53a",
   "metadata": {},
   "outputs": [
    {
     "name": "stdout",
     "output_type": "stream",
     "text": [
      "(31432, 103)\n",
      "(31432,)\n",
      "(7896, 103)\n",
      "(7896,)\n"
     ]
    }
   ],
   "source": [
    "print(X_train.shape)\n",
    "print(y_train.shape)\n",
    "print(X_test.shape)\n",
    "print(y_test.shape)"
   ]
  },
  {
   "cell_type": "markdown",
   "id": "dd401d0a",
   "metadata": {},
   "source": [
    "## Find out which hyper parameters are best"
   ]
  },
  {
   "cell_type": "code",
   "execution_count": 10,
   "id": "0462facd",
   "metadata": {},
   "outputs": [],
   "source": [
    "param_grid = [{'n_neighbors': [1, 3, 5, 10, 50, 100, 500, 1000],\n",
    "               'weights': ['uniform', 'distance'], \n",
    "               'metric': ['minkowski', 'euclidean', 'manhattan']}]\n",
    "\n",
    "knn = KNN()\n",
    "\n",
    "gs = GridSearchCV(estimator=knn, \n",
    "                  param_grid=param_grid, \n",
    "                  scoring='accuracy', \n",
    "                  refit=True,\n",
    "                  cv=10,\n",
    "                  n_jobs=-1)\n",
    "clf = gs.fit(X_train, y_train)"
   ]
  },
  {
   "cell_type": "code",
   "execution_count": 11,
   "id": "82d8cb53",
   "metadata": {},
   "outputs": [
    {
     "name": "stdout",
     "output_type": "stream",
     "text": [
      "0.43983859078577625\n",
      "{'metric': 'minkowski', 'n_neighbors': 3, 'weights': 'distance'}\n",
      "Test accuracy: 0.449\n"
     ]
    }
   ],
   "source": [
    "print(clf.best_score_)\n",
    "print(clf.best_params_)\n",
    "result = clf.best_estimator_\n",
    "print('Test accuracy: %.3f' % result.score(X_test, y_test))"
   ]
  },
  {
   "cell_type": "markdown",
   "id": "bc6c5883",
   "metadata": {},
   "source": [
    "Following comparison use n_neighbors as 3, distance weights, and minkowski metric."
   ]
  },
  {
   "cell_type": "markdown",
   "id": "a3995d48",
   "metadata": {},
   "source": [
    "# KNN with original dataset"
   ]
  },
  {
   "cell_type": "code",
   "execution_count": 58,
   "id": "168fd43f",
   "metadata": {},
   "outputs": [
    {
     "data": {
      "text/html": [
       "<div>\n",
       "<style scoped>\n",
       "    .dataframe tbody tr th:only-of-type {\n",
       "        vertical-align: middle;\n",
       "    }\n",
       "\n",
       "    .dataframe tbody tr th {\n",
       "        vertical-align: top;\n",
       "    }\n",
       "\n",
       "    .dataframe thead th {\n",
       "        text-align: right;\n",
       "    }\n",
       "</style>\n",
       "<table border=\"1\" class=\"dataframe\">\n",
       "  <thead>\n",
       "    <tr style=\"text-align: right;\">\n",
       "      <th></th>\n",
       "      <th>usage</th>\n",
       "      <th>emotion</th>\n",
       "      <th>pixels</th>\n",
       "    </tr>\n",
       "  </thead>\n",
       "  <tbody>\n",
       "    <tr>\n",
       "      <th>0</th>\n",
       "      <td>train</td>\n",
       "      <td>3</td>\n",
       "      <td>108 83 63 65 89 111 121 121 125 111 103 105 11...</td>\n",
       "    </tr>\n",
       "    <tr>\n",
       "      <th>1</th>\n",
       "      <td>train</td>\n",
       "      <td>3</td>\n",
       "      <td>137 142 159 162 158 134 113 167 174 177 164 12...</td>\n",
       "    </tr>\n",
       "    <tr>\n",
       "      <th>2</th>\n",
       "      <td>train</td>\n",
       "      <td>3</td>\n",
       "      <td>111 148 155 167 181 191 194 193 195 199 203 20...</td>\n",
       "    </tr>\n",
       "    <tr>\n",
       "      <th>3</th>\n",
       "      <td>train</td>\n",
       "      <td>3</td>\n",
       "      <td>151 156 121 100 80 116 151 169 183 185 192 190...</td>\n",
       "    </tr>\n",
       "    <tr>\n",
       "      <th>4</th>\n",
       "      <td>train</td>\n",
       "      <td>3</td>\n",
       "      <td>248 187 149 130 97 140 139 117 197 251 231 255...</td>\n",
       "    </tr>\n",
       "  </tbody>\n",
       "</table>\n",
       "</div>"
      ],
      "text/plain": [
       "   usage  emotion                                             pixels\n",
       "0  train        3  108 83 63 65 89 111 121 121 125 111 103 105 11...\n",
       "1  train        3  137 142 159 162 158 134 113 167 174 177 164 12...\n",
       "2  train        3  111 148 155 167 181 191 194 193 195 199 203 20...\n",
       "3  train        3  151 156 121 100 80 116 151 169 183 185 192 190...\n",
       "4  train        3  248 187 149 130 97 140 139 117 197 251 231 255..."
      ]
     },
     "execution_count": 58,
     "metadata": {},
     "output_type": "execute_result"
    }
   ],
   "source": [
    "df = pd.read_csv('data/fer_data.csv')\n",
    "df.head()"
   ]
  },
  {
   "cell_type": "code",
   "execution_count": 59,
   "id": "a4d49518",
   "metadata": {},
   "outputs": [],
   "source": [
    "df_train = df[df['usage']=='train']\n",
    "df_test = df[df['usage']=='test']\n",
    "train_data, train_scaled = load_data(df_train, 0)\n",
    "train_target = list(df_train.emotion)\n",
    "test_data, test_scaled = load_data(df_test, 0)\n",
    "test_target = list(df_test.emotion)"
   ]
  },
  {
   "cell_type": "code",
   "execution_count": 60,
   "id": "520a1c62",
   "metadata": {},
   "outputs": [],
   "source": [
    "X_train = np.array(train_data)\n",
    "y_train = np.array(train_target)\n",
    "X_test = np.array(test_data)\n",
    "y_test = np.array(test_target)"
   ]
  },
  {
   "cell_type": "code",
   "execution_count": 61,
   "id": "07bec56b",
   "metadata": {},
   "outputs": [
    {
     "name": "stdout",
     "output_type": "stream",
     "text": [
      "(31432, 2304)\n",
      "(31432,)\n",
      "(7896, 2304)\n",
      "(7896,)\n"
     ]
    }
   ],
   "source": [
    "print(X_train.shape)\n",
    "print(y_train.shape)\n",
    "print(X_test.shape)\n",
    "print(y_test.shape)"
   ]
  },
  {
   "cell_type": "code",
   "execution_count": 62,
   "id": "3df6b187",
   "metadata": {},
   "outputs": [
    {
     "name": "stdout",
     "output_type": "stream",
     "text": [
      "Test Accuracy: 0.452\n"
     ]
    }
   ],
   "source": [
    "knn = KNN(n_neighbors=3, weights='distance', metric='minkowski')\n",
    "knn.fit(X_train, y_train)\n",
    "y_pred = knn.predict(X_test)\n",
    "print('Train Accuracy: %.3f' % knn.score(X_train, y_train))\n",
    "print('Test Accuracy: %.3f' % knn.score(X_test, y_test))"
   ]
  },
  {
   "cell_type": "code",
   "execution_count": 63,
   "id": "a821e1ba",
   "metadata": {},
   "outputs": [],
   "source": [
    "orig_predictions = [y_pred]\n",
    "orig_actuals = [y_test]"
   ]
  },
  {
   "cell_type": "code",
   "execution_count": 64,
   "id": "efe821a4",
   "metadata": {},
   "outputs": [],
   "source": [
    "# Scaled data\n",
    "X_train = np.array(train_scaled)\n",
    "y_train = np.array(train_target)\n",
    "X_test = np.array(test_scaled)\n",
    "y_test = np.array(test_target)"
   ]
  },
  {
   "cell_type": "code",
   "execution_count": 65,
   "id": "d2912b5b",
   "metadata": {},
   "outputs": [
    {
     "name": "stdout",
     "output_type": "stream",
     "text": [
      "Test Accuracy: 0.452\n"
     ]
    }
   ],
   "source": [
    "knn = KNN(n_neighbors=3, weights='distance', metric='minkowski')\n",
    "knn.fit(X_train, y_train)\n",
    "y_pred = knn.predict(X_test)\n",
    "print('Train Accuracy: %.3f' % knn.score(X_train, y_train))\n",
    "print('Test Accuracy: %.3f' % knn.score(X_test, y_test))"
   ]
  },
  {
   "cell_type": "code",
   "execution_count": 66,
   "id": "b5e97564",
   "metadata": {},
   "outputs": [],
   "source": [
    "orig_predictions.append(y_pred)\n",
    "orig_actuals.append(y_test)"
   ]
  },
  {
   "cell_type": "markdown",
   "id": "67bdba9f",
   "metadata": {},
   "source": [
    "## Evaluation"
   ]
  },
  {
   "cell_type": "markdown",
   "id": "a5992fe7",
   "metadata": {},
   "source": [
    "### Confusion matrix"
   ]
  },
  {
   "cell_type": "code",
   "execution_count": 8,
   "id": "958459f4",
   "metadata": {},
   "outputs": [],
   "source": [
    "def show_confusion_matrix(confmat):\n",
    "    \"\"\"Display confusion matrix with percent values \n",
    "    \"\"\"\n",
    "    \n",
    "    confmat = confmat/np.sum(confmat) * 100\n",
    "    \n",
    "    fig, ax = plt.subplots(figsize=(8, 5))\n",
    "    ax.matshow(confmat, cmap=plt.cm.Blues, alpha=0.3)\n",
    "    for i in range(confmat.shape[0]):\n",
    "        for j in range(confmat.shape[1]):\n",
    "            percent = \"{:.2f}\".format(confmat[i, j])\n",
    "            ax.text(x=j, y=i, s=percent+'%', va='center', ha='center')\n",
    "\n",
    "\n",
    "    ax.set_xticklabels([''] + target_labels)\n",
    "    ax.set_yticklabels([''] + target_labels)\n",
    "    plt.xlabel('Predicted label')\n",
    "    plt.ylabel('True label')\n",
    "\n",
    "    plt.tight_layout()\n",
    "    plt.show()"
   ]
  },
  {
   "cell_type": "code",
   "execution_count": 102,
   "id": "87b5ac9e",
   "metadata": {},
   "outputs": [
    {
     "name": "stderr",
     "output_type": "stream",
     "text": [
      "C:\\Users\\CREATE\\AppData\\Local\\Temp\\ipykernel_11344\\3629548759.py:10: UserWarning: FixedFormatter should only be used together with FixedLocator\n",
      "  ax.set_xticklabels([''] + target_labels)\n",
      "C:\\Users\\CREATE\\AppData\\Local\\Temp\\ipykernel_11344\\3629548759.py:11: UserWarning: FixedFormatter should only be used together with FixedLocator\n",
      "  ax.set_yticklabels([''] + target_labels)\n"
     ]
    },
    {
     "data": {
      "image/png": "[encoded data removed]",
      "text/plain": [
       "<Figure size 576x360 with 1 Axes>"
      ]
     },
     "metadata": {
      "needs_background": "light"
     },
     "output_type": "display_data"
    }
   ],
   "source": [
    "i = 0\n",
    "confmat = confusion_matrix(y_true=orig_actuals[i], y_pred=orig_predictions[i], labels=targets)\n",
    "show_confusion_matrix(confmat)"
   ]
  },
  {
   "cell_type": "markdown",
   "id": "ec66a9f2",
   "metadata": {},
   "source": [
    "### Parformance matrics & Classification reports"
   ]
  },
  {
   "cell_type": "code",
   "execution_count": 69,
   "id": "c85eae19",
   "metadata": {},
   "outputs": [
    {
     "name": "stdout",
     "output_type": "stream",
     "text": [
      "Precision: 0.463\n",
      "Recall: 0.479\n",
      "F1: 0.466\n",
      "Accuracy: 0.452\n",
      "              precision    recall  f1-score   support\n",
      "\n",
      "       angry       0.36      0.28      0.32       957\n",
      "     disgust       0.78      1.00      0.87       830\n",
      "        fear       0.40      0.36      0.38      1024\n",
      "       happy       0.44      0.41      0.43      1774\n",
      "         sad       0.35      0.29      0.32      1247\n",
      "    surprise       0.59      0.59      0.59       831\n",
      "     neutral       0.31      0.43      0.36      1233\n",
      "\n",
      "    accuracy                           0.45      7896\n",
      "   macro avg       0.46      0.48      0.47      7896\n",
      "weighted avg       0.44      0.45      0.44      7896\n",
      "\n"
     ]
    }
   ],
   "source": [
    "i = 0\n",
    "print('Precision: %.3f' % precision_score(y_true=orig_actuals[i], y_pred=orig_predictions[i], average='macro'))\n",
    "print('Recall: %.3f' % recall_score(y_true=orig_actuals[i], y_pred=orig_predictions[i], average='macro'))\n",
    "print('F1: %.3f' % f1_score(y_true=orig_actuals[i], y_pred=orig_predictions[i], average='macro'))\n",
    "print('Accuracy: %.3f' % accuracy_score(y_true=orig_actuals[i], y_pred=orig_predictions[i]))\n",
    "print(classification_report(y_true=orig_actuals[i], y_pred=orig_predictions[i], target_names=target_labels))"
   ]
  },
  {
   "cell_type": "code",
   "execution_count": 70,
   "id": "a385ee26",
   "metadata": {},
   "outputs": [
    {
     "name": "stdout",
     "output_type": "stream",
     "text": [
      "Precision: 0.463\n",
      "Recall: 0.479\n",
      "F1: 0.466\n",
      "Accuracy: 0.452\n",
      "              precision    recall  f1-score   support\n",
      "\n",
      "       angry       0.36      0.28      0.32       957\n",
      "     disgust       0.78      1.00      0.87       830\n",
      "        fear       0.40      0.36      0.38      1024\n",
      "       happy       0.44      0.41      0.43      1774\n",
      "         sad       0.35      0.29      0.32      1247\n",
      "    surprise       0.59      0.59      0.59       831\n",
      "     neutral       0.31      0.43      0.36      1233\n",
      "\n",
      "    accuracy                           0.45      7896\n",
      "   macro avg       0.46      0.48      0.47      7896\n",
      "weighted avg       0.44      0.45      0.44      7896\n",
      "\n"
     ]
    }
   ],
   "source": [
    "i = 1\n",
    "print('Precision: %.3f' % precision_score(y_true=orig_actuals[i], y_pred=orig_predictions[i], average='macro'))\n",
    "print('Recall: %.3f' % recall_score(y_true=orig_actuals[i], y_pred=orig_predictions[i], average='macro'))\n",
    "print('F1: %.3f' % f1_score(y_true=orig_actuals[i], y_pred=orig_predictions[i], average='macro'))\n",
    "print('Accuracy: %.3f' % accuracy_score(y_true=orig_actuals[i], y_pred=orig_predictions[i]))\n",
    "print(classification_report(y_true=orig_actuals[i], y_pred=orig_predictions[i], target_names=target_labels))"
   ]
  },
  {
   "cell_type": "markdown",
   "id": "bb6c053f",
   "metadata": {},
   "source": [
    "# KNN with PCA"
   ]
  },
  {
   "cell_type": "code",
   "execution_count": 5,
   "id": "a9758b46",
   "metadata": {},
   "outputs": [],
   "source": [
    "def processKNN(csv, data_type):\n",
    "    \"\"\"Process KNN for each csv data\n",
    "    \"\"\"\n",
    "    print(csv)\n",
    "    df = pd.read_csv(csv)\n",
    "    df.head()\n",
    "    \n",
    "    df_train = df[df['usage']=='train']\n",
    "    df_test = df[df['usage']=='test']\n",
    "    train_data, train_scaled = load_data(df_train, data_type)\n",
    "    train_target = list(df_train.emotion)\n",
    "    test_data, test_scaled = load_data(df_test, data_type)\n",
    "    test_target = list(df_test.emotion)\n",
    "    \n",
    "    X_train = np.array(train_data)\n",
    "    y_train = np.array(train_target)\n",
    "    X_test = np.array(test_data)\n",
    "    y_test = np.array(test_target)\n",
    "    \n",
    "    print(X_train.shape)\n",
    "    print(y_train.shape)\n",
    "    print(X_test.shape)\n",
    "    print(y_test.shape)\n",
    "    \n",
    "    knn = KNN(n_neighbors=3, weights='distance', metric='minkowski')\n",
    "    knn.fit(X_train, y_train)\n",
    "    y_pred = knn.predict(X_test)\n",
    "    print('Train Accuracy: %.3f' % knn.score(X_train, y_train))\n",
    "    print('Test Accuracy: %.3f' % knn.score(X_test, y_test))\n",
    "    \n",
    "    return y_pred, y_test"
   ]
  },
  {
   "cell_type": "code",
   "execution_count": 115,
   "id": "4e94fd0f",
   "metadata": {},
   "outputs": [],
   "source": [
    "csv_list = ['data/pca/fer_pca.csv', 'data/pca/fer_pca_inverse.csv', 'data/pca/fer_pca_norm.csv', \n",
    "            'data/pca/fer_pca_std.csv', 'data/pca/fer_pca_scaled.csv']"
   ]
  },
  {
   "cell_type": "code",
   "execution_count": 76,
   "id": "dfdefb3f",
   "metadata": {},
   "outputs": [
    {
     "name": "stdout",
     "output_type": "stream",
     "text": [
      "data/pca/fer_pca.csv\n",
      "(31432, 103)\n",
      "(31432,)\n",
      "(7896, 103)\n",
      "(7896,)\n",
      "Test Accuracy: 0.449\n",
      "data/pca/fer_pca_inverse.csv\n",
      "(31432, 2304)\n",
      "(31432,)\n",
      "(7896, 2304)\n",
      "(7896,)\n",
      "Test Accuracy: 0.465\n",
      "data/pca/fer_pca_norm.csv\n",
      "(31432, 157)\n",
      "(31432,)\n",
      "(7896, 157)\n",
      "(7896,)\n",
      "Test Accuracy: 0.437\n",
      "data/pca/fer_pca_std.csv\n",
      "(31432, 112)\n",
      "(31432,)\n",
      "(7896, 112)\n",
      "(7896,)\n",
      "Test Accuracy: 0.460\n",
      "data/pca/fer_pca_scaled.csv\n",
      "(31432, 103)\n",
      "(31432,)\n",
      "(7896, 103)\n",
      "(7896,)\n",
      "Test Accuracy: 0.449\n"
     ]
    }
   ],
   "source": [
    "pca_predictions = []\n",
    "pca_actuals = []\n",
    "for i in range(len(csv_list)):\n",
    "    pred, act = processKNN(csv_list[i], 1)\n",
    "    pca_predictions.append(pred)\n",
    "    pca_actuals.append(act)"
   ]
  },
  {
   "cell_type": "markdown",
   "id": "3d4c4eb8",
   "metadata": {},
   "source": [
    "## Evaluation"
   ]
  },
  {
   "cell_type": "markdown",
   "id": "95fa69d9",
   "metadata": {},
   "source": [
    "### Confusion matrix"
   ]
  },
  {
   "cell_type": "code",
   "execution_count": 103,
   "id": "6cc3e093",
   "metadata": {},
   "outputs": [
    {
     "name": "stderr",
     "output_type": "stream",
     "text": [
      "C:\\Users\\CREATE\\AppData\\Local\\Temp\\ipykernel_11344\\3629548759.py:10: UserWarning: FixedFormatter should only be used together with FixedLocator\n",
      "  ax.set_xticklabels([''] + target_labels)\n",
      "C:\\Users\\CREATE\\AppData\\Local\\Temp\\ipykernel_11344\\3629548759.py:11: UserWarning: FixedFormatter should only be used together with FixedLocator\n",
      "  ax.set_yticklabels([''] + target_labels)\n"
     ]
    },
    {
     "data": {
      "image/png": "[encoded data removed]",
      "text/plain": [
       "<Figure size 576x360 with 1 Axes>"
      ]
     },
     "metadata": {
      "needs_background": "light"
     },
     "output_type": "display_data"
    }
   ],
   "source": [
    "# Show only the best one \n",
    "i = 1\n",
    "confmat = confusion_matrix(y_true=pca_actuals[i], y_pred=pca_predictions[i], labels=targets)\n",
    "show_confusion_matrix(confmat)"
   ]
  },
  {
   "cell_type": "markdown",
   "id": "022f409f",
   "metadata": {},
   "source": [
    "### Performance matrics & Classification reports"
   ]
  },
  {
   "cell_type": "code",
   "execution_count": 9,
   "id": "57ade953",
   "metadata": {},
   "outputs": [],
   "source": [
    "def showPerformance(predictions, actuals):\n",
    "    \"\"\"Display performance of each result\n",
    "    \"\"\"\n",
    "    for i in range(len(csv_list)):\n",
    "        print(csv_list[i])\n",
    "        print('Precision: %.3f' % precision_score(y_true=actuals[i], y_pred=predictions[i], average='macro'))\n",
    "        print('Recall: %.3f' % recall_score(y_true=actuals[i], y_pred=predictions[i], average='macro'))\n",
    "        print('F1: %.3f' % f1_score(y_true=actuals[i], y_pred=predictions[i], average='macro'))\n",
    "        print('Accuracy: %.3f' % accuracy_score(y_true=actuals[i], y_pred=predictions[i]))\n",
    "        print('Classification reports')\n",
    "        print(classification_report(actuals[i], predictions[i], target_names=list(target_labels)))"
   ]
  },
  {
   "cell_type": "code",
   "execution_count": 116,
   "id": "450d55f9",
   "metadata": {},
   "outputs": [
    {
     "name": "stdout",
     "output_type": "stream",
     "text": [
      "data/pca/fer_pca.csv\n",
      "Precision: 0.465\n",
      "Recall: 0.475\n",
      "F1: 0.462\n",
      "Accuracy: 0.449\n",
      "Classification reports\n",
      "              precision    recall  f1-score   support\n",
      "\n",
      "       angry       0.37      0.26      0.31       957\n",
      "     disgust       0.77      1.00      0.87       830\n",
      "        fear       0.36      0.35      0.36      1024\n",
      "       happy       0.50      0.40      0.45      1774\n",
      "         sad       0.36      0.29      0.32      1247\n",
      "    surprise       0.59      0.57      0.58       831\n",
      "     neutral       0.29      0.46      0.35      1233\n",
      "\n",
      "    accuracy                           0.45      7896\n",
      "   macro avg       0.47      0.48      0.46      7896\n",
      "weighted avg       0.45      0.45      0.44      7896\n",
      "\n",
      "data/pca/fer_pca_inverse.csv\n",
      "Precision: 0.472\n",
      "Recall: 0.491\n",
      "F1: 0.478\n",
      "Accuracy: 0.465\n",
      "Classification reports\n",
      "              precision    recall  f1-score   support\n",
      "\n",
      "       angry       0.37      0.31      0.33       957\n",
      "     disgust       0.79      1.00      0.88       830\n",
      "        fear       0.41      0.37      0.39      1024\n",
      "       happy       0.45      0.44      0.45      1774\n",
      "         sad       0.37      0.30      0.33      1247\n",
      "    surprise       0.58      0.62      0.60       831\n",
      "     neutral       0.33      0.41      0.37      1233\n",
      "\n",
      "    accuracy                           0.46      7896\n",
      "   macro avg       0.47      0.49      0.48      7896\n",
      "weighted avg       0.45      0.46      0.46      7896\n",
      "\n",
      "data/pca/fer_pca_norm.csv\n",
      "Precision: 0.446\n",
      "Recall: 0.464\n",
      "F1: 0.446\n",
      "Accuracy: 0.437\n",
      "Classification reports\n",
      "              precision    recall  f1-score   support\n",
      "\n",
      "       angry       0.39      0.24      0.29       957\n",
      "     disgust       0.81      1.00      0.90       830\n",
      "        fear       0.32      0.36      0.34      1024\n",
      "       happy       0.48      0.41      0.44      1774\n",
      "         sad       0.36      0.22      0.27      1247\n",
      "    surprise       0.47      0.59      0.52       831\n",
      "     neutral       0.30      0.43      0.35      1233\n",
      "\n",
      "    accuracy                           0.44      7896\n",
      "   macro avg       0.45      0.46      0.45      7896\n",
      "weighted avg       0.43      0.44      0.43      7896\n",
      "\n",
      "data/pca/fer_pca_std.csv\n",
      "Precision: 0.485\n",
      "Recall: 0.485\n",
      "F1: 0.476\n",
      "Accuracy: 0.460\n",
      "Classification reports\n",
      "              precision    recall  f1-score   support\n",
      "\n",
      "       angry       0.38      0.27      0.31       957\n",
      "     disgust       0.82      1.00      0.90       830\n",
      "        fear       0.38      0.36      0.37      1024\n",
      "       happy       0.53      0.41      0.46      1774\n",
      "         sad       0.37      0.28      0.32      1247\n",
      "    surprise       0.63      0.58      0.60       831\n",
      "     neutral       0.29      0.50      0.36      1233\n",
      "\n",
      "    accuracy                           0.46      7896\n",
      "   macro avg       0.48      0.48      0.48      7896\n",
      "weighted avg       0.47      0.46      0.46      7896\n",
      "\n",
      "data/pca/fer_pca_scaled.csv\n",
      "Precision: 0.466\n",
      "Recall: 0.475\n",
      "F1: 0.463\n",
      "Accuracy: 0.449\n",
      "Classification reports\n",
      "              precision    recall  f1-score   support\n",
      "\n",
      "       angry       0.38      0.27      0.31       957\n",
      "     disgust       0.78      1.00      0.88       830\n",
      "        fear       0.36      0.34      0.35      1024\n",
      "       happy       0.51      0.41      0.45      1774\n",
      "         sad       0.34      0.27      0.30      1247\n",
      "    surprise       0.61      0.57      0.59       831\n",
      "     neutral       0.29      0.47      0.36      1233\n",
      "\n",
      "    accuracy                           0.45      7896\n",
      "   macro avg       0.47      0.47      0.46      7896\n",
      "weighted avg       0.45      0.45      0.44      7896\n",
      "\n"
     ]
    }
   ],
   "source": [
    "showPerformance(pca_predictions, pca_actuals)"
   ]
  },
  {
   "cell_type": "markdown",
   "id": "0f08b0ee",
   "metadata": {},
   "source": [
    "# KNN with FisherFace"
   ]
  },
  {
   "cell_type": "code",
   "execution_count": 12,
   "id": "538b4612",
   "metadata": {},
   "outputs": [],
   "source": [
    "csv_list = ['data/lda/fer_lda.csv', 'data/lda/fer_lda_norm.csv', 'data/lda/fer_lda_std.csv', 'data/lda/fer_lda_scaled.csv']"
   ]
  },
  {
   "cell_type": "code",
   "execution_count": 13,
   "id": "3bda8880",
   "metadata": {},
   "outputs": [
    {
     "name": "stdout",
     "output_type": "stream",
     "text": [
      "data/lda/fer_lda.csv\n",
      "(31432, 6)\n",
      "(31432,)\n",
      "(7896, 6)\n",
      "(7896,)\n",
      "Train Accuracy: 0.998\n",
      "Test Accuracy: 0.417\n",
      "data/lda/fer_lda_norm.csv\n",
      "(31432, 6)\n",
      "(31432,)\n",
      "(7896, 6)\n",
      "(7896,)\n",
      "Train Accuracy: 0.998\n",
      "Test Accuracy: 0.414\n",
      "data/lda/fer_lda_std.csv\n",
      "(31432, 6)\n",
      "(31432,)\n",
      "(7896, 6)\n",
      "(7896,)\n",
      "Train Accuracy: 0.998\n",
      "Test Accuracy: 0.422\n",
      "data/lda/fer_lda_scaled.csv\n",
      "(31432, 6)\n",
      "(31432,)\n",
      "(7896, 6)\n",
      "(7896,)\n",
      "Train Accuracy: 0.998\n",
      "Test Accuracy: 0.418\n"
     ]
    }
   ],
   "source": [
    "lda_predictions = []\n",
    "lda_actuals = []\n",
    "for i in range(len(csv_list)):\n",
    "    pred, act = processKNN(csv_list[i], 4)\n",
    "    lda_predictions.append(pred)\n",
    "    lda_actuals.append(act)"
   ]
  },
  {
   "cell_type": "markdown",
   "id": "47dcf41d",
   "metadata": {},
   "source": [
    "## Evaluation"
   ]
  },
  {
   "cell_type": "markdown",
   "id": "138cb5af",
   "metadata": {},
   "source": [
    "### Confusion matrix"
   ]
  },
  {
   "cell_type": "code",
   "execution_count": 14,
   "id": "3b26587f",
   "metadata": {
    "scrolled": false
   },
   "outputs": [
    {
     "name": "stderr",
     "output_type": "stream",
     "text": [
      "C:\\Users\\CREATE\\AppData\\Local\\Temp\\ipykernel_11516\\2811923800.py:15: UserWarning: FixedFormatter should only be used together with FixedLocator\n",
      "  ax.set_xticklabels([''] + target_labels)\n",
      "C:\\Users\\CREATE\\AppData\\Local\\Temp\\ipykernel_11516\\2811923800.py:16: UserWarning: FixedFormatter should only be used together with FixedLocator\n",
      "  ax.set_yticklabels([''] + target_labels)\n"
     ]
    },
    {
     "data": {
      "image/png": "[encoded data removed]",
      "text/plain": [
       "<Figure size 576x360 with 1 Axes>"
      ]
     },
     "metadata": {
      "needs_background": "light"
     },
     "output_type": "display_data"
    }
   ],
   "source": [
    "# Show only the best one \n",
    "i = 2\n",
    "confmat = confusion_matrix(y_true=lda_actuals[i], y_pred=lda_predictions[i], labels=targets)\n",
    "show_confusion_matrix(confmat)"
   ]
  },
  {
   "cell_type": "markdown",
   "id": "0fc5c06e",
   "metadata": {},
   "source": [
    "### Parformance matrics & Classification reports"
   ]
  },
  {
   "cell_type": "code",
   "execution_count": 15,
   "id": "df4d7ae9",
   "metadata": {
    "scrolled": false
   },
   "outputs": [
    {
     "name": "stdout",
     "output_type": "stream",
     "text": [
      "data/lda/fer_lda.csv\n",
      "Precision: 0.416\n",
      "Recall: 0.437\n",
      "F1: 0.426\n",
      "Accuracy: 0.417\n",
      "Classification reports\n",
      "              precision    recall  f1-score   support\n",
      "\n",
      "       angry       0.25      0.25      0.25       957\n",
      "     disgust       0.83      1.00      0.91       830\n",
      "        fear       0.27      0.26      0.27      1024\n",
      "       happy       0.47      0.47      0.47      1774\n",
      "         sad       0.29      0.26      0.28      1247\n",
      "    surprise       0.49      0.52      0.51       831\n",
      "     neutral       0.31      0.30      0.31      1233\n",
      "\n",
      "    accuracy                           0.42      7896\n",
      "   macro avg       0.42      0.44      0.43      7896\n",
      "weighted avg       0.40      0.42      0.41      7896\n",
      "\n",
      "data/lda/fer_lda_norm.csv\n",
      "Precision: 0.412\n",
      "Recall: 0.435\n",
      "F1: 0.422\n",
      "Accuracy: 0.414\n",
      "Classification reports\n",
      "              precision    recall  f1-score   support\n",
      "\n",
      "       angry       0.26      0.25      0.25       957\n",
      "     disgust       0.81      1.00      0.89       830\n",
      "        fear       0.29      0.28      0.28      1024\n",
      "       happy       0.46      0.46      0.46      1774\n",
      "         sad       0.28      0.25      0.26      1247\n",
      "    surprise       0.48      0.52      0.50       831\n",
      "     neutral       0.31      0.30      0.30      1233\n",
      "\n",
      "    accuracy                           0.41      7896\n",
      "   macro avg       0.41      0.44      0.42      7896\n",
      "weighted avg       0.40      0.41      0.41      7896\n",
      "\n",
      "data/lda/fer_lda_std.csv\n",
      "Precision: 0.419\n",
      "Recall: 0.440\n",
      "F1: 0.428\n",
      "Accuracy: 0.422\n",
      "Classification reports\n",
      "              precision    recall  f1-score   support\n",
      "\n",
      "       angry       0.25      0.23      0.24       957\n",
      "     disgust       0.81      1.00      0.89       830\n",
      "        fear       0.30      0.29      0.29      1024\n",
      "       happy       0.46      0.49      0.47      1774\n",
      "         sad       0.29      0.28      0.28      1247\n",
      "    surprise       0.51      0.52      0.52       831\n",
      "     neutral       0.31      0.29      0.30      1233\n",
      "\n",
      "    accuracy                           0.42      7896\n",
      "   macro avg       0.42      0.44      0.43      7896\n",
      "weighted avg       0.41      0.42      0.41      7896\n",
      "\n",
      "data/lda/fer_lda_scaled.csv\n",
      "Precision: 0.417\n",
      "Recall: 0.437\n",
      "F1: 0.426\n",
      "Accuracy: 0.418\n",
      "Classification reports\n",
      "              precision    recall  f1-score   support\n",
      "\n",
      "       angry       0.24      0.23      0.24       957\n",
      "     disgust       0.82      1.00      0.90       830\n",
      "        fear       0.26      0.26      0.26      1024\n",
      "       happy       0.47      0.47      0.47      1774\n",
      "         sad       0.29      0.26      0.27      1247\n",
      "    surprise       0.51      0.52      0.52       831\n",
      "     neutral       0.32      0.31      0.32      1233\n",
      "\n",
      "    accuracy                           0.42      7896\n",
      "   macro avg       0.42      0.44      0.43      7896\n",
      "weighted avg       0.40      0.42      0.41      7896\n",
      "\n"
     ]
    }
   ],
   "source": [
    "showPerformance(lda_predictions, lda_actuals)"
   ]
  },
  {
   "cell_type": "markdown",
   "id": "8fa9e846",
   "metadata": {},
   "source": [
    "# KNN with SIFT"
   ]
  },
  {
   "cell_type": "code",
   "execution_count": 117,
   "id": "1a77ea53",
   "metadata": {},
   "outputs": [],
   "source": [
    "csv_list = ['data/sift/sift_bof_100.csv', 'data/sift/sift_bof_500.csv', 'data/sift/sift_bof_1000.csv', \n",
    "            'data/sift/sift_pca_bof_100.csv', 'data/sift/sift_pca_bof_500.csv', 'data/sift/sift_pca_bof_1000.csv']"
   ]
  },
  {
   "cell_type": "code",
   "execution_count": 78,
   "id": "81c2247a",
   "metadata": {},
   "outputs": [
    {
     "name": "stdout",
     "output_type": "stream",
     "text": [
      "data/sift/sift_bof_100.csv\n",
      "(31427, 99)\n",
      "(31427,)\n",
      "(7895, 99)\n",
      "(7895,)\n",
      "Test Accuracy: 0.165\n",
      "data/sift/sift_bof_500.csv\n",
      "(31427, 499)\n",
      "(31427,)\n",
      "(7895, 499)\n",
      "(7895,)\n",
      "Test Accuracy: 0.190\n",
      "data/sift/sift_bof_1000.csv\n",
      "(31427, 999)\n",
      "(31427,)\n",
      "(7895, 999)\n",
      "(7895,)\n",
      "Test Accuracy: 0.200\n",
      "data/sift/sift_pca_bof_100.csv\n",
      "(31425, 99)\n",
      "(31425,)\n",
      "(7894, 99)\n",
      "(7894,)\n",
      "Test Accuracy: 0.166\n",
      "data/sift/sift_pca_bof_500.csv\n",
      "(31425, 499)\n",
      "(31425,)\n",
      "(7894, 499)\n",
      "(7894,)\n",
      "Test Accuracy: 0.164\n",
      "data/sift/sift_pca_bof_1000.csv\n",
      "(31425, 999)\n",
      "(31425,)\n",
      "(7894, 999)\n",
      "(7894,)\n",
      "Test Accuracy: 0.174\n"
     ]
    }
   ],
   "source": [
    "sift_predictions = []\n",
    "sift_actuals = []\n",
    "for i in range(len(csv_list)):\n",
    "    pred, act = processKNN(csv_list[i], 2)\n",
    "    sift_predictions.append(pred)\n",
    "    sift_actuals.append(act)"
   ]
  },
  {
   "cell_type": "markdown",
   "id": "da3f2a1f",
   "metadata": {},
   "source": [
    "## Evaluation"
   ]
  },
  {
   "cell_type": "markdown",
   "id": "38bbe3af",
   "metadata": {},
   "source": [
    "### Confusion matrix"
   ]
  },
  {
   "cell_type": "code",
   "execution_count": 104,
   "id": "3710b6c3",
   "metadata": {},
   "outputs": [
    {
     "name": "stderr",
     "output_type": "stream",
     "text": [
      "C:\\Users\\CREATE\\AppData\\Local\\Temp\\ipykernel_11344\\3629548759.py:10: UserWarning: FixedFormatter should only be used together with FixedLocator\n",
      "  ax.set_xticklabels([''] + target_labels)\n",
      "C:\\Users\\CREATE\\AppData\\Local\\Temp\\ipykernel_11344\\3629548759.py:11: UserWarning: FixedFormatter should only be used together with FixedLocator\n",
      "  ax.set_yticklabels([''] + target_labels)\n"
     ]
    },
    {
     "data": {
      "image/png": "[encoded data removed]",
      "text/plain": [
       "<Figure size 576x360 with 1 Axes>"
      ]
     },
     "metadata": {
      "needs_background": "light"
     },
     "output_type": "display_data"
    }
   ],
   "source": [
    "# Show only the best one \n",
    "i = 2\n",
    "confmat = confusion_matrix(y_true=sift_actuals[i], y_pred=sift_predictions[i], labels=targets)\n",
    "show_confusion_matrix(confmat)"
   ]
  },
  {
   "cell_type": "markdown",
   "id": "222a100f",
   "metadata": {},
   "source": [
    "### Parformance matrics & Classification reports"
   ]
  },
  {
   "cell_type": "code",
   "execution_count": 118,
   "id": "5c22570b",
   "metadata": {
    "scrolled": false
   },
   "outputs": [
    {
     "name": "stdout",
     "output_type": "stream",
     "text": [
      "data/sift/sift_bof_100.csv\n",
      "Precision: 0.133\n",
      "Recall: 0.143\n",
      "F1: 0.135\n",
      "Accuracy: 0.165\n",
      "Classification reports\n",
      "              precision    recall  f1-score   support\n",
      "\n",
      "       angry       0.15      0.14      0.14       957\n",
      "     disgust       0.03      0.00      0.01       830\n",
      "        fear       0.13      0.14      0.13      1024\n",
      "       happy       0.22      0.30      0.26      1773\n",
      "         sad       0.16      0.20      0.18      1247\n",
      "    surprise       0.09      0.06      0.08       831\n",
      "     neutral       0.16      0.15      0.15      1233\n",
      "\n",
      "    accuracy                           0.16      7895\n",
      "   macro avg       0.13      0.14      0.14      7895\n",
      "weighted avg       0.15      0.16      0.15      7895\n",
      "\n",
      "data/sift/sift_bof_500.csv\n",
      "Precision: 0.167\n",
      "Recall: 0.150\n",
      "F1: 0.134\n",
      "Accuracy: 0.190\n",
      "Classification reports\n",
      "              precision    recall  f1-score   support\n",
      "\n",
      "       angry       0.13      0.10      0.11       957\n",
      "     disgust       0.24      0.03      0.06       830\n",
      "        fear       0.15      0.09      0.11      1024\n",
      "       happy       0.23      0.55      0.32      1773\n",
      "         sad       0.16      0.10      0.12      1247\n",
      "    surprise       0.13      0.09      0.11       831\n",
      "     neutral       0.13      0.08      0.10      1233\n",
      "\n",
      "    accuracy                           0.19      7895\n",
      "   macro avg       0.17      0.15      0.13      7895\n",
      "weighted avg       0.17      0.19      0.15      7895\n",
      "\n",
      "data/sift/sift_bof_1000.csv\n",
      "Precision: 0.133\n",
      "Recall: 0.143\n",
      "F1: 0.103\n",
      "Accuracy: 0.200\n",
      "Classification reports\n",
      "              precision    recall  f1-score   support\n",
      "\n",
      "       angry       0.12      0.08      0.09       957\n",
      "     disgust       0.04      0.00      0.01       830\n",
      "        fear       0.14      0.07      0.09      1024\n",
      "       happy       0.23      0.73      0.35      1773\n",
      "         sad       0.17      0.04      0.07      1247\n",
      "    surprise       0.07      0.02      0.04       831\n",
      "     neutral       0.16      0.05      0.08      1233\n",
      "\n",
      "    accuracy                           0.20      7895\n",
      "   macro avg       0.13      0.14      0.10      7895\n",
      "weighted avg       0.15      0.20      0.13      7895\n",
      "\n",
      "data/sift/sift_pca_bof_100.csv\n",
      "Precision: 0.143\n",
      "Recall: 0.143\n",
      "F1: 0.135\n",
      "Accuracy: 0.166\n",
      "Classification reports\n",
      "              precision    recall  f1-score   support\n",
      "\n",
      "       angry       0.13      0.14      0.14       957\n",
      "     disgust       0.11      0.02      0.04       830\n",
      "        fear       0.13      0.15      0.14      1024\n",
      "       happy       0.23      0.31      0.26      1772\n",
      "         sad       0.16      0.22      0.18      1247\n",
      "    surprise       0.09      0.05      0.06       831\n",
      "     neutral       0.15      0.12      0.13      1233\n",
      "\n",
      "    accuracy                           0.17      7894\n",
      "   macro avg       0.14      0.14      0.14      7894\n",
      "weighted avg       0.15      0.17      0.15      7894\n",
      "\n",
      "data/sift/sift_pca_bof_500.csv\n",
      "Precision: 0.141\n",
      "Recall: 0.140\n",
      "F1: 0.127\n",
      "Accuracy: 0.164\n",
      "Classification reports\n",
      "              precision    recall  f1-score   support\n",
      "\n",
      "       angry       0.10      0.08      0.09       957\n",
      "     disgust       0.07      0.01      0.02       830\n",
      "        fear       0.12      0.12      0.12      1024\n",
      "       happy       0.21      0.28      0.24      1772\n",
      "         sad       0.16      0.30      0.21      1247\n",
      "    surprise       0.14      0.03      0.04       831\n",
      "     neutral       0.18      0.16      0.17      1233\n",
      "\n",
      "    accuracy                           0.16      7894\n",
      "   macro avg       0.14      0.14      0.13      7894\n",
      "weighted avg       0.15      0.16      0.15      7894\n",
      "\n",
      "data/sift/sift_pca_bof_1000.csv\n",
      "Precision: 0.134\n",
      "Recall: 0.143\n",
      "F1: 0.116\n",
      "Accuracy: 0.174\n",
      "Classification reports\n",
      "              precision    recall  f1-score   support\n",
      "\n",
      "       angry       0.11      0.06      0.08       957\n",
      "     disgust       0.02      0.00      0.00       830\n",
      "        fear       0.13      0.07      0.10      1024\n",
      "       happy       0.23      0.33      0.27      1772\n",
      "         sad       0.16      0.43      0.24      1247\n",
      "    surprise       0.15      0.01      0.02       831\n",
      "     neutral       0.13      0.09      0.11      1233\n",
      "\n",
      "    accuracy                           0.17      7894\n",
      "   macro avg       0.13      0.14      0.12      7894\n",
      "weighted avg       0.15      0.17      0.14      7894\n",
      "\n"
     ]
    }
   ],
   "source": [
    "showPerformance(sift_predictions, sift_actuals)"
   ]
  },
  {
   "cell_type": "markdown",
   "id": "d08a90a2",
   "metadata": {},
   "source": [
    "# KNN with KAZE"
   ]
  },
  {
   "cell_type": "code",
   "execution_count": 119,
   "id": "068a3df8",
   "metadata": {},
   "outputs": [],
   "source": [
    "csv_list = ['data/kaze/kaze_bof_100.csv', 'data/kaze/kaze_bof_500.csv', 'data/kaze/kaze_bof_1000.csv', \n",
    "            'data/kaze/kaze_pca_bof_100.csv', 'data/kaze/kaze_pca_bof_500.csv', 'data/kaze/kaze_pca_bof_1000.csv']"
   ]
  },
  {
   "cell_type": "code",
   "execution_count": 80,
   "id": "0e1e00ce",
   "metadata": {
    "scrolled": false
   },
   "outputs": [
    {
     "name": "stdout",
     "output_type": "stream",
     "text": [
      "data/kaze/kaze_bof_100.csv\n",
      "(31284, 99)\n",
      "(31284,)\n",
      "(7856, 99)\n",
      "(7856,)\n",
      "Test Accuracy: 0.167\n",
      "data/kaze/kaze_bof_500.csv\n",
      "(31284, 499)\n",
      "(31284,)\n",
      "(7856, 499)\n",
      "(7856,)\n",
      "Test Accuracy: 0.173\n",
      "data/kaze/kaze_bof_1000.csv\n",
      "(31284, 999)\n",
      "(31284,)\n",
      "(7856, 999)\n",
      "(7856,)\n",
      "Test Accuracy: 0.170\n",
      "data/kaze/kaze_pca_bof_100.csv\n",
      "(31275, 99)\n",
      "(31275,)\n",
      "(7853, 99)\n",
      "(7853,)\n",
      "Test Accuracy: 0.167\n",
      "data/kaze/kaze_pca_bof_500.csv\n",
      "(31275, 499)\n",
      "(31275,)\n",
      "(7853, 499)\n",
      "(7853,)\n",
      "Test Accuracy: 0.169\n",
      "data/kaze/kaze_pca_bof_1000.csv\n",
      "(31275, 999)\n",
      "(31275,)\n",
      "(7853, 999)\n",
      "(7853,)\n",
      "Test Accuracy: 0.178\n"
     ]
    }
   ],
   "source": [
    "kaze_predictions = []\n",
    "kaze_actuals = []\n",
    "for i in range(len(csv_list)):\n",
    "    pred, act = processKNN(csv_list[i], 2)\n",
    "    kaze_predictions.append(pred)\n",
    "    kaze_actuals.append(act)"
   ]
  },
  {
   "cell_type": "markdown",
   "id": "a3638585",
   "metadata": {},
   "source": [
    "## Evaluation"
   ]
  },
  {
   "cell_type": "markdown",
   "id": "e90d8b6b",
   "metadata": {},
   "source": [
    "### Confusion matrix"
   ]
  },
  {
   "cell_type": "code",
   "execution_count": 130,
   "id": "b04d6af1",
   "metadata": {
    "scrolled": false
   },
   "outputs": [
    {
     "name": "stderr",
     "output_type": "stream",
     "text": [
      "C:\\Users\\CREATE\\AppData\\Local\\Temp\\ipykernel_11344\\3629548759.py:10: UserWarning: FixedFormatter should only be used together with FixedLocator\n",
      "  ax.set_xticklabels([''] + target_labels)\n",
      "C:\\Users\\CREATE\\AppData\\Local\\Temp\\ipykernel_11344\\3629548759.py:11: UserWarning: FixedFormatter should only be used together with FixedLocator\n",
      "  ax.set_yticklabels([''] + target_labels)\n"
     ]
    },
    {
     "data": {
      "image/png": "[encoded data removed]",
      "text/plain": [
       "<Figure size 576x360 with 1 Axes>"
      ]
     },
     "metadata": {
      "needs_background": "light"
     },
     "output_type": "display_data"
    }
   ],
   "source": [
    "# Show only the best one \n",
    "i = 5\n",
    "confmat = confusion_matrix(y_true=kaze_actuals[i], y_pred=kaze_predictions[i], labels=targets)\n",
    "show_confusion_matrix(confmat)"
   ]
  },
  {
   "cell_type": "markdown",
   "id": "cc54f234",
   "metadata": {},
   "source": [
    "### Parformance matrics & Classification reports"
   ]
  },
  {
   "cell_type": "code",
   "execution_count": 120,
   "id": "e40907dd",
   "metadata": {
    "scrolled": false
   },
   "outputs": [
    {
     "name": "stdout",
     "output_type": "stream",
     "text": [
      "data/kaze/kaze_bof_100.csv\n",
      "Precision: 0.150\n",
      "Recall: 0.144\n",
      "F1: 0.139\n",
      "Accuracy: 0.167\n",
      "Classification reports\n",
      "              precision    recall  f1-score   support\n",
      "\n",
      "       angry       0.11      0.11      0.11       955\n",
      "     disgust       0.15      0.03      0.05       821\n",
      "        fear       0.13      0.14      0.14      1022\n",
      "       happy       0.22      0.34      0.27      1770\n",
      "         sad       0.16      0.15      0.15      1237\n",
      "    surprise       0.11      0.09      0.10       828\n",
      "     neutral       0.16      0.14      0.15      1223\n",
      "\n",
      "    accuracy                           0.17      7856\n",
      "   macro avg       0.15      0.14      0.14      7856\n",
      "weighted avg       0.16      0.17      0.16      7856\n",
      "\n",
      "data/kaze/kaze_bof_500.csv\n",
      "Precision: 0.165\n",
      "Recall: 0.144\n",
      "F1: 0.136\n",
      "Accuracy: 0.173\n",
      "Classification reports\n",
      "              precision    recall  f1-score   support\n",
      "\n",
      "       angry       0.12      0.12      0.12       955\n",
      "     disgust       0.28      0.03      0.05       821\n",
      "        fear       0.12      0.14      0.13      1022\n",
      "       happy       0.24      0.39      0.30      1770\n",
      "         sad       0.16      0.14      0.15      1237\n",
      "    surprise       0.08      0.05      0.06       828\n",
      "     neutral       0.15      0.15      0.15      1223\n",
      "\n",
      "    accuracy                           0.17      7856\n",
      "   macro avg       0.17      0.14      0.14      7856\n",
      "weighted avg       0.17      0.17      0.16      7856\n",
      "\n",
      "data/kaze/kaze_bof_1000.csv\n",
      "Precision: 0.147\n",
      "Recall: 0.140\n",
      "F1: 0.130\n",
      "Accuracy: 0.170\n",
      "Classification reports\n",
      "              precision    recall  f1-score   support\n",
      "\n",
      "       angry       0.11      0.12      0.12       955\n",
      "     disgust       0.17      0.01      0.02       821\n",
      "        fear       0.13      0.12      0.13      1022\n",
      "       happy       0.23      0.39      0.29      1770\n",
      "         sad       0.15      0.12      0.14      1237\n",
      "    surprise       0.09      0.05      0.06       828\n",
      "     neutral       0.15      0.16      0.16      1223\n",
      "\n",
      "    accuracy                           0.17      7856\n",
      "   macro avg       0.15      0.14      0.13      7856\n",
      "weighted avg       0.16      0.17      0.15      7856\n",
      "\n",
      "data/kaze/kaze_pca_bof_100.csv\n",
      "Precision: 0.145\n",
      "Recall: 0.143\n",
      "F1: 0.137\n",
      "Accuracy: 0.167\n",
      "Classification reports\n",
      "              precision    recall  f1-score   support\n",
      "\n",
      "       angry       0.13      0.12      0.13       956\n",
      "     disgust       0.11      0.02      0.04       821\n",
      "        fear       0.13      0.16      0.14      1023\n",
      "       happy       0.21      0.33      0.26      1766\n",
      "         sad       0.17      0.18      0.17      1238\n",
      "    surprise       0.09      0.07      0.08       827\n",
      "     neutral       0.17      0.12      0.14      1222\n",
      "\n",
      "    accuracy                           0.17      7853\n",
      "   macro avg       0.15      0.14      0.14      7853\n",
      "weighted avg       0.16      0.17      0.15      7853\n",
      "\n",
      "data/kaze/kaze_pca_bof_500.csv\n",
      "Precision: 0.152\n",
      "Recall: 0.143\n",
      "F1: 0.135\n",
      "Accuracy: 0.169\n",
      "Classification reports\n",
      "              precision    recall  f1-score   support\n",
      "\n",
      "       angry       0.13      0.13      0.13       956\n",
      "     disgust       0.15      0.02      0.03       821\n",
      "        fear       0.13      0.14      0.14      1023\n",
      "       happy       0.21      0.37      0.27      1766\n",
      "         sad       0.16      0.12      0.13      1238\n",
      "    surprise       0.13      0.06      0.09       827\n",
      "     neutral       0.15      0.17      0.16      1222\n",
      "\n",
      "    accuracy                           0.17      7853\n",
      "   macro avg       0.15      0.14      0.13      7853\n",
      "weighted avg       0.16      0.17      0.15      7853\n",
      "\n",
      "data/kaze/kaze_pca_bof_1000.csv\n",
      "Precision: 0.150\n",
      "Recall: 0.148\n",
      "F1: 0.139\n",
      "Accuracy: 0.178\n",
      "Classification reports\n",
      "              precision    recall  f1-score   support\n",
      "\n",
      "       angry       0.12      0.11      0.11       956\n",
      "     disgust       0.13      0.03      0.04       821\n",
      "        fear       0.12      0.15      0.14      1023\n",
      "       happy       0.24      0.41      0.30      1766\n",
      "         sad       0.17      0.11      0.14      1238\n",
      "    surprise       0.11      0.06      0.08       827\n",
      "     neutral       0.17      0.17      0.17      1222\n",
      "\n",
      "    accuracy                           0.18      7853\n",
      "   macro avg       0.15      0.15      0.14      7853\n",
      "weighted avg       0.16      0.18      0.16      7853\n",
      "\n"
     ]
    }
   ],
   "source": [
    "showPerformance(kaze_predictions, kaze_actuals)"
   ]
  },
  {
   "cell_type": "markdown",
   "id": "1d059f9f",
   "metadata": {},
   "source": [
    "# KNN with ORB"
   ]
  },
  {
   "cell_type": "code",
   "execution_count": 127,
   "id": "6b4c0cfc",
   "metadata": {},
   "outputs": [],
   "source": [
    "csv_list = ['data/orb/orb_bof_100.csv', 'data/orb/orb_bof_500.csv', 'data/orb/orb_bof_1000.csv', \n",
    "            'data/orb/orb_pca_bof_100.csv', 'data/orb/orb_pca_bof_500.csv', 'data/orb/orb_pca_bof_1000.csv']"
   ]
  },
  {
   "cell_type": "code",
   "execution_count": 82,
   "id": "143f8721",
   "metadata": {},
   "outputs": [
    {
     "name": "stdout",
     "output_type": "stream",
     "text": [
      "data/orb/orb_bof_100.csv\n",
      "(31430, 99)\n",
      "(31430,)\n",
      "(7896, 99)\n",
      "(7896,)\n",
      "Test Accuracy: 0.155\n",
      "data/orb/orb_bof_500.csv\n",
      "(31430, 499)\n",
      "(31430,)\n",
      "(7896, 499)\n",
      "(7896,)\n",
      "Test Accuracy: 0.136\n",
      "data/orb/orb_bof_1000.csv\n",
      "(31430, 999)\n",
      "(31430,)\n",
      "(7896, 999)\n",
      "(7896,)\n",
      "Test Accuracy: 0.129\n",
      "data/orb/orb_pca_bof_100.csv\n",
      "(31400, 99)\n",
      "(31400,)\n",
      "(7890, 99)\n",
      "(7890,)\n",
      "Test Accuracy: 0.166\n",
      "data/orb/orb_pca_bof_500.csv\n",
      "(31400, 499)\n",
      "(31400,)\n",
      "(7890, 499)\n",
      "(7890,)\n",
      "Test Accuracy: 0.163\n",
      "data/orb/orb_pca_bof_1000.csv\n",
      "(31400, 999)\n",
      "(31400,)\n",
      "(7890, 999)\n",
      "(7890,)\n",
      "Test Accuracy: 0.175\n"
     ]
    }
   ],
   "source": [
    "orb_predictions = []\n",
    "orb_actuals = []\n",
    "for i in range(len(csv_list)):\n",
    "    pred, act = processKNN(csv_list[i], 2)\n",
    "    orb_predictions.append(pred)\n",
    "    orb_actuals.append(act)"
   ]
  },
  {
   "cell_type": "markdown",
   "id": "98b5eddd",
   "metadata": {},
   "source": [
    "## Evaluation"
   ]
  },
  {
   "cell_type": "markdown",
   "id": "b16b9779",
   "metadata": {},
   "source": [
    "### Confusion matrix"
   ]
  },
  {
   "cell_type": "code",
   "execution_count": 131,
   "id": "506bfe86",
   "metadata": {
    "scrolled": false
   },
   "outputs": [
    {
     "name": "stderr",
     "output_type": "stream",
     "text": [
      "C:\\Users\\CREATE\\AppData\\Local\\Temp\\ipykernel_11344\\3629548759.py:10: UserWarning: FixedFormatter should only be used together with FixedLocator\n",
      "  ax.set_xticklabels([''] + target_labels)\n",
      "C:\\Users\\CREATE\\AppData\\Local\\Temp\\ipykernel_11344\\3629548759.py:11: UserWarning: FixedFormatter should only be used together with FixedLocator\n",
      "  ax.set_yticklabels([''] + target_labels)\n"
     ]
    },
    {
     "data": {
      "image/png": "[encoded data removed]",
      "text/plain": [
       "<Figure size 576x360 with 1 Axes>"
      ]
     },
     "metadata": {
      "needs_background": "light"
     },
     "output_type": "display_data"
    }
   ],
   "source": [
    "# Show only the best one \n",
    "i = 5\n",
    "confmat = confusion_matrix(y_true=orb_actuals[i], y_pred=orb_predictions[i], labels=targets)\n",
    "show_confusion_matrix(confmat)"
   ]
  },
  {
   "cell_type": "markdown",
   "id": "5d020a38",
   "metadata": {},
   "source": [
    "### Parformance matrics & Classification reports"
   ]
  },
  {
   "cell_type": "code",
   "execution_count": 128,
   "id": "ece1e7e7",
   "metadata": {
    "scrolled": false
   },
   "outputs": [
    {
     "name": "stdout",
     "output_type": "stream",
     "text": [
      "data/orb/orb_bof_100.csv\n",
      "Precision: 0.135\n",
      "Recall: 0.136\n",
      "F1: 0.131\n",
      "Accuracy: 0.155\n",
      "Classification reports\n",
      "              precision    recall  f1-score   support\n",
      "\n",
      "       angry       0.11      0.08      0.10       957\n",
      "     disgust       0.11      0.06      0.07       830\n",
      "        fear       0.09      0.07      0.08      1024\n",
      "       happy       0.21      0.24      0.23      1774\n",
      "         sad       0.17      0.14      0.15      1247\n",
      "    surprise       0.09      0.08      0.08       831\n",
      "     neutral       0.16      0.29      0.20      1233\n",
      "\n",
      "    accuracy                           0.15      7896\n",
      "   macro avg       0.13      0.14      0.13      7896\n",
      "weighted avg       0.15      0.15      0.15      7896\n",
      "\n",
      "data/orb/orb_bof_500.csv\n",
      "Precision: 0.171\n",
      "Recall: 0.147\n",
      "F1: 0.085\n",
      "Accuracy: 0.136\n",
      "Classification reports\n",
      "              precision    recall  f1-score   support\n",
      "\n",
      "       angry       0.14      0.05      0.07       957\n",
      "     disgust       0.29      0.01      0.02       830\n",
      "        fear       0.13      0.77      0.23      1024\n",
      "       happy       0.22      0.02      0.04      1774\n",
      "         sad       0.17      0.04      0.07      1247\n",
      "    surprise       0.11      0.07      0.09       831\n",
      "     neutral       0.14      0.06      0.09      1233\n",
      "\n",
      "    accuracy                           0.14      7896\n",
      "   macro avg       0.17      0.15      0.09      7896\n",
      "weighted avg       0.17      0.14      0.08      7896\n",
      "\n",
      "data/orb/orb_bof_1000.csv\n",
      "Precision: 0.123\n",
      "Recall: 0.141\n",
      "F1: 0.042\n",
      "Accuracy: 0.129\n",
      "Classification reports\n",
      "              precision    recall  f1-score   support\n",
      "\n",
      "       angry       0.07      0.00      0.01       957\n",
      "     disgust       0.00      0.00      0.00       830\n",
      "        fear       0.13      0.95      0.23      1024\n",
      "       happy       0.33      0.00      0.00      1774\n",
      "         sad       0.09      0.00      0.01      1247\n",
      "    surprise       0.08      0.00      0.00       831\n",
      "     neutral       0.16      0.03      0.05      1233\n",
      "\n",
      "    accuracy                           0.13      7896\n",
      "   macro avg       0.12      0.14      0.04      7896\n",
      "weighted avg       0.15      0.13      0.04      7896\n",
      "\n",
      "data/orb/orb_pca_bof_100.csv\n",
      "Precision: 0.139\n",
      "Recall: 0.142\n",
      "F1: 0.134\n"
     ]
    },
    {
     "name": "stderr",
     "output_type": "stream",
     "text": [
      "C:\\Users\\CREATE\\anaconda3\\lib\\site-packages\\sklearn\\metrics\\_classification.py:1318: UndefinedMetricWarning: Precision is ill-defined and being set to 0.0 in labels with no predicted samples. Use `zero_division` parameter to control this behavior.\n",
      "  _warn_prf(average, modifier, msg_start, len(result))\n",
      "C:\\Users\\CREATE\\anaconda3\\lib\\site-packages\\sklearn\\metrics\\_classification.py:1318: UndefinedMetricWarning: Precision and F-score are ill-defined and being set to 0.0 in labels with no predicted samples. Use `zero_division` parameter to control this behavior.\n",
      "  _warn_prf(average, modifier, msg_start, len(result))\n",
      "C:\\Users\\CREATE\\anaconda3\\lib\\site-packages\\sklearn\\metrics\\_classification.py:1318: UndefinedMetricWarning: Precision and F-score are ill-defined and being set to 0.0 in labels with no predicted samples. Use `zero_division` parameter to control this behavior.\n",
      "  _warn_prf(average, modifier, msg_start, len(result))\n",
      "C:\\Users\\CREATE\\anaconda3\\lib\\site-packages\\sklearn\\metrics\\_classification.py:1318: UndefinedMetricWarning: Precision and F-score are ill-defined and being set to 0.0 in labels with no predicted samples. Use `zero_division` parameter to control this behavior.\n",
      "  _warn_prf(average, modifier, msg_start, len(result))\n"
     ]
    },
    {
     "name": "stdout",
     "output_type": "stream",
     "text": [
      "Accuracy: 0.166\n",
      "Classification reports\n",
      "              precision    recall  f1-score   support\n",
      "\n",
      "       angry       0.12      0.17      0.14       957\n",
      "     disgust       0.09      0.02      0.03       830\n",
      "        fear       0.14      0.12      0.13      1023\n",
      "       happy       0.23      0.33      0.27      1773\n",
      "         sad       0.16      0.17      0.16      1245\n",
      "    surprise       0.09      0.04      0.05       831\n",
      "     neutral       0.14      0.16      0.15      1231\n",
      "\n",
      "    accuracy                           0.17      7890\n",
      "   macro avg       0.14      0.14      0.13      7890\n",
      "weighted avg       0.15      0.17      0.15      7890\n",
      "\n",
      "data/orb/orb_pca_bof_500.csv\n",
      "Precision: 0.150\n",
      "Recall: 0.145\n",
      "F1: 0.141\n",
      "Accuracy: 0.163\n",
      "Classification reports\n",
      "              precision    recall  f1-score   support\n",
      "\n",
      "       angry       0.11      0.11      0.11       957\n",
      "     disgust       0.15      0.03      0.05       830\n",
      "        fear       0.13      0.20      0.16      1023\n",
      "       happy       0.23      0.28      0.25      1773\n",
      "         sad       0.16      0.16      0.16      1245\n",
      "    surprise       0.12      0.08      0.10       831\n",
      "     neutral       0.15      0.15      0.15      1231\n",
      "\n",
      "    accuracy                           0.16      7890\n",
      "   macro avg       0.15      0.14      0.14      7890\n",
      "weighted avg       0.16      0.16      0.16      7890\n",
      "\n",
      "data/orb/orb_pca_bof_1000.csv\n",
      "Precision: 0.151\n",
      "Recall: 0.146\n",
      "F1: 0.130\n",
      "Accuracy: 0.175\n",
      "Classification reports\n",
      "              precision    recall  f1-score   support\n",
      "\n",
      "       angry       0.12      0.08      0.10       957\n",
      "     disgust       0.12      0.01      0.01       830\n",
      "        fear       0.13      0.17      0.15      1023\n",
      "       happy       0.24      0.34      0.28      1773\n",
      "         sad       0.16      0.16      0.16      1245\n",
      "    surprise       0.13      0.01      0.02       831\n",
      "     neutral       0.16      0.25      0.20      1231\n",
      "\n",
      "    accuracy                           0.18      7890\n",
      "   macro avg       0.15      0.15      0.13      7890\n",
      "weighted avg       0.16      0.18      0.15      7890\n",
      "\n"
     ]
    }
   ],
   "source": [
    "showPerformance(orb_predictions, orb_actuals)"
   ]
  },
  {
   "cell_type": "markdown",
   "id": "561bc824",
   "metadata": {},
   "source": [
    "# KNN with BRISK"
   ]
  },
  {
   "cell_type": "code",
   "execution_count": 129,
   "id": "5e645b6b",
   "metadata": {},
   "outputs": [],
   "source": [
    "csv_list = ['data/brisk/brisk_bof_100.csv', 'data/brisk/brisk_bof_500.csv', 'data/brisk/brisk_bof_1000.csv', \n",
    "            'data/brisk/brisk_pca_bof_100.csv', 'data/brisk/brisk_pca_bof_500.csv', 'data/brisk/brisk_pca_bof_1000.csv']"
   ]
  },
  {
   "cell_type": "code",
   "execution_count": 84,
   "id": "e561c82d",
   "metadata": {},
   "outputs": [
    {
     "name": "stdout",
     "output_type": "stream",
     "text": [
      "data/brisk/brisk_bof_100.csv\n",
      "(30833, 99)\n",
      "(30833,)\n",
      "(7731, 99)\n",
      "(7731,)\n",
      "Test Accuracy: 0.176\n",
      "data/brisk/brisk_bof_500.csv\n",
      "(30833, 499)\n",
      "(30833,)\n",
      "(7731, 499)\n",
      "(7731,)\n",
      "Test Accuracy: 0.183\n",
      "data/brisk/brisk_bof_1000.csv\n",
      "(30833, 999)\n",
      "(30833,)\n",
      "(7731, 999)\n",
      "(7731,)\n",
      "Test Accuracy: 0.171\n",
      "data/brisk/brisk_pca_bof_100.csv\n",
      "(8004, 99)\n",
      "(8004,)\n",
      "(2160, 99)\n",
      "(2160,)\n",
      "Test Accuracy: 0.193\n",
      "data/brisk/brisk_pca_bof_500.csv\n",
      "(8004, 499)\n",
      "(8004,)\n",
      "(2160, 499)\n",
      "(2160,)\n",
      "Test Accuracy: 0.167\n",
      "data/brisk/brisk_pca_bof_1000.csv\n",
      "(8004, 999)\n",
      "(8004,)\n",
      "(2160, 999)\n",
      "(2160,)\n",
      "Test Accuracy: 0.172\n"
     ]
    }
   ],
   "source": [
    "brisk_predictions = []\n",
    "brisk_actuals = []\n",
    "for i in range(len(csv_list)):\n",
    "    pred, act = processKNN(csv_list[i], 2)\n",
    "    brisk_predictions.append(pred)\n",
    "    brisk_actuals.append(act)"
   ]
  },
  {
   "cell_type": "markdown",
   "id": "f1e22a88",
   "metadata": {},
   "source": [
    "## Evaluation"
   ]
  },
  {
   "cell_type": "markdown",
   "id": "78bcce4f",
   "metadata": {},
   "source": [
    "### Confusion matrix"
   ]
  },
  {
   "cell_type": "code",
   "execution_count": 132,
   "id": "48532f19",
   "metadata": {
    "scrolled": false
   },
   "outputs": [
    {
     "name": "stderr",
     "output_type": "stream",
     "text": [
      "C:\\Users\\CREATE\\AppData\\Local\\Temp\\ipykernel_11344\\3629548759.py:10: UserWarning: FixedFormatter should only be used together with FixedLocator\n",
      "  ax.set_xticklabels([''] + target_labels)\n",
      "C:\\Users\\CREATE\\AppData\\Local\\Temp\\ipykernel_11344\\3629548759.py:11: UserWarning: FixedFormatter should only be used together with FixedLocator\n",
      "  ax.set_yticklabels([''] + target_labels)\n"
     ]
    },
    {
     "data": {
      "image/png": "[encoded data removed]",
      "text/plain": [
       "<Figure size 576x360 with 1 Axes>"
      ]
     },
     "metadata": {
      "needs_background": "light"
     },
     "output_type": "display_data"
    }
   ],
   "source": [
    "# Show only the best one \n",
    "i = 3\n",
    "confmat = confusion_matrix(y_true=brisk_actuals[i], y_pred=brisk_predictions[i], labels=targets)\n",
    "show_confusion_matrix(confmat)"
   ]
  },
  {
   "cell_type": "markdown",
   "id": "a6d9f3e5",
   "metadata": {},
   "source": [
    "### Parformance matrics & Classification reports"
   ]
  },
  {
   "cell_type": "code",
   "execution_count": 133,
   "id": "f691e135",
   "metadata": {
    "scrolled": false
   },
   "outputs": [
    {
     "name": "stdout",
     "output_type": "stream",
     "text": [
      "data/brisk/brisk_bof_100.csv\n",
      "Precision: 0.139\n",
      "Recall: 0.142\n",
      "F1: 0.129\n",
      "Accuracy: 0.176\n",
      "Classification reports\n",
      "              precision    recall  f1-score   support\n",
      "\n",
      "       angry       0.12      0.10      0.11       942\n",
      "     disgust       0.06      0.01      0.02       814\n",
      "        fear       0.13      0.13      0.13      1001\n",
      "       happy       0.22      0.44      0.30      1741\n",
      "         sad       0.16      0.18      0.17      1200\n",
      "    surprise       0.13      0.05      0.07       823\n",
      "     neutral       0.15      0.07      0.10      1210\n",
      "\n",
      "    accuracy                           0.18      7731\n",
      "   macro avg       0.14      0.14      0.13      7731\n",
      "weighted avg       0.15      0.18      0.15      7731\n",
      "\n",
      "data/brisk/brisk_bof_500.csv\n",
      "Precision: 0.153\n",
      "Recall: 0.145\n",
      "F1: 0.127\n",
      "Accuracy: 0.183\n",
      "Classification reports\n",
      "              precision    recall  f1-score   support\n",
      "\n",
      "       angry       0.13      0.09      0.11       942\n",
      "     disgust       0.14      0.03      0.05       814\n",
      "        fear       0.11      0.10      0.10      1001\n",
      "       happy       0.23      0.47      0.31      1741\n",
      "         sad       0.15      0.24      0.19      1200\n",
      "    surprise       0.12      0.02      0.03       823\n",
      "     neutral       0.17      0.07      0.10      1210\n",
      "\n",
      "    accuracy                           0.18      7731\n",
      "   macro avg       0.15      0.15      0.13      7731\n",
      "weighted avg       0.16      0.18      0.15      7731\n",
      "\n",
      "data/brisk/brisk_bof_1000.csv\n",
      "Precision: 0.138\n",
      "Recall: 0.139\n",
      "F1: 0.123\n",
      "Accuracy: 0.171\n",
      "Classification reports\n",
      "              precision    recall  f1-score   support\n",
      "\n",
      "       angry       0.12      0.10      0.11       942\n",
      "     disgust       0.08      0.02      0.03       814\n",
      "        fear       0.13      0.14      0.14      1001\n",
      "       happy       0.23      0.41      0.29      1741\n",
      "         sad       0.14      0.22      0.17      1200\n",
      "    surprise       0.11      0.02      0.03       823\n",
      "     neutral       0.15      0.06      0.09      1210\n",
      "\n",
      "    accuracy                           0.17      7731\n",
      "   macro avg       0.14      0.14      0.12      7731\n",
      "weighted avg       0.15      0.17      0.14      7731\n",
      "\n",
      "data/brisk/brisk_pca_bof_100.csv\n",
      "Precision: 0.153\n",
      "Recall: 0.156\n",
      "F1: 0.115\n",
      "Accuracy: 0.193\n",
      "Classification reports\n",
      "              precision    recall  f1-score   support\n",
      "\n",
      "       angry       0.22      0.09      0.13       307\n",
      "     disgust       0.00      0.00      0.00       237\n",
      "        fear       0.14      0.06      0.08       312\n",
      "       happy       0.20      0.74      0.31       412\n",
      "         sad       0.21      0.12      0.15       355\n",
      "    surprise       0.13      0.03      0.05       230\n",
      "     neutral       0.18      0.05      0.08       307\n",
      "\n",
      "    accuracy                           0.19      2160\n",
      "   macro avg       0.15      0.16      0.12      2160\n",
      "weighted avg       0.16      0.19      0.13      2160\n",
      "\n",
      "data/brisk/brisk_pca_bof_500.csv\n",
      "Precision: 0.131\n",
      "Recall: 0.140\n",
      "F1: 0.118\n",
      "Accuracy: 0.167\n",
      "Classification reports\n",
      "              precision    recall  f1-score   support\n",
      "\n",
      "       angry       0.13      0.08      0.10       307\n",
      "     disgust       0.00      0.00      0.00       237\n",
      "        fear       0.15      0.14      0.14       312\n",
      "       happy       0.18      0.52      0.27       412\n",
      "         sad       0.19      0.14      0.16       355\n",
      "    surprise       0.08      0.04      0.05       230\n",
      "     neutral       0.19      0.07      0.10       307\n",
      "\n",
      "    accuracy                           0.17      2160\n",
      "   macro avg       0.13      0.14      0.12      2160\n",
      "weighted avg       0.14      0.17      0.13      2160\n",
      "\n",
      "data/brisk/brisk_pca_bof_1000.csv\n",
      "Precision: 0.160\n",
      "Recall: 0.149\n",
      "F1: 0.130\n",
      "Accuracy: 0.172\n",
      "Classification reports\n",
      "              precision    recall  f1-score   support\n",
      "\n",
      "       angry       0.17      0.14      0.15       307\n",
      "     disgust       0.22      0.03      0.06       237\n",
      "        fear       0.15      0.17      0.16       312\n",
      "       happy       0.19      0.50      0.28       412\n",
      "         sad       0.15      0.10      0.12       355\n",
      "    surprise       0.12      0.06      0.08       230\n",
      "     neutral       0.11      0.04      0.06       307\n",
      "\n",
      "    accuracy                           0.17      2160\n",
      "   macro avg       0.16      0.15      0.13      2160\n",
      "weighted avg       0.16      0.17      0.14      2160\n",
      "\n"
     ]
    }
   ],
   "source": [
    "showPerformance(brisk_predictions, brisk_actuals)"
   ]
  },
  {
   "cell_type": "markdown",
   "id": "ea7fff03",
   "metadata": {},
   "source": [
    "# KNN with AKAZE"
   ]
  },
  {
   "cell_type": "code",
   "execution_count": 134,
   "id": "b34b9ad9",
   "metadata": {},
   "outputs": [],
   "source": [
    "csv_list = ['data/akaze/akaze_bof_100.csv', 'data/akaze/akaze_bof_500.csv', 'data/akaze/akaze_bof_1000.csv', \n",
    "            'data/akaze/akaze_pca_bof_100.csv', 'data/akaze/akaze_pca_bof_500.csv', 'data/akaze/akaze_pca_bof_1000.csv']"
   ]
  },
  {
   "cell_type": "code",
   "execution_count": 86,
   "id": "a209e248",
   "metadata": {},
   "outputs": [
    {
     "name": "stdout",
     "output_type": "stream",
     "text": [
      "data/akaze/akaze_bof_100.csv\n",
      "(31332, 99)\n",
      "(31332,)\n",
      "(7862, 99)\n",
      "(7862,)\n",
      "Test Accuracy: 0.161\n",
      "data/akaze/akaze_bof_500.csv\n",
      "(31332, 499)\n",
      "(31332,)\n",
      "(7862, 499)\n",
      "(7862,)\n",
      "Test Accuracy: 0.169\n",
      "data/akaze/akaze_bof_1000.csv\n",
      "(31332, 999)\n",
      "(31332,)\n",
      "(7862, 999)\n",
      "(7862,)\n",
      "Test Accuracy: 0.186\n",
      "data/akaze/akaze_pca_bof_100.csv\n",
      "(25314, 99)\n",
      "(25314,)\n",
      "(6606, 99)\n",
      "(6606,)\n",
      "Test Accuracy: 0.204\n",
      "data/akaze/akaze_pca_bof_500.csv\n",
      "(25314, 499)\n",
      "(25314,)\n",
      "(6606, 499)\n",
      "(6606,)\n",
      "Test Accuracy: 0.204\n",
      "data/akaze/akaze_pca_bof_1000.csv\n",
      "(25314, 999)\n",
      "(25314,)\n",
      "(6606, 999)\n",
      "(6606,)\n",
      "Test Accuracy: 0.194\n"
     ]
    }
   ],
   "source": [
    "akaze_predictions = []\n",
    "akaze_actuals = []\n",
    "for i in range(len(csv_list)):\n",
    "    pred, act = processKNN(csv_list[i], 2)\n",
    "    akaze_predictions.append(pred)\n",
    "    akaze_actuals.append(act)"
   ]
  },
  {
   "cell_type": "markdown",
   "id": "9bb4710c",
   "metadata": {},
   "source": [
    "## Evaluation"
   ]
  },
  {
   "cell_type": "markdown",
   "id": "7088246a",
   "metadata": {},
   "source": [
    "### Confusion matrix"
   ]
  },
  {
   "cell_type": "code",
   "execution_count": 135,
   "id": "707c8aaa",
   "metadata": {
    "scrolled": false
   },
   "outputs": [
    {
     "name": "stderr",
     "output_type": "stream",
     "text": [
      "C:\\Users\\CREATE\\AppData\\Local\\Temp\\ipykernel_11344\\3629548759.py:10: UserWarning: FixedFormatter should only be used together with FixedLocator\n",
      "  ax.set_xticklabels([''] + target_labels)\n",
      "C:\\Users\\CREATE\\AppData\\Local\\Temp\\ipykernel_11344\\3629548759.py:11: UserWarning: FixedFormatter should only be used together with FixedLocator\n",
      "  ax.set_yticklabels([''] + target_labels)\n"
     ]
    },
    {
     "data": {
      "image/png": "[encoded data removed]",
      "text/plain": [
       "<Figure size 576x360 with 1 Axes>"
      ]
     },
     "metadata": {
      "needs_background": "light"
     },
     "output_type": "display_data"
    }
   ],
   "source": [
    "# Show only the best one \n",
    "i = 4\n",
    "confmat = confusion_matrix(y_true=akaze_actuals[i], y_pred=akaze_predictions[i], labels=targets)\n",
    "show_confusion_matrix(confmat)"
   ]
  },
  {
   "cell_type": "markdown",
   "id": "06e81c87",
   "metadata": {},
   "source": [
    "### Parformance matrics & Classification reports"
   ]
  },
  {
   "cell_type": "code",
   "execution_count": 136,
   "id": "9602b49b",
   "metadata": {
    "scrolled": false
   },
   "outputs": [
    {
     "name": "stdout",
     "output_type": "stream",
     "text": [
      "data/akaze/akaze_bof_100.csv\n",
      "Precision: 0.134\n",
      "Recall: 0.138\n",
      "F1: 0.131\n",
      "Accuracy: 0.161\n",
      "Classification reports\n",
      "              precision    recall  f1-score   support\n",
      "\n",
      "       angry       0.12      0.12      0.12       954\n",
      "     disgust       0.06      0.01      0.02       822\n",
      "        fear       0.12      0.12      0.12      1022\n",
      "       happy       0.21      0.30      0.25      1766\n",
      "         sad       0.16      0.22      0.19      1237\n",
      "    surprise       0.11      0.06      0.07       831\n",
      "     neutral       0.16      0.14      0.15      1230\n",
      "\n",
      "    accuracy                           0.16      7862\n",
      "   macro avg       0.13      0.14      0.13      7862\n",
      "weighted avg       0.15      0.16      0.15      7862\n",
      "\n",
      "data/akaze/akaze_bof_500.csv\n",
      "Precision: 0.137\n",
      "Recall: 0.138\n",
      "F1: 0.124\n",
      "Accuracy: 0.169\n",
      "Classification reports\n",
      "              precision    recall  f1-score   support\n",
      "\n",
      "       angry       0.12      0.12      0.12       954\n",
      "     disgust       0.04      0.01      0.01       822\n",
      "        fear       0.13      0.09      0.11      1022\n",
      "       happy       0.22      0.39      0.28      1766\n",
      "         sad       0.15      0.22      0.18      1237\n",
      "    surprise       0.16      0.03      0.06       831\n",
      "     neutral       0.14      0.09      0.11      1230\n",
      "\n",
      "    accuracy                           0.17      7862\n",
      "   macro avg       0.14      0.14      0.12      7862\n",
      "weighted avg       0.15      0.17      0.14      7862\n",
      "\n",
      "data/akaze/akaze_bof_1000.csv\n",
      "Precision: 0.147\n",
      "Recall: 0.151\n",
      "F1: 0.135\n",
      "Accuracy: 0.186\n",
      "Classification reports\n",
      "              precision    recall  f1-score   support\n",
      "\n",
      "       angry       0.12      0.14      0.13       954\n",
      "     disgust       0.09      0.01      0.02       822\n",
      "        fear       0.16      0.11      0.13      1022\n",
      "       happy       0.24      0.45      0.31      1766\n",
      "         sad       0.16      0.20      0.18      1237\n",
      "    surprise       0.09      0.02      0.04       831\n",
      "     neutral       0.17      0.11      0.13      1230\n",
      "\n",
      "    accuracy                           0.19      7862\n",
      "   macro avg       0.15      0.15      0.14      7862\n",
      "weighted avg       0.16      0.19      0.16      7862\n",
      "\n",
      "data/akaze/akaze_pca_bof_100.csv\n",
      "Precision: 0.166\n",
      "Recall: 0.155\n",
      "F1: 0.125\n",
      "Accuracy: 0.204\n",
      "Classification reports\n",
      "              precision    recall  f1-score   support\n",
      "\n",
      "       angry       0.15      0.08      0.10       816\n",
      "     disgust       0.20      0.02      0.04       703\n",
      "        fear       0.14      0.11      0.12       888\n",
      "       happy       0.23      0.68      0.35      1451\n",
      "         sad       0.18      0.11      0.14       984\n",
      "    surprise       0.13      0.04      0.06       732\n",
      "     neutral       0.13      0.04      0.07      1032\n",
      "\n",
      "    accuracy                           0.20      6606\n",
      "   macro avg       0.17      0.15      0.12      6606\n",
      "weighted avg       0.17      0.20      0.15      6606\n",
      "\n",
      "data/akaze/akaze_pca_bof_500.csv\n",
      "Precision: 0.166\n",
      "Recall: 0.148\n",
      "F1: 0.107\n",
      "Accuracy: 0.204\n",
      "Classification reports\n",
      "              precision    recall  f1-score   support\n",
      "\n",
      "       angry       0.15      0.05      0.07       816\n",
      "     disgust       0.24      0.03      0.06       703\n",
      "        fear       0.13      0.08      0.10       888\n",
      "       happy       0.22      0.76      0.34      1451\n",
      "         sad       0.15      0.08      0.11       984\n",
      "    surprise       0.11      0.02      0.03       732\n",
      "     neutral       0.16      0.02      0.04      1032\n",
      "\n",
      "    accuracy                           0.20      6606\n",
      "   macro avg       0.17      0.15      0.11      6606\n",
      "weighted avg       0.17      0.20      0.13      6606\n",
      "\n",
      "data/akaze/akaze_pca_bof_1000.csv\n",
      "Precision: 0.122\n",
      "Recall: 0.140\n",
      "F1: 0.098\n",
      "Accuracy: 0.194\n",
      "Classification reports\n",
      "              precision    recall  f1-score   support\n",
      "\n",
      "       angry       0.10      0.04      0.06       816\n",
      "     disgust       0.05      0.00      0.01       703\n",
      "        fear       0.14      0.10      0.12       888\n",
      "       happy       0.22      0.71      0.33      1451\n",
      "         sad       0.15      0.10      0.12       984\n",
      "    surprise       0.04      0.01      0.01       732\n",
      "     neutral       0.15      0.02      0.04      1032\n",
      "\n",
      "    accuracy                           0.19      6606\n",
      "   macro avg       0.12      0.14      0.10      6606\n",
      "weighted avg       0.14      0.19      0.12      6606\n",
      "\n"
     ]
    }
   ],
   "source": [
    "showPerformance(akaze_predictions, akaze_actuals)"
   ]
  },
  {
   "cell_type": "markdown",
   "id": "31977360",
   "metadata": {},
   "source": [
    "# KNN with HoG"
   ]
  },
  {
   "cell_type": "code",
   "execution_count": 19,
   "id": "3e4b8231",
   "metadata": {},
   "outputs": [],
   "source": [
    "csv_list = ['data/hog/hog_data2.csv', 'data/hog/hog_scaled2.csv']"
   ]
  },
  {
   "cell_type": "code",
   "execution_count": 6,
   "id": "a8ee5552",
   "metadata": {},
   "outputs": [
    {
     "name": "stdout",
     "output_type": "stream",
     "text": [
      "data/hog/hog_data2.csv\n",
      "(31432, 2304)\n",
      "(31432,)\n",
      "(7896, 2304)\n",
      "(7896,)\n",
      "Train Accuracy: 0.998\n",
      "Test Accuracy: 0.527\n",
      "data/hog/hog_scaled2.csv\n",
      "(31432, 2304)\n",
      "(31432,)\n",
      "(7896, 2304)\n",
      "(7896,)\n",
      "Train Accuracy: 0.998\n",
      "Test Accuracy: 0.514\n"
     ]
    }
   ],
   "source": [
    "hog_predictions = []\n",
    "hog_actuals = []\n",
    "for i in range(len(csv_list)):\n",
    "    pred, act = processKNN(csv_list[i], 3)\n",
    "    hog_predictions.append(pred)\n",
    "    hog_actuals.append(act)"
   ]
  },
  {
   "cell_type": "markdown",
   "id": "48f829a8",
   "metadata": {},
   "source": [
    "## Evaluation"
   ]
  },
  {
   "cell_type": "markdown",
   "id": "8ad994d2",
   "metadata": {},
   "source": [
    "### Confusion matrix"
   ]
  },
  {
   "cell_type": "code",
   "execution_count": 16,
   "id": "69f59c54",
   "metadata": {
    "scrolled": false
   },
   "outputs": [
    {
     "name": "stderr",
     "output_type": "stream",
     "text": [
      "C:\\Users\\CREATE\\AppData\\Local\\Temp\\ipykernel_11516\\2811923800.py:15: UserWarning: FixedFormatter should only be used together with FixedLocator\n",
      "  ax.set_xticklabels([''] + target_labels)\n",
      "C:\\Users\\CREATE\\AppData\\Local\\Temp\\ipykernel_11516\\2811923800.py:16: UserWarning: FixedFormatter should only be used together with FixedLocator\n",
      "  ax.set_yticklabels([''] + target_labels)\n"
     ]
    },
    {
     "data": {
      "image/png": "[encoded data removed]",
      "text/plain": [
       "<Figure size 576x360 with 1 Axes>"
      ]
     },
     "metadata": {
      "needs_background": "light"
     },
     "output_type": "display_data"
    }
   ],
   "source": [
    "# Show only the best one \n",
    "i = 0\n",
    "confmat = confusion_matrix(y_true=hog_actuals[i], y_pred=hog_predictions[i], labels=targets)\n",
    "show_confusion_matrix(confmat)"
   ]
  },
  {
   "cell_type": "markdown",
   "id": "7910c77c",
   "metadata": {},
   "source": [
    "### Parformance matrics & Classification reports"
   ]
  },
  {
   "cell_type": "code",
   "execution_count": 20,
   "id": "9b0afeef",
   "metadata": {},
   "outputs": [
    {
     "name": "stdout",
     "output_type": "stream",
     "text": [
      "data/hog/hog_data2.csv\n",
      "Precision: 0.532\n",
      "Recall: 0.540\n",
      "F1: 0.532\n",
      "Accuracy: 0.527\n",
      "Classification reports\n",
      "              precision    recall  f1-score   support\n",
      "\n",
      "       angry       0.42      0.35      0.38       957\n",
      "     disgust       0.84      1.00      0.91       830\n",
      "        fear       0.47      0.41      0.44      1024\n",
      "       happy       0.54      0.62      0.58      1774\n",
      "         sad       0.45      0.33      0.38      1247\n",
      "    surprise       0.63      0.64      0.64       831\n",
      "     neutral       0.37      0.42      0.39      1233\n",
      "\n",
      "    accuracy                           0.53      7896\n",
      "   macro avg       0.53      0.54      0.53      7896\n",
      "weighted avg       0.52      0.53      0.52      7896\n",
      "\n",
      "data/hog/hog_scaled2.csv\n",
      "Precision: 0.518\n",
      "Recall: 0.527\n",
      "F1: 0.519\n",
      "Accuracy: 0.514\n",
      "Classification reports\n",
      "              precision    recall  f1-score   support\n",
      "\n",
      "       angry       0.42      0.35      0.38       957\n",
      "     disgust       0.84      1.00      0.91       830\n",
      "        fear       0.46      0.38      0.42      1024\n",
      "       happy       0.52      0.62      0.57      1774\n",
      "         sad       0.40      0.31      0.35      1247\n",
      "    surprise       0.62      0.61      0.61       831\n",
      "     neutral       0.37      0.41      0.39      1233\n",
      "\n",
      "    accuracy                           0.51      7896\n",
      "   macro avg       0.52      0.53      0.52      7896\n",
      "weighted avg       0.50      0.51      0.50      7896\n",
      "\n"
     ]
    }
   ],
   "source": [
    "showPerformance(hog_predictions, hog_actuals)"
   ]
  },
  {
   "cell_type": "markdown",
   "id": "4e414e2b",
   "metadata": {},
   "source": [
    "# Benchmark"
   ]
  },
  {
   "cell_type": "markdown",
   "id": "8f6f4ee9",
   "metadata": {},
   "source": [
    "## Find out best parameter for benchmark"
   ]
  },
  {
   "cell_type": "code",
   "execution_count": 17,
   "id": "94b0e9d5",
   "metadata": {},
   "outputs": [
    {
     "data": {
      "text/html": [
       "<div>\n",
       "<style scoped>\n",
       "    .dataframe tbody tr th:only-of-type {\n",
       "        vertical-align: middle;\n",
       "    }\n",
       "\n",
       "    .dataframe tbody tr th {\n",
       "        vertical-align: top;\n",
       "    }\n",
       "\n",
       "    .dataframe thead th {\n",
       "        text-align: right;\n",
       "    }\n",
       "</style>\n",
       "<table border=\"1\" class=\"dataframe\">\n",
       "  <thead>\n",
       "    <tr style=\"text-align: right;\">\n",
       "      <th></th>\n",
       "      <th>usage</th>\n",
       "      <th>emotion</th>\n",
       "      <th>pixels</th>\n",
       "    </tr>\n",
       "  </thead>\n",
       "  <tbody>\n",
       "    <tr>\n",
       "      <th>0</th>\n",
       "      <td>train</td>\n",
       "      <td>3</td>\n",
       "      <td>108 83 63 65 89 111 121 121 125 111 103 105 11...</td>\n",
       "    </tr>\n",
       "    <tr>\n",
       "      <th>1</th>\n",
       "      <td>train</td>\n",
       "      <td>3</td>\n",
       "      <td>137 142 159 162 158 134 113 167 174 177 164 12...</td>\n",
       "    </tr>\n",
       "    <tr>\n",
       "      <th>2</th>\n",
       "      <td>train</td>\n",
       "      <td>3</td>\n",
       "      <td>111 148 155 167 181 191 194 193 195 199 203 20...</td>\n",
       "    </tr>\n",
       "    <tr>\n",
       "      <th>3</th>\n",
       "      <td>train</td>\n",
       "      <td>3</td>\n",
       "      <td>151 156 121 100 80 116 151 169 183 185 192 190...</td>\n",
       "    </tr>\n",
       "    <tr>\n",
       "      <th>4</th>\n",
       "      <td>train</td>\n",
       "      <td>3</td>\n",
       "      <td>248 187 149 130 97 140 139 117 197 251 231 255...</td>\n",
       "    </tr>\n",
       "  </tbody>\n",
       "</table>\n",
       "</div>"
      ],
      "text/plain": [
       "   usage  emotion                                             pixels\n",
       "0  train        3  108 83 63 65 89 111 121 121 125 111 103 105 11...\n",
       "1  train        3  137 142 159 162 158 134 113 167 174 177 164 12...\n",
       "2  train        3  111 148 155 167 181 191 194 193 195 199 203 20...\n",
       "3  train        3  151 156 121 100 80 116 151 169 183 185 192 190...\n",
       "4  train        3  248 187 149 130 97 140 139 117 197 251 231 255..."
      ]
     },
     "execution_count": 17,
     "metadata": {},
     "output_type": "execute_result"
    }
   ],
   "source": [
    "# Use original dataset \n",
    "df = pd.read_csv('data/fer_data.csv')\n",
    "df.head()"
   ]
  },
  {
   "cell_type": "code",
   "execution_count": 19,
   "id": "c65bfd79",
   "metadata": {},
   "outputs": [],
   "source": [
    "df_train = df[df['usage']=='train']\n",
    "df_test = df[df['usage']=='test']\n",
    "train_data, train_scaled = load_data(df_train, 0)\n",
    "train_target = list(df_train.emotion)\n",
    "test_data, test_scaled = load_data(df_test, 0)\n",
    "test_target = list(df_test.emotion)"
   ]
  },
  {
   "cell_type": "code",
   "execution_count": 20,
   "id": "d668ec36",
   "metadata": {},
   "outputs": [],
   "source": [
    "X_train = np.array(train_data)\n",
    "y_train = np.array(train_target)\n",
    "X_test = np.array(test_data)\n",
    "y_test = np.array(test_target)"
   ]
  },
  {
   "cell_type": "code",
   "execution_count": 22,
   "id": "393ec85e",
   "metadata": {},
   "outputs": [
    {
     "data": {
      "text/plain": [
       "0.2295113260371596"
      ]
     },
     "execution_count": 22,
     "metadata": {},
     "output_type": "execute_result"
    }
   ],
   "source": [
    "# Check which strategy make is best\n",
    "dummy = DummyClassifier(strategy='most_frequent')\n",
    "dummy.fit(X_train, y_train)\n",
    "dummy.score(X_train, y_train)"
   ]
  },
  {
   "cell_type": "code",
   "execution_count": 23,
   "id": "736cd3c0",
   "metadata": {},
   "outputs": [
    {
     "data": {
      "text/plain": [
       "0.2246707193515704"
      ]
     },
     "execution_count": 23,
     "metadata": {},
     "output_type": "execute_result"
    }
   ],
   "source": [
    "dummy.score(X_test, y_test)"
   ]
  },
  {
   "cell_type": "code",
   "execution_count": 24,
   "id": "2b40869b",
   "metadata": {},
   "outputs": [
    {
     "data": {
      "text/plain": [
       "0.2295113260371596"
      ]
     },
     "execution_count": 24,
     "metadata": {},
     "output_type": "execute_result"
    }
   ],
   "source": [
    "dummy = DummyClassifier(strategy='prior')\n",
    "dummy.fit(X_train, y_train)\n",
    "dummy.score(X_train, y_train)"
   ]
  },
  {
   "cell_type": "code",
   "execution_count": 25,
   "id": "2074e8d6",
   "metadata": {},
   "outputs": [
    {
     "data": {
      "text/plain": [
       "0.2246707193515704"
      ]
     },
     "execution_count": 25,
     "metadata": {},
     "output_type": "execute_result"
    }
   ],
   "source": [
    "dummy.score(X_test, y_test)"
   ]
  },
  {
   "cell_type": "code",
   "execution_count": 26,
   "id": "d14c40b9",
   "metadata": {},
   "outputs": [
    {
     "data": {
      "text/plain": [
       "0.15465131076609825"
      ]
     },
     "execution_count": 26,
     "metadata": {},
     "output_type": "execute_result"
    }
   ],
   "source": [
    "dummy = DummyClassifier(strategy='stratified')\n",
    "dummy.fit(X_train, y_train)\n",
    "dummy.score(X_train, y_train)"
   ]
  },
  {
   "cell_type": "code",
   "execution_count": 27,
   "id": "726e59fc",
   "metadata": {},
   "outputs": [
    {
     "data": {
      "text/plain": [
       "0.15767477203647418"
      ]
     },
     "execution_count": 27,
     "metadata": {},
     "output_type": "execute_result"
    }
   ],
   "source": [
    "dummy.score(X_test, y_test)"
   ]
  },
  {
   "cell_type": "code",
   "execution_count": 28,
   "id": "651c8a01",
   "metadata": {},
   "outputs": [
    {
     "data": {
      "text/plain": [
       "0.14167090862814966"
      ]
     },
     "execution_count": 28,
     "metadata": {},
     "output_type": "execute_result"
    }
   ],
   "source": [
    "dummy = DummyClassifier(strategy='uniform', random_state=1)\n",
    "dummy.fit(X_train, y_train)\n",
    "dummy.score(X_train, y_train)"
   ]
  },
  {
   "cell_type": "code",
   "execution_count": 29,
   "id": "00f2f5b3",
   "metadata": {},
   "outputs": [
    {
     "data": {
      "text/plain": [
       "0.1469098277608916"
      ]
     },
     "execution_count": 29,
     "metadata": {},
     "output_type": "execute_result"
    }
   ],
   "source": [
    "dummy.score(X_test, y_test)"
   ]
  },
  {
   "cell_type": "code",
   "execution_count": 30,
   "id": "ad153eab",
   "metadata": {},
   "outputs": [
    {
     "data": {
      "text/plain": [
       "0.10085263425808094"
      ]
     },
     "execution_count": 30,
     "metadata": {},
     "output_type": "execute_result"
    }
   ],
   "source": [
    "dummy = DummyClassifier(strategy='constant', constant=1)\n",
    "dummy.fit(X_train, y_train)\n",
    "dummy.score(X_train, y_train)"
   ]
  },
  {
   "cell_type": "code",
   "execution_count": 31,
   "id": "2493feb3",
   "metadata": {},
   "outputs": [
    {
     "data": {
      "text/plain": [
       "0.10511651469098278"
      ]
     },
     "execution_count": 31,
     "metadata": {},
     "output_type": "execute_result"
    }
   ],
   "source": [
    "dummy.score(X_test, y_test)"
   ]
  },
  {
   "cell_type": "markdown",
   "id": "e40ec369",
   "metadata": {},
   "source": [
    "Most_frequent or prior are best for strategy parameter."
   ]
  },
  {
   "cell_type": "markdown",
   "id": "699515dc",
   "metadata": {},
   "source": [
    "## Check with Best PCA data"
   ]
  },
  {
   "cell_type": "code",
   "execution_count": 32,
   "id": "f8f32a2f",
   "metadata": {},
   "outputs": [
    {
     "data": {
      "text/html": [
       "<div>\n",
       "<style scoped>\n",
       "    .dataframe tbody tr th:only-of-type {\n",
       "        vertical-align: middle;\n",
       "    }\n",
       "\n",
       "    .dataframe tbody tr th {\n",
       "        vertical-align: top;\n",
       "    }\n",
       "\n",
       "    .dataframe thead th {\n",
       "        text-align: right;\n",
       "    }\n",
       "</style>\n",
       "<table border=\"1\" class=\"dataframe\">\n",
       "  <thead>\n",
       "    <tr style=\"text-align: right;\">\n",
       "      <th></th>\n",
       "      <th>usage</th>\n",
       "      <th>emotion</th>\n",
       "      <th>pca</th>\n",
       "    </tr>\n",
       "  </thead>\n",
       "  <tbody>\n",
       "    <tr>\n",
       "      <th>0</th>\n",
       "      <td>train</td>\n",
       "      <td>3</td>\n",
       "      <td>103 107 99 91 90 94 100 103 103 103 103 107 11...</td>\n",
       "    </tr>\n",
       "    <tr>\n",
       "      <th>1</th>\n",
       "      <td>train</td>\n",
       "      <td>3</td>\n",
       "      <td>147 149 148 148 149 152 153 152 151 150 150 14...</td>\n",
       "    </tr>\n",
       "    <tr>\n",
       "      <th>2</th>\n",
       "      <td>train</td>\n",
       "      <td>3</td>\n",
       "      <td>107 119 134 152 173 186 193 196 196 198 198 20...</td>\n",
       "    </tr>\n",
       "    <tr>\n",
       "      <th>3</th>\n",
       "      <td>train</td>\n",
       "      <td>3</td>\n",
       "      <td>146 145 133 122 116 123 141 165 186 201 208 20...</td>\n",
       "    </tr>\n",
       "    <tr>\n",
       "      <th>4</th>\n",
       "      <td>train</td>\n",
       "      <td>3</td>\n",
       "      <td>220 202 169 130 98 91 105 133 159 175 186 185 ...</td>\n",
       "    </tr>\n",
       "  </tbody>\n",
       "</table>\n",
       "</div>"
      ],
      "text/plain": [
       "   usage  emotion                                                pca\n",
       "0  train        3  103 107 99 91 90 94 100 103 103 103 103 107 11...\n",
       "1  train        3  147 149 148 148 149 152 153 152 151 150 150 14...\n",
       "2  train        3  107 119 134 152 173 186 193 196 196 198 198 20...\n",
       "3  train        3  146 145 133 122 116 123 141 165 186 201 208 20...\n",
       "4  train        3  220 202 169 130 98 91 105 133 159 175 186 185 ..."
      ]
     },
     "execution_count": 32,
     "metadata": {},
     "output_type": "execute_result"
    }
   ],
   "source": [
    "df = pd.read_csv('data/pca/fer_pca_inverse.csv')\n",
    "df.head()"
   ]
  },
  {
   "cell_type": "code",
   "execution_count": 33,
   "id": "21e984e4",
   "metadata": {},
   "outputs": [],
   "source": [
    "df_train = df[df['usage']=='train']\n",
    "df_test = df[df['usage']=='test']\n",
    "train_data, train_scaled = load_data(df_train, 1)\n",
    "train_target = list(df_train.emotion)\n",
    "test_data, test_scaled = load_data(df_test, 1)\n",
    "test_target = list(df_test.emotion)"
   ]
  },
  {
   "cell_type": "code",
   "execution_count": 34,
   "id": "dde4c99b",
   "metadata": {},
   "outputs": [],
   "source": [
    "X_train = np.array(train_data)\n",
    "y_train = np.array(train_target)\n",
    "X_test = np.array(test_data)\n",
    "y_test = np.array(test_target)"
   ]
  },
  {
   "cell_type": "code",
   "execution_count": 35,
   "id": "6ee0792a",
   "metadata": {
    "scrolled": true
   },
   "outputs": [
    {
     "data": {
      "text/plain": [
       "0.2295113260371596"
      ]
     },
     "execution_count": 35,
     "metadata": {},
     "output_type": "execute_result"
    }
   ],
   "source": [
    "dummy = DummyClassifier(strategy='most_frequent')\n",
    "dummy.fit(X_train, y_train)\n",
    "dummy.score(X_train, y_train)"
   ]
  },
  {
   "cell_type": "code",
   "execution_count": 36,
   "id": "1263b91a",
   "metadata": {},
   "outputs": [
    {
     "data": {
      "text/plain": [
       "0.2246707193515704"
      ]
     },
     "execution_count": 36,
     "metadata": {},
     "output_type": "execute_result"
    }
   ],
   "source": [
    "dummy.score(X_test, y_test)"
   ]
  },
  {
   "cell_type": "markdown",
   "id": "cdf2cb74",
   "metadata": {},
   "source": [
    "## Check with Best LDA data"
   ]
  },
  {
   "cell_type": "code",
   "execution_count": 37,
   "id": "55f549fa",
   "metadata": {},
   "outputs": [
    {
     "data": {
      "text/html": [
       "<div>\n",
       "<style scoped>\n",
       "    .dataframe tbody tr th:only-of-type {\n",
       "        vertical-align: middle;\n",
       "    }\n",
       "\n",
       "    .dataframe tbody tr th {\n",
       "        vertical-align: top;\n",
       "    }\n",
       "\n",
       "    .dataframe thead th {\n",
       "        text-align: right;\n",
       "    }\n",
       "</style>\n",
       "<table border=\"1\" class=\"dataframe\">\n",
       "  <thead>\n",
       "    <tr style=\"text-align: right;\">\n",
       "      <th></th>\n",
       "      <th>usage</th>\n",
       "      <th>emotion</th>\n",
       "      <th>lda</th>\n",
       "    </tr>\n",
       "  </thead>\n",
       "  <tbody>\n",
       "    <tr>\n",
       "      <th>0</th>\n",
       "      <td>train</td>\n",
       "      <td>3</td>\n",
       "      <td>0.7894818314647534 0.2147150019296881 -0.87952...</td>\n",
       "    </tr>\n",
       "    <tr>\n",
       "      <th>1</th>\n",
       "      <td>train</td>\n",
       "      <td>3</td>\n",
       "      <td>0.6069599043975686 -0.20427589187483838 0.2641...</td>\n",
       "    </tr>\n",
       "    <tr>\n",
       "      <th>2</th>\n",
       "      <td>train</td>\n",
       "      <td>3</td>\n",
       "      <td>-0.2795828858633714 1.0125084423693098 -0.1462...</td>\n",
       "    </tr>\n",
       "    <tr>\n",
       "      <th>3</th>\n",
       "      <td>train</td>\n",
       "      <td>3</td>\n",
       "      <td>-0.12393359351771732 0.4088989785758754 -1.315...</td>\n",
       "    </tr>\n",
       "    <tr>\n",
       "      <th>4</th>\n",
       "      <td>train</td>\n",
       "      <td>3</td>\n",
       "      <td>-0.14131908024016165 1.0288778060846748 -0.484...</td>\n",
       "    </tr>\n",
       "  </tbody>\n",
       "</table>\n",
       "</div>"
      ],
      "text/plain": [
       "   usage  emotion                                                lda\n",
       "0  train        3  0.7894818314647534 0.2147150019296881 -0.87952...\n",
       "1  train        3  0.6069599043975686 -0.20427589187483838 0.2641...\n",
       "2  train        3  -0.2795828858633714 1.0125084423693098 -0.1462...\n",
       "3  train        3  -0.12393359351771732 0.4088989785758754 -1.315...\n",
       "4  train        3  -0.14131908024016165 1.0288778060846748 -0.484..."
      ]
     },
     "execution_count": 37,
     "metadata": {},
     "output_type": "execute_result"
    }
   ],
   "source": [
    "df = pd.read_csv('data/lda/fer_lda_std.csv')\n",
    "df.head()"
   ]
  },
  {
   "cell_type": "code",
   "execution_count": 39,
   "id": "1be8daf0",
   "metadata": {},
   "outputs": [],
   "source": [
    "df_train = df[df['usage']=='train']\n",
    "df_test = df[df['usage']=='test']\n",
    "train_data, train_scaled = load_data(df_train, 4)\n",
    "train_target = list(df_train.emotion)\n",
    "test_data, test_scaled = load_data(df_test, 4)\n",
    "test_target = list(df_test.emotion)"
   ]
  },
  {
   "cell_type": "code",
   "execution_count": 40,
   "id": "8078a07c",
   "metadata": {},
   "outputs": [],
   "source": [
    "X_train = np.array(train_data)\n",
    "y_train = np.array(train_target)\n",
    "X_test = np.array(test_data)\n",
    "y_test = np.array(test_target)"
   ]
  },
  {
   "cell_type": "code",
   "execution_count": 41,
   "id": "53195d4d",
   "metadata": {
    "scrolled": true
   },
   "outputs": [
    {
     "data": {
      "text/plain": [
       "0.2295113260371596"
      ]
     },
     "execution_count": 41,
     "metadata": {},
     "output_type": "execute_result"
    }
   ],
   "source": [
    "dummy = DummyClassifier(strategy='most_frequent')\n",
    "dummy.fit(X_train, y_train)\n",
    "dummy.score(X_train, y_train)"
   ]
  },
  {
   "cell_type": "code",
   "execution_count": 42,
   "id": "a9137d75",
   "metadata": {},
   "outputs": [
    {
     "data": {
      "text/plain": [
       "0.2246707193515704"
      ]
     },
     "execution_count": 42,
     "metadata": {},
     "output_type": "execute_result"
    }
   ],
   "source": [
    "dummy.score(X_test, y_test)"
   ]
  },
  {
   "cell_type": "markdown",
   "id": "245a205e",
   "metadata": {},
   "source": [
    "## Check with best BoF"
   ]
  },
  {
   "cell_type": "code",
   "execution_count": 43,
   "id": "fa271ea0",
   "metadata": {},
   "outputs": [
    {
     "data": {
      "text/html": [
       "<div>\n",
       "<style scoped>\n",
       "    .dataframe tbody tr th:only-of-type {\n",
       "        vertical-align: middle;\n",
       "    }\n",
       "\n",
       "    .dataframe tbody tr th {\n",
       "        vertical-align: top;\n",
       "    }\n",
       "\n",
       "    .dataframe thead th {\n",
       "        text-align: right;\n",
       "    }\n",
       "</style>\n",
       "<table border=\"1\" class=\"dataframe\">\n",
       "  <thead>\n",
       "    <tr style=\"text-align: right;\">\n",
       "      <th></th>\n",
       "      <th>usage</th>\n",
       "      <th>emotion</th>\n",
       "      <th>histogram</th>\n",
       "    </tr>\n",
       "  </thead>\n",
       "  <tbody>\n",
       "    <tr>\n",
       "      <th>0</th>\n",
       "      <td>train</td>\n",
       "      <td>3</td>\n",
       "      <td>0 0 0 0 0 0 0 0 0 1 0 0 0 0 0 0 0 0 0 0 0 0 0 ...</td>\n",
       "    </tr>\n",
       "    <tr>\n",
       "      <th>1</th>\n",
       "      <td>train</td>\n",
       "      <td>3</td>\n",
       "      <td>0 0 0 0 1 0 0 0 1 1 0 0 0 0 0 0 0 1 0 1 0 0 0 ...</td>\n",
       "    </tr>\n",
       "    <tr>\n",
       "      <th>2</th>\n",
       "      <td>train</td>\n",
       "      <td>3</td>\n",
       "      <td>1 2 0 0 0 0 0 0 1 1 2 0 0 0 0 0 0 0 1 0 0 1 0 ...</td>\n",
       "    </tr>\n",
       "    <tr>\n",
       "      <th>3</th>\n",
       "      <td>train</td>\n",
       "      <td>3</td>\n",
       "      <td>0 0 0 0 1 0 0 0 0 0 0 2 0 0 0 0 1 0 0 0 0 1 0 ...</td>\n",
       "    </tr>\n",
       "    <tr>\n",
       "      <th>4</th>\n",
       "      <td>train</td>\n",
       "      <td>3</td>\n",
       "      <td>0 1 2 0 1 0 1 0 0 0 0 1 0 1 1 0 0 3 0 0 0 1 0 ...</td>\n",
       "    </tr>\n",
       "  </tbody>\n",
       "</table>\n",
       "</div>"
      ],
      "text/plain": [
       "   usage  emotion                                          histogram\n",
       "0  train        3  0 0 0 0 0 0 0 0 0 1 0 0 0 0 0 0 0 0 0 0 0 0 0 ...\n",
       "1  train        3  0 0 0 0 1 0 0 0 1 1 0 0 0 0 0 0 0 1 0 1 0 0 0 ...\n",
       "2  train        3  1 2 0 0 0 0 0 0 1 1 2 0 0 0 0 0 0 0 1 0 0 1 0 ...\n",
       "3  train        3  0 0 0 0 1 0 0 0 0 0 0 2 0 0 0 0 1 0 0 0 0 1 0 ...\n",
       "4  train        3  0 1 2 0 1 0 1 0 0 0 0 1 0 1 1 0 0 3 0 0 0 1 0 ..."
      ]
     },
     "execution_count": 43,
     "metadata": {},
     "output_type": "execute_result"
    }
   ],
   "source": [
    "df = pd.read_csv('data/sift/sift_bof_100.csv')\n",
    "df.head()"
   ]
  },
  {
   "cell_type": "code",
   "execution_count": 47,
   "id": "169abb16",
   "metadata": {},
   "outputs": [],
   "source": [
    "df_train = df[df['usage']=='train']\n",
    "df_test = df[df['usage']=='test']\n",
    "train_data, train_scaled = load_data(df_train, 2)\n",
    "train_target = list(df_train.emotion)\n",
    "test_data, test_scaled = load_data(df_test, 2)\n",
    "test_target = list(df_test.emotion)"
   ]
  },
  {
   "cell_type": "code",
   "execution_count": 44,
   "id": "d7b44e64",
   "metadata": {},
   "outputs": [],
   "source": [
    "X_train = np.array(train_data)\n",
    "y_train = np.array(train_target)\n",
    "X_test = np.array(test_data)\n",
    "y_test = np.array(test_target)"
   ]
  },
  {
   "cell_type": "code",
   "execution_count": 45,
   "id": "410f1026",
   "metadata": {},
   "outputs": [
    {
     "data": {
      "text/plain": [
       "0.2295113260371596"
      ]
     },
     "execution_count": 45,
     "metadata": {},
     "output_type": "execute_result"
    }
   ],
   "source": [
    "dummy = DummyClassifier(strategy='most_frequent')\n",
    "dummy.fit(X_train, y_train)\n",
    "dummy.score(X_train, y_train)"
   ]
  },
  {
   "cell_type": "code",
   "execution_count": 46,
   "id": "c2cf122a",
   "metadata": {},
   "outputs": [
    {
     "data": {
      "text/plain": [
       "0.2246707193515704"
      ]
     },
     "execution_count": 46,
     "metadata": {},
     "output_type": "execute_result"
    }
   ],
   "source": [
    "dummy.score(X_test, y_test)"
   ]
  },
  {
   "cell_type": "markdown",
   "id": "cfa6f90d",
   "metadata": {},
   "source": [
    "## Check with best HoG"
   ]
  },
  {
   "cell_type": "code",
   "execution_count": 47,
   "id": "f6c991bf",
   "metadata": {},
   "outputs": [
    {
     "data": {
      "text/html": [
       "<div>\n",
       "<style scoped>\n",
       "    .dataframe tbody tr th:only-of-type {\n",
       "        vertical-align: middle;\n",
       "    }\n",
       "\n",
       "    .dataframe tbody tr th {\n",
       "        vertical-align: top;\n",
       "    }\n",
       "\n",
       "    .dataframe thead th {\n",
       "        text-align: right;\n",
       "    }\n",
       "</style>\n",
       "<table border=\"1\" class=\"dataframe\">\n",
       "  <thead>\n",
       "    <tr style=\"text-align: right;\">\n",
       "      <th></th>\n",
       "      <th>usage</th>\n",
       "      <th>emotion</th>\n",
       "      <th>hog</th>\n",
       "    </tr>\n",
       "  </thead>\n",
       "  <tbody>\n",
       "    <tr>\n",
       "      <th>0</th>\n",
       "      <td>train</td>\n",
       "      <td>3</td>\n",
       "      <td>0 0 0 0 0 0 0 0 0 0 0 0 0 0 0 0 0 0 0 0 0 0 0 ...</td>\n",
       "    </tr>\n",
       "    <tr>\n",
       "      <th>1</th>\n",
       "      <td>train</td>\n",
       "      <td>3</td>\n",
       "      <td>0 0 0 0 0 0 0 0 0 0 0 0 0 0 0 0 0 0 0 0 0 0 0 ...</td>\n",
       "    </tr>\n",
       "    <tr>\n",
       "      <th>2</th>\n",
       "      <td>train</td>\n",
       "      <td>3</td>\n",
       "      <td>0 0 0 0 0 0 0 0 0 0 0 0 0 0 0 0 0 0 0 0 0 0 0 ...</td>\n",
       "    </tr>\n",
       "    <tr>\n",
       "      <th>3</th>\n",
       "      <td>train</td>\n",
       "      <td>3</td>\n",
       "      <td>0 0 0 0 0 0 0 0 0 0 0 0 0 0 0 0 0 0 0 0 0 0 0 ...</td>\n",
       "    </tr>\n",
       "    <tr>\n",
       "      <th>4</th>\n",
       "      <td>train</td>\n",
       "      <td>3</td>\n",
       "      <td>0 0 0 0 0 0 0 0 0 0 0 0 0 0 0 0 0 0 0 0 0 0 0 ...</td>\n",
       "    </tr>\n",
       "  </tbody>\n",
       "</table>\n",
       "</div>"
      ],
      "text/plain": [
       "   usage  emotion                                                hog\n",
       "0  train        3  0 0 0 0 0 0 0 0 0 0 0 0 0 0 0 0 0 0 0 0 0 0 0 ...\n",
       "1  train        3  0 0 0 0 0 0 0 0 0 0 0 0 0 0 0 0 0 0 0 0 0 0 0 ...\n",
       "2  train        3  0 0 0 0 0 0 0 0 0 0 0 0 0 0 0 0 0 0 0 0 0 0 0 ...\n",
       "3  train        3  0 0 0 0 0 0 0 0 0 0 0 0 0 0 0 0 0 0 0 0 0 0 0 ...\n",
       "4  train        3  0 0 0 0 0 0 0 0 0 0 0 0 0 0 0 0 0 0 0 0 0 0 0 ..."
      ]
     },
     "execution_count": 47,
     "metadata": {},
     "output_type": "execute_result"
    }
   ],
   "source": [
    "df = pd.read_csv('data/hog/hog_data.csv')\n",
    "df.head()"
   ]
  },
  {
   "cell_type": "code",
   "execution_count": 49,
   "id": "2081bf84",
   "metadata": {},
   "outputs": [],
   "source": [
    "df_train = df[df['usage']=='train']\n",
    "df_test = df[df['usage']=='test']\n",
    "train_data, train_scaled = load_data(df_train, 3)\n",
    "train_target = list(df_train.emotion)\n",
    "test_data, test_scaled = load_data(df_test, 3)\n",
    "test_target = list(df_test.emotion)"
   ]
  },
  {
   "cell_type": "code",
   "execution_count": 50,
   "id": "a41895b5",
   "metadata": {},
   "outputs": [],
   "source": [
    "X_train = np.array(train_data)\n",
    "y_train = np.array(train_target)\n",
    "X_test = np.array(test_data)\n",
    "y_test = np.array(test_target)"
   ]
  },
  {
   "cell_type": "code",
   "execution_count": 51,
   "id": "8bea577d",
   "metadata": {},
   "outputs": [
    {
     "data": {
      "text/plain": [
       "0.2295113260371596"
      ]
     },
     "execution_count": 51,
     "metadata": {},
     "output_type": "execute_result"
    }
   ],
   "source": [
    "dummy = DummyClassifier(strategy='most_frequent')\n",
    "dummy.fit(X_train, y_train)\n",
    "dummy.score(X_train, y_train)"
   ]
  },
  {
   "cell_type": "code",
   "execution_count": 52,
   "id": "e1b0cdb4",
   "metadata": {},
   "outputs": [
    {
     "data": {
      "text/plain": [
       "0.2246707193515704"
      ]
     },
     "execution_count": 52,
     "metadata": {},
     "output_type": "execute_result"
    }
   ],
   "source": [
    "dummy.score(X_test, y_test)"
   ]
  },
  {
   "cell_type": "markdown",
   "id": "9c113651",
   "metadata": {},
   "source": [
    "# Get better result"
   ]
  },
  {
   "cell_type": "markdown",
   "id": "ba9d024d",
   "metadata": {},
   "source": [
    "## Hyper parameter tuning"
   ]
  },
  {
   "cell_type": "markdown",
   "id": "b7e0d165",
   "metadata": {},
   "source": [
    "Use HoG data"
   ]
  },
  {
   "cell_type": "code",
   "execution_count": 21,
   "id": "ea0ba2a3",
   "metadata": {},
   "outputs": [
    {
     "data": {
      "text/html": [
       "<div>\n",
       "<style scoped>\n",
       "    .dataframe tbody tr th:only-of-type {\n",
       "        vertical-align: middle;\n",
       "    }\n",
       "\n",
       "    .dataframe tbody tr th {\n",
       "        vertical-align: top;\n",
       "    }\n",
       "\n",
       "    .dataframe thead th {\n",
       "        text-align: right;\n",
       "    }\n",
       "</style>\n",
       "<table border=\"1\" class=\"dataframe\">\n",
       "  <thead>\n",
       "    <tr style=\"text-align: right;\">\n",
       "      <th></th>\n",
       "      <th>usage</th>\n",
       "      <th>emotion</th>\n",
       "      <th>hog</th>\n",
       "    </tr>\n",
       "  </thead>\n",
       "  <tbody>\n",
       "    <tr>\n",
       "      <th>0</th>\n",
       "      <td>train</td>\n",
       "      <td>3</td>\n",
       "      <td>0 0 0 0 0 0 0 0 0 0 0 0 0 0 0 0 0 0 0 0 0 0 0 ...</td>\n",
       "    </tr>\n",
       "    <tr>\n",
       "      <th>1</th>\n",
       "      <td>train</td>\n",
       "      <td>3</td>\n",
       "      <td>0 0 0 0 0 0 0 0 0 0 0 0 0 0 0 0 0 0 0 0 0 0 0 ...</td>\n",
       "    </tr>\n",
       "    <tr>\n",
       "      <th>2</th>\n",
       "      <td>train</td>\n",
       "      <td>3</td>\n",
       "      <td>0 0 0 0 0 0 0 0 0 0 0 0 0 0 0 0 0 0 0 0 0 0 0 ...</td>\n",
       "    </tr>\n",
       "    <tr>\n",
       "      <th>3</th>\n",
       "      <td>train</td>\n",
       "      <td>3</td>\n",
       "      <td>0 0 0 0 0 0 0 0 0 0 0 0 0 0 0 0 0 0 0 0 0 0 0 ...</td>\n",
       "    </tr>\n",
       "    <tr>\n",
       "      <th>4</th>\n",
       "      <td>train</td>\n",
       "      <td>3</td>\n",
       "      <td>0 0 0 0 0 0 0 0 0 0 0 0 0 0 0 0 0 0 0 0 0 0 0 ...</td>\n",
       "    </tr>\n",
       "  </tbody>\n",
       "</table>\n",
       "</div>"
      ],
      "text/plain": [
       "   usage  emotion                                                hog\n",
       "0  train        3  0 0 0 0 0 0 0 0 0 0 0 0 0 0 0 0 0 0 0 0 0 0 0 ...\n",
       "1  train        3  0 0 0 0 0 0 0 0 0 0 0 0 0 0 0 0 0 0 0 0 0 0 0 ...\n",
       "2  train        3  0 0 0 0 0 0 0 0 0 0 0 0 0 0 0 0 0 0 0 0 0 0 0 ...\n",
       "3  train        3  0 0 0 0 0 0 0 0 0 0 0 0 0 0 0 0 0 0 0 0 0 0 0 ...\n",
       "4  train        3  0 0 0 0 0 0 0 0 0 0 0 0 0 0 0 0 0 0 0 0 0 0 0 ..."
      ]
     },
     "execution_count": 21,
     "metadata": {},
     "output_type": "execute_result"
    }
   ],
   "source": [
    "df = pd.read_csv('data/hog/hog_data2.csv')\n",
    "df.head()"
   ]
  },
  {
   "cell_type": "code",
   "execution_count": 23,
   "id": "530cbf1b",
   "metadata": {},
   "outputs": [],
   "source": [
    "df_train = df[df['usage']=='train']\n",
    "df_test = df[df['usage']=='test']\n",
    "train_data, train_scaled = load_data(df_train, 3)\n",
    "train_target = list(df_train.emotion)\n",
    "test_data, test_scaled = load_data(df_test, 3)\n",
    "test_target = list(df_test.emotion)"
   ]
  },
  {
   "cell_type": "code",
   "execution_count": 24,
   "id": "d11d2585",
   "metadata": {},
   "outputs": [],
   "source": [
    "X_train = np.array(train_data)\n",
    "y_train = np.array(train_target)\n",
    "X_test = np.array(test_data)\n",
    "y_test = np.array(test_target)"
   ]
  },
  {
   "cell_type": "code",
   "execution_count": null,
   "id": "240c5eab",
   "metadata": {},
   "outputs": [],
   "source": [
    "param_grid = [{'n_neighbors': [1, 3, 5, 10, 50, 100, 500, 1000],\n",
    "               'weights': ['uniform', 'distance'], \n",
    "               'metric': ['minkowski', 'euclidean', 'manhattan']}]\n",
    "\n",
    "knn = KNN()\n",
    "\n",
    "gs = GridSearchCV(estimator=knn, \n",
    "                  param_grid=param_grid, \n",
    "                  scoring='accuracy', \n",
    "                  refit=True,\n",
    "                  cv=10,\n",
    "                  n_jobs=-1)\n",
    "clf = gs.fit(X_train, y_train)"
   ]
  },
  {
   "cell_type": "code",
   "execution_count": null,
   "id": "8a8b207d",
   "metadata": {},
   "outputs": [],
   "source": [
    "print(clf.best_score_)\n",
    "print(clf.best_params_)\n",
    "result = clf.best_estimator_\n",
    "print('Test accuracy: %.3f' % result.score(X_test, y_test))"
   ]
  },
  {
   "cell_type": "markdown",
   "id": "fef65fcc",
   "metadata": {},
   "source": [
    "## K-fold cross-validation"
   ]
  },
  {
   "cell_type": "code",
   "execution_count": null,
   "id": "fca2677b",
   "metadata": {},
   "outputs": [],
   "source": [
    "knn = KNN(n_neighbors=3, weights='distance', metric='minkowski')\n",
    "scores = cross_val_score(estimator=knn,\n",
    "                         X=X_train,\n",
    "                         y=y_train,\n",
    "                         cv=10,\n",
    "                         n_jobs=1)\n",
    "print('CV accuracy scores: %s' % scores)\n",
    "print('CV accuracy: %.3f +/- %.3f' % (np.mean(scores), np.std(scores)))"
   ]
  },
  {
   "cell_type": "markdown",
   "id": "d192b1c6",
   "metadata": {},
   "source": [
    "# Visualizing learning curves and validation curves"
   ]
  },
  {
   "cell_type": "code",
   "execution_count": 8,
   "id": "48eca67e",
   "metadata": {},
   "outputs": [
    {
     "data": {
      "image/png": "[encoded data removed]",
      "text/plain": [
       "<Figure size 432x288 with 1 Axes>"
      ]
     },
     "metadata": {
      "needs_background": "light"
     },
     "output_type": "display_data"
    }
   ],
   "source": [
    "knn = KNN(n_neighbors=3, weights='distance', metric='minkowski')\n",
    "\n",
    "train_sizes, train_scores, test_scores =\\\n",
    "                learning_curve(estimator=knn,\n",
    "                               X=X_train,\n",
    "                               y=y_train,\n",
    "                               train_sizes=np.linspace(0.1, 1.0, 10),\n",
    "                               cv=10,\n",
    "                               n_jobs=1)\n",
    "\n",
    "train_mean = np.mean(train_scores, axis=1)\n",
    "train_std = np.std(train_scores, axis=1)\n",
    "test_mean = np.mean(test_scores, axis=1)\n",
    "test_std = np.std(test_scores, axis=1)\n",
    "\n",
    "plt.plot(train_sizes, train_mean,\n",
    "         color='blue', marker='o',\n",
    "         markersize=5, label='Training accuracy')\n",
    "\n",
    "plt.fill_between(train_sizes,\n",
    "                 train_mean + train_std,\n",
    "                 train_mean - train_std,\n",
    "                 alpha=0.15, color='blue')\n",
    "\n",
    "plt.plot(train_sizes, test_mean,\n",
    "         color='green', linestyle='--',\n",
    "         marker='s', markersize=5,\n",
    "         label='Validation accuracy')\n",
    "\n",
    "plt.fill_between(train_sizes,\n",
    "                 test_mean + test_std,\n",
    "                 test_mean - test_std,\n",
    "                 alpha=0.15, color='green')\n",
    "\n",
    "plt.grid()\n",
    "plt.xlabel('Number of training examples')\n",
    "plt.ylabel('Accuracy')\n",
    "plt.legend(loc='center right')\n",
    "plt.tight_layout()\n",
    "plt.show()"
   ]
  },
  {
   "cell_type": "code",
   "execution_count": 12,
   "id": "20ade2b0",
   "metadata": {},
   "outputs": [
    {
     "data": {
      "image/png": "[encoded data removed]",
      "text/plain": [
       "<Figure size 432x288 with 1 Axes>"
      ]
     },
     "metadata": {
      "needs_background": "light"
     },
     "output_type": "display_data"
    }
   ],
   "source": [
    "knn = KNN(weights='distance', metric='minkowski')\n",
    "param_range = [1, 3, 5, 10, 50, 100, 500, 1000]\n",
    "\n",
    "train_scores, test_scores = validation_curve(\n",
    "                estimator=knn, \n",
    "                X=X_train, \n",
    "                y=y_train, \n",
    "                param_name='n_neighbors', \n",
    "                param_range=param_range,\n",
    "                cv=10)\n",
    "\n",
    "train_mean = np.mean(train_scores, axis=1)\n",
    "train_std = np.std(train_scores, axis=1)\n",
    "test_mean = np.mean(test_scores, axis=1)\n",
    "test_std = np.std(test_scores, axis=1)\n",
    "\n",
    "plt.plot(param_range, train_mean, \n",
    "         color='blue', marker='o', \n",
    "         markersize=5, label='Training accuracy')\n",
    "\n",
    "plt.fill_between(param_range, train_mean + train_std,\n",
    "                 train_mean - train_std, alpha=0.15,\n",
    "                 color='blue')\n",
    "\n",
    "plt.plot(param_range, test_mean, \n",
    "         color='green', linestyle='--', \n",
    "         marker='s', markersize=5, \n",
    "         label='Validation accuracy')\n",
    "\n",
    "plt.fill_between(param_range, \n",
    "                 test_mean + test_std,\n",
    "                 test_mean - test_std, \n",
    "                 alpha=0.15, color='green')\n",
    "\n",
    "plt.grid()\n",
    "# plt.xscale('log')\n",
    "plt.legend(loc='center right')\n",
    "plt.xlabel('N Neighbors')\n",
    "plt.ylabel('Accuracy')\n",
    "plt.tight_layout()\n",
    "plt.show()"
   ]
  }
 ],
 "metadata": {
  "kernelspec": {
   "display_name": "Python 3 (ipykernel)",
   "language": "python",
   "name": "python3"
  },
  "language_info": {
   "codemirror_mode": {
    "name": "ipython",
    "version": 3
   },
   "file_extension": ".py",
   "mimetype": "text/x-python",
   "name": "python",
   "nbconvert_exporter": "python",
   "pygments_lexer": "ipython3",
   "version": "3.9.12"
  }
 },
 "nbformat": 4,
 "nbformat_minor": 5
}
