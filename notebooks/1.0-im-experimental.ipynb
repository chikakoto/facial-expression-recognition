{
 "cells": [
  {
   "cell_type": "markdown",
   "metadata": {},
   "source": [
    "# The Data"
   ]
  },
  {
   "cell_type": "markdown",
   "metadata": {},
   "source": [
    "The data consists of 48x48 pixel grayscale images of faces. The faces have been automatically registered so that the face is more or less centred and occupies about the same amount of space in each image.\n",
    "\n",
    "The task is to categorize each face based on the emotion shown in the facial expression into one of seven categories (0=Angry, 1=Disgust, 2=Fear, 3=Happy, 4=Sad, 5=Surprise, 6=Neutral). The training set consists of 28,709 examples and the public test set consists of 3,589 examples.\n",
    "https://www.kaggle.com/datasets/msambare/fer2013?resource=download"
   ]
  },
  {
   "cell_type": "markdown",
   "metadata": {},
   "source": [
    "# 2. Initial EDA"
   ]
  },
  {
   "cell_type": "markdown",
   "metadata": {},
   "source": [
    "### Importing Packages"
   ]
  },
  {
   "cell_type": "code",
   "execution_count": 1,
   "metadata": {},
   "outputs": [],
   "source": [
    "import os\n",
    "import pandas as pd\n",
    "import numpy as np\n",
    "from matplotlib import pyplot as plt\n",
    "%matplotlib inline\n",
    "import seaborn as sns\n",
    "\n",
    "from skimage import io\n",
    "import random\n",
    "\n",
    "\n",
    "# import tensorflow as tf\n",
    "# import keras"
   ]
  },
  {
   "cell_type": "code",
   "execution_count": 2,
   "metadata": {},
   "outputs": [
    {
     "name": "stdout",
     "output_type": "stream",
     "text": [
      "/Users/ivan.miller/Documents/study/ccny/22Spring_ML/final_project/facial-expression-recognition/notebooks\r\n"
     ]
    }
   ],
   "source": [
    "!pwd"
   ]
  },
  {
   "cell_type": "code",
   "execution_count": 3,
   "metadata": {},
   "outputs": [],
   "source": [
    "# '/Users/ivan.miller/Documents/study/ccny/22Spring_ML/final_project/project_data/test'\n",
    "train_path = '../../project_data/train/' # added the last forward slash\n",
    "test_path = '../../project_data/test/' # added the last forward slash\n",
    "\n",
    "# create a dictionary with each emotion encoded as integer\n",
    "# emotions = {'angry': 0, 'disgust': 1, 'fear': 2, 'happy': 3, 'sad': 4, 'surprise': 5, 'neutral': 6}\n",
    "# create a dictionary with values as keys to lookup original labels\n",
    "# label_lookup  = {y: x for x, y in emotions.items()} "
   ]
  },
  {
   "cell_type": "markdown",
   "metadata": {},
   "source": [
    "#### Exploring the folder contents"
   ]
  },
  {
   "cell_type": "code",
   "execution_count": 4,
   "metadata": {},
   "outputs": [],
   "source": [
    "# dir_paths = [] # paths to files\n",
    "# dir_names = [] # flattened images\n",
    "# files = [] # integers as labels \n",
    "# for dir_path, dir_name, file_names in os.walk(train_path, topdown=False):\n",
    "#     dir_paths.append(dir_path)\n",
    "#     dir_names.append(dir_name)\n",
    "#     for filename in file_names:\n",
    "#         files.append(filename)"
   ]
  },
  {
   "cell_type": "code",
   "execution_count": 5,
   "metadata": {},
   "outputs": [],
   "source": [
    "# dir_paths"
   ]
  },
  {
   "cell_type": "code",
   "execution_count": 6,
   "metadata": {},
   "outputs": [],
   "source": [
    "# dir_names"
   ]
  },
  {
   "cell_type": "code",
   "execution_count": 7,
   "metadata": {},
   "outputs": [],
   "source": [
    "# files[:3]"
   ]
  },
  {
   "cell_type": "markdown",
   "metadata": {},
   "source": [
    "### Loading the data"
   ]
  },
  {
   "cell_type": "code",
   "execution_count": 43,
   "metadata": {},
   "outputs": [],
   "source": [
    "def preprocess(path_to_folder):\n",
    "    \n",
    "    '''\n",
    "    Takes path to a directory with images (train or test) as input\n",
    "    Returns three lists:\n",
    "    1. Full paths to image files\n",
    "    2. Images as flattened arrays\n",
    "    3. String labels for each image\n",
    "    '''\n",
    "    \n",
    "    files = [] # paths to files\n",
    "    images = [] # flattened images\n",
    "    labels = [] # integers as labels \n",
    "\n",
    "    for dir_path, dir_name, file_names in os.walk(path_to_folder, topdown=False):\n",
    "        label = dir_path.replace(path_to_folder,'') # taking a label out of path\n",
    "        if label != '':\n",
    "            for filename in file_names:\n",
    "                file_path = os.path.join(dir_path, filename) # creaitng a full path for file\n",
    "                img = io.imread(file_path) # reading the image from the path\n",
    "                img_array = np.array(img).flatten() # creating an array and flattening\n",
    "\n",
    "                files.append(file_path) # append file path\n",
    "                images.append(img_array) # append flattened array\n",
    "                labels.append(label) # append label as a string\n",
    "#                 labels.append(emotions[label]) # append label as an integer\n",
    "    \n",
    "    # print out lengths of each list before returning the results\n",
    "    print(f'Number of files: {len(files)}')\n",
    "    print(f'Number of images: {len(images)}')\n",
    "    print(f'Number of labels: {len(labels)}')\n",
    "    return files, images, labels"
   ]
  },
  {
   "cell_type": "code",
   "execution_count": 52,
   "metadata": {},
   "outputs": [
    {
     "name": "stdout",
     "output_type": "stream",
     "text": [
      "Number of files: 28709\n",
      "Number of images: 28709\n",
      "Number of labels: 28709\n"
     ]
    }
   ],
   "source": [
    "# Creating the lists for files arrays and labels of train data\n",
    "train_files, train_images, train_labels = preprocess(train_path)"
   ]
  },
  {
   "cell_type": "code",
   "execution_count": 73,
   "metadata": {},
   "outputs": [
    {
     "data": {
      "image/png": "[encoded data removed]",
      "text/plain": [
       "<Figure size 432x288 with 1 Axes>"
      ]
     },
     "metadata": {
      "needs_background": "light"
     },
     "output_type": "display_data"
    }
   ],
   "source": [
    "# Sanity check using a random image from the train set\n",
    "f = random.randint(1,len(train_files))\n",
    "img = io.imread(train_files[f])\n",
    "\n",
    "plt.imshow(img, cmap='gray')\n",
    "plt.title(f'Random {train_labels[f]} face from the train set', fontweight = 'bold')\n",
    "plt.show()\n",
    "\n",
    "# print(f'Label: {label_lookup[train_labels[f]]}')"
   ]
  },
  {
   "cell_type": "code",
   "execution_count": 87,
   "metadata": {},
   "outputs": [
    {
     "data": {
      "image/png": "[encoded data removed]",
      "text/plain": [
       "<Figure size 432x288 with 1 Axes>"
      ]
     },
     "metadata": {
      "needs_background": "light"
     },
     "output_type": "display_data"
    }
   ],
   "source": [
    "#Count the number of occurences in the train set\n",
    "label, counts = np.unique(train_labels, return_counts = True)\n",
    "\n",
    "plt.bar(label, counts )\n",
    "plt.title('Train label counts')\n",
    "plt.show()"
   ]
  },
  {
   "cell_type": "code",
   "execution_count": 72,
   "metadata": {},
   "outputs": [
    {
     "name": "stdout",
     "output_type": "stream",
     "text": [
      "Number of files: 7178\n",
      "Number of images: 7178\n",
      "Number of labels: 7178\n"
     ]
    }
   ],
   "source": [
    "# Creating the lists for files arrays and labels of train data\n",
    "test_files, test_images, test_labels = preprocess(test_path)"
   ]
  },
  {
   "cell_type": "code",
   "execution_count": 76,
   "metadata": {},
   "outputs": [
    {
     "data": {
      "image/png": "[encoded data removed]",
      "text/plain": [
       "<Figure size 432x288 with 1 Axes>"
      ]
     },
     "metadata": {
      "needs_background": "light"
     },
     "output_type": "display_data"
    }
   ],
   "source": [
    "# Sanity check using a random image from the test set\n",
    "f = random.randint(1,len(test_files))\n",
    "img = io.imread(test_files[f])\n",
    "\n",
    "plt.imshow(img, cmap='gray')\n",
    "plt.title(f'Random {train_labels[f]} face from the test set', fontweight = 'bold')\n",
    "plt.show()\n",
    "\n",
    "# print(f'Label: {label_lookup[train_labels[f]]}')"
   ]
  },
  {
   "cell_type": "code",
   "execution_count": 88,
   "metadata": {},
   "outputs": [
    {
     "data": {
      "image/png": "[encoded data removed]",
      "text/plain": [
       "<Figure size 432x288 with 1 Axes>"
      ]
     },
     "metadata": {
      "needs_background": "light"
     },
     "output_type": "display_data"
    }
   ],
   "source": [
    "#Count the number of occurences in the train set\n",
    "label, counts = np.unique(test_labels, return_counts = True)\n",
    "\n",
    "plt.bar(label, counts )\n",
    "plt.title('Test label counts')\n",
    "plt.show()"
   ]
  }
 ],
 "metadata": {
  "kernelspec": {
   "display_name": "Python 3",
   "language": "python",
   "name": "python3"
  },
  "language_info": {
   "codemirror_mode": {
    "name": "ipython",
    "version": 3
   },
   "file_extension": ".py",
   "mimetype": "text/x-python",
   "name": "python",
   "nbconvert_exporter": "python",
   "pygments_lexer": "ipython3",
   "version": "3.8.5"
  }
 },
 "nbformat": 4,
 "nbformat_minor": 4
}
