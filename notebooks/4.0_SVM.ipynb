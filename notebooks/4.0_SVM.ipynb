{
 "cells": [
  {
   "cell_type": "code",
   "execution_count": 18,
   "id": "3d05c734",
   "metadata": {},
   "outputs": [],
   "source": [
    "import math\n",
    "import numpy as np\n",
    "import pandas as pd\n",
    "import seaborn as sns\n",
    "import matplotlib.pyplot as plt\n",
    "\n",
    "from sklearn.model_selection import train_test_split\n",
    "from sklearn.pipeline import make_pipeline\n",
    "from sklearn.preprocessing import MinMaxScaler\n",
    "from sklearn.model_selection import GridSearchCV\n",
    "from sklearn.svm import SVC, LinearSVC\n",
    "from sklearn.decomposition import PCA\n",
    "\n",
    "from sklearn.metrics import confusion_matrix\n",
    "from sklearn.model_selection import learning_curve\n",
    "from sklearn.model_selection import validation_curve\n",
    "from sklearn.metrics import confusion_matrix\n",
    "from sklearn.metrics import precision_score, recall_score, f1_score, accuracy_score, classification_report\n",
    "from sklearn.metrics import roc_curve, auc"
   ]
  },
  {
   "cell_type": "markdown",
   "id": "4d5ec9ba",
   "metadata": {},
   "source": [
    "# Load data"
   ]
  },
  {
   "cell_type": "code",
   "execution_count": 19,
   "id": "0cb35c1b",
   "metadata": {},
   "outputs": [],
   "source": [
    "emotion_labels = {0:'angry', 2:'fear', 3:'happy', 4:'sad', 5:'surprise', 6:'neutral'}\n",
    "target_labels = [val for key, val in emotion_labels.items()]\n",
    "targets = [key for key, val in emotion_labels.items()]"
   ]
  },
  {
   "cell_type": "code",
   "execution_count": 20,
   "id": "5629da1b",
   "metadata": {},
   "outputs": [
    {
     "data": {
      "text/html": [
       "<div>\n",
       "<style scoped>\n",
       "    .dataframe tbody tr th:only-of-type {\n",
       "        vertical-align: middle;\n",
       "    }\n",
       "\n",
       "    .dataframe tbody tr th {\n",
       "        vertical-align: top;\n",
       "    }\n",
       "\n",
       "    .dataframe thead th {\n",
       "        text-align: right;\n",
       "    }\n",
       "</style>\n",
       "<table border=\"1\" class=\"dataframe\">\n",
       "  <thead>\n",
       "    <tr style=\"text-align: right;\">\n",
       "      <th></th>\n",
       "      <th>usage</th>\n",
       "      <th>emotion</th>\n",
       "      <th>pixels</th>\n",
       "    </tr>\n",
       "  </thead>\n",
       "  <tbody>\n",
       "    <tr>\n",
       "      <th>0</th>\n",
       "      <td>train</td>\n",
       "      <td>3</td>\n",
       "      <td>108 83 63 65 89 111 121 121 125 111 103 105 11...</td>\n",
       "    </tr>\n",
       "    <tr>\n",
       "      <th>1</th>\n",
       "      <td>train</td>\n",
       "      <td>3</td>\n",
       "      <td>137 142 159 162 158 134 113 167 174 177 164 12...</td>\n",
       "    </tr>\n",
       "    <tr>\n",
       "      <th>2</th>\n",
       "      <td>train</td>\n",
       "      <td>3</td>\n",
       "      <td>111 148 155 167 181 191 194 193 195 199 203 20...</td>\n",
       "    </tr>\n",
       "    <tr>\n",
       "      <th>3</th>\n",
       "      <td>train</td>\n",
       "      <td>3</td>\n",
       "      <td>151 156 121 100 80 116 151 169 183 185 192 190...</td>\n",
       "    </tr>\n",
       "    <tr>\n",
       "      <th>4</th>\n",
       "      <td>train</td>\n",
       "      <td>3</td>\n",
       "      <td>248 187 149 130 97 140 139 117 197 251 231 255...</td>\n",
       "    </tr>\n",
       "  </tbody>\n",
       "</table>\n",
       "</div>"
      ],
      "text/plain": [
       "   usage  emotion                                             pixels\n",
       "0  train        3  108 83 63 65 89 111 121 121 125 111 103 105 11...\n",
       "1  train        3  137 142 159 162 158 134 113 167 174 177 164 12...\n",
       "2  train        3  111 148 155 167 181 191 194 193 195 199 203 20...\n",
       "3  train        3  151 156 121 100 80 116 151 169 183 185 192 190...\n",
       "4  train        3  248 187 149 130 97 140 139 117 197 251 231 255..."
      ]
     },
     "execution_count": 20,
     "metadata": {},
     "output_type": "execute_result"
    }
   ],
   "source": [
    "df = pd.read_csv('../data/fer_data.csv')\n",
    "df.head()"
   ]
  },
  {
   "cell_type": "code",
   "execution_count": 4,
   "id": "ebb1fe2c",
   "metadata": {},
   "outputs": [
    {
     "data": {
      "text/html": [
       "<div>\n",
       "<style scoped>\n",
       "    .dataframe tbody tr th:only-of-type {\n",
       "        vertical-align: middle;\n",
       "    }\n",
       "\n",
       "    .dataframe tbody tr th {\n",
       "        vertical-align: top;\n",
       "    }\n",
       "\n",
       "    .dataframe thead th {\n",
       "        text-align: right;\n",
       "    }\n",
       "</style>\n",
       "<table border=\"1\" class=\"dataframe\">\n",
       "  <thead>\n",
       "    <tr style=\"text-align: right;\">\n",
       "      <th></th>\n",
       "      <th>usage</th>\n",
       "      <th>emotion</th>\n",
       "      <th>histogram</th>\n",
       "    </tr>\n",
       "  </thead>\n",
       "  <tbody>\n",
       "    <tr>\n",
       "      <th>0</th>\n",
       "      <td>train</td>\n",
       "      <td>3</td>\n",
       "      <td>0 1 0 2 1 0 1 0 0 0 0 0 0 3 0 0 0 0 3 0 1 0 1 ...</td>\n",
       "    </tr>\n",
       "    <tr>\n",
       "      <th>1</th>\n",
       "      <td>train</td>\n",
       "      <td>3</td>\n",
       "      <td>0 2 0 0 0 0 0 0 1 3 1 0 2 2 2 0 2 4 0 1 0 0 0 ...</td>\n",
       "    </tr>\n",
       "    <tr>\n",
       "      <th>2</th>\n",
       "      <td>train</td>\n",
       "      <td>3</td>\n",
       "      <td>1 0 2 2 1 0 1 1 3 1 0 1 2 0 0 0 0 1 0 0 2 2 3 ...</td>\n",
       "    </tr>\n",
       "    <tr>\n",
       "      <th>3</th>\n",
       "      <td>train</td>\n",
       "      <td>3</td>\n",
       "      <td>0 0 0 0 0 0 0 0 1 0 0 2 0 1 1 2 0 1 1 0 0 0 0 ...</td>\n",
       "    </tr>\n",
       "    <tr>\n",
       "      <th>4</th>\n",
       "      <td>train</td>\n",
       "      <td>3</td>\n",
       "      <td>1 2 1 1 1 1 0 0 1 1 4 1 2 0 2 1 5 5 2 2 0 0 0 ...</td>\n",
       "    </tr>\n",
       "  </tbody>\n",
       "</table>\n",
       "</div>"
      ],
      "text/plain": [
       "   usage  emotion                                          histogram\n",
       "0  train        3  0 1 0 2 1 0 1 0 0 0 0 0 0 3 0 0 0 0 3 0 1 0 1 ...\n",
       "1  train        3  0 2 0 0 0 0 0 0 1 3 1 0 2 2 2 0 2 4 0 1 0 0 0 ...\n",
       "2  train        3  1 0 2 2 1 0 1 1 3 1 0 1 2 0 0 0 0 1 0 0 2 2 3 ...\n",
       "3  train        3  0 0 0 0 0 0 0 0 1 0 0 2 0 1 1 2 0 1 1 0 0 0 0 ...\n",
       "4  train        3  1 2 1 1 1 1 0 0 1 1 4 1 2 0 2 1 5 5 2 2 0 0 0 ..."
      ]
     },
     "execution_count": 4,
     "metadata": {},
     "output_type": "execute_result"
    }
   ],
   "source": [
    "df_sift = pd.read_csv('../data/sift_data.csv')\n",
    "df_sift.head()"
   ]
  },
  {
   "cell_type": "code",
   "execution_count": 5,
   "id": "8cc66c8d",
   "metadata": {},
   "outputs": [
    {
     "data": {
      "text/html": [
       "<div>\n",
       "<style scoped>\n",
       "    .dataframe tbody tr th:only-of-type {\n",
       "        vertical-align: middle;\n",
       "    }\n",
       "\n",
       "    .dataframe tbody tr th {\n",
       "        vertical-align: top;\n",
       "    }\n",
       "\n",
       "    .dataframe thead th {\n",
       "        text-align: right;\n",
       "    }\n",
       "</style>\n",
       "<table border=\"1\" class=\"dataframe\">\n",
       "  <thead>\n",
       "    <tr style=\"text-align: right;\">\n",
       "      <th></th>\n",
       "      <th>usage</th>\n",
       "      <th>emotion</th>\n",
       "      <th>histogram</th>\n",
       "    </tr>\n",
       "  </thead>\n",
       "  <tbody>\n",
       "    <tr>\n",
       "      <th>0</th>\n",
       "      <td>train</td>\n",
       "      <td>3</td>\n",
       "      <td>3 7 2 1 5</td>\n",
       "    </tr>\n",
       "    <tr>\n",
       "      <th>1</th>\n",
       "      <td>train</td>\n",
       "      <td>3</td>\n",
       "      <td>4 6 0 4 11</td>\n",
       "    </tr>\n",
       "    <tr>\n",
       "      <th>2</th>\n",
       "      <td>train</td>\n",
       "      <td>3</td>\n",
       "      <td>5 8 3 3 10</td>\n",
       "    </tr>\n",
       "    <tr>\n",
       "      <th>3</th>\n",
       "      <td>train</td>\n",
       "      <td>3</td>\n",
       "      <td>5 2 0 3 5</td>\n",
       "    </tr>\n",
       "    <tr>\n",
       "      <th>4</th>\n",
       "      <td>train</td>\n",
       "      <td>3</td>\n",
       "      <td>5 13 2 7 11</td>\n",
       "    </tr>\n",
       "  </tbody>\n",
       "</table>\n",
       "</div>"
      ],
      "text/plain": [
       "   usage  emotion    histogram\n",
       "0  train        3    3 7 2 1 5\n",
       "1  train        3   4 6 0 4 11\n",
       "2  train        3   5 8 3 3 10\n",
       "3  train        3    5 2 0 3 5\n",
       "4  train        3  5 13 2 7 11"
      ]
     },
     "execution_count": 5,
     "metadata": {},
     "output_type": "execute_result"
    }
   ],
   "source": [
    "df_sift_k6 = pd.read_csv('../data/sift_k6.csv')\n",
    "df_sift_k6.head()"
   ]
  },
  {
   "cell_type": "code",
   "execution_count": 21,
   "id": "53e05b0d",
   "metadata": {},
   "outputs": [],
   "source": [
    "def load_data(df, sift):\n",
    "    image_data = []\n",
    "    image_scaled = []\n",
    "    \n",
    "    for index, row in df.iterrows():\n",
    "        if sift == 1:\n",
    "            field = row.histogram\n",
    "        else:\n",
    "            field = row.pixels\n",
    "        image = np.fromstring(field, dtype=int, sep=' ')\n",
    "        scale = image / 255.0\n",
    "        #image = np.reshape(image, (48, 48))\n",
    "        image_data.append(image)\n",
    "        image_scaled.append(scale)\n",
    "        \n",
    "    return image_data, image_scaled"
   ]
  },
  {
   "cell_type": "markdown",
   "id": "a3995d48",
   "metadata": {},
   "source": [
    "# SVM with original dataset"
   ]
  },
  {
   "cell_type": "code",
   "execution_count": 7,
   "id": "5c312ac3",
   "metadata": {},
   "outputs": [],
   "source": [
    "df_train = df[df['usage']=='train']\n",
    "df_test = df[df['usage']=='test']\n",
    "train_data = load_data(df_train, 0)\n",
    "train_target = list(df_train.emotion)\n",
    "test_data = load_data(df_test, 0)\n",
    "test_target = list(df_test.emotion)"
   ]
  },
  {
   "cell_type": "code",
   "execution_count": 8,
   "id": "0cbc5c9c",
   "metadata": {},
   "outputs": [],
   "source": [
    "X_train = np.array(train_data)\n",
    "y_train = np.array(train_target)\n",
    "X_test = np.array(test_data)\n",
    "y_test = np.array(test_target)"
   ]
  },
  {
   "cell_type": "code",
   "execution_count": 9,
   "id": "ed2507e7",
   "metadata": {},
   "outputs": [
    {
     "name": "stdout",
     "output_type": "stream",
     "text": [
      "(28262, 2304)\n",
      "(28262,)\n",
      "(7066, 2304)\n",
      "(7066,)\n"
     ]
    }
   ],
   "source": [
    "print(X_train.shape)\n",
    "print(y_train.shape)\n",
    "print(X_test.shape)\n",
    "print(y_test.shape)"
   ]
  },
  {
   "cell_type": "code",
   "execution_count": 52,
   "id": "3df6b187",
   "metadata": {},
   "outputs": [
    {
     "name": "stdout",
     "output_type": "stream",
     "text": [
      "Test Accuracy: 0.316\n"
     ]
    }
   ],
   "source": [
    "svm = SVC(C=5, random_state=1, kernel='rbf', gamma=0.01)\n",
    "svm.fit(X_train, y_train)\n",
    "y_pred1 = svm.predict(X_test)\n",
    "print('Test Accuracy: %.3f' % svm.score(X_test, y_test))\n",
    "y_test1 = y_test"
   ]
  },
  {
   "cell_type": "markdown",
   "id": "67bdba9f",
   "metadata": {},
   "source": [
    "## Evaluation"
   ]
  },
  {
   "cell_type": "markdown",
   "id": "a5992fe7",
   "metadata": {},
   "source": [
    "### Confusion matrix"
   ]
  },
  {
   "cell_type": "code",
   "execution_count": 87,
   "id": "3c3539c0",
   "metadata": {},
   "outputs": [
    {
     "data": {
      "text/plain": [
       "array([[  62,    2,  892,    1,    0,    0],\n",
       "       [   1,   89,  930,    1,    2,    1],\n",
       "       [   0,    0, 1772,    0,    1,    1],\n",
       "       [   1,    3, 1203,   39,    0,    1],\n",
       "       [   0,    4,  600,    0,  227,    0],\n",
       "       [   0,    0, 1189,    1,    0,   43]])"
      ]
     },
     "execution_count": 87,
     "metadata": {},
     "output_type": "execute_result"
    }
   ],
   "source": [
    "y_pred = y_pred1\n",
    "y_test = y_test1\n",
    "confmat = confusion_matrix(y_true=y_test, y_pred=y_pred, labels=targets)\n",
    "confmat"
   ]
  },
  {
   "cell_type": "code",
   "execution_count": 14,
   "id": "958459f4",
   "metadata": {},
   "outputs": [],
   "source": [
    "def show_confusion_matrix(confmat):\n",
    "    fig, ax = plt.subplots(figsize=(5, 5))\n",
    "    ax.matshow(confmat, cmap=plt.cm.Blues, alpha=0.3)\n",
    "    for i in range(confmat.shape[0]):\n",
    "        for j in range(confmat.shape[1]):\n",
    "            ax.text(x=j, y=i, s=confmat[i, j], va='center', ha='center')\n",
    "\n",
    "\n",
    "    ax.set_xticklabels([''] + target_labels)\n",
    "    ax.set_yticklabels([''] + target_labels)\n",
    "    plt.xlabel('Predicted label')\n",
    "    plt.ylabel('True label')\n",
    "\n",
    "    plt.tight_layout()\n",
    "    plt.show()"
   ]
  },
  {
   "cell_type": "code",
   "execution_count": 93,
   "id": "87b5ac9e",
   "metadata": {},
   "outputs": [
    {
     "name": "stderr",
     "output_type": "stream",
     "text": [
      "/var/folders/yd/vkjb_lqj2_30lnyhzhjqtg9w0000gp/T/ipykernel_51682/1833250243.py:9: UserWarning: FixedFormatter should only be used together with FixedLocator\n",
      "  ax.set_xticklabels([''] + target_labels)\n",
      "/var/folders/yd/vkjb_lqj2_30lnyhzhjqtg9w0000gp/T/ipykernel_51682/1833250243.py:10: UserWarning: FixedFormatter should only be used together with FixedLocator\n",
      "  ax.set_yticklabels([''] + target_labels)\n"
     ]
    },
    {
     "data": {
      "image/png": "[encoded data removed]",
      "text/plain": [
       "<Figure size 360x360 with 1 Axes>"
      ]
     },
     "metadata": {
      "needs_background": "light"
     },
     "output_type": "display_data"
    }
   ],
   "source": [
    "show_confusion_matrix(confmat)"
   ]
  },
  {
   "cell_type": "markdown",
   "id": "ec66a9f2",
   "metadata": {},
   "source": [
    "### Parformance matrics"
   ]
  },
  {
   "cell_type": "code",
   "execution_count": 84,
   "id": "c85eae19",
   "metadata": {},
   "outputs": [
    {
     "name": "stdout",
     "output_type": "stream",
     "text": [
      "Precision: 0.833\n",
      "Recall: 0.248\n",
      "F1: 0.210\n",
      "Accuracy: 0.316\n"
     ]
    }
   ],
   "source": [
    "print('Precision: %.3f' % precision_score(y_true=y_test, y_pred=y_pred, average='macro'))\n",
    "print('Recall: %.3f' % recall_score(y_true=y_test, y_pred=y_pred, average='macro'))\n",
    "print('F1: %.3f' % f1_score(y_true=y_test, y_pred=y_pred, average='macro'))\n",
    "print('Accuracy: %.3f' % accuracy_score(y_true=y_test, y_pred=y_pred))"
   ]
  },
  {
   "cell_type": "markdown",
   "id": "be33eb32",
   "metadata": {},
   "source": [
    "### Classification reports"
   ]
  },
  {
   "cell_type": "code",
   "execution_count": 86,
   "id": "a385ee26",
   "metadata": {},
   "outputs": [
    {
     "name": "stdout",
     "output_type": "stream",
     "text": [
      "              precision    recall  f1-score   support\n",
      "\n",
      "       angry       0.97      0.06      0.12       957\n",
      "        fear       0.91      0.09      0.16      1024\n",
      "       happy       0.27      1.00      0.42      1774\n",
      "         sad       0.93      0.03      0.06      1247\n",
      "    surprise       0.99      0.27      0.43       831\n",
      "     neutral       0.93      0.03      0.07      1233\n",
      "\n",
      "    accuracy                           0.32      7066\n",
      "   macro avg       0.83      0.25      0.21      7066\n",
      "weighted avg       0.77      0.32      0.22      7066\n",
      "\n"
     ]
    }
   ],
   "source": [
    "print(classification_report(y_test, y_pred, target_names=target_labels))"
   ]
  },
  {
   "cell_type": "markdown",
   "id": "98960729",
   "metadata": {},
   "source": [
    "### ROC curve"
   ]
  },
  {
   "cell_type": "code",
   "execution_count": null,
   "id": "59986a45",
   "metadata": {},
   "outputs": [],
   "source": []
  },
  {
   "cell_type": "markdown",
   "id": "8fa9e846",
   "metadata": {},
   "source": [
    "# SVM with SIFT"
   ]
  },
  {
   "cell_type": "code",
   "execution_count": 105,
   "id": "b3afb402",
   "metadata": {},
   "outputs": [],
   "source": [
    "df_train = df_sift[df_sift['usage']=='train']\n",
    "df_test = df_sift[df_sift['usage']=='test']\n",
    "train_data = load_data(df_train, 1)\n",
    "train_target = list(df_train.emotion)\n",
    "test_data = load_data(df_test, 1)\n",
    "test_target = list(df_test.emotion)"
   ]
  },
  {
   "cell_type": "code",
   "execution_count": 106,
   "id": "10c0d7cc",
   "metadata": {},
   "outputs": [],
   "source": [
    "X_train = np.array(train_data)\n",
    "y_train = np.array(train_target)\n",
    "X_test = np.array(test_data)\n",
    "y_test = np.array(test_target)"
   ]
  },
  {
   "cell_type": "code",
   "execution_count": 107,
   "id": "b0eb9164",
   "metadata": {},
   "outputs": [
    {
     "name": "stdout",
     "output_type": "stream",
     "text": [
      "(28257, 29)\n",
      "(28257,)\n",
      "(7065, 29)\n",
      "(7065,)\n"
     ]
    }
   ],
   "source": [
    "print(X_train.shape)\n",
    "print(y_train.shape)\n",
    "print(X_test.shape)\n",
    "print(y_test.shape)"
   ]
  },
  {
   "cell_type": "code",
   "execution_count": 108,
   "id": "fc96e62e",
   "metadata": {},
   "outputs": [
    {
     "name": "stdout",
     "output_type": "stream",
     "text": [
      "Test Accuracy: 0.231\n"
     ]
    }
   ],
   "source": [
    "svm = SVC(C=5, random_state=1, kernel='rbf', gamma=0.01)\n",
    "svm.fit(X_train, y_train)\n",
    "y_pred2 = svm.predict(X_test)\n",
    "print('Test Accuracy: %.3f' % svm.score(X_test, y_test))\n",
    "y_test2 = y_test"
   ]
  },
  {
   "cell_type": "code",
   "execution_count": null,
   "id": "a9758b46",
   "metadata": {},
   "outputs": [],
   "source": []
  },
  {
   "cell_type": "code",
   "execution_count": null,
   "id": "45c45ea8",
   "metadata": {},
   "outputs": [],
   "source": []
  },
  {
   "cell_type": "code",
   "execution_count": null,
   "id": "81c2247a",
   "metadata": {},
   "outputs": [],
   "source": []
  },
  {
   "cell_type": "markdown",
   "id": "4ef08f21",
   "metadata": {},
   "source": [
    "## Tuning hyperparameters "
   ]
  },
  {
   "cell_type": "code",
   "execution_count": null,
   "id": "4ab88b45",
   "metadata": {},
   "outputs": [],
   "source": []
  },
  {
   "cell_type": "markdown",
   "id": "318537f6",
   "metadata": {},
   "source": [
    "## Visualizing learning curves and validation curves"
   ]
  },
  {
   "cell_type": "code",
   "execution_count": 34,
   "id": "054b655c",
   "metadata": {},
   "outputs": [
    {
     "data": {
      "text/plain": [
       "set"
      ]
     },
     "execution_count": 34,
     "metadata": {},
     "output_type": "execute_result"
    }
   ],
   "source": [
    "type(targets)"
   ]
  },
  {
   "cell_type": "markdown",
   "id": "da3f2a1f",
   "metadata": {},
   "source": [
    "## Evaluation"
   ]
  },
  {
   "cell_type": "markdown",
   "id": "38bbe3af",
   "metadata": {},
   "source": [
    "### Confusion matrix"
   ]
  },
  {
   "cell_type": "code",
   "execution_count": 109,
   "id": "818f8249",
   "metadata": {},
   "outputs": [
    {
     "data": {
      "text/plain": [
       "array([[  24,   27,  717,   86,   29,   74],\n",
       "       [  18,   34,  758,   98,   30,   86],\n",
       "       [  33,   63, 1348,  138,   54,  137],\n",
       "       [  29,   29,  953,   97,   32,  107],\n",
       "       [   7,   32,  615,   58,   45,   74],\n",
       "       [  27,   34,  972,   74,   39,   87]])"
      ]
     },
     "execution_count": 109,
     "metadata": {},
     "output_type": "execute_result"
    }
   ],
   "source": [
    "y_pred = y_pred2\n",
    "y_test = y_test2\n",
    "confmat = confusion_matrix(y_true=y_test, y_pred=y_pred, labels=targets)\n",
    "confmat"
   ]
  },
  {
   "cell_type": "code",
   "execution_count": 110,
   "id": "3710b6c3",
   "metadata": {},
   "outputs": [
    {
     "name": "stderr",
     "output_type": "stream",
     "text": [
      "/var/folders/yd/vkjb_lqj2_30lnyhzhjqtg9w0000gp/T/ipykernel_51682/1833250243.py:9: UserWarning: FixedFormatter should only be used together with FixedLocator\n",
      "  ax.set_xticklabels([''] + target_labels)\n",
      "/var/folders/yd/vkjb_lqj2_30lnyhzhjqtg9w0000gp/T/ipykernel_51682/1833250243.py:10: UserWarning: FixedFormatter should only be used together with FixedLocator\n",
      "  ax.set_yticklabels([''] + target_labels)\n"
     ]
    },
    {
     "data": {
      "image/png": "[encoded data removed]",
      "text/plain": [
       "<Figure size 360x360 with 1 Axes>"
      ]
     },
     "metadata": {
      "needs_background": "light"
     },
     "output_type": "display_data"
    }
   ],
   "source": [
    "show_confusion_matrix(confmat)"
   ]
  },
  {
   "cell_type": "markdown",
   "id": "222a100f",
   "metadata": {},
   "source": [
    "### Parformance matrics"
   ]
  },
  {
   "cell_type": "code",
   "execution_count": 111,
   "id": "5c22570b",
   "metadata": {},
   "outputs": [
    {
     "name": "stdout",
     "output_type": "stream",
     "text": [
      "Precision: 0.185\n",
      "Recall: 0.170\n",
      "F1: 0.128\n",
      "Accuracy: 0.231\n"
     ]
    }
   ],
   "source": [
    "print('Precision: %.3f' % precision_score(y_true=y_test, y_pred=y_pred, average='macro'))\n",
    "print('Recall: %.3f' % recall_score(y_true=y_test, y_pred=y_pred, average='macro'))\n",
    "print('F1: %.3f' % f1_score(y_true=y_test, y_pred=y_pred, average='macro'))\n",
    "print('Accuracy: %.3f' % accuracy_score(y_true=y_test, y_pred=y_pred))"
   ]
  },
  {
   "cell_type": "markdown",
   "id": "061097af",
   "metadata": {},
   "source": [
    "### Classification reports"
   ]
  },
  {
   "cell_type": "code",
   "execution_count": 112,
   "id": "41f879d4",
   "metadata": {},
   "outputs": [
    {
     "name": "stdout",
     "output_type": "stream",
     "text": [
      "              precision    recall  f1-score   support\n",
      "\n",
      "       angry       0.17      0.03      0.04       957\n",
      "        fear       0.16      0.03      0.05      1024\n",
      "       happy       0.25      0.76      0.38      1773\n",
      "         sad       0.18      0.08      0.11      1247\n",
      "    surprise       0.20      0.05      0.08       831\n",
      "     neutral       0.15      0.07      0.10      1233\n",
      "\n",
      "    accuracy                           0.23      7065\n",
      "   macro avg       0.18      0.17      0.13      7065\n",
      "weighted avg       0.19      0.23      0.15      7065\n",
      "\n"
     ]
    }
   ],
   "source": [
    "print(classification_report(y_test, y_pred, target_names=list(target_labels)))"
   ]
  },
  {
   "cell_type": "markdown",
   "id": "99ab54b5",
   "metadata": {},
   "source": [
    "### ROC curve"
   ]
  },
  {
   "cell_type": "code",
   "execution_count": null,
   "id": "dffd1157",
   "metadata": {},
   "outputs": [],
   "source": []
  },
  {
   "cell_type": "markdown",
   "id": "d08a90a2",
   "metadata": {},
   "source": [
    "# SVM with SIFT (K6)"
   ]
  },
  {
   "cell_type": "code",
   "execution_count": 96,
   "id": "068a3df8",
   "metadata": {},
   "outputs": [],
   "source": [
    "df_train = df_sift_k6[df_sift_k6['usage']=='train']\n",
    "df_test = df_sift_k6[df_sift_k6['usage']=='test']\n",
    "train_data = load_data(df_train, 1)\n",
    "train_target = list(df_train.emotion)\n",
    "test_data = load_data(df_test, 1)\n",
    "test_target = list(df_test.emotion)"
   ]
  },
  {
   "cell_type": "code",
   "execution_count": 97,
   "id": "0e1e00ce",
   "metadata": {},
   "outputs": [],
   "source": [
    "X_train = np.array(train_data)\n",
    "y_train = np.array(train_target)\n",
    "X_test = np.array(test_data)\n",
    "y_test = np.array(test_target)"
   ]
  },
  {
   "cell_type": "code",
   "execution_count": 98,
   "id": "255ce1ff",
   "metadata": {},
   "outputs": [
    {
     "name": "stdout",
     "output_type": "stream",
     "text": [
      "(28257, 5)\n",
      "(28257,)\n",
      "(7065, 5)\n",
      "(7065,)\n"
     ]
    }
   ],
   "source": [
    "print(X_train.shape)\n",
    "print(y_train.shape)\n",
    "print(X_test.shape)\n",
    "print(y_test.shape)"
   ]
  },
  {
   "cell_type": "code",
   "execution_count": 99,
   "id": "a625a7d4",
   "metadata": {},
   "outputs": [
    {
     "name": "stdout",
     "output_type": "stream",
     "text": [
      "Test Accuracy: 0.252\n"
     ]
    }
   ],
   "source": [
    "svm = SVC(C=5, random_state=1, kernel='rbf', gamma=0.01)\n",
    "svm.fit(X_train, y_train)\n",
    "y_pred3 = svm.predict(X_test)\n",
    "print('Test Accuracy: %.3f' % svm.score(X_test, y_test))\n",
    "y_test3 = y_test"
   ]
  },
  {
   "cell_type": "code",
   "execution_count": null,
   "id": "01b0b021",
   "metadata": {},
   "outputs": [],
   "source": []
  },
  {
   "cell_type": "code",
   "execution_count": null,
   "id": "02457257",
   "metadata": {},
   "outputs": [],
   "source": []
  },
  {
   "cell_type": "code",
   "execution_count": null,
   "id": "91c0e2ff",
   "metadata": {},
   "outputs": [],
   "source": []
  },
  {
   "cell_type": "markdown",
   "id": "6b55c209",
   "metadata": {},
   "source": [
    "## Tuning hyperparameters "
   ]
  },
  {
   "cell_type": "code",
   "execution_count": null,
   "id": "448ed2f6",
   "metadata": {},
   "outputs": [],
   "source": []
  },
  {
   "cell_type": "markdown",
   "id": "0d5af9b3",
   "metadata": {},
   "source": [
    "## Visualizing learning curves and validation curves"
   ]
  },
  {
   "cell_type": "code",
   "execution_count": 34,
   "id": "5fb46c4f",
   "metadata": {},
   "outputs": [
    {
     "data": {
      "text/plain": [
       "set"
      ]
     },
     "execution_count": 34,
     "metadata": {},
     "output_type": "execute_result"
    }
   ],
   "source": [
    "type(targets)"
   ]
  },
  {
   "cell_type": "markdown",
   "id": "a3638585",
   "metadata": {},
   "source": [
    "## Evaluation"
   ]
  },
  {
   "cell_type": "markdown",
   "id": "e90d8b6b",
   "metadata": {},
   "source": [
    "### Confusion matrix"
   ]
  },
  {
   "cell_type": "code",
   "execution_count": 100,
   "id": "b04d6af1",
   "metadata": {},
   "outputs": [
    {
     "data": {
      "text/plain": [
       "array([[   0,    3,  946,    1,    0,    7],\n",
       "       [   1,    2, 1012,    4,    0,    5],\n",
       "       [   2,    2, 1742,    1,    0,   26],\n",
       "       [   1,    3, 1230,    0,    0,   13],\n",
       "       [   0,    1,  820,    2,    0,    8],\n",
       "       [   0,    3, 1194,    1,    0,   35]])"
      ]
     },
     "execution_count": 100,
     "metadata": {},
     "output_type": "execute_result"
    }
   ],
   "source": [
    "y_pred = y_pred3\n",
    "y_test = y_test3\n",
    "confmat = confusion_matrix(y_true=y_test, y_pred=y_pred, labels=targets)\n",
    "confmat"
   ]
  },
  {
   "cell_type": "code",
   "execution_count": 101,
   "id": "514598fc",
   "metadata": {},
   "outputs": [
    {
     "name": "stderr",
     "output_type": "stream",
     "text": [
      "/var/folders/yd/vkjb_lqj2_30lnyhzhjqtg9w0000gp/T/ipykernel_51682/1833250243.py:9: UserWarning: FixedFormatter should only be used together with FixedLocator\n",
      "  ax.set_xticklabels([''] + target_labels)\n",
      "/var/folders/yd/vkjb_lqj2_30lnyhzhjqtg9w0000gp/T/ipykernel_51682/1833250243.py:10: UserWarning: FixedFormatter should only be used together with FixedLocator\n",
      "  ax.set_yticklabels([''] + target_labels)\n"
     ]
    },
    {
     "data": {
      "image/png": "[encoded data removed]",
      "text/plain": [
       "<Figure size 360x360 with 1 Axes>"
      ]
     },
     "metadata": {
      "needs_background": "light"
     },
     "output_type": "display_data"
    }
   ],
   "source": [
    "show_confusion_matrix(confmat)"
   ]
  },
  {
   "cell_type": "markdown",
   "id": "cc54f234",
   "metadata": {},
   "source": [
    "### Parformance matrics"
   ]
  },
  {
   "cell_type": "code",
   "execution_count": 102,
   "id": "e40907dd",
   "metadata": {},
   "outputs": [
    {
     "name": "stdout",
     "output_type": "stream",
     "text": [
      "Precision: 0.128\n",
      "Recall: 0.169\n",
      "F1: 0.076\n",
      "Accuracy: 0.252\n"
     ]
    },
    {
     "name": "stderr",
     "output_type": "stream",
     "text": [
      "/Users/chikakoolsen/opt/anaconda3/lib/python3.9/site-packages/sklearn/metrics/_classification.py:1318: UndefinedMetricWarning: Precision is ill-defined and being set to 0.0 in labels with no predicted samples. Use `zero_division` parameter to control this behavior.\n",
      "  _warn_prf(average, modifier, msg_start, len(result))\n"
     ]
    }
   ],
   "source": [
    "print('Precision: %.3f' % precision_score(y_true=y_test, y_pred=y_pred, average='macro'))\n",
    "print('Recall: %.3f' % recall_score(y_true=y_test, y_pred=y_pred, average='macro'))\n",
    "print('F1: %.3f' % f1_score(y_true=y_test, y_pred=y_pred, average='macro'))\n",
    "print('Accuracy: %.3f' % accuracy_score(y_true=y_test, y_pred=y_pred))"
   ]
  },
  {
   "cell_type": "markdown",
   "id": "8df393ca",
   "metadata": {},
   "source": [
    "### Classification reports"
   ]
  },
  {
   "cell_type": "code",
   "execution_count": 103,
   "id": "bf1cdbc7",
   "metadata": {},
   "outputs": [
    {
     "name": "stdout",
     "output_type": "stream",
     "text": [
      "              precision    recall  f1-score   support\n",
      "\n",
      "       angry       0.00      0.00      0.00       957\n",
      "        fear       0.14      0.00      0.00      1024\n",
      "       happy       0.25      0.98      0.40      1773\n",
      "         sad       0.00      0.00      0.00      1247\n",
      "    surprise       0.00      0.00      0.00       831\n",
      "     neutral       0.37      0.03      0.05      1233\n",
      "\n",
      "    accuracy                           0.25      7065\n",
      "   macro avg       0.13      0.17      0.08      7065\n",
      "weighted avg       0.15      0.25      0.11      7065\n",
      "\n"
     ]
    },
    {
     "name": "stderr",
     "output_type": "stream",
     "text": [
      "/Users/chikakoolsen/opt/anaconda3/lib/python3.9/site-packages/sklearn/metrics/_classification.py:1318: UndefinedMetricWarning: Precision and F-score are ill-defined and being set to 0.0 in labels with no predicted samples. Use `zero_division` parameter to control this behavior.\n",
      "  _warn_prf(average, modifier, msg_start, len(result))\n",
      "/Users/chikakoolsen/opt/anaconda3/lib/python3.9/site-packages/sklearn/metrics/_classification.py:1318: UndefinedMetricWarning: Precision and F-score are ill-defined and being set to 0.0 in labels with no predicted samples. Use `zero_division` parameter to control this behavior.\n",
      "  _warn_prf(average, modifier, msg_start, len(result))\n",
      "/Users/chikakoolsen/opt/anaconda3/lib/python3.9/site-packages/sklearn/metrics/_classification.py:1318: UndefinedMetricWarning: Precision and F-score are ill-defined and being set to 0.0 in labels with no predicted samples. Use `zero_division` parameter to control this behavior.\n",
      "  _warn_prf(average, modifier, msg_start, len(result))\n"
     ]
    }
   ],
   "source": [
    "print(classification_report(y_test, y_pred, target_names=list(target_labels)))"
   ]
  },
  {
   "cell_type": "markdown",
   "id": "60fc5291",
   "metadata": {},
   "source": [
    "### ROC curve"
   ]
  },
  {
   "cell_type": "code",
   "execution_count": null,
   "id": "82c1cdd1",
   "metadata": {},
   "outputs": [],
   "source": []
  },
  {
   "cell_type": "markdown",
   "id": "31977360",
   "metadata": {},
   "source": [
    "# SVM with PCA"
   ]
  },
  {
   "cell_type": "code",
   "execution_count": 10,
   "id": "457c7421",
   "metadata": {},
   "outputs": [],
   "source": [
    "df_train = df[df['usage']=='train']\n",
    "df_test = df[df['usage']=='test']\n",
    "train_data = load_data(df_train, 0)\n",
    "train_target = list(df_train.emotion)\n",
    "test_data = load_data(df_test, 0)\n",
    "test_target = list(df_test.emotion)"
   ]
  },
  {
   "cell_type": "code",
   "execution_count": 11,
   "id": "dd1b1599",
   "metadata": {},
   "outputs": [],
   "source": [
    "X_train = np.array(train_data)\n",
    "y_train = np.array(train_target)\n",
    "X_test = np.array(test_data)\n",
    "y_test = np.array(test_target)"
   ]
  },
  {
   "cell_type": "code",
   "execution_count": null,
   "id": "1ca6881e",
   "metadata": {},
   "outputs": [],
   "source": [
    "clf = make_pipeline(PCA(n_components=104, whiten=True),\n",
    "                       LinearSVC(C=1.0))\n",
    "\n",
    "clf.fit(X_train, y_train)\n",
    "y_pred = clf.predict(X_test)\n",
    "print('Test Accuracy: %.3f' % clf.score(X_test, y_test))"
   ]
  },
  {
   "cell_type": "code",
   "execution_count": null,
   "id": "950c80c7",
   "metadata": {},
   "outputs": [],
   "source": [
    "print(metrics.confusion_matrix(y_pred, y_test))\n",
    "plt.show()"
   ]
  },
  {
   "cell_type": "code",
   "execution_count": 12,
   "id": "1e1ce376",
   "metadata": {},
   "outputs": [
    {
     "name": "stdout",
     "output_type": "stream",
     "text": [
      "Test Accuracy: 0.488\n"
     ]
    }
   ],
   "source": [
    "clf = make_pipeline(PCA(n_components=104, whiten=True),\n",
    "                    SVC(C=5, random_state=1, kernel='rbf', gamma=0.01))\n",
    "\n",
    "clf.fit(X_train, y_train)\n",
    "y_pred = clf.predict(X_test)\n",
    "print('Test Accuracy: %.3f' % clf.score(X_test, y_test))"
   ]
  },
  {
   "cell_type": "markdown",
   "id": "8a829d08",
   "metadata": {},
   "source": [
    "## Evaluation"
   ]
  },
  {
   "cell_type": "markdown",
   "id": "44206ecc",
   "metadata": {},
   "source": [
    "### Confusion matrix"
   ]
  },
  {
   "cell_type": "code",
   "execution_count": 15,
   "id": "4ba56b87",
   "metadata": {},
   "outputs": [
    {
     "name": "stderr",
     "output_type": "stream",
     "text": [
      "/var/folders/yd/vkjb_lqj2_30lnyhzhjqtg9w0000gp/T/ipykernel_61748/1833250243.py:9: UserWarning: FixedFormatter should only be used together with FixedLocator\n",
      "  ax.set_xticklabels([''] + target_labels)\n",
      "/var/folders/yd/vkjb_lqj2_30lnyhzhjqtg9w0000gp/T/ipykernel_61748/1833250243.py:10: UserWarning: FixedFormatter should only be used together with FixedLocator\n",
      "  ax.set_yticklabels([''] + target_labels)\n"
     ]
    },
    {
     "data": {
      "image/png": "[encoded data removed]",
      "text/plain": [
       "<Figure size 360x360 with 1 Axes>"
      ]
     },
     "metadata": {
      "needs_background": "light"
     },
     "output_type": "display_data"
    }
   ],
   "source": [
    "confmat = confusion_matrix(y_true=y_test, y_pred=y_pred, labels=targets)\n",
    "show_confusion_matrix(confmat)"
   ]
  },
  {
   "cell_type": "markdown",
   "id": "8ae94cb5",
   "metadata": {},
   "source": [
    "### Parformance matrics"
   ]
  },
  {
   "cell_type": "code",
   "execution_count": 16,
   "id": "a3e5feed",
   "metadata": {},
   "outputs": [
    {
     "name": "stdout",
     "output_type": "stream",
     "text": [
      "Precision: 0.490\n",
      "Recall: 0.473\n",
      "F1: 0.480\n",
      "Accuracy: 0.488\n"
     ]
    }
   ],
   "source": [
    "print('Precision: %.3f' % precision_score(y_true=y_test, y_pred=y_pred, average='macro'))\n",
    "print('Recall: %.3f' % recall_score(y_true=y_test, y_pred=y_pred, average='macro'))\n",
    "print('F1: %.3f' % f1_score(y_true=y_test, y_pred=y_pred, average='macro'))\n",
    "print('Accuracy: %.3f' % accuracy_score(y_true=y_test, y_pred=y_pred))"
   ]
  },
  {
   "cell_type": "markdown",
   "id": "e4fb3260",
   "metadata": {},
   "source": [
    "### Classification reports"
   ]
  },
  {
   "cell_type": "code",
   "execution_count": 17,
   "id": "d7025d36",
   "metadata": {},
   "outputs": [
    {
     "name": "stdout",
     "output_type": "stream",
     "text": [
      "              precision    recall  f1-score   support\n",
      "\n",
      "       angry       0.36      0.35      0.35       957\n",
      "        fear       0.38      0.36      0.37      1024\n",
      "       happy       0.58      0.67      0.62      1774\n",
      "         sad       0.39      0.39      0.39      1247\n",
      "    surprise       0.77      0.62      0.69       831\n",
      "     neutral       0.45      0.45      0.45      1233\n",
      "\n",
      "    accuracy                           0.49      7066\n",
      "   macro avg       0.49      0.47      0.48      7066\n",
      "weighted avg       0.49      0.49      0.49      7066\n",
      "\n"
     ]
    }
   ],
   "source": [
    "print(classification_report(y_test, y_pred, target_names=list(target_labels)))"
   ]
  },
  {
   "cell_type": "markdown",
   "id": "889b89f2",
   "metadata": {},
   "source": [
    "# SVM with PCA and scaled data"
   ]
  },
  {
   "cell_type": "code",
   "execution_count": 22,
   "id": "f7efd1a2",
   "metadata": {},
   "outputs": [],
   "source": [
    "df_train = df[df['usage']=='train']\n",
    "df_test = df[df['usage']=='test']\n",
    "train_data, train_scaled = load_data(df_train, 0)\n",
    "train_target = list(df_train.emotion)\n",
    "test_data, test_scaled = load_data(df_test, 0)\n",
    "test_target = list(df_test.emotion)"
   ]
  },
  {
   "cell_type": "code",
   "execution_count": 23,
   "id": "40329dd2",
   "metadata": {},
   "outputs": [],
   "source": [
    "X_train = np.array(train_scaled)\n",
    "y_train = np.array(train_target)\n",
    "X_test = np.array(test_scaled)\n",
    "y_test = np.array(test_target)"
   ]
  },
  {
   "cell_type": "code",
   "execution_count": 24,
   "id": "95b78a9b",
   "metadata": {},
   "outputs": [
    {
     "name": "stderr",
     "output_type": "stream",
     "text": [
      "/Users/chikakoolsen/opt/anaconda3/lib/python3.9/site-packages/sklearn/svm/_base.py:1206: ConvergenceWarning: Liblinear failed to converge, increase the number of iterations.\n",
      "  warnings.warn(\n"
     ]
    },
    {
     "name": "stdout",
     "output_type": "stream",
     "text": [
      "Test Accuracy: 0.378\n"
     ]
    }
   ],
   "source": [
    "clf = make_pipeline(PCA(n_components=104, whiten=True),\n",
    "                       LinearSVC(C=1.0))\n",
    "\n",
    "clf.fit(X_train, y_train)\n",
    "y_pred = clf.predict(X_test)\n",
    "print('Test Accuracy: %.3f' % clf.score(X_test, y_test))"
   ]
  },
  {
   "cell_type": "code",
   "execution_count": 26,
   "id": "48dd4264",
   "metadata": {},
   "outputs": [
    {
     "name": "stdout",
     "output_type": "stream",
     "text": [
      "[[  80   54   47   77   19   44]\n",
      " [  27   56   25   38   28   27]\n",
      " [ 426  391 1376  451  195  499]\n",
      " [ 174  166  141  361   77  190]\n",
      " [ 102  180   81  105  424  102]\n",
      " [ 148  177  104  215   88  371]]\n"
     ]
    }
   ],
   "source": [
    "print(confusion_matrix(y_pred, y_test))\n",
    "plt.show()"
   ]
  },
  {
   "cell_type": "code",
   "execution_count": 27,
   "id": "a127b99b",
   "metadata": {},
   "outputs": [
    {
     "name": "stdout",
     "output_type": "stream",
     "text": [
      "Test Accuracy: 0.491\n"
     ]
    }
   ],
   "source": [
    "clf = make_pipeline(PCA(n_components=104, whiten=True),\n",
    "                    SVC(C=5, random_state=1, kernel='rbf', gamma=0.01))\n",
    "\n",
    "clf.fit(X_train, y_train)\n",
    "y_pred = clf.predict(X_test)\n",
    "print('Test Accuracy: %.3f' % clf.score(X_test, y_test))"
   ]
  },
  {
   "cell_type": "markdown",
   "id": "6b283ada",
   "metadata": {},
   "source": [
    "## Evaluation"
   ]
  },
  {
   "cell_type": "markdown",
   "id": "0f5ec2c8",
   "metadata": {},
   "source": [
    "### Confusion matrix"
   ]
  },
  {
   "cell_type": "code",
   "execution_count": 28,
   "id": "45dca6df",
   "metadata": {},
   "outputs": [
    {
     "name": "stderr",
     "output_type": "stream",
     "text": [
      "/var/folders/yd/vkjb_lqj2_30lnyhzhjqtg9w0000gp/T/ipykernel_61748/1833250243.py:9: UserWarning: FixedFormatter should only be used together with FixedLocator\n",
      "  ax.set_xticklabels([''] + target_labels)\n",
      "/var/folders/yd/vkjb_lqj2_30lnyhzhjqtg9w0000gp/T/ipykernel_61748/1833250243.py:10: UserWarning: FixedFormatter should only be used together with FixedLocator\n",
      "  ax.set_yticklabels([''] + target_labels)\n"
     ]
    },
    {
     "data": {
      "image/png": "[encoded data removed]",
      "text/plain": [
       "<Figure size 360x360 with 1 Axes>"
      ]
     },
     "metadata": {
      "needs_background": "light"
     },
     "output_type": "display_data"
    }
   ],
   "source": [
    "confmat = confusion_matrix(y_true=y_test, y_pred=y_pred, labels=targets)\n",
    "show_confusion_matrix(confmat)"
   ]
  },
  {
   "cell_type": "markdown",
   "id": "c6794b9d",
   "metadata": {},
   "source": [
    "### Parformance matrics"
   ]
  },
  {
   "cell_type": "code",
   "execution_count": 29,
   "id": "060232b3",
   "metadata": {},
   "outputs": [
    {
     "name": "stdout",
     "output_type": "stream",
     "text": [
      "Precision: 0.492\n",
      "Recall: 0.476\n",
      "F1: 0.482\n",
      "Accuracy: 0.491\n"
     ]
    }
   ],
   "source": [
    "print('Precision: %.3f' % precision_score(y_true=y_test, y_pred=y_pred, average='macro'))\n",
    "print('Recall: %.3f' % recall_score(y_true=y_test, y_pred=y_pred, average='macro'))\n",
    "print('F1: %.3f' % f1_score(y_true=y_test, y_pred=y_pred, average='macro'))\n",
    "print('Accuracy: %.3f' % accuracy_score(y_true=y_test, y_pred=y_pred))"
   ]
  },
  {
   "cell_type": "markdown",
   "id": "23c192cb",
   "metadata": {},
   "source": [
    "### Classification reports"
   ]
  },
  {
   "cell_type": "code",
   "execution_count": 30,
   "id": "998d4b01",
   "metadata": {},
   "outputs": [
    {
     "name": "stdout",
     "output_type": "stream",
     "text": [
      "              precision    recall  f1-score   support\n",
      "\n",
      "       angry       0.36      0.35      0.36       957\n",
      "        fear       0.39      0.35      0.37      1024\n",
      "       happy       0.59      0.68      0.63      1774\n",
      "         sad       0.39      0.38      0.38      1247\n",
      "    surprise       0.77      0.62      0.68       831\n",
      "     neutral       0.46      0.46      0.46      1233\n",
      "\n",
      "    accuracy                           0.49      7066\n",
      "   macro avg       0.49      0.48      0.48      7066\n",
      "weighted avg       0.49      0.49      0.49      7066\n",
      "\n"
     ]
    }
   ],
   "source": [
    "print(classification_report(y_test, y_pred, target_names=list(target_labels)))"
   ]
  }
 ],
 "metadata": {
  "kernelspec": {
   "display_name": "Python 3 (ipykernel)",
   "language": "python",
   "name": "python3"
  },
  "language_info": {
   "codemirror_mode": {
    "name": "ipython",
    "version": 3
   },
   "file_extension": ".py",
   "mimetype": "text/x-python",
   "name": "python",
   "nbconvert_exporter": "python",
   "pygments_lexer": "ipython3",
   "version": "3.9.12"
  }
 },
 "nbformat": 4,
 "nbformat_minor": 5
}
