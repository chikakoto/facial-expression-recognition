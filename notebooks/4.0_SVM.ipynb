{
 "cells": [
  {
   "cell_type": "code",
   "execution_count": 1,
   "id": "3d05c734",
   "metadata": {},
   "outputs": [],
   "source": [
    "import math\n",
    "import numpy as np\n",
    "import pandas as pd\n",
    "import seaborn as sns\n",
    "import matplotlib.pyplot as plt\n",
    "from numpy import interp\n",
    "\n",
    "from sklearn.model_selection import train_test_split\n",
    "from sklearn.pipeline import make_pipeline\n",
    "from sklearn.preprocessing import MinMaxScaler\n",
    "from sklearn.model_selection import GridSearchCV\n",
    "from sklearn.svm import SVC, LinearSVC\n",
    "from sklearn.decomposition import PCA\n",
    "\n",
    "from sklearn.metrics import confusion_matrix\n",
    "from sklearn.model_selection import learning_curve\n",
    "from sklearn.model_selection import validation_curve\n",
    "from sklearn.model_selection import cross_val_score, StratifiedKFold\n",
    "from sklearn.metrics import confusion_matrix\n",
    "from sklearn.metrics import precision_score, recall_score, f1_score, accuracy_score, classification_report\n",
    "from sklearn.metrics import roc_curve, auc\n",
    "\n",
    "from sklearn.dummy import DummyClassifier"
   ]
  },
  {
   "cell_type": "markdown",
   "id": "4d5ec9ba",
   "metadata": {},
   "source": [
    "# Load data"
   ]
  },
  {
   "cell_type": "code",
   "execution_count": 2,
   "id": "0cb35c1b",
   "metadata": {},
   "outputs": [],
   "source": [
    "emotion_labels = {0:'angry', 1:'disgust', 2:'fear', 3:'happy', 4:'sad', 5:'surprise', 6:'neutral'}\n",
    "target_labels = [val for key, val in emotion_labels.items()]\n",
    "targets = [key for key, val in emotion_labels.items()]"
   ]
  },
  {
   "cell_type": "code",
   "execution_count": 3,
   "id": "53e05b0d",
   "metadata": {},
   "outputs": [],
   "source": [
    "def load_data(df, data_type):\n",
    "    \"\"\"Load data from DataFrame and return data to list \n",
    "    \"\"\"\n",
    "    image_data = []\n",
    "    image_scaled = []\n",
    "    \n",
    "    for index, row in df.iterrows():\n",
    "        if data_type == 1:\n",
    "            field = row.pca\n",
    "        elif data_type == 2:\n",
    "            field = row.histogram\n",
    "        elif data_type == 3:\n",
    "            field = row.hog\n",
    "        elif data_type == 4:\n",
    "            field = row.lda\n",
    "        else:\n",
    "            field = row.pixels\n",
    "        image = np.fromstring(field, sep=' ')\n",
    "        image_data.append(image)\n",
    "        if data_type == 0:\n",
    "            scale = image / 255.0\n",
    "            image_scaled.append(scale)\n",
    "        \n",
    "    return image_data, image_scaled"
   ]
  },
  {
   "cell_type": "markdown",
   "id": "6d7bab95",
   "metadata": {},
   "source": [
    "# Grid Search with PCA data"
   ]
  },
  {
   "cell_type": "markdown",
   "id": "580cbd6c",
   "metadata": {},
   "source": [
    "Find out the good tuning for hyper parameter with PCA data because it takes long time to get result with original data.\n",
    "\n",
    "10k train data and 2500 test data are used for this."
   ]
  },
  {
   "cell_type": "code",
   "execution_count": 31,
   "id": "91d89dae",
   "metadata": {},
   "outputs": [
    {
     "data": {
      "text/html": [
       "<div>\n",
       "<style scoped>\n",
       "    .dataframe tbody tr th:only-of-type {\n",
       "        vertical-align: middle;\n",
       "    }\n",
       "\n",
       "    .dataframe tbody tr th {\n",
       "        vertical-align: top;\n",
       "    }\n",
       "\n",
       "    .dataframe thead th {\n",
       "        text-align: right;\n",
       "    }\n",
       "</style>\n",
       "<table border=\"1\" class=\"dataframe\">\n",
       "  <thead>\n",
       "    <tr style=\"text-align: right;\">\n",
       "      <th></th>\n",
       "      <th>usage</th>\n",
       "      <th>emotion</th>\n",
       "      <th>pca</th>\n",
       "    </tr>\n",
       "  </thead>\n",
       "  <tbody>\n",
       "    <tr>\n",
       "      <th>0</th>\n",
       "      <td>train</td>\n",
       "      <td>3</td>\n",
       "      <td>-0.4589713258466278 0.962093546388383 -0.55788...</td>\n",
       "    </tr>\n",
       "    <tr>\n",
       "      <th>1</th>\n",
       "      <td>train</td>\n",
       "      <td>3</td>\n",
       "      <td>0.49198604184990685 -1.0021801630235339 0.2740...</td>\n",
       "    </tr>\n",
       "    <tr>\n",
       "      <th>2</th>\n",
       "      <td>train</td>\n",
       "      <td>3</td>\n",
       "      <td>-0.9419501076570959 1.4385249489843621 0.29373...</td>\n",
       "    </tr>\n",
       "    <tr>\n",
       "      <th>3</th>\n",
       "      <td>train</td>\n",
       "      <td>3</td>\n",
       "      <td>-1.2800578618783192 0.23932335345423272 0.4704...</td>\n",
       "    </tr>\n",
       "    <tr>\n",
       "      <th>4</th>\n",
       "      <td>train</td>\n",
       "      <td>3</td>\n",
       "      <td>0.10681625087574084 -0.7089926999517396 0.3826...</td>\n",
       "    </tr>\n",
       "  </tbody>\n",
       "</table>\n",
       "</div>"
      ],
      "text/plain": [
       "   usage  emotion                                                pca\n",
       "0  train        3  -0.4589713258466278 0.962093546388383 -0.55788...\n",
       "1  train        3  0.49198604184990685 -1.0021801630235339 0.2740...\n",
       "2  train        3  -0.9419501076570959 1.4385249489843621 0.29373...\n",
       "3  train        3  -1.2800578618783192 0.23932335345423272 0.4704...\n",
       "4  train        3  0.10681625087574084 -0.7089926999517396 0.3826..."
      ]
     },
     "execution_count": 31,
     "metadata": {},
     "output_type": "execute_result"
    }
   ],
   "source": [
    "df = pd.read_csv('data/pca/fer_pca.csv')\n",
    "df.head()"
   ]
  },
  {
   "cell_type": "code",
   "execution_count": 32,
   "id": "dca26356",
   "metadata": {},
   "outputs": [],
   "source": [
    "df_train = df[df['usage']=='train']\n",
    "df_test = df[df['usage']=='test']\n",
    "train_data, train_scaled = load_data(df_train, 1)\n",
    "train_target = list(df_train.emotion)\n",
    "test_data, train_scaled = load_data(df_test, 1)\n",
    "test_target = list(df_test.emotion)"
   ]
  },
  {
   "cell_type": "code",
   "execution_count": 33,
   "id": "a0866018",
   "metadata": {},
   "outputs": [],
   "source": [
    "X_train = np.array(train_data)\n",
    "y_train = np.array(train_target)\n",
    "X_test = np.array(test_data)\n",
    "y_test = np.array(test_target)"
   ]
  },
  {
   "cell_type": "code",
   "execution_count": 34,
   "id": "5954d53a",
   "metadata": {},
   "outputs": [
    {
     "name": "stdout",
     "output_type": "stream",
     "text": [
      "(31432, 103)\n",
      "(31432,)\n",
      "(7896, 103)\n",
      "(7896,)\n"
     ]
    }
   ],
   "source": [
    "print(X_train.shape)\n",
    "print(y_train.shape)\n",
    "print(X_test.shape)\n",
    "print(y_test.shape)"
   ]
  },
  {
   "cell_type": "code",
   "execution_count": 35,
   "id": "41b99987",
   "metadata": {},
   "outputs": [],
   "source": [
    "X_train = X_train[0:10000]\n",
    "y_train = y_train[0:10000]\n",
    "X_test = X_test[0:2500]\n",
    "y_test = y_test[0:2500]"
   ]
  },
  {
   "cell_type": "code",
   "execution_count": 36,
   "id": "c96068d9",
   "metadata": {},
   "outputs": [
    {
     "name": "stdout",
     "output_type": "stream",
     "text": [
      "(10000, 103)\n",
      "(10000,)\n",
      "(2500, 103)\n",
      "(2500,)\n"
     ]
    }
   ],
   "source": [
    "print(X_train.shape)\n",
    "print(y_train.shape)\n",
    "print(X_test.shape)\n",
    "print(y_test.shape)"
   ]
  },
  {
   "cell_type": "markdown",
   "id": "dd401d0a",
   "metadata": {},
   "source": [
    "## Find out which kernel is best"
   ]
  },
  {
   "cell_type": "code",
   "execution_count": 10,
   "id": "0462facd",
   "metadata": {},
   "outputs": [],
   "source": [
    "param_gamma = ['auto', 'scale']\n",
    "param_grid = [{'kernel': ['linear']},\n",
    "              {'gamma': param_gamma, \n",
    "               'kernel': ['rbf']},\n",
    "              {'gamma': param_gamma,\n",
    "               'kernel': ['poly']}]\n",
    "\n",
    "svm = SVC(random_state=1, decision_function_shape='ovo')\n",
    "\n",
    "gs = GridSearchCV(estimator=svm, \n",
    "                  param_grid=param_grid, \n",
    "                  scoring='accuracy', \n",
    "                  refit=True,\n",
    "                  cv=10,\n",
    "                  n_jobs=-1)\n",
    "clf = gs.fit(X_train, y_train)"
   ]
  },
  {
   "cell_type": "code",
   "execution_count": 11,
   "id": "82d8cb53",
   "metadata": {},
   "outputs": [
    {
     "name": "stdout",
     "output_type": "stream",
     "text": [
      "0.7896000000000001\n",
      "{'gamma': 'auto', 'kernel': 'rbf'}\n",
      "Test accuracy: 0.789\n"
     ]
    }
   ],
   "source": [
    "print(clf.best_score_)\n",
    "print(clf.best_params_)\n",
    "result = clf.best_estimator_\n",
    "print('Test accuracy: %.3f' % result.score(X_test, y_test))"
   ]
  },
  {
   "cell_type": "markdown",
   "id": "2f81da15",
   "metadata": {},
   "source": [
    "## Find out which C is best"
   ]
  },
  {
   "cell_type": "code",
   "execution_count": 37,
   "id": "ad8f5dba",
   "metadata": {},
   "outputs": [],
   "source": [
    "param_c =  [0.1, 1, 3, 10, 100]\n",
    "param_grid = [{'C': param_c,\n",
    "               'gamma': ['auto'],\n",
    "               'kernel': ['rbf']}]\n",
    "\n",
    "svm = SVC(random_state=1, decision_function_shape='ovo')\n",
    "\n",
    "gs = GridSearchCV(estimator=svm, \n",
    "                  param_grid=param_grid, \n",
    "                  scoring='accuracy', \n",
    "                  refit=True,\n",
    "                  cv=10,\n",
    "                  n_jobs=-1)\n",
    "clf = gs.fit(X_train, y_train)"
   ]
  },
  {
   "cell_type": "code",
   "execution_count": 38,
   "id": "495dca4d",
   "metadata": {},
   "outputs": [
    {
     "name": "stdout",
     "output_type": "stream",
     "text": [
      "0.7994000000000001\n",
      "{'C': 3, 'gamma': 'auto', 'kernel': 'rbf'}\n",
      "Test accuracy: 0.794\n"
     ]
    }
   ],
   "source": [
    "print(clf.best_score_)\n",
    "print(clf.best_params_)\n",
    "result = clf.best_estimator_\n",
    "print('Test accuracy: %.3f' % result.score(X_test, y_test))"
   ]
  },
  {
   "cell_type": "markdown",
   "id": "bc6c5883",
   "metadata": {},
   "source": [
    "Following comparison use RBF kernel, auto gamma, and C as 3. "
   ]
  },
  {
   "cell_type": "markdown",
   "id": "a3995d48",
   "metadata": {},
   "source": [
    "# SVM with original dataset"
   ]
  },
  {
   "cell_type": "code",
   "execution_count": 4,
   "id": "0e8f8105",
   "metadata": {},
   "outputs": [
    {
     "data": {
      "text/html": [
       "<div>\n",
       "<style scoped>\n",
       "    .dataframe tbody tr th:only-of-type {\n",
       "        vertical-align: middle;\n",
       "    }\n",
       "\n",
       "    .dataframe tbody tr th {\n",
       "        vertical-align: top;\n",
       "    }\n",
       "\n",
       "    .dataframe thead th {\n",
       "        text-align: right;\n",
       "    }\n",
       "</style>\n",
       "<table border=\"1\" class=\"dataframe\">\n",
       "  <thead>\n",
       "    <tr style=\"text-align: right;\">\n",
       "      <th></th>\n",
       "      <th>usage</th>\n",
       "      <th>emotion</th>\n",
       "      <th>pixels</th>\n",
       "    </tr>\n",
       "  </thead>\n",
       "  <tbody>\n",
       "    <tr>\n",
       "      <th>0</th>\n",
       "      <td>train</td>\n",
       "      <td>3</td>\n",
       "      <td>108 83 63 65 89 111 121 121 125 111 103 105 11...</td>\n",
       "    </tr>\n",
       "    <tr>\n",
       "      <th>1</th>\n",
       "      <td>train</td>\n",
       "      <td>3</td>\n",
       "      <td>137 142 159 162 158 134 113 167 174 177 164 12...</td>\n",
       "    </tr>\n",
       "    <tr>\n",
       "      <th>2</th>\n",
       "      <td>train</td>\n",
       "      <td>3</td>\n",
       "      <td>111 148 155 167 181 191 194 193 195 199 203 20...</td>\n",
       "    </tr>\n",
       "    <tr>\n",
       "      <th>3</th>\n",
       "      <td>train</td>\n",
       "      <td>3</td>\n",
       "      <td>151 156 121 100 80 116 151 169 183 185 192 190...</td>\n",
       "    </tr>\n",
       "    <tr>\n",
       "      <th>4</th>\n",
       "      <td>train</td>\n",
       "      <td>3</td>\n",
       "      <td>248 187 149 130 97 140 139 117 197 251 231 255...</td>\n",
       "    </tr>\n",
       "  </tbody>\n",
       "</table>\n",
       "</div>"
      ],
      "text/plain": [
       "   usage  emotion                                             pixels\n",
       "0  train        3  108 83 63 65 89 111 121 121 125 111 103 105 11...\n",
       "1  train        3  137 142 159 162 158 134 113 167 174 177 164 12...\n",
       "2  train        3  111 148 155 167 181 191 194 193 195 199 203 20...\n",
       "3  train        3  151 156 121 100 80 116 151 169 183 185 192 190...\n",
       "4  train        3  248 187 149 130 97 140 139 117 197 251 231 255..."
      ]
     },
     "execution_count": 4,
     "metadata": {},
     "output_type": "execute_result"
    }
   ],
   "source": [
    "df = pd.read_csv('data/fer_data.csv')\n",
    "df.head()"
   ]
  },
  {
   "cell_type": "code",
   "execution_count": 5,
   "id": "5c312ac3",
   "metadata": {},
   "outputs": [],
   "source": [
    "df_train = df[df['usage']=='train']\n",
    "df_test = df[df['usage']=='test']\n",
    "train_data, train_scale = load_data(df_train, 0)\n",
    "train_target = list(df_train.emotion)\n",
    "test_data, test_scale = load_data(df_test, 0)\n",
    "test_target = list(df_test.emotion)"
   ]
  },
  {
   "cell_type": "code",
   "execution_count": 6,
   "id": "0cbc5c9c",
   "metadata": {},
   "outputs": [],
   "source": [
    "X_train = np.array(train_data)\n",
    "y_train = np.array(train_target)\n",
    "X_test = np.array(test_data)\n",
    "y_test = np.array(test_target)"
   ]
  },
  {
   "cell_type": "code",
   "execution_count": 7,
   "id": "ed2507e7",
   "metadata": {},
   "outputs": [
    {
     "name": "stdout",
     "output_type": "stream",
     "text": [
      "(31432, 2304)\n",
      "(31432,)\n",
      "(7896, 2304)\n",
      "(7896,)\n"
     ]
    }
   ],
   "source": [
    "print(X_train.shape)\n",
    "print(y_train.shape)\n",
    "print(X_test.shape)\n",
    "print(y_test.shape)"
   ]
  },
  {
   "cell_type": "code",
   "execution_count": 8,
   "id": "3df6b187",
   "metadata": {},
   "outputs": [
    {
     "name": "stdout",
     "output_type": "stream",
     "text": [
      "Train Accuracy: 0.999\n",
      "Test Accuracy: 0.388\n"
     ]
    }
   ],
   "source": [
    "svm = SVC(C=3, random_state=1, kernel='rbf', gamma='auto', decision_function_shape='ovo')\n",
    "svm.fit(X_train, y_train)\n",
    "y_pred = svm.predict(X_test)\n",
    "print('Train Accuracy: %.3f' % svm.score(X_train, y_train))\n",
    "print('Test Accuracy: %.3f' % svm.score(X_test, y_test))"
   ]
  },
  {
   "cell_type": "code",
   "execution_count": 9,
   "id": "a821e1ba",
   "metadata": {},
   "outputs": [],
   "source": [
    "orig_predictions = [y_pred]\n",
    "orig_actuals = [y_test]"
   ]
  },
  {
   "cell_type": "code",
   "execution_count": 10,
   "id": "c9bfd1c5",
   "metadata": {},
   "outputs": [],
   "source": [
    "# Scaled data\n",
    "X_train = np.array(train_scale)\n",
    "y_train = np.array(train_target)\n",
    "X_test = np.array(test_scale)\n",
    "y_test = np.array(test_target)"
   ]
  },
  {
   "cell_type": "code",
   "execution_count": 11,
   "id": "4bd23f13",
   "metadata": {},
   "outputs": [
    {
     "name": "stdout",
     "output_type": "stream",
     "text": [
      "Train Accuracy: 0.415\n",
      "Test Accuracy: 0.407\n"
     ]
    }
   ],
   "source": [
    "svm = SVC(C=3, random_state=1, kernel='rbf', gamma='auto', decision_function_shape='ovo')\n",
    "svm.fit(X_train, y_train)\n",
    "y_pred = svm.predict(X_test)\n",
    "print('Train Accuracy: %.3f' % svm.score(X_train, y_train))\n",
    "print('Test Accuracy: %.3f' % svm.score(X_test, y_test))"
   ]
  },
  {
   "cell_type": "code",
   "execution_count": 12,
   "id": "a68958c7",
   "metadata": {},
   "outputs": [],
   "source": [
    "orig_predictions.append(y_pred)\n",
    "orig_actuals.append(y_test)"
   ]
  },
  {
   "cell_type": "markdown",
   "id": "67bdba9f",
   "metadata": {},
   "source": [
    "## Evaluation"
   ]
  },
  {
   "cell_type": "markdown",
   "id": "a5992fe7",
   "metadata": {},
   "source": [
    "### Confusion matrix"
   ]
  },
  {
   "cell_type": "code",
   "execution_count": 13,
   "id": "958459f4",
   "metadata": {},
   "outputs": [],
   "source": [
    "def show_confusion_matrix(confmat):\n",
    "    \"\"\"Display confusion matrix with percent values \n",
    "    \"\"\"\n",
    "    confmat = confmat/np.sum(confmat) * 100\n",
    "    \n",
    "    fig, ax = plt.subplots(figsize=(8, 5))\n",
    "    ax.matshow(confmat, cmap=plt.cm.Blues, alpha=0.3)\n",
    "    for i in range(confmat.shape[0]):\n",
    "        for j in range(confmat.shape[1]):\n",
    "            percent = \"{:.2f}\".format(confmat[i, j])\n",
    "            ax.text(x=j, y=i, s=percent+'%', va='center', ha='center')\n",
    "\n",
    "\n",
    "    ax.set_xticklabels([''] + target_labels)\n",
    "    ax.set_yticklabels([''] + target_labels)\n",
    "    plt.xlabel('Predicted label')\n",
    "    plt.ylabel('True label')\n",
    "\n",
    "    plt.tight_layout()\n",
    "    plt.show()"
   ]
  },
  {
   "cell_type": "code",
   "execution_count": 14,
   "id": "87b5ac9e",
   "metadata": {},
   "outputs": [
    {
     "name": "stderr",
     "output_type": "stream",
     "text": [
      "C:\\Users\\CREATE\\AppData\\Local\\Temp\\ipykernel_1804\\4280984978.py:14: UserWarning: FixedFormatter should only be used together with FixedLocator\n",
      "  ax.set_xticklabels([''] + target_labels)\n",
      "C:\\Users\\CREATE\\AppData\\Local\\Temp\\ipykernel_1804\\4280984978.py:15: UserWarning: FixedFormatter should only be used together with FixedLocator\n",
      "  ax.set_yticklabels([''] + target_labels)\n"
     ]
    },
    {
     "data": {
      "image/png": "[encoded data removed]",
      "text/plain": [
       "<Figure size 576x360 with 1 Axes>"
      ]
     },
     "metadata": {
      "needs_background": "light"
     },
     "output_type": "display_data"
    }
   ],
   "source": [
    "i = 0\n",
    "confmat = confusion_matrix(y_true=orig_actuals[i], y_pred=orig_predictions[i], labels=targets)\n",
    "show_confusion_matrix(confmat)"
   ]
  },
  {
   "cell_type": "markdown",
   "id": "ec66a9f2",
   "metadata": {},
   "source": [
    "### Performance metrics & Classification reports"
   ]
  },
  {
   "cell_type": "code",
   "execution_count": 15,
   "id": "c85eae19",
   "metadata": {},
   "outputs": [
    {
     "name": "stdout",
     "output_type": "stream",
     "text": [
      "Precision: 0.857\n",
      "Recall: 0.356\n",
      "F1: 0.323\n",
      "Accuracy: 0.388\n",
      "              precision    recall  f1-score   support\n",
      "\n",
      "       angry       0.97      0.07      0.12       957\n",
      "     disgust       1.00      1.00      1.00       830\n",
      "        fear       0.91      0.09      0.16      1024\n",
      "       happy       0.27      1.00      0.42      1774\n",
      "         sad       0.93      0.03      0.06      1247\n",
      "    surprise       0.99      0.27      0.43       831\n",
      "     neutral       0.93      0.03      0.07      1233\n",
      "\n",
      "    accuracy                           0.39      7896\n",
      "   macro avg       0.86      0.36      0.32      7896\n",
      "weighted avg       0.80      0.39      0.30      7896\n",
      "\n"
     ]
    }
   ],
   "source": [
    "i = 0\n",
    "print('Precision: %.3f' % precision_score(y_true=orig_actuals[i], y_pred=orig_predictions[i], average='macro'))\n",
    "print('Recall: %.3f' % recall_score(y_true=orig_actuals[i], y_pred=orig_predictions[i], average='macro'))\n",
    "print('F1: %.3f' % f1_score(y_true=orig_actuals[i], y_pred=orig_predictions[i], average='macro'))\n",
    "print('Accuracy: %.3f' % accuracy_score(y_true=orig_actuals[i], y_pred=orig_predictions[i]))\n",
    "print(classification_report(y_true=orig_actuals[i], y_pred=orig_predictions[i], target_names=target_labels))"
   ]
  },
  {
   "cell_type": "code",
   "execution_count": 16,
   "id": "a385ee26",
   "metadata": {},
   "outputs": [
    {
     "name": "stdout",
     "output_type": "stream",
     "text": [
      "Precision: 0.405\n",
      "Recall: 0.375\n",
      "F1: 0.366\n",
      "Accuracy: 0.407\n",
      "              precision    recall  f1-score   support\n",
      "\n",
      "       angry       0.31      0.09      0.14       957\n",
      "     disgust       0.60      0.53      0.56       830\n",
      "        fear       0.30      0.11      0.16      1024\n",
      "       happy       0.41      0.76      0.54      1774\n",
      "         sad       0.30      0.33      0.32      1247\n",
      "    surprise       0.54      0.43      0.48       831\n",
      "     neutral       0.37      0.37      0.37      1233\n",
      "\n",
      "    accuracy                           0.41      7896\n",
      "   macro avg       0.41      0.37      0.37      7896\n",
      "weighted avg       0.40      0.41      0.38      7896\n",
      "\n"
     ]
    }
   ],
   "source": [
    "i = 1\n",
    "print('Precision: %.3f' % precision_score(y_true=orig_actuals[i], y_pred=orig_predictions[i], average='macro'))\n",
    "print('Recall: %.3f' % recall_score(y_true=orig_actuals[i], y_pred=orig_predictions[i], average='macro'))\n",
    "print('F1: %.3f' % f1_score(y_true=orig_actuals[i], y_pred=orig_predictions[i], average='macro'))\n",
    "print('Accuracy: %.3f' % accuracy_score(y_true=orig_actuals[i], y_pred=orig_predictions[i]))\n",
    "print(classification_report(y_true=orig_actuals[i], y_pred=orig_predictions[i], target_names=target_labels))"
   ]
  },
  {
   "cell_type": "markdown",
   "id": "bb6c053f",
   "metadata": {},
   "source": [
    "# SVM with PCA"
   ]
  },
  {
   "cell_type": "code",
   "execution_count": 20,
   "id": "a9758b46",
   "metadata": {},
   "outputs": [],
   "source": [
    "def processSVM(csv, data_type):\n",
    "    \"\"\"Process SVM for each csv data\n",
    "    \"\"\"\n",
    "    print(csv)\n",
    "    df = pd.read_csv(csv)\n",
    "    df.head()\n",
    "    \n",
    "    df_train = df[df['usage']=='train']\n",
    "    df_test = df[df['usage']=='test']\n",
    "    train_data, train_scaled = load_data(df_train, data_type)\n",
    "    train_target = list(df_train.emotion)\n",
    "    test_data, test_scaled = load_data(df_test, data_type)\n",
    "    test_target = list(df_test.emotion)\n",
    "    \n",
    "    X_train = np.array(train_data)\n",
    "    y_train = np.array(train_target)\n",
    "    X_test = np.array(test_data)\n",
    "    y_test = np.array(test_target)\n",
    "    \n",
    "    print(X_train.shape)\n",
    "    print(y_train.shape)\n",
    "    print(X_test.shape)\n",
    "    print(y_test.shape)\n",
    "    \n",
    "    svm = SVC(C=5, random_state=1, kernel='rbf', gamma='auto', decision_function_shape='ovo')\n",
    "    svm.fit(X_train, y_train)\n",
    "    y_pred = svm.predict(X_test)\n",
    "    print('Train Accuracy: %.3f' % svm.score(X_train, y_train))\n",
    "    print('Test Accuracy: %.3f' % svm.score(X_test, y_test))\n",
    "    \n",
    "    return y_pred, y_test"
   ]
  },
  {
   "cell_type": "code",
   "execution_count": 28,
   "id": "4e94fd0f",
   "metadata": {},
   "outputs": [],
   "source": [
    "csv_list = ['data/pca/fer_pca.csv', 'data/pca/fer_pca_inverse.csv', 'data/pca/fer_pca_norm.csv', \n",
    "            'data/pca/fer_pca_std.csv', 'data/pca/fer_pca_scaled.csv']"
   ]
  },
  {
   "cell_type": "code",
   "execution_count": 7,
   "id": "dfdefb3f",
   "metadata": {
    "scrolled": false
   },
   "outputs": [
    {
     "name": "stdout",
     "output_type": "stream",
     "text": [
      "data/pca/fer_pca.csv\n",
      "(31432, 103)\n",
      "(31432,)\n",
      "(7896, 103)\n",
      "(7896,)\n",
      "Train Accuracy: 0.967\n",
      "Test Accuracy: 0.543\n",
      "data/pca/fer_pca_inverse.csv\n",
      "(31432, 2304)\n",
      "(31432,)\n",
      "(7896, 2304)\n",
      "(7896,)\n",
      "Train Accuracy: 0.999\n",
      "Test Accuracy: 0.225\n",
      "data/pca/fer_pca_norm.csv\n",
      "(31432, 157)\n",
      "(31432,)\n",
      "(7896, 157)\n",
      "(7896,)\n",
      "Train Accuracy: 0.975\n",
      "Test Accuracy: 0.539\n",
      "data/pca/fer_pca_std.csv\n",
      "(31432, 112)\n",
      "(31432,)\n",
      "(7896, 112)\n",
      "(7896,)\n",
      "Train Accuracy: 0.971\n",
      "Test Accuracy: 0.554\n",
      "data/pca/fer_pca_scaled.csv\n",
      "(31432, 103)\n",
      "(31432,)\n",
      "(7896, 103)\n",
      "(7896,)\n",
      "Train Accuracy: 0.967\n",
      "Test Accuracy: 0.547\n"
     ]
    }
   ],
   "source": [
    "pca_predictions = []\n",
    "pca_actuals = []\n",
    "for i in range(len(csv_list)):\n",
    "    pred, act = processSVM(csv_list[i], 1)\n",
    "    pca_predictions.append(pred)\n",
    "    pca_actuals.append(act)"
   ]
  },
  {
   "cell_type": "markdown",
   "id": "3d4c4eb8",
   "metadata": {},
   "source": [
    "## Evaluation"
   ]
  },
  {
   "cell_type": "markdown",
   "id": "95fa69d9",
   "metadata": {},
   "source": [
    "### Confusion matrix"
   ]
  },
  {
   "cell_type": "code",
   "execution_count": 23,
   "id": "6cc3e093",
   "metadata": {},
   "outputs": [
    {
     "name": "stderr",
     "output_type": "stream",
     "text": [
      "C:\\Users\\CREATE\\AppData\\Local\\Temp\\ipykernel_9988\\4280984978.py:14: UserWarning: FixedFormatter should only be used together with FixedLocator\n",
      "  ax.set_xticklabels([''] + target_labels)\n",
      "C:\\Users\\CREATE\\AppData\\Local\\Temp\\ipykernel_9988\\4280984978.py:15: UserWarning: FixedFormatter should only be used together with FixedLocator\n",
      "  ax.set_yticklabels([''] + target_labels)\n"
     ]
    },
    {
     "data": {
      "image/png": "[encoded data removed]",
      "text/plain": [
       "<Figure size 576x360 with 1 Axes>"
      ]
     },
     "metadata": {
      "needs_background": "light"
     },
     "output_type": "display_data"
    }
   ],
   "source": [
    "# Show only the best one \n",
    "i = 4\n",
    "confmat = confusion_matrix(y_true=pca_actuals[i], y_pred=pca_predictions[i], labels=targets)\n",
    "show_confusion_matrix(confmat)"
   ]
  },
  {
   "cell_type": "markdown",
   "id": "022f409f",
   "metadata": {},
   "source": [
    "### Performance matrics & Classification reports"
   ]
  },
  {
   "cell_type": "code",
   "execution_count": 25,
   "id": "57ade953",
   "metadata": {},
   "outputs": [],
   "source": [
    "def showPerformance(predictions, actuals):\n",
    "    \"\"\"Display performance of each result\n",
    "    \"\"\"\n",
    "    for i in range(len(csv_list)):\n",
    "        print(csv_list[i])\n",
    "        print('Precision: %.3f' % precision_score(y_true=actuals[i], y_pred=predictions[i], average='macro'))\n",
    "        print('Recall: %.3f' % recall_score(y_true=actuals[i], y_pred=predictions[i], average='macro'))\n",
    "        print('F1: %.3f' % f1_score(y_true=actuals[i], y_pred=predictions[i], average='macro'))\n",
    "        print('Accuracy: %.3f' % accuracy_score(y_true=actuals[i], y_pred=predictions[i]))\n",
    "        print('Classification reports')\n",
    "        print(classification_report(actuals[i], predictions[i], target_names=list(target_labels)))"
   ]
  },
  {
   "cell_type": "code",
   "execution_count": 29,
   "id": "450d55f9",
   "metadata": {
    "scrolled": false
   },
   "outputs": [
    {
     "name": "stdout",
     "output_type": "stream",
     "text": [
      "data/pca/fer_pca.csv\n",
      "Precision: 0.561\n",
      "Recall: 0.548\n",
      "F1: 0.553\n",
      "Accuracy: 0.543\n",
      "Classification reports\n",
      "              precision    recall  f1-score   support\n",
      "\n",
      "       angry       0.36      0.35      0.35       957\n",
      "     disgust       0.98      0.99      0.99       830\n",
      "        fear       0.39      0.35      0.37      1024\n",
      "       happy       0.59      0.68      0.63      1774\n",
      "         sad       0.39      0.39      0.39      1247\n",
      "    surprise       0.77      0.62      0.68       831\n",
      "     neutral       0.46      0.46      0.46      1233\n",
      "\n",
      "    accuracy                           0.54      7896\n",
      "   macro avg       0.56      0.55      0.55      7896\n",
      "weighted avg       0.54      0.54      0.54      7896\n",
      "\n",
      "data/pca/fer_pca_inverse.csv\n",
      "Precision: 0.032\n",
      "Recall: 0.143\n",
      "F1: 0.052\n",
      "Accuracy: 0.225\n",
      "Classification reports\n",
      "              precision    recall  f1-score   support\n",
      "\n",
      "       angry       0.00      0.00      0.00       957\n",
      "     disgust       0.00      0.00      0.00       830\n",
      "        fear       0.00      0.00      0.00      1024\n",
      "       happy       0.22      1.00      0.37      1774\n",
      "         sad       0.00      0.00      0.00      1247\n",
      "    surprise       0.00      0.00      0.00       831\n",
      "     neutral       0.00      0.00      0.00      1233\n",
      "\n",
      "    accuracy                           0.22      7896\n",
      "   macro avg       0.03      0.14      0.05      7896\n",
      "weighted avg       0.05      0.22      0.08      7896\n",
      "\n",
      "data/pca/fer_pca_norm.csv\n",
      "Precision: 0.559\n",
      "Recall: 0.544\n",
      "F1: 0.549\n",
      "Accuracy: 0.539\n",
      "Classification reports\n",
      "              precision    recall  f1-score   support\n",
      "\n",
      "       angry       0.36      0.33      0.35       957\n",
      "     disgust       0.98      1.00      0.99       830\n",
      "        fear       0.43      0.36      0.39      1024\n",
      "       happy       0.57      0.69      0.63      1774\n",
      "         sad       0.37      0.37      0.37      1247\n",
      "    surprise       0.76      0.60      0.67       831\n",
      "     neutral       0.43      0.44      0.44      1233\n",
      "\n",
      "    accuracy                           0.54      7896\n",
      "   macro avg       0.56      0.54      0.55      7896\n",
      "weighted avg       0.54      0.54      0.54      7896\n",
      "\n",
      "data/pca/fer_pca_std.csv\n",
      "Precision: 0.572\n",
      "Recall: 0.558\n",
      "F1: 0.563\n",
      "Accuracy: 0.554\n",
      "Classification reports\n",
      "              precision    recall  f1-score   support\n",
      "\n",
      "       angry       0.37      0.36      0.37       957\n",
      "     disgust       0.99      0.99      0.99       830\n",
      "        fear       0.40      0.37      0.38      1024\n",
      "       happy       0.60      0.71      0.65      1774\n",
      "         sad       0.40      0.39      0.39      1247\n",
      "    surprise       0.78      0.62      0.69       831\n",
      "     neutral       0.47      0.47      0.47      1233\n",
      "\n",
      "    accuracy                           0.55      7896\n",
      "   macro avg       0.57      0.56      0.56      7896\n",
      "weighted avg       0.55      0.55      0.55      7896\n",
      "\n",
      "data/pca/fer_pca_scaled.csv\n",
      "Precision: 0.563\n",
      "Recall: 0.552\n",
      "F1: 0.556\n",
      "Accuracy: 0.547\n",
      "Classification reports\n",
      "              precision    recall  f1-score   support\n",
      "\n",
      "       angry       0.36      0.35      0.36       957\n",
      "     disgust       0.98      0.99      0.99       830\n",
      "        fear       0.39      0.36      0.37      1024\n",
      "       happy       0.60      0.69      0.64      1774\n",
      "         sad       0.40      0.39      0.39      1247\n",
      "    surprise       0.75      0.62      0.68       831\n",
      "     neutral       0.46      0.45      0.46      1233\n",
      "\n",
      "    accuracy                           0.55      7896\n",
      "   macro avg       0.56      0.55      0.56      7896\n",
      "weighted avg       0.55      0.55      0.54      7896\n",
      "\n"
     ]
    },
    {
     "name": "stderr",
     "output_type": "stream",
     "text": [
      "C:\\Users\\CREATE\\anaconda3\\lib\\site-packages\\sklearn\\metrics\\_classification.py:1318: UndefinedMetricWarning: Precision is ill-defined and being set to 0.0 in labels with no predicted samples. Use `zero_division` parameter to control this behavior.\n",
      "  _warn_prf(average, modifier, msg_start, len(result))\n",
      "C:\\Users\\CREATE\\anaconda3\\lib\\site-packages\\sklearn\\metrics\\_classification.py:1318: UndefinedMetricWarning: Precision and F-score are ill-defined and being set to 0.0 in labels with no predicted samples. Use `zero_division` parameter to control this behavior.\n",
      "  _warn_prf(average, modifier, msg_start, len(result))\n",
      "C:\\Users\\CREATE\\anaconda3\\lib\\site-packages\\sklearn\\metrics\\_classification.py:1318: UndefinedMetricWarning: Precision and F-score are ill-defined and being set to 0.0 in labels with no predicted samples. Use `zero_division` parameter to control this behavior.\n",
      "  _warn_prf(average, modifier, msg_start, len(result))\n",
      "C:\\Users\\CREATE\\anaconda3\\lib\\site-packages\\sklearn\\metrics\\_classification.py:1318: UndefinedMetricWarning: Precision and F-score are ill-defined and being set to 0.0 in labels with no predicted samples. Use `zero_division` parameter to control this behavior.\n",
      "  _warn_prf(average, modifier, msg_start, len(result))\n"
     ]
    }
   ],
   "source": [
    "showPerformance(pca_predictions, pca_actuals)"
   ]
  },
  {
   "cell_type": "markdown",
   "id": "4f757aa1",
   "metadata": {},
   "source": [
    "# SVM with FisherFace"
   ]
  },
  {
   "cell_type": "code",
   "execution_count": 30,
   "id": "94526d57",
   "metadata": {},
   "outputs": [],
   "source": [
    "csv_list = ['data/lda/fer_lda.csv', 'data/lda/fer_lda_norm.csv', 'data/lda/fer_lda_std.csv', 'data/lda/fer_lda_scaled.csv']"
   ]
  },
  {
   "cell_type": "code",
   "execution_count": 10,
   "id": "56547e65",
   "metadata": {},
   "outputs": [
    {
     "name": "stdout",
     "output_type": "stream",
     "text": [
      "data/lda/fer_lda.csv\n",
      "(31432, 6)\n",
      "(31432,)\n",
      "(7896, 6)\n",
      "(7896,)\n",
      "Train Accuracy: 0.429\n",
      "Test Accuracy: 0.397\n",
      "data/lda/fer_lda_norm.csv\n",
      "(31432, 6)\n",
      "(31432,)\n",
      "(7896, 6)\n",
      "(7896,)\n",
      "Train Accuracy: 0.432\n",
      "Test Accuracy: 0.385\n",
      "data/lda/fer_lda_std.csv\n",
      "(31432, 6)\n",
      "(31432,)\n",
      "(7896, 6)\n",
      "(7896,)\n",
      "Train Accuracy: 0.431\n",
      "Test Accuracy: 0.397\n",
      "data/lda/fer_lda_scaled.csv\n",
      "(31432, 6)\n",
      "(31432,)\n",
      "(7896, 6)\n",
      "(7896,)\n",
      "Train Accuracy: 0.429\n",
      "Test Accuracy: 0.397\n"
     ]
    }
   ],
   "source": [
    "lda_predictions = []\n",
    "lda_actuals = []\n",
    "for i in range(len(csv_list)):\n",
    "    pred, act = processSVM(csv_list[i], 4)\n",
    "    lda_predictions.append(pred)\n",
    "    lda_actuals.append(act)"
   ]
  },
  {
   "cell_type": "markdown",
   "id": "b55937d6",
   "metadata": {},
   "source": [
    "## Evaluation"
   ]
  },
  {
   "cell_type": "markdown",
   "id": "2de8b2b5",
   "metadata": {},
   "source": [
    "### Confusion matrix"
   ]
  },
  {
   "cell_type": "code",
   "execution_count": 31,
   "id": "2d6a517c",
   "metadata": {
    "scrolled": false
   },
   "outputs": [
    {
     "name": "stderr",
     "output_type": "stream",
     "text": [
      "C:\\Users\\CREATE\\AppData\\Local\\Temp\\ipykernel_9988\\4280984978.py:14: UserWarning: FixedFormatter should only be used together with FixedLocator\n",
      "  ax.set_xticklabels([''] + target_labels)\n",
      "C:\\Users\\CREATE\\AppData\\Local\\Temp\\ipykernel_9988\\4280984978.py:15: UserWarning: FixedFormatter should only be used together with FixedLocator\n",
      "  ax.set_yticklabels([''] + target_labels)\n"
     ]
    },
    {
     "data": {
      "image/png": "[encoded data removed]",
      "text/plain": [
       "<Figure size 576x360 with 1 Axes>"
      ]
     },
     "metadata": {
      "needs_background": "light"
     },
     "output_type": "display_data"
    }
   ],
   "source": [
    "# Show only the best one \n",
    "i = 0\n",
    "confmat = confusion_matrix(y_true=lda_actuals[i], y_pred=lda_predictions[i], labels=targets)\n",
    "show_confusion_matrix(confmat)"
   ]
  },
  {
   "cell_type": "markdown",
   "id": "6becff28",
   "metadata": {},
   "source": [
    "### Performance metrics & Classification reports"
   ]
  },
  {
   "cell_type": "code",
   "execution_count": 32,
   "id": "213f5751",
   "metadata": {
    "scrolled": false
   },
   "outputs": [
    {
     "name": "stdout",
     "output_type": "stream",
     "text": [
      "data/lda/fer_lda.csv\n",
      "Precision: 0.382\n",
      "Recall: 0.373\n",
      "F1: 0.363\n",
      "Accuracy: 0.397\n",
      "Classification reports\n",
      "              precision    recall  f1-score   support\n",
      "\n",
      "       angry       0.26      0.12      0.16       957\n",
      "     disgust       0.55      0.59      0.57       830\n",
      "        fear       0.25      0.09      0.13      1024\n",
      "       happy       0.43      0.69      0.53      1774\n",
      "         sad       0.30      0.32      0.31      1247\n",
      "    surprise       0.55      0.43      0.48       831\n",
      "     neutral       0.33      0.36      0.35      1233\n",
      "\n",
      "    accuracy                           0.40      7896\n",
      "   macro avg       0.38      0.37      0.36      7896\n",
      "weighted avg       0.38      0.40      0.37      7896\n",
      "\n",
      "data/lda/fer_lda_norm.csv\n",
      "Precision: 0.368\n",
      "Recall: 0.361\n",
      "F1: 0.351\n",
      "Accuracy: 0.385\n",
      "Classification reports\n",
      "              precision    recall  f1-score   support\n",
      "\n",
      "       angry       0.27      0.16      0.20       957\n",
      "     disgust       0.53      0.58      0.56       830\n",
      "        fear       0.22      0.09      0.13      1024\n",
      "       happy       0.42      0.70      0.52      1774\n",
      "         sad       0.28      0.25      0.26      1247\n",
      "    surprise       0.52      0.39      0.45       831\n",
      "     neutral       0.33      0.35      0.34      1233\n",
      "\n",
      "    accuracy                           0.39      7896\n",
      "   macro avg       0.37      0.36      0.35      7896\n",
      "weighted avg       0.36      0.39      0.36      7896\n",
      "\n",
      "data/lda/fer_lda_std.csv\n",
      "Precision: 0.383\n",
      "Recall: 0.371\n",
      "F1: 0.362\n",
      "Accuracy: 0.397\n",
      "Classification reports\n",
      "              precision    recall  f1-score   support\n",
      "\n",
      "       angry       0.28      0.14      0.19       957\n",
      "     disgust       0.53      0.57      0.55       830\n",
      "        fear       0.24      0.08      0.12      1024\n",
      "       happy       0.43      0.70      0.53      1774\n",
      "         sad       0.31      0.32      0.31      1247\n",
      "    surprise       0.55      0.42      0.48       831\n",
      "     neutral       0.34      0.37      0.35      1233\n",
      "\n",
      "    accuracy                           0.40      7896\n",
      "   macro avg       0.38      0.37      0.36      7896\n",
      "weighted avg       0.38      0.40      0.37      7896\n",
      "\n",
      "data/lda/fer_lda_scaled.csv\n",
      "Precision: 0.380\n",
      "Recall: 0.371\n",
      "F1: 0.361\n",
      "Accuracy: 0.397\n",
      "Classification reports\n",
      "              precision    recall  f1-score   support\n",
      "\n",
      "       angry       0.27      0.12      0.16       957\n",
      "     disgust       0.55      0.58      0.56       830\n",
      "        fear       0.23      0.08      0.12      1024\n",
      "       happy       0.43      0.70      0.53      1774\n",
      "         sad       0.31      0.33      0.32      1247\n",
      "    surprise       0.54      0.42      0.47       831\n",
      "     neutral       0.33      0.37      0.35      1233\n",
      "\n",
      "    accuracy                           0.40      7896\n",
      "   macro avg       0.38      0.37      0.36      7896\n",
      "weighted avg       0.37      0.40      0.37      7896\n",
      "\n"
     ]
    }
   ],
   "source": [
    "showPerformance(lda_predictions, lda_actuals)"
   ]
  },
  {
   "cell_type": "markdown",
   "id": "8fa9e846",
   "metadata": {},
   "source": [
    "# SVM with SIFT"
   ]
  },
  {
   "cell_type": "code",
   "execution_count": 33,
   "id": "1a77ea53",
   "metadata": {},
   "outputs": [],
   "source": [
    "csv_list = ['data/sift/sift_bof_100.csv', 'data/sift/sift_bof_500.csv', 'data/sift/sift_bof_1000.csv', \n",
    "            'data/sift/sift_pca_bof_100.csv', 'data/sift/sift_pca_bof_500.csv', 'data/sift/sift_pca_bof_1000.csv']"
   ]
  },
  {
   "cell_type": "code",
   "execution_count": 12,
   "id": "81c2247a",
   "metadata": {},
   "outputs": [
    {
     "name": "stdout",
     "output_type": "stream",
     "text": [
      "data/sift/sift_bof_100.csv\n",
      "(31427, 99)\n",
      "(31427,)\n",
      "(7895, 99)\n",
      "(7895,)\n",
      "Train Accuracy: 0.551\n",
      "Test Accuracy: 0.187\n",
      "data/sift/sift_bof_500.csv\n",
      "(31427, 499)\n",
      "(31427,)\n",
      "(7895, 499)\n",
      "(7895,)\n",
      "Train Accuracy: 0.382\n",
      "Test Accuracy: 0.190\n",
      "data/sift/sift_bof_1000.csv\n",
      "(31427, 999)\n",
      "(31427,)\n",
      "(7895, 999)\n",
      "(7895,)\n",
      "Train Accuracy: 0.409\n",
      "Test Accuracy: 0.185\n",
      "data/sift/sift_pca_bof_100.csv\n",
      "(31425, 99)\n",
      "(31425,)\n",
      "(7894, 99)\n",
      "(7894,)\n",
      "Train Accuracy: 0.429\n",
      "Test Accuracy: 0.202\n",
      "data/sift/sift_pca_bof_500.csv\n",
      "(31425, 499)\n",
      "(31425,)\n",
      "(7894, 499)\n",
      "(7894,)\n",
      "Train Accuracy: 0.346\n",
      "Test Accuracy: 0.201\n",
      "data/sift/sift_pca_bof_1000.csv\n",
      "(31425, 999)\n",
      "(31425,)\n",
      "(7894, 999)\n",
      "(7894,)\n",
      "Train Accuracy: 0.341\n",
      "Test Accuracy: 0.210\n"
     ]
    }
   ],
   "source": [
    "sift_predictions = []\n",
    "sift_actuals = []\n",
    "for i in range(len(csv_list)):\n",
    "    pred, act = processSVM(csv_list[i], 2)\n",
    "    sift_predictions.append(pred)\n",
    "    sift_actuals.append(act)"
   ]
  },
  {
   "cell_type": "markdown",
   "id": "da3f2a1f",
   "metadata": {},
   "source": [
    "## Evaluation"
   ]
  },
  {
   "cell_type": "markdown",
   "id": "38bbe3af",
   "metadata": {},
   "source": [
    "### Confusion matrix"
   ]
  },
  {
   "cell_type": "code",
   "execution_count": 34,
   "id": "818f8249",
   "metadata": {
    "scrolled": false
   },
   "outputs": [
    {
     "name": "stderr",
     "output_type": "stream",
     "text": [
      "C:\\Users\\CREATE\\AppData\\Local\\Temp\\ipykernel_9988\\4280984978.py:14: UserWarning: FixedFormatter should only be used together with FixedLocator\n",
      "  ax.set_xticklabels([''] + target_labels)\n",
      "C:\\Users\\CREATE\\AppData\\Local\\Temp\\ipykernel_9988\\4280984978.py:15: UserWarning: FixedFormatter should only be used together with FixedLocator\n",
      "  ax.set_yticklabels([''] + target_labels)\n"
     ]
    },
    {
     "data": {
      "image/png": "[encoded data removed]",
      "text/plain": [
       "<Figure size 576x360 with 1 Axes>"
      ]
     },
     "metadata": {
      "needs_background": "light"
     },
     "output_type": "display_data"
    }
   ],
   "source": [
    "# Show only the best one \n",
    "i = 5\n",
    "confmat = confusion_matrix(y_true=sift_actuals[i], y_pred=sift_predictions[i], labels=targets)\n",
    "show_confusion_matrix(confmat)"
   ]
  },
  {
   "cell_type": "markdown",
   "id": "222a100f",
   "metadata": {},
   "source": [
    "### Performance metrics & Classification reports"
   ]
  },
  {
   "cell_type": "code",
   "execution_count": 35,
   "id": "5c22570b",
   "metadata": {
    "scrolled": false
   },
   "outputs": [
    {
     "name": "stdout",
     "output_type": "stream",
     "text": [
      "data/sift/sift_bof_100.csv\n",
      "Precision: 0.133\n",
      "Recall: 0.141\n",
      "F1: 0.118\n",
      "Accuracy: 0.187\n",
      "Classification reports\n",
      "              precision    recall  f1-score   support\n",
      "\n",
      "       angry       0.15      0.08      0.10       957\n",
      "     disgust       0.05      0.00      0.01       830\n",
      "        fear       0.11      0.04      0.06      1024\n",
      "       happy       0.22      0.56      0.32      1773\n",
      "         sad       0.16      0.15      0.15      1247\n",
      "    surprise       0.08      0.03      0.05       831\n",
      "     neutral       0.15      0.13      0.14      1233\n",
      "\n",
      "    accuracy                           0.19      7895\n",
      "   macro avg       0.13      0.14      0.12      7895\n",
      "weighted avg       0.15      0.19      0.14      7895\n",
      "\n",
      "data/sift/sift_bof_500.csv\n",
      "Precision: 0.161\n",
      "Recall: 0.153\n",
      "F1: 0.140\n",
      "Accuracy: 0.190\n",
      "Classification reports\n",
      "              precision    recall  f1-score   support\n",
      "\n",
      "       angry       0.14      0.07      0.09       957\n",
      "     disgust       0.15      0.12      0.13       830\n",
      "        fear       0.14      0.07      0.09      1024\n",
      "       happy       0.22      0.52      0.31      1773\n",
      "         sad       0.16      0.12      0.14      1247\n",
      "    surprise       0.15      0.05      0.07       831\n",
      "     neutral       0.16      0.12      0.14      1233\n",
      "\n",
      "    accuracy                           0.19      7895\n",
      "   macro avg       0.16      0.15      0.14      7895\n",
      "weighted avg       0.17      0.19      0.16      7895\n",
      "\n",
      "data/sift/sift_bof_1000.csv\n",
      "Precision: 0.131\n",
      "Recall: 0.136\n",
      "F1: 0.110\n",
      "Accuracy: 0.185\n",
      "Classification reports\n",
      "              precision    recall  f1-score   support\n",
      "\n",
      "       angry       0.13      0.05      0.07       957\n",
      "     disgust       0.10      0.05      0.07       830\n",
      "        fear       0.11      0.03      0.05      1024\n",
      "       happy       0.22      0.60      0.32      1773\n",
      "         sad       0.15      0.10      0.12      1247\n",
      "    surprise       0.06      0.01      0.01       831\n",
      "     neutral       0.15      0.11      0.13      1233\n",
      "\n",
      "    accuracy                           0.18      7895\n",
      "   macro avg       0.13      0.14      0.11      7895\n",
      "weighted avg       0.14      0.18      0.13      7895\n",
      "\n",
      "data/sift/sift_pca_bof_100.csv\n",
      "Precision: 0.137\n",
      "Recall: 0.145\n",
      "F1: 0.108\n",
      "Accuracy: 0.202\n",
      "Classification reports\n",
      "              precision    recall  f1-score   support\n",
      "\n",
      "       angry       0.12      0.03      0.05       957\n",
      "     disgust       0.04      0.00      0.00       830\n",
      "        fear       0.12      0.04      0.05      1024\n",
      "       happy       0.23      0.71      0.34      1772\n",
      "         sad       0.17      0.09      0.12      1247\n",
      "    surprise       0.12      0.05      0.07       831\n",
      "     neutral       0.16      0.09      0.12      1233\n",
      "\n",
      "    accuracy                           0.20      7894\n",
      "   macro avg       0.14      0.14      0.11      7894\n",
      "weighted avg       0.15      0.20      0.13      7894\n",
      "\n",
      "data/sift/sift_pca_bof_500.csv\n",
      "Precision: 0.158\n",
      "Recall: 0.151\n",
      "F1: 0.126\n",
      "Accuracy: 0.201\n",
      "Classification reports\n",
      "              precision    recall  f1-score   support\n",
      "\n",
      "       angry       0.12      0.04      0.06       957\n",
      "     disgust       0.14      0.08      0.10       830\n",
      "        fear       0.13      0.03      0.04      1024\n",
      "       happy       0.23      0.64      0.34      1772\n",
      "         sad       0.17      0.12      0.14      1247\n",
      "    surprise       0.15      0.04      0.06       831\n",
      "     neutral       0.17      0.11      0.13      1233\n",
      "\n",
      "    accuracy                           0.20      7894\n",
      "   macro avg       0.16      0.15      0.13      7894\n",
      "weighted avg       0.17      0.20      0.15      7894\n",
      "\n",
      "data/sift/sift_pca_bof_1000.csv\n",
      "Precision: 0.154\n",
      "Recall: 0.146\n",
      "F1: 0.098\n",
      "Accuracy: 0.210\n",
      "Classification reports\n",
      "              precision    recall  f1-score   support\n",
      "\n",
      "       angry       0.14      0.01      0.02       957\n",
      "     disgust       0.11      0.06      0.07       830\n",
      "        fear       0.16      0.01      0.02      1024\n",
      "       happy       0.23      0.80      0.35      1772\n",
      "         sad       0.18      0.07      0.10      1247\n",
      "    surprise       0.10      0.01      0.02       831\n",
      "     neutral       0.16      0.07      0.09      1233\n",
      "\n",
      "    accuracy                           0.21      7894\n",
      "   macro avg       0.15      0.15      0.10      7894\n",
      "weighted avg       0.16      0.21      0.13      7894\n",
      "\n"
     ]
    }
   ],
   "source": [
    "showPerformance(sift_predictions, sift_actuals)"
   ]
  },
  {
   "cell_type": "markdown",
   "id": "d08a90a2",
   "metadata": {},
   "source": [
    "# SVM with KAZE"
   ]
  },
  {
   "cell_type": "code",
   "execution_count": 36,
   "id": "068a3df8",
   "metadata": {},
   "outputs": [],
   "source": [
    "csv_list = ['data/kaze/kaze_bof_100.csv', 'data/kaze/kaze_bof_500.csv', 'data/kaze/kaze_bof_1000.csv', \n",
    "            'data/kaze/kaze_pca_bof_100.csv', 'data/kaze/kaze_pca_bof_500.csv', 'data/kaze/kaze_pca_bof_1000.csv']"
   ]
  },
  {
   "cell_type": "code",
   "execution_count": 14,
   "id": "0e1e00ce",
   "metadata": {},
   "outputs": [
    {
     "name": "stdout",
     "output_type": "stream",
     "text": [
      "data/kaze/kaze_bof_100.csv\n",
      "(31284, 99)\n",
      "(31284,)\n",
      "(7856, 99)\n",
      "(7856,)\n",
      "Train Accuracy: 0.444\n",
      "Test Accuracy: 0.205\n",
      "data/kaze/kaze_bof_500.csv\n",
      "(31284, 499)\n",
      "(31284,)\n",
      "(7856, 499)\n",
      "(7856,)\n",
      "Train Accuracy: 0.322\n",
      "Test Accuracy: 0.208\n",
      "data/kaze/kaze_bof_1000.csv\n",
      "(31284, 999)\n",
      "(31284,)\n",
      "(7856, 999)\n",
      "(7856,)\n",
      "Train Accuracy: 0.317\n",
      "Test Accuracy: 0.216\n",
      "data/kaze/kaze_pca_bof_100.csv\n",
      "(31275, 99)\n",
      "(31275,)\n",
      "(7853, 99)\n",
      "(7853,)\n",
      "Train Accuracy: 0.425\n",
      "Test Accuracy: 0.212\n",
      "data/kaze/kaze_pca_bof_500.csv\n",
      "(31275, 499)\n",
      "(31275,)\n",
      "(7853, 499)\n",
      "(7853,)\n",
      "Train Accuracy: 0.301\n",
      "Test Accuracy: 0.208\n",
      "data/kaze/kaze_pca_bof_1000.csv\n",
      "(31275, 999)\n",
      "(31275,)\n",
      "(7853, 999)\n",
      "(7853,)\n",
      "Train Accuracy: 0.299\n",
      "Test Accuracy: 0.217\n"
     ]
    }
   ],
   "source": [
    "kaze_predictions = []\n",
    "kaze_actuals = []\n",
    "for i in range(len(csv_list)):\n",
    "    pred, act = processSVM(csv_list[i], 2)\n",
    "    kaze_predictions.append(pred)\n",
    "    kaze_actuals.append(act)"
   ]
  },
  {
   "cell_type": "markdown",
   "id": "a3638585",
   "metadata": {},
   "source": [
    "## Evaluation"
   ]
  },
  {
   "cell_type": "markdown",
   "id": "e90d8b6b",
   "metadata": {},
   "source": [
    "### Confusion matrix"
   ]
  },
  {
   "cell_type": "code",
   "execution_count": 37,
   "id": "b04d6af1",
   "metadata": {},
   "outputs": [
    {
     "name": "stderr",
     "output_type": "stream",
     "text": [
      "C:\\Users\\CREATE\\AppData\\Local\\Temp\\ipykernel_9988\\4280984978.py:14: UserWarning: FixedFormatter should only be used together with FixedLocator\n",
      "  ax.set_xticklabels([''] + target_labels)\n",
      "C:\\Users\\CREATE\\AppData\\Local\\Temp\\ipykernel_9988\\4280984978.py:15: UserWarning: FixedFormatter should only be used together with FixedLocator\n",
      "  ax.set_yticklabels([''] + target_labels)\n"
     ]
    },
    {
     "data": {
      "image/png": "[encoded data removed]",
      "text/plain": [
       "<Figure size 576x360 with 1 Axes>"
      ]
     },
     "metadata": {
      "needs_background": "light"
     },
     "output_type": "display_data"
    }
   ],
   "source": [
    "# Show only the best one \n",
    "i = 5\n",
    "confmat = confusion_matrix(y_true=kaze_actuals[i], y_pred=kaze_predictions[i], labels=targets)\n",
    "show_confusion_matrix(confmat)"
   ]
  },
  {
   "cell_type": "markdown",
   "id": "cc54f234",
   "metadata": {},
   "source": [
    "### Performance metrics & Classification reports"
   ]
  },
  {
   "cell_type": "code",
   "execution_count": 38,
   "id": "e40907dd",
   "metadata": {
    "scrolled": false
   },
   "outputs": [
    {
     "name": "stdout",
     "output_type": "stream",
     "text": [
      "data/kaze/kaze_bof_100.csv\n",
      "Precision: 0.150\n",
      "Recall: 0.144\n",
      "F1: 0.106\n",
      "Accuracy: 0.205\n",
      "Classification reports\n",
      "              precision    recall  f1-score   support\n",
      "\n",
      "       angry       0.15      0.04      0.06       955\n",
      "     disgust       0.16      0.03      0.04       821\n",
      "        fear       0.15      0.05      0.07      1022\n",
      "       happy       0.23      0.75      0.35      1770\n",
      "         sad       0.16      0.07      0.10      1237\n",
      "    surprise       0.08      0.02      0.04       828\n",
      "     neutral       0.12      0.06      0.08      1223\n",
      "\n",
      "    accuracy                           0.20      7856\n",
      "   macro avg       0.15      0.14      0.11      7856\n",
      "weighted avg       0.16      0.20      0.13      7856\n",
      "\n",
      "data/kaze/kaze_bof_500.csv\n",
      "Precision: 0.133\n",
      "Recall: 0.148\n",
      "F1: 0.101\n",
      "Accuracy: 0.208\n",
      "Classification reports\n",
      "              precision    recall  f1-score   support\n",
      "\n",
      "       angry       0.06      0.00      0.01       955\n",
      "     disgust       0.15      0.12      0.13       821\n",
      "        fear       0.14      0.04      0.06      1022\n",
      "       happy       0.23      0.77      0.35      1770\n",
      "         sad       0.18      0.05      0.08      1237\n",
      "    surprise       0.04      0.00      0.01       828\n",
      "     neutral       0.14      0.05      0.07      1223\n",
      "\n",
      "    accuracy                           0.21      7856\n",
      "   macro avg       0.13      0.15      0.10      7856\n",
      "weighted avg       0.15      0.21      0.13      7856\n",
      "\n",
      "data/kaze/kaze_bof_1000.csv\n",
      "Precision: 0.128\n",
      "Recall: 0.141\n",
      "F1: 0.071\n",
      "Accuracy: 0.216\n",
      "Classification reports\n",
      "              precision    recall  f1-score   support\n",
      "\n",
      "       angry       0.05      0.00      0.00       955\n",
      "     disgust       0.08      0.03      0.04       821\n",
      "        fear       0.09      0.00      0.01      1022\n",
      "       happy       0.23      0.91      0.36      1770\n",
      "         sad       0.14      0.03      0.05      1237\n",
      "    surprise       0.04      0.00      0.00       828\n",
      "     neutral       0.28      0.01      0.03      1223\n",
      "\n",
      "    accuracy                           0.22      7856\n",
      "   macro avg       0.13      0.14      0.07      7856\n",
      "weighted avg       0.15      0.22      0.10      7856\n",
      "\n",
      "data/kaze/kaze_pca_bof_100.csv\n",
      "Precision: 0.143\n",
      "Recall: 0.146\n",
      "F1: 0.096\n",
      "Accuracy: 0.212\n",
      "Classification reports\n",
      "              precision    recall  f1-score   support\n",
      "\n",
      "       angry       0.16      0.03      0.05       956\n",
      "     disgust       0.02      0.00      0.00       821\n",
      "        fear       0.13      0.04      0.06      1023\n",
      "       happy       0.23      0.82      0.36      1766\n",
      "         sad       0.17      0.06      0.09      1238\n",
      "    surprise       0.09      0.03      0.04       827\n",
      "     neutral       0.19      0.04      0.06      1222\n",
      "\n",
      "    accuracy                           0.21      7853\n",
      "   macro avg       0.14      0.15      0.10      7853\n",
      "weighted avg       0.16      0.21      0.12      7853\n",
      "\n",
      "data/kaze/kaze_pca_bof_500.csv\n",
      "Precision: 0.156\n",
      "Recall: 0.146\n",
      "F1: 0.093\n",
      "Accuracy: 0.208\n",
      "Classification reports\n",
      "              precision    recall  f1-score   support\n",
      "\n",
      "       angry       0.16      0.02      0.03       956\n",
      "     disgust       0.13      0.10      0.11       821\n",
      "        fear       0.17      0.02      0.04      1023\n",
      "       happy       0.22      0.81      0.35      1766\n",
      "         sad       0.13      0.05      0.07      1238\n",
      "    surprise       0.16      0.01      0.02       827\n",
      "     neutral       0.12      0.01      0.02      1222\n",
      "\n",
      "    accuracy                           0.21      7853\n",
      "   macro avg       0.16      0.15      0.09      7853\n",
      "weighted avg       0.16      0.21      0.12      7853\n",
      "\n",
      "data/kaze/kaze_pca_bof_1000.csv\n",
      "Precision: 0.144\n",
      "Recall: 0.142\n",
      "F1: 0.069\n",
      "Accuracy: 0.217\n",
      "Classification reports\n",
      "              precision    recall  f1-score   support\n",
      "\n",
      "       angry       0.19      0.00      0.01       956\n",
      "     disgust       0.08      0.03      0.04       821\n",
      "        fear       0.19      0.01      0.01      1023\n",
      "       happy       0.23      0.93      0.36      1766\n",
      "         sad       0.15      0.03      0.04      1238\n",
      "    surprise       0.06      0.00      0.00       827\n",
      "     neutral       0.11      0.00      0.01      1222\n",
      "\n",
      "    accuracy                           0.22      7853\n",
      "   macro avg       0.14      0.14      0.07      7853\n",
      "weighted avg       0.15      0.22      0.10      7853\n",
      "\n"
     ]
    }
   ],
   "source": [
    "showPerformance(kaze_predictions, kaze_actuals)"
   ]
  },
  {
   "cell_type": "markdown",
   "id": "1d059f9f",
   "metadata": {},
   "source": [
    "# SVM with ORB"
   ]
  },
  {
   "cell_type": "code",
   "execution_count": 39,
   "id": "6b4c0cfc",
   "metadata": {},
   "outputs": [],
   "source": [
    "csv_list = ['data/orb/orb_bof_100.csv', 'data/orb/orb_bof_500.csv', 'data/orb/orb_bof_1000.csv', \n",
    "            'data/orb/orb_pca_bof_100.csv', 'data/orb/orb_pca_bof_500.csv', 'data/orb/orb_pca_bof_1000.csv']"
   ]
  },
  {
   "cell_type": "code",
   "execution_count": 16,
   "id": "143f8721",
   "metadata": {},
   "outputs": [
    {
     "name": "stdout",
     "output_type": "stream",
     "text": [
      "data/orb/orb_bof_100.csv\n",
      "(31430, 99)\n",
      "(31430,)\n",
      "(7896, 99)\n",
      "(7896,)\n",
      "Train Accuracy: 0.752\n",
      "Test Accuracy: 0.169\n",
      "data/orb/orb_bof_500.csv\n",
      "(31430, 499)\n",
      "(31430,)\n",
      "(7896, 499)\n",
      "(7896,)\n",
      "Train Accuracy: 0.371\n",
      "Test Accuracy: 0.213\n",
      "data/orb/orb_bof_1000.csv\n",
      "(31430, 999)\n",
      "(31430,)\n",
      "(7896, 999)\n",
      "(7896,)\n",
      "Train Accuracy: 0.345\n",
      "Test Accuracy: 0.212\n",
      "data/orb/orb_pca_bof_100.csv\n",
      "(31400, 99)\n",
      "(31400,)\n",
      "(7890, 99)\n",
      "(7890,)\n",
      "Train Accuracy: 0.658\n",
      "Test Accuracy: 0.193\n",
      "data/orb/orb_pca_bof_500.csv\n",
      "(31400, 499)\n",
      "(31400,)\n",
      "(7890, 499)\n",
      "(7890,)\n",
      "Train Accuracy: 0.307\n",
      "Test Accuracy: 0.215\n",
      "data/orb/orb_pca_bof_1000.csv\n",
      "(31400, 999)\n",
      "(31400,)\n",
      "(7890, 999)\n",
      "(7890,)\n",
      "Train Accuracy: 0.294\n",
      "Test Accuracy: 0.213\n"
     ]
    }
   ],
   "source": [
    "orb_predictions = []\n",
    "orb_actuals = []\n",
    "for i in range(len(csv_list)):\n",
    "    pred, act = processSVM(csv_list[i], 2)\n",
    "    orb_predictions.append(pred)\n",
    "    orb_actuals.append(act)"
   ]
  },
  {
   "cell_type": "markdown",
   "id": "a8ad3ecb",
   "metadata": {},
   "source": [
    "## Evaluation"
   ]
  },
  {
   "cell_type": "markdown",
   "id": "5d2ecfa1",
   "metadata": {},
   "source": [
    "### Confusion matrix"
   ]
  },
  {
   "cell_type": "code",
   "execution_count": 40,
   "id": "faac4568",
   "metadata": {
    "scrolled": false
   },
   "outputs": [
    {
     "name": "stderr",
     "output_type": "stream",
     "text": [
      "C:\\Users\\CREATE\\AppData\\Local\\Temp\\ipykernel_9988\\4280984978.py:14: UserWarning: FixedFormatter should only be used together with FixedLocator\n",
      "  ax.set_xticklabels([''] + target_labels)\n",
      "C:\\Users\\CREATE\\AppData\\Local\\Temp\\ipykernel_9988\\4280984978.py:15: UserWarning: FixedFormatter should only be used together with FixedLocator\n",
      "  ax.set_yticklabels([''] + target_labels)\n"
     ]
    },
    {
     "data": {
      "image/png": "[encoded data removed]",
      "text/plain": [
       "<Figure size 576x360 with 1 Axes>"
      ]
     },
     "metadata": {
      "needs_background": "light"
     },
     "output_type": "display_data"
    }
   ],
   "source": [
    "# Show only the best one \n",
    "i = 4\n",
    "confmat = confusion_matrix(y_true=orb_actuals[i], y_pred=orb_predictions[i], labels=targets)\n",
    "show_confusion_matrix(confmat)"
   ]
  },
  {
   "cell_type": "markdown",
   "id": "e75f01eb",
   "metadata": {},
   "source": [
    "### Performance metrics & Classification reports"
   ]
  },
  {
   "cell_type": "code",
   "execution_count": 41,
   "id": "cbd9a6ef",
   "metadata": {
    "scrolled": false
   },
   "outputs": [
    {
     "name": "stdout",
     "output_type": "stream",
     "text": [
      "data/orb/orb_bof_100.csv\n",
      "Precision: 0.127\n",
      "Recall: 0.140\n",
      "F1: 0.114\n",
      "Accuracy: 0.169\n",
      "Classification reports\n",
      "              precision    recall  f1-score   support\n",
      "\n",
      "       angry       0.10      0.01      0.01       957\n",
      "     disgust       0.00      0.00      0.00       830\n",
      "        fear       0.13      0.09      0.11      1024\n",
      "       happy       0.23      0.35      0.28      1774\n",
      "         sad       0.18      0.05      0.08      1247\n",
      "    surprise       0.09      0.11      0.10       831\n",
      "     neutral       0.15      0.37      0.21      1233\n",
      "\n",
      "    accuracy                           0.17      7896\n",
      "   macro avg       0.13      0.14      0.11      7896\n",
      "weighted avg       0.14      0.17      0.14      7896\n",
      "\n",
      "data/orb/orb_bof_500.csv\n",
      "Precision: 0.131\n",
      "Recall: 0.144\n",
      "F1: 0.077\n",
      "Accuracy: 0.213\n",
      "Classification reports\n",
      "              precision    recall  f1-score   support\n",
      "\n",
      "       angry       0.00      0.00      0.00       957\n",
      "     disgust       0.13      0.07      0.09       830\n",
      "        fear       0.17      0.00      0.00      1024\n",
      "       happy       0.22      0.88      0.36      1774\n",
      "         sad       0.12      0.01      0.02      1247\n",
      "    surprise       0.07      0.01      0.02       831\n",
      "     neutral       0.21      0.03      0.05      1233\n",
      "\n",
      "    accuracy                           0.21      7896\n",
      "   macro avg       0.13      0.14      0.08      7896\n",
      "weighted avg       0.14      0.21      0.10      7896\n",
      "\n",
      "data/orb/orb_bof_1000.csv\n",
      "Precision: 0.137\n",
      "Recall: 0.141\n",
      "F1: 0.076\n",
      "Accuracy: 0.212\n",
      "Classification reports\n",
      "              precision    recall  f1-score   support\n",
      "\n",
      "       angry       0.09      0.01      0.01       957\n",
      "     disgust       0.09      0.03      0.05       830\n",
      "        fear       0.08      0.00      0.01      1024\n",
      "       happy       0.23      0.88      0.36      1774\n",
      "         sad       0.13      0.04      0.07      1247\n",
      "    surprise       0.17      0.00      0.00       831\n",
      "     neutral       0.17      0.02      0.03      1233\n",
      "\n",
      "    accuracy                           0.21      7896\n",
      "   macro avg       0.14      0.14      0.08      7896\n",
      "weighted avg       0.15      0.21      0.10      7896\n",
      "\n",
      "data/orb/orb_pca_bof_100.csv\n",
      "Precision: 0.123\n",
      "Recall: 0.148\n",
      "F1: 0.117\n",
      "Accuracy: 0.193\n",
      "Classification reports\n",
      "              precision    recall  f1-score   support\n",
      "\n",
      "       angry       0.14      0.15      0.15       957\n",
      "     disgust       0.00      0.00      0.00       830\n",
      "        fear       0.10      0.02      0.03      1023\n",
      "       happy       0.23      0.54      0.33      1773\n",
      "         sad       0.16      0.22      0.19      1245\n",
      "    surprise       0.07      0.01      0.02       831\n",
      "     neutral       0.14      0.10      0.11      1231\n",
      "\n",
      "    accuracy                           0.19      7890\n",
      "   macro avg       0.12      0.15      0.12      7890\n",
      "weighted avg       0.14      0.19      0.14      7890\n",
      "\n",
      "data/orb/orb_pca_bof_500.csv\n",
      "Precision: 0.136\n",
      "Recall: 0.144\n",
      "F1: 0.078\n",
      "Accuracy: 0.215\n",
      "Classification reports\n",
      "              precision    recall  f1-score   support\n",
      "\n",
      "       angry       0.10      0.01      0.01       957\n",
      "     disgust       0.13      0.03      0.05       830\n",
      "        fear       0.20      0.00      0.01      1023\n",
      "       happy       0.22      0.89      0.36      1773\n",
      "         sad       0.00      0.00      0.00      1245\n",
      "    surprise       0.13      0.02      0.04       831\n",
      "     neutral       0.17      0.05      0.07      1231\n",
      "\n",
      "    accuracy                           0.22      7890\n",
      "   macro avg       0.14      0.14      0.08      7890\n",
      "weighted avg       0.14      0.22      0.10      7890\n",
      "\n",
      "data/orb/orb_pca_bof_1000.csv\n",
      "Precision: 0.151\n",
      "Recall: 0.146\n",
      "F1: 0.079\n",
      "Accuracy: 0.213\n",
      "Classification reports\n",
      "              precision    recall  f1-score   support\n",
      "\n",
      "       angry       0.11      0.00      0.01       957\n",
      "     disgust       0.11      0.11      0.11       830\n",
      "        fear       0.08      0.00      0.01      1023\n",
      "       happy       0.23      0.86      0.36      1773\n",
      "         sad       0.17      0.03      0.05      1245\n",
      "    surprise       0.11      0.00      0.00       831\n",
      "     neutral       0.24      0.01      0.02      1231\n",
      "\n",
      "    accuracy                           0.21      7890\n",
      "   macro avg       0.15      0.15      0.08      7890\n",
      "weighted avg       0.16      0.21      0.10      7890\n",
      "\n"
     ]
    },
    {
     "name": "stderr",
     "output_type": "stream",
     "text": [
      "C:\\Users\\CREATE\\anaconda3\\lib\\site-packages\\sklearn\\metrics\\_classification.py:1318: UndefinedMetricWarning: Precision is ill-defined and being set to 0.0 in labels with no predicted samples. Use `zero_division` parameter to control this behavior.\n",
      "  _warn_prf(average, modifier, msg_start, len(result))\n",
      "C:\\Users\\CREATE\\anaconda3\\lib\\site-packages\\sklearn\\metrics\\_classification.py:1318: UndefinedMetricWarning: Precision and F-score are ill-defined and being set to 0.0 in labels with no predicted samples. Use `zero_division` parameter to control this behavior.\n",
      "  _warn_prf(average, modifier, msg_start, len(result))\n",
      "C:\\Users\\CREATE\\anaconda3\\lib\\site-packages\\sklearn\\metrics\\_classification.py:1318: UndefinedMetricWarning: Precision and F-score are ill-defined and being set to 0.0 in labels with no predicted samples. Use `zero_division` parameter to control this behavior.\n",
      "  _warn_prf(average, modifier, msg_start, len(result))\n",
      "C:\\Users\\CREATE\\anaconda3\\lib\\site-packages\\sklearn\\metrics\\_classification.py:1318: UndefinedMetricWarning: Precision and F-score are ill-defined and being set to 0.0 in labels with no predicted samples. Use `zero_division` parameter to control this behavior.\n",
      "  _warn_prf(average, modifier, msg_start, len(result))\n"
     ]
    }
   ],
   "source": [
    "showPerformance(orb_predictions, orb_actuals)"
   ]
  },
  {
   "cell_type": "markdown",
   "id": "561bc824",
   "metadata": {},
   "source": [
    "# SVM with BRISK"
   ]
  },
  {
   "cell_type": "code",
   "execution_count": 21,
   "id": "5e645b6b",
   "metadata": {},
   "outputs": [],
   "source": [
    "csv_list = ['data/brisk/brisk_bof_100.csv', 'data/brisk/brisk_bof_500.csv', 'data/brisk/brisk_bof_1000.csv', \n",
    "            'data/brisk/brisk_pca_bof_100.csv', 'data/brisk/brisk_pca_bof_500.csv', 'data/brisk/brisk_pca_bof_1000.csv']"
   ]
  },
  {
   "cell_type": "code",
   "execution_count": 22,
   "id": "e561c82d",
   "metadata": {},
   "outputs": [
    {
     "name": "stdout",
     "output_type": "stream",
     "text": [
      "data/brisk/brisk_bof_100.csv\n",
      "(30833, 99)\n",
      "(30833,)\n",
      "(7731, 99)\n",
      "(7731,)\n",
      "Train Accuracy: 0.412\n",
      "Test Accuracy: 0.213\n",
      "data/brisk/brisk_bof_500.csv\n",
      "(30833, 499)\n",
      "(30833,)\n",
      "(7731, 499)\n",
      "(7731,)\n",
      "Train Accuracy: 0.336\n",
      "Test Accuracy: 0.196\n",
      "data/brisk/brisk_bof_1000.csv\n",
      "(30833, 999)\n",
      "(30833,)\n",
      "(7731, 999)\n",
      "(7731,)\n",
      "Train Accuracy: 0.322\n",
      "Test Accuracy: 0.214\n",
      "data/brisk/brisk_pca_bof_100.csv\n",
      "(8004, 99)\n",
      "(8004,)\n",
      "(2160, 99)\n",
      "(2160,)\n",
      "Train Accuracy: 0.293\n",
      "Test Accuracy: 0.193\n",
      "data/brisk/brisk_pca_bof_500.csv\n",
      "(8004, 499)\n",
      "(8004,)\n",
      "(2160, 499)\n",
      "(2160,)\n",
      "Train Accuracy: 0.250\n",
      "Test Accuracy: 0.193\n",
      "data/brisk/brisk_pca_bof_1000.csv\n",
      "(8004, 999)\n",
      "(8004,)\n",
      "(2160, 999)\n",
      "(2160,)\n",
      "Train Accuracy: 0.213\n",
      "Test Accuracy: 0.192\n"
     ]
    }
   ],
   "source": [
    "brisk_predictions = []\n",
    "brisk_actuals = []\n",
    "for i in range(len(csv_list)):\n",
    "    pred, act = processSVM(csv_list[i], 2)\n",
    "    brisk_predictions.append(pred)\n",
    "    brisk_actuals.append(act)"
   ]
  },
  {
   "cell_type": "markdown",
   "id": "9a0217c2",
   "metadata": {},
   "source": [
    "## Evaluation"
   ]
  },
  {
   "cell_type": "markdown",
   "id": "74a4d36a",
   "metadata": {},
   "source": [
    "### Confusion matrix"
   ]
  },
  {
   "cell_type": "code",
   "execution_count": 23,
   "id": "df881917",
   "metadata": {
    "scrolled": false
   },
   "outputs": [
    {
     "name": "stderr",
     "output_type": "stream",
     "text": [
      "C:\\Users\\CREATE\\AppData\\Local\\Temp\\ipykernel_1804\\4280984978.py:14: UserWarning: FixedFormatter should only be used together with FixedLocator\n",
      "  ax.set_xticklabels([''] + target_labels)\n",
      "C:\\Users\\CREATE\\AppData\\Local\\Temp\\ipykernel_1804\\4280984978.py:15: UserWarning: FixedFormatter should only be used together with FixedLocator\n",
      "  ax.set_yticklabels([''] + target_labels)\n"
     ]
    },
    {
     "data": {
      "image/png": "[encoded data removed]",
      "text/plain": [
       "<Figure size 576x360 with 1 Axes>"
      ]
     },
     "metadata": {
      "needs_background": "light"
     },
     "output_type": "display_data"
    }
   ],
   "source": [
    "# Show only the best one \n",
    "i = 2\n",
    "confmat = confusion_matrix(y_true=brisk_actuals[i], y_pred=brisk_predictions[i], labels=targets)\n",
    "show_confusion_matrix(confmat)"
   ]
  },
  {
   "cell_type": "markdown",
   "id": "cb89523a",
   "metadata": {},
   "source": [
    "### Performance metrics & Classification reports"
   ]
  },
  {
   "cell_type": "code",
   "execution_count": 26,
   "id": "1a907998",
   "metadata": {
    "scrolled": false
   },
   "outputs": [
    {
     "name": "stdout",
     "output_type": "stream",
     "text": [
      "data/brisk/brisk_bof_100.csv\n",
      "Precision: 0.176\n",
      "Recall: 0.148\n",
      "F1: 0.102\n",
      "Accuracy: 0.213\n",
      "Classification reports\n",
      "              precision    recall  f1-score   support\n",
      "\n",
      "       angry       0.15      0.04      0.06       942\n",
      "     disgust       0.27      0.02      0.03       814\n",
      "        fear       0.14      0.02      0.04      1001\n",
      "       happy       0.23      0.80      0.35      1741\n",
      "         sad       0.16      0.08      0.10      1200\n",
      "    surprise       0.11      0.03      0.04       823\n",
      "     neutral       0.18      0.06      0.09      1210\n",
      "\n",
      "    accuracy                           0.21      7731\n",
      "   macro avg       0.18      0.15      0.10      7731\n",
      "weighted avg       0.18      0.21      0.13      7731\n",
      "\n",
      "data/brisk/brisk_bof_500.csv\n",
      "Precision: 0.133\n",
      "Recall: 0.139\n",
      "F1: 0.100\n",
      "Accuracy: 0.196\n",
      "Classification reports\n",
      "              precision    recall  f1-score   support\n",
      "\n",
      "       angry       0.14      0.03      0.04       942\n",
      "     disgust       0.10      0.05      0.07       814\n",
      "        fear       0.09      0.02      0.03      1001\n",
      "       happy       0.23      0.73      0.34      1741\n",
      "         sad       0.13      0.05      0.08      1200\n",
      "    surprise       0.11      0.04      0.06       823\n",
      "     neutral       0.14      0.06      0.08      1210\n",
      "\n",
      "    accuracy                           0.20      7731\n",
      "   macro avg       0.13      0.14      0.10      7731\n",
      "weighted avg       0.14      0.20      0.12      7731\n",
      "\n",
      "data/brisk/brisk_bof_1000.csv\n",
      "Precision: 0.147\n",
      "Recall: 0.143\n",
      "F1: 0.080\n",
      "Accuracy: 0.214\n",
      "Classification reports\n",
      "              precision    recall  f1-score   support\n",
      "\n",
      "       angry       0.19      0.02      0.04       942\n",
      "     disgust       0.08      0.02      0.03       814\n",
      "        fear       0.16      0.01      0.02      1001\n",
      "       happy       0.23      0.88      0.36      1741\n",
      "         sad       0.14      0.01      0.01      1200\n",
      "    surprise       0.11      0.03      0.04       823\n",
      "     neutral       0.13      0.03      0.05      1210\n",
      "\n",
      "    accuracy                           0.21      7731\n",
      "   macro avg       0.15      0.14      0.08      7731\n",
      "weighted avg       0.16      0.21      0.11      7731\n",
      "\n",
      "data/brisk/brisk_pca_bof_100.csv\n",
      "Precision: 0.158\n",
      "Recall: 0.156\n",
      "F1: 0.109\n",
      "Accuracy: 0.193\n",
      "Classification reports\n",
      "              precision    recall  f1-score   support\n",
      "\n",
      "       angry       0.19      0.07      0.10       307\n",
      "     disgust       0.24      0.08      0.12       237\n",
      "        fear       0.13      0.02      0.03       312\n",
      "       happy       0.20      0.79      0.31       412\n",
      "         sad       0.19      0.06      0.09       355\n",
      "    surprise       0.00      0.00      0.00       230\n",
      "     neutral       0.16      0.08      0.11       307\n",
      "\n",
      "    accuracy                           0.19      2160\n",
      "   macro avg       0.16      0.16      0.11      2160\n",
      "weighted avg       0.16      0.19      0.12      2160\n",
      "\n",
      "data/brisk/brisk_pca_bof_500.csv\n",
      "Precision: 0.130\n",
      "Recall: 0.147\n",
      "F1: 0.067\n",
      "Accuracy: 0.193\n",
      "Classification reports\n",
      "              precision    recall  f1-score   support\n",
      "\n",
      "       angry       0.15      0.01      0.02       307\n",
      "     disgust       0.05      0.00      0.01       237\n",
      "        fear       0.07      0.00      0.01       312\n",
      "       happy       0.19      0.95      0.32       412\n",
      "         sad       0.25      0.04      0.07       355\n",
      "    surprise       0.00      0.00      0.00       230\n",
      "     neutral       0.20      0.02      0.04       307\n",
      "\n",
      "    accuracy                           0.19      2160\n",
      "   macro avg       0.13      0.15      0.07      2160\n",
      "weighted avg       0.14      0.19      0.08      2160\n",
      "\n",
      "data/brisk/brisk_pca_bof_1000.csv\n",
      "Precision: 0.119\n",
      "Recall: 0.144\n",
      "F1: 0.051\n",
      "Accuracy: 0.192\n",
      "Classification reports\n",
      "              precision    recall  f1-score   support\n",
      "\n",
      "       angry       0.00      0.00      0.00       307\n",
      "     disgust       0.00      0.00      0.00       237\n",
      "        fear       0.00      0.00      0.00       312\n",
      "       happy       0.19      0.99      0.32       412\n",
      "         sad       0.14      0.01      0.03       355\n",
      "    surprise       0.00      0.00      0.00       230\n",
      "     neutral       0.50      0.00      0.01       307\n",
      "\n",
      "    accuracy                           0.19      2160\n",
      "   macro avg       0.12      0.14      0.05      2160\n",
      "weighted avg       0.13      0.19      0.07      2160\n",
      "\n"
     ]
    },
    {
     "name": "stderr",
     "output_type": "stream",
     "text": [
      "C:\\Users\\CREATE\\anaconda3\\lib\\site-packages\\sklearn\\metrics\\_classification.py:1318: UndefinedMetricWarning: Precision is ill-defined and being set to 0.0 in labels with no predicted samples. Use `zero_division` parameter to control this behavior.\n",
      "  _warn_prf(average, modifier, msg_start, len(result))\n",
      "C:\\Users\\CREATE\\anaconda3\\lib\\site-packages\\sklearn\\metrics\\_classification.py:1318: UndefinedMetricWarning: Precision and F-score are ill-defined and being set to 0.0 in labels with no predicted samples. Use `zero_division` parameter to control this behavior.\n",
      "  _warn_prf(average, modifier, msg_start, len(result))\n",
      "C:\\Users\\CREATE\\anaconda3\\lib\\site-packages\\sklearn\\metrics\\_classification.py:1318: UndefinedMetricWarning: Precision and F-score are ill-defined and being set to 0.0 in labels with no predicted samples. Use `zero_division` parameter to control this behavior.\n",
      "  _warn_prf(average, modifier, msg_start, len(result))\n",
      "C:\\Users\\CREATE\\anaconda3\\lib\\site-packages\\sklearn\\metrics\\_classification.py:1318: UndefinedMetricWarning: Precision and F-score are ill-defined and being set to 0.0 in labels with no predicted samples. Use `zero_division` parameter to control this behavior.\n",
      "  _warn_prf(average, modifier, msg_start, len(result))\n",
      "C:\\Users\\CREATE\\anaconda3\\lib\\site-packages\\sklearn\\metrics\\_classification.py:1318: UndefinedMetricWarning: Precision is ill-defined and being set to 0.0 in labels with no predicted samples. Use `zero_division` parameter to control this behavior.\n",
      "  _warn_prf(average, modifier, msg_start, len(result))\n",
      "C:\\Users\\CREATE\\anaconda3\\lib\\site-packages\\sklearn\\metrics\\_classification.py:1318: UndefinedMetricWarning: Precision and F-score are ill-defined and being set to 0.0 in labels with no predicted samples. Use `zero_division` parameter to control this behavior.\n",
      "  _warn_prf(average, modifier, msg_start, len(result))\n",
      "C:\\Users\\CREATE\\anaconda3\\lib\\site-packages\\sklearn\\metrics\\_classification.py:1318: UndefinedMetricWarning: Precision and F-score are ill-defined and being set to 0.0 in labels with no predicted samples. Use `zero_division` parameter to control this behavior.\n",
      "  _warn_prf(average, modifier, msg_start, len(result))\n",
      "C:\\Users\\CREATE\\anaconda3\\lib\\site-packages\\sklearn\\metrics\\_classification.py:1318: UndefinedMetricWarning: Precision and F-score are ill-defined and being set to 0.0 in labels with no predicted samples. Use `zero_division` parameter to control this behavior.\n",
      "  _warn_prf(average, modifier, msg_start, len(result))\n"
     ]
    }
   ],
   "source": [
    "showPerformance(brisk_predictions, brisk_actuals)"
   ]
  },
  {
   "cell_type": "markdown",
   "id": "ea7fff03",
   "metadata": {},
   "source": [
    "# SVM with AKAZE"
   ]
  },
  {
   "cell_type": "code",
   "execution_count": 27,
   "id": "b34b9ad9",
   "metadata": {},
   "outputs": [],
   "source": [
    "csv_list = ['data/akaze/akaze_bof_100.csv', 'data/akaze/akaze_bof_500.csv', 'data/akaze/akaze_bof_1000.csv', \n",
    "            'data/akaze/akaze_pca_bof_100.csv', 'data/akaze/akaze_pca_bof_500.csv', 'data/akaze/akaze_pca_bof_1000.csv']"
   ]
  },
  {
   "cell_type": "code",
   "execution_count": 28,
   "id": "a209e248",
   "metadata": {
    "scrolled": false
   },
   "outputs": [
    {
     "name": "stdout",
     "output_type": "stream",
     "text": [
      "data/akaze/akaze_bof_100.csv\n",
      "(31332, 99)\n",
      "(31332,)\n",
      "(7862, 99)\n",
      "(7862,)\n",
      "Train Accuracy: 0.635\n",
      "Test Accuracy: 0.191\n",
      "data/akaze/akaze_bof_500.csv\n",
      "(31332, 499)\n",
      "(31332,)\n",
      "(7862, 499)\n",
      "(7862,)\n",
      "Train Accuracy: 0.417\n",
      "Test Accuracy: 0.189\n",
      "data/akaze/akaze_bof_1000.csv\n",
      "(31332, 999)\n",
      "(31332,)\n",
      "(7862, 999)\n",
      "(7862,)\n",
      "Train Accuracy: 0.421\n",
      "Test Accuracy: 0.197\n",
      "data/akaze/akaze_pca_bof_100.csv\n",
      "(25314, 99)\n",
      "(25314,)\n",
      "(6606, 99)\n",
      "(6606,)\n",
      "Train Accuracy: 0.323\n",
      "Test Accuracy: 0.215\n",
      "data/akaze/akaze_pca_bof_500.csv\n",
      "(25314, 499)\n",
      "(25314,)\n",
      "(6606, 499)\n",
      "(6606,)\n",
      "Train Accuracy: 0.274\n",
      "Test Accuracy: 0.214\n",
      "data/akaze/akaze_pca_bof_1000.csv\n",
      "(25314, 999)\n",
      "(25314,)\n",
      "(6606, 999)\n",
      "(6606,)\n",
      "Train Accuracy: 0.263\n",
      "Test Accuracy: 0.218\n"
     ]
    }
   ],
   "source": [
    "akaze_predictions = []\n",
    "akaze_actuals = []\n",
    "for i in range(len(csv_list)):\n",
    "    pred, act = processSVM(csv_list[i], 2)\n",
    "    akaze_predictions.append(pred)\n",
    "    akaze_actuals.append(act)"
   ]
  },
  {
   "cell_type": "markdown",
   "id": "2b7cdd03",
   "metadata": {},
   "source": [
    "## Evaluation"
   ]
  },
  {
   "cell_type": "markdown",
   "id": "ffcb6c45",
   "metadata": {},
   "source": [
    "### Confusion matrix"
   ]
  },
  {
   "cell_type": "code",
   "execution_count": 29,
   "id": "c8a27542",
   "metadata": {
    "scrolled": false
   },
   "outputs": [
    {
     "name": "stderr",
     "output_type": "stream",
     "text": [
      "C:\\Users\\CREATE\\AppData\\Local\\Temp\\ipykernel_1804\\4280984978.py:14: UserWarning: FixedFormatter should only be used together with FixedLocator\n",
      "  ax.set_xticklabels([''] + target_labels)\n",
      "C:\\Users\\CREATE\\AppData\\Local\\Temp\\ipykernel_1804\\4280984978.py:15: UserWarning: FixedFormatter should only be used together with FixedLocator\n",
      "  ax.set_yticklabels([''] + target_labels)\n"
     ]
    },
    {
     "data": {
      "image/png": "[encoded data removed]",
      "text/plain": [
       "<Figure size 576x360 with 1 Axes>"
      ]
     },
     "metadata": {
      "needs_background": "light"
     },
     "output_type": "display_data"
    }
   ],
   "source": [
    "# Show only the best one \n",
    "i = 3\n",
    "confmat = confusion_matrix(y_true=akaze_actuals[i], y_pred=akaze_predictions[i], labels=targets)\n",
    "show_confusion_matrix(confmat)"
   ]
  },
  {
   "cell_type": "markdown",
   "id": "613e1d3a",
   "metadata": {},
   "source": [
    "### Performance metrics & Classification reports"
   ]
  },
  {
   "cell_type": "code",
   "execution_count": 30,
   "id": "12390aa6",
   "metadata": {
    "scrolled": false
   },
   "outputs": [
    {
     "name": "stdout",
     "output_type": "stream",
     "text": [
      "data/akaze/akaze_bof_100.csv\n",
      "Precision: 0.144\n",
      "Recall: 0.150\n",
      "F1: 0.130\n",
      "Accuracy: 0.191\n",
      "Classification reports\n",
      "              precision    recall  f1-score   support\n",
      "\n",
      "       angry       0.14      0.09      0.11       954\n",
      "     disgust       0.09      0.00      0.01       822\n",
      "        fear       0.14      0.06      0.09      1022\n",
      "       happy       0.23      0.47      0.31      1766\n",
      "         sad       0.19      0.27      0.22      1237\n",
      "    surprise       0.06      0.02      0.03       831\n",
      "     neutral       0.15      0.13      0.14      1230\n",
      "\n",
      "    accuracy                           0.19      7862\n",
      "   macro avg       0.14      0.15      0.13      7862\n",
      "weighted avg       0.16      0.19      0.16      7862\n",
      "\n",
      "data/akaze/akaze_bof_500.csv\n",
      "Precision: 0.154\n",
      "Recall: 0.150\n",
      "F1: 0.136\n",
      "Accuracy: 0.189\n",
      "Classification reports\n",
      "              precision    recall  f1-score   support\n",
      "\n",
      "       angry       0.13      0.06      0.09       954\n",
      "     disgust       0.14      0.05      0.07       822\n",
      "        fear       0.15      0.06      0.09      1022\n",
      "       happy       0.22      0.49      0.30      1766\n",
      "         sad       0.17      0.18      0.18      1237\n",
      "    surprise       0.09      0.03      0.05       831\n",
      "     neutral       0.18      0.17      0.17      1230\n",
      "\n",
      "    accuracy                           0.19      7862\n",
      "   macro avg       0.15      0.15      0.14      7862\n",
      "weighted avg       0.16      0.19      0.16      7862\n",
      "\n",
      "data/akaze/akaze_bof_1000.csv\n",
      "Precision: 0.152\n",
      "Recall: 0.148\n",
      "F1: 0.124\n",
      "Accuracy: 0.197\n",
      "Classification reports\n",
      "              precision    recall  f1-score   support\n",
      "\n",
      "       angry       0.16      0.07      0.10       954\n",
      "     disgust       0.11      0.04      0.06       822\n",
      "        fear       0.15      0.06      0.08      1022\n",
      "       happy       0.23      0.63      0.34      1766\n",
      "         sad       0.15      0.11      0.13      1237\n",
      "    surprise       0.10      0.03      0.05       831\n",
      "     neutral       0.15      0.10      0.12      1230\n",
      "\n",
      "    accuracy                           0.20      7862\n",
      "   macro avg       0.15      0.15      0.12      7862\n",
      "weighted avg       0.16      0.20      0.15      7862\n",
      "\n",
      "data/akaze/akaze_pca_bof_100.csv\n",
      "Precision: 0.156\n",
      "Recall: 0.147\n",
      "F1: 0.085\n",
      "Accuracy: 0.215\n",
      "Classification reports\n",
      "              precision    recall  f1-score   support\n",
      "\n",
      "       angry       0.15      0.03      0.05       816\n",
      "     disgust       0.11      0.01      0.03       703\n",
      "        fear       0.18      0.01      0.02       888\n",
      "       happy       0.22      0.89      0.36      1451\n",
      "         sad       0.15      0.02      0.03       984\n",
      "    surprise       0.10      0.01      0.02       732\n",
      "     neutral       0.17      0.05      0.08      1032\n",
      "\n",
      "    accuracy                           0.21      6606\n",
      "   macro avg       0.16      0.15      0.08      6606\n",
      "weighted avg       0.17      0.21      0.11      6606\n",
      "\n",
      "data/akaze/akaze_pca_bof_500.csv\n",
      "Precision: 0.147\n",
      "Recall: 0.145\n",
      "F1: 0.076\n",
      "Accuracy: 0.214\n",
      "Classification reports\n",
      "              precision    recall  f1-score   support\n",
      "\n",
      "       angry       0.18      0.02      0.04       816\n",
      "     disgust       0.09      0.02      0.03       703\n",
      "        fear       0.12      0.01      0.01       888\n",
      "       happy       0.22      0.91      0.36      1451\n",
      "         sad       0.21      0.02      0.03       984\n",
      "    surprise       0.07      0.01      0.02       732\n",
      "     neutral       0.14      0.03      0.05      1032\n",
      "\n",
      "    accuracy                           0.21      6606\n",
      "   macro avg       0.15      0.15      0.08      6606\n",
      "weighted avg       0.16      0.21      0.10      6606\n",
      "\n",
      "data/akaze/akaze_pca_bof_1000.csv\n",
      "Precision: 0.128\n",
      "Recall: 0.144\n",
      "F1: 0.064\n",
      "Accuracy: 0.218\n",
      "Classification reports\n",
      "              precision    recall  f1-score   support\n",
      "\n",
      "       angry       0.25      0.02      0.03       816\n",
      "     disgust       0.05      0.01      0.01       703\n",
      "        fear       0.00      0.00      0.00       888\n",
      "       happy       0.22      0.96      0.36      1451\n",
      "         sad       0.19      0.01      0.02       984\n",
      "    surprise       0.04      0.00      0.00       732\n",
      "     neutral       0.14      0.01      0.02      1032\n",
      "\n",
      "    accuracy                           0.22      6606\n",
      "   macro avg       0.13      0.14      0.06      6606\n",
      "weighted avg       0.14      0.22      0.09      6606\n",
      "\n"
     ]
    }
   ],
   "source": [
    "showPerformance(akaze_predictions, akaze_actuals)"
   ]
  },
  {
   "cell_type": "markdown",
   "id": "31977360",
   "metadata": {},
   "source": [
    "# SVM with HoG"
   ]
  },
  {
   "cell_type": "code",
   "execution_count": 4,
   "id": "3e4b8231",
   "metadata": {},
   "outputs": [],
   "source": [
    "csv_list = ['data/hog/hog_data2.csv', 'data/hog/hog_scaled2.csv']"
   ]
  },
  {
   "cell_type": "code",
   "execution_count": 6,
   "id": "a8ee5552",
   "metadata": {},
   "outputs": [
    {
     "name": "stdout",
     "output_type": "stream",
     "text": [
      "data/hog/hog_data2.csv\n",
      "(31432, 2304)\n",
      "(31432,)\n",
      "(7896, 2304)\n",
      "(7896,)\n",
      "Train Accuracy: 0.999\n",
      "Test Accuracy: 0.405\n",
      "data/hog/hog_scaled2.csv\n",
      "(31432, 2304)\n",
      "(31432,)\n",
      "(7896, 2304)\n",
      "(7896,)\n",
      "Train Accuracy: 0.500\n",
      "Test Accuracy: 0.458\n"
     ]
    }
   ],
   "source": [
    "hog_predictions = []\n",
    "hog_actuals = []\n",
    "for i in range(len(csv_list)):\n",
    "    pred, act = processSVM(csv_list[i], 3)\n",
    "    hog_predictions.append(pred)\n",
    "    hog_actuals.append(act)"
   ]
  },
  {
   "cell_type": "markdown",
   "id": "46216b1d",
   "metadata": {},
   "source": [
    "## Evaluation"
   ]
  },
  {
   "cell_type": "markdown",
   "id": "a2c43c87",
   "metadata": {},
   "source": [
    "### Confusion matrix"
   ]
  },
  {
   "cell_type": "code",
   "execution_count": 10,
   "id": "3270f9d8",
   "metadata": {
    "scrolled": false
   },
   "outputs": [
    {
     "name": "stderr",
     "output_type": "stream",
     "text": [
      "C:\\Users\\CREATE\\AppData\\Local\\Temp\\ipykernel_11412\\4280984978.py:14: UserWarning: FixedFormatter should only be used together with FixedLocator\n",
      "  ax.set_xticklabels([''] + target_labels)\n",
      "C:\\Users\\CREATE\\AppData\\Local\\Temp\\ipykernel_11412\\4280984978.py:15: UserWarning: FixedFormatter should only be used together with FixedLocator\n",
      "  ax.set_yticklabels([''] + target_labels)\n"
     ]
    },
    {
     "data": {
      "image/png": "[encoded data removed]",
      "text/plain": [
       "<Figure size 576x360 with 1 Axes>"
      ]
     },
     "metadata": {
      "needs_background": "light"
     },
     "output_type": "display_data"
    }
   ],
   "source": [
    "# Show only the best one \n",
    "i = 1\n",
    "confmat = confusion_matrix(y_true=hog_actuals[i], y_pred=hog_predictions[i], labels=targets)\n",
    "show_confusion_matrix(confmat)"
   ]
  },
  {
   "cell_type": "markdown",
   "id": "bb38e95b",
   "metadata": {},
   "source": [
    "### Performance metrics & Classification reports"
   ]
  },
  {
   "cell_type": "code",
   "execution_count": 11,
   "id": "3f7d0d2b",
   "metadata": {
    "scrolled": false
   },
   "outputs": [
    {
     "name": "stdout",
     "output_type": "stream",
     "text": [
      "data/hog/hog_data2.csv\n",
      "Precision: 0.816\n",
      "Recall: 0.374\n",
      "F1: 0.353\n",
      "Accuracy: 0.405\n",
      "Classification reports\n",
      "              precision    recall  f1-score   support\n",
      "\n",
      "       angry       0.90      0.08      0.15       957\n",
      "     disgust       1.00      1.00      1.00       830\n",
      "        fear       0.88      0.12      0.21      1024\n",
      "       happy       0.28      1.00      0.43      1774\n",
      "         sad       0.86      0.06      0.11      1247\n",
      "    surprise       0.98      0.29      0.45       831\n",
      "     neutral       0.82      0.06      0.12      1233\n",
      "\n",
      "    accuracy                           0.40      7896\n",
      "   macro avg       0.82      0.37      0.35      7896\n",
      "weighted avg       0.76      0.40      0.33      7896\n",
      "\n",
      "data/hog/hog_scaled2.csv\n",
      "Precision: 0.447\n",
      "Recall: 0.441\n",
      "F1: 0.435\n",
      "Accuracy: 0.458\n",
      "Classification reports\n",
      "              precision    recall  f1-score   support\n",
      "\n",
      "       angry       0.32      0.22      0.26       957\n",
      "     disgust       0.66      0.76      0.71       830\n",
      "        fear       0.34      0.19      0.24      1024\n",
      "       happy       0.51      0.72      0.60      1774\n",
      "         sad       0.32      0.32      0.32      1247\n",
      "    surprise       0.59      0.46      0.51       831\n",
      "     neutral       0.39      0.43      0.41      1233\n",
      "\n",
      "    accuracy                           0.46      7896\n",
      "   macro avg       0.45      0.44      0.44      7896\n",
      "weighted avg       0.44      0.46      0.44      7896\n",
      "\n"
     ]
    }
   ],
   "source": [
    "showPerformance(hog_predictions, hog_actuals)"
   ]
  },
  {
   "cell_type": "markdown",
   "id": "4f0f7796",
   "metadata": {},
   "source": [
    "# Benchmark"
   ]
  },
  {
   "cell_type": "markdown",
   "id": "72079987",
   "metadata": {},
   "source": [
    "## Find out best parameter for benchmark"
   ]
  },
  {
   "cell_type": "markdown",
   "id": "27a7a6cb",
   "metadata": {},
   "source": [
    "It is done in KNN notebook and most_frequent strategy seems the best."
   ]
  },
  {
   "cell_type": "markdown",
   "id": "2c5b0b57",
   "metadata": {},
   "source": [
    "## Check with Best PCA data"
   ]
  },
  {
   "cell_type": "code",
   "execution_count": 27,
   "id": "b144c7da",
   "metadata": {},
   "outputs": [
    {
     "data": {
      "text/html": [
       "<div>\n",
       "<style scoped>\n",
       "    .dataframe tbody tr th:only-of-type {\n",
       "        vertical-align: middle;\n",
       "    }\n",
       "\n",
       "    .dataframe tbody tr th {\n",
       "        vertical-align: top;\n",
       "    }\n",
       "\n",
       "    .dataframe thead th {\n",
       "        text-align: right;\n",
       "    }\n",
       "</style>\n",
       "<table border=\"1\" class=\"dataframe\">\n",
       "  <thead>\n",
       "    <tr style=\"text-align: right;\">\n",
       "      <th></th>\n",
       "      <th>usage</th>\n",
       "      <th>emotion</th>\n",
       "      <th>pca</th>\n",
       "    </tr>\n",
       "  </thead>\n",
       "  <tbody>\n",
       "    <tr>\n",
       "      <th>0</th>\n",
       "      <td>train</td>\n",
       "      <td>3</td>\n",
       "      <td>-0.7174040838712432 -0.7702660905290193 -0.513...</td>\n",
       "    </tr>\n",
       "    <tr>\n",
       "      <th>1</th>\n",
       "      <td>train</td>\n",
       "      <td>3</td>\n",
       "      <td>0.7212745110957715 0.8709909412648307 -0.05813...</td>\n",
       "    </tr>\n",
       "    <tr>\n",
       "      <th>2</th>\n",
       "      <td>train</td>\n",
       "      <td>3</td>\n",
       "      <td>-1.1415807452074815 -0.9530090924132242 0.6111...</td>\n",
       "    </tr>\n",
       "    <tr>\n",
       "      <th>3</th>\n",
       "      <td>train</td>\n",
       "      <td>3</td>\n",
       "      <td>-1.2521535857006059 0.13698174383357514 0.5316...</td>\n",
       "    </tr>\n",
       "    <tr>\n",
       "      <th>4</th>\n",
       "      <td>train</td>\n",
       "      <td>3</td>\n",
       "      <td>0.294048049351381 0.832202280005905 0.10490519...</td>\n",
       "    </tr>\n",
       "  </tbody>\n",
       "</table>\n",
       "</div>"
      ],
      "text/plain": [
       "   usage  emotion                                                pca\n",
       "0  train        3  -0.7174040838712432 -0.7702660905290193 -0.513...\n",
       "1  train        3  0.7212745110957715 0.8709909412648307 -0.05813...\n",
       "2  train        3  -1.1415807452074815 -0.9530090924132242 0.6111...\n",
       "3  train        3  -1.2521535857006059 0.13698174383357514 0.5316...\n",
       "4  train        3  0.294048049351381 0.832202280005905 0.10490519..."
      ]
     },
     "execution_count": 27,
     "metadata": {},
     "output_type": "execute_result"
    }
   ],
   "source": [
    "df = pd.read_csv('data/pca/fer_pca_std.csv')\n",
    "df.head()"
   ]
  },
  {
   "cell_type": "code",
   "execution_count": 28,
   "id": "6b84f930",
   "metadata": {},
   "outputs": [],
   "source": [
    "df_train = df[df['usage']=='train']\n",
    "df_test = df[df['usage']=='test']\n",
    "train_data, train_scaled = load_data(df_train, 1)\n",
    "train_target = list(df_train.emotion)\n",
    "test_data, test_scaled = load_data(df_test, 1)\n",
    "test_target = list(df_test.emotion)"
   ]
  },
  {
   "cell_type": "code",
   "execution_count": 29,
   "id": "04f89e13",
   "metadata": {},
   "outputs": [],
   "source": [
    "X_train = np.array(train_data)\n",
    "y_train = np.array(train_target)\n",
    "X_test = np.array(test_data)\n",
    "y_test = np.array(test_target)"
   ]
  },
  {
   "cell_type": "code",
   "execution_count": 30,
   "id": "90b08ffd",
   "metadata": {},
   "outputs": [
    {
     "data": {
      "text/plain": [
       "0.2295113260371596"
      ]
     },
     "execution_count": 30,
     "metadata": {},
     "output_type": "execute_result"
    }
   ],
   "source": [
    "dummy = DummyClassifier(strategy='most_frequent')\n",
    "dummy.fit(X_train, y_train)\n",
    "dummy.score(X_train, y_train)"
   ]
  },
  {
   "cell_type": "code",
   "execution_count": 31,
   "id": "b6b6101b",
   "metadata": {
    "scrolled": false
   },
   "outputs": [
    {
     "data": {
      "text/plain": [
       "0.2246707193515704"
      ]
     },
     "execution_count": 31,
     "metadata": {},
     "output_type": "execute_result"
    }
   ],
   "source": [
    "dummy.score(X_test, y_test)"
   ]
  },
  {
   "cell_type": "markdown",
   "id": "e8a5ab79",
   "metadata": {},
   "source": [
    "## Check with Best LDA data"
   ]
  },
  {
   "cell_type": "code",
   "execution_count": 32,
   "id": "00f36ca2",
   "metadata": {},
   "outputs": [
    {
     "data": {
      "text/html": [
       "<div>\n",
       "<style scoped>\n",
       "    .dataframe tbody tr th:only-of-type {\n",
       "        vertical-align: middle;\n",
       "    }\n",
       "\n",
       "    .dataframe tbody tr th {\n",
       "        vertical-align: top;\n",
       "    }\n",
       "\n",
       "    .dataframe thead th {\n",
       "        text-align: right;\n",
       "    }\n",
       "</style>\n",
       "<table border=\"1\" class=\"dataframe\">\n",
       "  <thead>\n",
       "    <tr style=\"text-align: right;\">\n",
       "      <th></th>\n",
       "      <th>usage</th>\n",
       "      <th>emotion</th>\n",
       "      <th>lda</th>\n",
       "    </tr>\n",
       "  </thead>\n",
       "  <tbody>\n",
       "    <tr>\n",
       "      <th>0</th>\n",
       "      <td>train</td>\n",
       "      <td>3</td>\n",
       "      <td>0.7152285057766292 -0.31546082598153313 -1.197...</td>\n",
       "    </tr>\n",
       "    <tr>\n",
       "      <th>1</th>\n",
       "      <td>train</td>\n",
       "      <td>3</td>\n",
       "      <td>0.3994195348114538 0.08081985090189124 0.14165...</td>\n",
       "    </tr>\n",
       "    <tr>\n",
       "      <th>2</th>\n",
       "      <td>train</td>\n",
       "      <td>3</td>\n",
       "      <td>-0.3665155978973077 -1.178830004566658 0.08523...</td>\n",
       "    </tr>\n",
       "    <tr>\n",
       "      <th>3</th>\n",
       "      <td>train</td>\n",
       "      <td>3</td>\n",
       "      <td>-0.10176839734754776 -0.3560634180815157 -1.42...</td>\n",
       "    </tr>\n",
       "    <tr>\n",
       "      <th>4</th>\n",
       "      <td>train</td>\n",
       "      <td>3</td>\n",
       "      <td>0.049854946862418495 -0.9834076711949291 -0.75...</td>\n",
       "    </tr>\n",
       "  </tbody>\n",
       "</table>\n",
       "</div>"
      ],
      "text/plain": [
       "   usage  emotion                                                lda\n",
       "0  train        3  0.7152285057766292 -0.31546082598153313 -1.197...\n",
       "1  train        3  0.3994195348114538 0.08081985090189124 0.14165...\n",
       "2  train        3  -0.3665155978973077 -1.178830004566658 0.08523...\n",
       "3  train        3  -0.10176839734754776 -0.3560634180815157 -1.42...\n",
       "4  train        3  0.049854946862418495 -0.9834076711949291 -0.75..."
      ]
     },
     "execution_count": 32,
     "metadata": {},
     "output_type": "execute_result"
    }
   ],
   "source": [
    "df = pd.read_csv('data/lda/fer_lda.csv')\n",
    "df.head()"
   ]
  },
  {
   "cell_type": "code",
   "execution_count": 34,
   "id": "b06db687",
   "metadata": {},
   "outputs": [],
   "source": [
    "df_train = df[df['usage']=='train']\n",
    "df_test = df[df['usage']=='test']\n",
    "train_data, train_scaled = load_data(df_train, 4)\n",
    "train_target = list(df_train.emotion)\n",
    "test_data, test_scaled = load_data(df_test, 4)\n",
    "test_target = list(df_test.emotion)"
   ]
  },
  {
   "cell_type": "code",
   "execution_count": 35,
   "id": "b2de3de4",
   "metadata": {},
   "outputs": [],
   "source": [
    "X_train = np.array(train_data)\n",
    "y_train = np.array(train_target)\n",
    "X_test = np.array(test_data)\n",
    "y_test = np.array(test_target)"
   ]
  },
  {
   "cell_type": "code",
   "execution_count": 36,
   "id": "c7558388",
   "metadata": {},
   "outputs": [
    {
     "data": {
      "text/plain": [
       "0.2295113260371596"
      ]
     },
     "execution_count": 36,
     "metadata": {},
     "output_type": "execute_result"
    }
   ],
   "source": [
    "dummy = DummyClassifier(strategy='most_frequent')\n",
    "dummy.fit(X_train, y_train)\n",
    "dummy.score(X_train, y_train)"
   ]
  },
  {
   "cell_type": "code",
   "execution_count": 38,
   "id": "bf3c2547",
   "metadata": {
    "scrolled": true
   },
   "outputs": [
    {
     "data": {
      "text/plain": [
       "0.2246707193515704"
      ]
     },
     "execution_count": 38,
     "metadata": {},
     "output_type": "execute_result"
    }
   ],
   "source": [
    "dummy.score(X_test, y_test)"
   ]
  },
  {
   "cell_type": "markdown",
   "id": "19bfcb26",
   "metadata": {},
   "source": [
    "## Check with Best BoF data"
   ]
  },
  {
   "cell_type": "code",
   "execution_count": 41,
   "id": "9dece766",
   "metadata": {},
   "outputs": [
    {
     "data": {
      "text/html": [
       "<div>\n",
       "<style scoped>\n",
       "    .dataframe tbody tr th:only-of-type {\n",
       "        vertical-align: middle;\n",
       "    }\n",
       "\n",
       "    .dataframe tbody tr th {\n",
       "        vertical-align: top;\n",
       "    }\n",
       "\n",
       "    .dataframe thead th {\n",
       "        text-align: right;\n",
       "    }\n",
       "</style>\n",
       "<table border=\"1\" class=\"dataframe\">\n",
       "  <thead>\n",
       "    <tr style=\"text-align: right;\">\n",
       "      <th></th>\n",
       "      <th>usage</th>\n",
       "      <th>emotion</th>\n",
       "      <th>histogram</th>\n",
       "    </tr>\n",
       "  </thead>\n",
       "  <tbody>\n",
       "    <tr>\n",
       "      <th>0</th>\n",
       "      <td>train</td>\n",
       "      <td>3</td>\n",
       "      <td>0 0 0 0 0 0 0 0 0 0 0 0 0 0 0 0 0 0 0 0 0 0 0 ...</td>\n",
       "    </tr>\n",
       "    <tr>\n",
       "      <th>1</th>\n",
       "      <td>train</td>\n",
       "      <td>3</td>\n",
       "      <td>0 0 0 0 0 0 0 0 0 0 0 0 0 0 0 0 0 0 0 0 0 0 0 ...</td>\n",
       "    </tr>\n",
       "    <tr>\n",
       "      <th>2</th>\n",
       "      <td>train</td>\n",
       "      <td>3</td>\n",
       "      <td>0 0 0 0 0 0 0 0 0 0 0 0 0 0 0 0 0 0 0 0 0 0 0 ...</td>\n",
       "    </tr>\n",
       "    <tr>\n",
       "      <th>3</th>\n",
       "      <td>train</td>\n",
       "      <td>3</td>\n",
       "      <td>0 0 0 0 0 0 0 0 0 0 0 0 0 0 0 0 0 0 0 0 0 0 0 ...</td>\n",
       "    </tr>\n",
       "    <tr>\n",
       "      <th>4</th>\n",
       "      <td>train</td>\n",
       "      <td>3</td>\n",
       "      <td>0 0 0 0 0 0 0 0 0 0 0 0 0 0 0 0 0 0 0 0 0 0 0 ...</td>\n",
       "    </tr>\n",
       "  </tbody>\n",
       "</table>\n",
       "</div>"
      ],
      "text/plain": [
       "   usage  emotion                                          histogram\n",
       "0  train        3  0 0 0 0 0 0 0 0 0 0 0 0 0 0 0 0 0 0 0 0 0 0 0 ...\n",
       "1  train        3  0 0 0 0 0 0 0 0 0 0 0 0 0 0 0 0 0 0 0 0 0 0 0 ...\n",
       "2  train        3  0 0 0 0 0 0 0 0 0 0 0 0 0 0 0 0 0 0 0 0 0 0 0 ...\n",
       "3  train        3  0 0 0 0 0 0 0 0 0 0 0 0 0 0 0 0 0 0 0 0 0 0 0 ...\n",
       "4  train        3  0 0 0 0 0 0 0 0 0 0 0 0 0 0 0 0 0 0 0 0 0 0 0 ..."
      ]
     },
     "execution_count": 41,
     "metadata": {},
     "output_type": "execute_result"
    }
   ],
   "source": [
    "df = pd.read_csv('data/akaze/akaze_pca_bof_1000.csv')\n",
    "df.head()"
   ]
  },
  {
   "cell_type": "code",
   "execution_count": 43,
   "id": "656e339e",
   "metadata": {},
   "outputs": [],
   "source": [
    "df_train = df[df['usage']=='train']\n",
    "df_test = df[df['usage']=='test']\n",
    "train_data, train_scaled = load_data(df_train, 2)\n",
    "train_target = list(df_train.emotion)\n",
    "test_data, test_scaled = load_data(df_test, 2)\n",
    "test_target = list(df_test.emotion)"
   ]
  },
  {
   "cell_type": "code",
   "execution_count": 44,
   "id": "cd4c4f86",
   "metadata": {},
   "outputs": [],
   "source": [
    "X_train = np.array(train_data)\n",
    "y_train = np.array(train_target)\n",
    "X_test = np.array(test_data)\n",
    "y_test = np.array(test_target)"
   ]
  },
  {
   "cell_type": "code",
   "execution_count": 45,
   "id": "b579063d",
   "metadata": {},
   "outputs": [
    {
     "data": {
      "text/plain": [
       "0.22220905427826498"
      ]
     },
     "execution_count": 45,
     "metadata": {},
     "output_type": "execute_result"
    }
   ],
   "source": [
    "dummy = DummyClassifier(strategy='most_frequent')\n",
    "dummy.fit(X_train, y_train)\n",
    "dummy.score(X_train, y_train)"
   ]
  },
  {
   "cell_type": "code",
   "execution_count": 46,
   "id": "22f6cfd5",
   "metadata": {},
   "outputs": [
    {
     "data": {
      "text/plain": [
       "0.21964880411746895"
      ]
     },
     "execution_count": 46,
     "metadata": {},
     "output_type": "execute_result"
    }
   ],
   "source": [
    "dummy.score(X_test, y_test)"
   ]
  },
  {
   "cell_type": "markdown",
   "id": "e6ed4cfc",
   "metadata": {},
   "source": [
    "## Check with Best HoG data"
   ]
  },
  {
   "cell_type": "code",
   "execution_count": 47,
   "id": "d6fae16d",
   "metadata": {},
   "outputs": [
    {
     "data": {
      "text/html": [
       "<div>\n",
       "<style scoped>\n",
       "    .dataframe tbody tr th:only-of-type {\n",
       "        vertical-align: middle;\n",
       "    }\n",
       "\n",
       "    .dataframe tbody tr th {\n",
       "        vertical-align: top;\n",
       "    }\n",
       "\n",
       "    .dataframe thead th {\n",
       "        text-align: right;\n",
       "    }\n",
       "</style>\n",
       "<table border=\"1\" class=\"dataframe\">\n",
       "  <thead>\n",
       "    <tr style=\"text-align: right;\">\n",
       "      <th></th>\n",
       "      <th>usage</th>\n",
       "      <th>emotion</th>\n",
       "      <th>hog</th>\n",
       "    </tr>\n",
       "  </thead>\n",
       "  <tbody>\n",
       "    <tr>\n",
       "      <th>0</th>\n",
       "      <td>train</td>\n",
       "      <td>3</td>\n",
       "      <td>0 0 0 0 0 0 0 0 0 0 0 0 0 0 0 0 0 0 0 0 0 0 0 ...</td>\n",
       "    </tr>\n",
       "    <tr>\n",
       "      <th>1</th>\n",
       "      <td>train</td>\n",
       "      <td>3</td>\n",
       "      <td>0 0 0 0 0 0 0 0 0 0 0 0 0 0 0 0 0 0 0 0 0 0 0 ...</td>\n",
       "    </tr>\n",
       "    <tr>\n",
       "      <th>2</th>\n",
       "      <td>train</td>\n",
       "      <td>3</td>\n",
       "      <td>0 0 0 0 0 0 0 0 0 0 0 0 0 0 0 0 0 0 0 0 0 0 0 ...</td>\n",
       "    </tr>\n",
       "    <tr>\n",
       "      <th>3</th>\n",
       "      <td>train</td>\n",
       "      <td>3</td>\n",
       "      <td>0 0 0 0 0 0 0 0 0 0 0 0 0 0 0 0 0 0 0 0 0 0 0 ...</td>\n",
       "    </tr>\n",
       "    <tr>\n",
       "      <th>4</th>\n",
       "      <td>train</td>\n",
       "      <td>3</td>\n",
       "      <td>0 0 0 0 0 0 0 0 0 0 0 0 0 0 0 0 0 0 0 0 0 0 0 ...</td>\n",
       "    </tr>\n",
       "  </tbody>\n",
       "</table>\n",
       "</div>"
      ],
      "text/plain": [
       "   usage  emotion                                                hog\n",
       "0  train        3  0 0 0 0 0 0 0 0 0 0 0 0 0 0 0 0 0 0 0 0 0 0 0 ...\n",
       "1  train        3  0 0 0 0 0 0 0 0 0 0 0 0 0 0 0 0 0 0 0 0 0 0 0 ...\n",
       "2  train        3  0 0 0 0 0 0 0 0 0 0 0 0 0 0 0 0 0 0 0 0 0 0 0 ...\n",
       "3  train        3  0 0 0 0 0 0 0 0 0 0 0 0 0 0 0 0 0 0 0 0 0 0 0 ...\n",
       "4  train        3  0 0 0 0 0 0 0 0 0 0 0 0 0 0 0 0 0 0 0 0 0 0 0 ..."
      ]
     },
     "execution_count": 47,
     "metadata": {},
     "output_type": "execute_result"
    }
   ],
   "source": [
    "df = pd.read_csv('data/hog/hog_data.csv')\n",
    "df.head()"
   ]
  },
  {
   "cell_type": "code",
   "execution_count": 48,
   "id": "c5760ee0",
   "metadata": {},
   "outputs": [],
   "source": [
    "df_train = df[df['usage']=='train']\n",
    "df_test = df[df['usage']=='test']\n",
    "train_data, train_scaled = load_data(df_train, 3)\n",
    "train_target = list(df_train.emotion)\n",
    "test_data, test_scaled = load_data(df_test, 3)\n",
    "test_target = list(df_test.emotion)"
   ]
  },
  {
   "cell_type": "code",
   "execution_count": 49,
   "id": "b7f2afc7",
   "metadata": {},
   "outputs": [],
   "source": [
    "X_train = np.array(train_data)\n",
    "y_train = np.array(train_target)\n",
    "X_test = np.array(test_data)\n",
    "y_test = np.array(test_target)"
   ]
  },
  {
   "cell_type": "code",
   "execution_count": 50,
   "id": "3babd95c",
   "metadata": {},
   "outputs": [
    {
     "data": {
      "text/plain": [
       "0.2295113260371596"
      ]
     },
     "execution_count": 50,
     "metadata": {},
     "output_type": "execute_result"
    }
   ],
   "source": [
    "dummy = DummyClassifier(strategy='most_frequent')\n",
    "dummy.fit(X_train, y_train)\n",
    "dummy.score(X_train, y_train)"
   ]
  },
  {
   "cell_type": "code",
   "execution_count": 51,
   "id": "4312785f",
   "metadata": {},
   "outputs": [
    {
     "data": {
      "text/plain": [
       "0.2246707193515704"
      ]
     },
     "execution_count": 51,
     "metadata": {},
     "output_type": "execute_result"
    }
   ],
   "source": [
    "dummy.score(X_test, y_test)"
   ]
  },
  {
   "cell_type": "markdown",
   "id": "b41d505b",
   "metadata": {},
   "source": [
    "# Get better result"
   ]
  },
  {
   "cell_type": "markdown",
   "id": "5f03c8a8",
   "metadata": {},
   "source": [
    "## Hyper parameter tuning"
   ]
  },
  {
   "cell_type": "markdown",
   "id": "349a99f9",
   "metadata": {},
   "source": [
    "Use PCA Standardization data"
   ]
  },
  {
   "cell_type": "code",
   "execution_count": 39,
   "id": "64d7aa6f",
   "metadata": {},
   "outputs": [
    {
     "data": {
      "text/html": [
       "<div>\n",
       "<style scoped>\n",
       "    .dataframe tbody tr th:only-of-type {\n",
       "        vertical-align: middle;\n",
       "    }\n",
       "\n",
       "    .dataframe tbody tr th {\n",
       "        vertical-align: top;\n",
       "    }\n",
       "\n",
       "    .dataframe thead th {\n",
       "        text-align: right;\n",
       "    }\n",
       "</style>\n",
       "<table border=\"1\" class=\"dataframe\">\n",
       "  <thead>\n",
       "    <tr style=\"text-align: right;\">\n",
       "      <th></th>\n",
       "      <th>usage</th>\n",
       "      <th>emotion</th>\n",
       "      <th>pca</th>\n",
       "    </tr>\n",
       "  </thead>\n",
       "  <tbody>\n",
       "    <tr>\n",
       "      <th>0</th>\n",
       "      <td>train</td>\n",
       "      <td>3</td>\n",
       "      <td>-0.7174040838712432 -0.7702660905290193 -0.513...</td>\n",
       "    </tr>\n",
       "    <tr>\n",
       "      <th>1</th>\n",
       "      <td>train</td>\n",
       "      <td>3</td>\n",
       "      <td>0.7212745110957715 0.8709909412648307 -0.05813...</td>\n",
       "    </tr>\n",
       "    <tr>\n",
       "      <th>2</th>\n",
       "      <td>train</td>\n",
       "      <td>3</td>\n",
       "      <td>-1.1415807452074815 -0.9530090924132242 0.6111...</td>\n",
       "    </tr>\n",
       "    <tr>\n",
       "      <th>3</th>\n",
       "      <td>train</td>\n",
       "      <td>3</td>\n",
       "      <td>-1.2521535857006059 0.13698174383357514 0.5316...</td>\n",
       "    </tr>\n",
       "    <tr>\n",
       "      <th>4</th>\n",
       "      <td>train</td>\n",
       "      <td>3</td>\n",
       "      <td>0.294048049351381 0.832202280005905 0.10490519...</td>\n",
       "    </tr>\n",
       "  </tbody>\n",
       "</table>\n",
       "</div>"
      ],
      "text/plain": [
       "   usage  emotion                                                pca\n",
       "0  train        3  -0.7174040838712432 -0.7702660905290193 -0.513...\n",
       "1  train        3  0.7212745110957715 0.8709909412648307 -0.05813...\n",
       "2  train        3  -1.1415807452074815 -0.9530090924132242 0.6111...\n",
       "3  train        3  -1.2521535857006059 0.13698174383357514 0.5316...\n",
       "4  train        3  0.294048049351381 0.832202280005905 0.10490519..."
      ]
     },
     "execution_count": 39,
     "metadata": {},
     "output_type": "execute_result"
    }
   ],
   "source": [
    "df = pd.read_csv('data/pca/fer_pca_std.csv')\n",
    "df.head()"
   ]
  },
  {
   "cell_type": "code",
   "execution_count": 40,
   "id": "7476f193",
   "metadata": {},
   "outputs": [],
   "source": [
    "df_train = df[df['usage']=='train']\n",
    "df_test = df[df['usage']=='test']\n",
    "train_data, train_scaled = load_data(df_train, 1)\n",
    "train_target = list(df_train.emotion)\n",
    "test_data, test_scaled = load_data(df_test, 1)\n",
    "test_target = list(df_test.emotion)"
   ]
  },
  {
   "cell_type": "code",
   "execution_count": 41,
   "id": "b4557060",
   "metadata": {},
   "outputs": [],
   "source": [
    "X_train = np.array(train_data)\n",
    "y_train = np.array(train_target)\n",
    "X_test = np.array(test_data)\n",
    "y_test = np.array(test_target)"
   ]
  },
  {
   "cell_type": "code",
   "execution_count": null,
   "id": "7f7a712b",
   "metadata": {},
   "outputs": [],
   "source": [
    "param_gamma = ['auto', 'scale']\n",
    "param_c = [0.1, 1, 3, 10, 100]\n",
    "param_grid = [{'C': param_c,\n",
    "               'kernel': ['linear']},\n",
    "              {'C': param_c,\n",
    "               'gamma': param_gamma, \n",
    "               'kernel': ['rbf']},\n",
    "              {'C': param_c,\n",
    "               'gamma': param_gamma,\n",
    "               'kernel': ['poly']}]\n",
    "\n",
    "svm = SVC(random_state=1, decision_function_shape='ovo')\n",
    "\n",
    "gs = GridSearchCV(estimator=svm, \n",
    "                  param_grid=param_grid, \n",
    "                  scoring='accuracy', \n",
    "                  refit=True,\n",
    "                  cv=10,\n",
    "                  n_jobs=-1)\n",
    "clf = gs.fit(X_train, y_train)"
   ]
  },
  {
   "cell_type": "code",
   "execution_count": null,
   "id": "10da44cf",
   "metadata": {},
   "outputs": [],
   "source": [
    "print(clf.best_score_)\n",
    "print(clf.best_params_)\n",
    "result = clf.best_estimator_\n",
    "print('Test accuracy: %.3f' % result.score(X_train, y_train))\n",
    "print('Test accuracy: %.3f' % result.score(X_test, y_test))"
   ]
  },
  {
   "cell_type": "markdown",
   "id": "466f34ee",
   "metadata": {},
   "source": [
    "## K-fold cross-validation"
   ]
  },
  {
   "cell_type": "code",
   "execution_count": null,
   "id": "04fcca09",
   "metadata": {},
   "outputs": [],
   "source": [
    "svm = SVC(C=5, random_state=1, kernel='rbf', gamma='auto', decision_function_shape='ovo')\n",
    "scores = cross_val_score(estimator=svm,\n",
    "                         X=X_train,\n",
    "                         y=y_train,\n",
    "                         cv=10,\n",
    "                         n_jobs=1)\n",
    "print('CV accuracy scores: %s' % scores)\n",
    "print('CV accuracy: %.3f +/- %.3f' % (np.mean(scores), np.std(scores)))"
   ]
  },
  {
   "cell_type": "markdown",
   "id": "669ecc28",
   "metadata": {},
   "source": [
    "# Visualizing learning curves and validation curves"
   ]
  },
  {
   "cell_type": "code",
   "execution_count": null,
   "id": "08677967",
   "metadata": {},
   "outputs": [],
   "source": [
    "svm = SVC(C=5, random_state=1, kernel='rbf', gamma='auto', decision_function_shape='ovo')\n",
    "\n",
    "train_sizes, train_scores, test_scores =\\\n",
    "                learning_curve(estimator=svm,\n",
    "                               X=X_train,\n",
    "                               y=y_train,\n",
    "                               train_sizes=np.linspace(0.1, 1.0, 10),\n",
    "                               cv=10,\n",
    "                               n_jobs=1)\n",
    "\n",
    "train_mean = np.mean(train_scores, axis=1)\n",
    "train_std = np.std(train_scores, axis=1)\n",
    "test_mean = np.mean(test_scores, axis=1)\n",
    "test_std = np.std(test_scores, axis=1)\n",
    "\n",
    "plt.plot(train_sizes, train_mean,\n",
    "         color='blue', marker='o',\n",
    "         markersize=5, label='Training accuracy')\n",
    "\n",
    "plt.fill_between(train_sizes,\n",
    "                 train_mean + train_std,\n",
    "                 train_mean - train_std,\n",
    "                 alpha=0.15, color='blue')\n",
    "\n",
    "plt.plot(train_sizes, test_mean,\n",
    "         color='green', linestyle='--',\n",
    "         marker='s', markersize=5,\n",
    "         label='Validation accuracy')\n",
    "\n",
    "plt.fill_between(train_sizes,\n",
    "                 test_mean + test_std,\n",
    "                 test_mean - test_std,\n",
    "                 alpha=0.15, color='green')\n",
    "\n",
    "plt.grid()\n",
    "plt.xlabel('Number of training examples')\n",
    "plt.ylabel('Accuracy')\n",
    "plt.legend(loc='lower right')\n",
    "plt.tight_layout()\n",
    "plt.show()"
   ]
  },
  {
   "cell_type": "code",
   "execution_count": 42,
   "id": "7e5109f0",
   "metadata": {},
   "outputs": [
    {
     "data": {
      "image/png": "[encoded data removed]",
      "text/plain": [
       "<Figure size 432x288 with 1 Axes>"
      ]
     },
     "metadata": {
      "needs_background": "light"
     },
     "output_type": "display_data"
    }
   ],
   "source": [
    "svm = SVC(random_state=1, kernel='rbf', gamma='auto', decision_function_shape='ovo')\n",
    "param_range = [10]\n",
    "\n",
    "train_scores, test_scores = validation_curve(\n",
    "                estimator=svm, \n",
    "                X=X_train, \n",
    "                y=y_train, \n",
    "                param_name='C', \n",
    "                param_range=param_range,\n",
    "                cv=10)\n",
    "\n",
    "train_mean = np.mean(train_scores, axis=1)\n",
    "train_std = np.std(train_scores, axis=1)\n",
    "test_mean = np.mean(test_scores, axis=1)\n",
    "test_std = np.std(test_scores, axis=1)\n",
    "\n",
    "plt.plot(param_range, train_mean, \n",
    "         color='blue', marker='o', \n",
    "         markersize=5, label='Training accuracy')\n",
    "\n",
    "plt.fill_between(param_range, train_mean + train_std,\n",
    "                 train_mean - train_std, alpha=0.15,\n",
    "                 color='blue')\n",
    "\n",
    "plt.plot(param_range, test_mean, \n",
    "         color='green', linestyle='--', \n",
    "         marker='s', markersize=5, \n",
    "         label='Validation accuracy')\n",
    "\n",
    "plt.fill_between(param_range, \n",
    "                 test_mean + test_std,\n",
    "                 test_mean - test_std, \n",
    "                 alpha=0.15, color='green')\n",
    "\n",
    "plt.grid()\n",
    "# plt.xscale('log')\n",
    "plt.legend(loc='center right')\n",
    "plt.xlabel('Parameter C')\n",
    "plt.ylabel('Accuracy')\n",
    "plt.tight_layout()\n",
    "plt.show()"
   ]
  }
 ],
 "metadata": {
  "kernelspec": {
   "display_name": "Python 3 (ipykernel)",
   "language": "python",
   "name": "python3"
  },
  "language_info": {
   "codemirror_mode": {
    "name": "ipython",
    "version": 3
   },
   "file_extension": ".py",
   "mimetype": "text/x-python",
   "name": "python",
   "nbconvert_exporter": "python",
   "pygments_lexer": "ipython3",
   "version": "3.9.12"
  }
 },
 "nbformat": 4,
 "nbformat_minor": 5
}
