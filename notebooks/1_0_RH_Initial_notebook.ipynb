{
  "nbformat": 4,
  "nbformat_minor": 0,
  "metadata": {
    "colab": {
      "name": "1.0_RH_Initial_notebook.ipynb",
      "provenance": [],
      "collapsed_sections": [],
      "history_visible": true,
      "authorship_tag": "ABX9TyNl1Nlvv+UXcLNWQTSsvv32",
      "include_colab_link": true
    },
    "kernelspec": {
      "name": "python3",
      "display_name": "Python 3"
    },
    "language_info": {
      "name": "python"
    }
  },
  "cells": [
    {
      "cell_type": "markdown",
      "metadata": {
        "id": "view-in-github",
        "colab_type": "text"
      },
      "source": [
        "<a href=\"https://colab.research.google.com/github/chikakoto/facial-expression-recognition/blob/main/notebooks/1_0_RH_Initial_notebook.ipynb\" target=\"_parent\"><img src=\"https://colab.research.google.com/assets/colab-badge.svg\" alt=\"Open In Colab\"/></a>"
      ]
    },
    {
      "cell_type": "markdown",
      "source": [
        "# Data Source \n",
        "https://www.kaggle.com/datasets/msambare/fer2013\n",
        "https://drive.google.com/file/d/168XK2dmyPg9d6AI3cgbxhCXdIow7uVK-/view?usp=sharing \n"
      ],
      "metadata": {
        "id": "CrPz4rVRHryq"
      }
    },
    {
      "cell_type": "code",
      "source": [
        "!gdown --id 168XK2dmyPg9d6AI3cgbxhCXdIow7uVK- -O archive.zip"
      ],
      "metadata": {
        "colab": {
          "base_uri": "https://localhost:8080/"
        },
        "id": "2imLeeWkJSiK",
        "outputId": "4e00b0bd-d325-4fd2-943a-59c16d99ee92"
      },
      "execution_count": 2,
      "outputs": [
        {
          "output_type": "stream",
          "name": "stdout",
          "text": [
            "/usr/local/lib/python3.7/dist-packages/gdown/cli.py:131: FutureWarning: Option `--id` was deprecated in version 4.3.1 and will be removed in 5.0. You don't need to pass it anymore to use a file ID.\n",
            "  category=FutureWarning,\n",
            "Downloading...\n",
            "From: https://drive.google.com/uc?id=168XK2dmyPg9d6AI3cgbxhCXdIow7uVK-\n",
            "To: /content/archive.zip\n",
            "100% 63.3M/63.3M [00:00<00:00, 74.0MB/s]\n"
          ]
        }
      ]
    },
    {
      "cell_type": "code",
      "execution_count": 3,
      "metadata": {
        "id": "1VVlyjkt0O_5"
      },
      "outputs": [],
      "source": [
        "from sklearn.model_selection import train_test_split\n",
        "from sklearn.preprocessing import StandardScaler\n",
        "from sklearn.decomposition import PCA\n",
        "from sklearn.pipeline import Pipeline\n",
        "from sklearn.linear_model import LogisticRegression\n",
        "from sklearn.tree import DecisionTreeClassifier\n",
        "from sklearn.ensemble import RandomForestClassifier"
      ]
    },
    {
      "cell_type": "code",
      "source": [
        ""
      ],
      "metadata": {
        "id": "xLQHuIqcHqPc"
      },
      "execution_count": null,
      "outputs": []
    },
    {
      "cell_type": "code",
      "source": [
        "import numpy as np\n",
        "import matplotlib.pyplot as plt\n",
        "import seaborn as sns\n",
        "import gzip\n",
        "import statsmodels.api as sm\n",
        "%matplotlib inline\n",
        "from statsmodels.graphics.gofplots import ProbPlot\n",
        "#we will use matrix for conusion matrix \n",
        "from sklearn import metrics \n",
        "from sklearn.model_selection import train_test_split\n",
        "from struct import unpack\n",
        "\n",
        "#logistic regression \n",
        "from sklearn.linear_model import LogisticRegression\n",
        "\n",
        "from zipfile import ZipFile"
      ],
      "metadata": {
        "colab": {
          "base_uri": "https://localhost:8080/"
        },
        "id": "52_hYfSbKkbL",
        "outputId": "734bd99e-b103-48bd-89c4-e1f2e0cd965e"
      },
      "execution_count": 4,
      "outputs": [
        {
          "output_type": "stream",
          "name": "stderr",
          "text": [
            "/usr/local/lib/python3.7/dist-packages/statsmodels/tools/_testing.py:19: FutureWarning: pandas.util.testing is deprecated. Use the functions in the public API at pandas.testing instead.\n",
            "  import pandas.util.testing as tm\n"
          ]
        }
      ]
    },
    {
      "cell_type": "code",
      "source": [
        "import pandas as pd\n",
        "import numpy as np\n",
        "import os\n",
        "import PIL\n",
        "import seaborn as sns\n",
        "import pickle\n",
        "from PIL import *\n",
        "import cv2\n",
        "import tensorflow as tf\n",
        "from tensorflow import keras\n",
        "from tensorflow.keras.applications import DenseNet121\n",
        "from tensorflow.keras.models import Model, load_model\n",
        "from tensorflow.keras.initializers import glorot_uniform\n",
        "from tensorflow.keras.utils import plot_model\n",
        "from tensorflow.keras.callbacks import ReduceLROnPlateau, EarlyStopping, ModelCheckpoint, LearningRateScheduler\n",
        "from IPython.display import display\n",
        "from tensorflow.python.keras import *\n",
        "from tensorflow.keras.preprocessing.image import ImageDataGenerator\n",
        "from tensorflow.keras import layers, optimizers\n",
        "from tensorflow.keras.applications.resnet50 import ResNet50\n",
        "from tensorflow.keras.layers import *\n",
        "from tensorflow.keras import backend as K\n",
        "from keras import optimizers\n",
        "import matplotlib.pyplot as plt\n",
        "from sklearn.model_selection import train_test_split\n",
        "from google.colab.patches import cv2_imshow"
      ],
      "metadata": {
        "id": "xTVv7JWqh7SC"
      },
      "execution_count": 5,
      "outputs": []
    },
    {
      "cell_type": "code",
      "source": [
        "#Extracting the data and saving it into list\n",
        "import matplotlib.image as mpimg\n",
        "from zipfile import ZipFile\n",
        "import os\n",
        "test_files = []\n",
        "# test_labels = []\n",
        "# test_images = []\n",
        "test_data = []\n",
        "train_dir = '/content/train'\n",
        "test_dir = '/content/test'\n",
        "emotions = {'angry':0, 'disgust':1, 'fear':2, 'happy':3, 'sad':4, 'surprise':5, 'neutral':6}\n",
        "\n",
        "with ZipFile('/content/archive.zip', 'r') as f:\n",
        "  f.extractall()\n",
        "  for dirname, dirs, filenames in os.walk(test_dir, topdown=True):\n",
        "      cat = dirname.replace(test_dir, '')\n",
        "      if cat != '':\n",
        "          cat = cat.replace('/', '')\n",
        "          for filename in filenames:\n",
        "            file = os.path.join(dirname, filename)\n",
        "            obj = mpimg.imread(os.path.join(dirname, filename)).flatten()\n",
        "            test_data.append((file,cat, obj))\n",
        "              # file = os.path.join(dirname, filename)\n",
        "              # image = mpimg.imread(file).flatten()\n",
        "              # test_files.append(file)\n",
        "              # test_images.append(image)\n",
        "              # test_labels.append(emotions[cat])\n"
      ],
      "metadata": {
        "id": "kmZv5nn5Krw4"
      },
      "execution_count": 6,
      "outputs": []
    },
    {
      "cell_type": "code",
      "source": [
        "len(test_data)"
      ],
      "metadata": {
        "id": "M1JAD1CULOzz",
        "colab": {
          "base_uri": "https://localhost:8080/"
        },
        "outputId": "1a332b45-ca71-4a34-cc2f-80e25ef11b92"
      },
      "execution_count": 7,
      "outputs": [
        {
          "output_type": "execute_result",
          "data": {
            "text/plain": [
              "7178"
            ]
          },
          "metadata": {},
          "execution_count": 7
        }
      ]
    },
    {
      "cell_type": "code",
      "source": [
        "test_data[1]"
      ],
      "metadata": {
        "colab": {
          "base_uri": "https://localhost:8080/"
        },
        "id": "_3qQcUDENxY1",
        "outputId": "3588a146-4829-4905-9e34-eccfc040c331"
      },
      "execution_count": null,
      "outputs": [
        {
          "output_type": "execute_result",
          "data": {
            "text/plain": [
              "('/content/test/happy/PublicTest_33340944.jpg',\n",
              " 'happy',\n",
              " array([ 8, 14, 15, ..., 26, 20, 15], dtype=uint8))"
            ]
          },
          "metadata": {},
          "execution_count": 14
        }
      ]
    },
    {
      "cell_type": "code",
      "source": [
        "#converting out test data into a Dataframe \n",
        "import pandas as pd\n",
        "df = pd.DataFrame(test_data, columns = ['file','emotion','pixels'])"
      ],
      "metadata": {
        "id": "7uMWyrcfOGgd"
      },
      "execution_count": 8,
      "outputs": []
    },
    {
      "cell_type": "code",
      "source": [
        "df.shape"
      ],
      "metadata": {
        "colab": {
          "base_uri": "https://localhost:8080/"
        },
        "id": "yotP2zIPRnb8",
        "outputId": "03f5b780-4697-4c76-8c70-ca0992be3ac4"
      },
      "execution_count": null,
      "outputs": [
        {
          "output_type": "execute_result",
          "data": {
            "text/plain": [
              "(7178, 3)"
            ]
          },
          "metadata": {},
          "execution_count": 16
        }
      ]
    },
    {
      "cell_type": "code",
      "source": [
        "df.head()"
      ],
      "metadata": {
        "colab": {
          "base_uri": "https://localhost:8080/",
          "height": 206
        },
        "id": "kbKN583BRoLp",
        "outputId": "397f1f77-8ee6-4ca7-8822-14c81fc7fa52"
      },
      "execution_count": 9,
      "outputs": [
        {
          "output_type": "execute_result",
          "data": {
            "text/plain": [
              "                                           file emotion  \\\n",
              "0   /content/test/happy/PublicTest_56793753.jpg   happy   \n",
              "1   /content/test/happy/PublicTest_33340944.jpg   happy   \n",
              "2  /content/test/happy/PrivateTest_36531981.jpg   happy   \n",
              "3   /content/test/happy/PublicTest_17575282.jpg   happy   \n",
              "4   /content/test/happy/PublicTest_36416014.jpg   happy   \n",
              "\n",
              "                                              pixels  \n",
              "0  [253, 251, 254, 250, 220, 195, 199, 201, 205, ...  \n",
              "1  [8, 14, 15, 24, 21, 28, 73, 98, 74, 113, 136, ...  \n",
              "2  [63, 39, 28, 8, 15, 40, 45, 31, 32, 55, 23, 49...  \n",
              "3  [240, 240, 239, 240, 240, 241, 241, 241, 240, ...  \n",
              "4  [79, 92, 128, 131, 84, 80, 98, 137, 129, 139, ...  "
            ],
            "text/html": [
              "\n",
              "  <div id=\"df-73c1ff0e-09ec-475a-8e46-a4b42d57e2a1\">\n",
              "    <div class=\"colab-df-container\">\n",
              "      <div>\n",
              "<style scoped>\n",
              "    .dataframe tbody tr th:only-of-type {\n",
              "        vertical-align: middle;\n",
              "    }\n",
              "\n",
              "    .dataframe tbody tr th {\n",
              "        vertical-align: top;\n",
              "    }\n",
              "\n",
              "    .dataframe thead th {\n",
              "        text-align: right;\n",
              "    }\n",
              "</style>\n",
              "<table border=\"1\" class=\"dataframe\">\n",
              "  <thead>\n",
              "    <tr style=\"text-align: right;\">\n",
              "      <th></th>\n",
              "      <th>file</th>\n",
              "      <th>emotion</th>\n",
              "      <th>pixels</th>\n",
              "    </tr>\n",
              "  </thead>\n",
              "  <tbody>\n",
              "    <tr>\n",
              "      <th>0</th>\n",
              "      <td>/content/test/happy/PublicTest_56793753.jpg</td>\n",
              "      <td>happy</td>\n",
              "      <td>[253, 251, 254, 250, 220, 195, 199, 201, 205, ...</td>\n",
              "    </tr>\n",
              "    <tr>\n",
              "      <th>1</th>\n",
              "      <td>/content/test/happy/PublicTest_33340944.jpg</td>\n",
              "      <td>happy</td>\n",
              "      <td>[8, 14, 15, 24, 21, 28, 73, 98, 74, 113, 136, ...</td>\n",
              "    </tr>\n",
              "    <tr>\n",
              "      <th>2</th>\n",
              "      <td>/content/test/happy/PrivateTest_36531981.jpg</td>\n",
              "      <td>happy</td>\n",
              "      <td>[63, 39, 28, 8, 15, 40, 45, 31, 32, 55, 23, 49...</td>\n",
              "    </tr>\n",
              "    <tr>\n",
              "      <th>3</th>\n",
              "      <td>/content/test/happy/PublicTest_17575282.jpg</td>\n",
              "      <td>happy</td>\n",
              "      <td>[240, 240, 239, 240, 240, 241, 241, 241, 240, ...</td>\n",
              "    </tr>\n",
              "    <tr>\n",
              "      <th>4</th>\n",
              "      <td>/content/test/happy/PublicTest_36416014.jpg</td>\n",
              "      <td>happy</td>\n",
              "      <td>[79, 92, 128, 131, 84, 80, 98, 137, 129, 139, ...</td>\n",
              "    </tr>\n",
              "  </tbody>\n",
              "</table>\n",
              "</div>\n",
              "      <button class=\"colab-df-convert\" onclick=\"convertToInteractive('df-73c1ff0e-09ec-475a-8e46-a4b42d57e2a1')\"\n",
              "              title=\"Convert this dataframe to an interactive table.\"\n",
              "              style=\"display:none;\">\n",
              "        \n",
              "  <svg xmlns=\"http://www.w3.org/2000/svg\" height=\"24px\"viewBox=\"0 0 24 24\"\n",
              "       width=\"24px\">\n",
              "    <path d=\"M0 0h24v24H0V0z\" fill=\"none\"/>\n",
              "    <path d=\"M18.56 5.44l.94 2.06.94-2.06 2.06-.94-2.06-.94-.94-2.06-.94 2.06-2.06.94zm-11 1L8.5 8.5l.94-2.06 2.06-.94-2.06-.94L8.5 2.5l-.94 2.06-2.06.94zm10 10l.94 2.06.94-2.06 2.06-.94-2.06-.94-.94-2.06-.94 2.06-2.06.94z\"/><path d=\"M17.41 7.96l-1.37-1.37c-.4-.4-.92-.59-1.43-.59-.52 0-1.04.2-1.43.59L10.3 9.45l-7.72 7.72c-.78.78-.78 2.05 0 2.83L4 21.41c.39.39.9.59 1.41.59.51 0 1.02-.2 1.41-.59l7.78-7.78 2.81-2.81c.8-.78.8-2.07 0-2.86zM5.41 20L4 18.59l7.72-7.72 1.47 1.35L5.41 20z\"/>\n",
              "  </svg>\n",
              "      </button>\n",
              "      \n",
              "  <style>\n",
              "    .colab-df-container {\n",
              "      display:flex;\n",
              "      flex-wrap:wrap;\n",
              "      gap: 12px;\n",
              "    }\n",
              "\n",
              "    .colab-df-convert {\n",
              "      background-color: #E8F0FE;\n",
              "      border: none;\n",
              "      border-radius: 50%;\n",
              "      cursor: pointer;\n",
              "      display: none;\n",
              "      fill: #1967D2;\n",
              "      height: 32px;\n",
              "      padding: 0 0 0 0;\n",
              "      width: 32px;\n",
              "    }\n",
              "\n",
              "    .colab-df-convert:hover {\n",
              "      background-color: #E2EBFA;\n",
              "      box-shadow: 0px 1px 2px rgba(60, 64, 67, 0.3), 0px 1px 3px 1px rgba(60, 64, 67, 0.15);\n",
              "      fill: #174EA6;\n",
              "    }\n",
              "\n",
              "    [theme=dark] .colab-df-convert {\n",
              "      background-color: #3B4455;\n",
              "      fill: #D2E3FC;\n",
              "    }\n",
              "\n",
              "    [theme=dark] .colab-df-convert:hover {\n",
              "      background-color: #434B5C;\n",
              "      box-shadow: 0px 1px 3px 1px rgba(0, 0, 0, 0.15);\n",
              "      filter: drop-shadow(0px 1px 2px rgba(0, 0, 0, 0.3));\n",
              "      fill: #FFFFFF;\n",
              "    }\n",
              "  </style>\n",
              "\n",
              "      <script>\n",
              "        const buttonEl =\n",
              "          document.querySelector('#df-73c1ff0e-09ec-475a-8e46-a4b42d57e2a1 button.colab-df-convert');\n",
              "        buttonEl.style.display =\n",
              "          google.colab.kernel.accessAllowed ? 'block' : 'none';\n",
              "\n",
              "        async function convertToInteractive(key) {\n",
              "          const element = document.querySelector('#df-73c1ff0e-09ec-475a-8e46-a4b42d57e2a1');\n",
              "          const dataTable =\n",
              "            await google.colab.kernel.invokeFunction('convertToInteractive',\n",
              "                                                     [key], {});\n",
              "          if (!dataTable) return;\n",
              "\n",
              "          const docLinkHtml = 'Like what you see? Visit the ' +\n",
              "            '<a target=\"_blank\" href=https://colab.research.google.com/notebooks/data_table.ipynb>data table notebook</a>'\n",
              "            + ' to learn more about interactive tables.';\n",
              "          element.innerHTML = '';\n",
              "          dataTable['output_type'] = 'display_data';\n",
              "          await google.colab.output.renderOutput(dataTable, element);\n",
              "          const docLink = document.createElement('div');\n",
              "          docLink.innerHTML = docLinkHtml;\n",
              "          element.appendChild(docLink);\n",
              "        }\n",
              "      </script>\n",
              "    </div>\n",
              "  </div>\n",
              "  "
            ]
          },
          "metadata": {},
          "execution_count": 9
        }
      ]
    },
    {
      "cell_type": "code",
      "source": [
        "# df['pixels'][0].shape\n",
        "img = df['pixels'][0].reshape(48, 48)"
      ],
      "metadata": {
        "id": "5glQrC2uSjS9"
      },
      "execution_count": 23,
      "outputs": []
    },
    {
      "cell_type": "code",
      "source": [
        "plt.imshow(img, cmap = 'gray')"
      ],
      "metadata": {
        "colab": {
          "base_uri": "https://localhost:8080/",
          "height": 284
        },
        "id": "XMbWGymuRpgl",
        "outputId": "1a5377c9-a161-4d38-9f6e-296977e57d61"
      },
      "execution_count": 24,
      "outputs": [
        {
          "output_type": "execute_result",
          "data": {
            "text/plain": [
              "<matplotlib.image.AxesImage at 0x7f8dacdd3410>"
            ]
          },
          "metadata": {},
          "execution_count": 24
        },
        {
          "output_type": "display_data",
          "data": {
            "text/plain": [
              "<Figure size 432x288 with 1 Axes>"
            ],
            "image/png": "[encoded data removed]"
          },
          "metadata": {
            "needs_background": "light"
          }
        }
      ]
    },
    {
      "cell_type": "code",
      "source": [
        ""
      ],
      "metadata": {
        "id": "dAAH0WZ3oRGM"
      },
      "execution_count": null,
      "outputs": []
    },
    {
      "cell_type": "code",
      "source": [
        ""
      ],
      "metadata": {
        "id": "ywFqf_YPm45g"
      },
      "execution_count": null,
      "outputs": []
    },
    {
      "cell_type": "code",
      "source": [
        "df.emotion.value_counts().index"
      ],
      "metadata": {
        "colab": {
          "base_uri": "https://localhost:8080/"
        },
        "id": "lqI8VdR27kbx",
        "outputId": "98fd4c00-72f5-48bd-e72e-6137b9a39c7d"
      },
      "execution_count": 12,
      "outputs": [
        {
          "output_type": "execute_result",
          "data": {
            "text/plain": [
              "Index(['happy', 'sad', 'neutral', 'fear', 'angry', 'surprise', 'disgust'], dtype='object')"
            ]
          },
          "metadata": {},
          "execution_count": 12
        }
      ]
    },
    {
      "cell_type": "code",
      "source": [
        "emotion_lables = {0:'happy', 1:'sad', 2:'neutral', 3:'fear', 4: 'angry', 5:'surprise', 6:'disgust' }"
      ],
      "metadata": {
        "id": "VOvaSy6Jn6lF"
      },
      "execution_count": 13,
      "outputs": []
    },
    {
      "cell_type": "code",
      "source": [
        "df.emotion.value_counts()"
      ],
      "metadata": {
        "colab": {
          "base_uri": "https://localhost:8080/"
        },
        "id": "DI82wtgl7n_t",
        "outputId": "88928237-8570-423e-ada9-83208668b345"
      },
      "execution_count": null,
      "outputs": [
        {
          "output_type": "execute_result",
          "data": {
            "text/plain": [
              "happy       1774\n",
              "sad         1247\n",
              "neutral     1233\n",
              "fear        1024\n",
              "angry        958\n",
              "surprise     831\n",
              "disgust      111\n",
              "Name: emotion, dtype: int64"
            ]
          },
          "metadata": {},
          "execution_count": 24
        }
      ]
    },
    {
      "cell_type": "code",
      "source": [
        "emotions = [0, 1, 2, 3, 4,5,6]\n",
        "\n",
        "for i in emotions:\n",
        "  data = df[df['emotion'] == i][:1]\n",
        "  img = data[' pixels'].item()\n",
        "  img = img.reshape(48, 48)\n",
        "  plt.figure()\n",
        "  plt.title(emotion_lables[i])\n",
        "  plt.imshow(img, cmap = 'gray')"
      ],
      "metadata": {
        "id": "tcEk3DR_oQNC"
      },
      "execution_count": null,
      "outputs": []
    },
    {
      "cell_type": "code",
      "source": [
        "plt.figure(figsize = (10,10))\n",
        "sns.barplot(x = df.emotion.value_counts().index, y = df.emotion.value_counts())"
      ],
      "metadata": {
        "colab": {
          "base_uri": "https://localhost:8080/",
          "height": 609
        },
        "id": "5cp29A1y7r4s",
        "outputId": "701c9c25-50d5-493c-b4ec-4e5a0dfd604e"
      },
      "execution_count": null,
      "outputs": [
        {
          "output_type": "execute_result",
          "data": {
            "text/plain": [
              "<matplotlib.axes._subplots.AxesSubplot at 0x7f5a08bfab10>"
            ]
          },
          "metadata": {},
          "execution_count": 25
        },
        {
          "output_type": "display_data",
          "data": {
            "text/plain": [
              "<Figure size 720x720 with 1 Axes>"
            ],
            "image/png": "[encoded data removed]"
          },
          "metadata": {
            "needs_background": "light"
          }
        }
      ]
    },
    {
      "cell_type": "code",
      "source": [
        "pip install keras"
      ],
      "metadata": {
        "colab": {
          "base_uri": "https://localhost:8080/"
        },
        "id": "ZZfs7oHf9kwi",
        "outputId": "8dd67b6e-5972-48e9-9207-7431a18d5602"
      },
      "execution_count": 18,
      "outputs": [
        {
          "output_type": "stream",
          "name": "stdout",
          "text": [
            "Requirement already satisfied: keras in /usr/local/lib/python3.7/dist-packages (2.8.0)\n"
          ]
        }
      ]
    },
    {
      "cell_type": "code",
      "source": [
        "from tensorflow.keras.utils import to_categorical"
      ],
      "metadata": {
        "id": "594G2MXS70XR"
      },
      "execution_count": 25,
      "outputs": []
    },
    {
      "cell_type": "code",
      "source": [
        "df['emotion'].replace(['happy', 'sad', 'neutral', 'fear', 'angry', 'surprise', 'disgust'],[0,1,2,3,4,5,6], inplace = True)\n",
        "df.emotion.value_counts()"
      ],
      "metadata": {
        "colab": {
          "base_uri": "https://localhost:8080/"
        },
        "id": "qLszkV1c_Rn9",
        "outputId": "7890107e-8459-4245-f332-6e99137dc4df"
      },
      "execution_count": 26,
      "outputs": [
        {
          "output_type": "execute_result",
          "data": {
            "text/plain": [
              "0    1774\n",
              "1    1247\n",
              "2    1233\n",
              "3    1024\n",
              "4     958\n",
              "5     831\n",
              "6     111\n",
              "Name: emotion, dtype: int64"
            ]
          },
          "metadata": {},
          "execution_count": 26
        }
      ]
    },
    {
      "cell_type": "code",
      "source": [
        "def reshape_date(x):\n",
        "  return x.reshape(48, 48)\n"
      ],
      "metadata": {
        "id": "Yav2AXiuAaz6"
      },
      "execution_count": 27,
      "outputs": []
    },
    {
      "cell_type": "code",
      "source": [
        "df['pixels'] = df['pixels'].apply(lambda x: reshape_date(x))"
      ],
      "metadata": {
        "id": "w78Hmz5LAacq"
      },
      "execution_count": 28,
      "outputs": []
    },
    {
      "cell_type": "code",
      "source": [
        "df.shape"
      ],
      "metadata": {
        "colab": {
          "base_uri": "https://localhost:8080/"
        },
        "id": "ZoZjGbRRBav4",
        "outputId": "1329d03e-e5c6-4e86-ec4d-05103cb13523"
      },
      "execution_count": null,
      "outputs": [
        {
          "output_type": "execute_result",
          "data": {
            "text/plain": [
              "(7178, 3)"
            ]
          },
          "metadata": {},
          "execution_count": 44
        }
      ]
    },
    {
      "cell_type": "code",
      "source": [
        "X = df['pixels']\n",
        "y = to_categorical(df['emotion'])"
      ],
      "metadata": {
        "id": "AOj2m2TA74FR"
      },
      "execution_count": 29,
      "outputs": []
    },
    {
      "cell_type": "code",
      "source": [
        "X[0]"
      ],
      "metadata": {
        "id": "aCzSde2t74JK",
        "colab": {
          "base_uri": "https://localhost:8080/"
        },
        "outputId": "d971bfbd-2a1b-4bea-a75d-38d4b956c043"
      },
      "execution_count": 30,
      "outputs": [
        {
          "output_type": "execute_result",
          "data": {
            "text/plain": [
              "array([[253, 251, 254, ..., 105,  97,  69],\n",
              "       [255, 253, 252, ..., 100, 104,  72],\n",
              "       [252, 251, 253, ...,  94, 105,  81],\n",
              "       ...,\n",
              "       [251, 234, 178, ..., 190, 196, 199],\n",
              "       [254, 226, 179, ..., 187, 194, 198],\n",
              "       [254, 207, 167, ..., 190, 192, 195]], dtype=uint8)"
            ]
          },
          "metadata": {},
          "execution_count": 30
        }
      ]
    },
    {
      "cell_type": "code",
      "source": [
        "y"
      ],
      "metadata": {
        "id": "cI7PbGJI74MV",
        "colab": {
          "base_uri": "https://localhost:8080/"
        },
        "outputId": "ea309487-8d80-4000-fa8f-41b62f07305a"
      },
      "execution_count": 31,
      "outputs": [
        {
          "output_type": "execute_result",
          "data": {
            "text/plain": [
              "array([[1., 0., 0., ..., 0., 0., 0.],\n",
              "       [1., 0., 0., ..., 0., 0., 0.],\n",
              "       [1., 0., 0., ..., 0., 0., 0.],\n",
              "       ...,\n",
              "       [0., 0., 0., ..., 0., 0., 1.],\n",
              "       [0., 0., 0., ..., 0., 0., 1.],\n",
              "       [0., 0., 0., ..., 0., 0., 1.]], dtype=float32)"
            ]
          },
          "metadata": {},
          "execution_count": 31
        }
      ]
    },
    {
      "cell_type": "code",
      "source": [
        "X = np.stack(X, axis = 0)"
      ],
      "metadata": {
        "id": "kvX2tnR0BolR"
      },
      "execution_count": 32,
      "outputs": []
    },
    {
      "cell_type": "code",
      "source": [
        "\n",
        "X = X.reshape(7178, 48, 48, 1)\n",
        "\n",
        "print(X.shape, y.shape)"
      ],
      "metadata": {
        "id": "J3AcCcTe74Pr",
        "colab": {
          "base_uri": "https://localhost:8080/"
        },
        "outputId": "a4764c9e-2065-48ae-87d5-f6e1f32e8c4d"
      },
      "execution_count": 33,
      "outputs": [
        {
          "output_type": "stream",
          "name": "stdout",
          "text": [
            "(7178, 48, 48, 1) (7178, 7)\n"
          ]
        }
      ]
    },
    {
      "cell_type": "code",
      "source": [
        "X.shape"
      ],
      "metadata": {
        "id": "LNeXNayW74TV",
        "colab": {
          "base_uri": "https://localhost:8080/"
        },
        "outputId": "1306ba67-de86-453b-aee1-001e4ae4cb7a"
      },
      "execution_count": 34,
      "outputs": [
        {
          "output_type": "execute_result",
          "data": {
            "text/plain": [
              "(7178, 48, 48, 1)"
            ]
          },
          "metadata": {},
          "execution_count": 34
        }
      ]
    },
    {
      "cell_type": "code",
      "source": [
        "from sklearn.model_selection import train_test_split\n",
        "X_train, X_Test, y_train, y_Test = train_test_split(X, y, test_size = 0.1, shuffle = True)"
      ],
      "metadata": {
        "id": "uCdgiXlf74Wq"
      },
      "execution_count": 35,
      "outputs": []
    },
    {
      "cell_type": "code",
      "source": [
        "# image pre-processing\n",
        "X_train = X_train/255\n",
        "X_Test  = X_Test/255"
      ],
      "metadata": {
        "id": "10lCl7iOCRJf"
      },
      "execution_count": 36,
      "outputs": []
    },
    {
      "cell_type": "code",
      "source": [
        "X_train"
      ],
      "metadata": {
        "colab": {
          "base_uri": "https://localhost:8080/"
        },
        "id": "XLpMXCerCRWV",
        "outputId": "067b828b-5eab-4224-d544-cc9ffd456977"
      },
      "execution_count": 37,
      "outputs": [
        {
          "output_type": "execute_result",
          "data": {
            "text/plain": [
              "array([[[[0.97254902],\n",
              "         [0.96078431],\n",
              "         [0.98431373],\n",
              "         ...,\n",
              "         [0.97254902],\n",
              "         [0.97254902],\n",
              "         [0.96862745]],\n",
              "\n",
              "        [[0.95686275],\n",
              "         [0.97254902],\n",
              "         [0.94901961],\n",
              "         ...,\n",
              "         [0.97647059],\n",
              "         [0.95686275],\n",
              "         [0.96470588]],\n",
              "\n",
              "        [[0.96470588],\n",
              "         [0.98823529],\n",
              "         [0.78039216],\n",
              "         ...,\n",
              "         [0.97254902],\n",
              "         [0.96470588],\n",
              "         [0.97647059]],\n",
              "\n",
              "        ...,\n",
              "\n",
              "        [[0.10980392],\n",
              "         [0.13333333],\n",
              "         [0.1372549 ],\n",
              "         ...,\n",
              "         [0.80784314],\n",
              "         [0.81960784],\n",
              "         [0.82745098]],\n",
              "\n",
              "        [[0.12156863],\n",
              "         [0.1372549 ],\n",
              "         [0.21176471],\n",
              "         ...,\n",
              "         [0.81176471],\n",
              "         [0.79607843],\n",
              "         [0.81960784]],\n",
              "\n",
              "        [[0.14509804],\n",
              "         [0.14901961],\n",
              "         [0.25098039],\n",
              "         ...,\n",
              "         [0.81960784],\n",
              "         [0.81568627],\n",
              "         [0.81568627]]],\n",
              "\n",
              "\n",
              "       [[[0.88235294],\n",
              "         [0.87058824],\n",
              "         [0.88235294],\n",
              "         ...,\n",
              "         [0.59215686],\n",
              "         [0.8745098 ],\n",
              "         [0.87058824]],\n",
              "\n",
              "        [[0.88235294],\n",
              "         [0.89803922],\n",
              "         [0.89019608],\n",
              "         ...,\n",
              "         [0.38823529],\n",
              "         [0.81176471],\n",
              "         [0.88235294]],\n",
              "\n",
              "        [[0.88235294],\n",
              "         [0.83921569],\n",
              "         [0.77254902],\n",
              "         ...,\n",
              "         [0.25882353],\n",
              "         [0.72156863],\n",
              "         [0.88627451]],\n",
              "\n",
              "        ...,\n",
              "\n",
              "        [[0.47843137],\n",
              "         [0.64705882],\n",
              "         [0.92156863],\n",
              "         ...,\n",
              "         [0.83529412],\n",
              "         [0.81960784],\n",
              "         [0.73333333]],\n",
              "\n",
              "        [[0.50196078],\n",
              "         [0.8       ],\n",
              "         [0.94117647],\n",
              "         ...,\n",
              "         [0.8745098 ],\n",
              "         [0.8627451 ],\n",
              "         [0.76862745]],\n",
              "\n",
              "        [[0.5254902 ],\n",
              "         [0.85882353],\n",
              "         [0.8627451 ],\n",
              "         ...,\n",
              "         [0.68235294],\n",
              "         [0.73333333],\n",
              "         [0.74901961]]],\n",
              "\n",
              "\n",
              "       [[[0.41176471],\n",
              "         [0.60392157],\n",
              "         [0.74509804],\n",
              "         ...,\n",
              "         [0.3372549 ],\n",
              "         [0.42352941],\n",
              "         [0.42352941]],\n",
              "\n",
              "        [[0.4745098 ],\n",
              "         [0.62745098],\n",
              "         [0.68627451],\n",
              "         ...,\n",
              "         [0.39215686],\n",
              "         [0.4       ],\n",
              "         [0.38431373]],\n",
              "\n",
              "        [[0.56862745],\n",
              "         [0.68627451],\n",
              "         [0.66666667],\n",
              "         ...,\n",
              "         [0.36862745],\n",
              "         [0.37254902],\n",
              "         [0.34509804]],\n",
              "\n",
              "        ...,\n",
              "\n",
              "        [[0.49019608],\n",
              "         [0.44705882],\n",
              "         [0.36862745],\n",
              "         ...,\n",
              "         [0.50980392],\n",
              "         [0.59607843],\n",
              "         [0.74901961]],\n",
              "\n",
              "        [[0.43529412],\n",
              "         [0.38431373],\n",
              "         [0.39607843],\n",
              "         ...,\n",
              "         [0.50196078],\n",
              "         [0.58039216],\n",
              "         [0.70980392]],\n",
              "\n",
              "        [[0.44313725],\n",
              "         [0.37254902],\n",
              "         [0.42352941],\n",
              "         ...,\n",
              "         [0.52941176],\n",
              "         [0.55294118],\n",
              "         [0.69411765]]],\n",
              "\n",
              "\n",
              "       ...,\n",
              "\n",
              "\n",
              "       [[[0.10588235],\n",
              "         [0.10588235],\n",
              "         [0.04705882],\n",
              "         ...,\n",
              "         [0.07843137],\n",
              "         [0.19215686],\n",
              "         [0.35294118]],\n",
              "\n",
              "        [[0.08627451],\n",
              "         [0.08627451],\n",
              "         [0.03921569],\n",
              "         ...,\n",
              "         [0.0745098 ],\n",
              "         [0.16470588],\n",
              "         [0.3254902 ]],\n",
              "\n",
              "        [[0.0745098 ],\n",
              "         [0.08235294],\n",
              "         [0.04313725],\n",
              "         ...,\n",
              "         [0.07058824],\n",
              "         [0.15294118],\n",
              "         [0.31372549]],\n",
              "\n",
              "        ...,\n",
              "\n",
              "        [[0.56862745],\n",
              "         [0.46666667],\n",
              "         [0.56862745],\n",
              "         ...,\n",
              "         [0.72941176],\n",
              "         [0.65098039],\n",
              "         [0.75686275]],\n",
              "\n",
              "        [[0.83529412],\n",
              "         [0.64705882],\n",
              "         [0.21568627],\n",
              "         ...,\n",
              "         [0.74901961],\n",
              "         [0.78431373],\n",
              "         [0.70588235]],\n",
              "\n",
              "        [[0.85098039],\n",
              "         [0.79215686],\n",
              "         [0.26666667],\n",
              "         ...,\n",
              "         [0.79607843],\n",
              "         [0.76470588],\n",
              "         [0.6627451 ]]],\n",
              "\n",
              "\n",
              "       [[[0.2745098 ],\n",
              "         [0.49411765],\n",
              "         [0.55686275],\n",
              "         ...,\n",
              "         [0.21568627],\n",
              "         [0.03137255],\n",
              "         [0.0627451 ]],\n",
              "\n",
              "        [[0.3372549 ],\n",
              "         [0.49803922],\n",
              "         [0.54117647],\n",
              "         ...,\n",
              "         [0.32941176],\n",
              "         [0.05098039],\n",
              "         [0.06666667]],\n",
              "\n",
              "        [[0.39215686],\n",
              "         [0.48235294],\n",
              "         [0.51764706],\n",
              "         ...,\n",
              "         [0.44313725],\n",
              "         [0.05490196],\n",
              "         [0.05490196]],\n",
              "\n",
              "        ...,\n",
              "\n",
              "        [[0.        ],\n",
              "         [0.00392157],\n",
              "         [0.        ],\n",
              "         ...,\n",
              "         [0.01568627],\n",
              "         [0.        ],\n",
              "         [0.        ]],\n",
              "\n",
              "        [[0.03137255],\n",
              "         [0.01176471],\n",
              "         [0.        ],\n",
              "         ...,\n",
              "         [0.01960784],\n",
              "         [0.03137255],\n",
              "         [0.01176471]],\n",
              "\n",
              "        [[0.11764706],\n",
              "         [0.21176471],\n",
              "         [0.32156863],\n",
              "         ...,\n",
              "         [0.05882353],\n",
              "         [0.03921569],\n",
              "         [0.02745098]]],\n",
              "\n",
              "\n",
              "       [[[0.19215686],\n",
              "         [0.25490196],\n",
              "         [0.30196078],\n",
              "         ...,\n",
              "         [0.        ],\n",
              "         [0.06666667],\n",
              "         [0.14117647]],\n",
              "\n",
              "        [[0.2       ],\n",
              "         [0.24705882],\n",
              "         [0.3254902 ],\n",
              "         ...,\n",
              "         [0.        ],\n",
              "         [0.0627451 ],\n",
              "         [0.1372549 ]],\n",
              "\n",
              "        [[0.22352941],\n",
              "         [0.31764706],\n",
              "         [0.34117647],\n",
              "         ...,\n",
              "         [0.        ],\n",
              "         [0.05882353],\n",
              "         [0.13333333]],\n",
              "\n",
              "        ...,\n",
              "\n",
              "        [[0.68235294],\n",
              "         [0.49803922],\n",
              "         [0.43137255],\n",
              "         ...,\n",
              "         [0.01176471],\n",
              "         [0.0745098 ],\n",
              "         [0.16862745]],\n",
              "\n",
              "        [[0.6745098 ],\n",
              "         [0.49019608],\n",
              "         [0.43137255],\n",
              "         ...,\n",
              "         [0.00784314],\n",
              "         [0.07058824],\n",
              "         [0.16470588]],\n",
              "\n",
              "        [[0.6627451 ],\n",
              "         [0.48235294],\n",
              "         [0.43137255],\n",
              "         ...,\n",
              "         [0.00392157],\n",
              "         [0.06666667],\n",
              "         [0.15686275]]]])"
            ]
          },
          "metadata": {},
          "execution_count": 37
        }
      ]
    },
    {
      "cell_type": "code",
      "source": [
        ""
      ],
      "metadata": {
        "id": "G3AdzbWtCX0v"
      },
      "execution_count": null,
      "outputs": []
    },
    {
      "cell_type": "code",
      "source": [
        "def res_block(X, filter, stage):\n",
        "\n",
        "  # Convolutional_block\n",
        "  X_copy = X\n",
        "\n",
        "  f1 , f2, f3 = filter\n",
        "\n",
        "  # Main Path\n",
        "  X = Conv2D(f1, (1,1),strides = (1,1), name ='res_'+str(stage)+'_conv_a', kernel_initializer= glorot_uniform(seed = 0))(X)\n",
        "  X = MaxPool2D((2,2))(X)\n",
        "  X = BatchNormalization(axis =3, name = 'bn_'+str(stage)+'_conv_a')(X)\n",
        "  X = Activation('relu')(X) \n",
        "\n",
        "  X = Conv2D(f2, kernel_size = (3,3), strides =(1,1), padding = 'same', name ='res_'+str(stage)+'_conv_b', kernel_initializer= glorot_uniform(seed = 0))(X)\n",
        "  X = BatchNormalization(axis =3, name = 'bn_'+str(stage)+'_conv_b')(X)\n",
        "  X = Activation('relu')(X) \n",
        "\n",
        "  X = Conv2D(f3, kernel_size = (1,1), strides =(1,1),name ='res_'+str(stage)+'_conv_c', kernel_initializer= glorot_uniform(seed = 0))(X)\n",
        "  X = BatchNormalization(axis =3, name = 'bn_'+str(stage)+'_conv_c')(X)\n",
        "\n",
        "\n",
        "  # Short path\n",
        "  X_copy = Conv2D(f3, kernel_size = (1,1), strides =(1,1),name ='res_'+str(stage)+'_conv_copy', kernel_initializer= glorot_uniform(seed = 0))(X_copy)\n",
        "  X_copy = MaxPool2D((2,2))(X_copy)\n",
        "  X_copy = BatchNormalization(axis =3, name = 'bn_'+str(stage)+'_conv_copy')(X_copy)\n",
        "\n",
        "  # ADD\n",
        "  X = Add()([X,X_copy])\n",
        "  X = Activation('relu')(X)\n",
        "\n",
        "  # Identity Block 1\n",
        "  X_copy = X\n",
        "\n",
        "\n",
        "  # Main Path\n",
        "  X = Conv2D(f1, (1,1),strides = (1,1), name ='res_'+str(stage)+'_identity_1_a', kernel_initializer= glorot_uniform(seed = 0))(X)\n",
        "  X = BatchNormalization(axis =3, name = 'bn_'+str(stage)+'_identity_1_a')(X)\n",
        "  X = Activation('relu')(X) \n",
        "\n",
        "  X = Conv2D(f2, kernel_size = (3,3), strides =(1,1), padding = 'same', name ='res_'+str(stage)+'_identity_1_b', kernel_initializer= glorot_uniform(seed = 0))(X)\n",
        "  X = BatchNormalization(axis =3, name = 'bn_'+str(stage)+'_identity_1_b')(X)\n",
        "  X = Activation('relu')(X) \n",
        "\n",
        "  X = Conv2D(f3, kernel_size = (1,1), strides =(1,1),name ='res_'+str(stage)+'_identity_1_c', kernel_initializer= glorot_uniform(seed = 0))(X)\n",
        "  X = BatchNormalization(axis =3, name = 'bn_'+str(stage)+'_identity_1_c')(X)\n",
        "\n",
        "  # ADD\n",
        "  X = Add()([X,X_copy])\n",
        "  X = Activation('relu')(X)\n",
        "\n",
        "  # Identity Block 2\n",
        "  X_copy = X\n",
        "\n",
        "\n",
        "  # Main Path\n",
        "  X = Conv2D(f1, (1,1),strides = (1,1), name ='res_'+str(stage)+'_identity_2_a', kernel_initializer= glorot_uniform(seed = 0))(X)\n",
        "  X = BatchNormalization(axis =3, name = 'bn_'+str(stage)+'_identity_2_a')(X)\n",
        "  X = Activation('relu')(X) \n",
        "\n",
        "  X = Conv2D(f2, kernel_size = (3,3), strides =(1,1), padding = 'same', name ='res_'+str(stage)+'_identity_2_b', kernel_initializer= glorot_uniform(seed = 0))(X)\n",
        "  X = BatchNormalization(axis =3, name = 'bn_'+str(stage)+'_identity_2_b')(X)\n",
        "  X = Activation('relu')(X) \n",
        "\n",
        "  X = Conv2D(f3, kernel_size = (1,1), strides =(1,1),name ='res_'+str(stage)+'_identity_2_c', kernel_initializer= glorot_uniform(seed = 0))(X)\n",
        "  X = BatchNormalization(axis =3, name = 'bn_'+str(stage)+'_identity_2_c')(X)\n",
        "\n",
        "  # ADD\n",
        "  X = Add()([X,X_copy])\n",
        "  X = Activation('relu')(X)\n",
        "\n",
        "  return X"
      ],
      "metadata": {
        "id": "v-YvBBsOmf_w"
      },
      "execution_count": 14,
      "outputs": []
    },
    {
      "cell_type": "code",
      "source": [
        ""
      ],
      "metadata": {
        "id": "XKqRro6OmgUZ"
      },
      "execution_count": null,
      "outputs": []
    },
    {
      "cell_type": "code",
      "source": [
        ""
      ],
      "metadata": {
        "id": "De0hD1vMwaUf"
      },
      "execution_count": null,
      "outputs": []
    },
    {
      "cell_type": "code",
      "source": [
        "input_shape = (48, 48, 1)\n",
        "\n",
        "# Input tensor shape\n",
        "X_input = Input(input_shape)\n",
        "\n",
        "# Zero-padding\n",
        "X = ZeroPadding2D((3, 3))(X_input)\n",
        "\n",
        "# 1 - stage\n",
        "X = Conv2D(64, (7, 7), strides= (2, 2), name = 'conv1', kernel_initializer= glorot_uniform(seed = 0))(X)\n",
        "X = BatchNormalization(axis =3, name = 'bn_conv1')(X)\n",
        "X = Activation('relu')(X)\n",
        "X = MaxPooling2D((3, 3), strides= (2, 2))(X)\n",
        "\n",
        "# 2 - stage\n",
        "X = res_block(X, filter= [64, 64, 256], stage= 2)\n",
        "\n",
        "# 3 - stage\n",
        "X = res_block(X, filter= [128, 128, 512], stage= 3)\n",
        "\n",
        "# 4 - stage\n",
        "# X = res_block(X, filter= [256, 256, 1024], stage= 4)\n",
        "\n",
        "# Average Pooling\n",
        "X = AveragePooling2D((4, 4), name = 'Averagea_Pooling')(X)\n",
        "\n",
        "# Final layer\n",
        "X = Flatten()(X)\n",
        "X = Dense(5, activation = 'softmax', name = 'Dense_final', kernel_initializer= glorot_uniform(seed=0))(X)\n",
        "\n",
        "model_2_emotion = Model( inputs= X_input, outputs = X, name = 'Resnet18')\n",
        "\n",
        "model_2_emotion.summary()"
      ],
      "metadata": {
        "colab": {
          "base_uri": "https://localhost:8080/",
          "height": 520
        },
        "id": "_GjrlkO6CiB_",
        "outputId": "ea311a09-66d8-4237-9f48-a79304957b85"
      },
      "execution_count": 16,
      "outputs": [
        {
          "output_type": "error",
          "ename": "ValueError",
          "evalue": "ignored",
          "traceback": [
            "\u001b[0;31m---------------------------------------------------------------------------\u001b[0m",
            "\u001b[0;31mValueError\u001b[0m                                Traceback (most recent call last)",
            "\u001b[0;32m<ipython-input-16-625988a54dee>\u001b[0m in \u001b[0;36m<module>\u001b[0;34m()\u001b[0m\n\u001b[1;32m     23\u001b[0m \u001b[0;34m\u001b[0m\u001b[0m\n\u001b[1;32m     24\u001b[0m \u001b[0;31m# Average Pooling\u001b[0m\u001b[0;34m\u001b[0m\u001b[0;34m\u001b[0m\u001b[0;34m\u001b[0m\u001b[0m\n\u001b[0;32m---> 25\u001b[0;31m \u001b[0mX\u001b[0m \u001b[0;34m=\u001b[0m \u001b[0mAveragePooling2D\u001b[0m\u001b[0;34m(\u001b[0m\u001b[0;34m(\u001b[0m\u001b[0;36m4\u001b[0m\u001b[0;34m,\u001b[0m \u001b[0;36m4\u001b[0m\u001b[0;34m)\u001b[0m\u001b[0;34m,\u001b[0m \u001b[0mname\u001b[0m \u001b[0;34m=\u001b[0m \u001b[0;34m'Averagea_Pooling'\u001b[0m\u001b[0;34m)\u001b[0m\u001b[0;34m(\u001b[0m\u001b[0mX\u001b[0m\u001b[0;34m)\u001b[0m\u001b[0;34m\u001b[0m\u001b[0;34m\u001b[0m\u001b[0m\n\u001b[0m\u001b[1;32m     26\u001b[0m \u001b[0;34m\u001b[0m\u001b[0m\n\u001b[1;32m     27\u001b[0m \u001b[0;31m# Final layer\u001b[0m\u001b[0;34m\u001b[0m\u001b[0;34m\u001b[0m\u001b[0;34m\u001b[0m\u001b[0m\n",
            "\u001b[0;32m/usr/local/lib/python3.7/dist-packages/keras/utils/traceback_utils.py\u001b[0m in \u001b[0;36merror_handler\u001b[0;34m(*args, **kwargs)\u001b[0m\n\u001b[1;32m     65\u001b[0m     \u001b[0;32mexcept\u001b[0m \u001b[0mException\u001b[0m \u001b[0;32mas\u001b[0m \u001b[0me\u001b[0m\u001b[0;34m:\u001b[0m  \u001b[0;31m# pylint: disable=broad-except\u001b[0m\u001b[0;34m\u001b[0m\u001b[0;34m\u001b[0m\u001b[0m\n\u001b[1;32m     66\u001b[0m       \u001b[0mfiltered_tb\u001b[0m \u001b[0;34m=\u001b[0m \u001b[0m_process_traceback_frames\u001b[0m\u001b[0;34m(\u001b[0m\u001b[0me\u001b[0m\u001b[0;34m.\u001b[0m\u001b[0m__traceback__\u001b[0m\u001b[0;34m)\u001b[0m\u001b[0;34m\u001b[0m\u001b[0;34m\u001b[0m\u001b[0m\n\u001b[0;32m---> 67\u001b[0;31m       \u001b[0;32mraise\u001b[0m \u001b[0me\u001b[0m\u001b[0;34m.\u001b[0m\u001b[0mwith_traceback\u001b[0m\u001b[0;34m(\u001b[0m\u001b[0mfiltered_tb\u001b[0m\u001b[0;34m)\u001b[0m \u001b[0;32mfrom\u001b[0m \u001b[0;32mNone\u001b[0m\u001b[0;34m\u001b[0m\u001b[0;34m\u001b[0m\u001b[0m\n\u001b[0m\u001b[1;32m     68\u001b[0m     \u001b[0;32mfinally\u001b[0m\u001b[0;34m:\u001b[0m\u001b[0;34m\u001b[0m\u001b[0;34m\u001b[0m\u001b[0m\n\u001b[1;32m     69\u001b[0m       \u001b[0;32mdel\u001b[0m \u001b[0mfiltered_tb\u001b[0m\u001b[0;34m\u001b[0m\u001b[0;34m\u001b[0m\u001b[0m\n",
            "\u001b[0;32m/usr/local/lib/python3.7/dist-packages/tensorflow/python/framework/ops.py\u001b[0m in \u001b[0;36m_create_c_op\u001b[0;34m(graph, node_def, inputs, control_inputs, op_def)\u001b[0m\n\u001b[1;32m   2011\u001b[0m   \u001b[0;32mexcept\u001b[0m \u001b[0merrors\u001b[0m\u001b[0;34m.\u001b[0m\u001b[0mInvalidArgumentError\u001b[0m \u001b[0;32mas\u001b[0m \u001b[0me\u001b[0m\u001b[0;34m:\u001b[0m\u001b[0;34m\u001b[0m\u001b[0;34m\u001b[0m\u001b[0m\n\u001b[1;32m   2012\u001b[0m     \u001b[0;31m# Convert to ValueError for backwards compatibility.\u001b[0m\u001b[0;34m\u001b[0m\u001b[0;34m\u001b[0m\u001b[0;34m\u001b[0m\u001b[0m\n\u001b[0;32m-> 2013\u001b[0;31m     \u001b[0;32mraise\u001b[0m \u001b[0mValueError\u001b[0m\u001b[0;34m(\u001b[0m\u001b[0me\u001b[0m\u001b[0;34m.\u001b[0m\u001b[0mmessage\u001b[0m\u001b[0;34m)\u001b[0m\u001b[0;34m\u001b[0m\u001b[0;34m\u001b[0m\u001b[0m\n\u001b[0m\u001b[1;32m   2014\u001b[0m \u001b[0;34m\u001b[0m\u001b[0m\n\u001b[1;32m   2015\u001b[0m   \u001b[0;32mreturn\u001b[0m \u001b[0mc_op\u001b[0m\u001b[0;34m\u001b[0m\u001b[0;34m\u001b[0m\u001b[0m\n",
            "\u001b[0;31mValueError\u001b[0m: Exception encountered when calling layer \"Averagea_Pooling\" (type AveragePooling2D).\n\nNegative dimension size caused by subtracting 4 from 2 for '{{node Averagea_Pooling/AvgPool}} = AvgPool[T=DT_FLOAT, data_format=\"NHWC\", ksize=[1, 4, 4, 1], padding=\"VALID\", strides=[1, 4, 4, 1]](Placeholder)' with input shapes: [?,2,2,512].\n\nCall arguments received:\n  • inputs=tf.Tensor(shape=(None, 2, 2, 512), dtype=float32)"
          ]
        }
      ]
    },
    {
      "cell_type": "code",
      "source": [
        "import numpy\n",
        "import matplotlib.pyplot as plt\n",
        "\n",
        "from keras.layers import Dropout\n",
        "from keras.layers import Flatten\n",
        "from keras.constraints import maxnorm\n",
        "\n",
        "from keras.layers import Conv2D\n",
        "from keras.layers.convolutional import MaxPooling2D\n",
        "from keras.utils import np_utils\n",
        "from keras import backend as K\n",
        "\n",
        "from keras.models import Sequential\n",
        "from keras.layers import Dense\n",
        "\n",
        "import keras"
      ],
      "metadata": {
        "id": "s4-ggICCwbVt"
      },
      "execution_count": 21,
      "outputs": []
    },
    {
      "cell_type": "code",
      "source": [
        "from tensorflow.keras.optimizers import SGD"
      ],
      "metadata": {
        "id": "iAzKsG07wdzn"
      },
      "execution_count": 22,
      "outputs": []
    },
    {
      "cell_type": "code",
      "source": [
        "# Create the model\n",
        "model = Sequential()\n",
        "model.add(Conv2D(32, (3, 3), input_shape = (48, 48, 1), padding = 'same', \n",
        "   activation = 'relu', kernel_constraint = maxnorm(3)))\n",
        "\n",
        "model.add(Dropout(0.2))\n",
        "model.add(Conv2D(32, (3, 3), activation = 'relu', padding = 'same', \n",
        "   kernel_constraint = maxnorm(3)))\n",
        "\n",
        "model.add(MaxPooling2D(pool_size = (2, 2)))\n",
        "model.add(Flatten())\n",
        "model.add(Dense(512, activation = 'relu', kernel_constraint = maxnorm(3)))\n",
        "model.add(Dropout(0.5))\n",
        "\n",
        "model.add(Dense(7, activation = 'softmax'))\n",
        "\n"
      ],
      "metadata": {
        "id": "rcUm6s89wwLA"
      },
      "execution_count": 55,
      "outputs": []
    },
    {
      "cell_type": "code",
      "source": [
        "# image pre-processing\n",
        "X_train = X_train/255\n",
        "X_Test  = X_Test/255\n",
        "# X_train, X_Test, y_train, y_Test"
      ],
      "metadata": {
        "id": "nR7_vWWNyNnr"
      },
      "execution_count": null,
      "outputs": []
    },
    {
      "cell_type": "code",
      "source": [
        "y_train.shape[1]"
      ],
      "metadata": {
        "colab": {
          "base_uri": "https://localhost:8080/"
        },
        "id": "jUMjgkWqzhcF",
        "outputId": "f5b0b5fa-fe2b-4ca9-cf1a-2ee3e9d582bd"
      },
      "execution_count": 43,
      "outputs": [
        {
          "output_type": "execute_result",
          "data": {
            "text/plain": [
              "7"
            ]
          },
          "metadata": {},
          "execution_count": 43
        }
      ]
    },
    {
      "cell_type": "code",
      "source": [
        "# Compile model\n",
        "epochs = 10\n",
        "lrate = 0.01\n",
        "decay = lrate/epochs\n",
        "sgd = SGD(lr = lrate, momentum = 0.9, decay = decay, nesterov = False)\n",
        "model.compile(loss = 'categorical_crossentropy', optimizer = sgd, metrics = ['accuracy'])\n",
        "print(model.summary())"
      ],
      "metadata": {
        "colab": {
          "base_uri": "https://localhost:8080/"
        },
        "id": "yvnGAg6O1kFJ",
        "outputId": "13cb31a6-669c-4303-97ae-15696ac558e2"
      },
      "execution_count": 56,
      "outputs": [
        {
          "output_type": "stream",
          "name": "stdout",
          "text": [
            "Model: \"sequential_3\"\n",
            "_________________________________________________________________\n",
            " Layer (type)                Output Shape              Param #   \n",
            "=================================================================\n",
            " conv2d_6 (Conv2D)           (None, 48, 48, 32)        320       \n",
            "                                                                 \n",
            " dropout_6 (Dropout)         (None, 48, 48, 32)        0         \n",
            "                                                                 \n",
            " conv2d_7 (Conv2D)           (None, 48, 48, 32)        9248      \n",
            "                                                                 \n",
            " max_pooling2d_13 (MaxPoolin  (None, 24, 24, 32)       0         \n",
            " g2D)                                                            \n",
            "                                                                 \n",
            " flatten_3 (Flatten)         (None, 18432)             0         \n",
            "                                                                 \n",
            " dense_4 (Dense)             (None, 512)               9437696   \n",
            "                                                                 \n",
            " dropout_7 (Dropout)         (None, 512)               0         \n",
            "                                                                 \n",
            " dense_5 (Dense)             (None, 7)                 3591      \n",
            "                                                                 \n",
            "=================================================================\n",
            "Total params: 9,450,855\n",
            "Trainable params: 9,450,855\n",
            "Non-trainable params: 0\n",
            "_________________________________________________________________\n",
            "None\n"
          ]
        },
        {
          "output_type": "stream",
          "name": "stderr",
          "text": [
            "/usr/local/lib/python3.7/dist-packages/keras/optimizer_v2/gradient_descent.py:102: UserWarning: The `lr` argument is deprecated, use `learning_rate` instead.\n",
            "  super(SGD, self).__init__(name, **kwargs)\n"
          ]
        }
      ]
    },
    {
      "cell_type": "code",
      "source": [
        "monitor = 'val_loss', min_delta = 0, patience = 0, verbose = 0, mode = 'auto')]"
      ],
      "metadata": {
        "colab": {
          "base_uri": "https://localhost:8080/",
          "height": 131
        },
        "id": "5I0UrIqJ1LYA",
        "outputId": "0ef2954f-de52-4b69-9c38-535ed7d8d660"
      },
      "execution_count": 48,
      "outputs": [
        {
          "output_type": "error",
          "ename": "SyntaxError",
          "evalue": "ignored",
          "traceback": [
            "\u001b[0;36m  File \u001b[0;32m\"<ipython-input-48-7c4a549894c8>\"\u001b[0;36m, line \u001b[0;32m1\u001b[0m\n\u001b[0;31m    monitor = 'val_loss', min_delta = 0, patience = 0, verbose = 0, mode = 'auto')]\u001b[0m\n\u001b[0m                                                                                 ^\u001b[0m\n\u001b[0;31mSyntaxError\u001b[0m\u001b[0;31m:\u001b[0m invalid syntax\n"
          ]
        }
      ]
    },
    {
      "cell_type": "code",
      "source": [
        "\n",
        "callbacks = [keras.callbacks.TensorBoard(log_dir='./logs', histogram_freq = 0, batch_size = 32, write_graph = True, write_grads = False, \n",
        "                                         write_images = True, embeddings_freq = 0, embeddings_layer_names = None, \n",
        "                                         embeddings_metadata = None)]"
      ],
      "metadata": {
        "colab": {
          "base_uri": "https://localhost:8080/"
        },
        "id": "03Wm4VFo0nq_",
        "outputId": "effa2236-9db1-463d-8868-80e0546a03b0"
      },
      "execution_count": 57,
      "outputs": [
        {
          "output_type": "stream",
          "name": "stdout",
          "text": [
            "WARNING:tensorflow:`batch_size` is no longer needed in the `TensorBoard` Callback and will be ignored in TensorFlow 2.0.\n"
          ]
        }
      ]
    },
    {
      "cell_type": "code",
      "source": [
        "model.fit(X_train, y_train, epochs = 60, \n",
        "   batch_size = 32,shuffle = True,callbacks = callbacks)"
      ],
      "metadata": {
        "colab": {
          "base_uri": "https://localhost:8080/"
        },
        "id": "bC6yMlAk1CaD",
        "outputId": "c0580523-749d-4b59-822b-ad2d52427296"
      },
      "execution_count": null,
      "outputs": [
        {
          "output_type": "stream",
          "name": "stdout",
          "text": [
            "Epoch 1/60\n",
            "202/202 [==============================] - 68s 333ms/step - loss: 1.8236 - accuracy: 0.2401\n",
            "Epoch 2/60\n",
            "202/202 [==============================] - 67s 329ms/step - loss: 1.7540 - accuracy: 0.2833\n",
            "Epoch 3/60\n",
            "202/202 [==============================] - 68s 335ms/step - loss: 1.7091 - accuracy: 0.3147\n",
            "Epoch 4/60\n",
            "202/202 [==============================] - 66s 326ms/step - loss: 1.6680 - accuracy: 0.3424\n",
            "Epoch 5/60\n",
            "202/202 [==============================] - 66s 326ms/step - loss: 1.6334 - accuracy: 0.3607\n",
            "Epoch 6/60\n",
            "202/202 [==============================] - 66s 325ms/step - loss: 1.6085 - accuracy: 0.3714\n",
            "Epoch 7/60\n",
            "202/202 [==============================] - 66s 325ms/step - loss: 1.5739 - accuracy: 0.3950\n",
            "Epoch 8/60\n",
            "202/202 [==============================] - 66s 325ms/step - loss: 1.5494 - accuracy: 0.4031\n",
            "Epoch 9/60\n",
            "202/202 [==============================] - 66s 326ms/step - loss: 1.5254 - accuracy: 0.4203\n",
            "Epoch 10/60\n",
            "202/202 [==============================] - 66s 326ms/step - loss: 1.4944 - accuracy: 0.4262\n",
            "Epoch 11/60\n",
            "202/202 [==============================] - 66s 326ms/step - loss: 1.4594 - accuracy: 0.4410\n",
            "Epoch 12/60\n",
            "202/202 [==============================] - 66s 325ms/step - loss: 1.4196 - accuracy: 0.4598\n",
            "Epoch 13/60\n",
            "202/202 [==============================] - 66s 324ms/step - loss: 1.3780 - accuracy: 0.4819\n",
            "Epoch 14/60\n",
            "202/202 [==============================] - 66s 326ms/step - loss: 1.3529 - accuracy: 0.4825\n",
            "Epoch 15/60\n",
            "202/202 [==============================] - 66s 324ms/step - loss: 1.2991 - accuracy: 0.5127\n",
            "Epoch 16/60\n",
            "202/202 [==============================] - 65s 324ms/step - loss: 1.2397 - accuracy: 0.5345\n",
            "Epoch 17/60\n",
            "202/202 [==============================] - 65s 323ms/step - loss: 1.1896 - accuracy: 0.5515\n",
            "Epoch 18/60\n",
            "202/202 [==============================] - 65s 324ms/step - loss: 1.1426 - accuracy: 0.5754\n",
            "Epoch 19/60\n",
            "202/202 [==============================] - 66s 325ms/step - loss: 1.0672 - accuracy: 0.6101\n",
            "Epoch 20/60\n",
            "202/202 [==============================] - 66s 325ms/step - loss: 1.0313 - accuracy: 0.6195\n",
            "Epoch 21/60\n",
            "202/202 [==============================] - 65s 323ms/step - loss: 0.9388 - accuracy: 0.6601\n",
            "Epoch 22/60\n",
            "202/202 [==============================] - 65s 324ms/step - loss: 0.8720 - accuracy: 0.6882\n",
            "Epoch 23/60\n",
            "202/202 [==============================] - 65s 324ms/step - loss: 0.8125 - accuracy: 0.7057\n",
            "Epoch 24/60\n",
            "202/202 [==============================] - 65s 323ms/step - loss: 0.7346 - accuracy: 0.7379\n",
            "Epoch 25/60\n",
            "202/202 [==============================] - 65s 324ms/step - loss: 0.6901 - accuracy: 0.7568\n",
            "Epoch 26/60\n",
            "202/202 [==============================] - 65s 324ms/step - loss: 0.6323 - accuracy: 0.7689\n",
            "Epoch 27/60\n",
            "202/202 [==============================] - 66s 325ms/step - loss: 0.5510 - accuracy: 0.8082\n",
            "Epoch 28/60\n",
            "202/202 [==============================] - 66s 324ms/step - loss: 0.5129 - accuracy: 0.8234\n",
            "Epoch 29/60\n",
            "202/202 [==============================] - 66s 326ms/step - loss: 0.4720 - accuracy: 0.8348\n",
            "Epoch 30/60\n",
            "202/202 [==============================] - 66s 326ms/step - loss: 0.4207 - accuracy: 0.8565\n",
            "Epoch 31/60\n",
            "202/202 [==============================] - 66s 326ms/step - loss: 0.3928 - accuracy: 0.8700\n",
            "Epoch 32/60\n",
            "202/202 [==============================] - 65s 324ms/step - loss: 0.3515 - accuracy: 0.8810\n",
            "Epoch 33/60\n",
            "202/202 [==============================] - 66s 325ms/step - loss: 0.3081 - accuracy: 0.8988\n",
            "Epoch 34/60\n",
            "202/202 [==============================] - 66s 325ms/step - loss: 0.2841 - accuracy: 0.9074\n",
            "Epoch 35/60\n",
            "202/202 [==============================] - 66s 325ms/step - loss: 0.2695 - accuracy: 0.9118\n",
            "Epoch 36/60\n",
            "202/202 [==============================] - 65s 324ms/step - loss: 0.2331 - accuracy: 0.9279\n",
            "Epoch 37/60\n",
            "202/202 [==============================] - 66s 325ms/step - loss: 0.2148 - accuracy: 0.9334\n",
            "Epoch 38/60\n",
            "202/202 [==============================] - 65s 324ms/step - loss: 0.2053 - accuracy: 0.9367\n",
            "Epoch 39/60\n",
            "202/202 [==============================] - 65s 324ms/step - loss: 0.1864 - accuracy: 0.9415\n",
            "Epoch 40/60\n",
            "202/202 [==============================] - 65s 323ms/step - loss: 0.1700 - accuracy: 0.9489\n",
            "Epoch 41/60\n",
            "202/202 [==============================] - 66s 325ms/step - loss: 0.1647 - accuracy: 0.9485\n",
            "Epoch 42/60\n",
            "202/202 [==============================] - 66s 325ms/step - loss: 0.1552 - accuracy: 0.9519\n",
            "Epoch 43/60\n",
            "202/202 [==============================] - 65s 324ms/step - loss: 0.1456 - accuracy: 0.9545\n",
            "Epoch 44/60\n",
            "202/202 [==============================] - 65s 323ms/step - loss: 0.1277 - accuracy: 0.9591\n",
            "Epoch 45/60\n",
            "202/202 [==============================] - 65s 323ms/step - loss: 0.1175 - accuracy: 0.9647\n",
            "Epoch 46/60\n",
            "202/202 [==============================] - 65s 323ms/step - loss: 0.1142 - accuracy: 0.9663\n",
            "Epoch 47/60\n",
            "202/202 [==============================] - 65s 323ms/step - loss: 0.1038 - accuracy: 0.9731\n",
            "Epoch 48/60\n",
            "202/202 [==============================] - 65s 321ms/step - loss: 0.1106 - accuracy: 0.9680\n",
            "Epoch 49/60\n",
            "202/202 [==============================] - 65s 323ms/step - loss: 0.0984 - accuracy: 0.9704\n",
            "Epoch 50/60\n",
            "142/202 [====================>.........] - ETA: 19s - loss: 0.0981 - accuracy: 0.9723"
          ]
        }
      ]
    },
    {
      "cell_type": "code",
      "source": [
        "# Final evaluation of the model\n",
        "scores = model.evaluate(X_train, y_train, verbose = 0)\n",
        "print(\"Accuracy: %.2f%%\" % (scores[1]*100))"
      ],
      "metadata": {
        "colab": {
          "base_uri": "https://localhost:8080/"
        },
        "id": "_FCoFVcoWSQc",
        "outputId": "a8ee716f-cc85-4c24-a94a-998ea01c973c"
      },
      "execution_count": 59,
      "outputs": [
        {
          "output_type": "stream",
          "name": "stdout",
          "text": [
            "Accuracy: 99.91%\n"
          ]
        }
      ]
    },
    {
      "cell_type": "code",
      "source": [
        "# serialize model to JSONx\n",
        "model_json = model.to_json()\n",
        "with open(\"model_face.json\", \"w\") as json_file:\n",
        "   json_file.write(model_json)"
      ],
      "metadata": {
        "id": "p0ua8yeMWk_q"
      },
      "execution_count": 60,
      "outputs": []
    },
    {
      "cell_type": "code",
      "source": [
        "# Final evaluation of the model\n",
        "scores = model.evaluate(X_Test, y_Test, verbose = 0)\n",
        "print(\"Accuracy: %.2f%%\" % (scores[1]*100))"
      ],
      "metadata": {
        "colab": {
          "base_uri": "https://localhost:8080/"
        },
        "id": "9O7Itco9XgEN",
        "outputId": "55e4102f-9a61-4f95-d4d6-1690ff0fe1e3"
      },
      "execution_count": 61,
      "outputs": [
        {
          "output_type": "stream",
          "name": "stdout",
          "text": [
            "Accuracy: 40.11%\n"
          ]
        }
      ]
    }
  ]
}