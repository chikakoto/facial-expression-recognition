{
  "nbformat": 4,
  "nbformat_minor": 0,
  "metadata": {
    "colab": {
      "name": "1.0_RH_Initial_notebook.ipynb",
      "provenance": [],
      "collapsed_sections": [],
      "mount_file_id": "13pKnswCtccA1bzQs05ZFp2z9fUAOARtL",
      "authorship_tag": "ABX9TyMZEz3lRkvmpS9IxP+V1jWX",
      "include_colab_link": true
    },
    "kernelspec": {
      "name": "python3",
      "display_name": "Python 3"
    },
    "language_info": {
      "name": "python"
    }
  },
  "cells": [
    {
      "cell_type": "markdown",
      "metadata": {
        "id": "view-in-github",
        "colab_type": "text"
      },
      "source": [
        "<a href=\"https://colab.research.google.com/github/chikakoto/facial-expression-recognition/blob/main/notebooks/1_0_RH_Initial_notebook.ipynb\" target=\"_parent\"><img src=\"https://colab.research.google.com/assets/colab-badge.svg\" alt=\"Open In Colab\"/></a>"
      ]
    },
    {
      "cell_type": "markdown",
      "source": [
        "# Data Source \n",
        "https://www.kaggle.com/datasets/msambare/fer2013\n",
        "https://drive.google.com/file/d/168XK2dmyPg9d6AI3cgbxhCXdIow7uVK-/view?usp=sharing \n"
      ],
      "metadata": {
        "id": "CrPz4rVRHryq"
      }
    },
    {
      "cell_type": "code",
      "source": [
        "!gdown --id 168XK2dmyPg9d6AI3cgbxhCXdIow7uVK- -O archive.zip"
      ],
      "metadata": {
        "colab": {
          "base_uri": "https://localhost:8080/"
        },
        "id": "2imLeeWkJSiK",
        "outputId": "1a26003c-3962-4001-da4f-9d0ad4dcddd0"
      },
      "execution_count": 1,
      "outputs": [
        {
          "output_type": "stream",
          "name": "stdout",
          "text": [
            "/usr/local/lib/python3.7/dist-packages/gdown/cli.py:131: FutureWarning: Option `--id` was deprecated in version 4.3.1 and will be removed in 5.0. You don't need to pass it anymore to use a file ID.\n",
            "  category=FutureWarning,\n",
            "Downloading...\n",
            "From: https://drive.google.com/uc?id=168XK2dmyPg9d6AI3cgbxhCXdIow7uVK-\n",
            "To: /content/archive.zip\n",
            "100% 63.3M/63.3M [00:00<00:00, 73.6MB/s]\n"
          ]
        }
      ]
    },
    {
      "cell_type": "code",
      "execution_count": null,
      "metadata": {
        "id": "1VVlyjkt0O_5"
      },
      "outputs": [],
      "source": [
        "from sklearn.model_selection import train_test_split\n",
        "from sklearn.preprocessing import StandardScaler\n",
        "from sklearn.decomposition import PCA\n",
        "from sklearn.pipeline import Pipeline\n",
        "from sklearn.linear_model import LogisticRegression\n",
        "from sklearn.tree import DecisionTreeClassifier\n",
        "from sklearn.ensemble import RandomForestClassifier"
      ]
    },
    {
      "cell_type": "code",
      "source": [
        ""
      ],
      "metadata": {
        "id": "xLQHuIqcHqPc"
      },
      "execution_count": null,
      "outputs": []
    },
    {
      "cell_type": "code",
      "source": [
        "import numpy as np\n",
        "import matplotlib.pyplot as plt\n",
        "import seaborn as sns\n",
        "import gzip\n",
        "import statsmodels.api as sm\n",
        "%matplotlib inline\n",
        "from statsmodels.graphics.gofplots import ProbPlot\n",
        "#we will use matrix for conusion matrix \n",
        "from sklearn import metrics \n",
        "from sklearn.model_selection import train_test_split\n",
        "from struct import unpack\n",
        "\n",
        "#logistic regression \n",
        "from sklearn.linear_model import LogisticRegression\n",
        "\n",
        "from zipfile import ZipFile"
      ],
      "metadata": {
        "colab": {
          "base_uri": "https://localhost:8080/"
        },
        "id": "52_hYfSbKkbL",
        "outputId": "e4d78dc4-47b9-42bb-f8dc-0ac021f122f2"
      },
      "execution_count": null,
      "outputs": [
        {
          "output_type": "stream",
          "name": "stderr",
          "text": [
            "/usr/local/lib/python3.7/dist-packages/statsmodels/tools/_testing.py:19: FutureWarning: pandas.util.testing is deprecated. Use the functions in the public API at pandas.testing instead.\n",
            "  import pandas.util.testing as tm\n"
          ]
        }
      ]
    },
    {
      "cell_type": "code",
      "source": [
        "import pandas as pd\n",
        "import numpy as np\n",
        "import os\n",
        "import PIL\n",
        "import seaborn as sns\n",
        "import pickle\n",
        "from PIL import *\n",
        "import cv2\n",
        "import tensorflow as tf\n",
        "from tensorflow import keras\n",
        "from tensorflow.keras.applications import DenseNet121\n",
        "from tensorflow.keras.models import Model, load_model\n",
        "from tensorflow.keras.initializers import glorot_uniform\n",
        "from tensorflow.keras.utils import plot_model\n",
        "from tensorflow.keras.callbacks import ReduceLROnPlateau, EarlyStopping, ModelCheckpoint, LearningRateScheduler\n",
        "from IPython.display import display\n",
        "from tensorflow.python.keras import *\n",
        "from tensorflow.keras.preprocessing.image import ImageDataGenerator\n",
        "from tensorflow.keras import layers, optimizers\n",
        "from tensorflow.keras.applications.resnet50 import ResNet50\n",
        "from tensorflow.keras.layers import *\n",
        "from tensorflow.keras import backend as K\n",
        "from keras import optimizers\n",
        "import matplotlib.pyplot as plt\n",
        "from sklearn.model_selection import train_test_split\n",
        "from google.colab.patches import cv2_imshow"
      ],
      "metadata": {
        "id": "xTVv7JWqh7SC"
      },
      "execution_count": 9,
      "outputs": []
    },
    {
      "cell_type": "code",
      "source": [
        "#Creating dictionary to store the data \n",
        "train = dict()\n",
        "test = dict()"
      ],
      "metadata": {
        "id": "fqofGb_3KnoH"
      },
      "execution_count": null,
      "outputs": []
    },
    {
      "cell_type": "code",
      "source": [
        "# importing required modules\n",
        "\n",
        "def get_images(filename): #function to read data \n",
        "    with ZipFile(file_name, 'r') as zip:\n",
        "      magic, size, rows, cols = unpack('>IIII', f.read(16))\n",
        "      print(magic, size, rows, cols)\n",
        "      images = np.frombuffer(f.read(), dtype=np.dtype('B'))\n",
        "    return images.reshape(size,rows,cols)"
      ],
      "metadata": {
        "id": "HdbogbbBKpV3"
      },
      "execution_count": null,
      "outputs": []
    },
    {
      "cell_type": "code",
      "source": [
        "#Extracting the data and saving it into list\n",
        "import matplotlib.image as mpimg\n",
        "from zipfile import ZipFile\n",
        "import os\n",
        "test_files = []\n",
        "# test_labels = []\n",
        "# test_images = []\n",
        "test_data = []\n",
        "train_dir = '/content/train'\n",
        "test_dir = '/content/test'\n",
        "emotions = {'angry':0, 'disgust':1, 'fear':2, 'happy':3, 'sad':4, 'surprise':5, 'neutral':6}\n",
        "\n",
        "with ZipFile('/content/archive.zip', 'r') as f:\n",
        "  f.extractall()\n",
        "  for dirname, dirs, filenames in os.walk(test_dir, topdown=True):\n",
        "      cat = dirname.replace(test_dir, '')\n",
        "      if cat != '':\n",
        "          cat = cat.replace('/', '')\n",
        "          for filename in filenames:\n",
        "            file = os.path.join(dirname, filename)\n",
        "            obj = mpimg.imread(os.path.join(dirname, filename)).flatten()\n",
        "            test_data.append((file,cat, obj))\n",
        "              # file = os.path.join(dirname, filename)\n",
        "              # image = mpimg.imread(file).flatten()\n",
        "              # test_files.append(file)\n",
        "              # test_images.append(image)\n",
        "              # test_labels.append(emotions[cat])\n"
      ],
      "metadata": {
        "id": "kmZv5nn5Krw4"
      },
      "execution_count": 12,
      "outputs": []
    },
    {
      "cell_type": "code",
      "source": [
        "len(test_data)"
      ],
      "metadata": {
        "id": "M1JAD1CULOzz",
        "colab": {
          "base_uri": "https://localhost:8080/"
        },
        "outputId": "5a65a7cb-c217-474b-93b1-48cacdc55bde"
      },
      "execution_count": 13,
      "outputs": [
        {
          "output_type": "execute_result",
          "data": {
            "text/plain": [
              "7178"
            ]
          },
          "metadata": {},
          "execution_count": 13
        }
      ]
    },
    {
      "cell_type": "code",
      "source": [
        "test_data[1]"
      ],
      "metadata": {
        "colab": {
          "base_uri": "https://localhost:8080/"
        },
        "id": "_3qQcUDENxY1",
        "outputId": "3588a146-4829-4905-9e34-eccfc040c331"
      },
      "execution_count": 14,
      "outputs": [
        {
          "output_type": "execute_result",
          "data": {
            "text/plain": [
              "('/content/test/happy/PublicTest_33340944.jpg',\n",
              " 'happy',\n",
              " array([ 8, 14, 15, ..., 26, 20, 15], dtype=uint8))"
            ]
          },
          "metadata": {},
          "execution_count": 14
        }
      ]
    },
    {
      "cell_type": "code",
      "source": [
        "#converting out test data into a Dataframe \n",
        "import pandas as pd\n",
        "df = pd.DataFrame(test_data, columns = ['file','emotion','pixels'])"
      ],
      "metadata": {
        "id": "7uMWyrcfOGgd"
      },
      "execution_count": 15,
      "outputs": []
    },
    {
      "cell_type": "code",
      "source": [
        "df.shape"
      ],
      "metadata": {
        "colab": {
          "base_uri": "https://localhost:8080/"
        },
        "id": "yotP2zIPRnb8",
        "outputId": "03f5b780-4697-4c76-8c70-ca0992be3ac4"
      },
      "execution_count": 16,
      "outputs": [
        {
          "output_type": "execute_result",
          "data": {
            "text/plain": [
              "(7178, 3)"
            ]
          },
          "metadata": {},
          "execution_count": 16
        }
      ]
    },
    {
      "cell_type": "code",
      "source": [
        "df.head()"
      ],
      "metadata": {
        "colab": {
          "base_uri": "https://localhost:8080/",
          "height": 206
        },
        "id": "kbKN583BRoLp",
        "outputId": "07af5e2f-78f0-4f1f-ebb6-e5fb85b1c256"
      },
      "execution_count": 17,
      "outputs": [
        {
          "output_type": "execute_result",
          "data": {
            "text/plain": [
              "                                           file emotion  \\\n",
              "0   /content/test/happy/PublicTest_56793753.jpg   happy   \n",
              "1   /content/test/happy/PublicTest_33340944.jpg   happy   \n",
              "2  /content/test/happy/PrivateTest_36531981.jpg   happy   \n",
              "3   /content/test/happy/PublicTest_17575282.jpg   happy   \n",
              "4   /content/test/happy/PublicTest_36416014.jpg   happy   \n",
              "\n",
              "                                              pixels  \n",
              "0  [253, 251, 254, 250, 220, 195, 199, 201, 205, ...  \n",
              "1  [8, 14, 15, 24, 21, 28, 73, 98, 74, 113, 136, ...  \n",
              "2  [63, 39, 28, 8, 15, 40, 45, 31, 32, 55, 23, 49...  \n",
              "3  [240, 240, 239, 240, 240, 241, 241, 241, 240, ...  \n",
              "4  [79, 92, 128, 131, 84, 80, 98, 137, 129, 139, ...  "
            ],
            "text/html": [
              "\n",
              "  <div id=\"df-038bc4ce-81c4-4c19-9c5b-2665b7a43062\">\n",
              "    <div class=\"colab-df-container\">\n",
              "      <div>\n",
              "<style scoped>\n",
              "    .dataframe tbody tr th:only-of-type {\n",
              "        vertical-align: middle;\n",
              "    }\n",
              "\n",
              "    .dataframe tbody tr th {\n",
              "        vertical-align: top;\n",
              "    }\n",
              "\n",
              "    .dataframe thead th {\n",
              "        text-align: right;\n",
              "    }\n",
              "</style>\n",
              "<table border=\"1\" class=\"dataframe\">\n",
              "  <thead>\n",
              "    <tr style=\"text-align: right;\">\n",
              "      <th></th>\n",
              "      <th>file</th>\n",
              "      <th>emotion</th>\n",
              "      <th>pixels</th>\n",
              "    </tr>\n",
              "  </thead>\n",
              "  <tbody>\n",
              "    <tr>\n",
              "      <th>0</th>\n",
              "      <td>/content/test/happy/PublicTest_56793753.jpg</td>\n",
              "      <td>happy</td>\n",
              "      <td>[253, 251, 254, 250, 220, 195, 199, 201, 205, ...</td>\n",
              "    </tr>\n",
              "    <tr>\n",
              "      <th>1</th>\n",
              "      <td>/content/test/happy/PublicTest_33340944.jpg</td>\n",
              "      <td>happy</td>\n",
              "      <td>[8, 14, 15, 24, 21, 28, 73, 98, 74, 113, 136, ...</td>\n",
              "    </tr>\n",
              "    <tr>\n",
              "      <th>2</th>\n",
              "      <td>/content/test/happy/PrivateTest_36531981.jpg</td>\n",
              "      <td>happy</td>\n",
              "      <td>[63, 39, 28, 8, 15, 40, 45, 31, 32, 55, 23, 49...</td>\n",
              "    </tr>\n",
              "    <tr>\n",
              "      <th>3</th>\n",
              "      <td>/content/test/happy/PublicTest_17575282.jpg</td>\n",
              "      <td>happy</td>\n",
              "      <td>[240, 240, 239, 240, 240, 241, 241, 241, 240, ...</td>\n",
              "    </tr>\n",
              "    <tr>\n",
              "      <th>4</th>\n",
              "      <td>/content/test/happy/PublicTest_36416014.jpg</td>\n",
              "      <td>happy</td>\n",
              "      <td>[79, 92, 128, 131, 84, 80, 98, 137, 129, 139, ...</td>\n",
              "    </tr>\n",
              "  </tbody>\n",
              "</table>\n",
              "</div>\n",
              "      <button class=\"colab-df-convert\" onclick=\"convertToInteractive('df-038bc4ce-81c4-4c19-9c5b-2665b7a43062')\"\n",
              "              title=\"Convert this dataframe to an interactive table.\"\n",
              "              style=\"display:none;\">\n",
              "        \n",
              "  <svg xmlns=\"http://www.w3.org/2000/svg\" height=\"24px\"viewBox=\"0 0 24 24\"\n",
              "       width=\"24px\">\n",
              "    <path d=\"M0 0h24v24H0V0z\" fill=\"none\"/>\n",
              "    <path d=\"M18.56 5.44l.94 2.06.94-2.06 2.06-.94-2.06-.94-.94-2.06-.94 2.06-2.06.94zm-11 1L8.5 8.5l.94-2.06 2.06-.94-2.06-.94L8.5 2.5l-.94 2.06-2.06.94zm10 10l.94 2.06.94-2.06 2.06-.94-2.06-.94-.94-2.06-.94 2.06-2.06.94z\"/><path d=\"M17.41 7.96l-1.37-1.37c-.4-.4-.92-.59-1.43-.59-.52 0-1.04.2-1.43.59L10.3 9.45l-7.72 7.72c-.78.78-.78 2.05 0 2.83L4 21.41c.39.39.9.59 1.41.59.51 0 1.02-.2 1.41-.59l7.78-7.78 2.81-2.81c.8-.78.8-2.07 0-2.86zM5.41 20L4 18.59l7.72-7.72 1.47 1.35L5.41 20z\"/>\n",
              "  </svg>\n",
              "      </button>\n",
              "      \n",
              "  <style>\n",
              "    .colab-df-container {\n",
              "      display:flex;\n",
              "      flex-wrap:wrap;\n",
              "      gap: 12px;\n",
              "    }\n",
              "\n",
              "    .colab-df-convert {\n",
              "      background-color: #E8F0FE;\n",
              "      border: none;\n",
              "      border-radius: 50%;\n",
              "      cursor: pointer;\n",
              "      display: none;\n",
              "      fill: #1967D2;\n",
              "      height: 32px;\n",
              "      padding: 0 0 0 0;\n",
              "      width: 32px;\n",
              "    }\n",
              "\n",
              "    .colab-df-convert:hover {\n",
              "      background-color: #E2EBFA;\n",
              "      box-shadow: 0px 1px 2px rgba(60, 64, 67, 0.3), 0px 1px 3px 1px rgba(60, 64, 67, 0.15);\n",
              "      fill: #174EA6;\n",
              "    }\n",
              "\n",
              "    [theme=dark] .colab-df-convert {\n",
              "      background-color: #3B4455;\n",
              "      fill: #D2E3FC;\n",
              "    }\n",
              "\n",
              "    [theme=dark] .colab-df-convert:hover {\n",
              "      background-color: #434B5C;\n",
              "      box-shadow: 0px 1px 3px 1px rgba(0, 0, 0, 0.15);\n",
              "      filter: drop-shadow(0px 1px 2px rgba(0, 0, 0, 0.3));\n",
              "      fill: #FFFFFF;\n",
              "    }\n",
              "  </style>\n",
              "\n",
              "      <script>\n",
              "        const buttonEl =\n",
              "          document.querySelector('#df-038bc4ce-81c4-4c19-9c5b-2665b7a43062 button.colab-df-convert');\n",
              "        buttonEl.style.display =\n",
              "          google.colab.kernel.accessAllowed ? 'block' : 'none';\n",
              "\n",
              "        async function convertToInteractive(key) {\n",
              "          const element = document.querySelector('#df-038bc4ce-81c4-4c19-9c5b-2665b7a43062');\n",
              "          const dataTable =\n",
              "            await google.colab.kernel.invokeFunction('convertToInteractive',\n",
              "                                                     [key], {});\n",
              "          if (!dataTable) return;\n",
              "\n",
              "          const docLinkHtml = 'Like what you see? Visit the ' +\n",
              "            '<a target=\"_blank\" href=https://colab.research.google.com/notebooks/data_table.ipynb>data table notebook</a>'\n",
              "            + ' to learn more about interactive tables.';\n",
              "          element.innerHTML = '';\n",
              "          dataTable['output_type'] = 'display_data';\n",
              "          await google.colab.output.renderOutput(dataTable, element);\n",
              "          const docLink = document.createElement('div');\n",
              "          docLink.innerHTML = docLinkHtml;\n",
              "          element.appendChild(docLink);\n",
              "        }\n",
              "      </script>\n",
              "    </div>\n",
              "  </div>\n",
              "  "
            ]
          },
          "metadata": {},
          "execution_count": 17
        }
      ]
    },
    {
      "cell_type": "code",
      "source": [
        "# df['pixels'][0].shape\n",
        "img = df['pixels'][0].reshape(48, 48)"
      ],
      "metadata": {
        "id": "5glQrC2uSjS9"
      },
      "execution_count": 18,
      "outputs": []
    },
    {
      "cell_type": "code",
      "source": [
        "plt.imshow(img, cmap = 'gray')"
      ],
      "metadata": {
        "colab": {
          "base_uri": "https://localhost:8080/",
          "height": 284
        },
        "id": "XMbWGymuRpgl",
        "outputId": "f30655ea-6f57-49b1-f60c-1ed0e8992804"
      },
      "execution_count": 20,
      "outputs": [
        {
          "output_type": "execute_result",
          "data": {
            "text/plain": [
              "<matplotlib.image.AxesImage at 0x7f5a09604750>"
            ]
          },
          "metadata": {},
          "execution_count": 20
        },
        {
          "output_type": "display_data",
          "data": {
            "text/plain": [
              "<Figure size 432x288 with 1 Axes>"
            ],
            "image/png": "[encoded data removed]"
          },
          "metadata": {
            "needs_background": "light"
          }
        }
      ]
    }
  ]
}