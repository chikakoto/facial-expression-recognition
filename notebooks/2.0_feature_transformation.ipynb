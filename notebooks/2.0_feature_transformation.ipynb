{
 "cells": [
  {
   "cell_type": "code",
   "execution_count": 1,
   "id": "6454a988",
   "metadata": {},
   "outputs": [],
   "source": [
    "import os\n",
    "import math\n",
    "import numpy as np\n",
    "import pandas as pd\n",
    "import seaborn as sns\n",
    "import matplotlib.pyplot as plt\n",
    "\n",
    "import cv2 as cv\n",
    "from sklearn.cluster import MiniBatchKMeans"
   ]
  },
  {
   "cell_type": "markdown",
   "id": "55913c74",
   "metadata": {},
   "source": [
    "# Load data"
   ]
  },
  {
   "cell_type": "code",
   "execution_count": 3,
   "id": "db821e5c",
   "metadata": {},
   "outputs": [],
   "source": [
    "# File data\n",
    "csv = '../data/fer_file_data.csv'\n",
    "df = pd.read_csv(csv)"
   ]
  },
  {
   "cell_type": "code",
   "execution_count": 4,
   "id": "f554a3e7",
   "metadata": {},
   "outputs": [
    {
     "data": {
      "text/html": [
       "<div>\n",
       "<style scoped>\n",
       "    .dataframe tbody tr th:only-of-type {\n",
       "        vertical-align: middle;\n",
       "    }\n",
       "\n",
       "    .dataframe tbody tr th {\n",
       "        vertical-align: top;\n",
       "    }\n",
       "\n",
       "    .dataframe thead th {\n",
       "        text-align: right;\n",
       "    }\n",
       "</style>\n",
       "<table border=\"1\" class=\"dataframe\">\n",
       "  <thead>\n",
       "    <tr style=\"text-align: right;\">\n",
       "      <th></th>\n",
       "      <th>usage</th>\n",
       "      <th>emotion</th>\n",
       "      <th>file</th>\n",
       "    </tr>\n",
       "  </thead>\n",
       "  <tbody>\n",
       "    <tr>\n",
       "      <th>0</th>\n",
       "      <td>train</td>\n",
       "      <td>3</td>\n",
       "      <td>../data/external/fer2013/train/happy/Training_...</td>\n",
       "    </tr>\n",
       "    <tr>\n",
       "      <th>1</th>\n",
       "      <td>train</td>\n",
       "      <td>3</td>\n",
       "      <td>../data/external/fer2013/train/happy/Training_...</td>\n",
       "    </tr>\n",
       "    <tr>\n",
       "      <th>2</th>\n",
       "      <td>train</td>\n",
       "      <td>3</td>\n",
       "      <td>../data/external/fer2013/train/happy/Training_...</td>\n",
       "    </tr>\n",
       "    <tr>\n",
       "      <th>3</th>\n",
       "      <td>train</td>\n",
       "      <td>3</td>\n",
       "      <td>../data/external/fer2013/train/happy/Training_...</td>\n",
       "    </tr>\n",
       "    <tr>\n",
       "      <th>4</th>\n",
       "      <td>train</td>\n",
       "      <td>3</td>\n",
       "      <td>../data/external/fer2013/train/happy/Training_...</td>\n",
       "    </tr>\n",
       "  </tbody>\n",
       "</table>\n",
       "</div>"
      ],
      "text/plain": [
       "   usage  emotion                                               file\n",
       "0  train        3  ../data/external/fer2013/train/happy/Training_...\n",
       "1  train        3  ../data/external/fer2013/train/happy/Training_...\n",
       "2  train        3  ../data/external/fer2013/train/happy/Training_...\n",
       "3  train        3  ../data/external/fer2013/train/happy/Training_...\n",
       "4  train        3  ../data/external/fer2013/train/happy/Training_..."
      ]
     },
     "execution_count": 4,
     "metadata": {},
     "output_type": "execute_result"
    }
   ],
   "source": [
    "df.head()"
   ]
  },
  {
   "cell_type": "code",
   "execution_count": 5,
   "id": "091da128",
   "metadata": {},
   "outputs": [
    {
     "name": "stdout",
     "output_type": "stream",
     "text": [
      "<class 'pandas.core.frame.DataFrame'>\n",
      "RangeIndex: 35328 entries, 0 to 35327\n",
      "Data columns (total 3 columns):\n",
      " #   Column   Non-Null Count  Dtype \n",
      "---  ------   --------------  ----- \n",
      " 0   usage    35328 non-null  object\n",
      " 1   emotion  35328 non-null  int64 \n",
      " 2   file     35328 non-null  object\n",
      "dtypes: int64(1), object(2)\n",
      "memory usage: 828.1+ KB\n"
     ]
    }
   ],
   "source": [
    "df.info()"
   ]
  },
  {
   "cell_type": "markdown",
   "id": "fa413472",
   "metadata": {},
   "source": [
    "# SIFT"
   ]
  },
  {
   "cell_type": "code",
   "execution_count": 36,
   "id": "b08cc728",
   "metadata": {},
   "outputs": [],
   "source": [
    "def sift(file):\n",
    "    image = cv.imread(file)\n",
    "    gray = cv.cvtColor(image, cv.COLOR_BGR2GRAY)\n",
    "    sift = cv.SIFT_create()\n",
    "    keypoints, descriptors = sift.detectAndCompute(gray,None)\n",
    "    \n",
    "    return keypoints, descriptors\n",
    "   \n",
    "\n",
    "def extractFeatures(df):\n",
    "    descriptors = []\n",
    "    emotions = []\n",
    "    for index, row in df.iterrows():\n",
    "        kp, desc = sift(row.file)\n",
    "        if type(desc) != type(None):\n",
    "            descriptors.append(desc)\n",
    "            emotions.append(row.emotion)\n",
    "            \n",
    "    return descriptors, emotions\n",
    "\n",
    "\n",
    "def flatFeatures(descriptors):\n",
    "    all_descriptors = []\n",
    "    for i in range(len(descriptors)):\n",
    "        all_descriptors.extend(descriptors[i])\n",
    "            \n",
    "    return all_descriptors\n",
    "        \n",
    "        \n",
    "def kMeans(k, all_descriptors):\n",
    "    batch_size = int(len(all_descriptors) / 3) \n",
    "    kmeans = MiniBatchKMeans(n_clusters = k,\n",
    "                             batch_size = batch_size,\n",
    "                             init_size = None)\n",
    "    kmeans.fit(all_descriptors)\n",
    "    \n",
    "    return kmeans\n",
    "        \n",
    "        \n",
    "def histograms(k, all_descriptors, descriptors):\n",
    "    histograms = []\n",
    "    kmeans = kMeans(k, all_descriptors)\n",
    "    \n",
    "    for i in range(len(descriptors)):\n",
    "        preds = kmeans.predict(descriptors[i].astype('float'))\n",
    "        hist, bin_edges = np.histogram(a = preds, bins = range(0, k*5))\n",
    "        histograms.append(hist)\n",
    "    \n",
    "    return histograms\n",
    "\n",
    "\n",
    "def saveHistograms(usage, histograms):\n",
    "    sift_data = []\n",
    "    for i in range(len(histograms)):\n",
    "        vectors = ' '.join(str(x) for x in histograms[i])\n",
    "        sift_data.append([usage, emotions[i], vectors])"
   ]
  },
  {
   "cell_type": "code",
   "execution_count": 37,
   "id": "e075d74c",
   "metadata": {},
   "outputs": [],
   "source": [
    "train_descriptors, train_emotions = extractFeatures(df[df['usage']=='train'])\n",
    "test_descriptors, test_emotions = extractFeatures(df[df['usage']=='test'])"
   ]
  },
  {
   "cell_type": "code",
   "execution_count": 38,
   "id": "28b9496b",
   "metadata": {},
   "outputs": [],
   "source": [
    "train_descriptors_flat = flatFeatures(train_descriptors)\n",
    "test_descriptors_flat = flatFeatures(test_descriptors)"
   ]
  },
  {
   "cell_type": "code",
   "execution_count": 39,
   "id": "08f5e7b7",
   "metadata": {},
   "outputs": [
    {
     "name": "stdout",
     "output_type": "stream",
     "text": [
      "28257\n",
      "7065\n"
     ]
    }
   ],
   "source": [
    "print(len(train_descriptors))\n",
    "print(len(test_descriptors))"
   ]
  },
  {
   "cell_type": "code",
   "execution_count": 40,
   "id": "9c703874",
   "metadata": {},
   "outputs": [
    {
     "name": "stdout",
     "output_type": "stream",
     "text": [
      "28257\n",
      "7065\n"
     ]
    }
   ],
   "source": [
    "print(len(train_emotions))\n",
    "print(len(test_emotions))"
   ]
  },
  {
   "cell_type": "code",
   "execution_count": 41,
   "id": "acab447d",
   "metadata": {},
   "outputs": [],
   "source": [
    "k = len(df.emotion.unique())\n",
    "train_hist = histograms(k, train_descriptors_flat, train_descriptors)\n",
    "test_hist = histograms(k, test_descriptors_flat, test_descriptors)"
   ]
  },
  {
   "cell_type": "code",
   "execution_count": 42,
   "id": "257bf320",
   "metadata": {
    "scrolled": true
   },
   "outputs": [
    {
     "name": "stdout",
     "output_type": "stream",
     "text": [
      "(28257, 29)\n",
      "(7065, 29)\n"
     ]
    }
   ],
   "source": [
    "print(np.array(train_hist).shape)\n",
    "print(np.array(test_hist).shape)"
   ]
  },
  {
   "cell_type": "code",
   "execution_count": 43,
   "id": "489c9d20",
   "metadata": {},
   "outputs": [
    {
     "data": {
      "text/plain": [
       "array([4, 3, 5, 8, 2, 1, 0, 0, 0, 0, 0, 0, 0, 0, 0, 0, 0, 0, 0, 0, 0, 0,\n",
       "       0, 0, 0, 0, 0, 0, 0])"
      ]
     },
     "execution_count": 43,
     "metadata": {},
     "output_type": "execute_result"
    }
   ],
   "source": [
    "test_hist[0]"
   ]
  },
  {
   "cell_type": "markdown",
   "id": "ec83af5f",
   "metadata": {},
   "source": [
    "# Save Histograms"
   ]
  },
  {
   "cell_type": "code",
   "execution_count": 44,
   "id": "52b0e3be",
   "metadata": {},
   "outputs": [],
   "source": [
    "def combineData(usage, histograms, emotions):\n",
    "    sift_data = []\n",
    "    for i in range(len(histograms)):\n",
    "        vectors = ' '.join(str(x) for x in histograms[i])\n",
    "        sift_data.append([usage, emotions[i], vectors])\n",
    "    return sift_data"
   ]
  },
  {
   "cell_type": "code",
   "execution_count": 45,
   "id": "2167e7eb",
   "metadata": {},
   "outputs": [],
   "source": [
    "sift_data1 = combineData('train', train_hist, train_emotions)\n",
    "sift_data2 = combineData('test', test_hist, test_emotions)\n",
    "sift_data = sift_data1 + sift_data2"
   ]
  },
  {
   "cell_type": "code",
   "execution_count": 46,
   "id": "17d4e095",
   "metadata": {},
   "outputs": [
    {
     "data": {
      "text/html": [
       "<div>\n",
       "<style scoped>\n",
       "    .dataframe tbody tr th:only-of-type {\n",
       "        vertical-align: middle;\n",
       "    }\n",
       "\n",
       "    .dataframe tbody tr th {\n",
       "        vertical-align: top;\n",
       "    }\n",
       "\n",
       "    .dataframe thead th {\n",
       "        text-align: right;\n",
       "    }\n",
       "</style>\n",
       "<table border=\"1\" class=\"dataframe\">\n",
       "  <thead>\n",
       "    <tr style=\"text-align: right;\">\n",
       "      <th></th>\n",
       "      <th>usage</th>\n",
       "      <th>emotion</th>\n",
       "      <th>histogram</th>\n",
       "    </tr>\n",
       "  </thead>\n",
       "  <tbody>\n",
       "    <tr>\n",
       "      <th>0</th>\n",
       "      <td>train</td>\n",
       "      <td>3</td>\n",
       "      <td>4 3 6 1 1 3 0 0 0 0 0 0 0 0 0 0 0 0 0 0 0 0 0 ...</td>\n",
       "    </tr>\n",
       "    <tr>\n",
       "      <th>1</th>\n",
       "      <td>train</td>\n",
       "      <td>3</td>\n",
       "      <td>2 8 4 4 0 7 0 0 0 0 0 0 0 0 0 0 0 0 0 0 0 0 0 ...</td>\n",
       "    </tr>\n",
       "    <tr>\n",
       "      <th>2</th>\n",
       "      <td>train</td>\n",
       "      <td>3</td>\n",
       "      <td>2 9 9 5 2 2 0 0 0 0 0 0 0 0 0 0 0 0 0 0 0 0 0 ...</td>\n",
       "    </tr>\n",
       "    <tr>\n",
       "      <th>3</th>\n",
       "      <td>train</td>\n",
       "      <td>3</td>\n",
       "      <td>2 3 3 0 0 7 0 0 0 0 0 0 0 0 0 0 0 0 0 0 0 0 0 ...</td>\n",
       "    </tr>\n",
       "    <tr>\n",
       "      <th>4</th>\n",
       "      <td>train</td>\n",
       "      <td>3</td>\n",
       "      <td>6 14 7 2 1 8 0 0 0 0 0 0 0 0 0 0 0 0 0 0 0 0 0...</td>\n",
       "    </tr>\n",
       "  </tbody>\n",
       "</table>\n",
       "</div>"
      ],
      "text/plain": [
       "   usage  emotion                                          histogram\n",
       "0  train        3  4 3 6 1 1 3 0 0 0 0 0 0 0 0 0 0 0 0 0 0 0 0 0 ...\n",
       "1  train        3  2 8 4 4 0 7 0 0 0 0 0 0 0 0 0 0 0 0 0 0 0 0 0 ...\n",
       "2  train        3  2 9 9 5 2 2 0 0 0 0 0 0 0 0 0 0 0 0 0 0 0 0 0 ...\n",
       "3  train        3  2 3 3 0 0 7 0 0 0 0 0 0 0 0 0 0 0 0 0 0 0 0 0 ...\n",
       "4  train        3  6 14 7 2 1 8 0 0 0 0 0 0 0 0 0 0 0 0 0 0 0 0 0..."
      ]
     },
     "execution_count": 46,
     "metadata": {},
     "output_type": "execute_result"
    }
   ],
   "source": [
    "df_sift = pd.DataFrame(sift_data, columns = ['usage', 'emotion', 'histogram'])\n",
    "df_sift.head()"
   ]
  },
  {
   "cell_type": "code",
   "execution_count": 47,
   "id": "7ab38865",
   "metadata": {},
   "outputs": [
    {
     "name": "stdout",
     "output_type": "stream",
     "text": [
      "<class 'pandas.core.frame.DataFrame'>\n",
      "RangeIndex: 35322 entries, 0 to 35321\n",
      "Data columns (total 3 columns):\n",
      " #   Column     Non-Null Count  Dtype \n",
      "---  ------     --------------  ----- \n",
      " 0   usage      35322 non-null  object\n",
      " 1   emotion    35322 non-null  int64 \n",
      " 2   histogram  35322 non-null  object\n",
      "dtypes: int64(1), object(2)\n",
      "memory usage: 828.0+ KB\n"
     ]
    }
   ],
   "source": [
    "df_sift.info()"
   ]
  },
  {
   "cell_type": "code",
   "execution_count": 48,
   "id": "80d08b29",
   "metadata": {},
   "outputs": [],
   "source": [
    "df_sift.to_csv('../data/sift_data.csv', index=False)"
   ]
  }
 ],
 "metadata": {
  "kernelspec": {
   "display_name": "Python 3 (ipykernel)",
   "language": "python",
   "name": "python3"
  },
  "language_info": {
   "codemirror_mode": {
    "name": "ipython",
    "version": 3
   },
   "file_extension": ".py",
   "mimetype": "text/x-python",
   "name": "python",
   "nbconvert_exporter": "python",
   "pygments_lexer": "ipython3",
   "version": "3.9.12"
  }
 },
 "nbformat": 4,
 "nbformat_minor": 5
}
