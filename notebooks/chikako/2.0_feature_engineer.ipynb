{
 "cells": [
  {
   "cell_type": "code",
   "execution_count": 1,
   "id": "6454a988",
   "metadata": {},
   "outputs": [],
   "source": [
    "import os\n",
    "import math\n",
    "import numpy as np\n",
    "import pandas as pd\n",
    "import seaborn as sns\n",
    "import matplotlib.pyplot as plt\n",
    "\n",
    "import cv2 as cv\n",
    "from sklearn.cluster import MiniBatchKMeans"
   ]
  },
  {
   "cell_type": "markdown",
   "id": "55913c74",
   "metadata": {},
   "source": [
    "# Load data"
   ]
  },
  {
   "cell_type": "code",
   "execution_count": 3,
   "id": "db821e5c",
   "metadata": {},
   "outputs": [],
   "source": [
    "# File data\n",
    "csv = '../../data/fer_file_data.csv'\n",
    "df = pd.read_csv(csv)"
   ]
  },
  {
   "cell_type": "code",
   "execution_count": 4,
   "id": "f554a3e7",
   "metadata": {},
   "outputs": [
    {
     "data": {
      "text/html": [
       "<div>\n",
       "<style scoped>\n",
       "    .dataframe tbody tr th:only-of-type {\n",
       "        vertical-align: middle;\n",
       "    }\n",
       "\n",
       "    .dataframe tbody tr th {\n",
       "        vertical-align: top;\n",
       "    }\n",
       "\n",
       "    .dataframe thead th {\n",
       "        text-align: right;\n",
       "    }\n",
       "</style>\n",
       "<table border=\"1\" class=\"dataframe\">\n",
       "  <thead>\n",
       "    <tr style=\"text-align: right;\">\n",
       "      <th></th>\n",
       "      <th>usage</th>\n",
       "      <th>emotion</th>\n",
       "      <th>file</th>\n",
       "    </tr>\n",
       "  </thead>\n",
       "  <tbody>\n",
       "    <tr>\n",
       "      <th>0</th>\n",
       "      <td>train</td>\n",
       "      <td>3</td>\n",
       "      <td>../data/external/fer2013/train/happy/Training_...</td>\n",
       "    </tr>\n",
       "    <tr>\n",
       "      <th>1</th>\n",
       "      <td>train</td>\n",
       "      <td>3</td>\n",
       "      <td>../data/external/fer2013/train/happy/Training_...</td>\n",
       "    </tr>\n",
       "    <tr>\n",
       "      <th>2</th>\n",
       "      <td>train</td>\n",
       "      <td>3</td>\n",
       "      <td>../data/external/fer2013/train/happy/Training_...</td>\n",
       "    </tr>\n",
       "    <tr>\n",
       "      <th>3</th>\n",
       "      <td>train</td>\n",
       "      <td>3</td>\n",
       "      <td>../data/external/fer2013/train/happy/Training_...</td>\n",
       "    </tr>\n",
       "    <tr>\n",
       "      <th>4</th>\n",
       "      <td>train</td>\n",
       "      <td>3</td>\n",
       "      <td>../data/external/fer2013/train/happy/Training_...</td>\n",
       "    </tr>\n",
       "  </tbody>\n",
       "</table>\n",
       "</div>"
      ],
      "text/plain": [
       "   usage  emotion                                               file\n",
       "0  train        3  ../data/external/fer2013/train/happy/Training_...\n",
       "1  train        3  ../data/external/fer2013/train/happy/Training_...\n",
       "2  train        3  ../data/external/fer2013/train/happy/Training_...\n",
       "3  train        3  ../data/external/fer2013/train/happy/Training_...\n",
       "4  train        3  ../data/external/fer2013/train/happy/Training_..."
      ]
     },
     "execution_count": 4,
     "metadata": {},
     "output_type": "execute_result"
    }
   ],
   "source": [
    "df.head()"
   ]
  },
  {
   "cell_type": "code",
   "execution_count": 579,
   "id": "2245e826",
   "metadata": {},
   "outputs": [],
   "source": [
    "def load_data(df):\n",
    "    image_pixels = []\n",
    "    #image_scaled = []\n",
    "    image_labels = list(df.emotion)\n",
    "    \n",
    "    for index, row in df.iterrows():\n",
    "        image = np.fromstring(row.pixels, dtype=int, sep=' ')\n",
    "        #scale = np.fromstring(row.scaled_pixels, dtype=int, sep=' ')\n",
    "        #image = np.reshape(image, (48, 48))\n",
    "        image_pixels.append(image)\n",
    "        #image_scaled.append(scale)\n",
    "        \n",
    "    return image_pixels, image_labels"
   ]
  },
  {
   "cell_type": "code",
   "execution_count": 581,
   "id": "2b9c6446",
   "metadata": {},
   "outputs": [],
   "source": [
    "data = getFiles('train') + getFiles('test')"
   ]
  },
  {
   "cell_type": "code",
   "execution_count": 582,
   "id": "453ea62c",
   "metadata": {},
   "outputs": [
    {
     "data": {
      "text/html": [
       "<div>\n",
       "<style scoped>\n",
       "    .dataframe tbody tr th:only-of-type {\n",
       "        vertical-align: middle;\n",
       "    }\n",
       "\n",
       "    .dataframe tbody tr th {\n",
       "        vertical-align: top;\n",
       "    }\n",
       "\n",
       "    .dataframe thead th {\n",
       "        text-align: right;\n",
       "    }\n",
       "</style>\n",
       "<table border=\"1\" class=\"dataframe\">\n",
       "  <thead>\n",
       "    <tr style=\"text-align: right;\">\n",
       "      <th></th>\n",
       "      <th>usage</th>\n",
       "      <th>emotion</th>\n",
       "      <th>file</th>\n",
       "    </tr>\n",
       "  </thead>\n",
       "  <tbody>\n",
       "    <tr>\n",
       "      <th>0</th>\n",
       "      <td>train</td>\n",
       "      <td>3</td>\n",
       "      <td>../../data/external/fer2013/train/happy/Traini...</td>\n",
       "    </tr>\n",
       "    <tr>\n",
       "      <th>1</th>\n",
       "      <td>train</td>\n",
       "      <td>3</td>\n",
       "      <td>../../data/external/fer2013/train/happy/Traini...</td>\n",
       "    </tr>\n",
       "    <tr>\n",
       "      <th>2</th>\n",
       "      <td>train</td>\n",
       "      <td>3</td>\n",
       "      <td>../../data/external/fer2013/train/happy/Traini...</td>\n",
       "    </tr>\n",
       "    <tr>\n",
       "      <th>3</th>\n",
       "      <td>train</td>\n",
       "      <td>3</td>\n",
       "      <td>../../data/external/fer2013/train/happy/Traini...</td>\n",
       "    </tr>\n",
       "    <tr>\n",
       "      <th>4</th>\n",
       "      <td>train</td>\n",
       "      <td>3</td>\n",
       "      <td>../../data/external/fer2013/train/happy/Traini...</td>\n",
       "    </tr>\n",
       "  </tbody>\n",
       "</table>\n",
       "</div>"
      ],
      "text/plain": [
       "   usage  emotion                                               file\n",
       "0  train        3  ../../data/external/fer2013/train/happy/Traini...\n",
       "1  train        3  ../../data/external/fer2013/train/happy/Traini...\n",
       "2  train        3  ../../data/external/fer2013/train/happy/Traini...\n",
       "3  train        3  ../../data/external/fer2013/train/happy/Traini...\n",
       "4  train        3  ../../data/external/fer2013/train/happy/Traini..."
      ]
     },
     "execution_count": 582,
     "metadata": {},
     "output_type": "execute_result"
    }
   ],
   "source": [
    "df = pd.DataFrame(data, columns = ['usage', 'emotion', 'file'])\n",
    "df.head()"
   ]
  },
  {
   "cell_type": "code",
   "execution_count": 583,
   "id": "091da128",
   "metadata": {},
   "outputs": [
    {
     "name": "stdout",
     "output_type": "stream",
     "text": [
      "<class 'pandas.core.frame.DataFrame'>\n",
      "RangeIndex: 35887 entries, 0 to 35886\n",
      "Data columns (total 3 columns):\n",
      " #   Column   Non-Null Count  Dtype \n",
      "---  ------   --------------  ----- \n",
      " 0   usage    35887 non-null  object\n",
      " 1   emotion  35887 non-null  int64 \n",
      " 2   file     35887 non-null  object\n",
      "dtypes: int64(1), object(2)\n",
      "memory usage: 841.2+ KB\n"
     ]
    }
   ],
   "source": [
    "df.info()"
   ]
  },
  {
   "cell_type": "code",
   "execution_count": 86,
   "id": "acaa245c",
   "metadata": {},
   "outputs": [
    {
     "data": {
      "text/plain": [
       "7066"
      ]
     },
     "execution_count": 86,
     "metadata": {},
     "output_type": "execute_result"
    }
   ],
   "source": [
    "len(df[df['usage']=='test'])"
   ]
  },
  {
   "cell_type": "code",
   "execution_count": 89,
   "id": "d68ec945",
   "metadata": {},
   "outputs": [],
   "source": [
    "def feature(image):\n",
    "    sift = cv.SIFT_create()\n",
    "    keypoints, descriptors = sift.detectAndCompute(image,None)\n",
    "    return keypoints, descriptors\n",
    "\n",
    "def extractFeatures(crop_list, featureFunc):\n",
    "    descriptors = {}\n",
    "    check = 0\n",
    "    for i in range(0, len(crop_list)):\n",
    "        kp, desc = featureFunc(crop_list[i])\n",
    "        if type(desc) != type(None):\n",
    "            descriptors[i] = desc\n",
    "            check = check + len(kp)\n",
    "        \n",
    "    return descriptors, check\n",
    "\n",
    "# Call function groupAllFeatures\n",
    "def groupAllFeatures(descriptors_hash):\n",
    "    all_descriptors = []\n",
    "    check = 0\n",
    "    for subject, crops in descriptors_hash.items():\n",
    "        for idx, desc in crops.items():\n",
    "            all_descriptors.extend(desc)\n",
    "            check = check + len(desc)\n",
    "            \n",
    "    return all_descriptors, check\n",
    "\n",
    "# Call function trainKMeans\n",
    "k = 7 * 5\n",
    "def trainKMeans(descriptors):\n",
    "    initial_size = 1 * k\n",
    "    batch_size = int(len(descriptors) / 3) \n",
    "    kmeans = MiniBatchKMeans(n_clusters = k,\n",
    "                             batch_size = batch_size,\n",
    "                             init_size = initial_size,\n",
    "                             verbose = 0).fit(descriptors)\n",
    "    \n",
    "    return kmeans\n",
    "\n",
    "# Call function generateHistograms\n",
    "def generateHistograms(descriptors, kmeans_centers):\n",
    "    histograms = []\n",
    "    \n",
    "    for i, desc in descriptors.items(): \n",
    "        preds = kmeans_centers.predict(desc.astype('float'))\n",
    "        hist, bin_edges = np.histogram(a = preds,\n",
    "                                       bins = range(0, k))\n",
    "        histograms.append(hist)\n",
    "    \n",
    "    return histograms\n",
    "\n",
    "\n",
    "def saveDescriptors(filename, feature_vectors):\n",
    "    np.save(filename, feature_vectors)\n",
    "#     joblib.dump(value = feature_vector,\n",
    "#                 filename = '../../data/sift-train.pkl')\n"
   ]
  },
  {
   "cell_type": "code",
   "execution_count": 90,
   "id": "e410115b",
   "metadata": {},
   "outputs": [
    {
     "data": {
      "text/plain": [
       "['angry', 'disgust', 'fear', 'happy', 'neutral', 'sad', 'surprise']"
      ]
     },
     "execution_count": 90,
     "metadata": {},
     "output_type": "execute_result"
    }
   ],
   "source": [
    "dir = '../../data/external/fer2013/test'\n",
    "object = sorted(os.listdir(dir))    \n",
    "object.remove('.DS_Store')\n",
    "object"
   ]
  },
  {
   "cell_type": "code",
   "execution_count": 98,
   "id": "26828fd6",
   "metadata": {},
   "outputs": [],
   "source": [
    "all = {}\n",
    "i, total = 0, len(object)\n",
    "check = 0 \n",
    "l = 0\n",
    "for subject in object:\n",
    "    i += 1\n",
    "\n",
    "    # Read in cropped data\n",
    "    crop_names = os.listdir(os.path.join(dir, subject))\n",
    "    crop_names = list(map(lambda x: os.path.join(dir, subject, x), crop_names)) \n",
    "    crops = [cv.imread(x , cv.IMREAD_GRAYSCALE) for x in crop_names]\n",
    "    l = l + len(crops)\n",
    "\n",
    "    # Get Features\n",
    "    desc, length = extractFeatures(crops, feature)\n",
    "    check = check + length\n",
    "    all[subject] = desc"
   ]
  },
  {
   "cell_type": "code",
   "execution_count": 92,
   "id": "c23c8bd2",
   "metadata": {},
   "outputs": [
    {
     "data": {
      "text/plain": [
       "array([[ 0.,  0.,  2., ..., 46., 16.,  7.],\n",
       "       [ 2.,  1.,  0., ..., 23., 21.,  1.],\n",
       "       [10.,  0.,  0., ..., 11.,  8.,  9.],\n",
       "       ...,\n",
       "       [40.,  0.,  1., ..., 14.,  1., 19.],\n",
       "       [ 5.,  9.,  0., ...,  1.,  5., 23.],\n",
       "       [33.,  0.,  0., ..., 87., 15.,  4.]], dtype=float32)"
      ]
     },
     "execution_count": 92,
     "metadata": {},
     "output_type": "execute_result"
    }
   ],
   "source": [
    "all['angry'][0]"
   ]
  },
  {
   "cell_type": "code",
   "execution_count": 99,
   "id": "f10b95fb",
   "metadata": {},
   "outputs": [
    {
     "data": {
      "text/plain": [
       "7178"
      ]
     },
     "execution_count": 99,
     "metadata": {},
     "output_type": "execute_result"
    }
   ],
   "source": [
    "l"
   ]
  },
  {
   "cell_type": "code",
   "execution_count": 94,
   "id": "7d12ebd6",
   "metadata": {},
   "outputs": [],
   "source": [
    "matrix, length = groupAllFeatures(all)"
   ]
  },
  {
   "cell_type": "code",
   "execution_count": 95,
   "id": "df4a91f2",
   "metadata": {},
   "outputs": [
    {
     "data": {
      "text/plain": [
       "171466"
      ]
     },
     "execution_count": 95,
     "metadata": {},
     "output_type": "execute_result"
    }
   ],
   "source": [
    "length"
   ]
  },
  {
   "cell_type": "code",
   "execution_count": 96,
   "id": "e6642cd3",
   "metadata": {},
   "outputs": [
    {
     "data": {
      "text/plain": [
       "7065"
      ]
     },
     "execution_count": 96,
     "metadata": {},
     "output_type": "execute_result"
    }
   ],
   "source": [
    "len(all['angry']) + len(all['sad']) + len(all['happy']) + len(all['neutral']) + len(all['surprise']) + len(all['fear'])"
   ]
  },
  {
   "cell_type": "code",
   "execution_count": 100,
   "id": "de05dd37",
   "metadata": {},
   "outputs": [
    {
     "data": {
      "text/plain": [
       "7"
      ]
     },
     "execution_count": 100,
     "metadata": {},
     "output_type": "execute_result"
    }
   ],
   "source": []
  },
  {
   "cell_type": "code",
   "execution_count": 43,
   "id": "43e55950",
   "metadata": {},
   "outputs": [],
   "source": [
    "kmeans = trainKMeans(matrix)"
   ]
  },
  {
   "cell_type": "code",
   "execution_count": 205,
   "id": "c24fe506",
   "metadata": {},
   "outputs": [
    {
     "data": {
      "text/plain": [
       "numpy.ndarray"
      ]
     },
     "execution_count": 205,
     "metadata": {},
     "output_type": "execute_result"
    }
   ],
   "source": [
    "type(all['angry'][0])"
   ]
  },
  {
   "cell_type": "code",
   "execution_count": 411,
   "id": "753dd345",
   "metadata": {},
   "outputs": [
    {
     "data": {
      "text/plain": [
       "171466"
      ]
     },
     "execution_count": 411,
     "metadata": {},
     "output_type": "execute_result"
    }
   ],
   "source": [
    "len(matrix)"
   ]
  },
  {
   "cell_type": "code",
   "execution_count": 44,
   "id": "f3615ad9",
   "metadata": {},
   "outputs": [],
   "source": [
    "i, total = 0, len(object)\n",
    "X = []\n",
    "y = []\n",
    "for subject in object:\n",
    "    i += 1\n",
    "\n",
    "    # Get Features\n",
    "    histograms = generateHistograms(all[subject], kmeans)\n",
    "    X.extend(histograms)\n",
    "    y.extend([subject] * len(histograms))\n"
   ]
  },
  {
   "cell_type": "code",
   "execution_count": 45,
   "id": "d622fdee",
   "metadata": {},
   "outputs": [
    {
     "data": {
      "text/plain": [
       "(7176, 34)"
      ]
     },
     "execution_count": 45,
     "metadata": {},
     "output_type": "execute_result"
    }
   ],
   "source": [
    "np.array(X).shape"
   ]
  },
  {
   "cell_type": "code",
   "execution_count": 46,
   "id": "1373f811",
   "metadata": {},
   "outputs": [
    {
     "data": {
      "text/plain": [
       "(7176,)"
      ]
     },
     "execution_count": 46,
     "metadata": {},
     "output_type": "execute_result"
    }
   ],
   "source": [
    "np.array(y).shape"
   ]
  },
  {
   "cell_type": "code",
   "execution_count": 290,
   "id": "2ffe62e3",
   "metadata": {},
   "outputs": [
    {
     "data": {
      "text/plain": [
       "7176"
      ]
     },
     "execution_count": 290,
     "metadata": {},
     "output_type": "execute_result"
    }
   ],
   "source": [
    "len(y)"
   ]
  },
  {
   "cell_type": "code",
   "execution_count": 88,
   "id": "fcfcee85",
   "metadata": {},
   "outputs": [
    {
     "data": {
      "text/plain": [
       "831"
      ]
     },
     "execution_count": 88,
     "metadata": {},
     "output_type": "execute_result"
    }
   ],
   "source": [
    "len(all[subject])"
   ]
  },
  {
   "cell_type": "code",
   "execution_count": 336,
   "id": "0372bae4",
   "metadata": {},
   "outputs": [],
   "source": [
    "new_df = pd.DataFrame(zip(X, y), columns = ['histogram', 'emotion'])"
   ]
  },
  {
   "cell_type": "code",
   "execution_count": 337,
   "id": "1474c4fe",
   "metadata": {},
   "outputs": [
    {
     "data": {
      "text/html": [
       "<div>\n",
       "<style scoped>\n",
       "    .dataframe tbody tr th:only-of-type {\n",
       "        vertical-align: middle;\n",
       "    }\n",
       "\n",
       "    .dataframe tbody tr th {\n",
       "        vertical-align: top;\n",
       "    }\n",
       "\n",
       "    .dataframe thead th {\n",
       "        text-align: right;\n",
       "    }\n",
       "</style>\n",
       "<table border=\"1\" class=\"dataframe\">\n",
       "  <thead>\n",
       "    <tr style=\"text-align: right;\">\n",
       "      <th></th>\n",
       "      <th>histogram</th>\n",
       "      <th>emotion</th>\n",
       "    </tr>\n",
       "  </thead>\n",
       "  <tbody>\n",
       "    <tr>\n",
       "      <th>0</th>\n",
       "      <td>[0, 0, 1, 4, 0, 1, 1, 0, 0, 2, 0, 0, 0, 0, 0, ...</td>\n",
       "      <td>angry</td>\n",
       "    </tr>\n",
       "    <tr>\n",
       "      <th>1</th>\n",
       "      <td>[0, 0, 0, 0, 1, 0, 1, 2, 1, 0, 0, 0, 1, 0, 0, ...</td>\n",
       "      <td>angry</td>\n",
       "    </tr>\n",
       "    <tr>\n",
       "      <th>2</th>\n",
       "      <td>[0, 0, 0, 3, 1, 0, 0, 1, 1, 1, 0, 0, 0, 0, 0, ...</td>\n",
       "      <td>angry</td>\n",
       "    </tr>\n",
       "    <tr>\n",
       "      <th>3</th>\n",
       "      <td>[0, 1, 1, 0, 1, 0, 0, 1, 1, 2, 1, 0, 1, 1, 1, ...</td>\n",
       "      <td>angry</td>\n",
       "    </tr>\n",
       "    <tr>\n",
       "      <th>4</th>\n",
       "      <td>[1, 0, 2, 2, 0, 0, 2, 1, 0, 1, 0, 0, 1, 1, 2, ...</td>\n",
       "      <td>angry</td>\n",
       "    </tr>\n",
       "    <tr>\n",
       "      <th>...</th>\n",
       "      <td>...</td>\n",
       "      <td>...</td>\n",
       "    </tr>\n",
       "    <tr>\n",
       "      <th>7171</th>\n",
       "      <td>[0, 0, 2, 0, 0, 0, 2, 1, 0, 0, 0, 1, 2, 0, 2, ...</td>\n",
       "      <td>surprise</td>\n",
       "    </tr>\n",
       "    <tr>\n",
       "      <th>7172</th>\n",
       "      <td>[0, 0, 3, 0, 2, 1, 3, 0, 1, 3, 0, 0, 2, 0, 1, ...</td>\n",
       "      <td>surprise</td>\n",
       "    </tr>\n",
       "    <tr>\n",
       "      <th>7173</th>\n",
       "      <td>[0, 1, 4, 0, 0, 0, 2, 0, 1, 0, 0, 0, 2, 1, 1, ...</td>\n",
       "      <td>surprise</td>\n",
       "    </tr>\n",
       "    <tr>\n",
       "      <th>7174</th>\n",
       "      <td>[1, 0, 0, 0, 2, 0, 0, 2, 0, 3, 0, 0, 0, 0, 0, ...</td>\n",
       "      <td>surprise</td>\n",
       "    </tr>\n",
       "    <tr>\n",
       "      <th>7175</th>\n",
       "      <td>[1, 1, 2, 2, 0, 0, 1, 2, 1, 2, 2, 0, 2, 0, 0, ...</td>\n",
       "      <td>surprise</td>\n",
       "    </tr>\n",
       "  </tbody>\n",
       "</table>\n",
       "<p>7176 rows × 2 columns</p>\n",
       "</div>"
      ],
      "text/plain": [
       "                                              histogram   emotion\n",
       "0     [0, 0, 1, 4, 0, 1, 1, 0, 0, 2, 0, 0, 0, 0, 0, ...     angry\n",
       "1     [0, 0, 0, 0, 1, 0, 1, 2, 1, 0, 0, 0, 1, 0, 0, ...     angry\n",
       "2     [0, 0, 0, 3, 1, 0, 0, 1, 1, 1, 0, 0, 0, 0, 0, ...     angry\n",
       "3     [0, 1, 1, 0, 1, 0, 0, 1, 1, 2, 1, 0, 1, 1, 1, ...     angry\n",
       "4     [1, 0, 2, 2, 0, 0, 2, 1, 0, 1, 0, 0, 1, 1, 2, ...     angry\n",
       "...                                                 ...       ...\n",
       "7171  [0, 0, 2, 0, 0, 0, 2, 1, 0, 0, 0, 1, 2, 0, 2, ...  surprise\n",
       "7172  [0, 0, 3, 0, 2, 1, 3, 0, 1, 3, 0, 0, 2, 0, 1, ...  surprise\n",
       "7173  [0, 1, 4, 0, 0, 0, 2, 0, 1, 0, 0, 0, 2, 1, 1, ...  surprise\n",
       "7174  [1, 0, 0, 0, 2, 0, 0, 2, 0, 3, 0, 0, 0, 0, 0, ...  surprise\n",
       "7175  [1, 1, 2, 2, 0, 0, 1, 2, 1, 2, 2, 0, 2, 0, 0, ...  surprise\n",
       "\n",
       "[7176 rows x 2 columns]"
      ]
     },
     "execution_count": 337,
     "metadata": {},
     "output_type": "execute_result"
    }
   ],
   "source": [
    "new_df"
   ]
  },
  {
   "cell_type": "code",
   "execution_count": 338,
   "id": "c2762305",
   "metadata": {},
   "outputs": [
    {
     "data": {
      "text/plain": [
       "numpy.ndarray"
      ]
     },
     "execution_count": 338,
     "metadata": {},
     "output_type": "execute_result"
    }
   ],
   "source": [
    "type(new_df.histogram[0])"
   ]
  },
  {
   "cell_type": "code",
   "execution_count": 339,
   "id": "4a09ac7e",
   "metadata": {},
   "outputs": [],
   "source": [
    "new_df.to_csv('../../data/sift-train.csv', index=False)"
   ]
  },
  {
   "cell_type": "code",
   "execution_count": 340,
   "id": "97b778fb",
   "metadata": {},
   "outputs": [
    {
     "data": {
      "text/html": [
       "<div>\n",
       "<style scoped>\n",
       "    .dataframe tbody tr th:only-of-type {\n",
       "        vertical-align: middle;\n",
       "    }\n",
       "\n",
       "    .dataframe tbody tr th {\n",
       "        vertical-align: top;\n",
       "    }\n",
       "\n",
       "    .dataframe thead th {\n",
       "        text-align: right;\n",
       "    }\n",
       "</style>\n",
       "<table border=\"1\" class=\"dataframe\">\n",
       "  <thead>\n",
       "    <tr style=\"text-align: right;\">\n",
       "      <th></th>\n",
       "      <th>histogram</th>\n",
       "      <th>emotion</th>\n",
       "    </tr>\n",
       "  </thead>\n",
       "  <tbody>\n",
       "    <tr>\n",
       "      <th>0</th>\n",
       "      <td>[0 0 1 4 0 1 1 0 0 2 0 0 0 0 0 1 0 0 1 1 0 0 1...</td>\n",
       "      <td>angry</td>\n",
       "    </tr>\n",
       "    <tr>\n",
       "      <th>1</th>\n",
       "      <td>[0 0 0 0 1 0 1 2 1 0 0 0 1 0 0 2 0 0 1 0 1 1 0...</td>\n",
       "      <td>angry</td>\n",
       "    </tr>\n",
       "    <tr>\n",
       "      <th>2</th>\n",
       "      <td>[0 0 0 3 1 0 0 1 1 1 0 0 0 0 0 1 1 0 1 1 0 1 0...</td>\n",
       "      <td>angry</td>\n",
       "    </tr>\n",
       "    <tr>\n",
       "      <th>3</th>\n",
       "      <td>[0 1 1 0 1 0 0 1 1 2 1 0 1 1 1 1 5 0 2 4 1 0 0...</td>\n",
       "      <td>angry</td>\n",
       "    </tr>\n",
       "    <tr>\n",
       "      <th>4</th>\n",
       "      <td>[1 0 2 2 0 0 2 1 0 1 0 0 1 1 2 2 1 0 1 0 0 1 1...</td>\n",
       "      <td>angry</td>\n",
       "    </tr>\n",
       "  </tbody>\n",
       "</table>\n",
       "</div>"
      ],
      "text/plain": [
       "                                           histogram emotion\n",
       "0  [0 0 1 4 0 1 1 0 0 2 0 0 0 0 0 1 0 0 1 1 0 0 1...   angry\n",
       "1  [0 0 0 0 1 0 1 2 1 0 0 0 1 0 0 2 0 0 1 0 1 1 0...   angry\n",
       "2  [0 0 0 3 1 0 0 1 1 1 0 0 0 0 0 1 1 0 1 1 0 1 0...   angry\n",
       "3  [0 1 1 0 1 0 0 1 1 2 1 0 1 1 1 1 5 0 2 4 1 0 0...   angry\n",
       "4  [1 0 2 2 0 0 2 1 0 1 0 0 1 1 2 2 1 0 1 0 0 1 1...   angry"
      ]
     },
     "execution_count": 340,
     "metadata": {},
     "output_type": "execute_result"
    }
   ],
   "source": [
    "hist = pd.read_csv('../../data/sift-train.csv')\n",
    "hist.head()"
   ]
  },
  {
   "cell_type": "code",
   "execution_count": 341,
   "id": "ed9745e6",
   "metadata": {},
   "outputs": [
    {
     "data": {
      "text/plain": [
       "str"
      ]
     },
     "execution_count": 341,
     "metadata": {},
     "output_type": "execute_result"
    }
   ],
   "source": [
    "type(hist.histogram[0])"
   ]
  },
  {
   "cell_type": "code",
   "execution_count": 334,
   "id": "c3e322c7",
   "metadata": {},
   "outputs": [
    {
     "name": "stderr",
     "output_type": "stream",
     "text": [
      "/var/folders/yd/vkjb_lqj2_30lnyhzhjqtg9w0000gp/T/ipykernel_21501/122645137.py:1: DeprecationWarning: string or file could not be read to its end due to unmatched data; this will raise a ValueError in the future.\n",
      "  test = np.fromstring(hist.histogram[0], dtype=int, sep=' ')\n"
     ]
    },
    {
     "data": {
      "text/plain": [
       "array([], dtype=int64)"
      ]
     },
     "execution_count": 334,
     "metadata": {},
     "output_type": "execute_result"
    }
   ],
   "source": [
    "test = np.fromstring(hist.histogram[0], dtype=int, sep=' ')\n",
    "test"
   ]
  },
  {
   "cell_type": "code",
   "execution_count": 269,
   "id": "e3cd2f3a",
   "metadata": {},
   "outputs": [],
   "source": [
    "file = '../../data/sift-train.npy'\n",
    "saveDescriptors(file, list(res))"
   ]
  },
  {
   "cell_type": "code",
   "execution_count": 270,
   "id": "4800c897",
   "metadata": {},
   "outputs": [],
   "source": [
    "file = '../../data/sift-train.npy'\n",
    "arr = np.load(file)"
   ]
  },
  {
   "cell_type": "code",
   "execution_count": 271,
   "id": "fffd7878",
   "metadata": {},
   "outputs": [
    {
     "data": {
      "text/plain": [
       "array([], dtype=float64)"
      ]
     },
     "execution_count": 271,
     "metadata": {},
     "output_type": "execute_result"
    }
   ],
   "source": [
    "arr"
   ]
  },
  {
   "cell_type": "markdown",
   "id": "fa413472",
   "metadata": {},
   "source": [
    "# Feature Transformation"
   ]
  },
  {
   "cell_type": "code",
   "execution_count": 105,
   "id": "b08cc728",
   "metadata": {},
   "outputs": [],
   "source": [
    "def sift(file):\n",
    "    image = cv.imread(file)\n",
    "    gray = cv.cvtColor(image, cv.COLOR_BGR2GRAY)\n",
    "    sift = cv.SIFT_create()\n",
    "    keypoints, descriptors = sift.detectAndCompute(gray,None)\n",
    "    \n",
    "    return keypoints, descriptors\n",
    "   \n",
    "\n",
    "def extractFeatures(df):\n",
    "    descriptors = []\n",
    "    emotions = []\n",
    "    for index, row in df.iterrows():\n",
    "        kp, desc = sift('../'+row.file)\n",
    "        if type(desc) != type(None):\n",
    "            descriptors.append(desc)\n",
    "            emotions.append(row.emotion)\n",
    "            \n",
    "    return descriptors, emotions\n",
    "\n",
    "\n",
    "def flatFeatures(descriptors):\n",
    "    all_descriptors = []\n",
    "    for i in range(len(descriptors)):\n",
    "        all_descriptors.extend(descriptors[i])\n",
    "            \n",
    "    return all_descriptors\n",
    "        \n",
    "        \n",
    "def kMeans(k, all_descriptors):\n",
    "    batch_size = int(len(all_descriptors) / 3) \n",
    "    kmeans = MiniBatchKMeans(n_clusters = k,\n",
    "                             batch_size = batch_size,\n",
    "                             init_size = None)\n",
    "    kmeans.fit(all_descriptors)\n",
    "    \n",
    "    return kmeans\n",
    "        \n",
    "        \n",
    "def histograms(k, all_descriptors, descriptors):\n",
    "    histograms = []\n",
    "    kmeans = kMeans(k, all_descriptors)\n",
    "    \n",
    "    for i in range(len(descriptors)):\n",
    "        preds = kmeans.predict(descriptors[i].astype('float'))\n",
    "        hist, bin_edges = np.histogram(a = preds, bins = range(0, k))\n",
    "        histograms.append(hist)\n",
    "    \n",
    "    return histograms\n",
    "\n",
    "\n",
    "def saveHistograms(usage, histograms):\n",
    "    sift_data = []\n",
    "    for i in range(len(histograms)):\n",
    "        vectors = ' '.join(str(x) for x in histograms[i])\n",
    "        sift_data.append([usage, emotions[i], vectors])"
   ]
  },
  {
   "cell_type": "code",
   "execution_count": 106,
   "id": "e075d74c",
   "metadata": {},
   "outputs": [],
   "source": [
    "descriptors, emotions = extractFeatures(df[df['usage']=='test'])"
   ]
  },
  {
   "cell_type": "code",
   "execution_count": 107,
   "id": "28b9496b",
   "metadata": {},
   "outputs": [],
   "source": [
    "descriptors_flat = flatFeatures(descriptors)"
   ]
  },
  {
   "cell_type": "code",
   "execution_count": 108,
   "id": "08f5e7b7",
   "metadata": {},
   "outputs": [
    {
     "data": {
      "text/plain": [
       "7065"
      ]
     },
     "execution_count": 108,
     "metadata": {},
     "output_type": "execute_result"
    }
   ],
   "source": [
    "len(descriptors)"
   ]
  },
  {
   "cell_type": "code",
   "execution_count": 109,
   "id": "9c703874",
   "metadata": {},
   "outputs": [
    {
     "data": {
      "text/plain": [
       "7065"
      ]
     },
     "execution_count": 109,
     "metadata": {},
     "output_type": "execute_result"
    }
   ],
   "source": [
    "len(emotions)"
   ]
  },
  {
   "cell_type": "code",
   "execution_count": 110,
   "id": "acab447d",
   "metadata": {},
   "outputs": [],
   "source": [
    "k = len(df.emotion.unique()) * 5\n",
    "hist = histograms(k, descriptors_flat, descriptors)"
   ]
  },
  {
   "cell_type": "code",
   "execution_count": 111,
   "id": "257bf320",
   "metadata": {},
   "outputs": [
    {
     "data": {
      "text/plain": [
       "(7065, 29)"
      ]
     },
     "execution_count": 111,
     "metadata": {},
     "output_type": "execute_result"
    }
   ],
   "source": [
    "np.array(hist).shape"
   ]
  },
  {
   "cell_type": "code",
   "execution_count": 123,
   "id": "489c9d20",
   "metadata": {},
   "outputs": [
    {
     "data": {
      "text/plain": [
       "array([3, 0, 0, 0, 2, 0, 0, 0, 0, 1, 2, 2, 0, 0, 1, 0, 0, 2, 4, 0, 0, 0,\n",
       "       0, 0, 3, 1, 0, 2, 0])"
      ]
     },
     "execution_count": 123,
     "metadata": {},
     "output_type": "execute_result"
    }
   ],
   "source": [
    "hist[0]"
   ]
  },
  {
   "cell_type": "markdown",
   "id": "ec83af5f",
   "metadata": {},
   "source": [
    "# Export to CSV"
   ]
  },
  {
   "cell_type": "code",
   "execution_count": 124,
   "id": "52b0e3be",
   "metadata": {},
   "outputs": [],
   "source": [
    "sift_data = []\n",
    "for i in range(len(hist)):\n",
    "    vectors = ' '.join(str(x) for x in hist[i])\n",
    "    sift_data.append([emotions[i], vectors])"
   ]
  },
  {
   "cell_type": "code",
   "execution_count": 125,
   "id": "17d4e095",
   "metadata": {},
   "outputs": [
    {
     "data": {
      "text/html": [
       "<div>\n",
       "<style scoped>\n",
       "    .dataframe tbody tr th:only-of-type {\n",
       "        vertical-align: middle;\n",
       "    }\n",
       "\n",
       "    .dataframe tbody tr th {\n",
       "        vertical-align: top;\n",
       "    }\n",
       "\n",
       "    .dataframe thead th {\n",
       "        text-align: right;\n",
       "    }\n",
       "</style>\n",
       "<table border=\"1\" class=\"dataframe\">\n",
       "  <thead>\n",
       "    <tr style=\"text-align: right;\">\n",
       "      <th></th>\n",
       "      <th>emotion</th>\n",
       "      <th>histogram</th>\n",
       "    </tr>\n",
       "  </thead>\n",
       "  <tbody>\n",
       "    <tr>\n",
       "      <th>0</th>\n",
       "      <td>3</td>\n",
       "      <td>3 0 0 0 2 0 0 0 0 1 2 2 0 0 1 0 0 2 4 0 0 0 0 ...</td>\n",
       "    </tr>\n",
       "    <tr>\n",
       "      <th>1</th>\n",
       "      <td>3</td>\n",
       "      <td>0 0 0 1 1 0 0 0 0 0 2 0 2 0 1 1 0 0 0 1 0 1 0 ...</td>\n",
       "    </tr>\n",
       "    <tr>\n",
       "      <th>2</th>\n",
       "      <td>3</td>\n",
       "      <td>2 1 0 0 2 0 0 1 1 0 1 0 0 1 0 0 1 0 0 1 3 0 0 ...</td>\n",
       "    </tr>\n",
       "    <tr>\n",
       "      <th>3</th>\n",
       "      <td>3</td>\n",
       "      <td>0 0 1 1 0 0 1 1 0 0 1 1 0 1 2 0 0 0 0 1 0 0 0 ...</td>\n",
       "    </tr>\n",
       "    <tr>\n",
       "      <th>4</th>\n",
       "      <td>3</td>\n",
       "      <td>2 0 0 2 1 0 0 1 0 0 0 0 0 0 1 0 2 0 3 0 1 0 0 ...</td>\n",
       "    </tr>\n",
       "  </tbody>\n",
       "</table>\n",
       "</div>"
      ],
      "text/plain": [
       "   emotion                                          histogram\n",
       "0        3  3 0 0 0 2 0 0 0 0 1 2 2 0 0 1 0 0 2 4 0 0 0 0 ...\n",
       "1        3  0 0 0 1 1 0 0 0 0 0 2 0 2 0 1 1 0 0 0 1 0 1 0 ...\n",
       "2        3  2 1 0 0 2 0 0 1 1 0 1 0 0 1 0 0 1 0 0 1 3 0 0 ...\n",
       "3        3  0 0 1 1 0 0 1 1 0 0 1 1 0 1 2 0 0 0 0 1 0 0 0 ...\n",
       "4        3  2 0 0 2 1 0 0 1 0 0 0 0 0 0 1 0 2 0 3 0 1 0 0 ..."
      ]
     },
     "execution_count": 125,
     "metadata": {},
     "output_type": "execute_result"
    }
   ],
   "source": [
    "df_sift = pd.DataFrame(sift_data, columns = ['usage', 'emotion', 'histogram'])\n",
    "df_sift.head()"
   ]
  },
  {
   "cell_type": "code",
   "execution_count": 115,
   "id": "80d08b29",
   "metadata": {},
   "outputs": [],
   "source": [
    "df_sift.to_csv('../../data/sift.csv', index=False)"
   ]
  },
  {
   "cell_type": "code",
   "execution_count": 116,
   "id": "c5185d5d",
   "metadata": {},
   "outputs": [
    {
     "data": {
      "text/html": [
       "<div>\n",
       "<style scoped>\n",
       "    .dataframe tbody tr th:only-of-type {\n",
       "        vertical-align: middle;\n",
       "    }\n",
       "\n",
       "    .dataframe tbody tr th {\n",
       "        vertical-align: top;\n",
       "    }\n",
       "\n",
       "    .dataframe thead th {\n",
       "        text-align: right;\n",
       "    }\n",
       "</style>\n",
       "<table border=\"1\" class=\"dataframe\">\n",
       "  <thead>\n",
       "    <tr style=\"text-align: right;\">\n",
       "      <th></th>\n",
       "      <th>usage</th>\n",
       "      <th>emotion</th>\n",
       "      <th>pixels</th>\n",
       "    </tr>\n",
       "  </thead>\n",
       "  <tbody>\n",
       "    <tr>\n",
       "      <th>0</th>\n",
       "      <td>train</td>\n",
       "      <td>3</td>\n",
       "      <td>108 83 63 65 89 111 121 121 125 111 103 105 11...</td>\n",
       "    </tr>\n",
       "    <tr>\n",
       "      <th>1</th>\n",
       "      <td>train</td>\n",
       "      <td>3</td>\n",
       "      <td>137 142 159 162 158 134 113 167 174 177 164 12...</td>\n",
       "    </tr>\n",
       "    <tr>\n",
       "      <th>2</th>\n",
       "      <td>train</td>\n",
       "      <td>3</td>\n",
       "      <td>111 148 155 167 181 191 194 193 195 199 203 20...</td>\n",
       "    </tr>\n",
       "    <tr>\n",
       "      <th>3</th>\n",
       "      <td>train</td>\n",
       "      <td>3</td>\n",
       "      <td>151 156 121 100 80 116 151 169 183 185 192 190...</td>\n",
       "    </tr>\n",
       "    <tr>\n",
       "      <th>4</th>\n",
       "      <td>train</td>\n",
       "      <td>3</td>\n",
       "      <td>248 187 149 130 97 140 139 117 197 251 231 255...</td>\n",
       "    </tr>\n",
       "  </tbody>\n",
       "</table>\n",
       "</div>"
      ],
      "text/plain": [
       "   usage  emotion                                             pixels\n",
       "0  train        3  108 83 63 65 89 111 121 121 125 111 103 105 11...\n",
       "1  train        3  137 142 159 162 158 134 113 167 174 177 164 12...\n",
       "2  train        3  111 148 155 167 181 191 194 193 195 199 203 20...\n",
       "3  train        3  151 156 121 100 80 116 151 169 183 185 192 190...\n",
       "4  train        3  248 187 149 130 97 140 139 117 197 251 231 255..."
      ]
     },
     "execution_count": 116,
     "metadata": {},
     "output_type": "execute_result"
    }
   ],
   "source": [
    "df_data.head()"
   ]
  },
  {
   "cell_type": "code",
   "execution_count": 83,
   "id": "fbcdc05b",
   "metadata": {},
   "outputs": [
    {
     "data": {
      "text/plain": [
       "(7066,)"
      ]
     },
     "execution_count": 83,
     "metadata": {},
     "output_type": "execute_result"
    }
   ],
   "source": [
    "y.shape"
   ]
  },
  {
   "cell_type": "markdown",
   "id": "03b326c0",
   "metadata": {},
   "source": [
    "# Play ground"
   ]
  },
  {
   "cell_type": "code",
   "execution_count": 498,
   "id": "09523bb0",
   "metadata": {},
   "outputs": [],
   "source": [
    "file = '../../data/external/fer2013/train/happy/Training_1206.jpg'"
   ]
  },
  {
   "cell_type": "code",
   "execution_count": 499,
   "id": "b202eba8",
   "metadata": {},
   "outputs": [],
   "source": [
    "img = cv.imread(file)\n",
    "gray= cv.cvtColor(img,cv.COLOR_BGR2GRAY)\n",
    "sift = cv.SIFT_create()\n",
    "kp = sift.detect(gray,None)\n",
    "img=cv.drawKeypoints(gray,kp,img)"
   ]
  },
  {
   "cell_type": "code",
   "execution_count": 501,
   "id": "6db31240",
   "metadata": {},
   "outputs": [
    {
     "data": {
      "text/plain": [
       "(48, 48)"
      ]
     },
     "execution_count": 501,
     "metadata": {},
     "output_type": "execute_result"
    }
   ],
   "source": [
    "gray.shape"
   ]
  },
  {
   "cell_type": "code",
   "execution_count": 28,
   "id": "7a61aa66",
   "metadata": {},
   "outputs": [],
   "source": [
    "sift = cv.SIFT_create()\n",
    "keypoint, descriptors = sift.detectAndCompute(gray,None)"
   ]
  },
  {
   "cell_type": "code",
   "execution_count": 29,
   "id": "c82089b6",
   "metadata": {},
   "outputs": [
    {
     "data": {
      "text/plain": [
       "(21, 128)"
      ]
     },
     "execution_count": 29,
     "metadata": {},
     "output_type": "execute_result"
    }
   ],
   "source": [
    "descriptors.shape"
   ]
  },
  {
   "cell_type": "code",
   "execution_count": 21,
   "id": "65871aef",
   "metadata": {},
   "outputs": [
    {
     "data": {
      "text/plain": [
       "1000"
      ]
     },
     "execution_count": 21,
     "metadata": {},
     "output_type": "execute_result"
    }
   ],
   "source": [
    "k = len(df_test)"
   ]
  },
  {
   "cell_type": "code",
   "execution_count": 30,
   "id": "318a7d8c",
   "metadata": {},
   "outputs": [
    {
     "data": {
      "text/plain": [
       "21"
      ]
     },
     "execution_count": 30,
     "metadata": {},
     "output_type": "execute_result"
    }
   ],
   "source": [
    "len(descriptors)"
   ]
  },
  {
   "cell_type": "code",
   "execution_count": 31,
   "id": "d77d9d61",
   "metadata": {},
   "outputs": [],
   "source": [
    "# Kmeans\n",
    "k = 1 * 5\n",
    "#initial_size = 1 * globals.K\n",
    "batch_size = int(len(descriptors) / 3) \n",
    "kmeans = MiniBatchKMeans(n_clusters = k,\n",
    "                         batch_size = batch_size,\n",
    "                         init_size = None)\n",
    "kmeans.fit(descriptors)"
   ]
  },
  {
   "cell_type": "code",
   "execution_count": 32,
   "id": "3911fee8",
   "metadata": {},
   "outputs": [
    {
     "data": {
      "text/plain": [
       "MiniBatchKMeans(batch_size=7, n_clusters=5)"
      ]
     },
     "execution_count": 32,
     "metadata": {},
     "output_type": "execute_result"
    }
   ],
   "source": [
    "kmeans"
   ]
  },
  {
   "cell_type": "code",
   "execution_count": 46,
   "id": "8a0ebde0",
   "metadata": {},
   "outputs": [],
   "source": [
    "# Histogram\n",
    "histograms = []\n",
    "\n",
    "#for i in range(len(descriptors)): \n",
    "preds = kmeans.predict(descriptors)\n",
    "hist, bin_edges = np.histogram(a = preds,\n",
    "                               bins = range(0, k))\n",
    "histograms.append(hist)"
   ]
  },
  {
   "cell_type": "code",
   "execution_count": 66,
   "id": "0f84a2c0",
   "metadata": {},
   "outputs": [
    {
     "data": {
      "text/plain": [
       "array([0, 1, 2, 3, 4])"
      ]
     },
     "execution_count": 66,
     "metadata": {},
     "output_type": "execute_result"
    }
   ],
   "source": [
    "bin_edges"
   ]
  },
  {
   "cell_type": "code",
   "execution_count": 62,
   "id": "ac8338a3",
   "metadata": {},
   "outputs": [
    {
     "data": {
      "text/plain": [
       "array([1, 1, 1, 1, 1, 1, 1, 2, 3, 1, 3, 3, 1, 1, 1, 0, 2, 4, 3, 1, 1],\n",
       "      dtype=int32)"
      ]
     },
     "execution_count": 62,
     "metadata": {},
     "output_type": "execute_result"
    }
   ],
   "source": [
    "preds"
   ]
  },
  {
   "cell_type": "code",
   "execution_count": 69,
   "id": "468f1c48",
   "metadata": {},
   "outputs": [
    {
     "data": {
      "text/plain": [
       "[array([ 1, 13,  2,  5])]"
      ]
     },
     "execution_count": 69,
     "metadata": {},
     "output_type": "execute_result"
    }
   ],
   "source": [
    "histograms"
   ]
  },
  {
   "cell_type": "code",
   "execution_count": 58,
   "id": "3963f644",
   "metadata": {},
   "outputs": [
    {
     "data": {
      "text/plain": [
       "(2000,)"
      ]
     },
     "execution_count": 58,
     "metadata": {},
     "output_type": "execute_result"
    }
   ],
   "source": [
    "a.shape"
   ]
  },
  {
   "cell_type": "code",
   "execution_count": 72,
   "id": "9ca48e4c",
   "metadata": {},
   "outputs": [
    {
     "data": {
      "image/png": "[encoded data removed]",
      "text/plain": [
       "<Figure size 432x288 with 1 Axes>"
      ]
     },
     "metadata": {
      "needs_background": "light"
     },
     "output_type": "display_data"
    }
   ],
   "source": [
    "plt.hist(preds, bins = range(0, k)) \n",
    "plt.show()"
   ]
  },
  {
   "cell_type": "code",
   "execution_count": 3,
   "id": "bdee0cc9",
   "metadata": {},
   "outputs": [
    {
     "name": "stdout",
     "output_type": "stream",
     "text": [
      "(7177, 2305)\n"
     ]
    },
    {
     "data": {
      "text/html": [
       "<div>\n",
       "<style scoped>\n",
       "    .dataframe tbody tr th:only-of-type {\n",
       "        vertical-align: middle;\n",
       "    }\n",
       "\n",
       "    .dataframe tbody tr th {\n",
       "        vertical-align: top;\n",
       "    }\n",
       "\n",
       "    .dataframe thead th {\n",
       "        text-align: right;\n",
       "    }\n",
       "</style>\n",
       "<table border=\"1\" class=\"dataframe\">\n",
       "  <thead>\n",
       "    <tr style=\"text-align: right;\">\n",
       "      <th></th>\n",
       "      <th>feature 0</th>\n",
       "      <th>feature 1</th>\n",
       "      <th>feature 2</th>\n",
       "      <th>feature 3</th>\n",
       "      <th>feature 4</th>\n",
       "      <th>feature 5</th>\n",
       "      <th>feature 6</th>\n",
       "      <th>feature 7</th>\n",
       "      <th>feature 8</th>\n",
       "      <th>feature 9</th>\n",
       "      <th>...</th>\n",
       "      <th>feature 2295</th>\n",
       "      <th>feature 2296</th>\n",
       "      <th>feature 2297</th>\n",
       "      <th>feature 2298</th>\n",
       "      <th>feature 2299</th>\n",
       "      <th>feature 2300</th>\n",
       "      <th>feature 2301</th>\n",
       "      <th>feature 2302</th>\n",
       "      <th>feature 2303</th>\n",
       "      <th>emotion</th>\n",
       "    </tr>\n",
       "  </thead>\n",
       "  <tbody>\n",
       "    <tr>\n",
       "      <th>0</th>\n",
       "      <td>5</td>\n",
       "      <td>4</td>\n",
       "      <td>5</td>\n",
       "      <td>9</td>\n",
       "      <td>10</td>\n",
       "      <td>9</td>\n",
       "      <td>10</td>\n",
       "      <td>12</td>\n",
       "      <td>8</td>\n",
       "      <td>14</td>\n",
       "      <td>...</td>\n",
       "      <td>9</td>\n",
       "      <td>10</td>\n",
       "      <td>8</td>\n",
       "      <td>9</td>\n",
       "      <td>15</td>\n",
       "      <td>19</td>\n",
       "      <td>17</td>\n",
       "      <td>13</td>\n",
       "      <td>11</td>\n",
       "      <td>3</td>\n",
       "    </tr>\n",
       "    <tr>\n",
       "      <th>1</th>\n",
       "      <td>19</td>\n",
       "      <td>21</td>\n",
       "      <td>22</td>\n",
       "      <td>18</td>\n",
       "      <td>20</td>\n",
       "      <td>21</td>\n",
       "      <td>16</td>\n",
       "      <td>18</td>\n",
       "      <td>19</td>\n",
       "      <td>18</td>\n",
       "      <td>...</td>\n",
       "      <td>154</td>\n",
       "      <td>167</td>\n",
       "      <td>166</td>\n",
       "      <td>149</td>\n",
       "      <td>70</td>\n",
       "      <td>46</td>\n",
       "      <td>52</td>\n",
       "      <td>57</td>\n",
       "      <td>49</td>\n",
       "      <td>3</td>\n",
       "    </tr>\n",
       "    <tr>\n",
       "      <th>2</th>\n",
       "      <td>228</td>\n",
       "      <td>229</td>\n",
       "      <td>230</td>\n",
       "      <td>229</td>\n",
       "      <td>228</td>\n",
       "      <td>227</td>\n",
       "      <td>226</td>\n",
       "      <td>226</td>\n",
       "      <td>226</td>\n",
       "      <td>221</td>\n",
       "      <td>...</td>\n",
       "      <td>22</td>\n",
       "      <td>29</td>\n",
       "      <td>37</td>\n",
       "      <td>34</td>\n",
       "      <td>29</td>\n",
       "      <td>30</td>\n",
       "      <td>38</td>\n",
       "      <td>30</td>\n",
       "      <td>19</td>\n",
       "      <td>3</td>\n",
       "    </tr>\n",
       "    <tr>\n",
       "      <th>3</th>\n",
       "      <td>25</td>\n",
       "      <td>33</td>\n",
       "      <td>43</td>\n",
       "      <td>30</td>\n",
       "      <td>46</td>\n",
       "      <td>84</td>\n",
       "      <td>105</td>\n",
       "      <td>118</td>\n",
       "      <td>139</td>\n",
       "      <td>142</td>\n",
       "      <td>...</td>\n",
       "      <td>166</td>\n",
       "      <td>137</td>\n",
       "      <td>111</td>\n",
       "      <td>125</td>\n",
       "      <td>124</td>\n",
       "      <td>128</td>\n",
       "      <td>127</td>\n",
       "      <td>130</td>\n",
       "      <td>136</td>\n",
       "      <td>3</td>\n",
       "    </tr>\n",
       "    <tr>\n",
       "      <th>4</th>\n",
       "      <td>33</td>\n",
       "      <td>29</td>\n",
       "      <td>15</td>\n",
       "      <td>15</td>\n",
       "      <td>20</td>\n",
       "      <td>36</td>\n",
       "      <td>40</td>\n",
       "      <td>54</td>\n",
       "      <td>79</td>\n",
       "      <td>98</td>\n",
       "      <td>...</td>\n",
       "      <td>90</td>\n",
       "      <td>80</td>\n",
       "      <td>81</td>\n",
       "      <td>72</td>\n",
       "      <td>49</td>\n",
       "      <td>43</td>\n",
       "      <td>34</td>\n",
       "      <td>75</td>\n",
       "      <td>78</td>\n",
       "      <td>3</td>\n",
       "    </tr>\n",
       "  </tbody>\n",
       "</table>\n",
       "<p>5 rows × 2305 columns</p>\n",
       "</div>"
      ],
      "text/plain": [
       "   feature 0  feature 1  feature 2  feature 3  feature 4  feature 5  \\\n",
       "0          5          4          5          9         10          9   \n",
       "1         19         21         22         18         20         21   \n",
       "2        228        229        230        229        228        227   \n",
       "3         25         33         43         30         46         84   \n",
       "4         33         29         15         15         20         36   \n",
       "\n",
       "   feature 6  feature 7  feature 8  feature 9  ...  feature 2295  \\\n",
       "0         10         12          8         14  ...             9   \n",
       "1         16         18         19         18  ...           154   \n",
       "2        226        226        226        221  ...            22   \n",
       "3        105        118        139        142  ...           166   \n",
       "4         40         54         79         98  ...            90   \n",
       "\n",
       "   feature 2296  feature 2297  feature 2298  feature 2299  feature 2300  \\\n",
       "0            10             8             9            15            19   \n",
       "1           167           166           149            70            46   \n",
       "2            29            37            34            29            30   \n",
       "3           137           111           125           124           128   \n",
       "4            80            81            72            49            43   \n",
       "\n",
       "   feature 2301  feature 2302  feature 2303  emotion  \n",
       "0            17            13            11        3  \n",
       "1            52            57            49        3  \n",
       "2            38            30            19        3  \n",
       "3           127           130           136        3  \n",
       "4            34            75            78        3  \n",
       "\n",
       "[5 rows x 2305 columns]"
      ]
     },
     "execution_count": 3,
     "metadata": {},
     "output_type": "execute_result"
    }
   ],
   "source": [
    "df_test = pd.read_csv('../../data/external/test.csv')\n",
    "print(df_test.shape) # (7177, 2305)\n",
    "df_test.head()"
   ]
  },
  {
   "cell_type": "code",
   "execution_count": 73,
   "id": "57414ad9",
   "metadata": {},
   "outputs": [],
   "source": [
    "file = '../../data/external/fer2013/train/happy/Training_1206.jpg'"
   ]
  },
  {
   "cell_type": "code",
   "execution_count": 74,
   "id": "bcae27d8",
   "metadata": {},
   "outputs": [
    {
     "data": {
      "image/png": "[encoded data removed]",
      "text/plain": [
       "<Figure size 432x288 with 1 Axes>"
      ]
     },
     "metadata": {
      "needs_background": "light"
     },
     "output_type": "display_data"
    }
   ],
   "source": [
    "img = cv.imread(file)\n",
    "gray= cv.cvtColor(img,cv.COLOR_BGR2GRAY)\n",
    "sift = cv.SIFT_create()\n",
    "kp = sift.detect(gray,None)\n",
    "img=cv.drawKeypoints(gray,kp,img)\n",
    "plt.imshow(img),\n",
    "plt.show()"
   ]
  },
  {
   "cell_type": "code",
   "execution_count": 13,
   "id": "9032b559",
   "metadata": {},
   "outputs": [],
   "source": [
    "sift = cv.SIFT_create()\n",
    "kp, des = sift.detectAndCompute(gray,None)"
   ]
  },
  {
   "cell_type": "code",
   "execution_count": 56,
   "id": "03b4aace",
   "metadata": {},
   "outputs": [
    {
     "data": {
      "text/plain": [
       "(21, 128)"
      ]
     },
     "execution_count": 56,
     "metadata": {},
     "output_type": "execute_result"
    }
   ],
   "source": [
    "des.shape"
   ]
  },
  {
   "cell_type": "code",
   "execution_count": 35,
   "id": "f723aaa8",
   "metadata": {},
   "outputs": [],
   "source": [
    "# Data files\n",
    "train_dir = '../../data/external/fer2013/train'\n",
    "test_dir = '../../data/external/fer2013/test'\n",
    "emotions = {'angry':0, 'disgust':1, 'fear':2, 'happy':3, 'sad':4, 'surprise':5, 'neutral':6}"
   ]
  },
  {
   "cell_type": "code",
   "execution_count": 41,
   "id": "30f21ea0",
   "metadata": {},
   "outputs": [],
   "source": [
    "def sift(image):\n",
    "    img = cv.imread(file)\n",
    "    gray= cv.cvtColor(img,cv.COLOR_BGR2GRAY)\n",
    "    sift = cv.SIFT_create()\n",
    "    kp, des = sift.detectAndCompute(gray,None)\n",
    "    return des"
   ]
  },
  {
   "cell_type": "code",
   "execution_count": 54,
   "id": "a470d123",
   "metadata": {},
   "outputs": [],
   "source": [
    "def extractFeatures():\n",
    "    test_data = []\n",
    "    test_des = []\n",
    "    for dirname, dirs, filenames in os.walk(test_dir, topdown=True):\n",
    "        cat = dirname.replace(test_dir, '')\n",
    "        if cat != '':\n",
    "            cat = cat.replace('/', '')\n",
    "            for filename in filenames:\n",
    "                file = os.path.join(dirname, filename)\n",
    "                descripters = sift(file)\n",
    "                for i in range(len(descripters)):\n",
    "                    test_des.append(des[i])\n",
    "                test_data.append((file, emotions[cat], test_des))\n",
    "    return test_data"
   ]
  },
  {
   "cell_type": "code",
   "execution_count": 55,
   "id": "5daeb948",
   "metadata": {},
   "outputs": [],
   "source": [
    "test_data = extractFeatures()\n",
    "test_data"
   ]
  },
  {
   "cell_type": "code",
   "execution_count": null,
   "id": "3e6a7fe1",
   "metadata": {},
   "outputs": [],
   "source": [
    "test_data"
   ]
  },
  {
   "cell_type": "code",
   "execution_count": 23,
   "id": "2abc1637",
   "metadata": {},
   "outputs": [
    {
     "name": "stderr",
     "output_type": "stream",
     "text": [
      "[ WARN:0] global /Users/runner/miniforge3/conda-bld/libopencv_1619749239158/work/opencv_contrib/modules/xfeatures2d/misc/python/shadow_sift.hpp (15) SIFT_create DEPRECATED: cv.xfeatures2d.SIFT_create() is deprecated due SIFT tranfer to the main repository. https://github.com/opencv/opencv/issues/16736\n"
     ]
    },
    {
     "data": {
      "image/png": "[encoded data removed]",
      "text/plain": [
       "<Figure size 432x288 with 1 Axes>"
      ]
     },
     "metadata": {
      "needs_background": "light"
     },
     "output_type": "display_data"
    },
    {
     "data": {
      "text/plain": [
       "(<matplotlib.image.AxesImage at 0x7fa2b72d4340>, None)"
      ]
     },
     "execution_count": 23,
     "metadata": {},
     "output_type": "execute_result"
    }
   ],
   "source": [
    "file1 = '../../data/external/fer2013/train/happy/Training_1206.jpg'\n",
    "file2 = '../../data/external/fer2013/train/happy/Training_143503.jpg'\n",
    "\n",
    "# read images\n",
    "img1 = cv2.imread(file1)  \n",
    "img2 = cv2.imread(file2) \n",
    "\n",
    "img1 = cv2.cvtColor(img1, cv2.COLOR_BGR2GRAY)\n",
    "img2 = cv2.cvtColor(img2, cv2.COLOR_BGR2GRAY)\n",
    "\n",
    "#sift\n",
    "sift = cv2.xfeatures2d.SIFT_create()\n",
    "\n",
    "keypoints_1, descriptors_1 = sift.detectAndCompute(img1,None)\n",
    "keypoints_2, descriptors_2 = sift.detectAndCompute(img2,None)\n",
    "\n",
    "#feature matching\n",
    "bf = cv2.BFMatcher(cv2.NORM_L1, crossCheck=True)\n",
    "\n",
    "matches = bf.match(descriptors_1,descriptors_2)\n",
    "matches = sorted(matches, key = lambda x:x.distance)\n",
    "\n",
    "img3 = cv2.drawMatches(img1, keypoints_1, img2, keypoints_2, matches[:50], img2, flags=2)\n",
    "plt.imshow(img3),plt.show()"
   ]
  },
  {
   "cell_type": "code",
   "execution_count": 24,
   "id": "72b23887",
   "metadata": {},
   "outputs": [
    {
     "data": {
      "text/plain": [
       "[<DMatch 0x7fa2b71c2d10>,\n",
       " <DMatch 0x7fa2b71c2e30>,\n",
       " <DMatch 0x7fa2b71c2e10>,\n",
       " <DMatch 0x7fa2b71c29b0>,\n",
       " <DMatch 0x7fa2b71c2b50>,\n",
       " <DMatch 0x7fa2b71c2af0>,\n",
       " <DMatch 0x7fa2b71c2df0>,\n",
       " <DMatch 0x7fa2b71c2cf0>]"
      ]
     },
     "execution_count": 24,
     "metadata": {},
     "output_type": "execute_result"
    }
   ],
   "source": [
    "matches"
   ]
  },
  {
   "cell_type": "code",
   "execution_count": 131,
   "id": "a31b5627",
   "metadata": {},
   "outputs": [
    {
     "ename": "error",
     "evalue": "OpenCV(4.5.2) ../opencv_contrib/modules/xfeatures2d/src/surf.cpp:1029: error: (-213:The function/feature is not implemented) This algorithm is patented and is excluded in this configuration; Set OPENCV_ENABLE_NONFREE CMake option and rebuild the library in function 'create'\n",
     "output_type": "error",
     "traceback": [
      "\u001b[0;31m---------------------------------------------------------------------------\u001b[0m",
      "\u001b[0;31merror\u001b[0m                                     Traceback (most recent call last)",
      "Input \u001b[0;32mIn [131]\u001b[0m, in \u001b[0;36m<cell line: 3>\u001b[0;34m()\u001b[0m\n\u001b[1;32m      1\u001b[0m file \u001b[38;5;241m=\u001b[39m \u001b[38;5;124m'\u001b[39m\u001b[38;5;124m../../data/external/fer2013/train/happy/Training_1206.jpg\u001b[39m\u001b[38;5;124m'\u001b[39m\n\u001b[1;32m      2\u001b[0m img \u001b[38;5;241m=\u001b[39m cv\u001b[38;5;241m.\u001b[39mimread(file,\u001b[38;5;241m0\u001b[39m)\n\u001b[0;32m----> 3\u001b[0m surf \u001b[38;5;241m=\u001b[39m \u001b[43mcv\u001b[49m\u001b[38;5;241;43m.\u001b[39;49m\u001b[43mxfeatures2d\u001b[49m\u001b[38;5;241;43m.\u001b[39;49m\u001b[43mSURF_create\u001b[49m\u001b[43m(\u001b[49m\u001b[38;5;241;43m400\u001b[39;49m\u001b[43m)\u001b[49m\n\u001b[1;32m      4\u001b[0m kp, des \u001b[38;5;241m=\u001b[39m surf\u001b[38;5;241m.\u001b[39mdetectAndCompute(img,\u001b[38;5;28;01mNone\u001b[39;00m)\n\u001b[1;32m      5\u001b[0m \u001b[38;5;28mlen\u001b[39m(kp)\n",
      "\u001b[0;31merror\u001b[0m: OpenCV(4.5.2) ../opencv_contrib/modules/xfeatures2d/src/surf.cpp:1029: error: (-213:The function/feature is not implemented) This algorithm is patented and is excluded in this configuration; Set OPENCV_ENABLE_NONFREE CMake option and rebuild the library in function 'create'\n"
     ]
    }
   ],
   "source": [
    "file = '../../data/external/fer2013/train/happy/Training_1206.jpg'\n",
    "img = cv.imread(file,0)\n",
    "surf = cv.xfeatures2d.SURF_create(400)\n",
    "kp, des = surf.detectAndCompute(img,None)\n",
    "len(kp)"
   ]
  }
 ],
 "metadata": {
  "kernelspec": {
   "display_name": "Python 3 (ipykernel)",
   "language": "python",
   "name": "python3"
  },
  "language_info": {
   "codemirror_mode": {
    "name": "ipython",
    "version": 3
   },
   "file_extension": ".py",
   "mimetype": "text/x-python",
   "name": "python",
   "nbconvert_exporter": "python",
   "pygments_lexer": "ipython3",
   "version": "3.9.12"
  }
 },
 "nbformat": 4,
 "nbformat_minor": 5
}
