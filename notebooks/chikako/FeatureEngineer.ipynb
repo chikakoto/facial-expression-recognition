{
 "cells": [
  {
   "cell_type": "code",
   "execution_count": null,
   "id": "8447630a",
   "metadata": {},
   "outputs": [],
   "source": [
    "import math\n",
    "import numpy as np\n",
    "import pandas as pd\n",
    "import seaborn as sns\n",
    "import matplotlib.pyplot as plt\n",
    "\n",
    "import cv2"
   ]
  },
  {
   "cell_type": "code",
   "execution_count": null,
   "id": "aaeb777a",
   "metadata": {},
   "outputs": [],
   "source": [
    "df_train = pd.read_csv('../../data/external/train.csv')\n",
    "print(df_train.shape) # (28698, 2305)\n",
    "df_train.head()"
   ]
  },
  {
   "cell_type": "code",
   "execution_count": null,
   "id": "c0715e42",
   "metadata": {},
   "outputs": [],
   "source": [
    "df_test = pd.read_csv('../../data/external/test.csv')\n",
    "print(df_test.shape) # (7177, 2305)\n",
    "df_test.head()"
   ]
  }
 ],
 "metadata": {
  "kernelspec": {
   "display_name": "Python 3 (ipykernel)",
   "language": "python",
   "name": "python3"
  },
  "language_info": {
   "codemirror_mode": {
    "name": "ipython",
    "version": 3
   },
   "file_extension": ".py",
   "mimetype": "text/x-python",
   "name": "python",
   "nbconvert_exporter": "python",
   "pygments_lexer": "ipython3",
   "version": "3.9.12"
  }
 },
 "nbformat": 4,
 "nbformat_minor": 5
}
