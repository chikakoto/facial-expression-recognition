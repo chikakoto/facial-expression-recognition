{
 "cells": [
  {
   "cell_type": "code",
   "execution_count": 1,
   "metadata": {
    "collapsed": true,
    "id": "33_yvSGdbB41"
   },
   "outputs": [],
   "source": [
    "import math\n",
    "import numpy as np\n",
    "import pandas as pd\n",
    "import seaborn as sns\n",
    "import matplotlib.pyplot as plt\n",
    "\n",
    "from sklearn.model_selection import train_test_split\n",
    "from sklearn.pipeline import make_pipeline\n",
    "from sklearn.preprocessing import MinMaxScaler\n",
    "from sklearn.model_selection import GridSearchCV\n",
    "from sklearn.svm import SVC\n",
    "\n",
    "from sklearn.model_selection import StratifiedKFold\n",
    "from sklearn.model_selection import cross_val_score\n",
    "from sklearn.model_selection import learning_curve\n",
    "from sklearn.model_selection import validation_curve"
   ]
  },
  {
   "cell_type": "code",
   "execution_count": 3,
   "metadata": {
    "colab": {
     "base_uri": "https://localhost:8080/",
     "height": 314
    },
    "executionInfo": {
     "elapsed": 28983,
     "status": "ok",
     "timestamp": 1651597033838,
     "user": {
      "displayName": "CHIKAKO OLSEN",
      "userId": "12924521313260294978"
     },
     "user_tz": 240
    },
    "id": "dkh7mWR6bVwh",
    "outputId": "bbc2b2cc-e3a8-494d-d3ae-4db3f895ce9c"
   },
   "outputs": [
    {
     "name": "stdout",
     "output_type": "stream",
     "text": [
      "(28698, 2305)\n"
     ]
    },
    {
     "data": {
      "text/html": [
       "<div>\n",
       "<style scoped>\n",
       "    .dataframe tbody tr th:only-of-type {\n",
       "        vertical-align: middle;\n",
       "    }\n",
       "\n",
       "    .dataframe tbody tr th {\n",
       "        vertical-align: top;\n",
       "    }\n",
       "\n",
       "    .dataframe thead th {\n",
       "        text-align: right;\n",
       "    }\n",
       "</style>\n",
       "<table border=\"1\" class=\"dataframe\">\n",
       "  <thead>\n",
       "    <tr style=\"text-align: right;\">\n",
       "      <th></th>\n",
       "      <th>feature 0</th>\n",
       "      <th>feature 1</th>\n",
       "      <th>feature 2</th>\n",
       "      <th>feature 3</th>\n",
       "      <th>feature 4</th>\n",
       "      <th>feature 5</th>\n",
       "      <th>feature 6</th>\n",
       "      <th>feature 7</th>\n",
       "      <th>feature 8</th>\n",
       "      <th>feature 9</th>\n",
       "      <th>...</th>\n",
       "      <th>feature 2295</th>\n",
       "      <th>feature 2296</th>\n",
       "      <th>feature 2297</th>\n",
       "      <th>feature 2298</th>\n",
       "      <th>feature 2299</th>\n",
       "      <th>feature 2300</th>\n",
       "      <th>feature 2301</th>\n",
       "      <th>feature 2302</th>\n",
       "      <th>feature 2303</th>\n",
       "      <th>emotion</th>\n",
       "    </tr>\n",
       "  </thead>\n",
       "  <tbody>\n",
       "    <tr>\n",
       "      <th>0</th>\n",
       "      <td>108</td>\n",
       "      <td>83</td>\n",
       "      <td>63</td>\n",
       "      <td>65</td>\n",
       "      <td>89</td>\n",
       "      <td>111</td>\n",
       "      <td>121</td>\n",
       "      <td>121</td>\n",
       "      <td>125</td>\n",
       "      <td>111</td>\n",
       "      <td>...</td>\n",
       "      <td>140</td>\n",
       "      <td>131</td>\n",
       "      <td>121</td>\n",
       "      <td>119</td>\n",
       "      <td>115</td>\n",
       "      <td>111</td>\n",
       "      <td>116</td>\n",
       "      <td>122</td>\n",
       "      <td>122</td>\n",
       "      <td>3</td>\n",
       "    </tr>\n",
       "    <tr>\n",
       "      <th>1</th>\n",
       "      <td>137</td>\n",
       "      <td>142</td>\n",
       "      <td>159</td>\n",
       "      <td>162</td>\n",
       "      <td>158</td>\n",
       "      <td>134</td>\n",
       "      <td>113</td>\n",
       "      <td>167</td>\n",
       "      <td>174</td>\n",
       "      <td>177</td>\n",
       "      <td>...</td>\n",
       "      <td>76</td>\n",
       "      <td>98</td>\n",
       "      <td>172</td>\n",
       "      <td>196</td>\n",
       "      <td>192</td>\n",
       "      <td>191</td>\n",
       "      <td>191</td>\n",
       "      <td>192</td>\n",
       "      <td>192</td>\n",
       "      <td>3</td>\n",
       "    </tr>\n",
       "    <tr>\n",
       "      <th>2</th>\n",
       "      <td>111</td>\n",
       "      <td>148</td>\n",
       "      <td>155</td>\n",
       "      <td>167</td>\n",
       "      <td>181</td>\n",
       "      <td>191</td>\n",
       "      <td>194</td>\n",
       "      <td>193</td>\n",
       "      <td>195</td>\n",
       "      <td>199</td>\n",
       "      <td>...</td>\n",
       "      <td>152</td>\n",
       "      <td>199</td>\n",
       "      <td>190</td>\n",
       "      <td>121</td>\n",
       "      <td>58</td>\n",
       "      <td>59</td>\n",
       "      <td>57</td>\n",
       "      <td>56</td>\n",
       "      <td>60</td>\n",
       "      <td>3</td>\n",
       "    </tr>\n",
       "    <tr>\n",
       "      <th>3</th>\n",
       "      <td>151</td>\n",
       "      <td>156</td>\n",
       "      <td>121</td>\n",
       "      <td>100</td>\n",
       "      <td>80</td>\n",
       "      <td>116</td>\n",
       "      <td>151</td>\n",
       "      <td>169</td>\n",
       "      <td>183</td>\n",
       "      <td>185</td>\n",
       "      <td>...</td>\n",
       "      <td>198</td>\n",
       "      <td>196</td>\n",
       "      <td>197</td>\n",
       "      <td>200</td>\n",
       "      <td>203</td>\n",
       "      <td>205</td>\n",
       "      <td>171</td>\n",
       "      <td>33</td>\n",
       "      <td>32</td>\n",
       "      <td>3</td>\n",
       "    </tr>\n",
       "    <tr>\n",
       "      <th>4</th>\n",
       "      <td>248</td>\n",
       "      <td>187</td>\n",
       "      <td>149</td>\n",
       "      <td>130</td>\n",
       "      <td>97</td>\n",
       "      <td>140</td>\n",
       "      <td>139</td>\n",
       "      <td>117</td>\n",
       "      <td>197</td>\n",
       "      <td>251</td>\n",
       "      <td>...</td>\n",
       "      <td>72</td>\n",
       "      <td>69</td>\n",
       "      <td>76</td>\n",
       "      <td>98</td>\n",
       "      <td>123</td>\n",
       "      <td>171</td>\n",
       "      <td>195</td>\n",
       "      <td>200</td>\n",
       "      <td>194</td>\n",
       "      <td>3</td>\n",
       "    </tr>\n",
       "  </tbody>\n",
       "</table>\n",
       "<p>5 rows × 2305 columns</p>\n",
       "</div>"
      ],
      "text/plain": [
       "   feature 0  feature 1  feature 2  feature 3  feature 4  feature 5  \\\n",
       "0        108         83         63         65         89        111   \n",
       "1        137        142        159        162        158        134   \n",
       "2        111        148        155        167        181        191   \n",
       "3        151        156        121        100         80        116   \n",
       "4        248        187        149        130         97        140   \n",
       "\n",
       "   feature 6  feature 7  feature 8  feature 9  ...  feature 2295  \\\n",
       "0        121        121        125        111  ...           140   \n",
       "1        113        167        174        177  ...            76   \n",
       "2        194        193        195        199  ...           152   \n",
       "3        151        169        183        185  ...           198   \n",
       "4        139        117        197        251  ...            72   \n",
       "\n",
       "   feature 2296  feature 2297  feature 2298  feature 2299  feature 2300  \\\n",
       "0           131           121           119           115           111   \n",
       "1            98           172           196           192           191   \n",
       "2           199           190           121            58            59   \n",
       "3           196           197           200           203           205   \n",
       "4            69            76            98           123           171   \n",
       "\n",
       "   feature 2301  feature 2302  feature 2303  emotion  \n",
       "0           116           122           122        3  \n",
       "1           191           192           192        3  \n",
       "2            57            56            60        3  \n",
       "3           171            33            32        3  \n",
       "4           195           200           194        3  \n",
       "\n",
       "[5 rows x 2305 columns]"
      ]
     },
     "execution_count": 3,
     "metadata": {},
     "output_type": "execute_result"
    }
   ],
   "source": [
    "df_train = pd.read_csv('../../data/external/train.csv')\n",
    "print(df_train.shape) # (28698, 2305)\n",
    "df_train.head()"
   ]
  },
  {
   "cell_type": "code",
   "execution_count": 5,
   "metadata": {
    "colab": {
     "base_uri": "https://localhost:8080/",
     "height": 314
    },
    "executionInfo": {
     "elapsed": 5649,
     "status": "ok",
     "timestamp": 1651597039479,
     "user": {
      "displayName": "CHIKAKO OLSEN",
      "userId": "12924521313260294978"
     },
     "user_tz": 240
    },
    "id": "xiw-OqHdbXQK",
    "outputId": "361e0607-187e-4429-81ac-988f5cfa0f69"
   },
   "outputs": [
    {
     "name": "stdout",
     "output_type": "stream",
     "text": [
      "(7177, 2305)\n"
     ]
    },
    {
     "data": {
      "text/html": [
       "<div>\n",
       "<style scoped>\n",
       "    .dataframe tbody tr th:only-of-type {\n",
       "        vertical-align: middle;\n",
       "    }\n",
       "\n",
       "    .dataframe tbody tr th {\n",
       "        vertical-align: top;\n",
       "    }\n",
       "\n",
       "    .dataframe thead th {\n",
       "        text-align: right;\n",
       "    }\n",
       "</style>\n",
       "<table border=\"1\" class=\"dataframe\">\n",
       "  <thead>\n",
       "    <tr style=\"text-align: right;\">\n",
       "      <th></th>\n",
       "      <th>feature 0</th>\n",
       "      <th>feature 1</th>\n",
       "      <th>feature 2</th>\n",
       "      <th>feature 3</th>\n",
       "      <th>feature 4</th>\n",
       "      <th>feature 5</th>\n",
       "      <th>feature 6</th>\n",
       "      <th>feature 7</th>\n",
       "      <th>feature 8</th>\n",
       "      <th>feature 9</th>\n",
       "      <th>...</th>\n",
       "      <th>feature 2295</th>\n",
       "      <th>feature 2296</th>\n",
       "      <th>feature 2297</th>\n",
       "      <th>feature 2298</th>\n",
       "      <th>feature 2299</th>\n",
       "      <th>feature 2300</th>\n",
       "      <th>feature 2301</th>\n",
       "      <th>feature 2302</th>\n",
       "      <th>feature 2303</th>\n",
       "      <th>emotion</th>\n",
       "    </tr>\n",
       "  </thead>\n",
       "  <tbody>\n",
       "    <tr>\n",
       "      <th>0</th>\n",
       "      <td>5</td>\n",
       "      <td>4</td>\n",
       "      <td>5</td>\n",
       "      <td>9</td>\n",
       "      <td>10</td>\n",
       "      <td>9</td>\n",
       "      <td>10</td>\n",
       "      <td>12</td>\n",
       "      <td>8</td>\n",
       "      <td>14</td>\n",
       "      <td>...</td>\n",
       "      <td>9</td>\n",
       "      <td>10</td>\n",
       "      <td>8</td>\n",
       "      <td>9</td>\n",
       "      <td>15</td>\n",
       "      <td>19</td>\n",
       "      <td>17</td>\n",
       "      <td>13</td>\n",
       "      <td>11</td>\n",
       "      <td>3</td>\n",
       "    </tr>\n",
       "    <tr>\n",
       "      <th>1</th>\n",
       "      <td>19</td>\n",
       "      <td>21</td>\n",
       "      <td>22</td>\n",
       "      <td>18</td>\n",
       "      <td>20</td>\n",
       "      <td>21</td>\n",
       "      <td>16</td>\n",
       "      <td>18</td>\n",
       "      <td>19</td>\n",
       "      <td>18</td>\n",
       "      <td>...</td>\n",
       "      <td>154</td>\n",
       "      <td>167</td>\n",
       "      <td>166</td>\n",
       "      <td>149</td>\n",
       "      <td>70</td>\n",
       "      <td>46</td>\n",
       "      <td>52</td>\n",
       "      <td>57</td>\n",
       "      <td>49</td>\n",
       "      <td>3</td>\n",
       "    </tr>\n",
       "    <tr>\n",
       "      <th>2</th>\n",
       "      <td>228</td>\n",
       "      <td>229</td>\n",
       "      <td>230</td>\n",
       "      <td>229</td>\n",
       "      <td>228</td>\n",
       "      <td>227</td>\n",
       "      <td>226</td>\n",
       "      <td>226</td>\n",
       "      <td>226</td>\n",
       "      <td>221</td>\n",
       "      <td>...</td>\n",
       "      <td>22</td>\n",
       "      <td>29</td>\n",
       "      <td>37</td>\n",
       "      <td>34</td>\n",
       "      <td>29</td>\n",
       "      <td>30</td>\n",
       "      <td>38</td>\n",
       "      <td>30</td>\n",
       "      <td>19</td>\n",
       "      <td>3</td>\n",
       "    </tr>\n",
       "    <tr>\n",
       "      <th>3</th>\n",
       "      <td>25</td>\n",
       "      <td>33</td>\n",
       "      <td>43</td>\n",
       "      <td>30</td>\n",
       "      <td>46</td>\n",
       "      <td>84</td>\n",
       "      <td>105</td>\n",
       "      <td>118</td>\n",
       "      <td>139</td>\n",
       "      <td>142</td>\n",
       "      <td>...</td>\n",
       "      <td>166</td>\n",
       "      <td>137</td>\n",
       "      <td>111</td>\n",
       "      <td>125</td>\n",
       "      <td>124</td>\n",
       "      <td>128</td>\n",
       "      <td>127</td>\n",
       "      <td>130</td>\n",
       "      <td>136</td>\n",
       "      <td>3</td>\n",
       "    </tr>\n",
       "    <tr>\n",
       "      <th>4</th>\n",
       "      <td>33</td>\n",
       "      <td>29</td>\n",
       "      <td>15</td>\n",
       "      <td>15</td>\n",
       "      <td>20</td>\n",
       "      <td>36</td>\n",
       "      <td>40</td>\n",
       "      <td>54</td>\n",
       "      <td>79</td>\n",
       "      <td>98</td>\n",
       "      <td>...</td>\n",
       "      <td>90</td>\n",
       "      <td>80</td>\n",
       "      <td>81</td>\n",
       "      <td>72</td>\n",
       "      <td>49</td>\n",
       "      <td>43</td>\n",
       "      <td>34</td>\n",
       "      <td>75</td>\n",
       "      <td>78</td>\n",
       "      <td>3</td>\n",
       "    </tr>\n",
       "  </tbody>\n",
       "</table>\n",
       "<p>5 rows × 2305 columns</p>\n",
       "</div>"
      ],
      "text/plain": [
       "   feature 0  feature 1  feature 2  feature 3  feature 4  feature 5  \\\n",
       "0          5          4          5          9         10          9   \n",
       "1         19         21         22         18         20         21   \n",
       "2        228        229        230        229        228        227   \n",
       "3         25         33         43         30         46         84   \n",
       "4         33         29         15         15         20         36   \n",
       "\n",
       "   feature 6  feature 7  feature 8  feature 9  ...  feature 2295  \\\n",
       "0         10         12          8         14  ...             9   \n",
       "1         16         18         19         18  ...           154   \n",
       "2        226        226        226        221  ...            22   \n",
       "3        105        118        139        142  ...           166   \n",
       "4         40         54         79         98  ...            90   \n",
       "\n",
       "   feature 2296  feature 2297  feature 2298  feature 2299  feature 2300  \\\n",
       "0            10             8             9            15            19   \n",
       "1           167           166           149            70            46   \n",
       "2            29            37            34            29            30   \n",
       "3           137           111           125           124           128   \n",
       "4            80            81            72            49            43   \n",
       "\n",
       "   feature 2301  feature 2302  feature 2303  emotion  \n",
       "0            17            13            11        3  \n",
       "1            52            57            49        3  \n",
       "2            38            30            19        3  \n",
       "3           127           130           136        3  \n",
       "4            34            75            78        3  \n",
       "\n",
       "[5 rows x 2305 columns]"
      ]
     },
     "execution_count": 5,
     "metadata": {},
     "output_type": "execute_result"
    }
   ],
   "source": [
    "df_test = pd.read_csv('../../data/external/test.csv')\n",
    "print(df_test.shape) # (7177, 2305)\n",
    "df_test.head()"
   ]
  },
  {
   "cell_type": "code",
   "execution_count": null,
   "metadata": {
    "id": "NlG6pt8upS9m"
   },
   "outputs": [],
   "source": [
    "emotion_labels = {0:'angry', 1:'disgust', 2:'fear', 3:'happy', 4:'sad', 5:'surprise', 6:'neutral'}"
   ]
  },
  {
   "cell_type": "markdown",
   "metadata": {
    "id": "NOPz135ovjFk"
   },
   "source": [
    "# SVM"
   ]
  },
  {
   "cell_type": "code",
   "execution_count": 6,
   "metadata": {
    "colab": {
     "base_uri": "https://localhost:8080/"
    },
    "executionInfo": {
     "elapsed": 17,
     "status": "ok",
     "timestamp": 1651597039481,
     "user": {
      "displayName": "CHIKAKO OLSEN",
      "userId": "12924521313260294978"
     },
     "user_tz": 240
    },
    "id": "VME6oS9K1JDF",
    "outputId": "19d727d9-8cc7-4173-969a-0afc7f2183f9"
   },
   "outputs": [
    {
     "name": "stdout",
     "output_type": "stream",
     "text": [
      "(28698, 2304)\n",
      "(28698,)\n"
     ]
    }
   ],
   "source": [
    "X = df_train.iloc[:, 0:2304].values\n",
    "y = df_train.iloc[:, -1].values\n",
    "print(X.shape)\n",
    "print(y.shape)"
   ]
  },
  {
   "cell_type": "code",
   "execution_count": 7,
   "metadata": {
    "id": "ZClROtdQpw7s"
   },
   "outputs": [],
   "source": [
    "X_train, X_test, y_train, y_test = train_test_split(\n",
    "    X, y, test_size=0.3, random_state=1, stratify=y)"
   ]
  },
  {
   "cell_type": "markdown",
   "metadata": {
    "id": "x6Hv9bV9oi64"
   },
   "source": [
    "## K-fold cross-validation"
   ]
  },
  {
   "cell_type": "code",
   "execution_count": 8,
   "metadata": {
    "id": "xUCvV6fiozID"
   },
   "outputs": [],
   "source": [
    "pipe_svc = make_pipeline(MinMaxScaler(),\n",
    "                         SVC(random_state=1))"
   ]
  },
  {
   "cell_type": "code",
   "execution_count": 9,
   "metadata": {
    "id": "jTVaBUzboidM"
   },
   "outputs": [
    {
     "name": "stdout",
     "output_type": "stream",
     "text": [
      "Fold:  1, Class dist.: [2516  268 2581 4545 3043 1998 3128], Acc: 0.435\n",
      "Fold:  2, Class dist.: [2516  268 2581 4545 3043 1998 3128], Acc: 0.423\n",
      "Fold:  3, Class dist.: [2516  268 2581 4545 3043 1998 3128], Acc: 0.425\n",
      "Fold:  4, Class dist.: [2516  268 2581 4545 3043 1998 3128], Acc: 0.417\n",
      "Fold:  5, Class dist.: [2517  268 2581 4545 3043 1998 3127], Acc: 0.445\n",
      "Fold:  6, Class dist.: [2517  268 2581 4545 3043 1998 3127], Acc: 0.425\n",
      "Fold:  7, Class dist.: [2517  268 2581 4545 3043 1998 3127], Acc: 0.427\n",
      "Fold:  8, Class dist.: [2517  268 2581 4545 3043 1998 3127], Acc: 0.433\n",
      "Fold:  9, Class dist.: [2516  269 2582 4545 3043 1998 3127], Acc: 0.408\n",
      "Fold: 10, Class dist.: [2516  269 2582 4545 3042 1998 3128], Acc: 0.417\n",
      "\n",
      "CV accuracy: 0.425 +/- 0.010\n"
     ]
    }
   ],
   "source": [
    "kfold = StratifiedKFold(n_splits=10).split(X_train, y_train)\n",
    "\n",
    "scores = []\n",
    "for k, (train, test) in enumerate(kfold):\n",
    "    pipe_svc.fit(X_train[train], y_train[train])\n",
    "    score = pipe_svc.score(X_train[test], y_train[test])\n",
    "    scores.append(score)\n",
    "    print('Fold: %2d, Class dist.: %s, Acc: %.3f' % (k+1,\n",
    "          np.bincount(y_train[train]), score))\n",
    "    \n",
    "print('\\nCV accuracy: %.3f +/- %.3f' % (np.mean(scores), np.std(scores)))"
   ]
  },
  {
   "cell_type": "code",
   "execution_count": null,
   "metadata": {
    "id": "G1tLRhB4otUf"
   },
   "outputs": [],
   "source": [
    "scores = cross_val_score(estimator=pipe_svc,\n",
    "                         X=X_train,\n",
    "                         y=y_train,\n",
    "                         cv=10,\n",
    "                         n_jobs=1)\n",
    "print('CV accuracy scores: %s' % scores)\n",
    "print('CV accuracy: %.3f +/- %.3f' % (np.mean(scores), np.std(scores)))"
   ]
  },
  {
   "cell_type": "markdown",
   "metadata": {
    "id": "5tWh03sAmCVn"
   },
   "source": [
    "## Tuning hyperparameters via grid search"
   ]
  },
  {
   "cell_type": "code",
   "execution_count": null,
   "metadata": {
    "id": "bDHKG1BGd8EM"
   },
   "outputs": [],
   "source": [
    "param_range = [0.0001, 0.001, 0.01, 0.1, 1.0, 10.0, 100.0, 1000.0]\n",
    "\n",
    "param_grid = [{'svc__C': param_range, \n",
    "               'svc__kernel': ['linear']},\n",
    "              {'svc__C': param_range, \n",
    "               'svc__gamma': param_range, \n",
    "               'svc__kernel': ['rbf']}]\n",
    "\n",
    "gs = GridSearchCV(estimator=pipe_svc, \n",
    "                  param_grid=param_grid, \n",
    "                  scoring='accuracy', \n",
    "                  refit=True,\n",
    "                  cv=10,\n",
    "                  n_jobs=-1)\n",
    "gs = gs.fit(X_train, y_train)\n",
    "print(gs.best_score_)\n",
    "print(gs.best_params_)"
   ]
  },
  {
   "cell_type": "code",
   "execution_count": null,
   "metadata": {
    "id": "fKKMdV0Hl6sO"
   },
   "outputs": [],
   "source": [
    "clf = gs.best_estimator_\n",
    "print('Test accuracy: %.3f' % clf.score(X_test, y_test))"
   ]
  },
  {
   "cell_type": "markdown",
   "metadata": {
    "id": "-ot5yY9LmGfK"
   },
   "source": [
    "## Algorithm selection with nested cross-validation"
   ]
  },
  {
   "cell_type": "code",
   "execution_count": null,
   "metadata": {
    "id": "nAxJFafKpW-V"
   },
   "outputs": [],
   "source": [
    "best_gs = clf.fit(X_train, y_train) \n",
    "# gs = GridSearchCV(estimator=pipe_svc,\n",
    "#                   param_grid=best_param,\n",
    "#                   scoring='accuracy',\n",
    "#                   cv=2)\n",
    "\n",
    "scores = cross_val_score(best_gs, X_train, y_train, \n",
    "                         scoring='accuracy', cv=10)\n",
    "print('CV accuracy: %.3f +/- %.3f' % (np.mean(scores),\n",
    "                                      np.std(scores)))"
   ]
  },
  {
   "cell_type": "markdown",
   "metadata": {
    "id": "Ysdd_WcEqGJf"
   },
   "source": [
    "## Diagnosing bias and variance problems with learning curves"
   ]
  },
  {
   "cell_type": "code",
   "execution_count": null,
   "metadata": {
    "id": "d6O2YdwBqG4h"
   },
   "outputs": [],
   "source": [
    "train_sizes, train_scores, test_scores =\\\n",
    "                learning_curve(estimator=pipe_svm,\n",
    "                               X=X_train,\n",
    "                               y=y_train,\n",
    "                               train_sizes=np.linspace(0.1, 1.0, 10),\n",
    "                               cv=10,\n",
    "                               n_jobs=1)\n",
    "\n",
    "train_mean = np.mean(train_scores, axis=1)\n",
    "train_std = np.std(train_scores, axis=1)\n",
    "test_mean = np.mean(test_scores, axis=1)\n",
    "test_std = np.std(test_scores, axis=1)\n",
    "\n",
    "plt.plot(train_sizes, train_mean,\n",
    "         color='blue', marker='o',\n",
    "         markersize=5, label='Training accuracy')\n",
    "\n",
    "plt.fill_between(train_sizes,\n",
    "                 train_mean + train_std,\n",
    "                 train_mean - train_std,\n",
    "                 alpha=0.15, color='blue')\n",
    "\n",
    "plt.plot(train_sizes, test_mean,\n",
    "         color='green', linestyle='--',\n",
    "         marker='s', markersize=5,\n",
    "         label='Validation accuracy')\n",
    "\n",
    "plt.fill_between(train_sizes,\n",
    "                 test_mean + test_std,\n",
    "                 test_mean - test_std,\n",
    "                 alpha=0.15, color='green')\n",
    "\n",
    "plt.grid()\n",
    "plt.xlabel('Number of training examples')\n",
    "plt.ylabel('Accuracy')\n",
    "plt.legend(loc='lower right')\n",
    "plt.ylim([0.8, 1.03])\n",
    "plt.tight_layout()\n",
    "plt.show()"
   ]
  },
  {
   "cell_type": "markdown",
   "metadata": {
    "id": "9eH_A4c3qXk3"
   },
   "source": [
    "## Addressing over- and underfitting with validation curves"
   ]
  },
  {
   "cell_type": "code",
   "execution_count": null,
   "metadata": {
    "id": "keDy_qsrqbdP"
   },
   "outputs": [],
   "source": [
    "from sklearn.model_selection import validation_curve\n",
    "\n",
    "\n",
    "param_range = [0.001, 0.01, 0.1, 1.0, 10.0, 100.0]\n",
    "train_scores, test_scores = validation_curve(\n",
    "                estimator=pipe_lr, \n",
    "                X=X_train, \n",
    "                y=y_train, \n",
    "                param_name='logisticregression__C', \n",
    "                param_range=param_range,\n",
    "                cv=10)\n",
    "\n",
    "train_mean = np.mean(train_scores, axis=1)\n",
    "train_std = np.std(train_scores, axis=1)\n",
    "test_mean = np.mean(test_scores, axis=1)\n",
    "test_std = np.std(test_scores, axis=1)\n",
    "\n",
    "plt.plot(param_range, train_mean, \n",
    "         color='blue', marker='o', \n",
    "         markersize=5, label='Training accuracy')\n",
    "\n",
    "plt.fill_between(param_range, train_mean + train_std,\n",
    "                 train_mean - train_std, alpha=0.15,\n",
    "                 color='blue')\n",
    "\n",
    "plt.plot(param_range, test_mean, \n",
    "         color='green', linestyle='--', \n",
    "         marker='s', markersize=5, \n",
    "         label='Validation accuracy')\n",
    "\n",
    "plt.fill_between(param_range, \n",
    "                 test_mean + test_std,\n",
    "                 test_mean - test_std, \n",
    "                 alpha=0.15, color='green')\n",
    "\n",
    "plt.grid()\n",
    "plt.xscale('log')\n",
    "plt.legend(loc='lower right')\n",
    "plt.xlabel('Parameter C')\n",
    "plt.ylabel('Accuracy')\n",
    "plt.ylim([0.8, 1.0])\n",
    "plt.tight_layout()\n",
    "# plt.savefig('images/06_06.png', dpi=300)\n",
    "plt.show()"
   ]
  }
 ],
 "metadata": {
  "colab": {
   "collapsed_sections": [],
   "name": "Basic MLs.ipynb",
   "provenance": []
  },
  "kernelspec": {
   "display_name": "Python 3 (ipykernel)",
   "language": "python",
   "name": "python3"
  },
  "language_info": {
   "codemirror_mode": {
    "name": "ipython",
    "version": 3
   },
   "file_extension": ".py",
   "mimetype": "text/x-python",
   "name": "python",
   "nbconvert_exporter": "python",
   "pygments_lexer": "ipython3",
   "version": "3.9.12"
  }
 },
 "nbformat": 4,
 "nbformat_minor": 1
}
