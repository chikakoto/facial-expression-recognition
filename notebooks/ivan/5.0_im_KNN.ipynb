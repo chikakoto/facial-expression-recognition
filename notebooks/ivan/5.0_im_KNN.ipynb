{
 "cells": [
  {
   "cell_type": "markdown",
   "metadata": {},
   "source": [
    "# The Data"
   ]
  },
  {
   "cell_type": "markdown",
   "metadata": {},
   "source": [
    "The data consists of 48x48 pixel grayscale images of faces. The faces have been automatically registered so that the face is more or less centred and occupies about the same amount of space in each image.\n",
    "\n",
    "The task is to categorize each face based on the emotion shown in the facial expression into one of seven categories (0=Angry, 1=Disgust, 2=Fear, 3=Happy, 4=Sad, 5=Surprise, 6=Neutral). The training set consists of 28,709 examples and the public test set consists of 3,589 examples.\n",
    "https://www.kaggle.com/competitions/challenges-in-representation-learning-facial-expression-recognition-challenge/data?select=icml_face_data.csv"
   ]
  },
  {
   "cell_type": "markdown",
   "metadata": {},
   "source": [
    "## Preprocessing in one step"
   ]
  },
  {
   "cell_type": "code",
   "execution_count": 1,
   "metadata": {},
   "outputs": [
    {
     "name": "stdout",
     "output_type": "stream",
     "text": [
      "(28709, 48, 48, 1) (28709,)\n",
      "(7178, 48, 48, 1) (7178,)\n"
     ]
    }
   ],
   "source": [
    "import pandas as pd\n",
    "import numpy as np\n",
    "from matplotlib import pyplot as plt\n",
    "%matplotlib inline\n",
    "\n",
    "emotions = {0:'Angry', 1:'Disgust', 2:'Fear', 3:'Happy', 4:'Sad', 5:'Surprise', 6:'Neutral'}\n",
    "\n",
    "path = '../../../project_data/fer2013/icml_face_data.csv'\n",
    "df = pd.read_csv(path)\n",
    "\n",
    "# creating a dataframe that only contains training data\n",
    "train = df[df[' Usage']=='Training'].copy()\n",
    "\n",
    "# dropping the usage column\n",
    "train.drop([' Usage'], axis = 1, inplace = True)\n",
    "\n",
    "# combining public and private tests into a one dataframe\n",
    "public = df[df[' Usage']=='PublicTest'].copy()\n",
    "private = df[df[' Usage']=='PrivateTest'].copy()\n",
    "\n",
    "# concatenating into one test dataframe\n",
    "test = pd.concat([public, private])\n",
    "\n",
    "# dropping usage column\n",
    "test.drop([' Usage'], axis = 1, inplace = True)\n",
    "\n",
    "# reseting the index\n",
    "test.reset_index(inplace = True, drop = True)\n",
    "\n",
    "def get_pixels_and_scale(data):\n",
    "    '''\n",
    "    Function for extracting pixel values from the pixel column and scaling them between 0 and 1\n",
    "    \n",
    "    get values from the column\n",
    "    split on the whitespace\n",
    "    convert to float16 datatype\n",
    "    save as as numpy array\n",
    "    scale the values between 0 and 1\n",
    "    '''\n",
    "    \n",
    "    img_array = np.array(data.split(' '), dtype = 'float16')\n",
    "    img_array = img_array / 255.0\n",
    "    \n",
    "    return img_array\n",
    "\n",
    "def reshape_images(data):\n",
    "    '''\n",
    "    reshape pixels column into desired format\n",
    "    return a numpy array\n",
    "    '''\n",
    "\n",
    "    reshaped_array = np.reshape(data[' pixels'].to_list(),(data.shape[0],48,48,1))\n",
    "    \n",
    "    return reshaped_array\n",
    "\n",
    "# def plot_random_images(dataset): \n",
    "#     if np.array_equal(dataset, train_images):\n",
    "#         labels = train_labels\n",
    "#     else:\n",
    "#         labels = test_labels\n",
    "\n",
    "#     # Checking 25 random images from the train set across all classes\n",
    "#     plt.figure(figsize=(12,12))\n",
    "#     for ind, img_num in enumerate(np.random.randint(1,len(dataset),size=25)):\n",
    "#         plt.subplot(5,5,ind+1)\n",
    "#         plt.xticks([])\n",
    "#         plt.yticks([])\n",
    "#         plt.grid(False)\n",
    "#         plt.imshow(dataset[img_num], cmap='gray')\n",
    "#         plt.xlabel(emotions[labels[img_num]])\n",
    "#     plt.show()\n",
    "    \n",
    "\n",
    "# extracting pixel values from the pixel column and scaling them between 0 and 1    \n",
    "train[' pixels'] = train[' pixels'].apply(get_pixels_and_scale)   \n",
    "test[' pixels'] = test[' pixels'].apply(get_pixels_and_scale)\n",
    "\n",
    "# reshaping pixels column into a desired format and getting a numpy array\n",
    "train_images = reshape_images(train)\n",
    "test_images = reshape_images(test)\n",
    "\n",
    "# getting the labels\n",
    "train_labels = train['emotion']\n",
    "test_labels = test['emotion']\n",
    "\n",
    "print(train_images.shape, train_labels.shape)\n",
    "print(test_images.shape, test_labels.shape)"
   ]
  },
  {
   "cell_type": "code",
   "execution_count": null,
   "metadata": {},
   "outputs": [],
   "source": []
  }
 ],
 "metadata": {
  "kernelspec": {
   "display_name": "Python 3 (ipykernel)",
   "language": "python",
   "name": "python3"
  },
  "language_info": {
   "codemirror_mode": {
    "name": "ipython",
    "version": 3
   },
   "file_extension": ".py",
   "mimetype": "text/x-python",
   "name": "python",
   "nbconvert_exporter": "python",
   "pygments_lexer": "ipython3",
   "version": "3.9.10"
  }
 },
 "nbformat": 4,
 "nbformat_minor": 4
}
