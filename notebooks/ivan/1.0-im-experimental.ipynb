{
 "cells": [
  {
   "cell_type": "markdown",
   "metadata": {},
   "source": [
    "# The Data"
   ]
  },
  {
   "cell_type": "markdown",
   "metadata": {},
   "source": [
    "The data consists of 48x48 pixel grayscale images of faces. The faces have been automatically registered so that the face is more or less centred and occupies about the same amount of space in each image.\n",
    "\n",
    "The task is to categorize each face based on the emotion shown in the facial expression into one of seven categories (0=Angry, 1=Disgust, 2=Fear, 3=Happy, 4=Sad, 5=Surprise, 6=Neutral). The training set consists of 28,709 examples and the public test set consists of 3,589 examples.\n",
    "https://www.kaggle.com/datasets/msambare/fer2013?resource=download"
   ]
  },
  {
   "cell_type": "markdown",
   "metadata": {},
   "source": [
    "# 2. Initial EDA"
   ]
  },
  {
   "cell_type": "markdown",
   "metadata": {},
   "source": [
    "### Importing Packages"
   ]
  },
  {
   "cell_type": "code",
   "execution_count": 1,
   "metadata": {},
   "outputs": [],
   "source": [
    "import os\n",
    "import pandas as pd\n",
    "import numpy as np\n",
    "from matplotlib import pyplot as plt\n",
    "%matplotlib inline\n",
    "import seaborn as sns\n",
    "\n",
    "from skimage import io\n",
    "import random"
   ]
  },
  {
   "cell_type": "code",
   "execution_count": 5,
   "metadata": {},
   "outputs": [
    {
     "name": "stdout",
     "output_type": "stream",
     "text": [
      "/Users/ivan.miller/Documents/study/ccny/22Spring_ML/final_project/facial-expression-recognition/notebooks\n"
     ]
    }
   ],
   "source": [
    "!pwd"
   ]
  },
  {
   "cell_type": "code",
   "execution_count": 5,
   "metadata": {},
   "outputs": [],
   "source": [
    "# '/Users/ivan.miller/Documents/study/ccny/22Spring_ML/final_project/project_data/test'\n",
    "train_path = '../../project_data/train/' # added the last forward slash\n",
    "test_path = '../../project_data/test/' # added the last forward slash\n",
    "\n",
    "# create a dictionary with each emotion encoded as integer\n",
    "# emotions = {'angry': 0, 'disgust': 1, 'fear': 2, 'happy': 3, 'sad': 4, 'surprise': 5, 'neutral': 6}\n",
    "# create a dictionary with values as keys to lookup original labels\n",
    "# label_lookup  = {y: x for x, y in emotions.items()} "
   ]
  },
  {
   "cell_type": "markdown",
   "metadata": {},
   "source": [
    "#### Exploring the folder contents"
   ]
  },
  {
   "cell_type": "code",
   "execution_count": 6,
   "metadata": {},
   "outputs": [],
   "source": [
    "# dir_paths = [] # paths to files\n",
    "# dir_names = [] # flattened images\n",
    "# files = [] # integers as labels \n",
    "# for dir_path, dir_name, file_names in os.walk(train_path, topdown=False):\n",
    "#     dir_paths.append(dir_path)\n",
    "#     dir_names.append(dir_name)\n",
    "#     for filename in file_names:\n",
    "#         files.append(filename)"
   ]
  },
  {
   "cell_type": "code",
   "execution_count": 7,
   "metadata": {},
   "outputs": [],
   "source": [
    "# dir_paths"
   ]
  },
  {
   "cell_type": "code",
   "execution_count": 8,
   "metadata": {},
   "outputs": [],
   "source": [
    "# dir_names"
   ]
  },
  {
   "cell_type": "code",
   "execution_count": 9,
   "metadata": {},
   "outputs": [],
   "source": [
    "# files[:3]"
   ]
  },
  {
   "cell_type": "markdown",
   "metadata": {},
   "source": [
    "### Loading the data"
   ]
  },
  {
   "cell_type": "code",
   "execution_count": 10,
   "metadata": {},
   "outputs": [],
   "source": [
    "def preprocess(path_to_folder):\n",
    "    \n",
    "    '''\n",
    "    Takes path to a directory with images (train or test) as input\n",
    "    Returns three lists:\n",
    "    1. Full paths to image files\n",
    "    2. Images as flattened arrays\n",
    "    3. String labels for each image\n",
    "    '''\n",
    "    \n",
    "    files = [] # paths to files\n",
    "    images = [] # flattened images\n",
    "    labels = [] # integers as labels \n",
    "\n",
    "    for dir_path, dir_name, file_names in os.walk(path_to_folder, topdown=False):\n",
    "        label = dir_path.replace(path_to_folder,'') # taking a label out of path\n",
    "        if label != '':\n",
    "            for filename in file_names:\n",
    "                file_path = os.path.join(dir_path, filename) # creaitng a full path for file\n",
    "                img = io.imread(file_path) # reading the image from the path\n",
    "                img_array = np.array(img).flatten() # creating an array and flattening\n",
    "\n",
    "                files.append(file_path) # append file path\n",
    "                images.append(img_array) # append flattened array\n",
    "                labels.append(label) # append label as a string\n",
    "#                 labels.append(emotions[label]) # append label as an integer\n",
    "    \n",
    "    # print out lengths of each list before returning the results\n",
    "    print(f'Number of files: {len(files)}')\n",
    "    print(f'Number of images: {len(images)}')\n",
    "    print(f'Number of labels: {len(labels)}')\n",
    "    return files, images, labels"
   ]
  },
  {
   "cell_type": "code",
   "execution_count": 11,
   "metadata": {},
   "outputs": [
    {
     "name": "stdout",
     "output_type": "stream",
     "text": [
      "Number of files: 28709\n",
      "Number of images: 28709\n",
      "Number of labels: 28709\n"
     ]
    }
   ],
   "source": [
    "# Creating the lists for files arrays and labels of train data\n",
    "train_files, train_images, train_labels = preprocess(train_path)"
   ]
  },
  {
   "cell_type": "code",
   "execution_count": 12,
   "metadata": {},
   "outputs": [
    {
     "data": {
      "image/png": "[encoded data removed]",
      "text/plain": [
       "<Figure size 432x288 with 1 Axes>"
      ]
     },
     "metadata": {
      "needs_background": "light"
     },
     "output_type": "display_data"
    }
   ],
   "source": [
    "# Sanity check using a random image from the train set\n",
    "f = random.randint(1,len(train_files))\n",
    "img = io.imread(train_files[f])\n",
    "\n",
    "plt.imshow(img, cmap='gray')\n",
    "plt.title(f'Random {train_labels[f]} face from the train set', fontweight = 'bold')\n",
    "plt.show()\n",
    "\n",
    "# print(f'Label: {label_lookup[train_labels[f]]}')"
   ]
  },
  {
   "cell_type": "code",
   "execution_count": 13,
   "metadata": {},
   "outputs": [
    {
     "data": {
      "image/png": "[encoded data removed]",
      "text/plain": [
       "<Figure size 432x288 with 1 Axes>"
      ]
     },
     "metadata": {
      "needs_background": "light"
     },
     "output_type": "display_data"
    }
   ],
   "source": [
    "#Count the number of occurences in the train set\n",
    "label, counts = np.unique(train_labels, return_counts = True)\n",
    "\n",
    "plt.bar(label, counts )\n",
    "plt.title('Train label counts')\n",
    "plt.show()"
   ]
  },
  {
   "cell_type": "code",
   "execution_count": 14,
   "metadata": {},
   "outputs": [
    {
     "name": "stdout",
     "output_type": "stream",
     "text": [
      "Number of files: 7178\n",
      "Number of images: 7178\n",
      "Number of labels: 7178\n"
     ]
    }
   ],
   "source": [
    "# Creating the lists for files arrays and labels of train data\n",
    "test_files, test_images, test_labels = preprocess(test_path)"
   ]
  },
  {
   "cell_type": "code",
   "execution_count": 15,
   "metadata": {},
   "outputs": [
    {
     "data": {
      "image/png": "[encoded data removed]",
      "text/plain": [
       "<Figure size 432x288 with 1 Axes>"
      ]
     },
     "metadata": {
      "needs_background": "light"
     },
     "output_type": "display_data"
    }
   ],
   "source": [
    "# Sanity check using a random image from the test set\n",
    "f = random.randint(1,len(test_files))\n",
    "img = io.imread(test_files[f])\n",
    "\n",
    "plt.imshow(img, cmap='gray')\n",
    "plt.title(f'Random {train_labels[f]} face from the test set', fontweight = 'bold')\n",
    "plt.show()\n",
    "\n",
    "# print(f'Label: {label_lookup[train_labels[f]]}')"
   ]
  },
  {
   "cell_type": "code",
   "execution_count": 16,
   "metadata": {},
   "outputs": [
    {
     "data": {
      "image/png": "[encoded data removed]",
      "text/plain": [
       "<Figure size 432x288 with 1 Axes>"
      ]
     },
     "metadata": {
      "needs_background": "light"
     },
     "output_type": "display_data"
    }
   ],
   "source": [
    "#Count the number of occurences in the train set\n",
    "label, counts = np.unique(test_labels, return_counts = True)\n",
    "\n",
    "plt.bar(label, counts )\n",
    "plt.title('Test label counts')\n",
    "plt.show()"
   ]
  },
  {
   "cell_type": "markdown",
   "metadata": {},
   "source": [
    "## Keras"
   ]
  },
  {
   "cell_type": "markdown",
   "metadata": {},
   "source": [
    "## TensorFlow"
   ]
  },
  {
   "cell_type": "code",
   "execution_count": 30,
   "metadata": {},
   "outputs": [],
   "source": [
    "import tensorflow as tf\n",
    "import keras\n",
    "from keras.preprocessing import image\n",
    "from keras.models import Sequential\n",
    "from keras.layers import Conv2D, MaxPool2D, Flatten,Dense,Dropout,BatchNormalization\n",
    "from tensorflow.keras.preprocessing.image import ImageDataGenerator\n",
    "import cv2\n",
    "from tensorflow.keras.applications import VGG16, InceptionResNetV2\n",
    "from keras import regularizers\n",
    "from tensorflow.keras.optimizers import Adam,RMSprop,SGD,Adamax\n",
    "\n",
    "# from PIL import Image"
   ]
  },
  {
   "cell_type": "code",
   "execution_count": 18,
   "metadata": {},
   "outputs": [
    {
     "name": "stdout",
     "output_type": "stream",
     "text": [
      "2.8.0\n"
     ]
    }
   ],
   "source": [
    "print(tf.__version__)"
   ]
  },
  {
   "cell_type": "code",
   "execution_count": 19,
   "metadata": {},
   "outputs": [
    {
     "name": "stdout",
     "output_type": "stream",
     "text": [
      "(48, 48)\n"
     ]
    },
    {
     "data": {
      "text/plain": [
       "48"
      ]
     },
     "execution_count": 19,
     "metadata": {},
     "output_type": "execute_result"
    }
   ],
   "source": [
    "# checking image size\n",
    "f = random.randint(1,len(test_files))\n",
    "img = io.imread(test_files[f])\n",
    "print(img.shape)\n",
    "img_size = img.shape[0]\n",
    "img_size"
   ]
  },
  {
   "cell_type": "code",
   "execution_count": 20,
   "metadata": {},
   "outputs": [],
   "source": [
    "# https://www.tensorflow.org/api_docs/python/tf/keras/preprocessing/image/ImageDataGenerator\n",
    "train_datagen = ImageDataGenerator(\n",
    "                                # rotation_range = 180,\n",
    "                                 width_shift_range = 0.1, \n",
    "                                 height_shift_range = 0.1, \n",
    "                                 horizontal_flip = True,# Boolean. Randomly flip inputs horizontally.\n",
    "                                 rescale = 1./255, # rescaling factor.\n",
    "                                 zoom_range = 0.1, # Range for random zoom\n",
    "                                 validation_split = 0.3 # Fraction of images reserved for validation\n",
    "                                )\n",
    "validation_datagen = ImageDataGenerator(rescale = 1./255,\n",
    "                                         validation_split = 0.3)"
   ]
  },
  {
   "cell_type": "code",
   "execution_count": 21,
   "metadata": {},
   "outputs": [
    {
     "name": "stdout",
     "output_type": "stream",
     "text": [
      "Found 20099 images belonging to 7 classes.\n",
      "Found 2151 images belonging to 7 classes.\n"
     ]
    }
   ],
   "source": [
    "\"\"\"\n",
    "Apply above transformations to the train/test images\n",
    "\"\"\"\n",
    "train_generator = train_datagen.flow_from_directory(directory = train_path,\n",
    "                                                    target_size = (img_size,img_size),\n",
    "                                                    batch_size = 64,\n",
    "                                                    color_mode = \"grayscale\",\n",
    "                                                    class_mode = \"categorical\",\n",
    "                                                    subset = \"training\"\n",
    "                                                   )\n",
    "validation_generator = validation_datagen.flow_from_directory( directory = test_path,\n",
    "                                                              target_size = (img_size,img_size),\n",
    "                                                              batch_size = 64,\n",
    "                                                              color_mode = \"grayscale\",\n",
    "                                                              class_mode = \"categorical\",\n",
    "                                                              subset = \"validation\"\n",
    "                                                             )"
   ]
  },
  {
   "cell_type": "markdown",
   "metadata": {},
   "source": [
    "### Creating a Model"
   ]
  },
  {
   "cell_type": "code",
   "execution_count": 23,
   "metadata": {},
   "outputs": [],
   "source": [
    "model= tf.keras.models.Sequential()\n",
    "model.add(Conv2D(32, kernel_size=(3, 3), padding='same', activation='relu', input_shape=(48, 48,1)))\n",
    "model.add(Conv2D(64,(3,3), padding='same', activation='relu' ))\n",
    "model.add(BatchNormalization())\n",
    "model.add(MaxPool2D(pool_size=(2, 2)))\n",
    "model.add(Dropout(0.25))\n",
    "\n",
    "model.add(Conv2D(128,(5,5), padding='same', activation='relu'))\n",
    "model.add(BatchNormalization())\n",
    "model.add(MaxPool2D(pool_size=(2, 2)))\n",
    "model.add(Dropout(0.25))\n",
    "    \n",
    "model.add(Conv2D(512,(3,3), padding='same', activation='relu', kernel_regularizer=regularizers.l2(0.01)))\n",
    "model.add(BatchNormalization())\n",
    "model.add(MaxPool2D(pool_size=(2, 2)))\n",
    "model.add(Dropout(0.25))\n",
    "\n",
    "model.add(Conv2D(512,(3,3), padding='same', activation='relu', kernel_regularizer=regularizers.l2(0.01)))\n",
    "model.add(BatchNormalization())\n",
    "model.add(MaxPool2D(pool_size=(2, 2)))\n",
    "model.add(Dropout(0.25))\n",
    "\n",
    "model.add(Flatten()) \n",
    "model.add(Dense(256,activation = 'relu'))\n",
    "model.add(BatchNormalization())\n",
    "model.add(Dropout(0.25))\n",
    "    \n",
    "model.add(Dense(512,activation = 'relu'))\n",
    "model.add(BatchNormalization())\n",
    "model.add(Dropout(0.25))\n",
    "\n",
    "model.add(Dense(7, activation='softmax'))\n",
    "\n",
    "model.compile(\n",
    "    optimizer = Adam(learning_rate=0.0001), \n",
    "    loss='categorical_crossentropy', \n",
    "    metrics=['accuracy']\n",
    "  )"
   ]
  },
  {
   "cell_type": "code",
   "execution_count": 24,
   "metadata": {},
   "outputs": [],
   "source": [
    "epochs = 60\n",
    "batch_size = 64"
   ]
  },
  {
   "cell_type": "code",
   "execution_count": 25,
   "metadata": {},
   "outputs": [
    {
     "name": "stdout",
     "output_type": "stream",
     "text": [
      "Model: \"sequential_1\"\n",
      "_________________________________________________________________\n",
      " Layer (type)                Output Shape              Param #   \n",
      "=================================================================\n",
      " conv2d_5 (Conv2D)           (None, 48, 48, 32)        320       \n",
      "                                                                 \n",
      " conv2d_6 (Conv2D)           (None, 48, 48, 64)        18496     \n",
      "                                                                 \n",
      " batch_normalization_6 (Batc  (None, 48, 48, 64)       256       \n",
      " hNormalization)                                                 \n",
      "                                                                 \n",
      " max_pooling2d_4 (MaxPooling  (None, 24, 24, 64)       0         \n",
      " 2D)                                                             \n",
      "                                                                 \n",
      " dropout_6 (Dropout)         (None, 24, 24, 64)        0         \n",
      "                                                                 \n",
      " conv2d_7 (Conv2D)           (None, 24, 24, 128)       204928    \n",
      "                                                                 \n",
      " batch_normalization_7 (Batc  (None, 24, 24, 128)      512       \n",
      " hNormalization)                                                 \n",
      "                                                                 \n",
      " max_pooling2d_5 (MaxPooling  (None, 12, 12, 128)      0         \n",
      " 2D)                                                             \n",
      "                                                                 \n",
      " dropout_7 (Dropout)         (None, 12, 12, 128)       0         \n",
      "                                                                 \n",
      " conv2d_8 (Conv2D)           (None, 12, 12, 512)       590336    \n",
      "                                                                 \n",
      " batch_normalization_8 (Batc  (None, 12, 12, 512)      2048      \n",
      " hNormalization)                                                 \n",
      "                                                                 \n",
      " max_pooling2d_6 (MaxPooling  (None, 6, 6, 512)        0         \n",
      " 2D)                                                             \n",
      "                                                                 \n",
      " dropout_8 (Dropout)         (None, 6, 6, 512)         0         \n",
      "                                                                 \n",
      " conv2d_9 (Conv2D)           (None, 6, 6, 512)         2359808   \n",
      "                                                                 \n",
      " batch_normalization_9 (Batc  (None, 6, 6, 512)        2048      \n",
      " hNormalization)                                                 \n",
      "                                                                 \n",
      " max_pooling2d_7 (MaxPooling  (None, 3, 3, 512)        0         \n",
      " 2D)                                                             \n",
      "                                                                 \n",
      " dropout_9 (Dropout)         (None, 3, 3, 512)         0         \n",
      "                                                                 \n",
      " flatten_1 (Flatten)         (None, 4608)              0         \n",
      "                                                                 \n",
      " dense_3 (Dense)             (None, 256)               1179904   \n",
      "                                                                 \n",
      " batch_normalization_10 (Bat  (None, 256)              1024      \n",
      " chNormalization)                                                \n",
      "                                                                 \n",
      " dropout_10 (Dropout)        (None, 256)               0         \n",
      "                                                                 \n",
      " dense_4 (Dense)             (None, 512)               131584    \n",
      "                                                                 \n",
      " batch_normalization_11 (Bat  (None, 512)              2048      \n",
      " chNormalization)                                                \n",
      "                                                                 \n",
      " dropout_11 (Dropout)        (None, 512)               0         \n",
      "                                                                 \n",
      " dense_5 (Dense)             (None, 7)                 3591      \n",
      "                                                                 \n",
      "=================================================================\n",
      "Total params: 4,496,903\n",
      "Trainable params: 4,492,935\n",
      "Non-trainable params: 3,968\n",
      "_________________________________________________________________\n"
     ]
    }
   ],
   "source": [
    "model.summary()"
   ]
  },
  {
   "cell_type": "code",
   "execution_count": 27,
   "metadata": {},
   "outputs": [
    {
     "name": "stdout",
     "output_type": "stream",
     "text": [
      "Epoch 1/60\n"
     ]
    },
    {
     "name": "stderr",
     "output_type": "stream",
     "text": [
      "2022-05-01 12:34:16.246086: W tensorflow/core/platform/profile_utils/cpu_utils.cc:128] Failed to get CPU frequency: 0 Hz\n",
      "2022-05-01 12:34:16.773924: I tensorflow/core/grappler/optimizers/custom_graph_optimizer_registry.cc:113] Plugin optimizer for device_type GPU is enabled.\n"
     ]
    },
    {
     "name": "stdout",
     "output_type": "stream",
     "text": [
      "315/315 [==============================] - ETA: 0s - loss: 9.1996 - accuracy: 0.2011"
     ]
    },
    {
     "name": "stderr",
     "output_type": "stream",
     "text": [
      "2022-05-01 12:35:05.536622: I tensorflow/core/grappler/optimizers/custom_graph_optimizer_registry.cc:113] Plugin optimizer for device_type GPU is enabled.\n"
     ]
    },
    {
     "name": "stdout",
     "output_type": "stream",
     "text": [
      "315/315 [==============================] - 51s 138ms/step - loss: 9.1996 - accuracy: 0.2011 - val_loss: 8.6556 - val_accuracy: 0.1358\n",
      "Epoch 2/60\n",
      "315/315 [==============================] - 41s 130ms/step - loss: 8.4009 - accuracy: 0.2365 - val_loss: 8.0226 - val_accuracy: 0.2538\n",
      "Epoch 3/60\n",
      "315/315 [==============================] - 41s 131ms/step - loss: 7.7068 - accuracy: 0.2592 - val_loss: 7.2637 - val_accuracy: 0.2817\n",
      "Epoch 4/60\n",
      "315/315 [==============================] - 41s 132ms/step - loss: 6.9820 - accuracy: 0.2785 - val_loss: 6.5595 - val_accuracy: 0.3059\n",
      "Epoch 5/60\n",
      "315/315 [==============================] - 41s 132ms/step - loss: 6.2791 - accuracy: 0.3007 - val_loss: 5.8503 - val_accuracy: 0.3264\n",
      "Epoch 6/60\n",
      "315/315 [==============================] - 43s 137ms/step - loss: 5.5841 - accuracy: 0.3228 - val_loss: 5.2773 - val_accuracy: 0.3226\n",
      "Epoch 7/60\n",
      "315/315 [==============================] - 42s 133ms/step - loss: 4.9350 - accuracy: 0.3526 - val_loss: 4.5529 - val_accuracy: 0.3933\n",
      "Epoch 8/60\n",
      "315/315 [==============================] - 42s 133ms/step - loss: 4.3977 - accuracy: 0.3657 - val_loss: 4.0441 - val_accuracy: 0.4156\n",
      "Epoch 9/60\n",
      "315/315 [==============================] - 42s 134ms/step - loss: 3.8901 - accuracy: 0.3841 - val_loss: 3.6213 - val_accuracy: 0.4086\n",
      "Epoch 10/60\n",
      "315/315 [==============================] - 43s 135ms/step - loss: 3.4462 - accuracy: 0.4128 - val_loss: 3.6645 - val_accuracy: 0.2789\n",
      "Epoch 11/60\n",
      "315/315 [==============================] - 43s 137ms/step - loss: 3.2927 - accuracy: 0.4028 - val_loss: 3.0377 - val_accuracy: 0.4607\n",
      "Epoch 12/60\n",
      "315/315 [==============================] - 44s 140ms/step - loss: 3.0503 - accuracy: 0.4284 - val_loss: 3.0541 - val_accuracy: 0.4324\n",
      "Epoch 13/60\n",
      "315/315 [==============================] - 45s 142ms/step - loss: 2.8556 - accuracy: 0.4459 - val_loss: 2.6846 - val_accuracy: 0.4723\n",
      "Epoch 14/60\n",
      "315/315 [==============================] - 45s 142ms/step - loss: 2.6462 - accuracy: 0.4625 - val_loss: 2.6453 - val_accuracy: 0.4537\n",
      "Epoch 15/60\n",
      "315/315 [==============================] - 45s 143ms/step - loss: 2.5320 - accuracy: 0.4678 - val_loss: 2.3695 - val_accuracy: 0.4937\n",
      "Epoch 16/60\n",
      "315/315 [==============================] - 50s 158ms/step - loss: 2.3547 - accuracy: 0.4892 - val_loss: 2.2107 - val_accuracy: 0.5235\n",
      "Epoch 17/60\n",
      "315/315 [==============================] - 51s 162ms/step - loss: 2.2184 - accuracy: 0.4966 - val_loss: 2.1776 - val_accuracy: 0.4914\n",
      "Epoch 18/60\n",
      "315/315 [==============================] - 52s 166ms/step - loss: 2.1028 - accuracy: 0.5079 - val_loss: 1.9962 - val_accuracy: 0.5328\n",
      "Epoch 19/60\n",
      "315/315 [==============================] - 51s 163ms/step - loss: 1.9881 - accuracy: 0.5145 - val_loss: 2.0014 - val_accuracy: 0.5095\n",
      "Epoch 20/60\n",
      "315/315 [==============================] - 50s 158ms/step - loss: 1.9101 - accuracy: 0.5208 - val_loss: 1.7992 - val_accuracy: 0.5444\n",
      "Epoch 21/60\n",
      "315/315 [==============================] - 48s 154ms/step - loss: 1.8335 - accuracy: 0.5310 - val_loss: 1.7399 - val_accuracy: 0.5490\n",
      "Epoch 22/60\n",
      "315/315 [==============================] - 51s 162ms/step - loss: 1.7768 - accuracy: 0.5361 - val_loss: 1.7018 - val_accuracy: 0.5570\n",
      "Epoch 23/60\n",
      "315/315 [==============================] - 53s 167ms/step - loss: 1.7087 - accuracy: 0.5434 - val_loss: 1.6249 - val_accuracy: 0.5579\n",
      "Epoch 24/60\n",
      "315/315 [==============================] - 54s 171ms/step - loss: 1.6340 - accuracy: 0.5544 - val_loss: 1.7237 - val_accuracy: 0.5328\n",
      "Epoch 25/60\n",
      "315/315 [==============================] - 55s 176ms/step - loss: 1.6176 - accuracy: 0.5547 - val_loss: 1.5577 - val_accuracy: 0.5746\n",
      "Epoch 26/60\n",
      "315/315 [==============================] - 55s 174ms/step - loss: 1.6040 - accuracy: 0.5571 - val_loss: 1.4895 - val_accuracy: 0.5983\n",
      "Epoch 27/60\n",
      "315/315 [==============================] - 55s 176ms/step - loss: 1.5519 - accuracy: 0.5685 - val_loss: 1.5121 - val_accuracy: 0.5867\n",
      "Epoch 28/60\n",
      "315/315 [==============================] - 56s 178ms/step - loss: 1.5413 - accuracy: 0.5720 - val_loss: 1.5023 - val_accuracy: 0.5941\n",
      "Epoch 29/60\n",
      "315/315 [==============================] - 56s 179ms/step - loss: 1.5392 - accuracy: 0.5729 - val_loss: 1.5841 - val_accuracy: 0.5593\n",
      "Epoch 30/60\n",
      "315/315 [==============================] - 59s 189ms/step - loss: 1.5486 - accuracy: 0.5723 - val_loss: 1.4705 - val_accuracy: 0.5951\n",
      "Epoch 31/60\n",
      "315/315 [==============================] - 72s 229ms/step - loss: 1.5236 - accuracy: 0.5805 - val_loss: 1.5190 - val_accuracy: 0.5904\n",
      "Epoch 32/60\n",
      "315/315 [==============================] - 63s 201ms/step - loss: 1.5237 - accuracy: 0.5862 - val_loss: 1.4483 - val_accuracy: 0.6192\n",
      "Epoch 33/60\n",
      "315/315 [==============================] - 66s 211ms/step - loss: 1.4994 - accuracy: 0.5888 - val_loss: 1.4762 - val_accuracy: 0.5974\n",
      "Epoch 34/60\n",
      "315/315 [==============================] - 76s 241ms/step - loss: 1.4785 - accuracy: 0.5952 - val_loss: 1.4887 - val_accuracy: 0.6002\n",
      "Epoch 35/60\n",
      "315/315 [==============================] - 74s 235ms/step - loss: 1.4578 - accuracy: 0.5996 - val_loss: 1.4487 - val_accuracy: 0.6113\n",
      "Epoch 36/60\n",
      "315/315 [==============================] - 72s 229ms/step - loss: 1.4654 - accuracy: 0.5965 - val_loss: 1.4196 - val_accuracy: 0.6099\n",
      "Epoch 37/60\n",
      "315/315 [==============================] - 70s 223ms/step - loss: 1.4350 - accuracy: 0.6062 - val_loss: 1.4119 - val_accuracy: 0.6216\n",
      "Epoch 38/60\n",
      "315/315 [==============================] - 72s 230ms/step - loss: 1.4834 - accuracy: 0.5937 - val_loss: 1.5025 - val_accuracy: 0.6090\n",
      "Epoch 39/60\n",
      "315/315 [==============================] - 72s 228ms/step - loss: 1.4618 - accuracy: 0.6111 - val_loss: 1.4517 - val_accuracy: 0.6202\n",
      "Epoch 40/60\n",
      "315/315 [==============================] - 71s 225ms/step - loss: 1.4290 - accuracy: 0.6107 - val_loss: 1.4209 - val_accuracy: 0.6285\n",
      "Epoch 41/60\n",
      "315/315 [==============================] - 71s 225ms/step - loss: 1.5287 - accuracy: 0.5991 - val_loss: 1.4394 - val_accuracy: 0.6383\n",
      "Epoch 42/60\n",
      "315/315 [==============================] - 71s 225ms/step - loss: 1.6063 - accuracy: 0.5953 - val_loss: 1.5445 - val_accuracy: 0.6262\n",
      "Epoch 43/60\n",
      "315/315 [==============================] - 71s 227ms/step - loss: 1.6009 - accuracy: 0.6035 - val_loss: 1.5880 - val_accuracy: 0.6099\n",
      "Epoch 44/60\n",
      "315/315 [==============================] - 71s 224ms/step - loss: 1.5241 - accuracy: 0.6168 - val_loss: 1.5090 - val_accuracy: 0.6383\n",
      "Epoch 45/60\n",
      "315/315 [==============================] - 70s 222ms/step - loss: 1.4930 - accuracy: 0.6245 - val_loss: 1.5997 - val_accuracy: 0.5923\n",
      "Epoch 46/60\n",
      "315/315 [==============================] - 71s 226ms/step - loss: 1.4729 - accuracy: 0.6256 - val_loss: 1.4804 - val_accuracy: 0.6267\n",
      "Epoch 47/60\n",
      "315/315 [==============================] - 73s 230ms/step - loss: 1.4230 - accuracy: 0.6367 - val_loss: 1.5198 - val_accuracy: 0.6039\n",
      "Epoch 48/60\n",
      "315/315 [==============================] - 73s 232ms/step - loss: 1.4040 - accuracy: 0.6298 - val_loss: 1.4477 - val_accuracy: 0.6202\n",
      "Epoch 49/60\n",
      "315/315 [==============================] - 70s 221ms/step - loss: 1.3780 - accuracy: 0.6358 - val_loss: 1.3923 - val_accuracy: 0.6406\n",
      "Epoch 50/60\n",
      "315/315 [==============================] - 70s 222ms/step - loss: 1.3853 - accuracy: 0.6300 - val_loss: 1.4260 - val_accuracy: 0.6304\n",
      "Epoch 51/60\n",
      "315/315 [==============================] - 69s 220ms/step - loss: 1.3882 - accuracy: 0.6336 - val_loss: 1.4021 - val_accuracy: 0.6416\n",
      "Epoch 52/60\n",
      "315/315 [==============================] - 68s 216ms/step - loss: 1.3828 - accuracy: 0.6359 - val_loss: 1.3885 - val_accuracy: 0.6374\n",
      "Epoch 53/60\n",
      "315/315 [==============================] - 68s 215ms/step - loss: 1.3601 - accuracy: 0.6466 - val_loss: 1.4545 - val_accuracy: 0.6183\n",
      "Epoch 54/60\n",
      "315/315 [==============================] - 67s 212ms/step - loss: 1.4230 - accuracy: 0.6316 - val_loss: 1.4522 - val_accuracy: 0.6281\n",
      "Epoch 55/60\n",
      "315/315 [==============================] - 67s 213ms/step - loss: 1.4009 - accuracy: 0.6416 - val_loss: 1.4713 - val_accuracy: 0.6216\n",
      "Epoch 56/60\n",
      "315/315 [==============================] - 67s 212ms/step - loss: 1.3718 - accuracy: 0.6453 - val_loss: 1.4407 - val_accuracy: 0.6192\n",
      "Epoch 57/60\n",
      "315/315 [==============================] - 65s 205ms/step - loss: 1.5035 - accuracy: 0.6256 - val_loss: 1.5192 - val_accuracy: 0.6295\n",
      "Epoch 58/60\n",
      "315/315 [==============================] - 64s 203ms/step - loss: 1.4570 - accuracy: 0.6437 - val_loss: 1.5158 - val_accuracy: 0.6272\n",
      "Epoch 59/60\n",
      "315/315 [==============================] - 64s 203ms/step - loss: 1.4798 - accuracy: 0.6393 - val_loss: 1.4648 - val_accuracy: 0.6490\n",
      "Epoch 60/60\n",
      "315/315 [==============================] - 64s 203ms/step - loss: 1.4151 - accuracy: 0.6474 - val_loss: 1.5014 - val_accuracy: 0.6267\n"
     ]
    }
   ],
   "source": [
    "history = model.fit(x = train_generator,epochs = epochs,validation_data = validation_generator)"
   ]
  },
  {
   "cell_type": "markdown",
   "metadata": {},
   "source": [
    "#### Plotting Accuracy Scores"
   ]
  },
  {
   "cell_type": "code",
   "execution_count": 29,
   "metadata": {},
   "outputs": [
    {
     "data": {
      "image/png": "[encoded data removed]",
      "text/plain": [
       "<Figure size 864x288 with 2 Axes>"
      ]
     },
     "metadata": {
      "needs_background": "light"
     },
     "output_type": "display_data"
    }
   ],
   "source": [
    "fig , ax = plt.subplots(1,2)\n",
    "train_acc = history.history['accuracy']\n",
    "train_loss = history.history['loss']\n",
    "fig.set_size_inches(12,4)\n",
    "\n",
    "ax[0].plot(history.history['accuracy'])\n",
    "ax[0].plot(history.history['val_accuracy'])\n",
    "ax[0].set_title('Training vs Validation Accuracy')\n",
    "ax[0].set_ylabel('Accuracy')\n",
    "ax[0].set_xlabel('Epoch')\n",
    "ax[0].legend(['Train', 'Validation'], loc='lower right')\n",
    "\n",
    "ax[1].plot(history.history['loss'])\n",
    "ax[1].plot(history.history['val_loss'])\n",
    "ax[1].set_title('Training vs Validation Loss')\n",
    "ax[1].set_ylabel('Loss')\n",
    "ax[1].set_xlabel('Epoch')\n",
    "ax[1].legend(['Train', 'Validation'], loc='upper right')\n",
    "\n",
    "plt.show()"
   ]
  },
  {
   "cell_type": "code",
   "execution_count": null,
   "metadata": {},
   "outputs": [],
   "source": []
  }
 ],
 "metadata": {
  "kernelspec": {
   "display_name": "Python 3 (ipykernel)",
   "language": "python",
   "name": "python3"
  },
  "language_info": {
   "codemirror_mode": {
    "name": "ipython",
    "version": 3
   },
   "file_extension": ".py",
   "mimetype": "text/x-python",
   "name": "python",
   "nbconvert_exporter": "python",
   "pygments_lexer": "ipython3",
   "version": "3.9.10"
  }
 },
 "nbformat": 4,
 "nbformat_minor": 4
}
