{
 "cells": [
  {
   "cell_type": "code",
   "execution_count": 18,
   "id": "a7de5c8b",
   "metadata": {},
   "outputs": [
    {
     "name": "stdout",
     "output_type": "stream",
     "text": [
      "2.8.0\n"
     ]
    }
   ],
   "source": [
    "import pandas as pd\n",
    "import numpy as np\n",
    "from matplotlib import pyplot as plt\n",
    "%matplotlib inline\n",
    "\n",
    "import tensorflow as tf\n",
    "from tensorflow.keras.preprocessing.image import ImageDataGenerator\n",
    "from tensorflow.keras.optimizers import RMSprop\n",
    "from tensorflow.keras import regularizers\n",
    "\n",
    "print(tf.__version__)"
   ]
  },
  {
   "cell_type": "code",
   "execution_count": 2,
   "id": "95cb1c48",
   "metadata": {},
   "outputs": [
    {
     "data": {
      "text/html": [
       "<div>\n",
       "<style scoped>\n",
       "    .dataframe tbody tr th:only-of-type {\n",
       "        vertical-align: middle;\n",
       "    }\n",
       "\n",
       "    .dataframe tbody tr th {\n",
       "        vertical-align: top;\n",
       "    }\n",
       "\n",
       "    .dataframe thead th {\n",
       "        text-align: right;\n",
       "    }\n",
       "</style>\n",
       "<table border=\"1\" class=\"dataframe\">\n",
       "  <thead>\n",
       "    <tr style=\"text-align: right;\">\n",
       "      <th></th>\n",
       "      <th>usage</th>\n",
       "      <th>emotion</th>\n",
       "      <th>pixels</th>\n",
       "    </tr>\n",
       "  </thead>\n",
       "  <tbody>\n",
       "    <tr>\n",
       "      <th>0</th>\n",
       "      <td>train</td>\n",
       "      <td>3</td>\n",
       "      <td>108 83 63 65 89 111 121 121 125 111 103 105 11...</td>\n",
       "    </tr>\n",
       "    <tr>\n",
       "      <th>1</th>\n",
       "      <td>train</td>\n",
       "      <td>3</td>\n",
       "      <td>137 142 159 162 158 134 113 167 174 177 164 12...</td>\n",
       "    </tr>\n",
       "    <tr>\n",
       "      <th>2</th>\n",
       "      <td>train</td>\n",
       "      <td>3</td>\n",
       "      <td>111 148 155 167 181 191 194 193 195 199 203 20...</td>\n",
       "    </tr>\n",
       "    <tr>\n",
       "      <th>3</th>\n",
       "      <td>train</td>\n",
       "      <td>3</td>\n",
       "      <td>151 156 121 100 80 116 151 169 183 185 192 190...</td>\n",
       "    </tr>\n",
       "    <tr>\n",
       "      <th>4</th>\n",
       "      <td>train</td>\n",
       "      <td>3</td>\n",
       "      <td>248 187 149 130 97 140 139 117 197 251 231 255...</td>\n",
       "    </tr>\n",
       "  </tbody>\n",
       "</table>\n",
       "</div>"
      ],
      "text/plain": [
       "   usage  emotion                                             pixels\n",
       "0  train        3  108 83 63 65 89 111 121 121 125 111 103 105 11...\n",
       "1  train        3  137 142 159 162 158 134 113 167 174 177 164 12...\n",
       "2  train        3  111 148 155 167 181 191 194 193 195 199 203 20...\n",
       "3  train        3  151 156 121 100 80 116 151 169 183 185 192 190...\n",
       "4  train        3  248 187 149 130 97 140 139 117 197 251 231 255..."
      ]
     },
     "execution_count": 2,
     "metadata": {},
     "output_type": "execute_result"
    }
   ],
   "source": [
    "path = '../../../project_data/data/fer_data.csv'\n",
    "df = pd.read_csv(path)\n",
    "df.head()"
   ]
  },
  {
   "cell_type": "code",
   "execution_count": 3,
   "id": "630ac8fe",
   "metadata": {},
   "outputs": [
    {
     "data": {
      "text/plain": [
       "Index(['usage', 'emotion', 'pixels'], dtype='object')"
      ]
     },
     "execution_count": 3,
     "metadata": {},
     "output_type": "execute_result"
    }
   ],
   "source": [
    "df.columns"
   ]
  },
  {
   "cell_type": "code",
   "execution_count": 4,
   "id": "6979dc0d",
   "metadata": {},
   "outputs": [
    {
     "data": {
      "text/plain": [
       "train    31432\n",
       "test      7896\n",
       "Name: usage, dtype: int64"
      ]
     },
     "execution_count": 4,
     "metadata": {},
     "output_type": "execute_result"
    }
   ],
   "source": [
    "df.usage.value_counts()"
   ]
  },
  {
   "cell_type": "code",
   "execution_count": 5,
   "id": "f65673df",
   "metadata": {},
   "outputs": [
    {
     "data": {
      "text/plain": [
       "usage  emotion\n",
       "test   3          1774\n",
       "       4          1247\n",
       "       6          1233\n",
       "       2          1024\n",
       "       0           957\n",
       "       5           831\n",
       "       1           830\n",
       "train  3          7214\n",
       "       6          4964\n",
       "       4          4829\n",
       "       2          4097\n",
       "       0          3988\n",
       "       1          3170\n",
       "       5          3170\n",
       "Name: emotion, dtype: int64"
      ]
     },
     "execution_count": 5,
     "metadata": {},
     "output_type": "execute_result"
    }
   ],
   "source": [
    "df.groupby(['usage']).emotion.value_counts()"
   ]
  },
  {
   "cell_type": "code",
   "execution_count": 6,
   "id": "3d1fee0a",
   "metadata": {},
   "outputs": [
    {
     "name": "stdout",
     "output_type": "stream",
     "text": [
      "(31432, 2)\n"
     ]
    },
    {
     "data": {
      "text/html": [
       "<div>\n",
       "<style scoped>\n",
       "    .dataframe tbody tr th:only-of-type {\n",
       "        vertical-align: middle;\n",
       "    }\n",
       "\n",
       "    .dataframe tbody tr th {\n",
       "        vertical-align: top;\n",
       "    }\n",
       "\n",
       "    .dataframe thead th {\n",
       "        text-align: right;\n",
       "    }\n",
       "</style>\n",
       "<table border=\"1\" class=\"dataframe\">\n",
       "  <thead>\n",
       "    <tr style=\"text-align: right;\">\n",
       "      <th></th>\n",
       "      <th>emotion</th>\n",
       "      <th>pixels</th>\n",
       "    </tr>\n",
       "  </thead>\n",
       "  <tbody>\n",
       "    <tr>\n",
       "      <th>0</th>\n",
       "      <td>3</td>\n",
       "      <td>108 83 63 65 89 111 121 121 125 111 103 105 11...</td>\n",
       "    </tr>\n",
       "    <tr>\n",
       "      <th>1</th>\n",
       "      <td>3</td>\n",
       "      <td>137 142 159 162 158 134 113 167 174 177 164 12...</td>\n",
       "    </tr>\n",
       "    <tr>\n",
       "      <th>2</th>\n",
       "      <td>3</td>\n",
       "      <td>111 148 155 167 181 191 194 193 195 199 203 20...</td>\n",
       "    </tr>\n",
       "    <tr>\n",
       "      <th>3</th>\n",
       "      <td>3</td>\n",
       "      <td>151 156 121 100 80 116 151 169 183 185 192 190...</td>\n",
       "    </tr>\n",
       "    <tr>\n",
       "      <th>4</th>\n",
       "      <td>3</td>\n",
       "      <td>248 187 149 130 97 140 139 117 197 251 231 255...</td>\n",
       "    </tr>\n",
       "  </tbody>\n",
       "</table>\n",
       "</div>"
      ],
      "text/plain": [
       "   emotion                                             pixels\n",
       "0        3  108 83 63 65 89 111 121 121 125 111 103 105 11...\n",
       "1        3  137 142 159 162 158 134 113 167 174 177 164 12...\n",
       "2        3  111 148 155 167 181 191 194 193 195 199 203 20...\n",
       "3        3  151 156 121 100 80 116 151 169 183 185 192 190...\n",
       "4        3  248 187 149 130 97 140 139 117 197 251 231 255..."
      ]
     },
     "execution_count": 6,
     "metadata": {},
     "output_type": "execute_result"
    }
   ],
   "source": [
    "# creating a dataframe that only contains training data\n",
    "train = df[df['usage']=='train'].copy()\n",
    "# dropping the usage column\n",
    "train.drop(['usage'], axis = 1, inplace = True)\n",
    "train.reset_index(inplace = True, drop = True)\n",
    "print(train.shape)\n",
    "train.head()"
   ]
  },
  {
   "cell_type": "code",
   "execution_count": 7,
   "id": "65cb3e1e",
   "metadata": {},
   "outputs": [
    {
     "data": {
      "text/html": [
       "<div>\n",
       "<style scoped>\n",
       "    .dataframe tbody tr th:only-of-type {\n",
       "        vertical-align: middle;\n",
       "    }\n",
       "\n",
       "    .dataframe tbody tr th {\n",
       "        vertical-align: top;\n",
       "    }\n",
       "\n",
       "    .dataframe thead th {\n",
       "        text-align: right;\n",
       "    }\n",
       "</style>\n",
       "<table border=\"1\" class=\"dataframe\">\n",
       "  <thead>\n",
       "    <tr style=\"text-align: right;\">\n",
       "      <th></th>\n",
       "      <th>pixels</th>\n",
       "    </tr>\n",
       "    <tr>\n",
       "      <th>emotion</th>\n",
       "      <th></th>\n",
       "    </tr>\n",
       "  </thead>\n",
       "  <tbody>\n",
       "    <tr>\n",
       "      <th>0</th>\n",
       "      <td>3988</td>\n",
       "    </tr>\n",
       "    <tr>\n",
       "      <th>1</th>\n",
       "      <td>3170</td>\n",
       "    </tr>\n",
       "    <tr>\n",
       "      <th>2</th>\n",
       "      <td>4097</td>\n",
       "    </tr>\n",
       "    <tr>\n",
       "      <th>3</th>\n",
       "      <td>7214</td>\n",
       "    </tr>\n",
       "    <tr>\n",
       "      <th>4</th>\n",
       "      <td>4829</td>\n",
       "    </tr>\n",
       "    <tr>\n",
       "      <th>5</th>\n",
       "      <td>3170</td>\n",
       "    </tr>\n",
       "    <tr>\n",
       "      <th>6</th>\n",
       "      <td>4964</td>\n",
       "    </tr>\n",
       "  </tbody>\n",
       "</table>\n",
       "</div>"
      ],
      "text/plain": [
       "         pixels\n",
       "emotion        \n",
       "0          3988\n",
       "1          3170\n",
       "2          4097\n",
       "3          7214\n",
       "4          4829\n",
       "5          3170\n",
       "6          4964"
      ]
     },
     "execution_count": 7,
     "metadata": {},
     "output_type": "execute_result"
    }
   ],
   "source": [
    "train.groupby(['emotion']).count()"
   ]
  },
  {
   "cell_type": "code",
   "execution_count": 8,
   "id": "1f906719",
   "metadata": {},
   "outputs": [
    {
     "name": "stdout",
     "output_type": "stream",
     "text": [
      "(7896, 2)\n"
     ]
    },
    {
     "data": {
      "text/html": [
       "<div>\n",
       "<style scoped>\n",
       "    .dataframe tbody tr th:only-of-type {\n",
       "        vertical-align: middle;\n",
       "    }\n",
       "\n",
       "    .dataframe tbody tr th {\n",
       "        vertical-align: top;\n",
       "    }\n",
       "\n",
       "    .dataframe thead th {\n",
       "        text-align: right;\n",
       "    }\n",
       "</style>\n",
       "<table border=\"1\" class=\"dataframe\">\n",
       "  <thead>\n",
       "    <tr style=\"text-align: right;\">\n",
       "      <th></th>\n",
       "      <th>emotion</th>\n",
       "      <th>pixels</th>\n",
       "    </tr>\n",
       "  </thead>\n",
       "  <tbody>\n",
       "    <tr>\n",
       "      <th>0</th>\n",
       "      <td>3</td>\n",
       "      <td>5 4 5 9 10 9 10 12 8 14 13 17 24 26 36 48 67 7...</td>\n",
       "    </tr>\n",
       "    <tr>\n",
       "      <th>1</th>\n",
       "      <td>3</td>\n",
       "      <td>19 21 22 18 20 21 16 18 19 18 20 23 23 14 16 1...</td>\n",
       "    </tr>\n",
       "    <tr>\n",
       "      <th>2</th>\n",
       "      <td>3</td>\n",
       "      <td>228 229 230 229 228 227 226 226 226 221 217 20...</td>\n",
       "    </tr>\n",
       "    <tr>\n",
       "      <th>3</th>\n",
       "      <td>3</td>\n",
       "      <td>25 33 43 30 46 84 105 118 139 142 145 146 148 ...</td>\n",
       "    </tr>\n",
       "    <tr>\n",
       "      <th>4</th>\n",
       "      <td>3</td>\n",
       "      <td>33 29 15 15 20 36 40 54 79 98 117 130 144 155 ...</td>\n",
       "    </tr>\n",
       "  </tbody>\n",
       "</table>\n",
       "</div>"
      ],
      "text/plain": [
       "   emotion                                             pixels\n",
       "0        3  5 4 5 9 10 9 10 12 8 14 13 17 24 26 36 48 67 7...\n",
       "1        3  19 21 22 18 20 21 16 18 19 18 20 23 23 14 16 1...\n",
       "2        3  228 229 230 229 228 227 226 226 226 221 217 20...\n",
       "3        3  25 33 43 30 46 84 105 118 139 142 145 146 148 ...\n",
       "4        3  33 29 15 15 20 36 40 54 79 98 117 130 144 155 ..."
      ]
     },
     "execution_count": 8,
     "metadata": {},
     "output_type": "execute_result"
    }
   ],
   "source": [
    "# creating a dataframe that only contains training data\n",
    "test = df[df['usage']=='test'].copy()\n",
    "# dropping the usage column\n",
    "test.drop(['usage'], axis = 1, inplace = True)\n",
    "test.reset_index(inplace = True, drop = True)\n",
    "print(test.shape)\n",
    "test.head()"
   ]
  },
  {
   "cell_type": "code",
   "execution_count": 9,
   "id": "2ef25c35",
   "metadata": {},
   "outputs": [
    {
     "data": {
      "text/html": [
       "<div>\n",
       "<style scoped>\n",
       "    .dataframe tbody tr th:only-of-type {\n",
       "        vertical-align: middle;\n",
       "    }\n",
       "\n",
       "    .dataframe tbody tr th {\n",
       "        vertical-align: top;\n",
       "    }\n",
       "\n",
       "    .dataframe thead th {\n",
       "        text-align: right;\n",
       "    }\n",
       "</style>\n",
       "<table border=\"1\" class=\"dataframe\">\n",
       "  <thead>\n",
       "    <tr style=\"text-align: right;\">\n",
       "      <th></th>\n",
       "      <th>pixels</th>\n",
       "    </tr>\n",
       "    <tr>\n",
       "      <th>emotion</th>\n",
       "      <th></th>\n",
       "    </tr>\n",
       "  </thead>\n",
       "  <tbody>\n",
       "    <tr>\n",
       "      <th>0</th>\n",
       "      <td>957</td>\n",
       "    </tr>\n",
       "    <tr>\n",
       "      <th>1</th>\n",
       "      <td>830</td>\n",
       "    </tr>\n",
       "    <tr>\n",
       "      <th>2</th>\n",
       "      <td>1024</td>\n",
       "    </tr>\n",
       "    <tr>\n",
       "      <th>3</th>\n",
       "      <td>1774</td>\n",
       "    </tr>\n",
       "    <tr>\n",
       "      <th>4</th>\n",
       "      <td>1247</td>\n",
       "    </tr>\n",
       "    <tr>\n",
       "      <th>5</th>\n",
       "      <td>831</td>\n",
       "    </tr>\n",
       "    <tr>\n",
       "      <th>6</th>\n",
       "      <td>1233</td>\n",
       "    </tr>\n",
       "  </tbody>\n",
       "</table>\n",
       "</div>"
      ],
      "text/plain": [
       "         pixels\n",
       "emotion        \n",
       "0           957\n",
       "1           830\n",
       "2          1024\n",
       "3          1774\n",
       "4          1247\n",
       "5           831\n",
       "6          1233"
      ]
     },
     "execution_count": 9,
     "metadata": {},
     "output_type": "execute_result"
    }
   ],
   "source": [
    "test.groupby(['emotion']).count()"
   ]
  },
  {
   "cell_type": "code",
   "execution_count": 10,
   "id": "b78ff646",
   "metadata": {},
   "outputs": [],
   "source": [
    "def get_pixels_and_scale(data):\n",
    "    '''\n",
    "    Function for extracting pixel values from the pixel column and scaling them between 0 and 1\n",
    "    \n",
    "    get values from the column|\n",
    "    split on the whitespace\n",
    "    convert to float16 datatype\n",
    "    save as as numpy array\n",
    "    scale the values between 0 and 1\n",
    "    '''\n",
    "    \n",
    "    img_array = np.array(data.split(' '), dtype = 'float16')\n",
    "    img_array = img_array / 255.0\n",
    "    \n",
    "    return img_array\n",
    "\n",
    "def reshape_images(data):\n",
    "    '''\n",
    "    reshape pixels column into a (48,48,1)format\n",
    "    return a numpy array\n",
    "    '''\n",
    "\n",
    "    reshaped_array = np.reshape(data['pixels'].to_list(),(data.shape[0],48,48,1))\n",
    "    \n",
    "    return reshaped_array"
   ]
  },
  {
   "cell_type": "code",
   "execution_count": 11,
   "id": "861668bc",
   "metadata": {},
   "outputs": [],
   "source": [
    "# extracting pixel values from the pixel column and scaling them between 0 and 1    \n",
    "train['pixels'] = train['pixels'].apply(get_pixels_and_scale)\n",
    "test['pixels'] = test['pixels'].apply(get_pixels_and_scale)\n"
   ]
  },
  {
   "cell_type": "code",
   "execution_count": 12,
   "id": "71d124fa",
   "metadata": {},
   "outputs": [
    {
     "data": {
      "text/html": [
       "<div>\n",
       "<style scoped>\n",
       "    .dataframe tbody tr th:only-of-type {\n",
       "        vertical-align: middle;\n",
       "    }\n",
       "\n",
       "    .dataframe tbody tr th {\n",
       "        vertical-align: top;\n",
       "    }\n",
       "\n",
       "    .dataframe thead th {\n",
       "        text-align: right;\n",
       "    }\n",
       "</style>\n",
       "<table border=\"1\" class=\"dataframe\">\n",
       "  <thead>\n",
       "    <tr style=\"text-align: right;\">\n",
       "      <th></th>\n",
       "      <th>emotion</th>\n",
       "      <th>pixels</th>\n",
       "    </tr>\n",
       "  </thead>\n",
       "  <tbody>\n",
       "    <tr>\n",
       "      <th>0</th>\n",
       "      <td>3</td>\n",
       "      <td>[0.4236, 0.3254, 0.2471, 0.255, 0.349, 0.4353,...</td>\n",
       "    </tr>\n",
       "    <tr>\n",
       "      <th>1</th>\n",
       "      <td>3</td>\n",
       "      <td>[0.537, 0.5566, 0.6235, 0.6353, 0.6196, 0.5254...</td>\n",
       "    </tr>\n",
       "    <tr>\n",
       "      <th>2</th>\n",
       "      <td>3</td>\n",
       "      <td>[0.4353, 0.5806, 0.608, 0.655, 0.71, 0.749, 0....</td>\n",
       "    </tr>\n",
       "    <tr>\n",
       "      <th>3</th>\n",
       "      <td>3</td>\n",
       "      <td>[0.5923, 0.612, 0.4746, 0.392, 0.3137, 0.4548,...</td>\n",
       "    </tr>\n",
       "    <tr>\n",
       "      <th>4</th>\n",
       "      <td>3</td>\n",
       "      <td>[0.9727, 0.7334, 0.5845, 0.51, 0.3804, 0.549, ...</td>\n",
       "    </tr>\n",
       "  </tbody>\n",
       "</table>\n",
       "</div>"
      ],
      "text/plain": [
       "   emotion                                             pixels\n",
       "0        3  [0.4236, 0.3254, 0.2471, 0.255, 0.349, 0.4353,...\n",
       "1        3  [0.537, 0.5566, 0.6235, 0.6353, 0.6196, 0.5254...\n",
       "2        3  [0.4353, 0.5806, 0.608, 0.655, 0.71, 0.749, 0....\n",
       "3        3  [0.5923, 0.612, 0.4746, 0.392, 0.3137, 0.4548,...\n",
       "4        3  [0.9727, 0.7334, 0.5845, 0.51, 0.3804, 0.549, ..."
      ]
     },
     "execution_count": 12,
     "metadata": {},
     "output_type": "execute_result"
    }
   ],
   "source": [
    "train.head()"
   ]
  },
  {
   "cell_type": "code",
   "execution_count": 13,
   "id": "46e7f193",
   "metadata": {},
   "outputs": [
    {
     "data": {
      "text/html": [
       "<div>\n",
       "<style scoped>\n",
       "    .dataframe tbody tr th:only-of-type {\n",
       "        vertical-align: middle;\n",
       "    }\n",
       "\n",
       "    .dataframe tbody tr th {\n",
       "        vertical-align: top;\n",
       "    }\n",
       "\n",
       "    .dataframe thead th {\n",
       "        text-align: right;\n",
       "    }\n",
       "</style>\n",
       "<table border=\"1\" class=\"dataframe\">\n",
       "  <thead>\n",
       "    <tr style=\"text-align: right;\">\n",
       "      <th></th>\n",
       "      <th>emotion</th>\n",
       "      <th>pixels</th>\n",
       "    </tr>\n",
       "  </thead>\n",
       "  <tbody>\n",
       "    <tr>\n",
       "      <th>0</th>\n",
       "      <td>3</td>\n",
       "      <td>[0.0196, 0.01569, 0.0196, 0.0353, 0.0392, 0.03...</td>\n",
       "    </tr>\n",
       "    <tr>\n",
       "      <th>1</th>\n",
       "      <td>3</td>\n",
       "      <td>[0.0745, 0.08234, 0.0863, 0.0706, 0.0784, 0.08...</td>\n",
       "    </tr>\n",
       "    <tr>\n",
       "      <th>2</th>\n",
       "      <td>3</td>\n",
       "      <td>[0.894, 0.898, 0.902, 0.898, 0.894, 0.89, 0.88...</td>\n",
       "    </tr>\n",
       "    <tr>\n",
       "      <th>3</th>\n",
       "      <td>3</td>\n",
       "      <td>[0.098, 0.1294, 0.1686, 0.1177, 0.1804, 0.3293...</td>\n",
       "    </tr>\n",
       "    <tr>\n",
       "      <th>4</th>\n",
       "      <td>3</td>\n",
       "      <td>[0.1294, 0.1137, 0.05884, 0.05884, 0.0784, 0.1...</td>\n",
       "    </tr>\n",
       "  </tbody>\n",
       "</table>\n",
       "</div>"
      ],
      "text/plain": [
       "   emotion                                             pixels\n",
       "0        3  [0.0196, 0.01569, 0.0196, 0.0353, 0.0392, 0.03...\n",
       "1        3  [0.0745, 0.08234, 0.0863, 0.0706, 0.0784, 0.08...\n",
       "2        3  [0.894, 0.898, 0.902, 0.898, 0.894, 0.89, 0.88...\n",
       "3        3  [0.098, 0.1294, 0.1686, 0.1177, 0.1804, 0.3293...\n",
       "4        3  [0.1294, 0.1137, 0.05884, 0.05884, 0.0784, 0.1..."
      ]
     },
     "execution_count": 13,
     "metadata": {},
     "output_type": "execute_result"
    }
   ],
   "source": [
    "test.head()"
   ]
  },
  {
   "cell_type": "code",
   "execution_count": 14,
   "id": "38b7d9ec",
   "metadata": {},
   "outputs": [
    {
     "data": {
      "text/plain": [
       "(2304,)"
      ]
     },
     "execution_count": 14,
     "metadata": {},
     "output_type": "execute_result"
    }
   ],
   "source": [
    "test.iloc[0,1].shape"
   ]
  },
  {
   "cell_type": "code",
   "execution_count": 15,
   "id": "a4208cbd",
   "metadata": {},
   "outputs": [
    {
     "name": "stdout",
     "output_type": "stream",
     "text": [
      "(31432, 48, 48, 1) (31432,)\n",
      "(7896, 48, 48, 1) (7896,)\n"
     ]
    }
   ],
   "source": [
    "X_train = reshape_images(train)\n",
    "y_train = train['emotion'].to_numpy()\n",
    "\n",
    "X_test = reshape_images(test)\n",
    "y_test = test['emotion'].to_numpy()\n",
    "\n",
    "print(X_train.shape, y_train.shape)\n",
    "print(X_test.shape, y_test.shape)"
   ]
  },
  {
   "cell_type": "markdown",
   "id": "8339013d",
   "metadata": {},
   "source": [
    "## KERAS"
   ]
  },
  {
   "cell_type": "markdown",
   "id": "7c807887",
   "metadata": {},
   "source": [
    "## image Augmentation"
   ]
  },
  {
   "cell_type": "code",
   "execution_count": 119,
   "id": "3a3af04d",
   "metadata": {},
   "outputs": [],
   "source": [
    "traingen = ImageDataGenerator(\n",
    "    rotation_range=40,\n",
    "    width_shift_range=0.2,\n",
    "    height_shift_range=0.2,\n",
    "    shear_range=0.2,\n",
    "    zoom_range=0.2,\n",
    "    horizontal_flip=True,\n",
    "    fill_mode='nearest'   \n",
    ")\n",
    "\n",
    "traingen.fit(X_train)\n",
    "train_batch = 1024\n",
    "traingen = traingen.flow(X_train, y_train, batch_size=train_batch)\n",
    "\n",
    "testgen = ImageDataGenerator()\n",
    "test_batch = 256\n",
    "testgen = testgen.flow(X_test, y_test, batch_size=test_batch)"
   ]
  },
  {
   "cell_type": "code",
   "execution_count": 102,
   "id": "04c94626",
   "metadata": {},
   "outputs": [],
   "source": [
    "# class myCallback(tf.keras.callbacks.Callback):\n",
    "#     def on_epoch_end(self, epoch, logs={}):\n",
    "#         if(logs.get('accuracy')>0.95):\n",
    "#             print(\"\\nReached 95% accuracy so cancelling training!\")\n",
    "#             self.model.stop_training = True\n",
    "# callbacks=myCallback()"
   ]
  },
  {
   "cell_type": "markdown",
   "id": "f1f162ab",
   "metadata": {},
   "source": [
    "## Base Model\n",
    "### 8s Per epoch, 52.05% val accuracy"
   ]
  },
  {
   "cell_type": "code",
   "execution_count": 81,
   "id": "a3616f8e",
   "metadata": {},
   "outputs": [
    {
     "name": "stdout",
     "output_type": "stream",
     "text": [
      "Epoch 1/50\n"
     ]
    },
    {
     "name": "stderr",
     "output_type": "stream",
     "text": [
      "2022-05-18 14:11:53.772515: I tensorflow/core/grappler/optimizers/custom_graph_optimizer_registry.cc:113] Plugin optimizer for device_type GPU is enabled.\n"
     ]
    },
    {
     "name": "stdout",
     "output_type": "stream",
     "text": [
      " 6/31 [====>.........................] - ETA: 6s - loss: 1.9287 - accuracy: 0.2207WARNING:tensorflow:Callback method `on_train_batch_end` is slow compared to the batch time (batch time: 0.1056s vs `on_train_batch_end` time: 0.1474s). Check your callbacks.\n",
      "31/31 [==============================] - ETA: 0s - loss: 1.9176 - accuracy: 0.2284"
     ]
    },
    {
     "name": "stderr",
     "output_type": "stream",
     "text": [
      "2022-05-18 14:12:01.933109: I tensorflow/core/grappler/optimizers/custom_graph_optimizer_registry.cc:113] Plugin optimizer for device_type GPU is enabled.\n"
     ]
    },
    {
     "name": "stdout",
     "output_type": "stream",
     "text": [
      "31/31 [==============================] - 9s 269ms/step - loss: 1.9176 - accuracy: 0.2284 - val_loss: 1.9143 - val_accuracy: 0.2247\n",
      "Epoch 2/50\n",
      "31/31 [==============================] - 8s 267ms/step - loss: 1.9046 - accuracy: 0.2296 - val_loss: 1.8949 - val_accuracy: 0.2295\n",
      "Epoch 3/50\n",
      "31/31 [==============================] - 8s 260ms/step - loss: 1.8964 - accuracy: 0.2310 - val_loss: 1.8901 - val_accuracy: 0.2304\n",
      "Epoch 4/50\n",
      "31/31 [==============================] - 8s 259ms/step - loss: 1.8903 - accuracy: 0.2305 - val_loss: 1.8790 - val_accuracy: 0.2301\n",
      "Epoch 5/50\n",
      "31/31 [==============================] - 8s 264ms/step - loss: 1.8853 - accuracy: 0.2319 - val_loss: 1.8810 - val_accuracy: 0.2351\n",
      "Epoch 6/50\n",
      "31/31 [==============================] - 8s 258ms/step - loss: 1.8794 - accuracy: 0.2339 - val_loss: 1.8486 - val_accuracy: 0.2453\n",
      "Epoch 7/50\n",
      "31/31 [==============================] - 8s 261ms/step - loss: 1.8709 - accuracy: 0.2395 - val_loss: 1.8335 - val_accuracy: 0.2663\n",
      "Epoch 8/50\n",
      "31/31 [==============================] - 8s 262ms/step - loss: 1.8622 - accuracy: 0.2441 - val_loss: 1.8259 - val_accuracy: 0.2720\n",
      "Epoch 9/50\n",
      "31/31 [==============================] - 8s 261ms/step - loss: 1.8594 - accuracy: 0.2441 - val_loss: 1.8267 - val_accuracy: 0.2743\n",
      "Epoch 10/50\n",
      "31/31 [==============================] - 8s 264ms/step - loss: 1.8513 - accuracy: 0.2513 - val_loss: 1.8152 - val_accuracy: 0.2775\n",
      "Epoch 11/50\n",
      "31/31 [==============================] - 8s 269ms/step - loss: 1.8415 - accuracy: 0.2560 - val_loss: 1.8064 - val_accuracy: 0.2781\n",
      "Epoch 12/50\n",
      "31/31 [==============================] - 8s 262ms/step - loss: 1.8366 - accuracy: 0.2577 - val_loss: 1.7655 - val_accuracy: 0.2969\n",
      "Epoch 13/50\n",
      "31/31 [==============================] - 8s 263ms/step - loss: 1.8243 - accuracy: 0.2700 - val_loss: 1.7908 - val_accuracy: 0.2828\n",
      "Epoch 14/50\n",
      "31/31 [==============================] - 8s 260ms/step - loss: 1.8160 - accuracy: 0.2755 - val_loss: 1.7006 - val_accuracy: 0.3435\n",
      "Epoch 15/50\n",
      "31/31 [==============================] - 8s 259ms/step - loss: 1.8048 - accuracy: 0.2782 - val_loss: 1.6765 - val_accuracy: 0.3428\n",
      "Epoch 16/50\n",
      "31/31 [==============================] - 8s 263ms/step - loss: 1.7891 - accuracy: 0.2887 - val_loss: 1.6950 - val_accuracy: 0.3423\n",
      "Epoch 17/50\n",
      "31/31 [==============================] - 8s 258ms/step - loss: 1.7779 - accuracy: 0.2925 - val_loss: 1.6094 - val_accuracy: 0.3908\n",
      "Epoch 18/50\n",
      "31/31 [==============================] - 8s 257ms/step - loss: 1.7608 - accuracy: 0.3062 - val_loss: 1.7143 - val_accuracy: 0.3374\n",
      "Epoch 19/50\n",
      "31/31 [==============================] - 8s 261ms/step - loss: 1.7524 - accuracy: 0.3147 - val_loss: 1.6158 - val_accuracy: 0.3806\n",
      "Epoch 20/50\n",
      "31/31 [==============================] - 8s 257ms/step - loss: 1.7318 - accuracy: 0.3216 - val_loss: 1.5771 - val_accuracy: 0.3940\n",
      "Epoch 21/50\n",
      "31/31 [==============================] - 8s 256ms/step - loss: 1.7215 - accuracy: 0.3284 - val_loss: 1.5246 - val_accuracy: 0.4267\n",
      "Epoch 22/50\n",
      "31/31 [==============================] - 8s 262ms/step - loss: 1.7039 - accuracy: 0.3355 - val_loss: 1.6167 - val_accuracy: 0.3630\n",
      "Epoch 23/50\n",
      "31/31 [==============================] - 8s 260ms/step - loss: 1.6909 - accuracy: 0.3374 - val_loss: 1.6220 - val_accuracy: 0.3775\n",
      "Epoch 24/50\n",
      "31/31 [==============================] - 8s 263ms/step - loss: 1.6863 - accuracy: 0.3471 - val_loss: 1.4744 - val_accuracy: 0.4548\n",
      "Epoch 25/50\n",
      "31/31 [==============================] - 8s 262ms/step - loss: 1.6636 - accuracy: 0.3541 - val_loss: 1.5730 - val_accuracy: 0.4024\n",
      "Epoch 26/50\n",
      "31/31 [==============================] - 8s 264ms/step - loss: 1.6528 - accuracy: 0.3622 - val_loss: 1.4525 - val_accuracy: 0.4519\n",
      "Epoch 27/50\n",
      "31/31 [==============================] - 8s 265ms/step - loss: 1.6364 - accuracy: 0.3704 - val_loss: 1.4431 - val_accuracy: 0.4572\n",
      "Epoch 28/50\n",
      "31/31 [==============================] - 8s 267ms/step - loss: 1.6272 - accuracy: 0.3705 - val_loss: 1.4216 - val_accuracy: 0.4652\n",
      "Epoch 29/50\n",
      "31/31 [==============================] - 9s 271ms/step - loss: 1.6159 - accuracy: 0.3760 - val_loss: 1.4482 - val_accuracy: 0.4536\n",
      "Epoch 30/50\n",
      "31/31 [==============================] - 8s 267ms/step - loss: 1.6022 - accuracy: 0.3864 - val_loss: 1.4224 - val_accuracy: 0.4637\n",
      "Epoch 31/50\n",
      "31/31 [==============================] - 8s 264ms/step - loss: 1.6006 - accuracy: 0.3844 - val_loss: 1.3973 - val_accuracy: 0.4732\n",
      "Epoch 32/50\n",
      "31/31 [==============================] - 8s 268ms/step - loss: 1.5888 - accuracy: 0.3915 - val_loss: 1.4279 - val_accuracy: 0.4609\n",
      "Epoch 33/50\n",
      "31/31 [==============================] - 8s 269ms/step - loss: 1.5778 - accuracy: 0.3982 - val_loss: 1.4128 - val_accuracy: 0.4723\n",
      "Epoch 34/50\n",
      "31/31 [==============================] - 8s 264ms/step - loss: 1.5620 - accuracy: 0.4022 - val_loss: 1.4609 - val_accuracy: 0.4530\n",
      "Epoch 35/50\n",
      "31/31 [==============================] - 8s 264ms/step - loss: 1.5544 - accuracy: 0.4075 - val_loss: 1.3728 - val_accuracy: 0.4887\n",
      "Epoch 36/50\n",
      "31/31 [==============================] - 8s 265ms/step - loss: 1.5543 - accuracy: 0.4075 - val_loss: 1.3691 - val_accuracy: 0.4873\n",
      "Epoch 37/50\n",
      "31/31 [==============================] - 8s 264ms/step - loss: 1.5336 - accuracy: 0.4156 - val_loss: 1.3677 - val_accuracy: 0.4848\n",
      "Epoch 38/50\n",
      "31/31 [==============================] - 8s 263ms/step - loss: 1.5310 - accuracy: 0.4138 - val_loss: 1.3299 - val_accuracy: 0.5003\n",
      "Epoch 39/50\n",
      "31/31 [==============================] - 8s 264ms/step - loss: 1.5266 - accuracy: 0.4223 - val_loss: 1.3153 - val_accuracy: 0.5030\n",
      "Epoch 40/50\n",
      "31/31 [==============================] - 8s 266ms/step - loss: 1.5132 - accuracy: 0.4257 - val_loss: 1.3474 - val_accuracy: 0.4937\n",
      "Epoch 41/50\n",
      "31/31 [==============================] - 8s 269ms/step - loss: 1.5110 - accuracy: 0.4240 - val_loss: 1.3315 - val_accuracy: 0.5101\n",
      "Epoch 42/50\n",
      "31/31 [==============================] - 8s 265ms/step - loss: 1.4975 - accuracy: 0.4311 - val_loss: 1.3823 - val_accuracy: 0.4710\n",
      "Epoch 43/50\n",
      "31/31 [==============================] - 8s 263ms/step - loss: 1.4975 - accuracy: 0.4290 - val_loss: 1.3126 - val_accuracy: 0.5048\n",
      "Epoch 44/50\n",
      "31/31 [==============================] - 8s 268ms/step - loss: 1.4838 - accuracy: 0.4347 - val_loss: 1.2485 - val_accuracy: 0.5325\n",
      "Epoch 45/50\n",
      "31/31 [==============================] - 8s 268ms/step - loss: 1.4776 - accuracy: 0.4387 - val_loss: 1.3071 - val_accuracy: 0.5113\n",
      "Epoch 46/50\n",
      "31/31 [==============================] - 8s 267ms/step - loss: 1.4745 - accuracy: 0.4393 - val_loss: 1.3801 - val_accuracy: 0.4762\n",
      "Epoch 47/50\n",
      "31/31 [==============================] - 8s 266ms/step - loss: 1.4599 - accuracy: 0.4438 - val_loss: 1.2365 - val_accuracy: 0.5363\n",
      "Epoch 48/50\n",
      "31/31 [==============================] - 8s 264ms/step - loss: 1.4586 - accuracy: 0.4457 - val_loss: 1.2558 - val_accuracy: 0.5319\n",
      "Epoch 49/50\n",
      "31/31 [==============================] - 8s 266ms/step - loss: 1.4592 - accuracy: 0.4474 - val_loss: 1.2678 - val_accuracy: 0.5237\n",
      "Epoch 50/50\n",
      "31/31 [==============================] - 9s 272ms/step - loss: 1.4490 - accuracy: 0.4490 - val_loss: 1.2858 - val_accuracy: 0.5205\n"
     ]
    }
   ],
   "source": [
    "# added dropout layers between dense ones\n",
    "mdl11_1 = tf.keras.models.Sequential([\n",
    "    tf.keras.layers.Conv2D(32,\n",
    "                           (3,3), \n",
    "                           activation='relu', \n",
    "                           input_shape=(48, 48, 1),\n",
    "                           padding='same'),\n",
    "    tf.keras.layers.MaxPooling2D(2, 2),\n",
    "    \n",
    "    tf.keras.layers.Conv2D(64, (3,3), activation='relu'),\n",
    "    tf.keras.layers.MaxPooling2D(2,2),\n",
    "    \n",
    "    tf.keras.layers.Conv2D(128, (3,3), activation='relu'),\n",
    "    tf.keras.layers.MaxPooling2D(2,2),\n",
    "    \n",
    "    tf.keras.layers.Conv2D(256, (3,3), activation='relu'),\n",
    "    tf.keras.layers.MaxPooling2D(2,2),\n",
    "    tf.keras.layers.Dropout(0.5),\n",
    "    \n",
    "    tf.keras.layers.Flatten(),\n",
    "    tf.keras.layers.Dense(512, activation='relu'),\n",
    "    tf.keras.layers.Dropout(0.3),\n",
    "    tf.keras.layers.Dense(256, activation='relu'),\n",
    "    tf.keras.layers.Dropout(0.25),\n",
    "    tf.keras.layers.Dense(7, activation='softmax')\n",
    "])\n",
    "\n",
    "mdl11_1.compile(loss='sparse_categorical_crossentropy',\n",
    "              optimizer=RMSprop(learning_rate=0.0005),\n",
    "              metrics=['accuracy'])\n",
    "\n",
    "callbacks=myCallback()\n",
    "\n",
    "\n",
    "traingen = ImageDataGenerator(\n",
    "    rotation_range=40,\n",
    "    width_shift_range=0.2,\n",
    "    height_shift_range=0.2,\n",
    "    shear_range=0.2,\n",
    "    zoom_range=0.2,\n",
    "    horizontal_flip=True,\n",
    "    fill_mode='nearest'   \n",
    ")\n",
    "\n",
    "traingen.fit(X_train)\n",
    "train_batch=1024\n",
    "traingen = traingen.flow(X_train, y_train, batch_size=train_batch)\n",
    "\n",
    "testgen = ImageDataGenerator()\n",
    "test_batch=256\n",
    "testgen = testgen.flow(X_test, y_test, batch_size=test_batch)\n",
    "\n",
    "history_mdl11_1 = mdl11_1.fit(\n",
    "      train_datagen,\n",
    "      validation_data = valid_datagen,  \n",
    "      epochs=50,\n",
    "      steps_per_epoch=31,\n",
    "      validation_steps=31,\n",
    "      verbose=1,\n",
    "      callbacks=[callbacks])"
   ]
  },
  {
   "cell_type": "code",
   "execution_count": 76,
   "id": "e23cebe8",
   "metadata": {},
   "outputs": [],
   "source": [
    "def plot_model_accuracy(fitted_model):\n",
    "    '''\n",
    "    Function visualizing comparison of \n",
    "    training and validaton loss and accuracy\n",
    "    \n",
    "    '''\n",
    "    \n",
    "    fig , ax = plt.subplots(1,2)\n",
    "    train_acc = fitted_model.history['accuracy']\n",
    "    train_loss = fitted_model.history['loss']\n",
    "    fig.set_size_inches(15,4)\n",
    "\n",
    "    ax[0].plot(fitted_model.history['accuracy'])\n",
    "    ax[0].plot(fitted_model.history['val_accuracy'])\n",
    "    ax[0].set_title('Training vs Validation Accuracy')\n",
    "    ax[0].set_ylabel('Accuracy')\n",
    "    ax[0].set_xlabel('Epoch')\n",
    "    ax[0].legend(['Training', 'Validation'], loc='lower right')\n",
    "\n",
    "    ax[1].plot(fitted_model.history['loss'])\n",
    "    ax[1].plot(fitted_model.history['val_loss'])\n",
    "    ax[1].set_title('Training vs Validation Loss')\n",
    "    ax[1].set_ylabel('Loss')\n",
    "    ax[1].set_xlabel('Epoch')\n",
    "    ax[1].legend(['Training', 'Validation'], loc='lower left')\n",
    "\n",
    "    plt.show()"
   ]
  },
  {
   "cell_type": "code",
   "execution_count": 82,
   "id": "668ad7c4",
   "metadata": {},
   "outputs": [
    {
     "data": {
      "image/png": "[encoded data removed]",
      "text/plain": [
       "<Figure size 1080x288 with 2 Axes>"
      ]
     },
     "metadata": {
      "needs_background": "light"
     },
     "output_type": "display_data"
    }
   ],
   "source": [
    "plot_model_accuracy(history_mdl11_1)"
   ]
  },
  {
   "cell_type": "code",
   "execution_count": 118,
   "id": "b1fa9d85",
   "metadata": {},
   "outputs": [
    {
     "name": "stdout",
     "output_type": "stream",
     "text": [
      "Evaluate on test data\n",
      "62/62 [==============================] - 1s 12ms/step - loss: 1.2858 - accuracy: 0.5205\n",
      "test_loss, test_acc:  1.2858 52.0517\n"
     ]
    }
   ],
   "source": [
    "# Evaluate the model on the test data using `evaluate`\n",
    "print(\"Evaluate on test data\")\n",
    "test_loss, test_acc = mdl11_1.evaluate(X_test, y_test, batch_size=128)\n",
    "print('test_loss, test_acc: ',np.round(test_loss,4), np.round(test_acc*100.0,4))\n",
    "# print(\"test loss, test acc:\", results)"
   ]
  },
  {
   "cell_type": "markdown",
   "id": "bcbf78e6",
   "metadata": {},
   "source": [
    "# L1 Kernel & Bias Regularization: gets stuck at 22.47% val_accuracy\n",
    "as seen here https://github.com/christianversloot/machine-learning-articles/blob/main/how-to-use-l1-l2-and-elastic-net-regularization-with-keras.md"
   ]
  },
  {
   "cell_type": "code",
   "execution_count": 92,
   "id": "ab33f317",
   "metadata": {},
   "outputs": [],
   "source": [
    "# class myCallback(tf.keras.callbacks.Callback):\n",
    "#     def on_epoch_end(self, epoch, logs={}):\n",
    "#         if(logs.get('accuracy')>0.95):\n",
    "#             print(\"\\nReached 95% accuracy so cancelling training!\")\n",
    "#             self.model.stop_training = True\n",
    "                 \n",
    "# callbacks=myCallback()"
   ]
  },
  {
   "cell_type": "code",
   "execution_count": 97,
   "id": "1b9a1bd4",
   "metadata": {},
   "outputs": [],
   "source": [
    "#checkpoint to save best weights\n",
    "checkpoint = tf.keras.callbacks.ModelCheckpoint('model_weights.h5',\n",
    "                             monitor='val_accuracy',\n",
    "                             save_weights_only=True,\n",
    "                             mode='max')\n",
    "\n",
    "# define number of epochs with no improvement after which training will be stopped\n",
    "earlystop = tf.keras.callbacks.EarlyStopping(monitor='val_accuracy',\n",
    "                          patience=5,\n",
    "                          mode='max')\n",
    "\n",
    "#define callbacks\n",
    "callbacks = [earlystop, checkpoint]"
   ]
  },
  {
   "cell_type": "code",
   "execution_count": 104,
   "id": "c69413ad",
   "metadata": {},
   "outputs": [
    {
     "name": "stdout",
     "output_type": "stream",
     "text": [
      "Epoch 1/50\n"
     ]
    },
    {
     "name": "stderr",
     "output_type": "stream",
     "text": [
      "2022-05-18 16:08:34.850830: I tensorflow/core/grappler/optimizers/custom_graph_optimizer_registry.cc:113] Plugin optimizer for device_type GPU is enabled.\n"
     ]
    },
    {
     "name": "stdout",
     "output_type": "stream",
     "text": [
      "31/30 [==============================] - ETA: 0s - loss: 16.4741 - accuracy: 0.2279"
     ]
    },
    {
     "name": "stderr",
     "output_type": "stream",
     "text": [
      "2022-05-18 16:08:43.130599: I tensorflow/core/grappler/optimizers/custom_graph_optimizer_registry.cc:113] Plugin optimizer for device_type GPU is enabled.\n"
     ]
    },
    {
     "name": "stdout",
     "output_type": "stream",
     "text": [
      "30/30 [==============================] - 10s 280ms/step - loss: 16.4741 - accuracy: 0.2279 - val_loss: 12.1143 - val_accuracy: 0.2247\n",
      "Epoch 2/50\n",
      "30/30 [==============================] - 8s 267ms/step - loss: 9.4016 - accuracy: 0.2295 - val_loss: 6.9937 - val_accuracy: 0.2247\n",
      "Epoch 3/50\n",
      "30/30 [==============================] - 8s 269ms/step - loss: 5.5852 - accuracy: 0.2295 - val_loss: 4.3527 - val_accuracy: 0.2247\n",
      "Epoch 4/50\n",
      "30/30 [==============================] - 8s 265ms/step - loss: 3.5469 - accuracy: 0.2295 - val_loss: 2.8603 - val_accuracy: 0.2247\n",
      "Epoch 5/50\n",
      "30/30 [==============================] - 8s 263ms/step - loss: 2.4588 - accuracy: 0.2295 - val_loss: 2.1775 - val_accuracy: 0.2247\n",
      "Epoch 6/50\n",
      "30/30 [==============================] - 8s 267ms/step - loss: 2.1206 - accuracy: 0.2295 - val_loss: 2.1093 - val_accuracy: 0.2247\n"
     ]
    },
    {
     "data": {
      "image/png": "[encoded data removed]",
      "text/plain": [
       "<Figure size 1080x288 with 2 Axes>"
      ]
     },
     "metadata": {
      "needs_background": "light"
     },
     "output_type": "display_data"
    }
   ],
   "source": [
    "# added L1 regularization\n",
    "mdl12_1 = tf.keras.models.Sequential([\n",
    "    tf.keras.layers.Conv2D(32,\n",
    "                           (3,3), \n",
    "                           activation='relu', \n",
    "                           input_shape=(48, 48, 1),\n",
    "                           padding='same',\n",
    "                           kernel_regularizer=regularizers.L1(1e-3),\n",
    "                           bias_regularizer=regularizers.L1(1e-3)),\n",
    "    tf.keras.layers.MaxPooling2D(2, 2),\n",
    "    \n",
    "    tf.keras.layers.Conv2D(64, (3,3), activation='relu',\n",
    "                           kernel_regularizer=regularizers.L1(1e-3), \n",
    "                           bias_regularizer=regularizers.L1(1e-3)),\n",
    "    tf.keras.layers.MaxPooling2D(2,2),\n",
    "    \n",
    "    tf.keras.layers.Conv2D(128, (3,3), activation='relu',\n",
    "                           kernel_regularizer=regularizers.L1(1e-3),\n",
    "                           bias_regularizer=regularizers.L1(1e-3)),\n",
    "    tf.keras.layers.MaxPooling2D(2,2),\n",
    "    \n",
    "    tf.keras.layers.Conv2D(256, (3,3), activation='relu',\n",
    "                           kernel_regularizer=regularizers.L1(1e-3),\n",
    "                           bias_regularizer=regularizers.L1(1e-3)),\n",
    "    tf.keras.layers.MaxPooling2D(2,2),\n",
    "    tf.keras.layers.Dropout(0.5),\n",
    "    \n",
    "    tf.keras.layers.Flatten(),\n",
    "    tf.keras.layers.Dense(512, activation='relu',\n",
    "                          kernel_regularizer=regularizers.L1(1e-3),\n",
    "                          bias_regularizer=regularizers.L1(1e-3)),\n",
    "    tf.keras.layers.Dropout(0.3),\n",
    "    tf.keras.layers.Dense(256, activation='relu',\n",
    "                          kernel_regularizer=regularizers.L1(1e-3),\n",
    "                          bias_regularizer=regularizers.L1(1e-3)),\n",
    "    tf.keras.layers.Dropout(0.25),\n",
    "    tf.keras.layers.Dense(7, activation='softmax',\n",
    "                          kernel_regularizer=regularizers.L1(1e-3),\n",
    "                          bias_regularizer=regularizers.L1(1e-3))\n",
    "])\n",
    "\n",
    "mdl12_1.compile(loss='sparse_categorical_crossentropy',\n",
    "              optimizer=RMSprop(learning_rate=0.0005),\n",
    "              metrics=['accuracy'])\n",
    "\n",
    "history_mdl12_1 = mdl12_1.fit(\n",
    "      train_datagen,\n",
    "      validation_data = valid_datagen,  \n",
    "      epochs = 50,\n",
    "      steps_per_epoch=len(X_train)/train_batch,\n",
    "      validation_steps=len(X_test)/test_batch,\n",
    "      verbose=1,\n",
    "      callbacks=[callbacks])\n",
    "\n",
    "plot_model_accuracy(history_mdl12_1)"
   ]
  },
  {
   "cell_type": "markdown",
   "id": "bfe50030",
   "metadata": {},
   "source": [
    "## L1 Activity Regularization: gets stuck at 22.47% val_accuracy"
   ]
  },
  {
   "cell_type": "code",
   "execution_count": 108,
   "id": "c0646723",
   "metadata": {},
   "outputs": [
    {
     "name": "stdout",
     "output_type": "stream",
     "text": [
      "Epoch 1/50\n"
     ]
    },
    {
     "name": "stderr",
     "output_type": "stream",
     "text": [
      "2022-05-18 16:15:58.023911: I tensorflow/core/grappler/optimizers/custom_graph_optimizer_registry.cc:113] Plugin optimizer for device_type GPU is enabled.\n"
     ]
    },
    {
     "name": "stdout",
     "output_type": "stream",
     "text": [
      "31/30 [==============================] - ETA: 0s - loss: 3.4712 - accuracy: 0.2282 - sparse_categorical_crossentropy: 1.9162"
     ]
    },
    {
     "name": "stderr",
     "output_type": "stream",
     "text": [
      "2022-05-18 16:16:10.388232: I tensorflow/core/grappler/optimizers/custom_graph_optimizer_registry.cc:113] Plugin optimizer for device_type GPU is enabled.\n"
     ]
    },
    {
     "name": "stdout",
     "output_type": "stream",
     "text": [
      "30/30 [==============================] - 14s 420ms/step - loss: 3.4712 - accuracy: 0.2282 - sparse_categorical_crossentropy: 1.9162 - val_loss: 2.9712 - val_accuracy: 0.2247 - val_sparse_categorical_crossentropy: 1.9118\n",
      "Epoch 2/50\n",
      "30/30 [==============================] - 13s 405ms/step - loss: 2.2572 - accuracy: 0.2295 - sparse_categorical_crossentropy: 1.9081 - val_loss: 2.0697 - val_accuracy: 0.2247 - val_sparse_categorical_crossentropy: 1.9116\n",
      "Epoch 3/50\n",
      "30/30 [==============================] - 12s 395ms/step - loss: 1.9508 - accuracy: 0.2295 - sparse_categorical_crossentropy: 1.9081 - val_loss: 1.9430 - val_accuracy: 0.2247 - val_sparse_categorical_crossentropy: 1.9115\n",
      "Epoch 4/50\n",
      "30/30 [==============================] - 12s 402ms/step - loss: 1.9215 - accuracy: 0.2295 - sparse_categorical_crossentropy: 1.9081 - val_loss: 1.9244 - val_accuracy: 0.2247 - val_sparse_categorical_crossentropy: 1.9117\n",
      "Epoch 5/50\n",
      "30/30 [==============================] - 12s 398ms/step - loss: 1.9151 - accuracy: 0.2295 - sparse_categorical_crossentropy: 1.9082 - val_loss: 1.9179 - val_accuracy: 0.2247 - val_sparse_categorical_crossentropy: 1.9116\n",
      "Epoch 6/50\n",
      "30/30 [==============================] - 13s 410ms/step - loss: 1.9131 - accuracy: 0.2295 - sparse_categorical_crossentropy: 1.9080 - val_loss: 1.9168 - val_accuracy: 0.2247 - val_sparse_categorical_crossentropy: 1.9116\n"
     ]
    },
    {
     "data": {
      "image/png": "[encoded data removed]",
      "text/plain": [
       "<Figure size 1080x288 with 2 Axes>"
      ]
     },
     "metadata": {
      "needs_background": "light"
     },
     "output_type": "display_data"
    }
   ],
   "source": [
    "mdl13_1 = tf.keras.models.Sequential([\n",
    "    tf.keras.layers.Conv2D(32,\n",
    "                           (3,3), \n",
    "                           activation='relu', \n",
    "                           input_shape=(48, 48, 1),\n",
    "                           padding='same',\n",
    "                           activity_regularizer=regularizers.L1(1e-3)),\n",
    "    tf.keras.layers.MaxPooling2D(2, 2),\n",
    "    \n",
    "    tf.keras.layers.Conv2D(64, (3,3), activation='relu',\n",
    "                           activity_regularizer=regularizers.L1(1e-3)),\n",
    "    tf.keras.layers.MaxPooling2D(2,2),\n",
    "    \n",
    "    tf.keras.layers.Conv2D(128, (3,3), activation='relu',\n",
    "                           activity_regularizer=regularizers.L1(1e-3)),\n",
    "    tf.keras.layers.MaxPooling2D(2,2),\n",
    "    \n",
    "    tf.keras.layers.Conv2D(256, (3,3), activation='relu',\n",
    "                           activity_regularizer=regularizers.L1(1e-3)),\n",
    "    tf.keras.layers.MaxPooling2D(2,2),\n",
    "    tf.keras.layers.Dropout(0.5),\n",
    "    \n",
    "    tf.keras.layers.Flatten(),\n",
    "    tf.keras.layers.Dense(512, activation='relu',\n",
    "                          activity_regularizer=regularizers.L1(1e-3)),\n",
    "    tf.keras.layers.Dropout(0.3),\n",
    "    tf.keras.layers.Dense(256, activation='relu',\n",
    "                          activity_regularizer=regularizers.L1(1e-3)),\n",
    "    tf.keras.layers.Dropout(0.25),\n",
    "    tf.keras.layers.Dense(7, activation='softmax',\n",
    "                          activity_regularizer=regularizers.L1(1e-3))\n",
    "])\n",
    "\n",
    "mdl13_1.compile(loss='sparse_categorical_crossentropy',\n",
    "              optimizer=RMSprop(learning_rate=0.0005),\n",
    "              metrics=['accuracy','sparse_categorical_crossentropy'])\n",
    "\n",
    "history_mdl13_1 = mdl13_1.fit(\n",
    "      train_datagen,\n",
    "      validation_data = valid_datagen,  \n",
    "      epochs = 50,\n",
    "      steps_per_epoch=len(X_train)/train_batch,\n",
    "      validation_steps=len(X_test)/test_batch,\n",
    "      verbose=1,\n",
    "      callbacks=[callbacks])\n",
    "\n",
    "plot_model_accuracy(history_mdl13_1)"
   ]
  },
  {
   "cell_type": "markdown",
   "id": "f12d6287",
   "metadata": {},
   "source": [
    "## Removing regularizer from the last layer: gets stuck at 22.47% val_accuracy"
   ]
  },
  {
   "cell_type": "code",
   "execution_count": 109,
   "id": "56e4307e",
   "metadata": {},
   "outputs": [
    {
     "name": "stdout",
     "output_type": "stream",
     "text": [
      "Epoch 1/50\n"
     ]
    },
    {
     "name": "stderr",
     "output_type": "stream",
     "text": [
      "2022-05-18 16:17:51.974792: I tensorflow/core/grappler/optimizers/custom_graph_optimizer_registry.cc:113] Plugin optimizer for device_type GPU is enabled.\n"
     ]
    },
    {
     "name": "stdout",
     "output_type": "stream",
     "text": [
      "31/30 [==============================] - ETA: 0s - loss: 3.4628 - accuracy: 0.2281"
     ]
    },
    {
     "name": "stderr",
     "output_type": "stream",
     "text": [
      "2022-05-18 16:18:04.382535: I tensorflow/core/grappler/optimizers/custom_graph_optimizer_registry.cc:113] Plugin optimizer for device_type GPU is enabled.\n"
     ]
    },
    {
     "name": "stdout",
     "output_type": "stream",
     "text": [
      "30/30 [==============================] - 14s 420ms/step - loss: 3.4628 - accuracy: 0.2281 - val_loss: 2.9713 - val_accuracy: 0.2247\n",
      "Epoch 2/50\n",
      "30/30 [==============================] - 12s 394ms/step - loss: 2.2557 - accuracy: 0.2295 - val_loss: 2.0686 - val_accuracy: 0.2247\n",
      "Epoch 3/50\n",
      "30/30 [==============================] - 12s 386ms/step - loss: 1.9501 - accuracy: 0.2295 - val_loss: 1.9420 - val_accuracy: 0.2247\n",
      "Epoch 4/50\n",
      "30/30 [==============================] - 12s 380ms/step - loss: 1.9204 - accuracy: 0.2295 - val_loss: 1.9228 - val_accuracy: 0.2247\n",
      "Epoch 5/50\n",
      "30/30 [==============================] - 12s 381ms/step - loss: 1.9137 - accuracy: 0.2295 - val_loss: 1.9168 - val_accuracy: 0.2247\n",
      "Epoch 6/50\n",
      "30/30 [==============================] - 12s 375ms/step - loss: 1.9121 - accuracy: 0.2295 - val_loss: 1.9156 - val_accuracy: 0.2247\n"
     ]
    },
    {
     "data": {
      "image/png": "[encoded data removed]",
      "text/plain": [
       "<Figure size 1080x288 with 2 Axes>"
      ]
     },
     "metadata": {
      "needs_background": "light"
     },
     "output_type": "display_data"
    }
   ],
   "source": [
    "mdl14_1 = tf.keras.models.Sequential([\n",
    "    tf.keras.layers.Conv2D(32,\n",
    "                           (3,3), \n",
    "                           activation='relu', \n",
    "                           input_shape=(48, 48, 1),\n",
    "                           padding='same',\n",
    "                           activity_regularizer=regularizers.L1(1e-3)),\n",
    "    tf.keras.layers.MaxPooling2D(2, 2),\n",
    "    \n",
    "    tf.keras.layers.Conv2D(64, (3,3), activation='relu',\n",
    "                           activity_regularizer=regularizers.L1(1e-3)),\n",
    "    tf.keras.layers.MaxPooling2D(2,2),\n",
    "    \n",
    "    tf.keras.layers.Conv2D(128, (3,3), activation='relu',\n",
    "                           activity_regularizer=regularizers.L1(1e-3)),\n",
    "    tf.keras.layers.MaxPooling2D(2,2),\n",
    "    \n",
    "    tf.keras.layers.Conv2D(256, (3,3), activation='relu',\n",
    "                           activity_regularizer=regularizers.L1(1e-3)),\n",
    "    tf.keras.layers.MaxPooling2D(2,2),\n",
    "    tf.keras.layers.Dropout(0.5),\n",
    "    \n",
    "    tf.keras.layers.Flatten(),\n",
    "    tf.keras.layers.Dense(512, activation='relu',\n",
    "                          activity_regularizer=regularizers.L1(1e-3)),\n",
    "    tf.keras.layers.Dropout(0.3),\n",
    "    tf.keras.layers.Dense(256, activation='relu',\n",
    "                          activity_regularizer=regularizers.L1(1e-3)),\n",
    "    tf.keras.layers.Dropout(0.25),\n",
    "    tf.keras.layers.Dense(7, activation='softmax')\n",
    "])\n",
    "\n",
    "mdl14_1.compile(loss='sparse_categorical_crossentropy',\n",
    "              optimizer=RMSprop(learning_rate=0.0005),\n",
    "              metrics=['accuracy'])\n",
    "\n",
    "history_mdl14_1 = mdl14_1.fit(\n",
    "      train_datagen,\n",
    "      validation_data = valid_datagen,  \n",
    "      epochs = 50,\n",
    "      steps_per_epoch=len(X_train)/train_batch,\n",
    "      validation_steps=len(X_test)/test_batch,\n",
    "      verbose=1,\n",
    "      callbacks=[callbacks])\n",
    "\n",
    "plot_model_accuracy(history_mdl14_1)"
   ]
  },
  {
   "cell_type": "markdown",
   "id": "4fc2779e",
   "metadata": {},
   "source": [
    "## L2 Kernel & Bias: gets stuck at 22.47% val_accuracy"
   ]
  },
  {
   "cell_type": "code",
   "execution_count": 110,
   "id": "7ac406fa",
   "metadata": {},
   "outputs": [
    {
     "name": "stdout",
     "output_type": "stream",
     "text": [
      "Epoch 1/50\n"
     ]
    },
    {
     "name": "stderr",
     "output_type": "stream",
     "text": [
      "2022-05-18 16:20:26.718005: I tensorflow/core/grappler/optimizers/custom_graph_optimizer_registry.cc:113] Plugin optimizer for device_type GPU is enabled.\n"
     ]
    },
    {
     "name": "stdout",
     "output_type": "stream",
     "text": [
      "31/30 [==============================] - ETA: 0s - loss: 2.6218 - accuracy: 0.2271"
     ]
    },
    {
     "name": "stderr",
     "output_type": "stream",
     "text": [
      "2022-05-18 16:20:35.756860: I tensorflow/core/grappler/optimizers/custom_graph_optimizer_registry.cc:113] Plugin optimizer for device_type GPU is enabled.\n"
     ]
    },
    {
     "name": "stdout",
     "output_type": "stream",
     "text": [
      "30/30 [==============================] - 11s 310ms/step - loss: 2.6218 - accuracy: 0.2271 - val_loss: 2.4310 - val_accuracy: 0.2247\n",
      "Epoch 2/50\n",
      "30/30 [==============================] - 8s 270ms/step - loss: 2.3100 - accuracy: 0.2295 - val_loss: 2.2036 - val_accuracy: 0.2247\n",
      "Epoch 3/50\n",
      "30/30 [==============================] - 8s 271ms/step - loss: 2.1260 - accuracy: 0.2295 - val_loss: 2.0612 - val_accuracy: 0.2247\n",
      "Epoch 4/50\n",
      "30/30 [==============================] - 8s 265ms/step - loss: 2.0167 - accuracy: 0.2295 - val_loss: 1.9798 - val_accuracy: 0.2247\n",
      "Epoch 5/50\n",
      "30/30 [==============================] - 8s 265ms/step - loss: 1.9599 - accuracy: 0.2291 - val_loss: 1.9431 - val_accuracy: 0.2247\n",
      "Epoch 6/50\n",
      "30/30 [==============================] - 8s 269ms/step - loss: 1.9337 - accuracy: 0.2300 - val_loss: 1.9283 - val_accuracy: 0.2247\n"
     ]
    },
    {
     "data": {
      "image/png": "[encoded data removed]",
      "text/plain": [
       "<Figure size 1080x288 with 2 Axes>"
      ]
     },
     "metadata": {
      "needs_background": "light"
     },
     "output_type": "display_data"
    }
   ],
   "source": [
    "mdl15_1 = tf.keras.models.Sequential([\n",
    "    tf.keras.layers.Conv2D(32,\n",
    "                           (3,3), \n",
    "                           activation='relu', \n",
    "                           input_shape=(48, 48, 1),\n",
    "                           padding='same',\n",
    "                           kernel_regularizer=regularizers.L2(1e-3),\n",
    "                           bias_regularizer=regularizers.L2(1e-3)),\n",
    "    tf.keras.layers.MaxPooling2D(2, 2),\n",
    "    \n",
    "    tf.keras.layers.Conv2D(64, (3,3), activation='relu',\n",
    "                           kernel_regularizer=regularizers.L2(1e-3), \n",
    "                           bias_regularizer=regularizers.L2(1e-3)),\n",
    "    tf.keras.layers.MaxPooling2D(2,2),\n",
    "    \n",
    "    tf.keras.layers.Conv2D(128, (3,3), activation='relu',\n",
    "                           kernel_regularizer=regularizers.L2(1e-3),\n",
    "                           bias_regularizer=regularizers.L2(1e-3)),\n",
    "    tf.keras.layers.MaxPooling2D(2,2),\n",
    "    \n",
    "    tf.keras.layers.Conv2D(256, (3,3), activation='relu',\n",
    "                           kernel_regularizer=regularizers.L2(1e-3),\n",
    "                           bias_regularizer=regularizers.L2(1e-3)),\n",
    "    tf.keras.layers.MaxPooling2D(2,2),\n",
    "    tf.keras.layers.Dropout(0.5),\n",
    "    \n",
    "    tf.keras.layers.Flatten(),\n",
    "    tf.keras.layers.Dense(512, activation='relu',\n",
    "                          kernel_regularizer=regularizers.L2(1e-3),\n",
    "                          bias_regularizer=regularizers.L2(1e-3)),\n",
    "    tf.keras.layers.Dropout(0.3),\n",
    "    tf.keras.layers.Dense(256, activation='relu',\n",
    "                          kernel_regularizer=regularizers.L2(1e-3),\n",
    "                          bias_regularizer=regularizers.L2(1e-3)),\n",
    "    tf.keras.layers.Dropout(0.25),\n",
    "    tf.keras.layers.Dense(7, activation='softmax',\n",
    "                          kernel_regularizer=regularizers.L2(1e-3),\n",
    "                          bias_regularizer=regularizers.L2(1e-3))\n",
    "])\n",
    "\n",
    "mdl15_1.compile(loss='sparse_categorical_crossentropy',\n",
    "              optimizer=RMSprop(learning_rate=0.0005),\n",
    "              metrics=['accuracy'])\n",
    "\n",
    "history_mdl15_1 = mdl15_1.fit(\n",
    "      train_datagen,\n",
    "      validation_data = valid_datagen,  \n",
    "      epochs = 50,\n",
    "      steps_per_epoch=len(X_train)/train_batch,\n",
    "      validation_steps=len(X_test)/test_batch,\n",
    "      verbose=1,\n",
    "      callbacks=[callbacks])\n",
    "\n",
    "plot_model_accuracy(history_mdl15_1)"
   ]
  },
  {
   "cell_type": "markdown",
   "id": "45530a87",
   "metadata": {},
   "source": [
    "## L2 Activity: significantly slows down training but gives better result\n",
    "### 12-20s per epoch // 53.22% val accuracy after 50 epocs\n",
    "### vs 8s Per epoch, 52.05% val accuracy of the base model"
   ]
  },
  {
   "cell_type": "code",
   "execution_count": 111,
   "id": "ebfe8065",
   "metadata": {},
   "outputs": [
    {
     "name": "stdout",
     "output_type": "stream",
     "text": [
      "Epoch 1/50\n"
     ]
    },
    {
     "name": "stderr",
     "output_type": "stream",
     "text": [
      "2022-05-18 16:22:56.106367: I tensorflow/core/grappler/optimizers/custom_graph_optimizer_registry.cc:113] Plugin optimizer for device_type GPU is enabled.\n"
     ]
    },
    {
     "name": "stdout",
     "output_type": "stream",
     "text": [
      "31/30 [==============================] - ETA: 0s - loss: 2.1332 - accuracy: 0.2284 - sparse_categorical_crossentropy: 1.9112"
     ]
    },
    {
     "name": "stderr",
     "output_type": "stream",
     "text": [
      "2022-05-18 16:23:08.377768: I tensorflow/core/grappler/optimizers/custom_graph_optimizer_registry.cc:113] Plugin optimizer for device_type GPU is enabled.\n"
     ]
    },
    {
     "name": "stdout",
     "output_type": "stream",
     "text": [
      "30/30 [==============================] - 14s 404ms/step - loss: 2.1332 - accuracy: 0.2284 - sparse_categorical_crossentropy: 1.9112 - val_loss: 2.0402 - val_accuracy: 0.2247 - val_sparse_categorical_crossentropy: 1.9077\n",
      "Epoch 2/50\n",
      "30/30 [==============================] - 12s 382ms/step - loss: 1.9412 - accuracy: 0.2313 - sparse_categorical_crossentropy: 1.8965 - val_loss: 1.9337 - val_accuracy: 0.2247 - val_sparse_categorical_crossentropy: 1.9078\n",
      "Epoch 3/50\n",
      "30/30 [==============================] - 12s 397ms/step - loss: 1.9002 - accuracy: 0.2285 - sparse_categorical_crossentropy: 1.8907 - val_loss: 1.9102 - val_accuracy: 0.2077 - val_sparse_categorical_crossentropy: 1.9015\n",
      "Epoch 4/50\n",
      "30/30 [==============================] - 13s 423ms/step - loss: 1.8931 - accuracy: 0.2298 - sparse_categorical_crossentropy: 1.8877 - val_loss: 1.8832 - val_accuracy: 0.2321 - val_sparse_categorical_crossentropy: 1.8767\n",
      "Epoch 5/50\n",
      "30/30 [==============================] - 12s 390ms/step - loss: 1.8880 - accuracy: 0.2312 - sparse_categorical_crossentropy: 1.8834 - val_loss: 1.8829 - val_accuracy: 0.2286 - val_sparse_categorical_crossentropy: 1.8755\n",
      "Epoch 6/50\n",
      "30/30 [==============================] - 12s 384ms/step - loss: 1.8800 - accuracy: 0.2344 - sparse_categorical_crossentropy: 1.8753 - val_loss: 1.8483 - val_accuracy: 0.2509 - val_sparse_categorical_crossentropy: 1.8408\n",
      "Epoch 7/50\n",
      "30/30 [==============================] - 12s 381ms/step - loss: 1.8742 - accuracy: 0.2360 - sparse_categorical_crossentropy: 1.8695 - val_loss: 1.8445 - val_accuracy: 0.2558 - val_sparse_categorical_crossentropy: 1.8370\n",
      "Epoch 8/50\n",
      "30/30 [==============================] - 12s 396ms/step - loss: 1.8687 - accuracy: 0.2402 - sparse_categorical_crossentropy: 1.8639 - val_loss: 1.8611 - val_accuracy: 0.2404 - val_sparse_categorical_crossentropy: 1.8536\n",
      "Epoch 9/50\n",
      "30/30 [==============================] - 12s 389ms/step - loss: 1.8611 - accuracy: 0.2451 - sparse_categorical_crossentropy: 1.8563 - val_loss: 1.8099 - val_accuracy: 0.2765 - val_sparse_categorical_crossentropy: 1.8023\n",
      "Epoch 10/50\n",
      "30/30 [==============================] - 12s 384ms/step - loss: 1.8536 - accuracy: 0.2500 - sparse_categorical_crossentropy: 1.8485 - val_loss: 1.7979 - val_accuracy: 0.2809 - val_sparse_categorical_crossentropy: 1.7904\n",
      "Epoch 11/50\n",
      "30/30 [==============================] - 13s 403ms/step - loss: 1.8459 - accuracy: 0.2555 - sparse_categorical_crossentropy: 1.8406 - val_loss: 1.8167 - val_accuracy: 0.2642 - val_sparse_categorical_crossentropy: 1.8082\n",
      "Epoch 12/50\n",
      "30/30 [==============================] - 13s 431ms/step - loss: 1.8409 - accuracy: 0.2580 - sparse_categorical_crossentropy: 1.8354 - val_loss: 1.7598 - val_accuracy: 0.3031 - val_sparse_categorical_crossentropy: 1.7512\n",
      "Epoch 13/50\n",
      "30/30 [==============================] - 14s 469ms/step - loss: 1.8245 - accuracy: 0.2655 - sparse_categorical_crossentropy: 1.8188 - val_loss: 1.7298 - val_accuracy: 0.3095 - val_sparse_categorical_crossentropy: 1.7205\n",
      "Epoch 14/50\n",
      "30/30 [==============================] - 15s 473ms/step - loss: 1.8145 - accuracy: 0.2687 - sparse_categorical_crossentropy: 1.8086 - val_loss: 1.7209 - val_accuracy: 0.3121 - val_sparse_categorical_crossentropy: 1.7100\n",
      "Epoch 15/50\n",
      "30/30 [==============================] - 15s 489ms/step - loss: 1.8062 - accuracy: 0.2754 - sparse_categorical_crossentropy: 1.7999 - val_loss: 1.7262 - val_accuracy: 0.3359 - val_sparse_categorical_crossentropy: 1.7160\n",
      "Epoch 16/50\n",
      "30/30 [==============================] - 16s 506ms/step - loss: 1.7884 - accuracy: 0.2881 - sparse_categorical_crossentropy: 1.7819 - val_loss: 1.7345 - val_accuracy: 0.3233 - val_sparse_categorical_crossentropy: 1.7222\n",
      "Epoch 17/50\n",
      "30/30 [==============================] - 16s 524ms/step - loss: 1.7778 - accuracy: 0.2954 - sparse_categorical_crossentropy: 1.7709 - val_loss: 1.6327 - val_accuracy: 0.3759 - val_sparse_categorical_crossentropy: 1.6211\n",
      "Epoch 18/50\n",
      "30/30 [==============================] - 16s 531ms/step - loss: 1.7606 - accuracy: 0.3034 - sparse_categorical_crossentropy: 1.7532 - val_loss: 1.6877 - val_accuracy: 0.3504 - val_sparse_categorical_crossentropy: 1.6754\n",
      "Epoch 19/50\n",
      "30/30 [==============================] - 17s 547ms/step - loss: 1.7536 - accuracy: 0.3105 - sparse_categorical_crossentropy: 1.7458 - val_loss: 1.6034 - val_accuracy: 0.3887 - val_sparse_categorical_crossentropy: 1.5890\n",
      "Epoch 20/50\n",
      "30/30 [==============================] - 17s 559ms/step - loss: 1.7325 - accuracy: 0.3233 - sparse_categorical_crossentropy: 1.7244 - val_loss: 1.5634 - val_accuracy: 0.4195 - val_sparse_categorical_crossentropy: 1.5487\n",
      "Epoch 21/50\n",
      "30/30 [==============================] - 17s 554ms/step - loss: 1.7147 - accuracy: 0.3314 - sparse_categorical_crossentropy: 1.7061 - val_loss: 1.5305 - val_accuracy: 0.4334 - val_sparse_categorical_crossentropy: 1.5152\n",
      "Epoch 22/50\n",
      "30/30 [==============================] - 17s 562ms/step - loss: 1.6988 - accuracy: 0.3413 - sparse_categorical_crossentropy: 1.6897 - val_loss: 1.6001 - val_accuracy: 0.3984 - val_sparse_categorical_crossentropy: 1.5853\n",
      "Epoch 23/50\n",
      "30/30 [==============================] - 17s 564ms/step - loss: 1.6890 - accuracy: 0.3453 - sparse_categorical_crossentropy: 1.6796 - val_loss: 1.6806 - val_accuracy: 0.3651 - val_sparse_categorical_crossentropy: 1.6631\n",
      "Epoch 24/50\n",
      "30/30 [==============================] - 17s 558ms/step - loss: 1.6745 - accuracy: 0.3503 - sparse_categorical_crossentropy: 1.6648 - val_loss: 1.5789 - val_accuracy: 0.4210 - val_sparse_categorical_crossentropy: 1.5601\n",
      "Epoch 25/50\n",
      "30/30 [==============================] - 19s 604ms/step - loss: 1.6647 - accuracy: 0.3565 - sparse_categorical_crossentropy: 1.6546 - val_loss: 1.4873 - val_accuracy: 0.4455 - val_sparse_categorical_crossentropy: 1.4685\n",
      "Epoch 26/50\n",
      "30/30 [==============================] - 20s 645ms/step - loss: 1.6478 - accuracy: 0.3638 - sparse_categorical_crossentropy: 1.6374 - val_loss: 1.4777 - val_accuracy: 0.4496 - val_sparse_categorical_crossentropy: 1.4600\n",
      "Epoch 27/50\n",
      "30/30 [==============================] - 19s 619ms/step - loss: 1.6419 - accuracy: 0.3675 - sparse_categorical_crossentropy: 1.6314 - val_loss: 1.4845 - val_accuracy: 0.4519 - val_sparse_categorical_crossentropy: 1.4674\n",
      "Epoch 28/50\n",
      "30/30 [==============================] - 19s 621ms/step - loss: 1.6289 - accuracy: 0.3754 - sparse_categorical_crossentropy: 1.6182 - val_loss: 1.4313 - val_accuracy: 0.4714 - val_sparse_categorical_crossentropy: 1.4117\n",
      "Epoch 29/50\n",
      "30/30 [==============================] - 20s 656ms/step - loss: 1.6164 - accuracy: 0.3810 - sparse_categorical_crossentropy: 1.6054 - val_loss: 1.4484 - val_accuracy: 0.4604 - val_sparse_categorical_crossentropy: 1.4287\n",
      "Epoch 30/50\n",
      "30/30 [==============================] - 20s 657ms/step - loss: 1.6033 - accuracy: 0.3841 - sparse_categorical_crossentropy: 1.5920 - val_loss: 1.4584 - val_accuracy: 0.4483 - val_sparse_categorical_crossentropy: 1.4393\n",
      "Epoch 31/50\n",
      "30/30 [==============================] - 21s 692ms/step - loss: 1.5922 - accuracy: 0.3886 - sparse_categorical_crossentropy: 1.5807 - val_loss: 1.3997 - val_accuracy: 0.4897 - val_sparse_categorical_crossentropy: 1.3787\n",
      "Epoch 32/50\n",
      "30/30 [==============================] - 22s 701ms/step - loss: 1.5863 - accuracy: 0.3955 - sparse_categorical_crossentropy: 1.5746 - val_loss: 1.4618 - val_accuracy: 0.4512 - val_sparse_categorical_crossentropy: 1.4409\n",
      "Epoch 33/50\n",
      "30/30 [==============================] - 21s 694ms/step - loss: 1.5789 - accuracy: 0.4015 - sparse_categorical_crossentropy: 1.5671 - val_loss: 1.4222 - val_accuracy: 0.4645 - val_sparse_categorical_crossentropy: 1.4011\n",
      "Epoch 34/50\n",
      "30/30 [==============================] - 22s 706ms/step - loss: 1.5577 - accuracy: 0.4073 - sparse_categorical_crossentropy: 1.5456 - val_loss: 1.3811 - val_accuracy: 0.4897 - val_sparse_categorical_crossentropy: 1.3605\n",
      "Epoch 35/50\n",
      "30/30 [==============================] - 22s 722ms/step - loss: 1.5617 - accuracy: 0.4069 - sparse_categorical_crossentropy: 1.5496 - val_loss: 1.3503 - val_accuracy: 0.4986 - val_sparse_categorical_crossentropy: 1.3287\n",
      "Epoch 36/50\n"
     ]
    },
    {
     "name": "stdout",
     "output_type": "stream",
     "text": [
      "30/30 [==============================] - 23s 736ms/step - loss: 1.5566 - accuracy: 0.4083 - sparse_categorical_crossentropy: 1.5444 - val_loss: 1.3539 - val_accuracy: 0.5039 - val_sparse_categorical_crossentropy: 1.3322\n",
      "Epoch 37/50\n",
      "30/30 [==============================] - 23s 747ms/step - loss: 1.5478 - accuracy: 0.4095 - sparse_categorical_crossentropy: 1.5356 - val_loss: 1.3454 - val_accuracy: 0.5001 - val_sparse_categorical_crossentropy: 1.3241\n",
      "Epoch 38/50\n",
      "30/30 [==============================] - 24s 765ms/step - loss: 1.5282 - accuracy: 0.4197 - sparse_categorical_crossentropy: 1.5156 - val_loss: 1.3521 - val_accuracy: 0.5053 - val_sparse_categorical_crossentropy: 1.3313\n",
      "Epoch 39/50\n",
      "30/30 [==============================] - 23s 745ms/step - loss: 1.5251 - accuracy: 0.4221 - sparse_categorical_crossentropy: 1.5123 - val_loss: 1.3919 - val_accuracy: 0.4847 - val_sparse_categorical_crossentropy: 1.3706\n",
      "Epoch 40/50\n",
      "30/30 [==============================] - 22s 710ms/step - loss: 1.5146 - accuracy: 0.4249 - sparse_categorical_crossentropy: 1.5018 - val_loss: 1.3729 - val_accuracy: 0.4952 - val_sparse_categorical_crossentropy: 1.3509\n",
      "Epoch 41/50\n",
      "30/30 [==============================] - 22s 705ms/step - loss: 1.5097 - accuracy: 0.4281 - sparse_categorical_crossentropy: 1.4967 - val_loss: 1.3699 - val_accuracy: 0.4909 - val_sparse_categorical_crossentropy: 1.3486\n",
      "Epoch 42/50\n",
      "30/30 [==============================] - 22s 716ms/step - loss: 1.5036 - accuracy: 0.4317 - sparse_categorical_crossentropy: 1.4905 - val_loss: 1.2887 - val_accuracy: 0.5271 - val_sparse_categorical_crossentropy: 1.2665\n",
      "Epoch 43/50\n",
      "30/30 [==============================] - 22s 713ms/step - loss: 1.4951 - accuracy: 0.4338 - sparse_categorical_crossentropy: 1.4820 - val_loss: 1.3251 - val_accuracy: 0.5015 - val_sparse_categorical_crossentropy: 1.3022\n",
      "Epoch 44/50\n",
      "30/30 [==============================] - 22s 708ms/step - loss: 1.4916 - accuracy: 0.4365 - sparse_categorical_crossentropy: 1.4785 - val_loss: 1.3649 - val_accuracy: 0.4904 - val_sparse_categorical_crossentropy: 1.3419\n",
      "Epoch 45/50\n",
      "30/30 [==============================] - 22s 724ms/step - loss: 1.4865 - accuracy: 0.4386 - sparse_categorical_crossentropy: 1.4733 - val_loss: 1.3632 - val_accuracy: 0.4933 - val_sparse_categorical_crossentropy: 1.3403\n",
      "Epoch 46/50\n",
      "30/30 [==============================] - 22s 700ms/step - loss: 1.4887 - accuracy: 0.4363 - sparse_categorical_crossentropy: 1.4754 - val_loss: 1.2956 - val_accuracy: 0.5247 - val_sparse_categorical_crossentropy: 1.2738\n",
      "Epoch 47/50\n",
      "30/30 [==============================] - 22s 719ms/step - loss: 1.4698 - accuracy: 0.4456 - sparse_categorical_crossentropy: 1.4564 - val_loss: 1.2675 - val_accuracy: 0.5295 - val_sparse_categorical_crossentropy: 1.2451\n",
      "Epoch 48/50\n",
      "30/30 [==============================] - 22s 715ms/step - loss: 1.4730 - accuracy: 0.4448 - sparse_categorical_crossentropy: 1.4596 - val_loss: 1.2959 - val_accuracy: 0.5185 - val_sparse_categorical_crossentropy: 1.2721\n",
      "Epoch 49/50\n",
      "30/30 [==============================] - 22s 700ms/step - loss: 1.4753 - accuracy: 0.4408 - sparse_categorical_crossentropy: 1.4616 - val_loss: 1.3200 - val_accuracy: 0.5128 - val_sparse_categorical_crossentropy: 1.2977\n",
      "Epoch 50/50\n",
      "30/30 [==============================] - 22s 710ms/step - loss: 1.4537 - accuracy: 0.4536 - sparse_categorical_crossentropy: 1.4400 - val_loss: 1.2676 - val_accuracy: 0.5322 - val_sparse_categorical_crossentropy: 1.2447\n"
     ]
    },
    {
     "data": {
      "image/png": "[encoded data removed]",
      "text/plain": [
       "<Figure size 1080x288 with 2 Axes>"
      ]
     },
     "metadata": {
      "needs_background": "light"
     },
     "output_type": "display_data"
    }
   ],
   "source": [
    "mdl16_1 = tf.keras.models.Sequential([\n",
    "    tf.keras.layers.Conv2D(32,\n",
    "                           (3,3), \n",
    "                           activation='relu', \n",
    "                           input_shape=(48, 48, 1),\n",
    "                           padding='same',\n",
    "                           activity_regularizer=regularizers.L2(1e-3)),\n",
    "    tf.keras.layers.MaxPooling2D(2, 2),\n",
    "    \n",
    "    tf.keras.layers.Conv2D(64, (3,3), activation='relu',\n",
    "                           activity_regularizer=regularizers.L2(1e-3)),\n",
    "    tf.keras.layers.MaxPooling2D(2,2),\n",
    "    \n",
    "    tf.keras.layers.Conv2D(128, (3,3), activation='relu',\n",
    "                           activity_regularizer=regularizers.L2(1e-3)),\n",
    "    tf.keras.layers.MaxPooling2D(2,2),\n",
    "    \n",
    "    tf.keras.layers.Conv2D(256, (3,3), activation='relu',\n",
    "                           activity_regularizer=regularizers.L2(1e-3)),\n",
    "    tf.keras.layers.MaxPooling2D(2,2),\n",
    "    tf.keras.layers.Dropout(0.5),\n",
    "    \n",
    "    tf.keras.layers.Flatten(),\n",
    "    tf.keras.layers.Dense(512, activation='relu',\n",
    "                          activity_regularizer=regularizers.L2(1e-3)),\n",
    "    tf.keras.layers.Dropout(0.3),\n",
    "    tf.keras.layers.Dense(256, activation='relu',\n",
    "                          activity_regularizer=regularizers.L2(1e-3)),\n",
    "    tf.keras.layers.Dropout(0.25),\n",
    "    tf.keras.layers.Dense(7, activation='softmax',\n",
    "                          activity_regularizer=regularizers.L2(1e-3))\n",
    "])\n",
    "\n",
    "mdl16_1.compile(loss='sparse_categorical_crossentropy',\n",
    "              optimizer=RMSprop(learning_rate=0.0005),\n",
    "              metrics=['accuracy','sparse_categorical_crossentropy'])\n",
    "\n",
    "history_mdl16_1 = mdl16_1.fit(\n",
    "      train_datagen,\n",
    "      validation_data = valid_datagen,  \n",
    "      epochs = 50,\n",
    "      steps_per_epoch=len(X_train)/train_batch,\n",
    "      validation_steps=len(X_test)/test_batch,\n",
    "      verbose=1,\n",
    "      callbacks=[callbacks])\n",
    "\n",
    "plot_model_accuracy(history_mdl16_1)"
   ]
  },
  {
   "cell_type": "code",
   "execution_count": 121,
   "id": "06b84f07",
   "metadata": {},
   "outputs": [
    {
     "name": "stdout",
     "output_type": "stream",
     "text": [
      "Evaluate on test data\n",
      "62/62 [==============================] - 1s 16ms/step - loss: 1.2676 - accuracy: 0.5322 - sparse_categorical_crossentropy: 1.2447\n"
     ]
    }
   ],
   "source": [
    "# Evaluate the model on the test data using `evaluate`\n",
    "print(\"Evaluate on test data\")\n",
    "# test_loss, test_acc = mdl16_1.evaluate(X_test, y_test, batch_size=128)\n",
    "result = mdl16_1.evaluate(X_test, y_test, batch_size=128)\n",
    "# print('test_loss, test_acc: ',np.round(test_loss,4), np.round(test_acc*100.0,4))"
   ]
  },
  {
   "cell_type": "markdown",
   "id": "5797f8bd",
   "metadata": {},
   "source": [
    "## L1L2 Kernel & Bias: gets stuck at 22.95% validation accuracy"
   ]
  },
  {
   "cell_type": "code",
   "execution_count": 122,
   "id": "ee604017",
   "metadata": {},
   "outputs": [
    {
     "name": "stdout",
     "output_type": "stream",
     "text": [
      "Epoch 1/50\n"
     ]
    },
    {
     "name": "stderr",
     "output_type": "stream",
     "text": [
      "2022-05-18 16:48:39.036020: I tensorflow/core/grappler/optimizers/custom_graph_optimizer_registry.cc:113] Plugin optimizer for device_type GPU is enabled.\n"
     ]
    },
    {
     "name": "stdout",
     "output_type": "stream",
     "text": [
      "31/30 [==============================] - ETA: 0s - loss: 17.1135 - accuracy: 0.2265"
     ]
    },
    {
     "name": "stderr",
     "output_type": "stream",
     "text": [
      "2022-05-18 16:48:48.475727: I tensorflow/core/grappler/optimizers/custom_graph_optimizer_registry.cc:113] Plugin optimizer for device_type GPU is enabled.\n"
     ]
    },
    {
     "name": "stdout",
     "output_type": "stream",
     "text": [
      "30/30 [==============================] - 11s 293ms/step - loss: 17.1135 - accuracy: 0.2265 - val_loss: 12.5516 - val_accuracy: 0.2247\n",
      "Epoch 2/50\n",
      "30/30 [==============================] - 8s 266ms/step - loss: 9.6915 - accuracy: 0.2295 - val_loss: 7.2162 - val_accuracy: 0.2247\n",
      "Epoch 3/50\n",
      "30/30 [==============================] - 8s 266ms/step - loss: 5.7430 - accuracy: 0.2295 - val_loss: 4.4581 - val_accuracy: 0.2247\n",
      "Epoch 4/50\n",
      "30/30 [==============================] - 8s 266ms/step - loss: 3.6258 - accuracy: 0.2295 - val_loss: 2.9080 - val_accuracy: 0.2247\n",
      "Epoch 5/50\n",
      "30/30 [==============================] - 8s 264ms/step - loss: 2.4914 - accuracy: 0.2295 - val_loss: 2.1922 - val_accuracy: 0.2247\n",
      "Epoch 6/50\n",
      "30/30 [==============================] - 8s 260ms/step - loss: 2.1254 - accuracy: 0.2295 - val_loss: 2.1110 - val_accuracy: 0.2247\n"
     ]
    },
    {
     "data": {
      "image/png": "[encoded data removed]",
      "text/plain": [
       "<Figure size 1080x288 with 2 Axes>"
      ]
     },
     "metadata": {
      "needs_background": "light"
     },
     "output_type": "display_data"
    }
   ],
   "source": [
    "mdl17_1 = tf.keras.models.Sequential([\n",
    "    tf.keras.layers.Conv2D(32,\n",
    "                           (3,3), \n",
    "                           activation='relu', \n",
    "                           input_shape=(48, 48, 1),\n",
    "                           padding='same',\n",
    "                           kernel_regularizer=regularizers.L1L2(l1=1e-3,l2=1e-3),\n",
    "                           bias_regularizer=regularizers.L1L2(l1=1e-3,l2=1e-3)),\n",
    "    tf.keras.layers.MaxPooling2D(2, 2),\n",
    "    \n",
    "    tf.keras.layers.Conv2D(64, (3,3), activation='relu',\n",
    "                           kernel_regularizer=regularizers.L1L2(l1=1e-3,l2=1e-3), \n",
    "                           bias_regularizer=regularizers.L1L2(l1=1e-3,l2=1e-3)),\n",
    "    tf.keras.layers.MaxPooling2D(2,2),\n",
    "    \n",
    "    tf.keras.layers.Conv2D(128, (3,3), activation='relu',\n",
    "                           kernel_regularizer=regularizers.L1L2(l1=1e-3,l2=1e-3),\n",
    "                           bias_regularizer=regularizers.L1L2(l1=1e-3,l2=1e-3)),\n",
    "    tf.keras.layers.MaxPooling2D(2,2),\n",
    "    \n",
    "    tf.keras.layers.Conv2D(256, (3,3), activation='relu',\n",
    "                           kernel_regularizer=regularizers.L1L2(l1=1e-3,l2=1e-3),\n",
    "                           bias_regularizer=regularizers.L1L2(l1=1e-3,l2=1e-3)),\n",
    "    tf.keras.layers.MaxPooling2D(2,2),\n",
    "    tf.keras.layers.Dropout(0.5),\n",
    "    \n",
    "    tf.keras.layers.Flatten(),\n",
    "    tf.keras.layers.Dense(512, activation='relu',\n",
    "                          kernel_regularizer=regularizers.L1L2(l1=1e-3,l2=1e-3),\n",
    "                          bias_regularizer=regularizers.L1L2(l1=1e-3,l2=1e-3)),\n",
    "    tf.keras.layers.Dropout(0.3),\n",
    "    tf.keras.layers.Dense(256, activation='relu',\n",
    "                          kernel_regularizer=regularizers.L1L2(l1=1e-3,l2=1e-3),\n",
    "                          bias_regularizer=regularizers.L1L2(l1=1e-3,l2=1e-3)),\n",
    "    tf.keras.layers.Dropout(0.25),\n",
    "    tf.keras.layers.Dense(7, activation='softmax',\n",
    "                          kernel_regularizer=regularizers.L1L2(l1=1e-3,l2=1e-3),\n",
    "                          bias_regularizer=regularizers.L1L2(l1=1e-3,l2=1e-3))\n",
    "])\n",
    "\n",
    "mdl17_1.compile(loss='sparse_categorical_crossentropy',\n",
    "              optimizer=RMSprop(learning_rate=0.0005),\n",
    "              metrics=['accuracy'])\n",
    "\n",
    "history_mdl17_1 = mdl17_1.fit(\n",
    "      train_datagen,\n",
    "      validation_data = valid_datagen,  \n",
    "      epochs = 50,\n",
    "      steps_per_epoch=len(X_train)/train_batch,\n",
    "      validation_steps=len(X_test)/test_batch,\n",
    "      verbose=1,\n",
    "      callbacks=[callbacks])\n",
    "\n",
    "plot_model_accuracy(history_mdl17_1)"
   ]
  },
  {
   "cell_type": "markdown",
   "id": "07e082f7",
   "metadata": {},
   "source": [
    "## L1L2 Activity: gets stuck at 22.95% validation accuracy"
   ]
  },
  {
   "cell_type": "code",
   "execution_count": 123,
   "id": "ddd58830",
   "metadata": {},
   "outputs": [
    {
     "name": "stdout",
     "output_type": "stream",
     "text": [
      "Epoch 1/50\n"
     ]
    },
    {
     "name": "stderr",
     "output_type": "stream",
     "text": [
      "2022-05-18 16:50:53.430724: I tensorflow/core/grappler/optimizers/custom_graph_optimizer_registry.cc:113] Plugin optimizer for device_type GPU is enabled.\n"
     ]
    },
    {
     "name": "stdout",
     "output_type": "stream",
     "text": [
      "31/30 [==============================] - ETA: 0s - loss: 3.7108 - accuracy: 0.2279"
     ]
    },
    {
     "name": "stderr",
     "output_type": "stream",
     "text": [
      "2022-05-18 16:51:08.414491: I tensorflow/core/grappler/optimizers/custom_graph_optimizer_registry.cc:113] Plugin optimizer for device_type GPU is enabled.\n"
     ]
    },
    {
     "name": "stdout",
     "output_type": "stream",
     "text": [
      "30/30 [==============================] - 17s 499ms/step - loss: 3.7108 - accuracy: 0.2279 - val_loss: 3.1298 - val_accuracy: 0.2247\n",
      "Epoch 2/50\n",
      "30/30 [==============================] - 15s 479ms/step - loss: 2.3160 - accuracy: 0.2295 - val_loss: 2.1049 - val_accuracy: 0.2247\n",
      "Epoch 3/50\n",
      "30/30 [==============================] - 15s 473ms/step - loss: 1.9598 - accuracy: 0.2295 - val_loss: 1.9461 - val_accuracy: 0.2247\n",
      "Epoch 4/50\n",
      "30/30 [==============================] - 14s 468ms/step - loss: 1.9227 - accuracy: 0.2295 - val_loss: 1.9250 - val_accuracy: 0.2247\n",
      "Epoch 5/50\n",
      "30/30 [==============================] - 15s 476ms/step - loss: 1.9151 - accuracy: 0.2295 - val_loss: 1.9182 - val_accuracy: 0.2247\n",
      "Epoch 6/50\n",
      "30/30 [==============================] - 15s 474ms/step - loss: 1.9131 - accuracy: 0.2295 - val_loss: 1.9169 - val_accuracy: 0.2247\n"
     ]
    },
    {
     "data": {
      "image/png": "[encoded data removed]",
      "text/plain": [
       "<Figure size 1080x288 with 2 Axes>"
      ]
     },
     "metadata": {
      "needs_background": "light"
     },
     "output_type": "display_data"
    }
   ],
   "source": [
    "mdl18_1 = tf.keras.models.Sequential([\n",
    "    tf.keras.layers.Conv2D(32,\n",
    "                           (3,3), \n",
    "                           activation='relu', \n",
    "                           input_shape=(48, 48, 1),\n",
    "                           padding='same',\n",
    "                           activity_regularizer=regularizers.L1L2(l1=1e-3,l2=1e-3)),\n",
    "    tf.keras.layers.MaxPooling2D(2, 2),\n",
    "    \n",
    "    tf.keras.layers.Conv2D(64, (3,3), activation='relu',\n",
    "                           activity_regularizer=regularizers.L1L2(l1=1e-3,l2=1e-3)),\n",
    "    tf.keras.layers.MaxPooling2D(2,2),\n",
    "    \n",
    "    tf.keras.layers.Conv2D(128, (3,3), activation='relu',\n",
    "                           activity_regularizer=regularizers.L1L2(l1=1e-3,l2=1e-3)),\n",
    "    tf.keras.layers.MaxPooling2D(2,2),\n",
    "    \n",
    "    tf.keras.layers.Conv2D(256, (3,3), activation='relu',\n",
    "                           activity_regularizer=regularizers.L1L2(l1=1e-3,l2=1e-3)),\n",
    "    tf.keras.layers.MaxPooling2D(2,2),\n",
    "    tf.keras.layers.Dropout(0.5),\n",
    "    \n",
    "    tf.keras.layers.Flatten(),\n",
    "    tf.keras.layers.Dense(512, activation='relu',\n",
    "                          activity_regularizer=regularizers.L1L2(l1=1e-3,l2=1e-3)),\n",
    "    tf.keras.layers.Dropout(0.3),\n",
    "    tf.keras.layers.Dense(256, activation='relu',\n",
    "                          activity_regularizer=regularizers.L1L2(l1=1e-3,l2=1e-3)),\n",
    "    tf.keras.layers.Dropout(0.25),\n",
    "    tf.keras.layers.Dense(7, activation='softmax',\n",
    "                          activity_regularizer=regularizers.L1L2(l1=1e-3,l2=1e-3))\n",
    "])\n",
    "\n",
    "mdl18_1.compile(loss='sparse_categorical_crossentropy',\n",
    "              optimizer=RMSprop(learning_rate=0.0005),\n",
    "              metrics=['accuracy'])\n",
    "\n",
    "history_mdl18_1 = mdl18_1.fit(\n",
    "      train_datagen,\n",
    "      validation_data = valid_datagen,  \n",
    "      epochs = 50,\n",
    "      steps_per_epoch=len(X_train)/train_batch,\n",
    "      validation_steps=len(X_test)/test_batch,\n",
    "      verbose=1,\n",
    "      callbacks=[callbacks])\n",
    "\n",
    "plot_model_accuracy(history_mdl18_1)"
   ]
  },
  {
   "cell_type": "markdown",
   "id": "b9cac326",
   "metadata": {},
   "source": [
    "## Testing model 16_1 longer"
   ]
  },
  {
   "cell_type": "code",
   "execution_count": 16,
   "id": "52809f39",
   "metadata": {},
   "outputs": [],
   "source": [
    "# creating generators for image augmentation\n",
    "traingen = ImageDataGenerator(\n",
    "    rotation_range=40,\n",
    "    width_shift_range=0.2,\n",
    "    height_shift_range=0.2,\n",
    "    shear_range=0.2,\n",
    "    zoom_range=0.2,\n",
    "    horizontal_flip=True,\n",
    "    fill_mode='nearest'   \n",
    ")\n",
    "\n",
    "traingen.fit(X_train)\n",
    "train_batch = 1024\n",
    "traingen = traingen.flow(X_train, y_train, batch_size=train_batch)\n",
    "\n",
    "testgen = ImageDataGenerator()\n",
    "test_batch = 256\n",
    "testgen = testgen.flow(X_test, y_test, batch_size=test_batch)\n",
    "\n",
    "#checkpoint to save best weights\n",
    "checkpoint = tf.keras.callbacks.ModelCheckpoint('model_weights.h5',\n",
    "                             monitor='val_accuracy',\n",
    "                             save_weights_only=True,\n",
    "                             mode='max')\n",
    "\n",
    "# define number of epochs with no improvement after which training will be stopped\n",
    "earlystop = tf.keras.callbacks.EarlyStopping(monitor='val_accuracy',\n",
    "                          patience=10,\n",
    "                          mode='max')\n",
    "\n",
    "#define callbacks\n",
    "callbacks = [earlystop, checkpoint]"
   ]
  },
  {
   "cell_type": "code",
   "execution_count": 19,
   "id": "f1940262",
   "metadata": {},
   "outputs": [
    {
     "name": "stdout",
     "output_type": "stream",
     "text": [
      "Metal device set to: Apple M1\n"
     ]
    },
    {
     "name": "stderr",
     "output_type": "stream",
     "text": [
      "2022-05-18 22:40:03.319296: I tensorflow/core/common_runtime/pluggable_device/pluggable_device_factory.cc:305] Could not identify NUMA node of platform GPU ID 0, defaulting to 0. Your kernel may not have been built with NUMA support.\n",
      "2022-05-18 22:40:03.319434: I tensorflow/core/common_runtime/pluggable_device/pluggable_device_factory.cc:271] Created TensorFlow device (/job:localhost/replica:0/task:0/device:GPU:0 with 0 MB memory) -> physical PluggableDevice (device: 0, name: METAL, pci bus id: <undefined>)\n"
     ]
    },
    {
     "name": "stdout",
     "output_type": "stream",
     "text": [
      "Epoch 1/50\n"
     ]
    },
    {
     "name": "stderr",
     "output_type": "stream",
     "text": [
      "2022-05-18 22:40:03.586890: W tensorflow/core/platform/profile_utils/cpu_utils.cc:128] Failed to get CPU frequency: 0 Hz\n",
      "2022-05-18 22:40:04.080032: I tensorflow/core/grappler/optimizers/custom_graph_optimizer_registry.cc:113] Plugin optimizer for device_type GPU is enabled.\n"
     ]
    },
    {
     "name": "stdout",
     "output_type": "stream",
     "text": [
      "31/30 [==============================] - ETA: 0s - loss: 2.3229 - accuracy: 0.2256"
     ]
    },
    {
     "name": "stderr",
     "output_type": "stream",
     "text": [
      "2022-05-18 22:40:16.657637: I tensorflow/core/grappler/optimizers/custom_graph_optimizer_registry.cc:113] Plugin optimizer for device_type GPU is enabled.\n"
     ]
    },
    {
     "name": "stdout",
     "output_type": "stream",
     "text": [
      "30/30 [==============================] - 14s 423ms/step - loss: 2.3229 - accuracy: 0.2256 - val_loss: 2.2340 - val_accuracy: 0.2247\n",
      "Epoch 2/50\n",
      "30/30 [==============================] - 12s 398ms/step - loss: 2.0418 - accuracy: 0.2308 - val_loss: 2.0137 - val_accuracy: 0.2252\n",
      "Epoch 3/50\n",
      "30/30 [==============================] - 13s 435ms/step - loss: 1.9391 - accuracy: 0.2302 - val_loss: 1.9176 - val_accuracy: 0.2280\n",
      "Epoch 4/50\n",
      "30/30 [==============================] - 12s 393ms/step - loss: 1.9006 - accuracy: 0.2305 - val_loss: 1.8873 - val_accuracy: 0.2321\n",
      "Epoch 5/50\n",
      "30/30 [==============================] - 12s 402ms/step - loss: 1.8885 - accuracy: 0.2308 - val_loss: 1.8769 - val_accuracy: 0.2299\n",
      "Epoch 6/50\n",
      "30/30 [==============================] - 13s 430ms/step - loss: 1.8796 - accuracy: 0.2340 - val_loss: 1.8507 - val_accuracy: 0.2566\n",
      "Epoch 7/50\n",
      "30/30 [==============================] - 14s 442ms/step - loss: 1.8720 - accuracy: 0.2361 - val_loss: 1.8510 - val_accuracy: 0.2530\n",
      "Epoch 8/50\n",
      "30/30 [==============================] - 15s 476ms/step - loss: 1.8641 - accuracy: 0.2434 - val_loss: 1.8336 - val_accuracy: 0.2695\n",
      "Epoch 9/50\n",
      "30/30 [==============================] - 16s 505ms/step - loss: 1.8568 - accuracy: 0.2481 - val_loss: 1.8088 - val_accuracy: 0.2808\n",
      "Epoch 10/50\n",
      "30/30 [==============================] - 16s 528ms/step - loss: 1.8471 - accuracy: 0.2538 - val_loss: 1.8456 - val_accuracy: 0.2672\n",
      "Epoch 11/50\n",
      "30/30 [==============================] - 17s 560ms/step - loss: 1.8389 - accuracy: 0.2622 - val_loss: 1.8456 - val_accuracy: 0.2729\n",
      "Epoch 12/50\n",
      "30/30 [==============================] - 18s 581ms/step - loss: 1.8285 - accuracy: 0.2671 - val_loss: 1.7916 - val_accuracy: 0.2825\n",
      "Epoch 13/50\n",
      "30/30 [==============================] - 18s 599ms/step - loss: 1.8157 - accuracy: 0.2734 - val_loss: 1.7838 - val_accuracy: 0.2895\n",
      "Epoch 14/50\n",
      "30/30 [==============================] - 18s 598ms/step - loss: 1.8043 - accuracy: 0.2811 - val_loss: 1.7129 - val_accuracy: 0.3354\n",
      "Epoch 15/50\n",
      "30/30 [==============================] - 19s 600ms/step - loss: 1.7908 - accuracy: 0.2908 - val_loss: 1.6861 - val_accuracy: 0.3345\n",
      "Epoch 16/50\n",
      "30/30 [==============================] - 19s 612ms/step - loss: 1.7739 - accuracy: 0.2958 - val_loss: 1.6893 - val_accuracy: 0.3787\n",
      "Epoch 17/50\n",
      "30/30 [==============================] - 19s 601ms/step - loss: 1.7514 - accuracy: 0.3089 - val_loss: 1.6032 - val_accuracy: 0.3888\n",
      "Epoch 18/50\n",
      "30/30 [==============================] - 18s 599ms/step - loss: 1.7393 - accuracy: 0.3214 - val_loss: 1.6400 - val_accuracy: 0.3750\n",
      "Epoch 19/50\n",
      "30/30 [==============================] - 19s 609ms/step - loss: 1.7250 - accuracy: 0.3282 - val_loss: 1.6299 - val_accuracy: 0.3869\n",
      "Epoch 20/50\n",
      "30/30 [==============================] - 19s 623ms/step - loss: 1.6997 - accuracy: 0.3388 - val_loss: 1.5545 - val_accuracy: 0.4183\n",
      "Epoch 21/50\n",
      " 9/30 [=======>......................] - ETA: 12s - loss: 1.6933 - accuracy: 0.3442"
     ]
    },
    {
     "ename": "KeyboardInterrupt",
     "evalue": "",
     "output_type": "error",
     "traceback": [
      "\u001b[0;31m---------------------------------------------------------------------------\u001b[0m",
      "\u001b[0;31mKeyboardInterrupt\u001b[0m                         Traceback (most recent call last)",
      "Input \u001b[0;32mIn [19]\u001b[0m, in \u001b[0;36m<cell line: 38>\u001b[0;34m()\u001b[0m\n\u001b[1;32m      1\u001b[0m mdl16_2 \u001b[38;5;241m=\u001b[39m tf\u001b[38;5;241m.\u001b[39mkeras\u001b[38;5;241m.\u001b[39mmodels\u001b[38;5;241m.\u001b[39mSequential([\n\u001b[1;32m      2\u001b[0m     tf\u001b[38;5;241m.\u001b[39mkeras\u001b[38;5;241m.\u001b[39mlayers\u001b[38;5;241m.\u001b[39mConv2D(\u001b[38;5;241m32\u001b[39m,\n\u001b[1;32m      3\u001b[0m                            (\u001b[38;5;241m3\u001b[39m,\u001b[38;5;241m3\u001b[39m), \n\u001b[0;32m   (...)\u001b[0m\n\u001b[1;32m     31\u001b[0m                           activity_regularizer\u001b[38;5;241m=\u001b[39mregularizers\u001b[38;5;241m.\u001b[39mL2(\u001b[38;5;241m1e-3\u001b[39m))\n\u001b[1;32m     32\u001b[0m ])\n\u001b[1;32m     34\u001b[0m mdl16_2\u001b[38;5;241m.\u001b[39mcompile(loss\u001b[38;5;241m=\u001b[39m\u001b[38;5;124m'\u001b[39m\u001b[38;5;124msparse_categorical_crossentropy\u001b[39m\u001b[38;5;124m'\u001b[39m,\n\u001b[1;32m     35\u001b[0m               optimizer\u001b[38;5;241m=\u001b[39mRMSprop(learning_rate\u001b[38;5;241m=\u001b[39m\u001b[38;5;241m0.0005\u001b[39m),\n\u001b[1;32m     36\u001b[0m               metrics\u001b[38;5;241m=\u001b[39m[\u001b[38;5;124m'\u001b[39m\u001b[38;5;124maccuracy\u001b[39m\u001b[38;5;124m'\u001b[39m])\n\u001b[0;32m---> 38\u001b[0m history_mdl16_2 \u001b[38;5;241m=\u001b[39m \u001b[43mmdl16_2\u001b[49m\u001b[38;5;241;43m.\u001b[39;49m\u001b[43mfit\u001b[49m\u001b[43m(\u001b[49m\n\u001b[1;32m     39\u001b[0m \u001b[43m      \u001b[49m\u001b[43mtraingen\u001b[49m\u001b[43m,\u001b[49m\n\u001b[1;32m     40\u001b[0m \u001b[43m      \u001b[49m\u001b[43mvalidation_data\u001b[49m\u001b[43m \u001b[49m\u001b[38;5;241;43m=\u001b[39;49m\u001b[43m \u001b[49m\u001b[43mtestgen\u001b[49m\u001b[43m,\u001b[49m\u001b[43m  \u001b[49m\n\u001b[1;32m     41\u001b[0m \u001b[43m      \u001b[49m\u001b[43mepochs\u001b[49m\u001b[43m \u001b[49m\u001b[38;5;241;43m=\u001b[39;49m\u001b[43m \u001b[49m\u001b[38;5;241;43m50\u001b[39;49m\u001b[43m,\u001b[49m\n\u001b[1;32m     42\u001b[0m \u001b[43m      \u001b[49m\u001b[43msteps_per_epoch\u001b[49m\u001b[38;5;241;43m=\u001b[39;49m\u001b[38;5;28;43mlen\u001b[39;49m\u001b[43m(\u001b[49m\u001b[43mX_train\u001b[49m\u001b[43m)\u001b[49m\u001b[38;5;241;43m/\u001b[39;49m\u001b[43mtrain_batch\u001b[49m\u001b[43m,\u001b[49m\n\u001b[1;32m     43\u001b[0m \u001b[43m      \u001b[49m\u001b[43mvalidation_steps\u001b[49m\u001b[38;5;241;43m=\u001b[39;49m\u001b[38;5;28;43mlen\u001b[39;49m\u001b[43m(\u001b[49m\u001b[43mX_test\u001b[49m\u001b[43m)\u001b[49m\u001b[38;5;241;43m/\u001b[39;49m\u001b[43mtest_batch\u001b[49m\u001b[43m,\u001b[49m\n\u001b[1;32m     44\u001b[0m \u001b[43m      \u001b[49m\u001b[43mverbose\u001b[49m\u001b[38;5;241;43m=\u001b[39;49m\u001b[38;5;241;43m1\u001b[39;49m\u001b[43m,\u001b[49m\n\u001b[1;32m     45\u001b[0m \u001b[43m      \u001b[49m\u001b[43mcallbacks\u001b[49m\u001b[38;5;241;43m=\u001b[39;49m\u001b[43m[\u001b[49m\u001b[43mcallbacks\u001b[49m\u001b[43m]\u001b[49m\u001b[43m)\u001b[49m\n\u001b[1;32m     47\u001b[0m plot_model_accuracy(history_mdl16_2)\n",
      "File \u001b[0;32m~/miniforge3/lib/python3.9/site-packages/keras/utils/traceback_utils.py:64\u001b[0m, in \u001b[0;36mfilter_traceback.<locals>.error_handler\u001b[0;34m(*args, **kwargs)\u001b[0m\n\u001b[1;32m     62\u001b[0m filtered_tb \u001b[38;5;241m=\u001b[39m \u001b[38;5;28;01mNone\u001b[39;00m\n\u001b[1;32m     63\u001b[0m \u001b[38;5;28;01mtry\u001b[39;00m:\n\u001b[0;32m---> 64\u001b[0m   \u001b[38;5;28;01mreturn\u001b[39;00m \u001b[43mfn\u001b[49m\u001b[43m(\u001b[49m\u001b[38;5;241;43m*\u001b[39;49m\u001b[43margs\u001b[49m\u001b[43m,\u001b[49m\u001b[43m \u001b[49m\u001b[38;5;241;43m*\u001b[39;49m\u001b[38;5;241;43m*\u001b[39;49m\u001b[43mkwargs\u001b[49m\u001b[43m)\u001b[49m\n\u001b[1;32m     65\u001b[0m \u001b[38;5;28;01mexcept\u001b[39;00m \u001b[38;5;167;01mException\u001b[39;00m \u001b[38;5;28;01mas\u001b[39;00m e:  \u001b[38;5;66;03m# pylint: disable=broad-except\u001b[39;00m\n\u001b[1;32m     66\u001b[0m   filtered_tb \u001b[38;5;241m=\u001b[39m _process_traceback_frames(e\u001b[38;5;241m.\u001b[39m__traceback__)\n",
      "File \u001b[0;32m~/miniforge3/lib/python3.9/site-packages/keras/engine/training.py:1384\u001b[0m, in \u001b[0;36mModel.fit\u001b[0;34m(self, x, y, batch_size, epochs, verbose, callbacks, validation_split, validation_data, shuffle, class_weight, sample_weight, initial_epoch, steps_per_epoch, validation_steps, validation_batch_size, validation_freq, max_queue_size, workers, use_multiprocessing)\u001b[0m\n\u001b[1;32m   1377\u001b[0m \u001b[38;5;28;01mwith\u001b[39;00m tf\u001b[38;5;241m.\u001b[39mprofiler\u001b[38;5;241m.\u001b[39mexperimental\u001b[38;5;241m.\u001b[39mTrace(\n\u001b[1;32m   1378\u001b[0m     \u001b[38;5;124m'\u001b[39m\u001b[38;5;124mtrain\u001b[39m\u001b[38;5;124m'\u001b[39m,\n\u001b[1;32m   1379\u001b[0m     epoch_num\u001b[38;5;241m=\u001b[39mepoch,\n\u001b[1;32m   1380\u001b[0m     step_num\u001b[38;5;241m=\u001b[39mstep,\n\u001b[1;32m   1381\u001b[0m     batch_size\u001b[38;5;241m=\u001b[39mbatch_size,\n\u001b[1;32m   1382\u001b[0m     _r\u001b[38;5;241m=\u001b[39m\u001b[38;5;241m1\u001b[39m):\n\u001b[1;32m   1383\u001b[0m   callbacks\u001b[38;5;241m.\u001b[39mon_train_batch_begin(step)\n\u001b[0;32m-> 1384\u001b[0m   tmp_logs \u001b[38;5;241m=\u001b[39m \u001b[38;5;28;43mself\u001b[39;49m\u001b[38;5;241;43m.\u001b[39;49m\u001b[43mtrain_function\u001b[49m\u001b[43m(\u001b[49m\u001b[43miterator\u001b[49m\u001b[43m)\u001b[49m\n\u001b[1;32m   1385\u001b[0m   \u001b[38;5;28;01mif\u001b[39;00m data_handler\u001b[38;5;241m.\u001b[39mshould_sync:\n\u001b[1;32m   1386\u001b[0m     context\u001b[38;5;241m.\u001b[39masync_wait()\n",
      "File \u001b[0;32m~/miniforge3/lib/python3.9/site-packages/tensorflow/python/util/traceback_utils.py:150\u001b[0m, in \u001b[0;36mfilter_traceback.<locals>.error_handler\u001b[0;34m(*args, **kwargs)\u001b[0m\n\u001b[1;32m    148\u001b[0m filtered_tb \u001b[38;5;241m=\u001b[39m \u001b[38;5;28;01mNone\u001b[39;00m\n\u001b[1;32m    149\u001b[0m \u001b[38;5;28;01mtry\u001b[39;00m:\n\u001b[0;32m--> 150\u001b[0m   \u001b[38;5;28;01mreturn\u001b[39;00m \u001b[43mfn\u001b[49m\u001b[43m(\u001b[49m\u001b[38;5;241;43m*\u001b[39;49m\u001b[43margs\u001b[49m\u001b[43m,\u001b[49m\u001b[43m \u001b[49m\u001b[38;5;241;43m*\u001b[39;49m\u001b[38;5;241;43m*\u001b[39;49m\u001b[43mkwargs\u001b[49m\u001b[43m)\u001b[49m\n\u001b[1;32m    151\u001b[0m \u001b[38;5;28;01mexcept\u001b[39;00m \u001b[38;5;167;01mException\u001b[39;00m \u001b[38;5;28;01mas\u001b[39;00m e:\n\u001b[1;32m    152\u001b[0m   filtered_tb \u001b[38;5;241m=\u001b[39m _process_traceback_frames(e\u001b[38;5;241m.\u001b[39m__traceback__)\n",
      "File \u001b[0;32m~/miniforge3/lib/python3.9/site-packages/tensorflow/python/eager/def_function.py:915\u001b[0m, in \u001b[0;36mFunction.__call__\u001b[0;34m(self, *args, **kwds)\u001b[0m\n\u001b[1;32m    912\u001b[0m compiler \u001b[38;5;241m=\u001b[39m \u001b[38;5;124m\"\u001b[39m\u001b[38;5;124mxla\u001b[39m\u001b[38;5;124m\"\u001b[39m \u001b[38;5;28;01mif\u001b[39;00m \u001b[38;5;28mself\u001b[39m\u001b[38;5;241m.\u001b[39m_jit_compile \u001b[38;5;28;01melse\u001b[39;00m \u001b[38;5;124m\"\u001b[39m\u001b[38;5;124mnonXla\u001b[39m\u001b[38;5;124m\"\u001b[39m\n\u001b[1;32m    914\u001b[0m \u001b[38;5;28;01mwith\u001b[39;00m OptionalXlaContext(\u001b[38;5;28mself\u001b[39m\u001b[38;5;241m.\u001b[39m_jit_compile):\n\u001b[0;32m--> 915\u001b[0m   result \u001b[38;5;241m=\u001b[39m \u001b[38;5;28;43mself\u001b[39;49m\u001b[38;5;241;43m.\u001b[39;49m\u001b[43m_call\u001b[49m\u001b[43m(\u001b[49m\u001b[38;5;241;43m*\u001b[39;49m\u001b[43margs\u001b[49m\u001b[43m,\u001b[49m\u001b[43m \u001b[49m\u001b[38;5;241;43m*\u001b[39;49m\u001b[38;5;241;43m*\u001b[39;49m\u001b[43mkwds\u001b[49m\u001b[43m)\u001b[49m\n\u001b[1;32m    917\u001b[0m new_tracing_count \u001b[38;5;241m=\u001b[39m \u001b[38;5;28mself\u001b[39m\u001b[38;5;241m.\u001b[39mexperimental_get_tracing_count()\n\u001b[1;32m    918\u001b[0m without_tracing \u001b[38;5;241m=\u001b[39m (tracing_count \u001b[38;5;241m==\u001b[39m new_tracing_count)\n",
      "File \u001b[0;32m~/miniforge3/lib/python3.9/site-packages/tensorflow/python/eager/def_function.py:947\u001b[0m, in \u001b[0;36mFunction._call\u001b[0;34m(self, *args, **kwds)\u001b[0m\n\u001b[1;32m    944\u001b[0m   \u001b[38;5;28mself\u001b[39m\u001b[38;5;241m.\u001b[39m_lock\u001b[38;5;241m.\u001b[39mrelease()\n\u001b[1;32m    945\u001b[0m   \u001b[38;5;66;03m# In this case we have created variables on the first call, so we run the\u001b[39;00m\n\u001b[1;32m    946\u001b[0m   \u001b[38;5;66;03m# defunned version which is guaranteed to never create variables.\u001b[39;00m\n\u001b[0;32m--> 947\u001b[0m   \u001b[38;5;28;01mreturn\u001b[39;00m \u001b[38;5;28;43mself\u001b[39;49m\u001b[38;5;241;43m.\u001b[39;49m\u001b[43m_stateless_fn\u001b[49m\u001b[43m(\u001b[49m\u001b[38;5;241;43m*\u001b[39;49m\u001b[43margs\u001b[49m\u001b[43m,\u001b[49m\u001b[43m \u001b[49m\u001b[38;5;241;43m*\u001b[39;49m\u001b[38;5;241;43m*\u001b[39;49m\u001b[43mkwds\u001b[49m\u001b[43m)\u001b[49m  \u001b[38;5;66;03m# pylint: disable=not-callable\u001b[39;00m\n\u001b[1;32m    948\u001b[0m \u001b[38;5;28;01melif\u001b[39;00m \u001b[38;5;28mself\u001b[39m\u001b[38;5;241m.\u001b[39m_stateful_fn \u001b[38;5;129;01mis\u001b[39;00m \u001b[38;5;129;01mnot\u001b[39;00m \u001b[38;5;28;01mNone\u001b[39;00m:\n\u001b[1;32m    949\u001b[0m   \u001b[38;5;66;03m# Release the lock early so that multiple threads can perform the call\u001b[39;00m\n\u001b[1;32m    950\u001b[0m   \u001b[38;5;66;03m# in parallel.\u001b[39;00m\n\u001b[1;32m    951\u001b[0m   \u001b[38;5;28mself\u001b[39m\u001b[38;5;241m.\u001b[39m_lock\u001b[38;5;241m.\u001b[39mrelease()\n",
      "File \u001b[0;32m~/miniforge3/lib/python3.9/site-packages/tensorflow/python/eager/function.py:2956\u001b[0m, in \u001b[0;36mFunction.__call__\u001b[0;34m(self, *args, **kwargs)\u001b[0m\n\u001b[1;32m   2953\u001b[0m \u001b[38;5;28;01mwith\u001b[39;00m \u001b[38;5;28mself\u001b[39m\u001b[38;5;241m.\u001b[39m_lock:\n\u001b[1;32m   2954\u001b[0m   (graph_function,\n\u001b[1;32m   2955\u001b[0m    filtered_flat_args) \u001b[38;5;241m=\u001b[39m \u001b[38;5;28mself\u001b[39m\u001b[38;5;241m.\u001b[39m_maybe_define_function(args, kwargs)\n\u001b[0;32m-> 2956\u001b[0m \u001b[38;5;28;01mreturn\u001b[39;00m \u001b[43mgraph_function\u001b[49m\u001b[38;5;241;43m.\u001b[39;49m\u001b[43m_call_flat\u001b[49m\u001b[43m(\u001b[49m\n\u001b[1;32m   2957\u001b[0m \u001b[43m    \u001b[49m\u001b[43mfiltered_flat_args\u001b[49m\u001b[43m,\u001b[49m\u001b[43m \u001b[49m\u001b[43mcaptured_inputs\u001b[49m\u001b[38;5;241;43m=\u001b[39;49m\u001b[43mgraph_function\u001b[49m\u001b[38;5;241;43m.\u001b[39;49m\u001b[43mcaptured_inputs\u001b[49m\u001b[43m)\u001b[49m\n",
      "File \u001b[0;32m~/miniforge3/lib/python3.9/site-packages/tensorflow/python/eager/function.py:1853\u001b[0m, in \u001b[0;36mConcreteFunction._call_flat\u001b[0;34m(self, args, captured_inputs, cancellation_manager)\u001b[0m\n\u001b[1;32m   1849\u001b[0m possible_gradient_type \u001b[38;5;241m=\u001b[39m gradients_util\u001b[38;5;241m.\u001b[39mPossibleTapeGradientTypes(args)\n\u001b[1;32m   1850\u001b[0m \u001b[38;5;28;01mif\u001b[39;00m (possible_gradient_type \u001b[38;5;241m==\u001b[39m gradients_util\u001b[38;5;241m.\u001b[39mPOSSIBLE_GRADIENT_TYPES_NONE\n\u001b[1;32m   1851\u001b[0m     \u001b[38;5;129;01mand\u001b[39;00m executing_eagerly):\n\u001b[1;32m   1852\u001b[0m   \u001b[38;5;66;03m# No tape is watching; skip to running the function.\u001b[39;00m\n\u001b[0;32m-> 1853\u001b[0m   \u001b[38;5;28;01mreturn\u001b[39;00m \u001b[38;5;28mself\u001b[39m\u001b[38;5;241m.\u001b[39m_build_call_outputs(\u001b[38;5;28;43mself\u001b[39;49m\u001b[38;5;241;43m.\u001b[39;49m\u001b[43m_inference_function\u001b[49m\u001b[38;5;241;43m.\u001b[39;49m\u001b[43mcall\u001b[49m\u001b[43m(\u001b[49m\n\u001b[1;32m   1854\u001b[0m \u001b[43m      \u001b[49m\u001b[43mctx\u001b[49m\u001b[43m,\u001b[49m\u001b[43m \u001b[49m\u001b[43margs\u001b[49m\u001b[43m,\u001b[49m\u001b[43m \u001b[49m\u001b[43mcancellation_manager\u001b[49m\u001b[38;5;241;43m=\u001b[39;49m\u001b[43mcancellation_manager\u001b[49m\u001b[43m)\u001b[49m)\n\u001b[1;32m   1855\u001b[0m forward_backward \u001b[38;5;241m=\u001b[39m \u001b[38;5;28mself\u001b[39m\u001b[38;5;241m.\u001b[39m_select_forward_and_backward_functions(\n\u001b[1;32m   1856\u001b[0m     args,\n\u001b[1;32m   1857\u001b[0m     possible_gradient_type,\n\u001b[1;32m   1858\u001b[0m     executing_eagerly)\n\u001b[1;32m   1859\u001b[0m forward_function, args_with_tangents \u001b[38;5;241m=\u001b[39m forward_backward\u001b[38;5;241m.\u001b[39mforward()\n",
      "File \u001b[0;32m~/miniforge3/lib/python3.9/site-packages/tensorflow/python/eager/function.py:499\u001b[0m, in \u001b[0;36m_EagerDefinedFunction.call\u001b[0;34m(self, ctx, args, cancellation_manager)\u001b[0m\n\u001b[1;32m    497\u001b[0m \u001b[38;5;28;01mwith\u001b[39;00m _InterpolateFunctionError(\u001b[38;5;28mself\u001b[39m):\n\u001b[1;32m    498\u001b[0m   \u001b[38;5;28;01mif\u001b[39;00m cancellation_manager \u001b[38;5;129;01mis\u001b[39;00m \u001b[38;5;28;01mNone\u001b[39;00m:\n\u001b[0;32m--> 499\u001b[0m     outputs \u001b[38;5;241m=\u001b[39m \u001b[43mexecute\u001b[49m\u001b[38;5;241;43m.\u001b[39;49m\u001b[43mexecute\u001b[49m\u001b[43m(\u001b[49m\n\u001b[1;32m    500\u001b[0m \u001b[43m        \u001b[49m\u001b[38;5;28;43mstr\u001b[39;49m\u001b[43m(\u001b[49m\u001b[38;5;28;43mself\u001b[39;49m\u001b[38;5;241;43m.\u001b[39;49m\u001b[43msignature\u001b[49m\u001b[38;5;241;43m.\u001b[39;49m\u001b[43mname\u001b[49m\u001b[43m)\u001b[49m\u001b[43m,\u001b[49m\n\u001b[1;32m    501\u001b[0m \u001b[43m        \u001b[49m\u001b[43mnum_outputs\u001b[49m\u001b[38;5;241;43m=\u001b[39;49m\u001b[38;5;28;43mself\u001b[39;49m\u001b[38;5;241;43m.\u001b[39;49m\u001b[43m_num_outputs\u001b[49m\u001b[43m,\u001b[49m\n\u001b[1;32m    502\u001b[0m \u001b[43m        \u001b[49m\u001b[43minputs\u001b[49m\u001b[38;5;241;43m=\u001b[39;49m\u001b[43margs\u001b[49m\u001b[43m,\u001b[49m\n\u001b[1;32m    503\u001b[0m \u001b[43m        \u001b[49m\u001b[43mattrs\u001b[49m\u001b[38;5;241;43m=\u001b[39;49m\u001b[43mattrs\u001b[49m\u001b[43m,\u001b[49m\n\u001b[1;32m    504\u001b[0m \u001b[43m        \u001b[49m\u001b[43mctx\u001b[49m\u001b[38;5;241;43m=\u001b[39;49m\u001b[43mctx\u001b[49m\u001b[43m)\u001b[49m\n\u001b[1;32m    505\u001b[0m   \u001b[38;5;28;01melse\u001b[39;00m:\n\u001b[1;32m    506\u001b[0m     outputs \u001b[38;5;241m=\u001b[39m execute\u001b[38;5;241m.\u001b[39mexecute_with_cancellation(\n\u001b[1;32m    507\u001b[0m         \u001b[38;5;28mstr\u001b[39m(\u001b[38;5;28mself\u001b[39m\u001b[38;5;241m.\u001b[39msignature\u001b[38;5;241m.\u001b[39mname),\n\u001b[1;32m    508\u001b[0m         num_outputs\u001b[38;5;241m=\u001b[39m\u001b[38;5;28mself\u001b[39m\u001b[38;5;241m.\u001b[39m_num_outputs,\n\u001b[0;32m   (...)\u001b[0m\n\u001b[1;32m    511\u001b[0m         ctx\u001b[38;5;241m=\u001b[39mctx,\n\u001b[1;32m    512\u001b[0m         cancellation_manager\u001b[38;5;241m=\u001b[39mcancellation_manager)\n",
      "File \u001b[0;32m~/miniforge3/lib/python3.9/site-packages/tensorflow/python/eager/execute.py:54\u001b[0m, in \u001b[0;36mquick_execute\u001b[0;34m(op_name, num_outputs, inputs, attrs, ctx, name)\u001b[0m\n\u001b[1;32m     52\u001b[0m \u001b[38;5;28;01mtry\u001b[39;00m:\n\u001b[1;32m     53\u001b[0m   ctx\u001b[38;5;241m.\u001b[39mensure_initialized()\n\u001b[0;32m---> 54\u001b[0m   tensors \u001b[38;5;241m=\u001b[39m \u001b[43mpywrap_tfe\u001b[49m\u001b[38;5;241;43m.\u001b[39;49m\u001b[43mTFE_Py_Execute\u001b[49m\u001b[43m(\u001b[49m\u001b[43mctx\u001b[49m\u001b[38;5;241;43m.\u001b[39;49m\u001b[43m_handle\u001b[49m\u001b[43m,\u001b[49m\u001b[43m \u001b[49m\u001b[43mdevice_name\u001b[49m\u001b[43m,\u001b[49m\u001b[43m \u001b[49m\u001b[43mop_name\u001b[49m\u001b[43m,\u001b[49m\n\u001b[1;32m     55\u001b[0m \u001b[43m                                      \u001b[49m\u001b[43minputs\u001b[49m\u001b[43m,\u001b[49m\u001b[43m \u001b[49m\u001b[43mattrs\u001b[49m\u001b[43m,\u001b[49m\u001b[43m \u001b[49m\u001b[43mnum_outputs\u001b[49m\u001b[43m)\u001b[49m\n\u001b[1;32m     56\u001b[0m \u001b[38;5;28;01mexcept\u001b[39;00m core\u001b[38;5;241m.\u001b[39m_NotOkStatusException \u001b[38;5;28;01mas\u001b[39;00m e:\n\u001b[1;32m     57\u001b[0m   \u001b[38;5;28;01mif\u001b[39;00m name \u001b[38;5;129;01mis\u001b[39;00m \u001b[38;5;129;01mnot\u001b[39;00m \u001b[38;5;28;01mNone\u001b[39;00m:\n",
      "\u001b[0;31mKeyboardInterrupt\u001b[0m: "
     ]
    }
   ],
   "source": [
    "mdl16_2 = tf.keras.models.Sequential([\n",
    "    tf.keras.layers.Conv2D(32,\n",
    "                           (3,3), \n",
    "                           activation='relu', \n",
    "                           input_shape=(48, 48, 1),\n",
    "                           padding='same',\n",
    "                           activity_regularizer=regularizers.L2(1e-3)),\n",
    "    tf.keras.layers.MaxPooling2D(2, 2),\n",
    "    \n",
    "    tf.keras.layers.Conv2D(64, (3,3), activation='relu',\n",
    "                           activity_regularizer=regularizers.L2(1e-3)),\n",
    "    tf.keras.layers.MaxPooling2D(2,2),\n",
    "    \n",
    "    tf.keras.layers.Conv2D(128, (3,3), activation='relu',\n",
    "                           activity_regularizer=regularizers.L2(1e-3)),\n",
    "    tf.keras.layers.MaxPooling2D(2,2),\n",
    "    \n",
    "    tf.keras.layers.Conv2D(256, (3,3), activation='relu',\n",
    "                           activity_regularizer=regularizers.L2(1e-3)),\n",
    "    tf.keras.layers.MaxPooling2D(2,2),\n",
    "    tf.keras.layers.Dropout(0.5),\n",
    "    \n",
    "    tf.keras.layers.Flatten(),\n",
    "    tf.keras.layers.Dense(512, activation='relu',\n",
    "                          activity_regularizer=regularizers.L2(1e-3)),\n",
    "    tf.keras.layers.Dropout(0.3),\n",
    "    tf.keras.layers.Dense(256, activation='relu',\n",
    "                          activity_regularizer=regularizers.L2(1e-3)),\n",
    "    tf.keras.layers.Dropout(0.25),\n",
    "    tf.keras.layers.Dense(7, activation='softmax',\n",
    "                          activity_regularizer=regularizers.L2(1e-3))\n",
    "])\n",
    "\n",
    "mdl16_2.compile(loss='sparse_categorical_crossentropy',\n",
    "              optimizer=RMSprop(learning_rate=0.0005),\n",
    "              metrics=['accuracy'])\n",
    "\n",
    "history_mdl16_2 = mdl16_2.fit(\n",
    "      traingen,\n",
    "      validation_data = testgen,  \n",
    "      epochs = 50,\n",
    "      steps_per_epoch=len(X_train)/train_batch,\n",
    "      validation_steps=len(X_test)/test_batch,\n",
    "      verbose=1,\n",
    "      callbacks=[callbacks])\n",
    "\n",
    "plot_model_accuracy(history_mdl16_2)"
   ]
  },
  {
   "cell_type": "code",
   "execution_count": null,
   "id": "14ce6dbf",
   "metadata": {},
   "outputs": [],
   "source": []
  }
 ],
 "metadata": {
  "kernelspec": {
   "display_name": "Python 3 (ipykernel)",
   "language": "python",
   "name": "python3"
  },
  "language_info": {
   "codemirror_mode": {
    "name": "ipython",
    "version": 3
   },
   "file_extension": ".py",
   "mimetype": "text/x-python",
   "name": "python",
   "nbconvert_exporter": "python",
   "pygments_lexer": "ipython3",
   "version": "3.9.10"
  }
 },
 "nbformat": 4,
 "nbformat_minor": 5
}
