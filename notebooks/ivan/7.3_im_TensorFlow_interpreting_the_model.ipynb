{
 "cells": [
  {
   "cell_type": "code",
   "execution_count": 1,
   "id": "8a9d0755",
   "metadata": {},
   "outputs": [
    {
     "name": "stdout",
     "output_type": "stream",
     "text": [
      "(28709, 48, 48, 1) (28709,)\n",
      "(3589, 48, 48, 1) (3589,)\n",
      "(3589, 48, 48, 1) (3589,)\n"
     ]
    }
   ],
   "source": [
    "import pandas as pd\n",
    "import numpy as np\n",
    "from matplotlib import pyplot as plt\n",
    "%matplotlib inline\n",
    "\n",
    "emotions = {0:'Angry', 1:'Disgust', 2:'Fear', 3:'Happy', 4:'Sad', 5:'Surprise', 6:'Neutral'}\n",
    "\n",
    "path = '../../../project_data/fer2013/icml_face_data.csv'\n",
    "df = pd.read_csv(path)\n",
    "\n",
    "# creating a dataframe that only contains training data\n",
    "train = df[df[' Usage']=='Training'].copy()\n",
    "# dropping the usage column\n",
    "train.drop([' Usage'], axis = 1, inplace = True)\n",
    "\n",
    "\n",
    "# creating the test dataframe, dropping the usage column and reseting the index\n",
    "test = df[df[' Usage']=='PrivateTest'].copy()\n",
    "test.drop([' Usage'], axis = 1, inplace = True)\n",
    "test.reset_index(inplace = True, drop = True)\n",
    "\n",
    "# creating the validation dataframe and dropping the usage column and reseting the index\n",
    "validation = df[df[' Usage']=='PublicTest'].copy()\n",
    "validation.drop([' Usage'], axis = 1, inplace = True)\n",
    "validation.reset_index(inplace=True, drop = True)\n",
    "\n",
    "\n",
    "def get_pixels_and_scale(data):\n",
    "    '''\n",
    "    Function for extracting pixel values from the pixel column and scaling them between 0 and 1\n",
    "    \n",
    "    get values from the column|\n",
    "    split on the whitespace\n",
    "    convert to float16 datatype\n",
    "    save as as numpy array\n",
    "    scale the values between 0 and 1\n",
    "    '''\n",
    "    \n",
    "    img_array = np.array(data.split(' '), dtype = 'float16')\n",
    "    img_array = img_array / 255.0\n",
    "    \n",
    "    return img_array\n",
    "\n",
    "def reshape_images(data):\n",
    "    '''\n",
    "    reshape pixels column into desired format\n",
    "    return a numpy array\n",
    "    '''\n",
    "\n",
    "    reshaped_array = np.reshape(data[' pixels'].to_list(),(data.shape[0],48,48,1))\n",
    "    \n",
    "    return reshaped_array\n",
    "\n",
    "def plot_random_images(dataset): \n",
    "    if np.array_equal(dataset, train_images):\n",
    "        labels = train_labels\n",
    "    else:\n",
    "        labels = test_labels\n",
    "\n",
    "    # Checking 25 random images from the train set across all classes\n",
    "    plt.figure(figsize=(12,12))\n",
    "    for ind, img_num in enumerate(np.random.randint(1,len(dataset),size=25)):\n",
    "        plt.subplot(5,5,ind+1)\n",
    "        plt.xticks([])\n",
    "        plt.yticks([])\n",
    "        plt.grid(False)\n",
    "        plt.imshow(dataset[img_num], cmap='gray')\n",
    "        plt.xlabel(emotions[labels[img_num]])\n",
    "    plt.show()\n",
    "    \n",
    "def plot_model_accuracy(fitted_model):\n",
    "    '''\n",
    "    Function visualizing comparison of \n",
    "    training and validaton loss and accuracy\n",
    "    \n",
    "    '''\n",
    "    \n",
    "    fig , ax = plt.subplots(1,2)\n",
    "    train_acc = fitted_model.history['accuracy']\n",
    "    train_loss = fitted_model.history['loss']\n",
    "    fig.set_size_inches(15,4)\n",
    "\n",
    "    ax[0].plot(fitted_model.history['accuracy'])\n",
    "    ax[0].plot(fitted_model.history['val_accuracy'])\n",
    "    ax[0].set_title('Training vs Validation Accuracy')\n",
    "    ax[0].set_ylabel('Accuracy')\n",
    "    ax[0].set_xlabel('Epoch')\n",
    "    ax[0].legend(['Training', 'Validation'], loc='lower right')\n",
    "\n",
    "    ax[1].plot(fitted_model.history['loss'])\n",
    "    ax[1].plot(fitted_model.history['val_loss'])\n",
    "    ax[1].set_title('Training vs Validation Loss')\n",
    "    ax[1].set_ylabel('Loss')\n",
    "    ax[1].set_xlabel('Epoch')\n",
    "    ax[1].legend(['Training', 'Validation'], loc='lower left')\n",
    "\n",
    "    plt.show()\n",
    "    \n",
    "\n",
    "# extracting pixel values from the pixel column and scaling them between 0 and 1    \n",
    "train[' pixels'] = train[' pixels'].apply(get_pixels_and_scale)   \n",
    "test[' pixels'] = test[' pixels'].apply(get_pixels_and_scale)\n",
    "validation[' pixels'] = validation[' pixels'].apply(get_pixels_and_scale)\n",
    "\n",
    "# reshaping pixels column into a desired format and getting a numpy array\n",
    "train_images = reshape_images(train)\n",
    "test_images = reshape_images(test)\n",
    "validation_images = reshape_images(validation)\n",
    "\n",
    "\n",
    "# getting the labels\n",
    "train_labels = train['emotion']\n",
    "test_labels = test['emotion']\n",
    "validation_labels = validation['emotion']\n",
    "\n",
    "print(train_images.shape, train_labels.shape)\n",
    "print(test_images.shape, test_labels.shape)\n",
    "print(validation_images.shape, validation_labels.shape)"
   ]
  },
  {
   "cell_type": "code",
   "execution_count": 2,
   "id": "03a40906",
   "metadata": {},
   "outputs": [
    {
     "name": "stdout",
     "output_type": "stream",
     "text": [
      "2.8.0\n"
     ]
    }
   ],
   "source": [
    "import tensorflow as tf\n",
    "\n",
    "from keras.models import Sequential\n",
    "from keras.layers import Dense, Conv2D, MaxPool2D, Dropout, BatchNormalization, Flatten\n",
    "\n",
    "print(tf.__version__)"
   ]
  },
  {
   "cell_type": "code",
   "execution_count": 3,
   "id": "b3212a5b",
   "metadata": {},
   "outputs": [],
   "source": [
    "# one-hot encoding\n",
    "y_train = tf.keras.utils.to_categorical(train_labels, 7)\n",
    "y_test = tf.keras.utils.to_categorical(test_labels, 7)\n",
    "y_validation = tf.keras.utils.to_categorical(validation_labels, 7)"
   ]
  },
  {
   "cell_type": "code",
   "execution_count": 4,
   "id": "65c2db38",
   "metadata": {},
   "outputs": [],
   "source": [
    "# # https://stackoverflow.com/questions/58352326/running-the-tensorflow-2-0-code-gives-valueerror-tf-function-decorated-functio\n",
    "# tf.config.run_functions_eagerly(True)"
   ]
  },
  {
   "cell_type": "code",
   "execution_count": 5,
   "id": "2343382d",
   "metadata": {},
   "outputs": [
    {
     "name": "stdout",
     "output_type": "stream",
     "text": [
      "Metal device set to: Apple M1\n"
     ]
    },
    {
     "name": "stderr",
     "output_type": "stream",
     "text": [
      "2022-05-09 09:04:00.412662: I tensorflow/core/common_runtime/pluggable_device/pluggable_device_factory.cc:305] Could not identify NUMA node of platform GPU ID 0, defaulting to 0. Your kernel may not have been built with NUMA support.\n",
      "2022-05-09 09:04:00.412878: I tensorflow/core/common_runtime/pluggable_device/pluggable_device_factory.cc:271] Created TensorFlow device (/job:localhost/replica:0/task:0/device:GPU:0 with 0 MB memory) -> physical PluggableDevice (device: 0, name: METAL, pci bus id: <undefined>)\n"
     ]
    },
    {
     "name": "stdout",
     "output_type": "stream",
     "text": [
      "Epoch 1/10\n"
     ]
    },
    {
     "name": "stderr",
     "output_type": "stream",
     "text": [
      "2022-05-09 09:04:00.880703: W tensorflow/core/platform/profile_utils/cpu_utils.cc:128] Failed to get CPU frequency: 0 Hz\n",
      "2022-05-09 09:04:01.099492: I tensorflow/core/grappler/optimizers/custom_graph_optimizer_registry.cc:113] Plugin optimizer for device_type GPU is enabled.\n"
     ]
    },
    {
     "name": "stdout",
     "output_type": "stream",
     "text": [
      "898/898 [==============================] - ETA: 0s - loss: 1.6592 - accuracy: 0.3421"
     ]
    },
    {
     "name": "stderr",
     "output_type": "stream",
     "text": [
      "2022-05-09 09:04:47.017057: I tensorflow/core/grappler/optimizers/custom_graph_optimizer_registry.cc:113] Plugin optimizer for device_type GPU is enabled.\n"
     ]
    },
    {
     "name": "stdout",
     "output_type": "stream",
     "text": [
      "898/898 [==============================] - 47s 52ms/step - loss: 1.6592 - accuracy: 0.3421 - val_loss: 1.5834 - val_accuracy: 0.4040\n",
      "Epoch 2/10\n",
      "898/898 [==============================] - 46s 52ms/step - loss: 1.4460 - accuracy: 0.4438 - val_loss: 1.4580 - val_accuracy: 0.4681\n",
      "Epoch 3/10\n",
      "898/898 [==============================] - 46s 52ms/step - loss: 1.3326 - accuracy: 0.4948 - val_loss: 1.4016 - val_accuracy: 0.4974\n",
      "Epoch 4/10\n",
      "898/898 [==============================] - 46s 52ms/step - loss: 1.2507 - accuracy: 0.5288 - val_loss: 1.3237 - val_accuracy: 0.5107\n",
      "Epoch 5/10\n",
      "898/898 [==============================] - 47s 52ms/step - loss: 1.1838 - accuracy: 0.5561 - val_loss: 1.2786 - val_accuracy: 0.5339\n",
      "Epoch 6/10\n",
      "898/898 [==============================] - 48s 53ms/step - loss: 1.1316 - accuracy: 0.5771 - val_loss: 1.2666 - val_accuracy: 0.5372\n",
      "Epoch 7/10\n",
      "898/898 [==============================] - 47s 52ms/step - loss: 1.0797 - accuracy: 0.5982 - val_loss: 1.2510 - val_accuracy: 0.5475\n",
      "Epoch 8/10\n",
      "898/898 [==============================] - 47s 52ms/step - loss: 1.0476 - accuracy: 0.6092 - val_loss: 1.2451 - val_accuracy: 0.5411\n",
      "Epoch 9/10\n",
      "898/898 [==============================] - 47s 52ms/step - loss: 1.0053 - accuracy: 0.6282 - val_loss: 1.2313 - val_accuracy: 0.5478\n",
      "Epoch 10/10\n",
      "898/898 [==============================] - 47s 52ms/step - loss: 0.9712 - accuracy: 0.6384 - val_loss: 1.2201 - val_accuracy: 0.5450\n",
      "113/113 - 1s - loss: 1.2011 - accuracy: 0.5570 - 1s/epoch - 11ms/step\n",
      "\n",
      "Test accuracy: 55.70%\n"
     ]
    },
    {
     "data": {
      "image/png": "[encoded data removed]",
      "text/plain": [
       "<Figure size 1080x288 with 2 Axes>"
      ]
     },
     "metadata": {
      "needs_background": "light"
     },
     "output_type": "display_data"
    }
   ],
   "source": [
    "# creating a sequential model\n",
    "mdl5 = Sequential()\n",
    "mdl5.add(\n",
    "    Conv2D(\n",
    "        128, kernel_size = 3, \n",
    "        activation='relu', \n",
    "        input_shape = (48,48,1),\n",
    "        padding='same')#strides = 2, dilation_rate=2\n",
    ")\n",
    "mdl5.add(Dropout(0.25))\n",
    "mdl5.add(MaxPool2D(2))\n",
    "\n",
    "mdl5.add(\n",
    "    Conv2D(\n",
    "        128, kernel_size = 3, \n",
    "        activation='relu', \n",
    "        input_shape = (48,48,1),\n",
    "        padding='same')#strides = 2, dilation_rate=2\n",
    ")\n",
    "mdl5.add(Dropout(0.25))\n",
    "mdl5.add(MaxPool2D(2))\n",
    "\n",
    "mdl5.add(\n",
    "    Conv2D(\n",
    "        256, kernel_size = 3, \n",
    "        activation='relu', \n",
    "        input_shape = (48,48,1),\n",
    "        padding='same')#strides = 2, dilation_rate=2\n",
    ")\n",
    "mdl5.add(Dropout(0.25))\n",
    "mdl5.add(MaxPool2D(2))\n",
    "\n",
    "\n",
    "mdl5.add(Flatten())\n",
    "mdl5.add(Dense(7, activation='softmax'))\n",
    "\n",
    "# compile the model\n",
    "mdl5.compile(\n",
    "    optimizer='adam',\n",
    "    loss='categorical_crossentropy',\n",
    "    metrics=['accuracy'])\n",
    "\n",
    "mdl5_performance = mdl5.fit(\n",
    "    x=train_images,\n",
    "    y=y_train, \n",
    "    validation_data = (validation_images, y_validation),\n",
    "    epochs=10)\n",
    "\n",
    "#compare how the model performs on the test dataset:\n",
    "mdl5_test_loss, mdl5_test_acc = mdl5.evaluate(test_images, y_test, verbose=2)\n",
    "print(f'\\nTest accuracy: {mdl5_test_acc * 100.0:.2f}%')\n",
    "\n",
    "# visualize accuracy\n",
    "plot_model_accuracy(mdl5_performance)"
   ]
  },
  {
   "cell_type": "markdown",
   "id": "76309f75",
   "metadata": {},
   "source": [
    "## Interpreting Layers"
   ]
  },
  {
   "cell_type": "code",
   "execution_count": 7,
   "id": "1e28bd2f",
   "metadata": {},
   "outputs": [
    {
     "data": {
      "text/plain": [
       "[<keras.layers.convolutional.Conv2D at 0x282537070>,\n",
       " <keras.layers.core.dropout.Dropout at 0x286a0ddf0>,\n",
       " <keras.layers.pooling.MaxPooling2D at 0x287b26040>,\n",
       " <keras.layers.convolutional.Conv2D at 0x287b67f10>,\n",
       " <keras.layers.core.dropout.Dropout at 0x287b260a0>,\n",
       " <keras.layers.pooling.MaxPooling2D at 0x287e1fe80>,\n",
       " <keras.layers.convolutional.Conv2D at 0x287e130a0>,\n",
       " <keras.layers.core.dropout.Dropout at 0x287b5a730>,\n",
       " <keras.layers.pooling.MaxPooling2D at 0x287e24850>,\n",
       " <keras.layers.core.flatten.Flatten at 0x287e38a90>,\n",
       " <keras.layers.core.dense.Dense at 0x287e386a0>]"
      ]
     },
     "execution_count": 7,
     "metadata": {},
     "output_type": "execute_result"
    }
   ],
   "source": [
    "mdl5.layers"
   ]
  },
  {
   "cell_type": "code",
   "execution_count": 13,
   "id": "b004d1aa",
   "metadata": {},
   "outputs": [
    {
     "data": {
      "text/plain": [
       "(3, 3, 1, 128)"
      ]
     },
     "execution_count": 13,
     "metadata": {},
     "output_type": "execute_result"
    }
   ],
   "source": [
    "conv1 = mdl5.layers[0]\n",
    "weights1 = conv1.get_weights()\n",
    "kernels1 = weights1[0]\n",
    "kernels1.shape"
   ]
  },
  {
   "cell_type": "code",
   "execution_count": 14,
   "id": "ddeb3b3e",
   "metadata": {},
   "outputs": [
    {
     "data": {
      "text/plain": [
       "(3, 3)"
      ]
     },
     "execution_count": 14,
     "metadata": {},
     "output_type": "execute_result"
    }
   ],
   "source": [
    "kernel1_1 = kernels1[:,:,0,0]\n",
    "kernel1_1.shape"
   ]
  },
  {
   "cell_type": "code",
   "execution_count": 15,
   "id": "f105ef09",
   "metadata": {},
   "outputs": [
    {
     "data": {
      "text/plain": [
       "<matplotlib.image.AxesImage at 0x287a587f0>"
      ]
     },
     "execution_count": 15,
     "metadata": {},
     "output_type": "execute_result"
    },
    {
     "data": {
      "image/png": "[encoded data removed]",
      "text/plain": [
       "<Figure size 432x288 with 1 Axes>"
      ]
     },
     "metadata": {
      "needs_background": "light"
     },
     "output_type": "display_data"
    }
   ],
   "source": [
    "plt.imshow(kernel1_1)"
   ]
  },
  {
   "cell_type": "markdown",
   "id": "9173a03c",
   "metadata": {},
   "source": [
    "To understand what this kernel does, it might sometimes be even more useful to convolve one of the images from our test set with this kernel and see what aspects of the image are emphasized by this kernel. Here, we pick the fourth image from the test_set, an image of a shoe."
   ]
  },
  {
   "cell_type": "code",
   "execution_count": 32,
   "id": "669dcfa9",
   "metadata": {},
   "outputs": [
    {
     "data": {
      "image/png": "[encoded data removed]",
      "text/plain": [
       "<Figure size 432x288 with 1 Axes>"
      ]
     },
     "metadata": {
      "needs_background": "light"
     },
     "output_type": "display_data"
    }
   ],
   "source": [
    "# selecting a test image\n",
    "test_img  = test_images[5,:,:,0]\n",
    "plt.imshow(test_img, cmap='gray')\n",
    "plt.show()"
   ]
  },
  {
   "cell_type": "code",
   "execution_count": 29,
   "id": "5fd8a4f0",
   "metadata": {},
   "outputs": [],
   "source": [
    " def convolution(image, kernel):\n",
    "        \n",
    "        '''\n",
    "        convolve the image with the kernel using, and create a filtered image \n",
    "        that is the result of the convolution.\n",
    "        '''\n",
    "    kernel = kernel - kernel.mean()\n",
    "    result = np.zeros(image.shape)\n",
    "\n",
    "    for ii in range(image.shape[0]-2):\n",
    "        for jj in range(image.shape[1]-2):\n",
    "            result[ii, jj] = np.sum(image[ii:ii+3, jj:jj+3] * kernel)\n",
    "\n",
    "    return result"
   ]
  },
  {
   "cell_type": "code",
   "execution_count": 31,
   "id": "8249d5d2",
   "metadata": {},
   "outputs": [
    {
     "data": {
      "image/png": "[encoded data removed]",
      "text/plain": [
       "<Figure size 432x288 with 1 Axes>"
      ]
     },
     "metadata": {
      "needs_background": "light"
     },
     "output_type": "display_data"
    }
   ],
   "source": [
    "filt_image = convolution(test_img,kernel1_1)\n",
    "plt.imshow(filt_image, cmap='gray')\n",
    "plt.show()"
   ]
  }
 ],
 "metadata": {
  "kernelspec": {
   "display_name": "Python 3 (ipykernel)",
   "language": "python",
   "name": "python3"
  },
  "language_info": {
   "codemirror_mode": {
    "name": "ipython",
    "version": 3
   },
   "file_extension": ".py",
   "mimetype": "text/x-python",
   "name": "python",
   "nbconvert_exporter": "python",
   "pygments_lexer": "ipython3",
   "version": "3.9.10"
  }
 },
 "nbformat": 4,
 "nbformat_minor": 5
}
