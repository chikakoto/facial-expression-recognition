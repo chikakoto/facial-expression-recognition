{
 "cells": [
  {
   "cell_type": "markdown",
   "metadata": {},
   "source": [
    "# The Data"
   ]
  },
  {
   "cell_type": "markdown",
   "metadata": {},
   "source": [
    "The data consists of 48x48 pixel grayscale images of faces. The faces have been automatically registered so that the face is more or less centred and occupies about the same amount of space in each image.\n",
    "\n",
    "The task is to categorize each face based on the emotion shown in the facial expression into one of seven categories (0=Angry, 1=Disgust, 2=Fear, 3=Happy, 4=Sad, 5=Surprise, 6=Neutral). The training set consists of 28,709 examples and the public test set consists of 3,589 examples.\n",
    "https://www.kaggle.com/datasets/msambare/fer2013?resource=download"
   ]
  },
  {
   "cell_type": "markdown",
   "metadata": {},
   "source": [
    "# 2. Initial EDA"
   ]
  },
  {
   "cell_type": "markdown",
   "metadata": {},
   "source": [
    "### Importing Packages"
   ]
  },
  {
   "cell_type": "code",
   "execution_count": 1,
   "metadata": {},
   "outputs": [],
   "source": [
    "import os\n",
    "import pandas as pd\n",
    "import numpy as np\n",
    "from matplotlib import pyplot as plt\n",
    "%matplotlib inline\n",
    "import seaborn as sns\n",
    "\n",
    "from skimage import io\n",
    "import random"
   ]
  },
  {
   "cell_type": "code",
   "execution_count": 2,
   "metadata": {},
   "outputs": [
    {
     "name": "stdout",
     "output_type": "stream",
     "text": [
      "/Users/ivan.miller/Documents/study/ccny/22Spring_ML/final_project/facial-expression-recognition/notebooks/ivan\r\n"
     ]
    }
   ],
   "source": [
    "!pwd"
   ]
  },
  {
   "cell_type": "code",
   "execution_count": 3,
   "metadata": {},
   "outputs": [],
   "source": [
    "# '/Users/ivan.miller/Documents/study/ccny/22Spring_ML/final_project/project_data/test'\n",
    "train_path = '../../../project_data/train/' # added the last forward slash\n",
    "test_path = '../../../project_data/test/' # added the last forward slash\n",
    "\n",
    "# create a dictionary with each emotion encoded as integer\n",
    "emotions = {'angry': 0, 'disgust': 1, 'fear': 2, 'happy': 3, 'sad': 4, 'surprise': 5, 'neutral': 6}\n",
    "# create a dictionary with values as keys to lookup original labels\n",
    "label_lookup  = {y: x for x, y in emotions.items()} "
   ]
  },
  {
   "cell_type": "markdown",
   "metadata": {},
   "source": [
    "#### Exploring the folder contents"
   ]
  },
  {
   "cell_type": "code",
   "execution_count": 4,
   "metadata": {},
   "outputs": [],
   "source": [
    "# dir_paths = [] # paths to files\n",
    "# dir_names = [] # flattened images\n",
    "# files = [] # integers as labels \n",
    "# for dir_path, dir_name, file_names in os.walk(train_path, topdown=False):\n",
    "#     dir_paths.append(dir_path)\n",
    "#     dir_names.append(dir_name)\n",
    "#     for filename in file_names:\n",
    "#         files.append(filename)"
   ]
  },
  {
   "cell_type": "code",
   "execution_count": 5,
   "metadata": {},
   "outputs": [],
   "source": [
    "# dir_paths"
   ]
  },
  {
   "cell_type": "code",
   "execution_count": 6,
   "metadata": {},
   "outputs": [],
   "source": [
    "# dir_names"
   ]
  },
  {
   "cell_type": "code",
   "execution_count": 7,
   "metadata": {},
   "outputs": [],
   "source": [
    "# files[:3]"
   ]
  },
  {
   "cell_type": "markdown",
   "metadata": {},
   "source": [
    "### Loading the data"
   ]
  },
  {
   "cell_type": "code",
   "execution_count": 45,
   "metadata": {},
   "outputs": [],
   "source": [
    "def preprocess(path_to_folder):\n",
    "    \n",
    "    '''\n",
    "    Takes path to a directory with images (train or test) as input\n",
    "    Returns three lists:\n",
    "    1. Full paths to image files\n",
    "    2. Images as flattened arrays\n",
    "    3. String labels for each image\n",
    "    '''\n",
    "    \n",
    "    files = [] # paths to files\n",
    "    images = [] # flattened images\n",
    "    labels = [] # integers as labels \n",
    "\n",
    "    for dir_path, dir_name, file_names in os.walk(path_to_folder, topdown=False):\n",
    "        label = dir_path.replace(path_to_folder,'') # taking a label out of path\n",
    "        if label != '':\n",
    "            for filename in file_names:\n",
    "                file_path = os.path.join(dir_path, filename) # creaitng a full path for file\n",
    "                img = io.imread(file_path) # reading the image from the path\n",
    "#                 img_array = np.array(img).flatten() # creating an array and flattening\n",
    "                img_array = np.array(img)#.flatten() # creating an array and flattening\n",
    "                img_array = img_array / 255.0 # Scale pixel values to a range of 0 to 1\n",
    "\n",
    "                files.append(file_path) # append file path\n",
    "                images.append(img_array) # append flattened array\n",
    "#                 labels.append(label) # append label as a string\n",
    "                labels.append(emotions[label]) # append label as an integer\n",
    "    \n",
    "    # print out lengths of each list before returning the results\n",
    "    print(f'Number of files: {len(files)}')\n",
    "    print(f'Number of images: {len(images)}')\n",
    "    print(f'Number of labels: {len(labels)}')\n",
    "    return files, images, labels"
   ]
  },
  {
   "cell_type": "code",
   "execution_count": 22,
   "metadata": {},
   "outputs": [],
   "source": [
    "def preprocess_arrays(path_to_folder):\n",
    "    \n",
    "    '''\n",
    "    Takes path to a directory with images (train or test) as input\n",
    "    Returns the following items:\n",
    "    1. List with paths to image files\n",
    "    2. Images as numpy arrays (scaled between 0 and 1)\n",
    "    3. String labels for each image encoded as integers\n",
    "    '''\n",
    "    \n",
    "    files = [] # paths to files\n",
    "    images = [] # flattened images\n",
    "    labels = [] # integers as labels \n",
    "\n",
    "    for dir_path, dir_name, file_names in os.walk(path_to_folder, topdown=False):\n",
    "        label = dir_path.replace(path_to_folder,'') # taking a label out of path\n",
    "        if label != '':\n",
    "            for filename in file_names:\n",
    "                file_path = os.path.join(dir_path, filename) # creaitng a full path for file\n",
    "                img = io.imread(file_path) # reading the image from the path\n",
    "                img_array = np.array(img)#.flatten() # creating an array and flattening\n",
    "                img_array = img_array / 255.0 # Scale pixel values to a range of 0 to 1 \n",
    "\n",
    "                files.append(file_path) # append file path\n",
    "                images.append(img_array) # append an array to the list\n",
    "                #labels.append(label) # append label as a string\n",
    "                labels.append(emotions[label]) # append label encoded as an integer\n",
    "\n",
    "    # saving as numpy arrays\n",
    "    images = np.asarray(images) \n",
    "    labels = np.asarray(labels)\n",
    "    \n",
    "    # print out lengths of each list before returning the results\n",
    "    print(f'Number of files: {len(files)}, data type: {type(files)}')\n",
    "    print(f'Number of images: {len(images)}, data type: {type(images)}, shape: {images.shape}')\n",
    "    print(f'Number of labels: {len(labels)}, data type: {type(labels)}, shape: {labels.shape}')\n",
    "    return files, images, labels"
   ]
  },
  {
   "cell_type": "code",
   "execution_count": 46,
   "metadata": {},
   "outputs": [
    {
     "name": "stdout",
     "output_type": "stream",
     "text": [
      "Number of files: 28709\n",
      "Number of images: 28709\n",
      "Number of labels: 28709\n"
     ]
    }
   ],
   "source": [
    "# Creating the lists for files arrays and labels of train data\n",
    "train_files, train_images, train_labels = preprocess(train_path)"
   ]
  },
  {
   "cell_type": "code",
   "execution_count": 47,
   "metadata": {},
   "outputs": [
    {
     "data": {
      "image/png": "[encoded data removed]",
      "text/plain": [
       "<Figure size 432x288 with 1 Axes>"
      ]
     },
     "metadata": {
      "needs_background": "light"
     },
     "output_type": "display_data"
    }
   ],
   "source": [
    "# Sanity check using a random image from the train set\n",
    "f = random.randint(1,len(train_files))\n",
    "img = io.imread(train_files[f])\n",
    "\n",
    "plt.imshow(img, cmap='gray')\n",
    "plt.title(f'Random {label_lookup[train_labels[f]]} face from the train set', fontweight = 'bold')\n",
    "plt.show()"
   ]
  },
  {
   "cell_type": "code",
   "execution_count": 48,
   "metadata": {},
   "outputs": [
    {
     "data": {
      "image/png": "[encoded data removed]",
      "text/plain": [
       "<Figure size 432x288 with 1 Axes>"
      ]
     },
     "metadata": {
      "needs_background": "light"
     },
     "output_type": "display_data"
    }
   ],
   "source": [
    "#Count the number of occurences in the train set\n",
    "label, counts = np.unique(train_labels, return_counts = True)\n",
    "\n",
    "plt.bar(label, counts )\n",
    "plt.title('Train label counts')\n",
    "plt.show()"
   ]
  },
  {
   "cell_type": "code",
   "execution_count": 49,
   "metadata": {},
   "outputs": [
    {
     "name": "stdout",
     "output_type": "stream",
     "text": [
      "Number of files: 7178\n",
      "Number of images: 7178\n",
      "Number of labels: 7178\n"
     ]
    }
   ],
   "source": [
    "# Creating the lists for files arrays and labels of train data\n",
    "test_files, test_images, test_labels = preprocess(test_path)"
   ]
  },
  {
   "cell_type": "code",
   "execution_count": 50,
   "metadata": {},
   "outputs": [
    {
     "data": {
      "image/png": "[encoded data removed]",
      "text/plain": [
       "<Figure size 432x288 with 1 Axes>"
      ]
     },
     "metadata": {
      "needs_background": "light"
     },
     "output_type": "display_data"
    }
   ],
   "source": [
    "# Sanity check using a random image from the test set\n",
    "f = random.randint(1,len(test_files))\n",
    "img = io.imread(test_files[f])\n",
    "\n",
    "plt.imshow(img, cmap='gray')\n",
    "plt.title(f'Random {label_lookup[train_labels[f]]} face from the test set', fontweight = 'bold')\n",
    "plt.show()"
   ]
  },
  {
   "cell_type": "code",
   "execution_count": 51,
   "metadata": {},
   "outputs": [
    {
     "data": {
      "image/png": "[encoded data removed]",
      "text/plain": [
       "<Figure size 432x288 with 1 Axes>"
      ]
     },
     "metadata": {
      "needs_background": "light"
     },
     "output_type": "display_data"
    }
   ],
   "source": [
    "#Count the number of occurences in the test set\n",
    "label, counts = np.unique(test_labels, return_counts = True)\n",
    "\n",
    "plt.bar(label, counts )\n",
    "plt.title('Test label counts')\n",
    "plt.show()"
   ]
  },
  {
   "cell_type": "markdown",
   "metadata": {},
   "source": [
    "## TensorFlow"
   ]
  },
  {
   "cell_type": "code",
   "execution_count": 52,
   "metadata": {},
   "outputs": [],
   "source": [
    "import tensorflow as tf\n",
    "import keras\n",
    "from keras.preprocessing import image\n",
    "from keras.models import Sequential\n",
    "from keras.layers import Conv2D, MaxPool2D, Flatten,Dense,Dropout,BatchNormalization\n",
    "from tensorflow.keras.preprocessing.image import ImageDataGenerator\n",
    "import cv2\n",
    "from tensorflow.keras.applications import VGG16, InceptionResNetV2\n",
    "from keras import regularizers\n",
    "from tensorflow.keras.optimizers import Adam,RMSprop,SGD,Adamax"
   ]
  },
  {
   "cell_type": "code",
   "execution_count": 53,
   "metadata": {},
   "outputs": [
    {
     "name": "stdout",
     "output_type": "stream",
     "text": [
      "2.8.0\n"
     ]
    }
   ],
   "source": [
    "print(tf.__version__)"
   ]
  },
  {
   "cell_type": "code",
   "execution_count": 54,
   "metadata": {},
   "outputs": [
    {
     "name": "stdout",
     "output_type": "stream",
     "text": [
      "(48, 48)\n"
     ]
    },
    {
     "data": {
      "text/plain": [
       "48"
      ]
     },
     "execution_count": 54,
     "metadata": {},
     "output_type": "execute_result"
    }
   ],
   "source": [
    "# checking image size\n",
    "f = random.randint(1,len(test_files))\n",
    "img = io.imread(test_files[f])\n",
    "print(img.shape)\n",
    "img_size = img.shape[0]\n",
    "img_size"
   ]
  },
  {
   "cell_type": "markdown",
   "metadata": {},
   "source": [
    "### Generate batches of tensor image data with real-time data augmentation"
   ]
  },
  {
   "cell_type": "code",
   "execution_count": 55,
   "metadata": {},
   "outputs": [],
   "source": [
    "# https://www.tensorflow.org/api_docs/python/tf/keras/preprocessing/image/ImageDataGenerator\n",
    "train_datagen = ImageDataGenerator(\n",
    "                                # rotation_range = 180,\n",
    "                                 width_shift_range = 0.1, \n",
    "                                 height_shift_range = 0.1, \n",
    "                                 horizontal_flip = True,# Boolean. Randomly flip inputs horizontally.\n",
    "                                 rescale = 1./255, # rescaling factor.\n",
    "                                 zoom_range = 0.1, # Range for random zoom\n",
    "                                 validation_split = 0.3 # Fraction of images reserved for validation\n",
    "                                )\n",
    "validation_datagen = ImageDataGenerator(rescale = 1./255,\n",
    "                                         validation_split = 0.3)"
   ]
  },
  {
   "cell_type": "code",
   "execution_count": 56,
   "metadata": {},
   "outputs": [
    {
     "name": "stdout",
     "output_type": "stream",
     "text": [
      "Found 20099 images belonging to 7 classes.\n",
      "Found 2151 images belonging to 7 classes.\n"
     ]
    }
   ],
   "source": [
    "\"\"\"\n",
    "Apply above transformations to the train/test images\n",
    "\"\"\"\n",
    "train_generator = train_datagen.flow_from_directory(directory = train_path,\n",
    "                                                    target_size = (img_size,img_size),\n",
    "                                                    batch_size = 64,\n",
    "                                                    color_mode = \"grayscale\",\n",
    "                                                    class_mode = \"categorical\",\n",
    "                                                    subset = \"training\"\n",
    "                                                   )\n",
    "validation_generator = validation_datagen.flow_from_directory( directory = test_path,\n",
    "                                                              target_size = (img_size,img_size),\n",
    "                                                              batch_size = 64,\n",
    "                                                              color_mode = \"grayscale\",\n",
    "                                                              class_mode = \"categorical\",\n",
    "                                                              subset = \"validation\"\n",
    "                                                             )"
   ]
  },
  {
   "cell_type": "markdown",
   "metadata": {},
   "source": [
    "### Creating a Model"
   ]
  },
  {
   "cell_type": "code",
   "execution_count": 57,
   "metadata": {},
   "outputs": [],
   "source": [
    "model= tf.keras.models.Sequential()\n",
    "model.add(Conv2D(32, kernel_size=(3, 3), padding='same', activation='relu', input_shape=(48, 48,1)))\n",
    "model.add(Conv2D(64,(3,3), padding='same', activation='relu' ))\n",
    "model.add(BatchNormalization())\n",
    "model.add(MaxPool2D(pool_size=(2, 2)))\n",
    "model.add(Dropout(0.25))\n",
    "\n",
    "model.add(Conv2D(128,(5,5), padding='same', activation='relu'))\n",
    "model.add(BatchNormalization())\n",
    "model.add(MaxPool2D(pool_size=(2, 2)))\n",
    "model.add(Dropout(0.25))\n",
    "    \n",
    "model.add(Conv2D(512,(3,3), padding='same', activation='relu', kernel_regularizer=regularizers.l2(0.01)))\n",
    "model.add(BatchNormalization())\n",
    "model.add(MaxPool2D(pool_size=(2, 2)))\n",
    "model.add(Dropout(0.25))\n",
    "\n",
    "model.add(Conv2D(512,(3,3), padding='same', activation='relu', kernel_regularizer=regularizers.l2(0.01)))\n",
    "model.add(BatchNormalization())\n",
    "model.add(MaxPool2D(pool_size=(2, 2)))\n",
    "model.add(Dropout(0.25))\n",
    "\n",
    "model.add(Flatten()) \n",
    "model.add(Dense(256,activation = 'relu'))\n",
    "model.add(BatchNormalization())\n",
    "model.add(Dropout(0.25))\n",
    "    \n",
    "model.add(Dense(512,activation = 'relu'))\n",
    "model.add(BatchNormalization())\n",
    "model.add(Dropout(0.25))\n",
    "\n",
    "model.add(Dense(7, activation='softmax'))\n",
    "\n",
    "model.compile(\n",
    "    optimizer = Adam(learning_rate=0.0001), \n",
    "    loss='categorical_crossentropy', \n",
    "    metrics=['accuracy']\n",
    "  )"
   ]
  },
  {
   "cell_type": "code",
   "execution_count": 58,
   "metadata": {},
   "outputs": [],
   "source": [
    "epochs = 100\n",
    "batch_size = 64"
   ]
  },
  {
   "cell_type": "code",
   "execution_count": 59,
   "metadata": {},
   "outputs": [
    {
     "name": "stdout",
     "output_type": "stream",
     "text": [
      "Model: \"sequential_1\"\n",
      "_________________________________________________________________\n",
      " Layer (type)                Output Shape              Param #   \n",
      "=================================================================\n",
      " conv2d_5 (Conv2D)           (None, 48, 48, 32)        320       \n",
      "                                                                 \n",
      " conv2d_6 (Conv2D)           (None, 48, 48, 64)        18496     \n",
      "                                                                 \n",
      " batch_normalization_6 (Batc  (None, 48, 48, 64)       256       \n",
      " hNormalization)                                                 \n",
      "                                                                 \n",
      " max_pooling2d_4 (MaxPooling  (None, 24, 24, 64)       0         \n",
      " 2D)                                                             \n",
      "                                                                 \n",
      " dropout_6 (Dropout)         (None, 24, 24, 64)        0         \n",
      "                                                                 \n",
      " conv2d_7 (Conv2D)           (None, 24, 24, 128)       204928    \n",
      "                                                                 \n",
      " batch_normalization_7 (Batc  (None, 24, 24, 128)      512       \n",
      " hNormalization)                                                 \n",
      "                                                                 \n",
      " max_pooling2d_5 (MaxPooling  (None, 12, 12, 128)      0         \n",
      " 2D)                                                             \n",
      "                                                                 \n",
      " dropout_7 (Dropout)         (None, 12, 12, 128)       0         \n",
      "                                                                 \n",
      " conv2d_8 (Conv2D)           (None, 12, 12, 512)       590336    \n",
      "                                                                 \n",
      " batch_normalization_8 (Batc  (None, 12, 12, 512)      2048      \n",
      " hNormalization)                                                 \n",
      "                                                                 \n",
      " max_pooling2d_6 (MaxPooling  (None, 6, 6, 512)        0         \n",
      " 2D)                                                             \n",
      "                                                                 \n",
      " dropout_8 (Dropout)         (None, 6, 6, 512)         0         \n",
      "                                                                 \n",
      " conv2d_9 (Conv2D)           (None, 6, 6, 512)         2359808   \n",
      "                                                                 \n",
      " batch_normalization_9 (Batc  (None, 6, 6, 512)        2048      \n",
      " hNormalization)                                                 \n",
      "                                                                 \n",
      " max_pooling2d_7 (MaxPooling  (None, 3, 3, 512)        0         \n",
      " 2D)                                                             \n",
      "                                                                 \n",
      " dropout_9 (Dropout)         (None, 3, 3, 512)         0         \n",
      "                                                                 \n",
      " flatten_1 (Flatten)         (None, 4608)              0         \n",
      "                                                                 \n",
      " dense_3 (Dense)             (None, 256)               1179904   \n",
      "                                                                 \n",
      " batch_normalization_10 (Bat  (None, 256)              1024      \n",
      " chNormalization)                                                \n",
      "                                                                 \n",
      " dropout_10 (Dropout)        (None, 256)               0         \n",
      "                                                                 \n",
      " dense_4 (Dense)             (None, 512)               131584    \n",
      "                                                                 \n",
      " batch_normalization_11 (Bat  (None, 512)              2048      \n",
      " chNormalization)                                                \n",
      "                                                                 \n",
      " dropout_11 (Dropout)        (None, 512)               0         \n",
      "                                                                 \n",
      " dense_5 (Dense)             (None, 7)                 3591      \n",
      "                                                                 \n",
      "=================================================================\n",
      "Total params: 4,496,903\n",
      "Trainable params: 4,492,935\n",
      "Non-trainable params: 3,968\n",
      "_________________________________________________________________\n"
     ]
    }
   ],
   "source": [
    "model.summary()"
   ]
  },
  {
   "cell_type": "code",
   "execution_count": 60,
   "metadata": {},
   "outputs": [
    {
     "name": "stdout",
     "output_type": "stream",
     "text": [
      "Epoch 1/100\n"
     ]
    },
    {
     "name": "stderr",
     "output_type": "stream",
     "text": [
      "2022-05-04 11:30:13.902474: I tensorflow/core/grappler/optimizers/custom_graph_optimizer_registry.cc:113] Plugin optimizer for device_type GPU is enabled.\n"
     ]
    },
    {
     "name": "stdout",
     "output_type": "stream",
     "text": [
      "315/315 [==============================] - ETA: 0s - loss: 9.2569 - accuracy: 0.2071"
     ]
    },
    {
     "name": "stderr",
     "output_type": "stream",
     "text": [
      "2022-05-04 11:30:55.431937: I tensorflow/core/grappler/optimizers/custom_graph_optimizer_registry.cc:113] Plugin optimizer for device_type GPU is enabled.\n"
     ]
    },
    {
     "name": "stdout",
     "output_type": "stream",
     "text": [
      "315/315 [==============================] - 43s 135ms/step - loss: 9.2569 - accuracy: 0.2071 - val_loss: 8.5571 - val_accuracy: 0.2473\n",
      "Epoch 2/100\n",
      "315/315 [==============================] - 42s 135ms/step - loss: 8.3309 - accuracy: 0.2421 - val_loss: 7.9479 - val_accuracy: 0.2171\n",
      "Epoch 3/100\n",
      "315/315 [==============================] - 45s 142ms/step - loss: 7.5949 - accuracy: 0.2581 - val_loss: 7.1586 - val_accuracy: 0.2734\n",
      "Epoch 4/100\n",
      "315/315 [==============================] - 48s 151ms/step - loss: 6.8649 - accuracy: 0.2747 - val_loss: 6.4783 - val_accuracy: 0.2887\n",
      "Epoch 5/100\n",
      "315/315 [==============================] - 54s 170ms/step - loss: 6.1885 - accuracy: 0.2922 - val_loss: 5.7810 - val_accuracy: 0.3264\n",
      "Epoch 6/100\n",
      "315/315 [==============================] - 59s 189ms/step - loss: 5.5132 - accuracy: 0.3169 - val_loss: 5.2799 - val_accuracy: 0.2808\n",
      "Epoch 7/100\n",
      "315/315 [==============================] - 64s 202ms/step - loss: 4.9739 - accuracy: 0.3332 - val_loss: 4.6622 - val_accuracy: 0.3636\n",
      "Epoch 8/100\n",
      "315/315 [==============================] - 59s 189ms/step - loss: 4.4213 - accuracy: 0.3642 - val_loss: 4.1635 - val_accuracy: 0.3663\n",
      "Epoch 9/100\n",
      "315/315 [==============================] - 60s 192ms/step - loss: 3.9767 - accuracy: 0.3793 - val_loss: 3.8695 - val_accuracy: 0.3519\n",
      "Epoch 10/100\n",
      "315/315 [==============================] - 62s 196ms/step - loss: 3.5654 - accuracy: 0.3995 - val_loss: 3.3416 - val_accuracy: 0.4207\n",
      "Epoch 11/100\n",
      "315/315 [==============================] - 67s 211ms/step - loss: 3.2992 - accuracy: 0.3999 - val_loss: 3.0367 - val_accuracy: 0.4500\n",
      "Epoch 12/100\n",
      "315/315 [==============================] - 55s 174ms/step - loss: 2.9702 - accuracy: 0.4344 - val_loss: 3.0536 - val_accuracy: 0.3863\n",
      "Epoch 13/100\n",
      "315/315 [==============================] - 49s 156ms/step - loss: 2.6997 - accuracy: 0.4489 - val_loss: 2.5068 - val_accuracy: 0.4947\n",
      "Epoch 14/100\n",
      "315/315 [==============================] - 48s 152ms/step - loss: 2.4873 - accuracy: 0.4586 - val_loss: 2.4232 - val_accuracy: 0.4449\n",
      "Epoch 15/100\n",
      "315/315 [==============================] - 45s 142ms/step - loss: 2.2867 - accuracy: 0.4765 - val_loss: 2.1890 - val_accuracy: 0.4895\n",
      "Epoch 16/100\n",
      "315/315 [==============================] - 42s 133ms/step - loss: 2.1404 - accuracy: 0.4869 - val_loss: 2.0052 - val_accuracy: 0.5286\n",
      "Epoch 17/100\n",
      "315/315 [==============================] - 41s 129ms/step - loss: 2.0468 - accuracy: 0.4962 - val_loss: 1.9771 - val_accuracy: 0.5109\n",
      "Epoch 18/100\n",
      "315/315 [==============================] - 41s 130ms/step - loss: 1.9297 - accuracy: 0.5112 - val_loss: 1.7797 - val_accuracy: 0.5588\n",
      "Epoch 19/100\n",
      "315/315 [==============================] - 41s 130ms/step - loss: 1.8293 - accuracy: 0.5217 - val_loss: 1.7179 - val_accuracy: 0.5514\n",
      "Epoch 20/100\n",
      "315/315 [==============================] - 41s 130ms/step - loss: 1.7291 - accuracy: 0.5340 - val_loss: 1.8038 - val_accuracy: 0.4858\n",
      "Epoch 21/100\n",
      "315/315 [==============================] - 41s 130ms/step - loss: 1.7254 - accuracy: 0.5310 - val_loss: 1.6157 - val_accuracy: 0.5723\n",
      "Epoch 22/100\n",
      "315/315 [==============================] - 41s 130ms/step - loss: 1.6588 - accuracy: 0.5468 - val_loss: 1.9056 - val_accuracy: 0.4458\n",
      "Epoch 23/100\n",
      "315/315 [==============================] - 41s 130ms/step - loss: 1.7252 - accuracy: 0.5329 - val_loss: 1.6326 - val_accuracy: 0.5830\n",
      "Epoch 24/100\n",
      "315/315 [==============================] - 41s 130ms/step - loss: 1.6405 - accuracy: 0.5596 - val_loss: 1.5293 - val_accuracy: 0.5904\n",
      "Epoch 25/100\n",
      "315/315 [==============================] - 41s 130ms/step - loss: 1.6220 - accuracy: 0.5540 - val_loss: 1.5682 - val_accuracy: 0.5700\n",
      "Epoch 26/100\n",
      "315/315 [==============================] - 41s 130ms/step - loss: 1.5718 - accuracy: 0.5669 - val_loss: 1.5928 - val_accuracy: 0.5672\n",
      "Epoch 27/100\n",
      "315/315 [==============================] - 41s 130ms/step - loss: 1.5428 - accuracy: 0.5686 - val_loss: 1.5443 - val_accuracy: 0.5732\n",
      "Epoch 28/100\n",
      "315/315 [==============================] - 41s 131ms/step - loss: 1.6065 - accuracy: 0.5641 - val_loss: 1.5656 - val_accuracy: 0.5783\n",
      "Epoch 29/100\n",
      "315/315 [==============================] - 41s 130ms/step - loss: 1.5577 - accuracy: 0.5793 - val_loss: 1.5077 - val_accuracy: 0.5858\n",
      "Epoch 30/100\n",
      "315/315 [==============================] - 41s 130ms/step - loss: 1.5017 - accuracy: 0.5867 - val_loss: 1.4821 - val_accuracy: 0.5853\n",
      "Epoch 31/100\n",
      "315/315 [==============================] - 41s 131ms/step - loss: 1.4904 - accuracy: 0.5862 - val_loss: 1.4958 - val_accuracy: 0.5830\n",
      "Epoch 32/100\n",
      "315/315 [==============================] - 41s 130ms/step - loss: 1.4816 - accuracy: 0.5888 - val_loss: 1.4782 - val_accuracy: 0.5848\n",
      "Epoch 33/100\n",
      "315/315 [==============================] - 41s 129ms/step - loss: 1.4525 - accuracy: 0.5991 - val_loss: 1.4194 - val_accuracy: 0.6044\n",
      "Epoch 34/100\n",
      "315/315 [==============================] - 41s 129ms/step - loss: 1.4319 - accuracy: 0.6025 - val_loss: 1.5225 - val_accuracy: 0.5728\n",
      "Epoch 35/100\n",
      "315/315 [==============================] - 41s 129ms/step - loss: 1.4549 - accuracy: 0.5969 - val_loss: 1.3905 - val_accuracy: 0.6132\n",
      "Epoch 36/100\n",
      "315/315 [==============================] - 41s 129ms/step - loss: 1.4264 - accuracy: 0.6047 - val_loss: 1.4447 - val_accuracy: 0.6048\n",
      "Epoch 37/100\n",
      "315/315 [==============================] - 41s 129ms/step - loss: 1.4926 - accuracy: 0.5991 - val_loss: 1.5724 - val_accuracy: 0.5755\n",
      "Epoch 38/100\n",
      "315/315 [==============================] - 41s 129ms/step - loss: 1.4941 - accuracy: 0.6016 - val_loss: 1.4727 - val_accuracy: 0.6099\n",
      "Epoch 39/100\n",
      "315/315 [==============================] - 41s 129ms/step - loss: 1.4898 - accuracy: 0.6016 - val_loss: 1.5003 - val_accuracy: 0.6127\n",
      "Epoch 40/100\n",
      "315/315 [==============================] - 41s 129ms/step - loss: 1.4722 - accuracy: 0.6088 - val_loss: 1.4282 - val_accuracy: 0.6327\n",
      "Epoch 41/100\n",
      "315/315 [==============================] - 41s 129ms/step - loss: 1.4437 - accuracy: 0.6149 - val_loss: 1.4228 - val_accuracy: 0.6220\n",
      "Epoch 42/100\n",
      "315/315 [==============================] - 41s 129ms/step - loss: 1.4300 - accuracy: 0.6191 - val_loss: 1.4995 - val_accuracy: 0.6039\n",
      "Epoch 43/100\n",
      "315/315 [==============================] - 41s 129ms/step - loss: 1.4685 - accuracy: 0.6150 - val_loss: 1.4586 - val_accuracy: 0.6244\n",
      "Epoch 44/100\n",
      "315/315 [==============================] - 41s 129ms/step - loss: 1.4488 - accuracy: 0.6196 - val_loss: 1.4462 - val_accuracy: 0.6253\n",
      "Epoch 45/100\n",
      "315/315 [==============================] - 41s 129ms/step - loss: 1.4215 - accuracy: 0.6296 - val_loss: 1.4710 - val_accuracy: 0.6076\n",
      "Epoch 46/100\n",
      "315/315 [==============================] - 41s 129ms/step - loss: 1.5055 - accuracy: 0.6095 - val_loss: 1.6303 - val_accuracy: 0.5983\n",
      "Epoch 47/100\n",
      "315/315 [==============================] - 41s 129ms/step - loss: 1.6060 - accuracy: 0.6040 - val_loss: 1.5738 - val_accuracy: 0.6230\n",
      "Epoch 48/100\n",
      "315/315 [==============================] - 41s 131ms/step - loss: 1.5426 - accuracy: 0.6218 - val_loss: 1.5873 - val_accuracy: 0.6104\n",
      "Epoch 49/100\n",
      "315/315 [==============================] - 41s 129ms/step - loss: 1.5000 - accuracy: 0.6289 - val_loss: 1.4968 - val_accuracy: 0.6341\n",
      "Epoch 50/100\n",
      "315/315 [==============================] - 41s 129ms/step - loss: 1.4503 - accuracy: 0.6364 - val_loss: 1.5036 - val_accuracy: 0.6183\n",
      "Epoch 51/100\n",
      "315/315 [==============================] - 41s 129ms/step - loss: 1.4341 - accuracy: 0.6374 - val_loss: 1.4530 - val_accuracy: 0.6216\n",
      "Epoch 52/100\n",
      "315/315 [==============================] - 41s 129ms/step - loss: 1.4200 - accuracy: 0.6421 - val_loss: 1.4540 - val_accuracy: 0.6337\n",
      "Epoch 53/100\n",
      "315/315 [==============================] - 41s 129ms/step - loss: 1.4062 - accuracy: 0.6404 - val_loss: 1.4622 - val_accuracy: 0.6244\n",
      "Epoch 54/100\n",
      "315/315 [==============================] - 41s 129ms/step - loss: 1.4982 - accuracy: 0.6215 - val_loss: 1.4867 - val_accuracy: 0.6406\n",
      "Epoch 55/100\n",
      "315/315 [==============================] - 41s 129ms/step - loss: 1.4665 - accuracy: 0.6364 - val_loss: 1.4787 - val_accuracy: 0.6444\n",
      "Epoch 56/100\n",
      "315/315 [==============================] - 41s 129ms/step - loss: 1.4284 - accuracy: 0.6445 - val_loss: 1.5111 - val_accuracy: 0.6253\n"
     ]
    },
    {
     "name": "stdout",
     "output_type": "stream",
     "text": [
      "Epoch 57/100\n",
      "315/315 [==============================] - 41s 129ms/step - loss: 1.4312 - accuracy: 0.6408 - val_loss: 1.4600 - val_accuracy: 0.6420\n",
      "Epoch 58/100\n",
      "315/315 [==============================] - 41s 131ms/step - loss: 1.4024 - accuracy: 0.6469 - val_loss: 1.4275 - val_accuracy: 0.6499\n",
      "Epoch 59/100\n",
      "315/315 [==============================] - 41s 129ms/step - loss: 1.3799 - accuracy: 0.6524 - val_loss: 1.4599 - val_accuracy: 0.6318\n",
      "Epoch 60/100\n",
      "315/315 [==============================] - 41s 129ms/step - loss: 1.3634 - accuracy: 0.6569 - val_loss: 1.4190 - val_accuracy: 0.6490\n",
      "Epoch 61/100\n",
      "315/315 [==============================] - 40s 128ms/step - loss: 1.3448 - accuracy: 0.6579 - val_loss: 1.4723 - val_accuracy: 0.6244\n",
      "Epoch 62/100\n",
      "315/315 [==============================] - 41s 129ms/step - loss: 1.3642 - accuracy: 0.6504 - val_loss: 1.4486 - val_accuracy: 0.6374\n",
      "Epoch 63/100\n",
      "315/315 [==============================] - 41s 130ms/step - loss: 1.3675 - accuracy: 0.6503 - val_loss: 1.4254 - val_accuracy: 0.6383\n",
      "Epoch 64/100\n",
      "315/315 [==============================] - 41s 129ms/step - loss: 1.3447 - accuracy: 0.6607 - val_loss: 1.3803 - val_accuracy: 0.6485\n",
      "Epoch 65/100\n",
      "315/315 [==============================] - 41s 129ms/step - loss: 1.3392 - accuracy: 0.6589 - val_loss: 1.6155 - val_accuracy: 0.5867\n",
      "Epoch 66/100\n",
      "315/315 [==============================] - 41s 129ms/step - loss: 1.3960 - accuracy: 0.6518 - val_loss: 1.4728 - val_accuracy: 0.6304\n",
      "Epoch 67/100\n",
      "315/315 [==============================] - 41s 129ms/step - loss: 1.3696 - accuracy: 0.6598 - val_loss: 1.4559 - val_accuracy: 0.6323\n",
      "Epoch 68/100\n",
      "315/315 [==============================] - 41s 129ms/step - loss: 1.3731 - accuracy: 0.6581 - val_loss: 1.4686 - val_accuracy: 0.6471\n",
      "Epoch 69/100\n",
      "315/315 [==============================] - 41s 129ms/step - loss: 1.3628 - accuracy: 0.6627 - val_loss: 1.4315 - val_accuracy: 0.6453\n",
      "Epoch 70/100\n",
      "315/315 [==============================] - 41s 129ms/step - loss: 1.3393 - accuracy: 0.6641 - val_loss: 1.5229 - val_accuracy: 0.6197\n",
      "Epoch 71/100\n",
      "315/315 [==============================] - 41s 130ms/step - loss: 1.3493 - accuracy: 0.6659 - val_loss: 1.4442 - val_accuracy: 0.6462\n",
      "Epoch 72/100\n",
      "315/315 [==============================] - 41s 129ms/step - loss: 1.3687 - accuracy: 0.6588 - val_loss: 1.5977 - val_accuracy: 0.5993\n",
      "Epoch 73/100\n",
      "315/315 [==============================] - 41s 129ms/step - loss: 1.4834 - accuracy: 0.6484 - val_loss: 1.5874 - val_accuracy: 0.6327\n",
      "Epoch 74/100\n",
      "315/315 [==============================] - 41s 129ms/step - loss: 1.4444 - accuracy: 0.6632 - val_loss: 1.4890 - val_accuracy: 0.6378\n",
      "Epoch 75/100\n",
      "315/315 [==============================] - 41s 129ms/step - loss: 1.3908 - accuracy: 0.6666 - val_loss: 1.4578 - val_accuracy: 0.6495\n",
      "Epoch 76/100\n",
      "315/315 [==============================] - 41s 129ms/step - loss: 1.3922 - accuracy: 0.6652 - val_loss: 1.5493 - val_accuracy: 0.6337\n",
      "Epoch 77/100\n",
      "315/315 [==============================] - 40s 129ms/step - loss: 1.4484 - accuracy: 0.6619 - val_loss: 1.4972 - val_accuracy: 0.6457\n",
      "Epoch 78/100\n",
      "315/315 [==============================] - 41s 129ms/step - loss: 1.3951 - accuracy: 0.6704 - val_loss: 1.4463 - val_accuracy: 0.6588\n",
      "Epoch 79/100\n",
      "315/315 [==============================] - 41s 130ms/step - loss: 1.3810 - accuracy: 0.6722 - val_loss: 1.4703 - val_accuracy: 0.6541\n",
      "Epoch 80/100\n",
      "315/315 [==============================] - 41s 129ms/step - loss: 1.3950 - accuracy: 0.6702 - val_loss: 1.7807 - val_accuracy: 0.5681\n",
      "Epoch 81/100\n",
      "315/315 [==============================] - 41s 129ms/step - loss: 1.5085 - accuracy: 0.6494 - val_loss: 1.5594 - val_accuracy: 0.6416\n",
      "Epoch 82/100\n",
      "315/315 [==============================] - 41s 129ms/step - loss: 1.4802 - accuracy: 0.6613 - val_loss: 1.5366 - val_accuracy: 0.6518\n",
      "Epoch 83/100\n",
      "315/315 [==============================] - 41s 129ms/step - loss: 1.4282 - accuracy: 0.6770 - val_loss: 1.4804 - val_accuracy: 0.6564\n",
      "Epoch 84/100\n",
      "315/315 [==============================] - 41s 129ms/step - loss: 1.4022 - accuracy: 0.6747 - val_loss: 1.4675 - val_accuracy: 0.6555\n",
      "Epoch 85/100\n",
      "315/315 [==============================] - 41s 129ms/step - loss: 1.3757 - accuracy: 0.6778 - val_loss: 1.4694 - val_accuracy: 0.6532\n",
      "Epoch 86/100\n",
      "315/315 [==============================] - 41s 129ms/step - loss: 1.3777 - accuracy: 0.6792 - val_loss: 1.4865 - val_accuracy: 0.6467\n",
      "Epoch 87/100\n",
      "315/315 [==============================] - 41s 130ms/step - loss: 1.3540 - accuracy: 0.6809 - val_loss: 1.4563 - val_accuracy: 0.6499\n",
      "Epoch 88/100\n",
      "315/315 [==============================] - 41s 130ms/step - loss: 1.3383 - accuracy: 0.6816 - val_loss: 1.4228 - val_accuracy: 0.6536\n",
      "Epoch 89/100\n",
      "315/315 [==============================] - 41s 131ms/step - loss: 1.3245 - accuracy: 0.6826 - val_loss: 1.4244 - val_accuracy: 0.6462\n",
      "Epoch 90/100\n",
      "315/315 [==============================] - 41s 129ms/step - loss: 1.3312 - accuracy: 0.6814 - val_loss: 1.4018 - val_accuracy: 0.6611\n",
      "Epoch 91/100\n",
      "315/315 [==============================] - 41s 129ms/step - loss: 1.3196 - accuracy: 0.6827 - val_loss: 1.4423 - val_accuracy: 0.6583\n",
      "Epoch 92/100\n",
      "315/315 [==============================] - 41s 129ms/step - loss: 1.3186 - accuracy: 0.6877 - val_loss: 1.4010 - val_accuracy: 0.6629\n",
      "Epoch 93/100\n",
      "315/315 [==============================] - 41s 129ms/step - loss: 1.3166 - accuracy: 0.6852 - val_loss: 1.4997 - val_accuracy: 0.6290\n",
      "Epoch 94/100\n",
      "315/315 [==============================] - 41s 129ms/step - loss: 1.3245 - accuracy: 0.6827 - val_loss: 1.4177 - val_accuracy: 0.6639\n",
      "Epoch 95/100\n",
      "315/315 [==============================] - 41s 129ms/step - loss: 1.3242 - accuracy: 0.6813 - val_loss: 1.3892 - val_accuracy: 0.6774\n",
      "Epoch 96/100\n",
      "315/315 [==============================] - 41s 129ms/step - loss: 1.3121 - accuracy: 0.6882 - val_loss: 1.4822 - val_accuracy: 0.6476\n",
      "Epoch 97/100\n",
      "315/315 [==============================] - 41s 129ms/step - loss: 1.4319 - accuracy: 0.6694 - val_loss: 1.4985 - val_accuracy: 0.6653\n",
      "Epoch 98/100\n",
      "315/315 [==============================] - 41s 129ms/step - loss: 1.3738 - accuracy: 0.6855 - val_loss: 1.5005 - val_accuracy: 0.6495\n",
      "Epoch 99/100\n",
      "315/315 [==============================] - 41s 129ms/step - loss: 1.3458 - accuracy: 0.6898 - val_loss: 1.4601 - val_accuracy: 0.6662\n",
      "Epoch 100/100\n",
      "315/315 [==============================] - 41s 129ms/step - loss: 1.3691 - accuracy: 0.6864 - val_loss: 1.5654 - val_accuracy: 0.6323\n"
     ]
    }
   ],
   "source": [
    "history = model.fit(x = train_generator,epochs = epochs,validation_data = validation_generator)"
   ]
  },
  {
   "cell_type": "markdown",
   "metadata": {},
   "source": [
    "#### Plotting Accuracy Scores"
   ]
  },
  {
   "cell_type": "code",
   "execution_count": 61,
   "metadata": {},
   "outputs": [
    {
     "data": {
      "image/png": "[encoded data removed]",
      "text/plain": [
       "<Figure size 864x288 with 2 Axes>"
      ]
     },
     "metadata": {
      "needs_background": "light"
     },
     "output_type": "display_data"
    }
   ],
   "source": [
    "fig , ax = plt.subplots(1,2)\n",
    "train_acc = history.history['accuracy']\n",
    "train_loss = history.history['loss']\n",
    "fig.set_size_inches(12,4)\n",
    "\n",
    "ax[0].plot(history.history['accuracy'])\n",
    "ax[0].plot(history.history['val_accuracy'])\n",
    "ax[0].set_title('Training vs Validation Accuracy')\n",
    "ax[0].set_ylabel('Accuracy')\n",
    "ax[0].set_xlabel('Epoch')\n",
    "ax[0].legend(['Train', 'Validation'], loc='lower right')\n",
    "\n",
    "ax[1].plot(history.history['loss'])\n",
    "ax[1].plot(history.history['val_loss'])\n",
    "ax[1].set_title('Training vs Validation Loss')\n",
    "ax[1].set_ylabel('Loss')\n",
    "ax[1].set_xlabel('Epoch')\n",
    "ax[1].legend(['Train', 'Validation'], loc='upper right')\n",
    "\n",
    "plt.show()"
   ]
  },
  {
   "cell_type": "code",
   "execution_count": 63,
   "metadata": {},
   "outputs": [
    {
     "name": "stdout",
     "output_type": "stream",
     "text": [
      "{'verbose': 1, 'epochs': 100, 'steps': 315}\n",
      "dict_keys(['loss', 'accuracy', 'val_loss', 'val_accuracy'])\n"
     ]
    }
   ],
   "source": [
    "\n",
    "print(history.params)\n",
    "\n",
    "# check the keys of history object\n",
    "print(history.history.keys())\n",
    "\n"
   ]
  },
  {
   "cell_type": "code",
   "execution_count": null,
   "metadata": {},
   "outputs": [],
   "source": []
  }
 ],
 "metadata": {
  "kernelspec": {
   "display_name": "Python 3 (ipykernel)",
   "language": "python",
   "name": "python3"
  },
  "language_info": {
   "codemirror_mode": {
    "name": "ipython",
    "version": 3
   },
   "file_extension": ".py",
   "mimetype": "text/x-python",
   "name": "python",
   "nbconvert_exporter": "python",
   "pygments_lexer": "ipython3",
   "version": "3.9.10"
  }
 },
 "nbformat": 4,
 "nbformat_minor": 4
}
