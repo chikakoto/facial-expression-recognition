{
  "nbformat": 4,
  "nbformat_minor": 0,
  "metadata": {
    "colab": {
      "name": "RH_SGDClassifier_notebook.ipynb",
      "provenance": [],
      "collapsed_sections": [],
      "mount_file_id": "13pKnswCtccA1bzQs05ZFp2z9fUAOARtL",
      "authorship_tag": "ABX9TyMYnGvPtdo8MplNOU1EhhXg",
      "include_colab_link": true
    },
    "kernelspec": {
      "name": "python3",
      "display_name": "Python 3"
    },
    "language_info": {
      "name": "python"
    }
  },
  "cells": [
    {
      "cell_type": "markdown",
      "metadata": {
        "id": "view-in-github",
        "colab_type": "text"
      },
      "source": [
        "<a href=\"https://colab.research.google.com/github/chikakoto/facial-expression-recognition/blob/rabi/notebooks/rabiuls_notebook/RH_SGDClassifier_notebook.ipynb\" target=\"_parent\"><img src=\"https://colab.research.google.com/assets/colab-badge.svg\" alt=\"Open In Colab\"/></a>"
      ]
    },
    {
      "cell_type": "markdown",
      "source": [
        "# Data Source \n",
        "https://www.kaggle.com/datasets/msambare/fer2013\n",
        "https://drive.google.com/file/d/168XK2dmyPg9d6AI3cgbxhCXdIow7uVK-/view?usp=sharing \n"
      ],
      "metadata": {
        "id": "CrPz4rVRHryq"
      }
    },
    {
      "cell_type": "markdown",
      "source": [
        "Regularized linear models with Stochastic Gradient Descent (SGD)"
      ],
      "metadata": {
        "id": "IKY7NhHus8I1"
      }
    },
    {
      "cell_type": "markdown",
      "source": [
        "# Importing Library & Downloading Raw data"
      ],
      "metadata": {
        "id": "dxAZZUAd6vZB"
      }
    },
    {
      "cell_type": "code",
      "source": [
        "# Importing basic python Library\n",
        "import numpy as np\n",
        "import pandas as pd\n",
        "import matplotlib.pyplot as plt\n",
        "import matplotlib.image as mpimg\n",
        "import seaborn as sns\n",
        "import os\n",
        "%matplotlib inline\n",
        "from skimage.transform import resize\n",
        "from skimage.io import imread\n",
        "from glob import glob\n",
        "from scipy import ndimage as ndi\n",
        "\n",
        "from tensorflow.keras.utils import to_categorical\n",
        "from sklearn.metrics import accuracy_score,confusion_matrix,classification_report\n",
        "from skimage.transform import resize"
      ],
      "metadata": {
        "id": "q75OhgmlzUSy"
      },
      "execution_count": null,
      "outputs": []
    },
    {
      "cell_type": "code",
      "source": [
        "#mounting google drive and navigating to project folder\n",
        "from google.colab import drive\n",
        "drive.mount('/content/drive')\n",
        "# %cd drive/MyDrive/Colab Notebooks/facial-expression-recognition"
      ],
      "metadata": {
        "id": "o3O-IHV5PIeY",
        "colab": {
          "base_uri": "https://localhost:8080/"
        },
        "outputId": "863b9afa-479d-4ab3-9df5-9e0fb5a76d48"
      },
      "execution_count": null,
      "outputs": [
        {
          "output_type": "stream",
          "name": "stdout",
          "text": [
            "Mounted at /content/drive\n"
          ]
        }
      ]
    },
    {
      "cell_type": "markdown",
      "source": [
        "#this section is for FER data set "
      ],
      "metadata": {
        "id": "n-lfsjvL2AnL"
      }
    },
    {
      "cell_type": "code",
      "source": [
        "#emotion_labels = {0:‘angry’, 2:‘fear’, 3:‘happy’, 4:‘sad’, 5:‘surprise’, 6:‘neutral’}\n",
        "df = pd.read_csv('/content/sift_data.csv')\n",
        "print(df.shape)\n",
        "df.head(2)"
      ],
      "metadata": {
        "colab": {
          "base_uri": "https://localhost:8080/",
          "height": 130
        },
        "id": "ISguYahhuBOp",
        "outputId": "7f4f1cb2-5eda-4ce7-d382-379465ca77cc"
      },
      "execution_count": null,
      "outputs": [
        {
          "output_type": "stream",
          "name": "stdout",
          "text": [
            "(35322, 3)\n"
          ]
        },
        {
          "output_type": "execute_result",
          "data": {
            "text/plain": [
              "   usage  emotion                                          histogram\n",
              "0  train        3  4 3 6 1 1 3 0 0 0 0 0 0 0 0 0 0 0 0 0 0 0 0 0 ...\n",
              "1  train        3  2 8 4 4 0 7 0 0 0 0 0 0 0 0 0 0 0 0 0 0 0 0 0 ..."
            ],
            "text/html": [
              "\n",
              "  <div id=\"df-f979b8aa-4da5-45b0-a543-3968422fa7a6\">\n",
              "    <div class=\"colab-df-container\">\n",
              "      <div>\n",
              "<style scoped>\n",
              "    .dataframe tbody tr th:only-of-type {\n",
              "        vertical-align: middle;\n",
              "    }\n",
              "\n",
              "    .dataframe tbody tr th {\n",
              "        vertical-align: top;\n",
              "    }\n",
              "\n",
              "    .dataframe thead th {\n",
              "        text-align: right;\n",
              "    }\n",
              "</style>\n",
              "<table border=\"1\" class=\"dataframe\">\n",
              "  <thead>\n",
              "    <tr style=\"text-align: right;\">\n",
              "      <th></th>\n",
              "      <th>usage</th>\n",
              "      <th>emotion</th>\n",
              "      <th>histogram</th>\n",
              "    </tr>\n",
              "  </thead>\n",
              "  <tbody>\n",
              "    <tr>\n",
              "      <th>0</th>\n",
              "      <td>train</td>\n",
              "      <td>3</td>\n",
              "      <td>4 3 6 1 1 3 0 0 0 0 0 0 0 0 0 0 0 0 0 0 0 0 0 ...</td>\n",
              "    </tr>\n",
              "    <tr>\n",
              "      <th>1</th>\n",
              "      <td>train</td>\n",
              "      <td>3</td>\n",
              "      <td>2 8 4 4 0 7 0 0 0 0 0 0 0 0 0 0 0 0 0 0 0 0 0 ...</td>\n",
              "    </tr>\n",
              "  </tbody>\n",
              "</table>\n",
              "</div>\n",
              "      <button class=\"colab-df-convert\" onclick=\"convertToInteractive('df-f979b8aa-4da5-45b0-a543-3968422fa7a6')\"\n",
              "              title=\"Convert this dataframe to an interactive table.\"\n",
              "              style=\"display:none;\">\n",
              "        \n",
              "  <svg xmlns=\"http://www.w3.org/2000/svg\" height=\"24px\"viewBox=\"0 0 24 24\"\n",
              "       width=\"24px\">\n",
              "    <path d=\"M0 0h24v24H0V0z\" fill=\"none\"/>\n",
              "    <path d=\"M18.56 5.44l.94 2.06.94-2.06 2.06-.94-2.06-.94-.94-2.06-.94 2.06-2.06.94zm-11 1L8.5 8.5l.94-2.06 2.06-.94-2.06-.94L8.5 2.5l-.94 2.06-2.06.94zm10 10l.94 2.06.94-2.06 2.06-.94-2.06-.94-.94-2.06-.94 2.06-2.06.94z\"/><path d=\"M17.41 7.96l-1.37-1.37c-.4-.4-.92-.59-1.43-.59-.52 0-1.04.2-1.43.59L10.3 9.45l-7.72 7.72c-.78.78-.78 2.05 0 2.83L4 21.41c.39.39.9.59 1.41.59.51 0 1.02-.2 1.41-.59l7.78-7.78 2.81-2.81c.8-.78.8-2.07 0-2.86zM5.41 20L4 18.59l7.72-7.72 1.47 1.35L5.41 20z\"/>\n",
              "  </svg>\n",
              "      </button>\n",
              "      \n",
              "  <style>\n",
              "    .colab-df-container {\n",
              "      display:flex;\n",
              "      flex-wrap:wrap;\n",
              "      gap: 12px;\n",
              "    }\n",
              "\n",
              "    .colab-df-convert {\n",
              "      background-color: #E8F0FE;\n",
              "      border: none;\n",
              "      border-radius: 50%;\n",
              "      cursor: pointer;\n",
              "      display: none;\n",
              "      fill: #1967D2;\n",
              "      height: 32px;\n",
              "      padding: 0 0 0 0;\n",
              "      width: 32px;\n",
              "    }\n",
              "\n",
              "    .colab-df-convert:hover {\n",
              "      background-color: #E2EBFA;\n",
              "      box-shadow: 0px 1px 2px rgba(60, 64, 67, 0.3), 0px 1px 3px 1px rgba(60, 64, 67, 0.15);\n",
              "      fill: #174EA6;\n",
              "    }\n",
              "\n",
              "    [theme=dark] .colab-df-convert {\n",
              "      background-color: #3B4455;\n",
              "      fill: #D2E3FC;\n",
              "    }\n",
              "\n",
              "    [theme=dark] .colab-df-convert:hover {\n",
              "      background-color: #434B5C;\n",
              "      box-shadow: 0px 1px 3px 1px rgba(0, 0, 0, 0.15);\n",
              "      filter: drop-shadow(0px 1px 2px rgba(0, 0, 0, 0.3));\n",
              "      fill: #FFFFFF;\n",
              "    }\n",
              "  </style>\n",
              "\n",
              "      <script>\n",
              "        const buttonEl =\n",
              "          document.querySelector('#df-f979b8aa-4da5-45b0-a543-3968422fa7a6 button.colab-df-convert');\n",
              "        buttonEl.style.display =\n",
              "          google.colab.kernel.accessAllowed ? 'block' : 'none';\n",
              "\n",
              "        async function convertToInteractive(key) {\n",
              "          const element = document.querySelector('#df-f979b8aa-4da5-45b0-a543-3968422fa7a6');\n",
              "          const dataTable =\n",
              "            await google.colab.kernel.invokeFunction('convertToInteractive',\n",
              "                                                     [key], {});\n",
              "          if (!dataTable) return;\n",
              "\n",
              "          const docLinkHtml = 'Like what you see? Visit the ' +\n",
              "            '<a target=\"_blank\" href=https://colab.research.google.com/notebooks/data_table.ipynb>data table notebook</a>'\n",
              "            + ' to learn more about interactive tables.';\n",
              "          element.innerHTML = '';\n",
              "          dataTable['output_type'] = 'display_data';\n",
              "          await google.colab.output.renderOutput(dataTable, element);\n",
              "          const docLink = document.createElement('div');\n",
              "          docLink.innerHTML = docLinkHtml;\n",
              "          element.appendChild(docLink);\n",
              "        }\n",
              "      </script>\n",
              "    </div>\n",
              "  </div>\n",
              "  "
            ]
          },
          "metadata": {},
          "execution_count": 3
        }
      ]
    },
    {
      "cell_type": "code",
      "source": [
        "df.columns"
      ],
      "metadata": {
        "colab": {
          "base_uri": "https://localhost:8080/"
        },
        "id": "x_yRA2favWb6",
        "outputId": "1f300a2d-55e0-4ce8-c813-10927242e805"
      },
      "execution_count": null,
      "outputs": [
        {
          "output_type": "execute_result",
          "data": {
            "text/plain": [
              "Index(['usage', 'emotion', 'histogram'], dtype='object')"
            ]
          },
          "metadata": {},
          "execution_count": 5
        }
      ]
    },
    {
      "cell_type": "code",
      "source": [
        "np.array(df.pixels[0].split(' ')).astype(float).shape"
      ],
      "metadata": {
        "id": "9MNs7x5LvsMb"
      },
      "execution_count": null,
      "outputs": []
    },
    {
      "cell_type": "code",
      "source": [
        "df.pixels = df.pixels.apply(lambda x: np.array(df.pixels[0].split(' ')).astype(float) )"
      ],
      "metadata": {
        "id": "I7znFiq-wGgK"
      },
      "execution_count": null,
      "outputs": []
    },
    {
      "cell_type": "code",
      "source": [
        "plt.imshow(df.pixels[0].reshape(48,48))"
      ],
      "metadata": {
        "colab": {
          "base_uri": "https://localhost:8080/",
          "height": 285
        },
        "id": "jQipMokmwQcc",
        "outputId": "3cfb5e11-8587-43ca-fd00-411e93b6c09d"
      },
      "execution_count": null,
      "outputs": [
        {
          "output_type": "execute_result",
          "data": {
            "text/plain": [
              "<matplotlib.image.AxesImage at 0x7fe1c5f5b210>"
            ]
          },
          "metadata": {},
          "execution_count": 18
        },
        {
          "output_type": "display_data",
          "data": {
            "text/plain": [
              "<Figure size 432x288 with 1 Axes>"
            ],
            "image/png": "[encoded data removed]"
          },
          "metadata": {
            "needs_background": "light"
          }
        }
      ]
    },
    {
      "cell_type": "code",
      "source": [
        "X = np.array(df['pixels'])\n",
        "y = np.array(df['emotion'])\n",
        "print(X.shape, y.shape)"
      ],
      "metadata": {
        "colab": {
          "base_uri": "https://localhost:8080/"
        },
        "id": "vJpPQdCAuBSW",
        "outputId": "fe9b38f8-5401-42f4-e358-5200e87f4280"
      },
      "execution_count": null,
      "outputs": [
        {
          "output_type": "stream",
          "name": "stdout",
          "text": [
            "(35328,) (35328,)\n"
          ]
        }
      ]
    },
    {
      "cell_type": "code",
      "source": [
        "X = np.stack(X, axis = 0)\n",
        "X = X.reshape(35328, 48*48)\n",
        "X.shape"
      ],
      "metadata": {
        "colab": {
          "base_uri": "https://localhost:8080/"
        },
        "id": "7tNmv7McuBXP",
        "outputId": "c898eeb3-b134-4d90-e5c1-cea9359cbe5d"
      },
      "execution_count": null,
      "outputs": [
        {
          "output_type": "execute_result",
          "data": {
            "text/plain": [
              "(35328, 2304)"
            ]
          },
          "metadata": {},
          "execution_count": 22
        }
      ]
    },
    {
      "cell_type": "code",
      "source": [
        "plt.imshow(X[0].reshape(48,48))"
      ],
      "metadata": {
        "colab": {
          "base_uri": "https://localhost:8080/",
          "height": 285
        },
        "id": "o7K44vchuBdR",
        "outputId": "8166327d-9608-43c6-ac53-8e3a4cfdd275"
      },
      "execution_count": null,
      "outputs": [
        {
          "output_type": "execute_result",
          "data": {
            "text/plain": [
              "<matplotlib.image.AxesImage at 0x7fe1c5f9dd50>"
            ]
          },
          "metadata": {},
          "execution_count": 23
        },
        {
          "output_type": "display_data",
          "data": {
            "text/plain": [
              "<Figure size 432x288 with 1 Axes>"
            ],
            "image/png": "[encoded data removed]"
          },
          "metadata": {
            "needs_background": "light"
          }
        }
      ]
    },
    {
      "cell_type": "code",
      "source": [
        "from sklearn.linear_model import SGDClassifier\n",
        "from sklearn.model_selection import train_test_split\n",
        "from sklearn.metrics import classification_report,accuracy_score"
      ],
      "metadata": {
        "id": "vbcsQ4dr6ciU"
      },
      "execution_count": null,
      "outputs": []
    },
    {
      "cell_type": "code",
      "source": [
        "# split the dataframe in to train, test and validation data frames\n",
        "X_train, X_Test, y_train, y_Test = train_test_split(X, y, test_size = 0.1, shuffle = True)"
      ],
      "metadata": {
        "id": "tnt-C06euBjn"
      },
      "execution_count": null,
      "outputs": []
    },
    {
      "cell_type": "code",
      "source": [
        "sgd_clf = SGDClassifier(random_state=42, max_iter=1000, tol=1e-3)\n",
        "sgd_clf.fit(X_train, y_train)"
      ],
      "metadata": {
        "colab": {
          "base_uri": "https://localhost:8080/"
        },
        "id": "RNMyLzkIuBnX",
        "outputId": "5764affe-b88e-432f-df3e-5148e52fe19f"
      },
      "execution_count": null,
      "outputs": [
        {
          "output_type": "execute_result",
          "data": {
            "text/plain": [
              "SGDClassifier(random_state=42)"
            ]
          },
          "metadata": {},
          "execution_count": 28
        }
      ]
    },
    {
      "cell_type": "code",
      "source": [
        "y_pred = sgd_clf.predict(X_Test)\n",
        "accuracy_score(y_Test, y_pred)"
      ],
      "metadata": {
        "id": "3RB2jds9uBsB"
      },
      "execution_count": null,
      "outputs": []
    },
    {
      "cell_type": "code",
      "source": [
        "accuracy_score(y_Test, y_pred)"
      ],
      "metadata": {
        "colab": {
          "base_uri": "https://localhost:8080/"
        },
        "id": "u66n-JoruB4h",
        "outputId": "28f07f01-50e1-43ef-9b77-dfaecd8c55a0"
      },
      "execution_count": null,
      "outputs": [
        {
          "output_type": "execute_result",
          "data": {
            "text/plain": [
              "0.13897537503538068"
            ]
          },
          "metadata": {},
          "execution_count": 31
        }
      ]
    },
    {
      "cell_type": "markdown",
      "source": [
        "# this section is for SIFT dat "
      ],
      "metadata": {
        "id": "WVlEzzDk2FhG"
      }
    },
    {
      "cell_type": "code",
      "source": [
        "#emotion_labels = {0:‘angry’, 2:‘fear’, 3:‘happy’, 4:‘sad’, 5:‘surprise’, 6:‘neutral’}\n",
        "df_sift = pd.read_csv('/content/sift_data.csv')\n",
        "print(df_sift.shape)\n",
        "df_sift.head(2)"
      ],
      "metadata": {
        "colab": {
          "base_uri": "https://localhost:8080/",
          "height": 130
        },
        "id": "wnh30eOiuCCq",
        "outputId": "c7b4da78-2223-4506-f413-7ff4d510f9a5"
      },
      "execution_count": null,
      "outputs": [
        {
          "output_type": "stream",
          "name": "stdout",
          "text": [
            "(35322, 3)\n"
          ]
        },
        {
          "output_type": "execute_result",
          "data": {
            "text/plain": [
              "   usage  emotion                                          histogram\n",
              "0  train        3  4 3 6 1 1 3 0 0 0 0 0 0 0 0 0 0 0 0 0 0 0 0 0 ...\n",
              "1  train        3  2 8 4 4 0 7 0 0 0 0 0 0 0 0 0 0 0 0 0 0 0 0 0 ..."
            ],
            "text/html": [
              "\n",
              "  <div id=\"df-007b0855-7a3d-4706-b6f3-a72ae00e826a\">\n",
              "    <div class=\"colab-df-container\">\n",
              "      <div>\n",
              "<style scoped>\n",
              "    .dataframe tbody tr th:only-of-type {\n",
              "        vertical-align: middle;\n",
              "    }\n",
              "\n",
              "    .dataframe tbody tr th {\n",
              "        vertical-align: top;\n",
              "    }\n",
              "\n",
              "    .dataframe thead th {\n",
              "        text-align: right;\n",
              "    }\n",
              "</style>\n",
              "<table border=\"1\" class=\"dataframe\">\n",
              "  <thead>\n",
              "    <tr style=\"text-align: right;\">\n",
              "      <th></th>\n",
              "      <th>usage</th>\n",
              "      <th>emotion</th>\n",
              "      <th>histogram</th>\n",
              "    </tr>\n",
              "  </thead>\n",
              "  <tbody>\n",
              "    <tr>\n",
              "      <th>0</th>\n",
              "      <td>train</td>\n",
              "      <td>3</td>\n",
              "      <td>4 3 6 1 1 3 0 0 0 0 0 0 0 0 0 0 0 0 0 0 0 0 0 ...</td>\n",
              "    </tr>\n",
              "    <tr>\n",
              "      <th>1</th>\n",
              "      <td>train</td>\n",
              "      <td>3</td>\n",
              "      <td>2 8 4 4 0 7 0 0 0 0 0 0 0 0 0 0 0 0 0 0 0 0 0 ...</td>\n",
              "    </tr>\n",
              "  </tbody>\n",
              "</table>\n",
              "</div>\n",
              "      <button class=\"colab-df-convert\" onclick=\"convertToInteractive('df-007b0855-7a3d-4706-b6f3-a72ae00e826a')\"\n",
              "              title=\"Convert this dataframe to an interactive table.\"\n",
              "              style=\"display:none;\">\n",
              "        \n",
              "  <svg xmlns=\"http://www.w3.org/2000/svg\" height=\"24px\"viewBox=\"0 0 24 24\"\n",
              "       width=\"24px\">\n",
              "    <path d=\"M0 0h24v24H0V0z\" fill=\"none\"/>\n",
              "    <path d=\"M18.56 5.44l.94 2.06.94-2.06 2.06-.94-2.06-.94-.94-2.06-.94 2.06-2.06.94zm-11 1L8.5 8.5l.94-2.06 2.06-.94-2.06-.94L8.5 2.5l-.94 2.06-2.06.94zm10 10l.94 2.06.94-2.06 2.06-.94-2.06-.94-.94-2.06-.94 2.06-2.06.94z\"/><path d=\"M17.41 7.96l-1.37-1.37c-.4-.4-.92-.59-1.43-.59-.52 0-1.04.2-1.43.59L10.3 9.45l-7.72 7.72c-.78.78-.78 2.05 0 2.83L4 21.41c.39.39.9.59 1.41.59.51 0 1.02-.2 1.41-.59l7.78-7.78 2.81-2.81c.8-.78.8-2.07 0-2.86zM5.41 20L4 18.59l7.72-7.72 1.47 1.35L5.41 20z\"/>\n",
              "  </svg>\n",
              "      </button>\n",
              "      \n",
              "  <style>\n",
              "    .colab-df-container {\n",
              "      display:flex;\n",
              "      flex-wrap:wrap;\n",
              "      gap: 12px;\n",
              "    }\n",
              "\n",
              "    .colab-df-convert {\n",
              "      background-color: #E8F0FE;\n",
              "      border: none;\n",
              "      border-radius: 50%;\n",
              "      cursor: pointer;\n",
              "      display: none;\n",
              "      fill: #1967D2;\n",
              "      height: 32px;\n",
              "      padding: 0 0 0 0;\n",
              "      width: 32px;\n",
              "    }\n",
              "\n",
              "    .colab-df-convert:hover {\n",
              "      background-color: #E2EBFA;\n",
              "      box-shadow: 0px 1px 2px rgba(60, 64, 67, 0.3), 0px 1px 3px 1px rgba(60, 64, 67, 0.15);\n",
              "      fill: #174EA6;\n",
              "    }\n",
              "\n",
              "    [theme=dark] .colab-df-convert {\n",
              "      background-color: #3B4455;\n",
              "      fill: #D2E3FC;\n",
              "    }\n",
              "\n",
              "    [theme=dark] .colab-df-convert:hover {\n",
              "      background-color: #434B5C;\n",
              "      box-shadow: 0px 1px 3px 1px rgba(0, 0, 0, 0.15);\n",
              "      filter: drop-shadow(0px 1px 2px rgba(0, 0, 0, 0.3));\n",
              "      fill: #FFFFFF;\n",
              "    }\n",
              "  </style>\n",
              "\n",
              "      <script>\n",
              "        const buttonEl =\n",
              "          document.querySelector('#df-007b0855-7a3d-4706-b6f3-a72ae00e826a button.colab-df-convert');\n",
              "        buttonEl.style.display =\n",
              "          google.colab.kernel.accessAllowed ? 'block' : 'none';\n",
              "\n",
              "        async function convertToInteractive(key) {\n",
              "          const element = document.querySelector('#df-007b0855-7a3d-4706-b6f3-a72ae00e826a');\n",
              "          const dataTable =\n",
              "            await google.colab.kernel.invokeFunction('convertToInteractive',\n",
              "                                                     [key], {});\n",
              "          if (!dataTable) return;\n",
              "\n",
              "          const docLinkHtml = 'Like what you see? Visit the ' +\n",
              "            '<a target=\"_blank\" href=https://colab.research.google.com/notebooks/data_table.ipynb>data table notebook</a>'\n",
              "            + ' to learn more about interactive tables.';\n",
              "          element.innerHTML = '';\n",
              "          dataTable['output_type'] = 'display_data';\n",
              "          await google.colab.output.renderOutput(dataTable, element);\n",
              "          const docLink = document.createElement('div');\n",
              "          docLink.innerHTML = docLinkHtml;\n",
              "          element.appendChild(docLink);\n",
              "        }\n",
              "      </script>\n",
              "    </div>\n",
              "  </div>\n",
              "  "
            ]
          },
          "metadata": {},
          "execution_count": 2
        }
      ]
    },
    {
      "cell_type": "code",
      "source": [
        "print('Columns: ', df_sift.columns)\n",
        "print('shape of df: ', df_sift.shape)\n",
        "print('unique emotion labels: ', df_sift.emotion.unique())\n",
        "print('data type for (emotion, data): ', type(df_sift.emotion[0]), type(df_sift.histogram[0]), len(df_sift.histogram[0]))"
      ],
      "metadata": {
        "colab": {
          "base_uri": "https://localhost:8080/"
        },
        "id": "JqMs3hIKuCHT",
        "outputId": "51d854aa-7aca-4994-c253-b74eb76c3d88"
      },
      "execution_count": null,
      "outputs": [
        {
          "output_type": "stream",
          "name": "stdout",
          "text": [
            "Columns:  Index(['usage', 'emotion', 'histogram'], dtype='object')\n",
            "shape of df:  (35322, 3)\n",
            "unique emotion labels:  [3 4 2 5 6 0]\n",
            "data type for (emotion, data):  <class 'numpy.int64'> <class 'str'> 57\n"
          ]
        }
      ]
    },
    {
      "cell_type": "code",
      "source": [
        "print('len of histogram: ',len(df_sift.histogram[0].split(' ')))\n",
        "print( 'value counts for each emotion: ','\\n', df_sift.emotion.value_counts())"
      ],
      "metadata": {
        "colab": {
          "base_uri": "https://localhost:8080/"
        },
        "id": "PQgRGfjouCS-",
        "outputId": "d2aea789-6904-4b1e-ce6f-ef1ca2f0517c"
      },
      "execution_count": null,
      "outputs": [
        {
          "output_type": "stream",
          "name": "stdout",
          "text": [
            "len of histogram:  29\n",
            "value counts for each emotion:  \n",
            " 3    8987\n",
            "6    6195\n",
            "4    6076\n",
            "2    5119\n",
            "0    4945\n",
            "5    4000\n",
            "Name: emotion, dtype: int64\n"
          ]
        }
      ]
    },
    {
      "cell_type": "code",
      "source": [
        "emotion_remap = {0:0, 2:1, 3:2, 4:3, 5:4, 6:5}\n",
        "print('data type for emotion: ',type(df_sift.emotion[0]))\n"
      ],
      "metadata": {
        "id": "w3MvGLRpP_Ud",
        "colab": {
          "base_uri": "https://localhost:8080/"
        },
        "outputId": "78f96777-8e14-4d83-9c2f-e97b52404cb4"
      },
      "execution_count": null,
      "outputs": [
        {
          "output_type": "stream",
          "name": "stdout",
          "text": [
            "data type for emotion:  <class 'numpy.int64'>\n"
          ]
        }
      ]
    },
    {
      "cell_type": "code",
      "source": [
        "#remapping each emotion to a new label\n",
        "df_sift.emotion = df_sift.emotion.apply(lambda x: emotion_remap[x])\n",
        "print( 'value counts for each emotion after remaping: ','\\n', sorted(df_sift.emotion.value_counts()))"
      ],
      "metadata": {
        "id": "qL6DRt4eP_ul",
        "colab": {
          "base_uri": "https://localhost:8080/"
        },
        "outputId": "3923bff4-eb93-441a-a672-e4deab29d273"
      },
      "execution_count": null,
      "outputs": [
        {
          "output_type": "stream",
          "name": "stdout",
          "text": [
            "value counts for each emotion after remaping:  \n",
            " [4000, 4945, 5119, 6076, 6195, 8987]\n"
          ]
        }
      ]
    },
    {
      "cell_type": "code",
      "source": [
        "#chikako's funciton \n",
        "def load_data(df, sift):\n",
        "    image_data = []\n",
        "    \n",
        "    for index, row in df.iterrows():\n",
        "        if sift == 1:\n",
        "            field = row.histogram\n",
        "        else:\n",
        "            field = row.pixels\n",
        "        image = np.fromstring(field, dtype=int, sep=' ')\n",
        "        #scale = np.fromstring(row.scaled_pixels, dtype=int, sep=' ')\n",
        "        #image = np.reshape(image, (48, 48))\n",
        "        image_data.append(image)\n",
        "        #image_scaled.append(scale)\n",
        "        \n",
        "    return image_data"
      ],
      "metadata": {
        "id": "X7Gxj53J2N5v"
      },
      "execution_count": null,
      "outputs": []
    },
    {
      "cell_type": "code",
      "source": [
        "df_train = df_sift[df_sift['usage']=='train']\n",
        "df_test = df_sift[df_sift['usage']=='test']\n",
        "train_data = load_data(df_train, 1)\n",
        "train_target = list(df_train.emotion)\n",
        "test_data = load_data(df_test, 1)\n",
        "test_target = list(df_test.emotion)"
      ],
      "metadata": {
        "id": "kwiJNpqd2N9H"
      },
      "execution_count": null,
      "outputs": []
    },
    {
      "cell_type": "code",
      "source": [
        "X_train = np.array(train_data)\n",
        "y_train = np.array(train_target)\n",
        "X_test = np.array(test_data)\n",
        "y_test = np.array(test_target)\n",
        "print('shape of each data set: \\n(X_train, y_train, X_test ,y_test)\\n', \n",
        "      X_train.shape,y_train.shape,X_test.shape,y_test.shape)\n"
      ],
      "metadata": {
        "id": "qZh9ZwUh2OAs",
        "colab": {
          "base_uri": "https://localhost:8080/"
        },
        "outputId": "f892c53b-d83c-4145-a2fc-85fb4d0eea74"
      },
      "execution_count": null,
      "outputs": [
        {
          "output_type": "stream",
          "name": "stdout",
          "text": [
            "shape of each data set: \n",
            "(X_train, y_train, X_test ,y_test)\n",
            " (28257, 29) (28257,) (7065, 29) (7065,)\n"
          ]
        }
      ]
    },
    {
      "cell_type": "code",
      "source": [
        "import math\n",
        "import numpy as np\n",
        "import pandas as pd\n",
        "import seaborn as sns\n",
        "import matplotlib.pyplot as plt\n",
        "\n",
        "from sklearn.model_selection import train_test_split\n",
        "from sklearn.pipeline import make_pipeline\n",
        "from sklearn.preprocessing import MinMaxScaler\n",
        "from sklearn.model_selection import GridSearchCV\n",
        "from sklearn.svm import SVC\n",
        "\n",
        "from sklearn.metrics import confusion_matrix\n",
        "from sklearn.model_selection import learning_curve\n",
        "from sklearn.model_selection import validation_curve\n",
        "from sklearn.metrics import confusion_matrix\n",
        "from sklearn.metrics import precision_score, recall_score, f1_score, accuracy_score, classification_report\n",
        "from sklearn.metrics import roc_curve, auc"
      ],
      "metadata": {
        "id": "7ummZDh-6Qay"
      },
      "execution_count": null,
      "outputs": []
    },
    {
      "cell_type": "code",
      "source": [
        "#running basic SVC\n",
        "svm = SVC(C=5, random_state=1, kernel='rbf', gamma=0.01)\n",
        "svm.fit(X_train, y_train)\n",
        "y_pred2 = svm.predict(X_test)\n",
        "print('Test Accuracy: %.3f' % svm.score(X_test, y_test))\n",
        "y_test2 = y_test"
      ],
      "metadata": {
        "colab": {
          "base_uri": "https://localhost:8080/"
        },
        "id": "5ounNITBuCWr",
        "outputId": "22b78a5a-c191-4d6d-c4ee-7dc9701fc4a2"
      },
      "execution_count": null,
      "outputs": [
        {
          "output_type": "stream",
          "name": "stdout",
          "text": [
            "Test Accuracy: 0.251\n"
          ]
        }
      ]
    },
    {
      "cell_type": "code",
      "source": [
        "from sklearn.linear_model import SGDClassifier\n",
        "from sklearn.model_selection import train_test_split\n",
        "from sklearn.metrics import classification_report,accuracy_score"
      ],
      "metadata": {
        "id": "OIxgzN5BuCaM"
      },
      "execution_count": null,
      "outputs": []
    },
    {
      "cell_type": "code",
      "source": [
        "#Basic SGDClassifier\n",
        "sgd_clf = SGDClassifier(random_state=42, max_iter=1000, tol=1e-3)\n",
        "sgd_clf.fit(X_train, y_train)\n",
        "y_pred = sgd_clf.predict(X_test)\n",
        "accuracy_score(y_test, y_pred)"
      ],
      "metadata": {
        "colab": {
          "base_uri": "https://localhost:8080/"
        },
        "id": "bN0TvUSj6gWH",
        "outputId": "86769a56-1881-49d8-d3e9-9e4b3f27fc21"
      },
      "execution_count": null,
      "outputs": [
        {
          "output_type": "execute_result",
          "data": {
            "text/plain": [
              "SGDClassifier(random_state=42)"
            ]
          },
          "metadata": {},
          "execution_count": 33
        }
      ]
    },
    {
      "cell_type": "code",
      "source": [
        ""
      ],
      "metadata": {
        "colab": {
          "base_uri": "https://localhost:8080/"
        },
        "id": "NW43LVyZ6g78",
        "outputId": "4302ca6c-4bd9-46aa-b399-9802ddc786b0"
      },
      "execution_count": null,
      "outputs": [
        {
          "output_type": "execute_result",
          "data": {
            "text/plain": [
              "0.2251946213729653"
            ]
          },
          "metadata": {},
          "execution_count": 37
        }
      ]
    },
    {
      "cell_type": "code",
      "source": [
        "from sklearn.model_selection import cross_val_score\n",
        "from sklearn.model_selection import GridSearchCV\n",
        "from sklearn.pipeline import make_pipeline\n",
        "from sklearn.linear_model import SGDClassifier \n",
        "from sklearn.model_selection import RandomizedSearchCV "
      ],
      "metadata": {
        "id": "hw7jHrNZNTYI"
      },
      "execution_count": null,
      "outputs": []
    },
    {
      "cell_type": "code",
      "source": [
        "sgd = SGDClassifier(loss=\"hinge\", penalty=\"l2\", max_iter=5) "
      ],
      "metadata": {
        "id": "7TavTzI8Rsis"
      },
      "execution_count": null,
      "outputs": []
    },
    {
      "cell_type": "code",
      "source": [
        "cross_val_score(sgd, X_train, y_train, cv=3, scoring=\"accuracy\")"
      ],
      "metadata": {
        "colab": {
          "base_uri": "https://localhost:8080/"
        },
        "id": "9_uEFJLyNUXb",
        "outputId": "ecc0a0f3-8bbc-47bf-f29e-d8edd3c3c3e4"
      },
      "execution_count": null,
      "outputs": [
        {
          "output_type": "stream",
          "name": "stderr",
          "text": [
            "/usr/local/lib/python3.7/dist-packages/sklearn/linear_model/_stochastic_gradient.py:700: ConvergenceWarning: Maximum number of iteration reached before convergence. Consider increasing max_iter to improve the fit.\n",
            "  ConvergenceWarning,\n",
            "/usr/local/lib/python3.7/dist-packages/sklearn/linear_model/_stochastic_gradient.py:700: ConvergenceWarning: Maximum number of iteration reached before convergence. Consider increasing max_iter to improve the fit.\n",
            "  ConvergenceWarning,\n",
            "/usr/local/lib/python3.7/dist-packages/sklearn/linear_model/_stochastic_gradient.py:700: ConvergenceWarning: Maximum number of iteration reached before convergence. Consider increasing max_iter to improve the fit.\n",
            "  ConvergenceWarning,\n"
          ]
        },
        {
          "output_type": "execute_result",
          "data": {
            "text/plain": [
              "array([0.1692324 , 0.20660367, 0.14555685])"
            ]
          },
          "metadata": {},
          "execution_count": 27
        }
      ]
    },
    {
      "cell_type": "code",
      "source": [
        "loss = ['hinge', 'log', 'modified_huber', 'squared_hinge',\n",
        "        'perceptron'] \n",
        "penalty = ['l1', 'l2', 'elasticnet']\n",
        "\n",
        "alpha = [0.0001, 0.001, 0.01, 0.1, 1, 10, 100, 1000]\n",
        "\n",
        "learning_rate = ['constant', 'optimal', 'invscaling', 'adaptive']\n",
        "\n",
        "class_weight = [{1:0.5, 0:0.5}, {1:0.4, 0:0.6}, {1:0.6, 0:0.4}, {1:0.7, 0:0.3}] \n",
        "\n",
        "eta0 = [1, 10, 100] \n",
        "\n",
        "param_distributions = dict(loss=loss,penalty=penalty, alpha=alpha,learning_rate=learning_rate,\n",
        "                           class_weight=class_weight, eta0=eta0)\n"
      ],
      "metadata": {
        "id": "bkmzn1OzNhCx"
      },
      "execution_count": null,
      "outputs": []
    },
    {
      "cell_type": "code",
      "source": [
        "# sgd = SGDClassifier(loss=\"hinge\", penalty=\"l2\", max_iter=5) \n",
        "\n",
        "random = RandomizedSearchCV(estimator=sgd,\n",
        "                            param_distributions=param_distributions, \n",
        "                            scoring='roc_auc', \n",
        "                            verbose=1, n_jobs=-1, \n",
        "                            n_iter=1000) "
      ],
      "metadata": {
        "id": "C1iGkPDmOK3N"
      },
      "execution_count": null,
      "outputs": []
    },
    {
      "cell_type": "code",
      "source": [
        "random_result = random.fit(X_train, y_train) "
      ],
      "metadata": {
        "id": "oFr4JATROK_9"
      },
      "execution_count": null,
      "outputs": []
    },
    {
      "cell_type": "code",
      "source": [
        "X_train.shape,y_train.shape,X_test.shape,y_test.shape)"
      ],
      "metadata": {
        "id": "3S7WQk_0ZbYk"
      },
      "execution_count": null,
      "outputs": []
    },
    {
      "cell_type": "code",
      "source": [
        "from sklearn.ensemble import RandomForestClassifier\n",
        "from sklearn.model_selection import KFold\n",
        "model = RandomForestClassifier(n_estimators=50,max_features='auto',random_state=101, n_jobs=-1)\n",
        "model.fit(X_train,y_train)\n",
        "model_pred = model.predict(X_test)\n",
        "accuracy_score(model_pred,y_test)"
      ],
      "metadata": {
        "colab": {
          "base_uri": "https://localhost:8080/"
        },
        "id": "zIWnmsEaZbbn",
        "outputId": "f7b884a2-73d9-48fb-f2d4-40f08942283d"
      },
      "execution_count": null,
      "outputs": [
        {
          "output_type": "execute_result",
          "data": {
            "text/plain": [
              "0.2005661712668082"
            ]
          },
          "metadata": {},
          "execution_count": 32
        }
      ]
    },
    {
      "cell_type": "code",
      "source": [
        "pip install parfit"
      ],
      "metadata": {
        "id": "Z0oA8lraOLGJ"
      },
      "execution_count": null,
      "outputs": []
    },
    {
      "cell_type": "code",
      "source": [
        "from sklearn.model_selection import ParameterGrid\n",
        "from sklearn.linear_model import SGDClassifier\n",
        "from sklearn.metrics import roc_auc_score\n",
        "import parfit.parfit as pf\n",
        "from sklearn.pipeline import Pipeline\n",
        "from sklearn import svm\n",
        "from sklearn.model_selection import GridSearchCV"
      ],
      "metadata": {
        "id": "rQ1YNY-POLNW"
      },
      "execution_count": null,
      "outputs": []
    },
    {
      "cell_type": "code",
      "source": [
        "from sklearn.model_selection import train_test_split\n",
        "# X_train.shape,y_train.shape,X_test.shape,y_test.shape)\n",
        "# X_train, X_Test, y_train, y_Test = train_test_split(X, y, test_size = 0.1, shuffle = True)\n",
        "X_val, X_Test, y_val, y_Test = train_test_split(X_test, y_test, test_size = 0.5, shuffle = True)"
      ],
      "metadata": {
        "id": "IzgHI4gigWUV"
      },
      "execution_count": null,
      "outputs": []
    },
    {
      "cell_type": "code",
      "source": [
        "\n",
        "\n",
        "grid = {\n",
        "    'alpha': [1e-4, 1e-3, 1e-2, 1e-1, 1e0, 1e1, 1e2, 1e3], # learning rate\n",
        "    #'n_iter': [1000], # number of epochs\n",
        "    'loss': ['log'], # logistic regression,\n",
        "    'penalty': ['l2'],\n",
        "    'n_jobs': [-1]\n",
        "}\n",
        "paramGrid = ParameterGrid(grid)\n",
        "\n",
        "bestModel, bestScore, allModels, allScores = pf.bestFit(SGDClassifier, paramGrid,\n",
        "                                                        X_train, y_train, X_val, y_val,\n",
        "                                                        metric = roc_auc_score,\n",
        "                                                        scoreLabel = \"AUC\")\n",
        "\n",
        "print(bestModel, bestScore)"
      ],
      "metadata": {
        "id": "EXJ3sJSmNUdj"
      },
      "execution_count": null,
      "outputs": []
    },
    {
      "cell_type": "code",
      "source": [
        "print('shape of each data set: \\n(X_train, y_train, X_test ,y_test)\\n', \n",
        "      X_train.shape,y_train.shape,X_test.shape,X_test.shape)\n"
      ],
      "metadata": {
        "id": "c8GjWEpfNUkD",
        "colab": {
          "base_uri": "https://localhost:8080/"
        },
        "outputId": "f86694da-bbc4-41dd-e432-6890f94fe8d9"
      },
      "execution_count": null,
      "outputs": [
        {
          "output_type": "stream",
          "name": "stdout",
          "text": [
            "shape of each data set: \n",
            "(X_train, y_train, X_test ,y_test)\n",
            " (28257, 29) (28257,) (7065, 29) (7065,)\n"
          ]
        }
      ]
    },
    {
      "cell_type": "code",
      "source": [
        "\n",
        "parameters = {'penalty': ['l2', None],\n",
        "              'alpha': [1e-07, 1e-06, 1e-05, 1e-04],\n",
        "              'eta0': [0.01, 0.1, 1, 10]}\n",
        "sgd_lr = SGDClassifier(loss='log', learning_rate='constant', \n",
        "                      eta0=0.01, fit_intercept=True, max_iter=50)\n",
        "grid_search = GridSearchCV(sgd_lr, parameters, \n",
        "                           n_jobs=-1, cv=3)\n",
        "\n",
        "grid_search.fit(X_train, y_train)\n",
        "print(grid_search.best_params_)\n"
      ],
      "metadata": {
        "id": "lDcxTSQI6g_s",
        "colab": {
          "base_uri": "https://localhost:8080/"
        },
        "outputId": "c8a166e9-11e5-44e2-8b6f-4f9976e73f03"
      },
      "execution_count": null,
      "outputs": [
        {
          "output_type": "stream",
          "name": "stdout",
          "text": [
            "{'alpha': 1e-05, 'eta0': 0.01, 'penalty': 'l2'}\n"
          ]
        }
      ]
    },
    {
      "cell_type": "code",
      "source": [
        "sgd_lr_best = grid_search.best_estimator_\n",
        "accuracy = sgd_lr_best.score(X_test , y_test)\n",
        "\n",
        "print('The accuracy on testing set is: {0:.1f}%'.format(accuracy*100))"
      ],
      "metadata": {
        "colab": {
          "base_uri": "https://localhost:8080/"
        },
        "id": "GHMtEW--Fefc",
        "outputId": "f5325fad-e938-489d-87e4-4a40f975af23"
      },
      "execution_count": null,
      "outputs": [
        {
          "output_type": "stream",
          "name": "stdout",
          "text": [
            "The accuracy on testing set is: 14.2%\n"
          ]
        }
      ]
    },
    {
      "cell_type": "code",
      "source": [
        ""
      ],
      "metadata": {
        "id": "vnJ3fBmZEU3X"
      },
      "execution_count": null,
      "outputs": []
    },
    {
      "cell_type": "code",
      "source": [
        "params = {\n",
        "    \"loss\" : [\"hinge\", \"log\", \"squared_hinge\", \"modified_huber\"],\n",
        "    \"alpha\" : [0.0001, 0.001, 0.01, 0.1],\n",
        "    \"penalty\" : [\"l2\", \"l1\", \"none\"],\n",
        "}\n",
        "\n",
        "model = SGDClassifier(max_iter=5000)\n",
        "clf = GridSearchCV(model, param_grid=params)"
      ],
      "metadata": {
        "id": "GNc4ZLssI0dV"
      },
      "execution_count": null,
      "outputs": []
    },
    {
      "cell_type": "code",
      "source": [
        "clf.fit(X_train, y_train)\n",
        "print(clf.best_score_)"
      ],
      "metadata": {
        "id": "ROmYdC7gJBEs",
        "colab": {
          "base_uri": "https://localhost:8080/"
        },
        "outputId": "5fcb2a6d-0502-4438-b5d4-c228dad17b10"
      },
      "execution_count": null,
      "outputs": [
        {
          "output_type": "stream",
          "name": "stdout",
          "text": [
            "0.255299571201159\n"
          ]
        }
      ]
    },
    {
      "cell_type": "code",
      "source": [
        "sgd_lr_best = clf.best_estimator_\n",
        "accuracy = sgd_lr_best.score(X_test , X_test)\n",
        "\n",
        "print('The accuracy on testing set is: {0:.1f}%'.format(accuracy*100))"
      ],
      "metadata": {
        "id": "SqUjmuNvOnHl"
      },
      "execution_count": null,
      "outputs": []
    },
    {
      "cell_type": "code",
      "source": [
        "print(grid_search.best_params_)"
      ],
      "metadata": {
        "colab": {
          "base_uri": "https://localhost:8080/"
        },
        "id": "X3n8BoyPJL2E",
        "outputId": "678649e1-77fa-451f-c24c-7546f7664563"
      },
      "execution_count": null,
      "outputs": [
        {
          "output_type": "stream",
          "name": "stdout",
          "text": [
            "{'alpha': 1e-05, 'eta0': 0.01, 'penalty': 'l2'}\n"
          ]
        }
      ]
    },
    {
      "cell_type": "code",
      "source": [
        "clf.best_estimator_"
      ],
      "metadata": {
        "colab": {
          "base_uri": "https://localhost:8080/"
        },
        "id": "WAQCl8LeYRcV",
        "outputId": "b8322860-7180-4516-bfd7-c06a50c44c8f"
      },
      "execution_count": null,
      "outputs": [
        {
          "output_type": "execute_result",
          "data": {
            "text/plain": [
              "SGDClassifier(alpha=0.1, loss='log', max_iter=5000, penalty='l1')"
            ]
          },
          "metadata": {},
          "execution_count": 28
        }
      ]
    },
    {
      "cell_type": "code",
      "source": [
        "#Basic SGDClassifier\n",
        "# X_train.shape,y_train.shape,X_test.shape,X_test.shape)\n",
        "sgd_clf = SGDClassifier(random_state=42, alpha=0.1, loss='log', max_iter=5000, penalty='l1', tol=1e-3)\n",
        "sgd_clf.fit(X_train, y_train)\n",
        "y_pred = sgd_clf.predict(X_test)\n",
        "accuracy_score(y_test, y_pred)"
      ],
      "metadata": {
        "colab": {
          "base_uri": "https://localhost:8080/"
        },
        "id": "dxOSgSgjZAlZ",
        "outputId": "d021bce6-f95c-4a91-b8aa-b0ed823af414"
      },
      "execution_count": null,
      "outputs": [
        {
          "output_type": "execute_result",
          "data": {
            "text/plain": [
              "0.25095541401273885"
            ]
          },
          "metadata": {},
          "execution_count": 23
        }
      ]
    },
    {
      "cell_type": "code",
      "source": [
        "y_pred = clf.predict(X_test)"
      ],
      "metadata": {
        "id": "zxPhbEIQZAo3"
      },
      "execution_count": null,
      "outputs": []
    },
    {
      "cell_type": "code",
      "source": [
        "accuracy_score(y_test, y_pred)"
      ],
      "metadata": {
        "id": "xcUeu4RmZAsS",
        "colab": {
          "base_uri": "https://localhost:8080/"
        },
        "outputId": "9d41c252-105a-42e2-dea3-bace53529806"
      },
      "execution_count": null,
      "outputs": [
        {
          "output_type": "execute_result",
          "data": {
            "text/plain": [
              "0.25095541401273885"
            ]
          },
          "metadata": {},
          "execution_count": 27
        }
      ]
    },
    {
      "cell_type": "code",
      "source": [
        "print(classification_report(y_test, y_pred, target_names=target_names))\n",
        "ConfusionMatrixDisplay.from_estimator(\n",
        "    clf, X_test_pca, y_test, display_labels=target_names, xticks_rotation=\"vertical\"\n",
        ")\n",
        "plt.tight_layout()\n",
        "plt.show()"
      ],
      "metadata": {
        "id": "9Csjd5v-ZAvZ"
      },
      "execution_count": null,
      "outputs": []
    },
    {
      "cell_type": "code",
      "source": [
        "grid_search"
      ],
      "metadata": {
        "id": "dGdsRn4QZAy6"
      },
      "execution_count": null,
      "outputs": []
    },
    {
      "cell_type": "code",
      "source": [
        "print(pd.DataFrame(confusion_matrix(y_test, y_pred),\n",
        "                 columns=['pred_neg', 'pred_pos'], index=['neg', 'pos']))"
      ],
      "metadata": {
        "id": "DP4l4C4sOao2"
      },
      "execution_count": null,
      "outputs": []
    },
    {
      "cell_type": "code",
      "source": [
        "import sys\n",
        "import io\n",
        "import matplotlib.pyplot as plt\n",
        "\n",
        "class DisplayLossCurve(object):\n",
        "  def __init__(self, print_loss=False):\n",
        "    self.print_loss = print_loss\n",
        "\n",
        "  \"\"\"Make sure the model verbose is set to 1\"\"\"\n",
        "  def __enter__(self):\n",
        "    self.old_stdout = sys.stdout\n",
        "    sys.stdout = self.mystdout = io.StringIO()\n",
        "  \n",
        "  def __exit__(self, *args, **kwargs):\n",
        "    sys.stdout = self.old_stdout\n",
        "    loss_history = self.mystdout.getvalue()\n",
        "    loss_list = []\n",
        "    for line in loss_history.split('\\n'):\n",
        "      if(len(line.split(\"loss: \")) == 1):\n",
        "        continue\n",
        "      loss_list.append(float(line.split(\"loss: \")[-1]))\n",
        "    plt.figure()\n",
        "    plt.plot(np.arange(len(loss_list)), loss_list)\n",
        "    plt.xlabel(\"Epoch\")\n",
        "    plt.ylabel(\"Loss\")\n",
        "\n",
        "    if self.print_loss:\n",
        "      print(\"=============== Loss Array ===============\")\n",
        "      print(np.array(loss_list))\n",
        "      \n",
        "    return True"
      ],
      "metadata": {
        "id": "3uQTQr_2IPpr"
      },
      "execution_count": null,
      "outputs": []
    },
    {
      "cell_type": "code",
      "source": [
        "random = GridSearchCV(estimator=sgd, param_distributions,\n",
        "                            scoring='roc_auc', \n",
        "                            verbose=1, n_jobs=-1, \n",
        "                            n_iter=1000) "
      ],
      "metadata": {
        "id": "DKZnDkQZEVBm"
      },
      "execution_count": null,
      "outputs": []
    },
    {
      "cell_type": "code",
      "source": [
        "paramGrid = ParameterGrid(grid)\n",
        "\n",
        "bestModel, bestScore, allModels, allScores = pf.bestFit(SGDClassifier, random,\n",
        "                                                        X_train, y_train, X_val, y_val,\n",
        "                                                        metric = roc_auc_score,\n",
        "                                                        scoreLabel = \"AUC\")\n",
        "\n",
        "print(bestModel, bestScore)"
      ],
      "metadata": {
        "id": "y0u4N4HwEVDM"
      },
      "execution_count": null,
      "outputs": []
    },
    {
      "cell_type": "code",
      "source": [
        ""
      ],
      "metadata": {
        "id": "G7OGDZ4QEVFC"
      },
      "execution_count": null,
      "outputs": []
    },
    {
      "cell_type": "code",
      "source": [
        ""
      ],
      "metadata": {
        "id": "YzBQkNd0SDXZ"
      },
      "execution_count": null,
      "outputs": []
    }
  ]
}